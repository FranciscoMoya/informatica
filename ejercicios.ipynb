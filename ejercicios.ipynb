{
  "nbformat": 4,
  "nbformat_minor": 0,
  "metadata": {
    "kernelspec": {
      "name": "python3",
      "display_name": "Python 3",
      "language": "python"
    },
    "language_info": {
      "mimetype": "text/x-python",
      "nbconvert_exporter": "python",
      "name": "python",
      "pygments_lexer": "ipython3",
      "version": "3.5.4",
      "file_extension": ".py",
      "codemirror_mode": {
        "version": 3,
        "name": "ipython"
      }
    },
    "colab": {
      "name": "ejercicios.ipynb",
      "provenance": [],
      "collapsed_sections": [],
      "include_colab_link": true
    }
  },
  "cells": [
    {
      "cell_type": "markdown",
      "metadata": {
        "id": "view-in-github",
        "colab_type": "text"
      },
      "source": [
        "<a href=\"https://colab.research.google.com/github/FranciscoMoya/informatica/blob/master/ejercicios.ipynb\" target=\"_parent\"><img src=\"https://colab.research.google.com/assets/colab-badge.svg\" alt=\"Open In Colab\"/></a>"
      ]
    },
    {
      "cell_type": "markdown",
      "metadata": {
        "id": "EGKZHM-79r4d"
      },
      "source": [
        "# Ejercicios simples\n",
        "\n",
        "Algunos alumnos me han pedido más ejercicios similares a los que aparecerán en el examen.  Hay muchos sitios para conseguir ejercicios de ese estilo. A mi me gustan bastante [CodeWars](http://www.codewars.com). Últimamente me estoy aficionando bastante a los Kata de *CodeWars* porque me parecen bastante bien escritos y una fuente inagotable de buenos programas en Python.  Os pongo unos cuantos en este cuaderno.  Otros que merece la pena explorar son [CodinGame](https://codingame.com) y [CodeChef](https://codechef.com).\n",
        "\n",
        "Un examen puede tener cuatro o cinco ejercicios como estos.  Tal vez menos si el ejercicio es un poco más complicado.\n",
        "\n",
        "## Coordenadas geográficas\n",
        "\n",
        "Dadas unas coordenadas de latitud y longitud representarlas en grados, minutos y segundos."
      ]
    },
    {
      "cell_type": "code",
      "metadata": {
        "trusted": false,
        "id": "ApaY2YpU9r4h"
      },
      "source": [
        "def imprimir_coord(latitud, longitud):\n",
        "    hemi = 'N' if latitud >= 0 else 'S' \n",
        "    g,m,s = coord_a_grados_min_seg(abs(latitud))\n",
        "    print('Latitud {}º {}\\' {}\" {}'.format(g,m,s,hemi))\n",
        "    hemi = 'W' if longitud >= 0 else 'E' \n",
        "    g,m,s = coord_a_grados_min_seg(abs(longitud))\n",
        "    print('Longitud {}º {}\\' {}\" {}'.format(g,m,s,hemi))\n",
        "    \n",
        "def coord_a_grados_min_seg(v):\n",
        "    grados = int(v)\n",
        "    v = v - grados\n",
        "    v *= 60\n",
        "    minutos = int(v)\n",
        "    v = v - minutos\n",
        "    v *= 60\n",
        "    segundos = int(v)\n",
        "    return grados, minutos, segundos"
      ],
      "execution_count": null,
      "outputs": []
    },
    {
      "cell_type": "code",
      "metadata": {
        "trusted": false,
        "id": "wfJsAQZ-9r4t",
        "outputId": "7fe412f3-0fc7-4c6e-8d03-57efa1bf0605"
      },
      "source": [
        "imprimir_coord(40.76, 10.15)"
      ],
      "execution_count": null,
      "outputs": [
        {
          "output_type": "stream",
          "text": [
            "Latitud 40º 45' 35\" N\n",
            "Longitud 10º 9' 0\" W\n"
          ],
          "name": "stdout"
        }
      ]
    },
    {
      "cell_type": "markdown",
      "metadata": {
        "id": "EortEXr59r45"
      },
      "source": [
        "La única cosa destacable es la forma en la que se devuelven múltiples valores de una función y cómo se introduce una comilla en una cadena delimitada por comilla simple."
      ]
    },
    {
      "cell_type": "markdown",
      "metadata": {
        "id": "Xu9F1Doy9r47"
      },
      "source": [
        "## Reproducción de insectos\n",
        "\n",
        "Solución al reto [645](https://web.archive.org/web/20171103193836/http://www.solveet.com/exercises/java/645) de Solveet!, otro sitio de katas que desapareció hace algún tiempo.\n",
        "\n",
        "> Un estudiante de biologia esta realizando un experimento con unos insectos que se descubrieron en una expedición al centro de la selva amazonica, estos insectos son muy coloridos y les encanta comer hojas secas, siendo las de eucalipto sus favoritas.\n",
        "\n",
        "> Además nota que estos insectos colocan 3 huevos cada 2 días, de cada huevo como es de esperar sale un nuevo insecto a los dos días de haber sido colocado y estos insectos solo viven por 5 días.\n",
        "\n",
        "> El estudiante teme que los insectos se apoderen de los ambientes donde estan siendo estudiados, puesto que el sabe que solo tiene una capacidad limitada de espacio para ellos, te pide que le ayudes a determinar en cuantos días la población de insectos llegara a superar la capacidad con la que cuenta. Para ello el te dira con cuantos insectos cuenta en un determinado momento y hasta cuantos insectos puede manejar."
      ]
    },
    {
      "cell_type": "markdown",
      "metadata": {
        "id": "WCWN7CZU9r49"
      },
      "source": [
        "La forma más sencilla, que no requiere análisis detallado es simular la evolución de la población.  Para eso tenemos que simular el nacimiento, la muerte, la puesta y la eclosión.\n",
        "\n",
        "Hay infinidad de maneras de modelar los datos asociados.  Nosotros hemos utilizado para los insectos tuplas *(num_insectos, dias_sin_poner_huevos, dias_vida)*.  Estas ternas se van actualizando conforme evoluciona el sistema.  Para los huevos usamos tuplas *(huevos, dias_desde_puesta)* que también se actualizan cada día.\n",
        "\n",
        "Por tanto usamos tres variables para almacenar el estado: `insectos` con la población total de insectos, `huevos` con el inventario total de huevos, y `dia` para mantener el día actual.  Sería normal usar listas para las dos primeras, pero vamos a hacerlo con tuplas para ilustrar cómo podemos evitar manipulaciones imprevistas."
      ]
    },
    {
      "cell_type": "code",
      "metadata": {
        "trusted": false,
        "id": "gQUMtHGm9r4_"
      },
      "source": [
        "def dias(inicial, final):\n",
        "  insectos = ((inicial, 0, 0),)\n",
        "  huevos = tuple()\n",
        "  dia = 0\n",
        "  while True:\n",
        "    insectos, huevos = poblacion_dia_siguiente(insectos, huevos)\n",
        "    if total_insectos(insectos) > final:\n",
        "      return dia\n",
        "    dia += 1\n",
        "    print (f'DIA {dia} --------------\\n insectos: {insectos}\\n huevos: {huevos}')"
      ],
      "execution_count": 1,
      "outputs": []
    },
    {
      "cell_type": "markdown",
      "metadata": {
        "id": "swd2JKGK9r5F"
      },
      "source": [
        "La simulación es sencilla, lo más complejo es calcular la población del día siguiente.  Empezaremos por contabilizar la población total de insectos con la función `total_insectos`."
      ]
    },
    {
      "cell_type": "code",
      "metadata": {
        "trusted": false,
        "id": "2_QWL0wj9r5G"
      },
      "source": [
        "def total_insectos(insectos):\n",
        "  suma = 0\n",
        "  for x in insectos:\n",
        "    suma += x[0]\n",
        "  return suma"
      ],
      "execution_count": 2,
      "outputs": []
    },
    {
      "cell_type": "markdown",
      "metadata": {
        "id": "-_fgait7DrOh"
      },
      "source": [
        "En Python es mucho más simple usar una expresión generadora.  Las veremos más adelante con más detalle pero ya puedes ir acostumbrándote a ellas."
      ]
    },
    {
      "cell_type": "code",
      "metadata": {
        "trusted": false,
        "id": "mW9ZfuUPDhEY"
      },
      "source": [
        "def total_insectos(insectos):\n",
        "    return sum(x[0] for x in insectos)"
      ],
      "execution_count": null,
      "outputs": []
    },
    {
      "cell_type": "markdown",
      "metadata": {
        "id": "vOL7rec09r5M"
      },
      "source": [
        "La población del día siguiente tiene que tener en cuenta todos los procesos que indica el enunciado.  En primer lugar hay que incrementar el número de días que llevan los insectos sin poner huevos y de vida total, y los días que llevan los huevos sin eclosionar. Luego tratamos la muerte de los insectos viejos, la puesta de huevos, y la eclosión."
      ]
    },
    {
      "cell_type": "code",
      "metadata": {
        "trusted": false,
        "id": "utCb0ZTk9r5O"
      },
      "source": [
        "def poblacion_dia_siguiente(insectos, huevos):\n",
        "    insectos, huevos = incrementar_dia(insectos, huevos)\n",
        "    insectos = matar_viejos(insectos)\n",
        "    insectos, huevos = poner_huevos(insectos, huevos)\n",
        "    insectos, huevos = eclosionar_huevos(insectos, huevos)\n",
        "    return insectos, huevos"
      ],
      "execution_count": null,
      "outputs": []
    },
    {
      "cell_type": "markdown",
      "metadata": {
        "id": "CG4c4SIm9r5U"
      },
      "source": [
        "Incrementar el día implica construir nuevas tuplas con los campos correspondientes a días incrementados en una unidad."
      ]
    },
    {
      "cell_type": "code",
      "metadata": {
        "trusted": false,
        "id": "O1_MIrDP9r5V"
      },
      "source": [
        "def incrementar_dia(insectos, huevos):\n",
        "    return  tuple( (x[0], x[1]+1, x[2]+1) for x in insectos ), \\\n",
        "            tuple( (x[0], x[1]+1) for x in huevos )"
      ],
      "execution_count": null,
      "outputs": []
    },
    {
      "cell_type": "markdown",
      "metadata": {
        "id": "tAYmK-nM9r5b"
      },
      "source": [
        "Los insectos que cumplan 5 días ya no deben figurar en la lista."
      ]
    },
    {
      "cell_type": "code",
      "metadata": {
        "trusted": false,
        "id": "wGfHlQv19r5c"
      },
      "source": [
        "def matar_viejos(insectos):\n",
        "    return tuple( x for x in insectos if x[2] <= 5 )"
      ],
      "execution_count": null,
      "outputs": []
    },
    {
      "cell_type": "markdown",
      "metadata": {
        "id": "jg-6VlFN9r5i"
      },
      "source": [
        "Poner huevos implica primero calcular a cuántos insectos les toca poner (llevan 2 días sin poner).  Fíjate bien en cómo generamos la tupla de todos los huevos.  Podemos concatenar dos tuplas para formar una tupla mayor, pero no podemos usar `append` ni sumar un simple elemento.  Por eso es importante la coma del final de la última línea."
      ]
    },
    {
      "cell_type": "code",
      "metadata": {
        "trusted": false,
        "id": "s1Pmgy0j9r5j"
      },
      "source": [
        "def poner_huevos(insectos, huevos):\n",
        "    ponen = sum(x[0] for x in insectos if x[1]>=2)\n",
        "    if ponen == 0:\n",
        "        return insectos, huevos\n",
        "    return tuple( (x[0], x[1] if x[1] < 2 else 0, x[2]) for x in insectos ), \\\n",
        "           huevos + ((ponen*3, 0),)"
      ],
      "execution_count": null,
      "outputs": []
    },
    {
      "cell_type": "markdown",
      "metadata": {
        "id": "YDAwh7ar9r5o"
      },
      "source": [
        "Los huevos que lleven dos días puestos deben eclosionar.  Esto los debe eliminar de la tupla de huevos y convertir en nuevos insectos en la tupla de insectos."
      ]
    },
    {
      "cell_type": "code",
      "metadata": {
        "trusted": false,
        "id": "PxTFe51u9r5p"
      },
      "source": [
        "def eclosionar_huevos(insectos, huevos):\n",
        "    nuevos = sum([ x[0] for x in huevos if x[1] >= 2 ])\n",
        "    if nuevos == 0:\n",
        "        return insectos, huevos\n",
        "    return insectos + ((nuevos,0,0),), \\\n",
        "           tuple( x for x in huevos if x[1] < 2 )"
      ],
      "execution_count": null,
      "outputs": []
    },
    {
      "cell_type": "code",
      "metadata": {
        "trusted": false,
        "id": "vdaZynGg9r5w",
        "outputId": "666f68d2-418c-405e-cc86-7c5c3b5d0d1d"
      },
      "source": [
        "dias(2, 10)"
      ],
      "execution_count": null,
      "outputs": [
        {
          "output_type": "stream",
          "text": [
            "DIA 1 --------------\n",
            " insectos: ((2, 1, 1),)\n",
            " huevos: ()\n",
            "DIA 2 --------------\n",
            " insectos: ((2, 0, 2),)\n",
            " huevos: ((6, 0),)\n",
            "DIA 3 --------------\n",
            " insectos: ((2, 1, 3),)\n",
            " huevos: ((6, 1),)\n",
            "DIA 4 --------------\n",
            " insectos: ((2, 0, 4), (6, 0, 0))\n",
            " huevos: ((6, 0),)\n",
            "DIA 5 --------------\n",
            " insectos: ((2, 1, 5), (6, 1, 1))\n",
            " huevos: ((6, 1),)\n"
          ],
          "name": "stdout"
        },
        {
          "output_type": "execute_result",
          "data": {
            "text/plain": [
              "5"
            ]
          },
          "metadata": {
            "tags": []
          },
          "execution_count": 82
        }
      ]
    },
    {
      "cell_type": "markdown",
      "metadata": {
        "id": "hufeyScI94gq"
      },
      "source": [
        "## Un cuadrado de cuadrados\n",
        "\n",
        "Te gustan los bloques de construcción.  Te gustan especialmente los bloques que son cuadrados.  Y todavía te gusta más disponerlos en una cuadrado de bloques cuadrados.\n",
        "\n",
        "Sin embargo a veces no se puede construir un cuadrado. ¡En su lugar terminas a veces con un vulgar rectángulo! Si tuvieras una forma de saber si estás trabajando en vano... ¡Espera! ¡Eso es! Solo tienes que comprobar si tu número de bloques es un cuadrado perfecto.\n",
        "\n",
        "Tarea: Dado un número entero, determina si es un cuadrado perfecto. Los tests siempre usarán números enteros como argumentos."
      ]
    },
    {
      "cell_type": "markdown",
      "metadata": {
        "id": "-QWiORbi94gr"
      },
      "source": [
        "## Encuentra el siguiente cuadrado perfecto\n",
        "\n",
        "Puede que conozcas algunos cuadrados perfectos bastante grandes. ¿Pero qué hay del *siguiente* cuadrado?\n",
        "\n",
        "Define la función `findNextSquare` que encuentra el siguiente entero que es cuadrado perfecto posterior al que se pasa como parámetro. Recuerda que un entero cuadrado perfecto es un entero *n* tal que `sqrt(n)` es tambiébn entero.\n",
        "\n",
        "Si el parámetro que se le pasa no es cuadrado perfecto debe devolver -1.  Puedes asumir que el parámetro es positivo."
      ]
    },
    {
      "cell_type": "markdown",
      "metadata": {
        "id": "pifrid1694gt"
      },
      "source": [
        "## El problema de romper el chocolate\n",
        "\n",
        "Tu tarea es dividir una tableta de chocolate de dimensiones $n \\times m$ en cuadritos.  Cada cuadrito es de tamaño $1\\times 1$ e indivisible.  Implementa una función que devuelve el mínimo número de cortes necesarios.\n",
        "\n",
        "Por ejemplo, si te dan una tableta de $2\\times 1$ se puede dividir en cuadritos con un solo corte, pero para tamaño $3\\times 1$ deben hacerse dos cortes."
      ]
    }
  ]
}