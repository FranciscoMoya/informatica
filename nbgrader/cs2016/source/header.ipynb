{
 "cells": [
  {
   "cell_type": "markdown",
   "metadata": {
    "nbgrader": {
     "grade": false,
     "solution": false
    }
   },
   "source": [
    "Antes de entregar este problema, asegúrate de que todo se ejecuta como se espera. En primer lugar **reinicia el núcleo** (en la barra de menú, selecciona Kernel$\\rightarrow$Restart) y después **ejecuta todas las celdas** (en la barra de menú, selecciona Cell$\\rightarrow$Run All).\n",
    "\n",
    "Asegúrate de que rellenas todos los lugares que indican `ESCRIBE TU CODIGO AQUI` o \"ESCRIBE TU RESPUESTA AQUI\", así como tu nombre y los de tus colaboradores abajo:"
   ]
  },
  {
   "cell_type": "code",
   "execution_count": null,
   "metadata": {
    "collapsed": false,
    "nbgrader": {
     "grade": false,
     "solution": false
    }
   },
   "outputs": [],
   "source": [
    "NAME = \"\"\n",
    "COLLABORATORS = \"\""
   ]
  },
  {
   "cell_type": "markdown",
   "metadata": {
    "nbgrader": {
     "grade": false,
     "solution": false
    }
   },
   "source": [
    "---"
   ]
  }
 ],
 "metadata": {
  "kernelspec": {
   "display_name": "Python 3",
   "language": "python",
   "name": "python3"
  },
  "language_info": {
   "codemirror_mode": {
    "name": "ipython",
    "version": 3
   },
   "file_extension": ".py",
   "mimetype": "text/x-python",
   "name": "python",
   "nbconvert_exporter": "python",
   "pygments_lexer": "ipython3",
   "version": "3.5.2"
  }
 },
 "nbformat": 4,
 "nbformat_minor": 0
}
