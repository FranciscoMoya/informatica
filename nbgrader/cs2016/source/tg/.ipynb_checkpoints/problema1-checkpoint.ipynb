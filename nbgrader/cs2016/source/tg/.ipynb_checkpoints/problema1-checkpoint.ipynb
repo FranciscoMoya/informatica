{
 "cells": [
  {
   "cell_type": "markdown",
   "metadata": {
    "nbgrader": {
     "grade": false,
     "grade_id": "jupyter",
     "locked": true,
     "solution": false
    }
   },
   "source": [
    "# 1. Método de Gauss-Jordan\n",
    "\n",
    "Este ejercicio te guiará paso a paso para implementar el método de Gauss-Jordan de diagonalización de matrices.\n",
    "\n",
    "## Desarrolla en tu ordenador personal\n",
    "\n",
    "Para el trabajo en grupo usaremos el programa Jupyter notebook.  Puedes instalarlo en tu propio ordenador si lo deseas siguiendo los siguientes pasos:\n",
    "\n",
    "1. Instala Python 3 del [sitio oficial](http://www.python.org/) (abajo, en la sección *Download* pincha sobre el enlace *Python 3.5.2* o la versión que aparezca junto a *Latest*).  Al instalar aparecerá un cuadro como el que se muestra a continuación.\n",
    "![Instalación de Python](https://docs.python.org/3/_images/win_installer.png)\n",
    "Marca la casilla *Add Python 3.5 to PATH* y selecciona la opción *Install Now*.\n",
    "\n",
    "2. Abre un intérprete de órdenes (*símbolo del sistema*) pulsando la tecla de Windows y tecleando `cmd`.  En el terminal que aparece escribe:\n",
    "```\n",
    "pip install jupyter ipywidgets mobilechelonian\n",
    "exit\n",
    "```\n",
    "\n",
    "3. Abre otra vez el intérprete de órdenes (*símbolo del sistema*) y escribe lo siguiente.\n",
    "```\n",
    "jupyter nbextension enable --py widgetsnbextension\n",
    "exit\n",
    "```\n",
    "\n",
    "4. Cada vez que quieras usar Jupyter ejecuta el intérprete de órdenes y escribe lo siguiente.\n",
    "```\n",
    "cd Documentos\n",
    "jupyter notebook\n",
    "```\n",
    "\n",
    "Esto abrirá automáticamente una pestaña del navegador predeterminado.  Si no lo hace abre el navegador de forma manual y visita la página http://localhost:8888/."
   ]
  },
  {
   "cell_type": "markdown",
   "metadata": {
    "nbgrader": {
     "grade": false,
     "locked": false,
     "solution": false
    }
   },
   "source": [
    "---\n",
    "## Matriz ampliada\n",
    "\n",
    "Se pretende resolver el sistema lineal $\\mathbf{A}\\cdot{}\\mathbf{x} = \\mathbf{b}$.\n",
    "\n",
    "Como primer paso calcula la matriz ampliada resultante de la yuxtaposición de la matriz A y la matriz I del mismo tamaño."
   ]
  },
  {
   "cell_type": "code",
   "execution_count": 8,
   "metadata": {
    "collapsed": false,
    "nbgrader": {
     "grade_id": "imprimir",
     "solution": true
    }
   },
   "outputs": [],
   "source": [
    "def augm(A):\n",
    "    \"\"\"Asume A una lista de listas de números correspondiente a una matriz.\n",
    "    Imprime la matriz A separando las columnas por un carácter tabulador ('\\t').\n",
    "    \n",
    "    Por ejemplo: \n",
    "    imprimir_matriz([[1,2,3],[1,0,1],[-1,2,0]])\n",
    "1\t2\t3\n",
    "1\t0\t1\n",
    "-1\t2\t0\n",
    "    \"\"\"\n",
    "    ### BEGIN SOLUTION\n",
    "    assert\n",
    "    for l in A:\n",
    "        print('\\t'.join([str(i) for i in l]))\n",
    "    ### END SOLUTION"
   ]
  },
  {
   "cell_type": "markdown",
   "metadata": {
    "nbgrader": {
     "grade": false,
     "solution": false
    }
   },
   "source": [
    "La función debería funcionar correctamente para el ejemplo indicado en la especificación. Compruébalo."
   ]
  },
  {
   "cell_type": "code",
   "execution_count": 9,
   "metadata": {
    "collapsed": false,
    "nbgrader": {
     "grade": false,
     "solution": false
    }
   },
   "outputs": [
    {
     "name": "stdout",
     "output_type": "stream",
     "text": [
      "1\t2\t3\n",
      "1\t0\t1\n",
      "-1\t2\t0\n"
     ]
    }
   ],
   "source": [
    "imprimir_matriz([[1,2,3],[1,0,1],[-1,2,0]])"
   ]
  },
  {
   "cell_type": "code",
   "execution_count": null,
   "metadata": {
    "collapsed": false,
    "nbgrader": {
     "grade": true,
     "grade_id": "imprimir_correcto",
     "points": "1"
    }
   },
   "outputs": [],
   "source": [
    "\"\"\"Check that squares returns the correct output for several inputs\"\"\"\n",
    "assert squares(1) == [1]\n",
    "assert squares(2) == [1, 4]\n",
    "assert squares(10) == [1, 4, 9, 16, 25, 36, 49, 64, 81, 100]\n",
    "assert squares(11) == [1, 4, 9, 16, 25, 36, 49, 64, 81, 100, 121]"
   ]
  },
  {
   "cell_type": "code",
   "execution_count": null,
   "metadata": {
    "collapsed": false,
    "nbgrader": {
     "grade": true,
     "grade_id": "imprimir_entrada_invalida",
     "points": "1"
    }
   },
   "outputs": [],
   "source": [
    "\"\"\"Check that squares raises an error for invalid inputs\"\"\"\n",
    "try:\n",
    "    imprimir_matriz([[1,2,3],[1,2]])\n",
    "except ValueError:\n",
    "    pass\n",
    "else:\n",
    "    raise AssertionError(\"did not raise\")\n",
    "\n",
    "try:\n",
    "    squares(-4)\n",
    "except ValueError:\n",
    "    pass\n",
    "else:\n",
    "    raise AssertionError(\"did not raise\")"
   ]
  },
  {
   "cell_type": "code",
   "execution_count": 23,
   "metadata": {
    "collapsed": false
   },
   "outputs": [
    {
     "data": {
      "text/plain": [
       "True"
      ]
     },
     "execution_count": 23,
     "metadata": {},
     "output_type": "execute_result"
    }
   ],
   "source": [
    "m = [[1,2,3],\n",
    "    [0,1,1],\n",
    "    [-1,0,1]]\n",
    "[len(l) for l in m].count(len(m)) == len(m)"
   ]
  },
  {
   "cell_type": "code",
   "execution_count": 64,
   "metadata": {
    "collapsed": false
   },
   "outputs": [],
   "source": [
    "def gauss_jordan(m, epsilon = 1e-10):\n",
    "    h, w = len(m), len(m[0])\n",
    "    for y in range(h):\n",
    "        pivot, maxrow = max([(abs(m[i][y]), i) for i in range(y,h)])\n",
    "        m[y], m[maxrow] = m[maxrow], m[y]\n",
    "        assert pivot > epsilon, 'Matriz singular'\n",
    "        for i in range(y+1, h):\n",
    "            c = - m[i][y] / m[y][y]\n",
    "            mac(m[y], c, m[i])\n",
    "\n",
    "    for y in range(h):\n",
    "        for i in range(y):\n",
    "            c = - m[i][y] / m[y][y]\n",
    "            mac(m[y], c, m[i])\n",
    "    return m\n",
    "\n",
    "def mac(v1, k, v2):\n",
    "    for i in range(len(v1)):\n",
    "        v2[i] += k*v1[i]"
   ]
  },
  {
   "cell_type": "code",
   "execution_count": 66,
   "metadata": {
    "collapsed": false
   },
   "outputs": [
    {
     "ename": "ZeroDivisionError",
     "evalue": "float division by zero",
     "output_type": "error",
     "traceback": [
      "\u001b[0;31m---------------------------------------------------------------------------\u001b[0m",
      "\u001b[0;31mZeroDivisionError\u001b[0m                         Traceback (most recent call last)",
      "\u001b[0;32m<ipython-input-66-28b095df473f>\u001b[0m in \u001b[0;36m<module>\u001b[0;34m()\u001b[0m\n\u001b[0;32m----> 1\u001b[0;31m \u001b[0mgauss_jordan\u001b[0m\u001b[1;33m(\u001b[0m\u001b[1;33m[\u001b[0m\u001b[1;33m[\u001b[0m\u001b[1;36m0\u001b[0m\u001b[1;33m,\u001b[0m\u001b[1;36m2\u001b[0m\u001b[1;33m,\u001b[0m\u001b[1;36m3\u001b[0m\u001b[1;33m]\u001b[0m\u001b[1;33m,\u001b[0m \u001b[1;33m[\u001b[0m\u001b[1;36m1\u001b[0m\u001b[1;33m,\u001b[0m\u001b[1;33m-\u001b[0m\u001b[1;36m1\u001b[0m\u001b[1;33m,\u001b[0m\u001b[1;36m3\u001b[0m\u001b[1;33m]\u001b[0m\u001b[1;33m,\u001b[0m \u001b[1;33m[\u001b[0m\u001b[1;36m1\u001b[0m\u001b[1;33m,\u001b[0m\u001b[1;33m-\u001b[0m\u001b[1;36m1\u001b[0m\u001b[1;33m,\u001b[0m\u001b[1;36m3\u001b[0m\u001b[1;33m]\u001b[0m\u001b[1;33m]\u001b[0m\u001b[1;33m)\u001b[0m\u001b[1;33m\u001b[0m\u001b[0m\n\u001b[0m",
      "\u001b[0;32m<ipython-input-64-2f852c3d85c5>\u001b[0m in \u001b[0;36mgauss_jordan\u001b[0;34m(m)\u001b[0m\n\u001b[1;32m     10\u001b[0m     \u001b[1;32mfor\u001b[0m \u001b[0my\u001b[0m \u001b[1;32min\u001b[0m \u001b[0mrange\u001b[0m\u001b[1;33m(\u001b[0m\u001b[0mh\u001b[0m\u001b[1;33m)\u001b[0m\u001b[1;33m:\u001b[0m\u001b[1;33m\u001b[0m\u001b[0m\n\u001b[1;32m     11\u001b[0m         \u001b[1;32mfor\u001b[0m \u001b[0mi\u001b[0m \u001b[1;32min\u001b[0m \u001b[0mrange\u001b[0m\u001b[1;33m(\u001b[0m\u001b[0my\u001b[0m\u001b[1;33m)\u001b[0m\u001b[1;33m:\u001b[0m\u001b[1;33m\u001b[0m\u001b[0m\n\u001b[0;32m---> 12\u001b[0;31m             \u001b[0mc\u001b[0m \u001b[1;33m=\u001b[0m \u001b[1;33m-\u001b[0m \u001b[0mm\u001b[0m\u001b[1;33m[\u001b[0m\u001b[0mi\u001b[0m\u001b[1;33m]\u001b[0m\u001b[1;33m[\u001b[0m\u001b[0my\u001b[0m\u001b[1;33m]\u001b[0m \u001b[1;33m/\u001b[0m \u001b[0mm\u001b[0m\u001b[1;33m[\u001b[0m\u001b[0my\u001b[0m\u001b[1;33m]\u001b[0m\u001b[1;33m[\u001b[0m\u001b[0my\u001b[0m\u001b[1;33m]\u001b[0m\u001b[1;33m\u001b[0m\u001b[0m\n\u001b[0m\u001b[1;32m     13\u001b[0m             \u001b[0mmac\u001b[0m\u001b[1;33m(\u001b[0m\u001b[0mm\u001b[0m\u001b[1;33m[\u001b[0m\u001b[0my\u001b[0m\u001b[1;33m]\u001b[0m\u001b[1;33m,\u001b[0m \u001b[0mc\u001b[0m\u001b[1;33m,\u001b[0m \u001b[0mm\u001b[0m\u001b[1;33m[\u001b[0m\u001b[0mi\u001b[0m\u001b[1;33m]\u001b[0m\u001b[1;33m)\u001b[0m\u001b[1;33m\u001b[0m\u001b[0m\n\u001b[1;32m     14\u001b[0m     \u001b[1;32mreturn\u001b[0m \u001b[0mm\u001b[0m\u001b[1;33m\u001b[0m\u001b[0m\n",
      "\u001b[0;31mZeroDivisionError\u001b[0m: float division by zero"
     ]
    }
   ],
   "source": [
    "gauss_jordan([[0,2,3], [1,-1,3], [1,-1,3]])"
   ]
  },
  {
   "cell_type": "code",
   "execution_count": 63,
   "metadata": {
    "collapsed": false
   },
   "outputs": [
    {
     "data": {
      "text/plain": [
       "[1, 2, 3, 1, 1, 1]"
      ]
     },
     "execution_count": 63,
     "metadata": {},
     "output_type": "execute_result"
    }
   ],
   "source": [
    "[1,2,3] + [1,1,1]"
   ]
  },
  {
   "cell_type": "code",
   "execution_count": null,
   "metadata": {
    "collapsed": true
   },
   "outputs": [],
   "source": []
  }
 ],
 "metadata": {
  "celltoolbar": "Create Assignment",
  "kernelspec": {
   "display_name": "Python 3",
   "language": "python",
   "name": "python3"
  },
  "language_info": {
   "codemirror_mode": {
    "name": "ipython",
    "version": 3
   },
   "file_extension": ".py",
   "mimetype": "text/x-python",
   "name": "python",
   "nbconvert_exporter": "python",
   "pygments_lexer": "ipython3",
   "version": "3.5.2"
  }
 },
 "nbformat": 4,
 "nbformat_minor": 0
}
