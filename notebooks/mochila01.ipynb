{
 "cells": [
  {
   "cell_type": "markdown",
   "metadata": {},
   "source": [
    "# El problema de la mochila 0-1\n",
    "\n",
    "Dado un conjunto de elementos con *valor* y *peso* se trata de determinar el subconjunto de elementos que maximiza el valor y cumple una determinada restricción de peso.  Matemáticamente implica determinar para un conjunto de elementos $I = \\{I_i\\}$ el vector booleano $V$ que maximiza:\n",
    "\n",
    "$$ \\sum_iV_i\\cdot I_i^{valor} $$\n",
    "\n",
    "Sujeto a la restricción:\n",
    "\n",
    "$$ \\sum_iV_i\\cdot I_i^{peso} \\leq w $$\n",
    "\n",
    "Donde $I_i^{valor}$ es el valor del elemento $I_i$, $I_i^{peso}$ es el peso del elemento $I_i$ y $V_i$ vale *1* si se coge el elemento $I_i$ y *0* en caso contrario."
   ]
  },
  {
   "cell_type": "markdown",
   "metadata": {},
   "source": [
    "Empecemos por las pruebas.  Un caso simple podría ser el siguiente:"
   ]
  },
  {
   "cell_type": "code",
   "execution_count": 2,
   "metadata": {
    "collapsed": true
   },
   "outputs": [],
   "source": [
    "def prueba0():\n",
    "    nombres = ['a', 'b', 'c', 'd']\n",
    "    valores = [ 6,   7,   8,   9]\n",
    "    pesos   = [ 3,   3,   2,   5]\n",
    "    elems = list(zip(nombres, valores, pesos))\n",
    "    val, saco = mochila01(elems, 5)\n",
    "    print(saco)\n",
    "    print('Valor total =', val)\n",
    "\n",
    "\n",
    "def valor(e): return e[1]\n",
    "def peso(e): return e[2]"
   ]
  },
  {
   "cell_type": "markdown",
   "metadata": {},
   "source": [
    "De esta forma modelamos los elementos como tuplas de tres elementos *(nombre, valor, peso)* y utilizamos funciones auxiliares `valor` y `peso` para abstraer la representación y no cometer errores.\n",
    "\n",
    "Esta prueba nos puede valer para desarrollar el algoritmo, pero añadiremos una prueba más de tamaño variable para probar los límites del algoritmo y caracterizar su rendimiento."
   ]
  },
  {
   "cell_type": "code",
   "execution_count": 58,
   "metadata": {
    "collapsed": true
   },
   "outputs": [],
   "source": [
    "import random\n",
    "def constr_elems(n, valMax, pesoMax):\n",
    "    return [ (str(i), \n",
    "              random.randint(1, valMax),\n",
    "              random.randint(1, pesoMax)) \\\n",
    "             for i in range(n) ]\n",
    "\n",
    "\n",
    "def prueba1(n):\n",
    "    elems = constr_elems(n, 10, 10)\n",
    "    val, saco = mochila01(elems, 40)\n",
    "    print ('Contenido:', saco)\n",
    "    print ('Valor total:', val)"
   ]
  },
  {
   "cell_type": "markdown",
   "metadata": {},
   "source": [
    "## Enumeración exhaustiva\n",
    "\n",
    "La solución trivial es la evaluación de todas las posibles combinaciones. La dificultad estriba precisamente en eso, en generar todos los posibles subconjuntos del conjunto de elementos.  Es lo que se conoce como el *powerset* de un conjunto."
   ]
  },
  {
   "cell_type": "code",
   "execution_count": 81,
   "metadata": {
    "collapsed": true
   },
   "outputs": [],
   "source": [
    "def mochila01(disponibles, pesoMax = 20):\n",
    "    mejorVal, mejorSaco = 0.0, None\n",
    "    for saco in genPowerset(disponibles):\n",
    "        valor,peso = valorSaco(saco),pesoSaco(saco)\n",
    "        if peso <= pesoMax and valor > mejorVal:\n",
    "            mejorVal, mejorSaco = valor, saco\n",
    "    return (mejorVal, mejorSaco)\n",
    "def valorSaco(saco):\n",
    "    return sum(valor(e) for e in saco)\n",
    "def pesoSaco(saco):\n",
    "    return sum(peso(e) for e in saco)\n",
    "def genPowerset(L):\n",
    "    return (genSubset(L,i) \\\n",
    "            for i in range(2**len(L)))\n",
    "def genSubset(L, i):\n",
    "    return [L[j] \\\n",
    "            for j in range(len(L)) \\\n",
    "            if isBitSet(i, j)]\n",
    "def isBitSet(n, bit):\n",
    "    return n & (1 << bit) != 0"
   ]
  },
  {
   "cell_type": "code",
   "execution_count": 36,
   "metadata": {
    "collapsed": true
   },
   "outputs": [],
   "source": [
    "def mochila01(disponibles, pesoMax = 20):\n",
    "    saco, valorSaco = [], 0\n",
    "    quedan = list(disponibles)\n",
    "    while True:\n",
    "        e = mejorElemento(quedan)\n",
    "        if peso(e) > pesoMax:\n",
    "            break\n",
    "        pesoMax -= peso(e)\n",
    "        valorSaco += valor(e)\n",
    "        quedan.remove(e)\n",
    "        saco.append(e)\n",
    "    return valorSaco, saco\n",
    "\n",
    "def mejorElemento(disponibles):\n",
    "    mejorElem, mejorCoste = None, 0\n",
    "    for e in disponibles:\n",
    "        c = cost(e)\n",
    "        if c > mejorCoste:\n",
    "            mejorElem, mejorCoste = e, c\n",
    "    return mejorElem\n",
    "\n",
    "def mejorElemento(disponibles):\n",
    "    return max(disponibles, key = cost)\n",
    "\n",
    "def cost(e):\n",
    "    return valor(e)\n",
    "\n",
    "def cost(e):\n",
    "    return valor(e)/peso(e)"
   ]
  },
  {
   "cell_type": "code",
   "execution_count": 48,
   "metadata": {
    "collapsed": true
   },
   "outputs": [],
   "source": [
    "def mochila01(pend, libre):\n",
    "    if not pend or libre == 0:\n",
    "        return 0, ()\n",
    "    if peso(pend[0]) > libre:\n",
    "        return mochila01(pend[1:], libre)\n",
    "    elem = pend[0]\n",
    "    val1, saco1 = mochila01(pend[1:],\n",
    "                            libre - peso(elem))\n",
    "    val1 += valor(elem)\n",
    "    saco1 += (elem,)\n",
    "    val0, saco0 = mochila01(pend[1:], libre)\n",
    "    if val1 > val0:\n",
    "        return val1, saco1\n",
    "    return val0, saco0"
   ]
  },
  {
   "cell_type": "code",
   "execution_count": 49,
   "metadata": {
    "collapsed": false
   },
   "outputs": [
    {
     "name": "stdout",
     "output_type": "stream",
     "text": [
      "(('c', 8, 2), ('b', 7, 3))\n",
      "Valor total = 15\n"
     ]
    }
   ],
   "source": [
    "prueba0()"
   ]
  },
  {
   "cell_type": "code",
   "execution_count": 85,
   "metadata": {
    "collapsed": true
   },
   "outputs": [],
   "source": [
    "def mochila01(pend, libre, memo= {}):\n",
    "    if (len(pend), libre) in memo:\n",
    "        return memo[(len(pend), libre)]\n",
    "    ret = elegir(pend, libre, memo)\n",
    "    memo[(len(pend), libre)] = ret\n",
    "    return ret\n",
    "\n",
    "def elegir(pend, libre, memo):\n",
    "    if not pend or libre == 0:\n",
    "        return 0, ()\n",
    "    if peso(pend[0]) > libre:\n",
    "        return mochila01(pend[1:], libre, memo)\n",
    "    elem = pend[0]\n",
    "    val1, saco1 = mochila01(pend[1:],\n",
    "                            libre - peso(elem),\n",
    "                            memo)\n",
    "    val1 += valor(elem)\n",
    "    saco1 += (elem,)\n",
    "    val0, saco0 = mochila01(pend[1:], libre, memo)\n",
    "    if val1 > val0:\n",
    "        return val1, saco1\n",
    "    return val0, saco0"
   ]
  },
  {
   "cell_type": "code",
   "execution_count": 53,
   "metadata": {
    "collapsed": false
   },
   "outputs": [
    {
     "name": "stdout",
     "output_type": "stream",
     "text": [
      "(('c', 8, 2), ('b', 7, 3))\n",
      "Valor total = 15\n"
     ]
    }
   ],
   "source": [
    "prueba0()"
   ]
  },
  {
   "cell_type": "code",
   "execution_count": 103,
   "metadata": {
    "collapsed": false
   },
   "outputs": [
    {
     "name": "stdout",
     "output_type": "stream",
     "text": [
      "Contenido: (('99', 9, 2), ('91', 5, 1), ('76', 10, 3), ('73', 6, 2), ('67', 4, 1), ('65', 4, 1), ('61', 7, 1), ('34', 7, 2), ('28', 10, 2), ('19', 10, 3), ('8', 10, 3), ('96', 7, 2), ('87', 5, 1), ('77', 8, 2), ('66', 10, 3), ('53', 8, 2), ('52', 10, 1), ('43', 9, 2), ('40', 10, 1), ('35', 7, 2), ('32', 10, 2), ('21', 8, 1))\n",
      "Valor total: 174\n"
     ]
    }
   ],
   "source": [
    "prueba1(180)"
   ]
  },
  {
   "cell_type": "code",
   "execution_count": null,
   "metadata": {
    "collapsed": true
   },
   "outputs": [],
   "source": []
  }
 ],
 "metadata": {
  "kernelspec": {
   "display_name": "Python 3",
   "language": "python",
   "name": "python3"
  },
  "language_info": {
   "codemirror_mode": {
    "name": "ipython",
    "version": 3
   },
   "file_extension": ".py",
   "mimetype": "text/x-python",
   "name": "python",
   "nbconvert_exporter": "python",
   "pygments_lexer": "ipython3",
   "version": "3.5.2"
  }
 },
 "nbformat": 4,
 "nbformat_minor": 1
}
