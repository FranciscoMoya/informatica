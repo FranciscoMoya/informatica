{
 "metadata": {
  "name": "",
  "signature": "sha256:f8a3442a8b10aacc24e66fec6fbec6696cbdf0474311e07036f83d4cda75c580"
 },
 "nbformat": 3,
 "nbformat_minor": 0,
 "worksheets": [
  {
   "cells": [
    {
     "cell_type": "markdown",
     "metadata": {},
     "source": [
      "# Un paseo con Python"
     ]
    },
    {
     "cell_type": "markdown",
     "metadata": {},
     "source": [
      "Cuando se ejecuta el int\u00e9rprete de Python sin indicar un programa, Python funciona de forma interactiva. Cada vez que se escribe una expresi\u00f3n Python escribe autom\u00e1ticamente su resultado. Por tanto Python puede usarse como simple calculadora interactiva."
     ]
    },
    {
     "cell_type": "code",
     "collapsed": false,
     "input": [
      "50 - 5*6"
     ],
     "language": "python",
     "metadata": {},
     "outputs": [
      {
       "metadata": {},
       "output_type": "pyout",
       "prompt_number": 1,
       "text": [
        "20"
       ]
      }
     ],
     "prompt_number": 1
    },
    {
     "cell_type": "markdown",
     "metadata": {},
     "source": [
      "Si pruebas este mismo fragmento en un m\u00f3dulo de IDLE no imprimir\u00e1 nada, porque IDLE utiliza el int\u00e9rprete de Python de forma no interactiva. Se edita el programa completo en la ventana del m\u00f3dulo y una vez completado se ejecuta.  En este modo de funcionamiento aunque realiza los mismos c\u00e1lculos no imprime el resultado de las expresiones a menos que se pida expl\u00edcitamente.\n",
      "\n",
      "Si quieres imprimir el resultado de la expresi\u00f3n anterior debes usar la funci\u00f3n print (imprime). Esto tambi\u00e9n funciona en modo interactivo."
     ]
    },
    {
     "cell_type": "code",
     "collapsed": false,
     "input": [
      "print(50 - 5*6)"
     ],
     "language": "python",
     "metadata": {},
     "outputs": [
      {
       "output_type": "stream",
       "stream": "stdout",
       "text": [
        "20\n"
       ]
      }
     ],
     "prompt_number": 1
    },
    {
     "cell_type": "markdown",
     "metadata": {},
     "source": [
      "Funciona como una calculadora algebraica normal, con los operadores aritm\u00e9ticos habituales, incluyendo par\u00e9ntesis."
     ]
    },
    {
     "cell_type": "code",
     "collapsed": false,
     "input": [
      "(50 - 5*6)/4"
     ],
     "language": "python",
     "metadata": {},
     "outputs": [
      {
       "metadata": {},
       "output_type": "pyout",
       "prompt_number": 2,
       "text": [
        "5"
       ]
      }
     ],
     "prompt_number": 2
    },
    {
     "cell_type": "markdown",
     "metadata": {},
     "source": [
      "El doble asterisco es el operador de exponenciaci\u00f3n. Los decimales se indican con un punto."
     ]
    },
    {
     "cell_type": "code",
     "collapsed": false,
     "input": [
      "(2**16 + 2**8 + 2**4) / 1000.0"
     ],
     "language": "python",
     "metadata": {},
     "outputs": [
      {
       "metadata": {},
       "output_type": "pyout",
       "prompt_number": 9,
       "text": [
        "65.808"
       ]
      }
     ],
     "prompt_number": 9
    },
    {
     "cell_type": "markdown",
     "metadata": {},
     "source": [
      "Python diferencia entre la divisi\u00f3n `/` que produce un n\u00famero real y la divisi\u00f3n entera `//` que produce solo la parte entera de la divisi\u00f3n."
     ]
    },
    {
     "cell_type": "code",
     "collapsed": false,
     "input": [
      "(2**16 + 2**8 + 2**4) // 1000"
     ],
     "language": "python",
     "metadata": {},
     "outputs": [
      {
       "metadata": {},
       "output_type": "pyout",
       "prompt_number": 2,
       "text": [
        "65"
       ]
      }
     ],
     "prompt_number": 2
    },
    {
     "cell_type": "markdown",
     "metadata": {},
     "source": [
      "Las expresiones tienen un **tipo** asociado. Enteros, numeros reales o cadenas de texto son ejemplos de tipos. El resultado de la divisi\u00f3n es un real, y el resultado de la divisi\u00f3n entera es un entero."
     ]
    },
    {
     "cell_type": "markdown",
     "metadata": {},
     "source": [
      "De modo interactivo el \u00faltimo resultado se almacena en una *variable* con nombre _ que viene muy bien para ahorrar tiempo."
     ]
    },
    {
     "cell_type": "code",
     "collapsed": false,
     "input": [
      "iva = 0.21\n",
      "precio = 100.5\n",
      "precio * iva"
     ],
     "language": "python",
     "metadata": {},
     "outputs": [
      {
       "metadata": {},
       "output_type": "pyout",
       "prompt_number": 14,
       "text": [
        "21.105"
       ]
      }
     ],
     "prompt_number": 14
    },
    {
     "cell_type": "code",
     "collapsed": false,
     "input": [
      "precio + _"
     ],
     "language": "python",
     "metadata": {},
     "outputs": [
      {
       "metadata": {},
       "output_type": "pyout",
       "prompt_number": 15,
       "text": [
        "121.605"
       ]
      }
     ],
     "prompt_number": 15
    },
    {
     "cell_type": "code",
     "collapsed": false,
     "input": [
      "round(_,2)"
     ],
     "language": "python",
     "metadata": {},
     "outputs": [
      {
       "metadata": {},
       "output_type": "pyout",
       "prompt_number": 13,
       "text": [
        "121.61"
       ]
      }
     ],
     "prompt_number": 13
    },
    {
     "cell_type": "markdown",
     "metadata": {},
     "source": [
      "## \u00c1lgebra matricial\n",
      "\n",
      "Python puede usarse para c\u00e1lculo vectorial y matricial de forma muy parecida a MATLAB utilizando la biblioteca NumPy."
     ]
    },
    {
     "cell_type": "code",
     "collapsed": false,
     "input": [
      "from numpy import *"
     ],
     "language": "python",
     "metadata": {},
     "outputs": [],
     "prompt_number": 3
    },
    {
     "cell_type": "markdown",
     "metadata": {},
     "source": [
      "Se trabaja con vectores y matrices como si se tratara de n\u00fameros. Por ejemplo, la suma del cuadrado y el cubo de los primeros 20 n\u00fameros enteros positivos. "
     ]
    },
    {
     "cell_type": "code",
     "collapsed": false,
     "input": [
      "a = arange(20)\n",
      "a**2 + a**3"
     ],
     "language": "python",
     "metadata": {},
     "outputs": [
      {
       "metadata": {},
       "output_type": "pyout",
       "prompt_number": 4,
       "text": [
        "array([   0,    2,   12,   36,   80,  150,  252,  392,  576,  810, 1100,\n",
        "       1452, 1872, 2366, 2940, 3600, 4352, 5202, 6156, 7220])"
       ]
      }
     ],
     "prompt_number": 4
    },
    {
     "cell_type": "markdown",
     "metadata": {},
     "source": [
      "Resolver la ecuaci\u00f3n $Ax = b$."
     ]
    },
    {
     "cell_type": "code",
     "collapsed": false,
     "input": [
      "A = array([[1, 2, 1], \n",
      "           [1, 0, 1], \n",
      "           [2, 0, 1]])\n",
      "b = array([[1], \n",
      "           [3], \n",
      "           [4]])\n",
      "linalg.solve(A,b)"
     ],
     "language": "python",
     "metadata": {},
     "outputs": [
      {
       "metadata": {},
       "output_type": "pyout",
       "prompt_number": 5,
       "text": [
        "array([[ 1.],\n",
        "       [-1.],\n",
        "       [ 2.]])"
       ]
      }
     ],
     "prompt_number": 5
    },
    {
     "cell_type": "code",
     "collapsed": false,
     "input": [
      "N = 20\n",
      "t = linspace(-2*pi, 2*pi, N)\n",
      "seno = sin(sin(t))\n",
      "ruido = random.normal(0, .1, N)\n",
      "seno+ruido"
     ],
     "language": "python",
     "metadata": {},
     "outputs": [
      {
       "metadata": {},
       "output_type": "pyout",
       "prompt_number": 6,
       "text": [
        "array([-0.12492006,  0.67232257,  0.87420753,  0.71643189,  0.55123972,\n",
        "       -0.29835434, -0.72767628, -0.89018729, -0.80328646, -0.33994442,\n",
        "        0.22051145,  0.69409006,  0.80901399,  0.53790948,  0.27495212,\n",
        "       -0.62804698, -0.9349357 , -0.70521792, -0.69355704, -0.10856833])"
       ]
      }
     ],
     "prompt_number": 6
    },
    {
     "cell_type": "code",
     "collapsed": false,
     "input": [
      "%matplotlib inline\n",
      "from matplotlib.pyplot import *\n",
      "plot(t, seno, 'k--', t, seno+ruido, 'ro')\n",
      "show()"
     ],
     "language": "python",
     "metadata": {},
     "outputs": [
      {
       "metadata": {},
       "output_type": "display_data",
       "png": "[encoded data removed]",
       "text": [
        "<matplotlib.figure.Figure at 0x7f7674035d30>"
       ]
      }
     ],
     "prompt_number": 7
    },
    {
     "cell_type": "markdown",
     "metadata": {},
     "source": [
      "## C\u00e1lculo simb\u00f3lico\n",
      "\n",
      "Tambi\u00e9n existe una biblioteca `sympy` para hacer c\u00e1lculo simb\u00f3lico, similar a lo que puedes realizar con *Mathematica*."
     ]
    },
    {
     "cell_type": "code",
     "collapsed": false,
     "input": [
      "from sympy import *\n",
      "init_printing()"
     ],
     "language": "python",
     "metadata": {},
     "outputs": [],
     "prompt_number": 9
    },
    {
     "cell_type": "code",
     "collapsed": false,
     "input": [
      "x,y,z = symbols('x y z')"
     ],
     "language": "python",
     "metadata": {},
     "outputs": [],
     "prompt_number": 10
    },
    {
     "cell_type": "code",
     "collapsed": false,
     "input": [
      "integrate(sin(x)+log(y/z)+cos(x*y), x)"
     ],
     "language": "python",
     "metadata": {},
     "outputs": [
      {
       "latex": [
        "$$x \\log{\\left (\\frac{y}{z} \\right )} + \\begin{cases} x & \\text{for}\\: y = 0 \\\\\\frac{1}{y} \\sin{\\left (x y \\right )} & \\text{otherwise} \\end{cases} - \\cos{\\left (x \\right )}$$"
       ],
       "metadata": {},
       "output_type": "pyout",
       "png": "[encoded data removed]",
       "prompt_number": 11,
       "text": [
        "           \u239b\u23a7   x      for y = 0\u239e         \n",
        "     \u239by\u239e   \u239c\u23aa                   \u239f         \n",
        "x\u22c5log\u239c\u2500\u239f + \u239c\u23a8sin(x\u22c5y)           \u239f - cos(x)\n",
        "     \u239dz\u23a0   \u239c\u23aa\u2500\u2500\u2500\u2500\u2500\u2500\u2500\u2500  otherwise\u239f         \n",
        "           \u239d\u23a9   y               \u23a0         "
       ]
      }
     ],
     "prompt_number": 11
    },
    {
     "cell_type": "code",
     "collapsed": false,
     "input": [
      "solve(x**2*y - 5*z, x)"
     ],
     "language": "python",
     "metadata": {},
     "outputs": [
      {
       "latex": [
        "$$\\left [ - \\sqrt{5} \\sqrt{\\frac{z}{y}}, \\quad \\sqrt{5} \\sqrt{\\frac{z}{y}}\\right ]$$"
       ],
       "metadata": {},
       "output_type": "pyout",
       "png": "[encoded data removed]",
       "prompt_number": 12,
       "text": [
        "\u23a1        ___         ___\u23a4\n",
        "\u23a2       \u2571 z         \u2571 z \u23a5\n",
        "\u23a2-\u221a5\u22c5  \u2571  \u2500 , \u221a5\u22c5  \u2571  \u2500 \u23a5\n",
        "\u23a3    \u2572\u2571   y      \u2572\u2571   y \u23a6"
       ]
      }
     ],
     "prompt_number": 12
    },
    {
     "cell_type": "markdown",
     "metadata": {},
     "source": [
      "## Gr\u00e1ficos\n",
      "\n",
      "Con la biblioteca `matplotlib` se pueden hacer gr\u00e1ficas muy decentes con suma facilidad. La interfaz se parece bastante a las gr\u00e1ficas de *MATLAB*."
     ]
    },
    {
     "cell_type": "code",
     "collapsed": false,
     "input": [
      "%matplotlib inline\n",
      "from numpy import *\n",
      "from matplotlib.pyplot import *"
     ],
     "language": "python",
     "metadata": {},
     "outputs": [],
     "prompt_number": 13
    },
    {
     "cell_type": "code",
     "collapsed": false,
     "input": [
      "def f(t):\n",
      "    return exp(-t) * cos(2*pi*t)\n",
      "\n",
      "t1 = arange(0.0, 5.0, 0.1)\n",
      "t2 = arange(0.0, 5.0, 0.02)\n",
      "\n",
      "figure(1)\n",
      "\n",
      "subplot(211)\n",
      "plot(t1, f(t1), 'bo', t2, f(t2), 'k')\n",
      "\n",
      "subplot(212)\n",
      "plot(t2, np.cos(2*np.pi*t2), 'r--')\n",
      "\n",
      "show()"
     ],
     "language": "python",
     "metadata": {},
     "outputs": [
      {
       "metadata": {},
       "output_type": "display_data",
       "png": "[encoded data removed]",
       "text": [
        "<matplotlib.figure.Figure at 0x7f76741043c8>"
       ]
      }
     ],
     "prompt_number": 14
    },
    {
     "cell_type": "code",
     "collapsed": false,
     "input": [],
     "language": "python",
     "metadata": {},
     "outputs": []
    }
   ],
   "metadata": {}
  }
 ]
}