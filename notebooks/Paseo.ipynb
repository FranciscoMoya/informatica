{
 "metadata": {
  "name": "",
  "signature": "sha256:24597092bd1dca90e517f52c1c8de09c7c4bcf817860b29253149f1776d02a50"
 },
 "nbformat": 3,
 "nbformat_minor": 0,
 "worksheets": [
  {
   "cells": [
    {
     "cell_type": "markdown",
     "metadata": {},
     "source": [
      "# Un paseo con Python"
     ]
    },
    {
     "cell_type": "markdown",
     "metadata": {},
     "source": [
      "## C\u00e1lculo simb\u00f3lico"
     ]
    },
    {
     "cell_type": "code",
     "collapsed": false,
     "input": [
      "from sympy import *\n",
      "init_printing()"
     ],
     "language": "python",
     "metadata": {},
     "outputs": [],
     "prompt_number": 3
    },
    {
     "cell_type": "code",
     "collapsed": false,
     "input": [
      "x,y,z = symbols('x y z')"
     ],
     "language": "python",
     "metadata": {},
     "outputs": [],
     "prompt_number": 4
    },
    {
     "cell_type": "code",
     "collapsed": false,
     "input": [
      "integrate(sin(x)+log(y/z)+cos(x*y), x)"
     ],
     "language": "python",
     "metadata": {},
     "outputs": [
      {
       "latex": [
        "$$x \\log{\\left (\\frac{y}{z} \\right )} + \\begin{cases} x & \\text{for}\\: y = 0 \\\\\\frac{1}{y} \\sin{\\left (x y \\right )} & \\text{otherwise} \\end{cases} - \\cos{\\left (x \\right )}$$"
       ],
       "metadata": {},
       "output_type": "pyout",
       "png": "[encoded data removed]",
       "prompt_number": 5,
       "text": [
        "           \u239b\u23a7   x      for y = 0\u239e         \n",
        "     \u239by\u239e   \u239c\u23aa                   \u239f         \n",
        "x\u22c5log\u239c\u2500\u239f + \u239c\u23a8sin(x\u22c5y)           \u239f - cos(x)\n",
        "     \u239dz\u23a0   \u239c\u23aa\u2500\u2500\u2500\u2500\u2500\u2500\u2500\u2500  otherwise\u239f         \n",
        "           \u239d\u23a9   y               \u23a0         "
       ]
      }
     ],
     "prompt_number": 5
    },
    {
     "cell_type": "code",
     "collapsed": false,
     "input": [
      "solve(x**2*y - 5*z, x)"
     ],
     "language": "python",
     "metadata": {},
     "outputs": [
      {
       "latex": [
        "$$\\begin{bmatrix}- \\sqrt{5} \\sqrt{\\frac{z}{y}}, & \\sqrt{5} \\sqrt{\\frac{z}{y}}\\end{bmatrix}$$"
       ],
       "metadata": {},
       "output_type": "pyout",
       "png": "[encoded data removed]",
       "prompt_number": 10,
       "text": [
        "\u23a1           ___            ___\u23a4\n",
        "\u23a2   ___    \u2571 z     ___    \u2571 z \u23a5\n",
        "\u23a2-\u2572\u2571 5 \u22c5  \u2571  \u2500 , \u2572\u2571 5 \u22c5  \u2571  \u2500 \u23a5\n",
        "\u23a3       \u2572\u2571   y         \u2572\u2571   y \u23a6"
       ]
      }
     ],
     "prompt_number": 10
    },
    {
     "cell_type": "markdown",
     "metadata": {},
     "source": [
      "## Gr\u00e1ficos"
     ]
    },
    {
     "cell_type": "code",
     "collapsed": false,
     "input": [
      "%matplotlib inline\n",
      "from numpy import *\n",
      "from matplotlib.pyplot import *"
     ],
     "language": "python",
     "metadata": {},
     "outputs": [],
     "prompt_number": 14
    },
    {
     "cell_type": "code",
     "collapsed": false,
     "input": [
      "def f(t):\n",
      "    return exp(-t) * cos(2*pi*t)\n",
      "\n",
      "t1 = arange(0.0, 5.0, 0.1)\n",
      "t2 = arange(0.0, 5.0, 0.02)\n",
      "\n",
      "figure(1)\n",
      "\n",
      "subplot(211)\n",
      "plot(t1, f(t1), 'bo', t2, f(t2), 'k')\n",
      "\n",
      "subplot(212)\n",
      "plot(t2, np.cos(2*np.pi*t2), 'r--')\n",
      "\n",
      "show()"
     ],
     "language": "python",
     "metadata": {},
     "outputs": [
      {
       "metadata": {},
       "output_type": "display_data",
       "png": "[encoded data removed]",
       "text": [
        "<matplotlib.figure.Figure at 0x7fd64c7c1e90>"
       ]
      }
     ],
     "prompt_number": 16
    },
    {
     "cell_type": "code",
     "collapsed": false,
     "input": [],
     "language": "python",
     "metadata": {},
     "outputs": []
    }
   ],
   "metadata": {}
  }
 ]
}