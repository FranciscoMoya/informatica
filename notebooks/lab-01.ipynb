{
 "metadata": {
  "name": "",
  "signature": "sha256:378fdf2cc0e25661e17c8872b460ead5da8d9837cd181fde5de8f9dd5acc60df"
 },
 "nbformat": 3,
 "nbformat_minor": 0,
 "worksheets": [
  {
   "cells": [
    {
     "cell_type": "markdown",
     "metadata": {},
     "source": [
      "<a id=\"lab1.1\"></a>\n",
      "# Lab 1.1: Familiarizaci\u00f3n\n",
      "\n",
      "Bienvenidos al laboratorio.  Ya nos hemos familiarizado con un buen n\u00famero de caracter\u00edsticas de Python y seguro que ya has hecho tus primeros programas.  Lleg\u00f3 el momento de poner en pr\u00e1ctica lo que has aprendido en un entorno tan parecido como podamos al de los ex\u00e1menes de Inform\u00e1tica.\n",
      "\n",
      "Nuestro consejo m\u00e1s importante para el laboratorio es que leas con atenci\u00f3n y no te inventes nada que no est\u00e9 previamente escrito.  Si el ejercicio pide definir una funci\u00f3n no basta con escribir las sentencias de la funci\u00f3n, tienes que definirla correctamente.  Si el ejercicio pide definir la funci\u00f3n `pepito` no vale con definir `Pepito`, ni `funcion_pepito`, ni `pepito1`, tiene que llamarse `pepito`.  Si dice que la funci\u00f3n debe devolver `True` en caso de que los argumentos sean iguales y `False` en caso contrario no vale con imprimir que son iguales, tiene que devolver `True` o `False`.\n",
      "\n",
      "Las pr\u00e1cticas, los ejercicios de laboratorio, los proyectos y los ex\u00e1menes se van a evaluar de forma autom\u00e1tica, as\u00ed que cualquier desviaci\u00f3n de comportamiento respecto a lo que se pide en el enunciado se interpretar\u00e1 como un error.  La intervenci\u00f3n de seres humanos para comentar vuestros programas solo ocurrir\u00e1 durante las sesiones de laboratorio, durante las sesiones reservadas para *tutor\u00eda de grupo*, o durante las tutor\u00edas individuales.\n",
      "\n",
      "Para describir la mec\u00e1nica de entrega y evaluaci\u00f3n no hay nada como un primer ejercicio guiado.  Veamos primero el enunciado:\n",
      "\n",
      "1. *Definir una funci\u00f3n `my_email` sin argumentos que devuelva tu direcci\u00f3n de correo electr\u00f3nico de la Universidad.*\n",
      "\n",
      "Este ejercicio es inmediato, basta con retornar una cadena con la direcci\u00f3n correcta.  En mi caso:"
     ]
    },
    {
     "cell_type": "code",
     "collapsed": false,
     "input": [
      "def my_email():\n",
      "    return 'francisco.moya@uclm.es'"
     ],
     "language": "python",
     "metadata": {},
     "outputs": [],
     "prompt_number": 5
    },
    {
     "cell_type": "markdown",
     "metadata": {},
     "source": [
      "Esta funci\u00f3n puedo (y debo) probarla antes.  Por ejemplo llam\u00e1ndola e imprimiendo el resultado."
     ]
    },
    {
     "cell_type": "code",
     "collapsed": false,
     "input": [
      "print my_email()"
     ],
     "language": "python",
     "metadata": {},
     "outputs": [
      {
       "output_type": "stream",
       "stream": "stdout",
       "text": [
        "francisco.moya@uclm.es\n"
       ]
      }
     ],
     "prompt_number": 6
    },
    {
     "cell_type": "markdown",
     "metadata": {},
     "source": [
      "Ahora que ya estoy seguro de que funciona puedo pinchar en el enlace de entrega de la primera pr\u00e1ctica en *Campus Virtual*.\n",
      "\n",
      "La ventana de entrega es siempre similar, independientemente de si se trata de una pr\u00e1ctica, el proyecto, un parcial o el examen final.  Aseg\u00farate de que aparece tu nombre correctamente y de que marcas la casilla en la que declaras que entregas un trabajo original.  Para entregar la pr\u00e1ctica tienes dos opciones:\n",
      "\n",
      "* Puedes pegar el c\u00f3digo directamente en el cuadro de texto que aparece. \u00c9sta es la opci\u00f3n m\u00e1s habitual si el ejercicio lo has realizado en [CodeSkulptor](http://CodeSkulptor.org) u otro servicio online similar, o con QPython para Android.\n",
      "\n",
      "* Puedes adjuntar un archivo con la soluci\u00f3n. \u00c9sta es la opci\u00f3n m\u00e1s habitual si el ejercicio lo has realizado con PyCharm, IDLE, u otro entorno integrado de desarrollo para PC.\n",
      "\n",
      "No olvides pulsar al bot\u00f3n de enviar y esperar confirmaci\u00f3n de la entrega correcta.  Si no recibes confirmaci\u00f3n o descubres un error en tu entrega no temas volver a enviarlo.  Se evaluar\u00e1 solamente el \u00faltimo env\u00edo realizado.\n",
      "\n",
      "**IMPORTANTE: Pega o adjunta exclusivamente el c\u00f3digo que se pide. Si t\u00fa has hecho pruebas por tu cuenta (algo que es muy recomendable) no las incluyas en la entrega.**\n",
      "\n",
      "Ya est\u00e1, es as\u00ed de f\u00e1cil. No hay nada m\u00e1s que hacer. El resultado de la evaluaci\u00f3n no es inmediato. Ya no queda nada m\u00e1s que esperar a que aparezca la calificaci\u00f3n de esa actividad en el Campus Virtual.\n",
      "\n",
      "En algunos casos es preciso obtener una calificaci\u00f3n m\u00ednima en un ejercicio para poder entregar otro ejercicio.  No esperes al \u00faltimo minuto para entregar los ejercicios, porque la evaluaci\u00f3n puede tardar algunos d\u00edas.  El evaluador se ejecutar\u00e1 al menos una vez a la semana.  Si se te echa el tiempo encima puedes intentar contactar con [francisco.moya@uclm.es](mailto:francisco.moya@uclm.es) para que se ejecute otra vez el evaluador, pero no te garantizamos que pueda hacerse con m\u00e1s frecuencia.  "
     ]
    },
    {
     "cell_type": "markdown",
     "metadata": {},
     "source": [
      "<a id=\"lab1.2\"></a>\n",
      "# Lab 1.2: Expresiones\n",
      "\n",
      "Haz la primera entrega para familiarizarte con la mec\u00e1nica de env\u00edo y el entorno de desarrollo.  Despu\u00e9s lee atentamente los ejercicios que se piden a continuaci\u00f3n relacionados con las expresiones en Python y hazlos todos ellos en una \u00fanica entrega.\n",
      "\n",
      "1. *Define una funci\u00f3n `recortar` que admita un \u00fanico argumento que ser\u00e1 un n\u00famero real.  Esta funci\u00f3n debe devolver el valor de su argumento recortado al intervalo $[-1, 1]$. Es decir, si el argumento es $<-1$ debe devolver `-1.0`, si es $>1$ debe devolver `1.0`, y en cualquier otro caso debe devolver el valor del argumento.*\n",
      "\n",
      "1. *Define una funci\u00f3n de nombre `es_bisiesto` que admita un \u00fanico argumento entero.  Esta funci\u00f3n debe devolver `True` si el argumento corresponde con un [a\u00f1o bisiesto](https://es.wikipedia.org/wiki/A%C3%B1o_bisiesto) y `False` en caso contrario.* **Nota: Un a\u00f1o es bisiesto si es divisible entre 4, salvo los divisibles por 100, pero los divisibles por 400 tambi\u00e9n son bisiestos.**\n",
      "\n",
      "1. *Define una funci\u00f3n de nombre `es_primo` que admita un \u00fanico argumento entero. Esta funci\u00f3n debe devolver `True` si el argumento es un n\u00famero primo y `False` en caso contrario.*\n",
      "\n",
      "1. *Define una funci\u00f3n de nombre `media_geometrica` que devuelva el valor de la [media geom\u00e9trica](https://es.wikipedia.org/wiki/Media_geom%C3%A9trica) de los dos n\u00fameros reales que se le pasen como argumentos.*\n",
      "\n",
      "1. *Define una funci\u00f3n de nombre `bateria_cargada` que devuelve `True` si el argumento real que se le pasa est\u00e1 en el intervalo $[12.50, 12.95]$ o en el intervalo $[-12.95, -12.50]$. Debe devolver `False` en cualquier otro caso.*\n",
      "\n",
      "1. *Define una funci\u00f3n de nombre `calificacion` que devuelve una cadena de texto correspondiente a la calificaci\u00f3n correspondiente a una nota num\u00e9rica que se pasa como argumento.  Si la nota es inferior a 5.0 debe devolver `Suspenso`, si est\u00e1 en el intervalo $[5.0, 7.0)$ debe devolver `Aprobado`, si est\u00e1 en el intervalo $[7.0, 9.0)$ debe devolver `Notable` y si est\u00e1 en el intervalo $[9.0, 10]$ debe devolver `Sobresaliente`.* **Nota: El enunciado no dice nada acerca de notas superiores a 10. Esto es intencional, el programador es libre de hacer lo que considere m\u00e1s conveniente.**\n",
      "\n",
      "1. *Define una funci\u00f3n de nombre `fahrenheit_a_celsius` que transforma una temperatura expresada en grados Fahrenheit, que se pasa como argumento, en la misma temperatura expresada en grados cent\u00edgrados, que es devuelta por la funci\u00f3n.*\n",
      "\n",
      "1. *Define una funci\u00f3n `area_circulo` que calcula el \u00e1rea de un c\u00edrculo dado el radio, que se pasa como argumento. El radio est\u00e1 expresado en metros y el \u00e1rea debe expresarse en metros cuadrados.*\n",
      "\n",
      "1. *Define una funci\u00f3n `energia_cinetica` que calcula la energ\u00eda cin\u00e9tica en funci\u00f3n del tiempo de una part\u00edcula de masa `m` en ca\u00edda libre en las proximidades de la superficie terrestre partiendo del reposo. Esta funci\u00f3n debe aceptar dos argumentos, la masa expresada en Kg y el tiempo transcurrido desde que se dej\u00f3 en ca\u00edda libre expresado en segundos. El valor de retorno debe ser la energ\u00eda cin\u00e9tica expresada en Julios.* **Nota: Aunque se pide hacer una funci\u00f3n eso no significa que no se puedan hacer otras auxiliares para simplificar la implementaci\u00f3n.  En particular puede interesar una funci\u00f3n para calcular la velocidad en funci\u00f3n del tiempo.**\n",
      "\n",
      "1. Define una funci\u00f3n `redondear` que devuelva el n\u00famero entero m\u00e1s pr\u00f3ximo al real que se le pasa como argumento. El valor medio se redondear\u00e1 en exceso, es decir 0.5 se redondear\u00e1 como 1."
     ]
    },
    {
     "cell_type": "code",
     "collapsed": false,
     "input": [],
     "language": "python",
     "metadata": {},
     "outputs": []
    }
   ],
   "metadata": {}
  }
 ]
}