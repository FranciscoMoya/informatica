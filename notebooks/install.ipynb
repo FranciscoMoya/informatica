{
 "cells": [
  {
   "cell_type": "markdown",
   "metadata": {},
   "source": [
    "## Instalación del software del laboratorio\n",
    "\n",
    "### Microsoft Windows\n",
    "\n",
    "1. Descarga e instala la distribución oficial de [Python 3](https://www.python.org/downloads/).  Pincha en el botón *Download Python 3.x.y*.  En el momento de escribir este documento era *Download Python 3.5.2* pero no repares en instalar la última versión.\n",
    "\n",
    "1. Ejecuta el intérprete de órdenes de Windows pulsando la tecla con el logo de Windows y teclando `cmd.exe`.\n",
    "\n",
    "1. Vete a la carpeta donde está el instalador y ejecuta:\n",
    "\n",
    "   ```python-3.5.2.exe /quiet InstallAllUsers=1 PrependPath=1 Include_test=0\n",
    "   ```\n",
    "   \n",
    "   Cambia el nombre del ejecutable a la versión concreta que descargaste. \n",
    "\n",
    "1. Escribe las siguientes órdenes en la ventana del intérprete de órdenes:\n",
    "\n",
    "   ```pip install jupyter\n",
    "    ```"
   ]
  }
 ],
 "metadata": {
  "kernelspec": {
   "display_name": "Python 3",
   "language": "python",
   "name": "python3"
  },
  "language_info": {
   "codemirror_mode": {
    "name": "ipython",
    "version": 3
   },
   "file_extension": ".py",
   "mimetype": "text/x-python",
   "name": "python",
   "nbconvert_exporter": "python",
   "pygments_lexer": "ipython3",
   "version": "3.5.2"
  }
 },
 "nbformat": 4,
 "nbformat_minor": 1
}
