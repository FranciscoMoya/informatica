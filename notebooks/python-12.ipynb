{
 "cells": [
  {
   "cell_type": "markdown",
   "metadata": {},
   "source": [
    "# Prueba de software\n",
    "\n",
    "Las pruebas que se pasan en los ejercicios del laboratorio pueden servir de ejemplo para probar tus propios programas. Vemos como ejemplo el primer ejercicio."
   ]
  },
  {
   "cell_type": "code",
   "execution_count": 1,
   "metadata": {
    "collapsed": true
   },
   "outputs": [],
   "source": [
    "def my_email():\n",
    "    return 'francisco.moya@uclm.es'"
   ]
  },
  {
   "cell_type": "markdown",
   "metadata": {},
   "source": [
    "Definir la función que se indica en el enunciado no es tu único trabajo. **Es responsabilidad tuya probar el código *antes* de enviarlo**.  Python incluye una biblioteca para pruebas denominada `unittest`.  El único problema es que exige definir una clase y es posible que todavía no sepas hacerlo.  No te asustes, la herramienta de prácticas tiene multitud de ejemplos que puedes usar directamente como punto de partida."
   ]
  },
  {
   "cell_type": "code",
   "execution_count": 3,
   "metadata": {
    "collapsed": true
   },
   "outputs": [],
   "source": [
    "import unittest"
   ]
  },
  {
   "cell_type": "markdown",
   "metadata": {},
   "source": [
    "Como primera aprosimación basta pasar el ratón por encima del símbolo **&pi;** arriba a la izquierda de la herramienta de entrega de prácticas.  En el primer ejercicio se muestra lo siguiente."
   ]
  },
  {
   "cell_type": "code",
   "execution_count": 4,
   "metadata": {
    "collapsed": false
   },
   "outputs": [],
   "source": [
    "class Test(unittest.TestCase):\n",
    "    def test_my_email(self):\n",
    "        self.assertEqual(1, my_email().count('@'))\n",
    "        self.assertTrue(my_email().endswith('uclm.es'))"
   ]
  },
  {
   "cell_type": "markdown",
   "metadata": {},
   "source": [
    "Es más simple de lo que parece, pero no te preocupes si no lo entiendes de momento.  Dentro de la *clase* `Test` hay una definición de una función `test_my_email` que debería resultarte familiar.  Esa función es la prueba.  Puede haber más de una de estas funciones que comienzan por `test_` dentro de la clase.\n",
    "\n",
    "Dentro de la función vemos varias llamadas a funciones que comienzan por `assert`.  Son aserciones, afirmaciones sobre lo que debe cumplirse para considerar correcto el programa.  No te preocupes por el `self.` que aparece antes de las llamadas, ya lo entenderemos cuando veamos programación orientada a objetos.\n",
    "\n",
    "Hay dos llamadas diferentes, `assertEqual` que afirma que los dos argumentos deben ser iguales y `assertTrue` que afirma que el argumento debe ser cierto (debe ser una expresión booleana de valor *True*).  Vamos a explicar cada una de ellas.\n",
    "\n",
    "La primera utiliza el *método* `count` de las cadenas de texto para asegurar que hay uno y solo un carácter `@`. El método `count` devuelve cuántas veces aparece el argumento en la cadena.  Por ejemplo: "
   ]
  },
  {
   "cell_type": "code",
   "execution_count": 5,
   "metadata": {
    "collapsed": false
   },
   "outputs": [
    {
     "data": {
      "text/plain": [
       "4"
      ]
     },
     "execution_count": 5,
     "metadata": {},
     "output_type": "execute_result"
    }
   ],
   "source": [
    "'El hombre del traje gris no tiene nada que comer hoy'.count('o')"
   ]
  },
  {
   "cell_type": "markdown",
   "metadata": {},
   "source": [
    "Cuidado con `count`, asume que lo que busca es disjunto.  Por ejemplo:"
   ]
  },
  {
   "cell_type": "code",
   "execution_count": 6,
   "metadata": {
    "collapsed": false
   },
   "outputs": [
    {
     "data": {
      "text/plain": [
       "1"
      ]
     },
     "execution_count": 6,
     "metadata": {},
     "output_type": "execute_result"
    }
   ],
   "source": [
    "'reparepare'.count('repare')"
   ]
  },
  {
   "cell_type": "markdown",
   "metadata": {},
   "source": [
    "En realidad hay dos `'repare'` en `'reparepare'`, uno a partir de la posición *0* y otro a partir de la posición *4*.  Pero el segundo solapa con el primero, por lo que no lo tiene en cuenta.\n",
    "\n",
    "De todas formas en nuestro caso es ideal.  Una dirección de correo válida tiene que tener un carácter `@` y solo uno.\n",
    "\n",
    "La llamada `assertTrue` utiliza el método `endswith` de las cadenas para asegurar que la dirección termina en `uclm.es`. Cualquier dirección válida de la UCLM debe terminar en `uclm.es`. "
   ]
  },
  {
   "cell_type": "code",
   "execution_count": 9,
   "metadata": {
    "collapsed": false
   },
   "outputs": [
    {
     "data": {
      "text/plain": [
       "True"
      ]
     },
     "execution_count": 9,
     "metadata": {},
     "output_type": "execute_result"
    }
   ],
   "source": [
    "'Caracola'.endswith('la')"
   ]
  },
  {
   "cell_type": "markdown",
   "metadata": {},
   "source": [
    "Es muy posible que a estas alturas ya hayas descubierto que hubiera sido mucho más simple poner un único `assert` que asegurara que termina en `@alu.uclm.es`."
   ]
  },
  {
   "cell_type": "code",
   "execution_count": 10,
   "metadata": {
    "collapsed": true
   },
   "outputs": [],
   "source": [
    "class OtroTest(unittest.TestCase):\n",
    "    def test_my_email(self):\n",
    "        self.assertTrue(my_email().endswith('@alu.uclm.es'))"
   ]
  },
  {
   "cell_type": "markdown",
   "metadata": {},
   "source": [
    "Desde luego eso habría funcionado con todos los estudiantes, pero no habría funcionado conmigo. Yo no tengo una dirección `@alu.uclm.es` sino `@uclm.es`.  Puedes pensar que eso deja abierta la puerta a un montón de posibles respuestas erróneas.  Por ejemplo: `pepe@jefes.uclm.es` o peor, `chori@kkuclm.es`.  Es cierto, es un compromiso ue deberás afrontar continuamente.  Decide cuánto quieres trabajar en las pruebas para tener ciertas garantías de que tu programa es correcto.\n",
    "\n",
    "No es lo mismo hacer un programa para un avión que para el laboratorio, calibra tu esfuerzo, se trata de que tengas cierta confianza en que el programa es correcto.  Siento comunicarte que en general, salvo en los casos más simples, va a ser imposible que puedas garantizar que el programa es correcto.\n",
    "\n",
    "Ya solo queda ejecutarlo.  Es posible usar herramientas auxiliares (*test runners*), como `nosetests` para ejecutar las pruebas. Sin instalar nada lo puedes hacer tú mismo en Python."
   ]
  },
  {
   "cell_type": "code",
   "execution_count": 11,
   "metadata": {
    "collapsed": false
   },
   "outputs": [
    {
     "name": "stderr",
     "output_type": "stream",
     "text": [
      ".\n",
      "----------------------------------------------------------------------\n",
      "Ran 1 test in 0.003s\n",
      "\n",
      "OK\n"
     ]
    },
    {
     "data": {
      "text/plain": [
       "True"
      ]
     },
     "execution_count": 11,
     "metadata": {},
     "output_type": "execute_result"
    }
   ],
   "source": [
    "suite = unittest.TestLoader().loadTestsFromTestCase(Test)\n",
    "unittest.TextTestRunner().run(suite).wasSuccessful()"
   ]
  },
  {
   "cell_type": "markdown",
   "metadata": {},
   "source": [
    "Hay mucho más sobre pruebas, pero eso te toca a ti descubrirlo.  Si en algún momento te atascas lee la [documentación de unittest](https://docs.python.org/3/library/unittest.html)."
   ]
  },
  {
   "cell_type": "markdown",
   "metadata": {
    "collapsed": true
   },
   "source": [
    "## Depuración con `ipdb`\n",
    "\n",
    "Una vez encontrado un problema hay que solucionarlo.  Para ello típicamente se utilizan llamadas a `print` estratégicamente situadas, como hemos visto en las transparencias del tema.  Si tus funciones son suficientemente pequeñas y tus tests prueban el funcionamiento de cada función será fácil encontrar el error.  Pero no siempre va a ser así.\n",
    "\n",
    "Existe otra forma equivalente al uso de `print` que puede ser considerablemente más efectiva en la vida real, el uso de un depurador.  Se trata de un programa que permite controlar con precisión la ejecución del programa y examinar todas las variables en cualquier punto. Incluso permite analizar la traza de llamadas.\n",
    "\n",
    "En Python el depurador "
   ]
  },
  {
   "cell_type": "code",
   "execution_count": 2,
   "metadata": {
    "collapsed": false
   },
   "outputs": [
    {
     "name": "stdout",
     "output_type": "stream",
     "text": [
      "Automatic pdb calling has been turned ON\n",
      "Hola\n",
      "12 Adios\n"
     ]
    }
   ],
   "source": [
    "%pdb 1\n",
    "\n",
    "print('Hola')\n",
    "a = 12\n",
    "print (a, 'Adios')"
   ]
  },
  {
   "cell_type": "code",
   "execution_count": null,
   "metadata": {
    "collapsed": true
   },
   "outputs": [],
   "source": []
  }
 ],
 "metadata": {
  "kernelspec": {
   "display_name": "Python 3",
   "language": "python",
   "name": "python3"
  },
  "language_info": {
   "codemirror_mode": {
    "name": "ipython",
    "version": 3
   },
   "file_extension": ".py",
   "mimetype": "text/x-python",
   "name": "python",
   "nbconvert_exporter": "python",
   "pygments_lexer": "ipython3",
   "version": "3.5.2"
  }
 },
 "nbformat": 4,
 "nbformat_minor": 1
}
