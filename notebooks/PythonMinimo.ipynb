{
 "cells": [
  {
   "cell_type": "markdown",
   "metadata": {},
   "source": [
    "# Python básico\n",
    "\n",
    "Por diversos problemas administrativos y logísticos parece que hay alumnos con un evidente desconocimiento de partes de Python que consideramos esenciales.  Por tanto voy a describir en este documento toda la sintaxis de Python ya descrita hasta el momento.  Lee el documento rápidamente, sin pararte en cada detalle.  Vuelve a él cuando tengas alguna duda."
   ]
  },
  {
   "cell_type": "markdown",
   "metadata": {},
   "source": [
    "## Expresiones\n",
    "\n",
    "Las expresiones son la forma de expresar cómputos en el ordenador. Hay expresiones simples y compuestas.  Las expresiones simples más importantes son los literales, es decir, los valores inmediatos, como un valor numérico o un texto que se imprime por pantalla.\n",
    "\n",
    "### Literales\n",
    "\n",
    "Las expresiones tienen un tipo asociado que le permite a Python determinar cuándo tienen sentido (semántica estática) o qué operaciones pueden aplicarse."
   ]
  },
  {
   "cell_type": "code",
   "execution_count": 1,
   "metadata": {
    "collapsed": false
   },
   "outputs": [
    {
     "data": {
      "text/plain": [
       "int"
      ]
     },
     "execution_count": 1,
     "metadata": {},
     "output_type": "execute_result"
    }
   ],
   "source": [
    "type(1+34 + 2**5)"
   ]
  },
  {
   "cell_type": "code",
   "execution_count": 2,
   "metadata": {
    "collapsed": false
   },
   "outputs": [
    {
     "data": {
      "text/plain": [
       "str"
      ]
     },
     "execution_count": 2,
     "metadata": {},
     "output_type": "execute_result"
    }
   ],
   "source": [
    "type('hola ' + 'caracola')"
   ]
  },
  {
   "cell_type": "code",
   "execution_count": 3,
   "metadata": {
    "collapsed": false
   },
   "outputs": [
    {
     "data": {
      "text/plain": [
       "float"
      ]
     },
     "execution_count": 3,
     "metadata": {},
     "output_type": "execute_result"
    }
   ],
   "source": [
    "type(251/2)"
   ]
  },
  {
   "cell_type": "code",
   "execution_count": 5,
   "metadata": {
    "collapsed": false
   },
   "outputs": [
    {
     "data": {
      "text/plain": [
       "builtin_function_or_method"
      ]
     },
     "execution_count": 5,
     "metadata": {},
     "output_type": "execute_result"
    }
   ],
   "source": [
    "type(max)"
   ]
  },
  {
   "cell_type": "markdown",
   "metadata": {},
   "source": [
    "#### Cadenas de texto\n",
    "\n",
    "El texto se representa como una secuencia de caracteres entre comillas.  Se les llama habitualmente cadenas de texto."
   ]
  },
  {
   "cell_type": "code",
   "execution_count": 6,
   "metadata": {
    "collapsed": false
   },
   "outputs": [
    {
     "name": "stdout",
     "output_type": "stream",
     "text": [
      "¿Qué tal?\n"
     ]
    }
   ],
   "source": [
    "print('¿Qué tal?')"
   ]
  },
  {
   "cell_type": "markdown",
   "metadata": {},
   "source": [
    "Las cadenas de texto funcionan como cualquier otra secuencia (listas, tuplas, etc.) en muchos sentidos.  Por ejemplo, podemos obtener cualquier letra de la cadena con el operador de indexación.  Los índices negativos sirven para contar desde el final."
   ]
  },
  {
   "cell_type": "code",
   "execution_count": 8,
   "metadata": {
    "collapsed": false
   },
   "outputs": [
    {
     "name": "stdout",
     "output_type": "stream",
     "text": [
      "a e z w\n"
     ]
    }
   ],
   "source": [
    "s = 'abcdefghijklmnñopqrstuvwxyz'\n",
    "print(s[0], s[4], s[-1], s[-4])"
   ]
  },
  {
   "cell_type": "markdown",
   "metadata": {},
   "source": [
    "Podemos obtener la longitud con la función `len`."
   ]
  },
  {
   "cell_type": "code",
   "execution_count": 12,
   "metadata": {
    "collapsed": false
   },
   "outputs": [
    {
     "data": {
      "text/plain": [
       "27"
      ]
     },
     "execution_count": 12,
     "metadata": {},
     "output_type": "execute_result"
    }
   ],
   "source": [
    "len(s)"
   ]
  },
  {
   "cell_type": "markdown",
   "metadata": {},
   "source": [
    "También se pueden obtener subcadenas (rodajas o *slices*) usando la notación especial separada por dos puntos.  La notación corresponde a *primero:último:salto* pero el segundo signo `:` junto al tercer número se pueden omitir si el salto es de uno en uno.  Por otro lado si se omite el primer número se asume el primer elemento.  Y si se omite el último se asume `len(s)`.  El último elemento no se incluye en la rodaja. "
   ]
  },
  {
   "cell_type": "code",
   "execution_count": 11,
   "metadata": {
    "collapsed": false
   },
   "outputs": [
    {
     "name": "stdout",
     "output_type": "stream",
     "text": [
      "efg abc defghijklmnñopqrstuvwxyz xyz\n",
      "aeimptx zyxwvutsrqpoñnmlkjihgfedcba\n"
     ]
    }
   ],
   "source": [
    "print(s[4:7], s[:3], s[3:], s[-3:])\n",
    "print(s[::4], s[::-1])"
   ]
  },
  {
   "cell_type": "markdown",
   "metadata": {},
   "source": [
    "#### Números enteros\n",
    "\n",
    "Python 3 tiene enteros de precisión arbitraria.  Eso significa que no hay límite en el tamaño que pueden tener.  Por ejemplo:"
   ]
  },
  {
   "cell_type": "code",
   "execution_count": 14,
   "metadata": {
    "collapsed": false
   },
   "outputs": [
    {
     "data": {
      "text/plain": [
       "3576720803565275057839928219353083921763535259468698662753739152198552441867883647143304428637726141133835596930347257022227256683860990623981160430533007689883916308559118990520146216899699248238931399641413845615405251814462209444850454652714334205292077092223677308216738965107105682968359166327863506711948610474227555031881236534132855712180707371506836324487806365067661619066349957068368599876048426776492574045512344928622851612631408186799965481951599514299320985419831699339082151647887667702459162952921870631514562032839424059238157521104510001197050206012304136306326417222969089279622337718269953046640849445119972864193163906852973990993916046565484375085517592524959655061567575060419482887691343703741609788280527973997927868816235126269880880695310768033978427832595814683231289717256596146826674836556793769044528480443382424075224851267780806416197680367795308315040020246019511627745987158655671829042268906633428954797799329045711381633521769648556208828100473192244572164644396423321472805318672454370005905911578624"
      ]
     },
     "execution_count": 14,
     "metadata": {},
     "output_type": "execute_result"
    }
   ],
   "source": [
    "2**3450"
   ]
  },
  {
   "cell_type": "markdown",
   "metadata": {},
   "source": [
    "Se puede operar con enteros con los operadores habituales, pero algunas operaciones, como la división, transforma automáticamente la expresión a un real (`float`).  Utiliza `//` para forzar división entera y no perder precisión."
   ]
  },
  {
   "cell_type": "code",
   "execution_count": 24,
   "metadata": {
    "collapsed": false
   },
   "outputs": [
    {
     "data": {
      "text/plain": [
       "-5486.0"
      ]
     },
     "execution_count": 24,
     "metadata": {},
     "output_type": "execute_result"
    }
   ],
   "source": [
    "1 + 234/2 - 12*467"
   ]
  },
  {
   "cell_type": "code",
   "execution_count": 25,
   "metadata": {
    "collapsed": false
   },
   "outputs": [
    {
     "data": {
      "text/plain": [
       "-949821299374867988367006445935468947728240327862138942679222216778263664305847980765085571013514803957628929608440367963524799007504837583040638797192347089570343219374611020522772880553794775071580728875711895182979534963304674837919716928303262567747187318990754271757669822055916381627187139147911963866975494751071408475962978595735120695989029147772866023802484787550574780375900612346891376743019718088514764136772974738963333488776212143218060179060802790241430148844140839702959457637470996266890"
      ]
     },
     "execution_count": 25,
     "metadata": {},
     "output_type": "execute_result"
    }
   ],
   "source": [
    "1 + 234//2 - 12**467"
   ]
  },
  {
   "cell_type": "markdown",
   "metadata": {},
   "source": [
    "#### Números reales\n",
    "\n",
    "Se expresan en base 10 con un punto para separar la parte decimal y en notación científica (con una `e` para representar $\\times 10^x$)."
   ]
  },
  {
   "cell_type": "code",
   "execution_count": 27,
   "metadata": {
    "collapsed": false
   },
   "outputs": [
    {
     "data": {
      "text/plain": [
       "-14987.6599875"
      ]
     },
     "execution_count": 27,
     "metadata": {},
     "output_type": "execute_result"
    }
   ],
   "source": [
    "1.25e-5 + 12.34 - 15e+3"
   ]
  },
  {
   "cell_type": "markdown",
   "metadata": {},
   "source": [
    "Los números reales **no tienen precisión infinita**.  Se representan internamente como signo, mantisa normalizada y exponente utilizando base 2.  Los detalles no son relevantes en este punto del curso.  Pero sí es importante saber que esto implica que es fácil perder resolución."
   ]
  },
  {
   "cell_type": "code",
   "execution_count": 28,
   "metadata": {
    "collapsed": false
   },
   "outputs": [
    {
     "data": {
      "text/plain": [
       "1.3877787807814457e-16"
      ]
     },
     "execution_count": 28,
     "metadata": {},
     "output_type": "execute_result"
    }
   ],
   "source": [
    "n = 1.0\n",
    "for i in range(10):\n",
    "    n = n - 0.1\n",
    "n"
   ]
  },
  {
   "cell_type": "markdown",
   "metadata": {},
   "source": [
    "#### Llamada a función\n",
    "\n",
    "**La expresión más importante de todas es la llamada a función**."
   ]
  },
  {
   "cell_type": "markdown",
   "metadata": {},
   "source": [
    "## Variables"
   ]
  },
  {
   "cell_type": "markdown",
   "metadata": {},
   "source": [
    "## Funciones"
   ]
  },
  {
   "cell_type": "markdown",
   "metadata": {},
   "source": [
    "## Bifurcación\n",
    "\n"
   ]
  },
  {
   "cell_type": "markdown",
   "metadata": {},
   "source": [
    "## Iteración"
   ]
  },
  {
   "cell_type": "markdown",
   "metadata": {},
   "source": [
    "## Listas"
   ]
  },
  {
   "cell_type": "markdown",
   "metadata": {},
   "source": [
    "## Aspectos avanzados"
   ]
  }
 ],
 "metadata": {
  "kernelspec": {
   "display_name": "Python 3",
   "language": "python",
   "name": "python3"
  },
  "language_info": {
   "codemirror_mode": {
    "name": "ipython",
    "version": 3
   },
   "file_extension": ".py",
   "mimetype": "text/x-python",
   "name": "python",
   "nbconvert_exporter": "python",
   "pygments_lexer": "ipython3",
   "version": "3.5.2"
  }
 },
 "nbformat": 4,
 "nbformat_minor": 1
}
