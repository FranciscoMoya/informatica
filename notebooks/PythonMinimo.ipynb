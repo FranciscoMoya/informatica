{
 "cells": [
  {
   "cell_type": "markdown",
   "metadata": {},
   "source": [
    "# Python básico\n",
    "\n",
    "Por diversos problemas administrativos y logísticos parece que hay alumnos con un evidente desconocimiento de partes de Python que consideramos esenciales.  Por tanto voy a describir en este documento toda la sintaxis de Python ya descrita hasta el momento.  Lee el documento rápidamente, sin pararte en cada detalle.  Vuelve a él cuando tengas alguna duda."
   ]
  },
  {
   "cell_type": "markdown",
   "metadata": {},
   "source": [
    "## Expresiones\n",
    "\n",
    "Las expresiones son la forma de expresar cómputos en el ordenador. Hay expresiones simples y compuestas.  Las expresiones simples más importantes son los literales, es decir, los valores inmediatos, como un valor numérico o un texto que se imprime por pantalla.\n",
    "\n",
    "### Literales\n",
    "\n",
    "Las expresiones tienen un tipo asociado que le permite a Python determinar cuándo tienen sentido (semántica estática) o qué operaciones pueden aplicarse."
   ]
  },
  {
   "cell_type": "code",
   "execution_count": 1,
   "metadata": {
    "collapsed": false
   },
   "outputs": [
    {
     "data": {
      "text/plain": [
       "int"
      ]
     },
     "execution_count": 1,
     "metadata": {},
     "output_type": "execute_result"
    }
   ],
   "source": [
    "type(1+34 + 2**5)"
   ]
  },
  {
   "cell_type": "code",
   "execution_count": 2,
   "metadata": {
    "collapsed": false
   },
   "outputs": [
    {
     "data": {
      "text/plain": [
       "str"
      ]
     },
     "execution_count": 2,
     "metadata": {},
     "output_type": "execute_result"
    }
   ],
   "source": [
    "type('hola ' + 'caracola')"
   ]
  },
  {
   "cell_type": "code",
   "execution_count": 3,
   "metadata": {
    "collapsed": false
   },
   "outputs": [
    {
     "data": {
      "text/plain": [
       "float"
      ]
     },
     "execution_count": 3,
     "metadata": {},
     "output_type": "execute_result"
    }
   ],
   "source": [
    "type(251/2)"
   ]
  },
  {
   "cell_type": "code",
   "execution_count": 5,
   "metadata": {
    "collapsed": false
   },
   "outputs": [
    {
     "data": {
      "text/plain": [
       "builtin_function_or_method"
      ]
     },
     "execution_count": 5,
     "metadata": {},
     "output_type": "execute_result"
    }
   ],
   "source": [
    "type(max)"
   ]
  },
  {
   "cell_type": "markdown",
   "metadata": {},
   "source": [
    "#### Cadenas de texto\n",
    "\n",
    "El texto se representa como una secuencia de caracteres entre comillas.  Se les llama habitualmente cadenas de texto."
   ]
  },
  {
   "cell_type": "code",
   "execution_count": 6,
   "metadata": {
    "collapsed": false
   },
   "outputs": [
    {
     "name": "stdout",
     "output_type": "stream",
     "text": [
      "¿Qué tal?\n"
     ]
    }
   ],
   "source": [
    "print('¿Qué tal?')"
   ]
  },
  {
   "cell_type": "markdown",
   "metadata": {},
   "source": [
    "Las cadenas de texto funcionan como cualquier otra secuencia (listas, tuplas, etc.) en muchos sentidos.  Por ejemplo, podemos obtener cualquier letra de la cadena con el operador de indexación.  Los índices negativos sirven para contar desde el final."
   ]
  },
  {
   "cell_type": "code",
   "execution_count": 8,
   "metadata": {
    "collapsed": false
   },
   "outputs": [
    {
     "name": "stdout",
     "output_type": "stream",
     "text": [
      "a e z w\n"
     ]
    }
   ],
   "source": [
    "s = 'abcdefghijklmnñopqrstuvwxyz'\n",
    "print(s[0], s[4], s[-1], s[-4])"
   ]
  },
  {
   "cell_type": "markdown",
   "metadata": {},
   "source": [
    "Podemos obtener la longitud con la función `len`."
   ]
  },
  {
   "cell_type": "code",
   "execution_count": 12,
   "metadata": {
    "collapsed": false
   },
   "outputs": [
    {
     "data": {
      "text/plain": [
       "27"
      ]
     },
     "execution_count": 12,
     "metadata": {},
     "output_type": "execute_result"
    }
   ],
   "source": [
    "len(s)"
   ]
  },
  {
   "cell_type": "markdown",
   "metadata": {},
   "source": [
    "También se pueden obtener subcadenas (rodajas o *slices*) usando la notación especial separada por dos puntos.  La notación corresponde a *primero:último:salto* pero el segundo signo `:` junto al tercer número se pueden omitir si el salto es de uno en uno.  Por otro lado si se omite el primer número se asume el primer elemento.  Y si se omite el último se asume `len(s)`.  El último elemento no se incluye en la rodaja. "
   ]
  },
  {
   "cell_type": "code",
   "execution_count": 11,
   "metadata": {
    "collapsed": false
   },
   "outputs": [
    {
     "name": "stdout",
     "output_type": "stream",
     "text": [
      "efg abc defghijklmnñopqrstuvwxyz xyz\n",
      "aeimptx zyxwvutsrqpoñnmlkjihgfedcba\n"
     ]
    }
   ],
   "source": [
    "print(s[4:7], s[:3], s[3:], s[-3:])\n",
    "print(s[::4], s[::-1])"
   ]
  },
  {
   "cell_type": "markdown",
   "metadata": {},
   "source": [
    "#### Números enteros\n",
    "\n",
    "Python 3 tiene enteros de precisión arbitraria.  Eso significa que no hay límite en el tamaño que pueden tener.  Por ejemplo:"
   ]
  },
  {
   "cell_type": "code",
   "execution_count": 14,
   "metadata": {
    "collapsed": false
   },
   "outputs": [
    {
     "data": {
      "text/plain": [
       "3576720803565275057839928219353083921763535259468698662753739152198552441867883647143304428637726141133835596930347257022227256683860990623981160430533007689883916308559118990520146216899699248238931399641413845615405251814462209444850454652714334205292077092223677308216738965107105682968359166327863506711948610474227555031881236534132855712180707371506836324487806365067661619066349957068368599876048426776492574045512344928622851612631408186799965481951599514299320985419831699339082151647887667702459162952921870631514562032839424059238157521104510001197050206012304136306326417222969089279622337718269953046640849445119972864193163906852973990993916046565484375085517592524959655061567575060419482887691343703741609788280527973997927868816235126269880880695310768033978427832595814683231289717256596146826674836556793769044528480443382424075224851267780806416197680367795308315040020246019511627745987158655671829042268906633428954797799329045711381633521769648556208828100473192244572164644396423321472805318672454370005905911578624"
      ]
     },
     "execution_count": 14,
     "metadata": {},
     "output_type": "execute_result"
    }
   ],
   "source": [
    "2**3450"
   ]
  },
  {
   "cell_type": "markdown",
   "metadata": {},
   "source": [
    "Se puede operar con enteros con los operadores habituales, pero algunas operaciones, como la división, transforma automáticamente la expresión a un real (`float`).  Utiliza `//` para forzar división entera y no perder precisión."
   ]
  },
  {
   "cell_type": "code",
   "execution_count": 4,
   "metadata": {
    "collapsed": false
   },
   "outputs": [
    {
     "data": {
      "text/plain": [
       "-4.388714385610605e+49"
      ]
     },
     "execution_count": 4,
     "metadata": {},
     "output_type": "execute_result"
    }
   ],
   "source": [
    "1 + 234/2 - 12**46"
   ]
  },
  {
   "cell_type": "code",
   "execution_count": 3,
   "metadata": {
    "collapsed": false
   },
   "outputs": [
    {
     "data": {
      "text/plain": [
       "-43887143856106046360568987631860370008329246736266"
      ]
     },
     "execution_count": 3,
     "metadata": {},
     "output_type": "execute_result"
    }
   ],
   "source": [
    "1 + 234//2 - 12**46"
   ]
  },
  {
   "cell_type": "markdown",
   "metadata": {},
   "source": [
    "#### Números reales\n",
    "\n",
    "Se expresan en base 10 con un punto para separar la parte decimal y en notación científica (con una `e` para representar $\\times 10^n$)."
   ]
  },
  {
   "cell_type": "code",
   "execution_count": 27,
   "metadata": {
    "collapsed": false
   },
   "outputs": [
    {
     "data": {
      "text/plain": [
       "-14987.6599875"
      ]
     },
     "execution_count": 27,
     "metadata": {},
     "output_type": "execute_result"
    }
   ],
   "source": [
    "1.25e-5 + 12.34 - 15e+3"
   ]
  },
  {
   "cell_type": "markdown",
   "metadata": {},
   "source": [
    "Los números reales **no tienen precisión infinita**.  Se representan internamente como signo, mantisa normalizada de tamaño fijo y exponente de tamaño fijo utilizando base 2.  Los detalles no son relevantes en este punto del curso.  Pero sí es importante saber que esto implica que es fácil perder resolución."
   ]
  },
  {
   "cell_type": "code",
   "execution_count": 28,
   "metadata": {
    "collapsed": false
   },
   "outputs": [
    {
     "data": {
      "text/plain": [
       "1.3877787807814457e-16"
      ]
     },
     "execution_count": 28,
     "metadata": {},
     "output_type": "execute_result"
    }
   ],
   "source": [
    "n = 1.0\n",
    "for i in range(10):\n",
    "    n = n - 0.1\n",
    "n"
   ]
  },
  {
   "cell_type": "markdown",
   "metadata": {},
   "source": [
    "Por tanto no se debe comparar reales con igualdad"
   ]
  },
  {
   "cell_type": "markdown",
   "metadata": {},
   "source": [
    "#### Llamada a función\n",
    "\n",
    "La expresión más importante de todas es la llamada a función.  Es tan importante porque por sí sola permite implementar todas las demás.  Consideramos completamente esencial saber definir funciones y usar funciones (llamar a dichas funciones).  La llamada a función es similar al uso de funciones en matemáticas."
   ]
  },
  {
   "cell_type": "code",
   "execution_count": 14,
   "metadata": {
    "collapsed": false
   },
   "outputs": [
    {
     "data": {
      "text/plain": [
       "43"
      ]
     },
     "execution_count": 14,
     "metadata": {},
     "output_type": "execute_result"
    }
   ],
   "source": [
    "max(1,2,5,21,4,43,11,3,9)"
   ]
  },
  {
   "cell_type": "markdown",
   "metadata": {},
   "source": [
    "## Variables\n",
    "\n",
    "Python permite poner nombres a valores almacenados en memoria usando *sentencias de asignación*."
   ]
  },
  {
   "cell_type": "code",
   "execution_count": null,
   "metadata": {
    "collapsed": true
   },
   "outputs": [],
   "source": [
    "pi = 3.141592653589793\n",
    "radio = 20\n",
    "area = pi * radio**2"
   ]
  },
  {
   "cell_type": "markdown",
   "metadata": {},
   "source": [
    "A la derecha del signo `=` debe haber un valor.  Por ejemplo, el resultado de evaluar una expresión aritmética, o un literal.  Ese valor se almacena en memoria y se le asocia el nombre de la izquierda.  A partir de ahora se puede usar el nombre para referirse al valor almacenado.\n",
    "\n",
    "Python permite asignar varias variables de golpe separando los elementos por comas:"
   ]
  },
  {
   "cell_type": "code",
   "execution_count": 15,
   "metadata": {
    "collapsed": false
   },
   "outputs": [
    {
     "name": "stdout",
     "output_type": "stream",
     "text": [
      "10\n",
      "25\n"
     ]
    }
   ],
   "source": [
    "a, b = 10, 25\n",
    "print(a)\n",
    "print(b)"
   ]
  },
  {
   "cell_type": "markdown",
   "metadata": {},
   "source": [
    "En cualquier caso todas las expresiones de la derecha se evalúan *antes* de poner los nombres de la izquierda.  Por tanto puede usarse para intercambio de valores:"
   ]
  },
  {
   "cell_type": "code",
   "execution_count": 16,
   "metadata": {
    "collapsed": false
   },
   "outputs": [
    {
     "name": "stdout",
     "output_type": "stream",
     "text": [
      "25\n",
      "10\n"
     ]
    }
   ],
   "source": [
    "a, b = b, a\n",
    "print(a)\n",
    "print(b)"
   ]
  },
  {
   "cell_type": "markdown",
   "metadata": {},
   "source": [
    "## Funciones"
   ]
  },
  {
   "cell_type": "markdown",
   "metadata": {},
   "source": [
    "Es muy importante saber definir y usar funciones. La estructura general es simple."
   ]
  },
  {
   "cell_type": "code",
   "execution_count": 7,
   "metadata": {
    "collapsed": true
   },
   "outputs": [],
   "source": [
    "def funcion(arg1, arg2):\n",
    "    resultado = (arg1 * arg2)**0.5\n",
    "    return resultado"
   ]
  },
  {
   "cell_type": "markdown",
   "metadata": {},
   "source": [
    "Los argumentos o parámetros formales de la función (`arg1` y `arg2` en nuestro ejemplo) son simplemente nombres para referirnos a lo que se pase como primer argumento, segundo argumento, etc. en cualquier llamada a la función.  Permiten escribir lo que debe hacer la función con esos argumentos sin conocer los valores que se van a usar.  En este sentido proporcionan un mecanismo de abstracción, que se conoce como *abstracción lambda*.\n",
    "\n",
    "La forma en la que se implementa esta *abstracción lambda* en Python es también interesante.  Cuando se llama a una función se crea un nuevo ámbito de declaración de variables y en ese nuevo ámbito se crean nuevas variables con el nombre de los parámetros formales que se refieren a los valores de los argumentos pasados en la llamada.  El ámbito de declaración de la función desaparece cuando la función se destruye.\n",
    "\n",
    "Por ejemplo:"
   ]
  },
  {
   "cell_type": "code",
   "execution_count": 10,
   "metadata": {
    "collapsed": false
   },
   "outputs": [
    {
     "data": {
      "text/plain": [
       "13.416407864998739"
      ]
     },
     "execution_count": 10,
     "metadata": {},
     "output_type": "execute_result"
    }
   ],
   "source": [
    "funcion(12, 15)"
   ]
  },
  {
   "cell_type": "markdown",
   "metadata": {},
   "source": [
    "En esta llamada se crea un ámbito de declaración en el que se incluyen las siguientes asignaciones."
   ]
  },
  {
   "cell_type": "code",
   "execution_count": 11,
   "metadata": {
    "collapsed": true
   },
   "outputs": [],
   "source": [
    "arg1 = 12\n",
    "arg2 = 15\n",
    "resultado = (arg1*arg2)**0.5"
   ]
  },
  {
   "cell_type": "markdown",
   "metadata": {},
   "source": [
    "Las dos primeras corresponden a los parámetros formales y l última es del cuerpo de la función.  Durante la llamada a la función sí que existe una variable para cada parámetro formal, es la forma en la que Python implementa la *abstracción lambda*.  Además cualquier asignación a variables que ocurra dentro de esa llamada a función se realizará en el ámbito de declaración de variables de la función, que desaparecerá tan pronto como la función termine con un `return` o llegando a la última sentencia.  Es decir, `arg1`, `arg2` y `resultado` ya no existirán después de ejecutar la función.  Lo único que permanece es el valor devuelto con `return`, como valor de la expresión de llamada.  Tendrás que almacenarlo en una variable o pasarlo como argumento a otra función para que pueda ser usado.\n",
    "\n",
    "Si no se entiende la llamada a función recomendamos la experimentación con [Python Tutor](pythontutor.com) de Philip Guo.  No es posible avanzar de ninguna manera sin haber entendido perfectamente cómo funcionan la definición y las llamadas a funciones.  Si necesitas ayuda acude a tutorías o al laboratorio."
   ]
  },
  {
   "cell_type": "markdown",
   "metadata": {},
   "source": [
    "## Bifurcación\n",
    "\n",
    "La ejecución condicional de código se realiza con la sentencia `if`:"
   ]
  },
  {
   "cell_type": "code",
   "execution_count": 17,
   "metadata": {
    "collapsed": false
   },
   "outputs": [
    {
     "name": "stdout",
     "output_type": "stream",
     "text": [
      "a es mayor de 5\n"
     ]
    }
   ],
   "source": [
    "if a > 5:\n",
    "    print('a es mayor de 5')\n",
    "elif a < 0:\n",
    "    print('a es negativo')\n",
    "else:\n",
    "    print('a está en el intervalo [0,5]')"
   ]
  },
  {
   "cell_type": "markdown",
   "metadata": {},
   "source": [
    "La claúsula `elif` es una abreviatura de *else if* y puede repetirse tantas veces como sea necesario (nada recomendable). Tanto la claúsula `elif` como la claúsula `else` son opcionales. Las condiciones después de `if` o después `elif` deben ser expresiones booleanas (de valor `True` o `False`)."
   ]
  },
  {
   "cell_type": "markdown",
   "metadata": {},
   "source": [
    "## Repetición\n",
    "\n",
    "Python incluye dos sentencias para repetir: `while` y `for`.  Se podría hacer todo con `while` pero `for` es más cómodo cuando se conoce a priori el número de repeticiones, o se conoce una expresión para calcular el número de repeticiones."
   ]
  },
  {
   "cell_type": "code",
   "execution_count": 35,
   "metadata": {
    "collapsed": false
   },
   "outputs": [],
   "source": [
    "def leer_entero():\n",
    "    while True:\n",
    "        s = input('Introduce un número ')\n",
    "        if s.isdecimal():\n",
    "            return int(s)\n",
    "        print('Entrada inválida')\n",
    "        \n",
    "def paracetamol_dosis(kg):\n",
    "    mg_kg_hora = 50/24\n",
    "    mg_hora = mg_kg_hora*kg\n",
    "    ml_hora = mg_hora/40\n",
    "    print('Apiretal 40 para niño de {}kg\\n'.format(kg))\n",
    "    print('Cada\\tmg\\tml')\n",
    "    print('----\\t--\\t--')\n",
    "    for horas in (4, 6, 8):\n",
    "        print('{}h\\t{}\\t{}'\n",
    "              .format(horas,\n",
    "                      round(mg_hora*horas),\n",
    "                      round(ml_hora*horas)))"
   ]
  },
  {
   "cell_type": "code",
   "execution_count": 29,
   "metadata": {
    "collapsed": false
   },
   "outputs": [
    {
     "name": "stdout",
     "output_type": "stream",
     "text": [
      "Introduce un número 1a\n",
      "Entrada inválida\n",
      "Introduce un número 12\n"
     ]
    },
    {
     "data": {
      "text/plain": [
       "12"
      ]
     },
     "execution_count": 29,
     "metadata": {},
     "output_type": "execute_result"
    }
   ],
   "source": [
    "leer_entero()"
   ]
  },
  {
   "cell_type": "code",
   "execution_count": 36,
   "metadata": {
    "collapsed": false,
    "scrolled": true
   },
   "outputs": [
    {
     "name": "stdout",
     "output_type": "stream",
     "text": [
      "Apiretal 40 para niño de 13kg\n",
      "\n",
      "Cada\tmg\tml\n",
      "----\t--\t--\n",
      "4h\t108\t3\n",
      "6h\t162\t4\n",
      "8h\t217\t5\n"
     ]
    }
   ],
   "source": [
    "paracetamol_dosis(13)"
   ]
  },
  {
   "cell_type": "markdown",
   "metadata": {},
   "source": [
    "## Listas\n",
    "\n",
    "Las listas son la secuencia más flexible de Python.  Mantiene el orden de sus elementos y puede modificarse después de su creación (se dice que es *mutable*)."
   ]
  },
  {
   "cell_type": "markdown",
   "metadata": {},
   "source": [
    "Operación         | Significado\n",
    "------------------|----------------------\n",
    "`l = []`          | Crea una lista vacía\n",
    "`l = [1,2,3]`     | Crea una lista con valores iniciales\n",
    "`len(l)`          | Número de elementos\n",
    "`l.append(4)`     | Añade un elemento\n",
    "`l.remove(2)`     | Elimina un elemento\n",
    "`l.count(2)`      | Número de veces que aparece el elemento 2 en `l`\n",
    "`del l[2]`        | Elimina el elemento de la posición 2\n",
    "`l.extend([5,6])` | Extiende la lista con los elementos de otra lista\n",
    "`m = l + [5,6]`   | Crea otra lista concatenando `l` y `[5,6]`\n",
    "`4 in l`          | `True` si `4` está en la lista `l`\n",
    "`a = l.pop()`     | Quita el último elemento de `l` y lo devuelve \n",
    "`l[1]`            | Segundo elemento de la lista\n",
    "`m = l[:]`        | Copia todos los elementos de la lista `l` en una nueva lista `m`\n",
    "`m = l[1:4]`      | Nueva lista con los elementos de `l` que ocupan las posiciones 1, 2 y 3\n",
    "`m = l[:3]`       | Nueva lista con los 3 primeros elementos de `l`\n",
    "`m = l[-3:]`      | Nueva lista con los 3 últimos elementos de `l`\n",
    "`m = l[::2]`      | Nueva lista con los elementos de `l` en posición par\n",
    "`m = l[1::2]`     | Nueva lista con los elementos de `l` en posición impar"
   ]
  },
  {
   "cell_type": "markdown",
   "metadata": {},
   "source": [
    "## Tuplas\n",
    "\n",
    "Las tuplas son la secuencia más sencilla (y eficiente) de Python.  Una vez creada no puede modificarse (se dice que es *inmutable*)."
   ]
  },
  {
   "cell_type": "markdown",
   "metadata": {},
   "source": [
    "Operación         | Significado\n",
    "------------------|----------------------\n",
    "`l = (1,2,3)`     | Crea una tupla con 3 valores\n",
    "`len(l)`          | Número de elementos\n",
    "`m = l + (5,6)`   | Crea otra tupla concatenando `l` y `(5,6)`\n",
    "`4 in l`          | `True` si `4` está en la tupla `l`\n",
    "`l[1]`            | Segundo elemento de la tupla"
   ]
  },
  {
   "cell_type": "markdown",
   "metadata": {},
   "source": [
    "## Diccionarios\n",
    "\n",
    "Los diccionarios son contenedores de parejas clave/valor.  Pueden modificarse después de su creación (se dice que es *mutable*)."
   ]
  },
  {
   "cell_type": "markdown",
   "metadata": {},
   "source": [
    "Operación         | Significado\n",
    "------------------|----------------------\n",
    "`d = {}`          | Crea un diccionario vacío\n",
    "`d = {'a':1,'b':2,'c':3]` | Crea un diccionario con valores iniciales\n",
    "`len(d)`          | Número de elementos\n",
    "`d['d'] = 4`      | Añade un elemento\n",
    "`del d['b']`      | Elimina un elemento\n",
    "`d.update({'d':4,'e':5})` | Extiende el diccionario con los elementos de otro diccionario\n",
    "`'c' in d`        | `True` si `'c'` está en el diccionario `d`\n",
    "`a = d.pop('e')`  | Quita el elemento con clave `'e'` y lo devuelve \n",
    "`m = d['a']`      | Elemento con clave 'a'"
   ]
  },
  {
   "cell_type": "markdown",
   "metadata": {},
   "source": [
    "## Conjuntos\n",
    "\n",
    "Los conjuntos son contenedores sin orden donde los elementos no se repiten.  Pueden modificarse después de su creación (se dice que son *mutables*) y están optimizados para determinar pertenencia.  Implementan todas las operaciones típicas del álgebra de Boole.  Los conjuntos no soportan indexación (operador `[]`)."
   ]
  },
  {
   "cell_type": "markdown",
   "metadata": {},
   "source": [
    "Operación         | Significado\n",
    "------------------|----------------------\n",
    "`a = set()`       | Crea un conjunto vacío\n",
    "`a = set([1,2,3])`| Crea un conjunto con valores iniciales\n",
    "`len(a)`          | Número de elementos\n",
    "`a.add(4)`        | Añade un elemento\n",
    "`a.remove(2)`     | Elimina un elemento\n",
    "`a.update([5,6])` | Añade un conjunto de elementos\n",
    "`a.union(b)`      | Nuevo conjunto con unión de conjuntos\n",
    "`a.intersection(b)`| Nuevo conjunto con intersección de conjuntos\n",
    "`a.symetric_difference(b)`| Nuevo conjunto con diferencia simétrica de conjuntos\n",
    "`a - b`           | Nuevo conjunto con diferencia de conjuntos\n",
    "`4 in a`          | `True` si `4` está en el conjunto `a`\n",
    "`x = a.pop()`     | Quita un elemento de `a` y lo devuelve "
   ]
  },
  {
   "cell_type": "markdown",
   "metadata": {},
   "source": [
    "## Rodajas (slices)\n",
    "\n",
    "Uno de los aspectos más importantes de los contenedores es la capacidad de indexar para seleccionar trozos del contenedor.  Cuanta más práctica tengas en el uso de rodajas más sencillos serán tus tipos de datos.\n",
    "\n",
    "La forma general de una rodaja es `contenedor[primero:ultimo:salto]`. Produce un subconjunto de elementos (rodaja) que corresponde a todos los elementos con posiciones entre `primero` y `ultimo` (sin contar `ultimo`) tomando un elemento de cada `salto` elementos.  Si se omite `primero` se asume *0*, si se omite `ultimo` se asume `len(contenedor)` y si se omite `salto` se asume *1*.\n",
    "\n",
    "Esto funciona con cualquier objeto iterable que tenga operador de indexación.  Funciona con cadenas de texto, listas, tuplas, rangos. Veamos algunos ejemplos."
   ]
  },
  {
   "cell_type": "code",
   "execution_count": 11,
   "metadata": {
    "collapsed": false
   },
   "outputs": [
    {
     "data": {
      "text/plain": [
       "(77, 86, 43, 7, 72, 63, 13, 58, 86, 94, 98, 96, 40, 25, 68)"
      ]
     },
     "execution_count": 11,
     "metadata": {},
     "output_type": "execute_result"
    }
   ],
   "source": [
    "import random\n",
    "l = tuple(random.randint(0,100) for i in range(15))\n",
    "l"
   ]
  },
  {
   "cell_type": "markdown",
   "metadata": {},
   "source": [
    "Los elementos de posición par y los de posición impar:"
   ]
  },
  {
   "cell_type": "code",
   "execution_count": 14,
   "metadata": {
    "collapsed": false
   },
   "outputs": [
    {
     "data": {
      "text/plain": [
       "((77, 43, 72, 13, 86, 98, 40, 68), (86, 7, 63, 58, 94, 96, 25))"
      ]
     },
     "execution_count": 14,
     "metadata": {},
     "output_type": "execute_result"
    }
   ],
   "source": [
    "l[::2], l[1::2]"
   ]
  },
  {
   "cell_type": "markdown",
   "metadata": {},
   "source": [
    "Los tres primeros y los tres últimos:"
   ]
  },
  {
   "cell_type": "code",
   "execution_count": 15,
   "metadata": {
    "collapsed": false
   },
   "outputs": [
    {
     "data": {
      "text/plain": [
       "((77, 86, 43), (40, 25, 68))"
      ]
     },
     "execution_count": 15,
     "metadata": {},
     "output_type": "execute_result"
    }
   ],
   "source": [
    "l[:3], l[-3:]"
   ]
  },
  {
   "cell_type": "markdown",
   "metadata": {},
   "source": [
    "Acostúmbrate a usar rodajas para modelar datos complejos.  Por ejemplo, una matriz 3x3 se puede representar directamente como un tupla de 9 elementos:"
   ]
  },
  {
   "cell_type": "code",
   "execution_count": 17,
   "metadata": {
    "collapsed": false
   },
   "outputs": [
    {
     "data": {
      "text/plain": [
       "(10, 5, 0, 4, 5, 9, 2, 4, 8)"
      ]
     },
     "execution_count": 17,
     "metadata": {},
     "output_type": "execute_result"
    }
   ],
   "source": [
    "a = tuple(random.randint(0,10) for i in range(9))\n",
    "a"
   ]
  },
  {
   "cell_type": "markdown",
   "metadata": {},
   "source": [
    "Las tres filas se pueden imprimir como rodajas:"
   ]
  },
  {
   "cell_type": "code",
   "execution_count": 19,
   "metadata": {
    "collapsed": false
   },
   "outputs": [
    {
     "data": {
      "text/plain": [
       "((10, 5, 0), (4, 5, 9), (2, 4, 8))"
      ]
     },
     "execution_count": 19,
     "metadata": {},
     "output_type": "execute_result"
    }
   ],
   "source": [
    "a[:3], a[3:6], a[6:]"
   ]
  },
  {
   "cell_type": "markdown",
   "metadata": {},
   "source": [
    "Las tres columnas también:"
   ]
  },
  {
   "cell_type": "code",
   "execution_count": 20,
   "metadata": {
    "collapsed": false
   },
   "outputs": [
    {
     "data": {
      "text/plain": [
       "((10, 4, 2), (5, 5, 4), (0, 9, 8))"
      ]
     },
     "execution_count": 20,
     "metadata": {},
     "output_type": "execute_result"
    }
   ],
   "source": [
    "a[::3], a[1::3], a[2::3]"
   ]
  },
  {
   "cell_type": "markdown",
   "metadata": {},
   "source": [
    "Incluso las diagonales pueden escribirse como rodajas:"
   ]
  },
  {
   "cell_type": "code",
   "execution_count": 23,
   "metadata": {
    "collapsed": false
   },
   "outputs": [
    {
     "data": {
      "text/plain": [
       "((10, 5, 8), (0, 5, 2))"
      ]
     },
     "execution_count": 23,
     "metadata": {},
     "output_type": "execute_result"
    }
   ],
   "source": [
    "a[::4], a[2:-1:2]"
   ]
  },
  {
   "cell_type": "markdown",
   "metadata": {},
   "source": [
    "Si en algún momento quieres representarla como una lista de listas también es fácil, pero no te lo recomendamos, es más lento."
   ]
  },
  {
   "cell_type": "code",
   "execution_count": 25,
   "metadata": {
    "collapsed": false
   },
   "outputs": [
    {
     "data": {
      "text/plain": [
       "[[10, 5, 0], [4, 5, 9], [2, 4, 8]]"
      ]
     },
     "execution_count": 25,
     "metadata": {},
     "output_type": "execute_result"
    }
   ],
   "source": [
    "[list(a[i:i+3]) for i in (0,3,6)]"
   ]
  },
  {
   "cell_type": "markdown",
   "metadata": {},
   "source": [
    "O como una tupla de tuplas (un poco más eficiente pero tampoco mucho):"
   ]
  },
  {
   "cell_type": "code",
   "execution_count": 26,
   "metadata": {
    "collapsed": false
   },
   "outputs": [
    {
     "data": {
      "text/plain": [
       "((10, 5, 0), (4, 5, 9), (2, 4, 8))"
      ]
     },
     "execution_count": 26,
     "metadata": {},
     "output_type": "execute_result"
    }
   ],
   "source": [
    "tuple(a[i:i+3] for i in (0,3,6))"
   ]
  },
  {
   "cell_type": "markdown",
   "metadata": {},
   "source": [
    "# Apéndice. Biblioteca estándar\n",
    "\n",
    "Python tiene una amplísima biblioteca de funciones de todo tipo.  Para cualquier trabajo serio de programación sería muy conveniente echar un vistazo a los documentos de [docs.python.org](http://docs.python.org).  En este curso utilizaremos pocas funciones de la biblioteca estándar, pero de todas formas en los ejemplos verás con frecuencia formas alternativas de resolver problemas que utilizan funciones de la bibioteca estándar.  En este apéndice recogemos las más importantes.\n",
    "\n",
    "## Formateo de cadenas\n",
    "\n",
    "Uno de los aspectos más recurrentes en la programación es la necesidad de presentar la información según unas indicaciones determinadas.  En Python hay varias formas de construir cadenas de acuerdo a un formato dado, pero la más moderna es el método `format` de las cadenas."
   ]
  },
  {
   "cell_type": "code",
   "execution_count": 27,
   "metadata": {
    "collapsed": false
   },
   "outputs": [
    {
     "name": "stdout",
     "output_type": "stream",
     "text": [
      "Help on built-in function format:\n",
      "\n",
      "format(...) method of builtins.str instance\n",
      "    S.format(*args, **kwargs) -> str\n",
      "    \n",
      "    Return a formatted version of S, using substitutions from args and kwargs.\n",
      "    The substitutions are identified by braces ('{' and '}').\n",
      "\n"
     ]
    }
   ],
   "source": [
    "help(''.format)"
   ]
  },
  {
   "cell_type": "markdown",
   "metadata": {},
   "source": [
    "Se utilizan los caracteres `{}` para representar puntos de inserción de los argumentos.  Por ejemplo:"
   ]
  },
  {
   "cell_type": "code",
   "execution_count": 28,
   "metadata": {
    "collapsed": false
   },
   "outputs": [
    {
     "data": {
      "text/plain": [
       "'5 x 9 = 45'"
      ]
     },
     "execution_count": 28,
     "metadata": {},
     "output_type": "execute_result"
    }
   ],
   "source": [
    "'{} x {} = {}'.format(5, 9, 5*9)"
   ]
  },
  {
   "cell_type": "markdown",
   "metadata": {},
   "source": [
    "Se pueden usar números que indican la posición del argumento a sustituir para evitar ambigüedad o hacer repeticiones:"
   ]
  },
  {
   "cell_type": "code",
   "execution_count": 29,
   "metadata": {
    "collapsed": false
   },
   "outputs": [
    {
     "data": {
      "text/plain": [
       "'tortilla es a zapatilla como zapatilla es a tortilla'"
      ]
     },
     "execution_count": 29,
     "metadata": {},
     "output_type": "execute_result"
    }
   ],
   "source": [
    "'{0} es a {1} como {1} es a {0}'.format('tortilla', 'zapatilla')"
   ]
  },
  {
   "cell_type": "markdown",
   "metadata": {},
   "source": [
    "Y probablemente lo más útil es la posibilidad de indicar el formato con dos puntos.  Por ejemplo:"
   ]
  },
  {
   "cell_type": "code",
   "execution_count": 39,
   "metadata": {
    "collapsed": false
   },
   "outputs": [
    {
     "name": "stdout",
     "output_type": "stream",
     "text": [
      "3.1416\t3.1415927E+00\n"
     ]
    }
   ],
   "source": [
    "import math\n",
    "print('{0:.4f}\\t{0:.7E}'.format(math.pi))"
   ]
  },
  {
   "cell_type": "markdown",
   "metadata": {},
   "source": [
    "O incluso indicar el ancho que debe ocupar y si se alinea a derecha, centrado, o a izquierda."
   ]
  },
  {
   "cell_type": "code",
   "execution_count": 45,
   "metadata": {
    "collapsed": false
   },
   "outputs": [
    {
     "data": {
      "text/plain": [
       "'[      Hola] [   Pasa   ] [Adios     ]'"
      ]
     },
     "execution_count": 45,
     "metadata": {},
     "output_type": "execute_result"
    }
   ],
   "source": [
    "'[{:>10s}] [{:^10s}] [{:<10s}]'.format('Hola', 'Pasa', 'Adios')"
   ]
  },
  {
   "cell_type": "markdown",
   "metadata": {},
   "source": [
    "### Funciones de cadenas\n",
    "\n",
    "Es importante conocer qué funciones proporcionan las cadenas.  Para conocerlas basta utilizar los mecanismos de introspección normales."
   ]
  },
  {
   "cell_type": "code",
   "execution_count": 1,
   "metadata": {
    "collapsed": false
   },
   "outputs": [
    {
     "data": {
      "text/plain": [
       "['__add__',\n",
       " '__class__',\n",
       " '__contains__',\n",
       " '__delattr__',\n",
       " '__dir__',\n",
       " '__doc__',\n",
       " '__eq__',\n",
       " '__format__',\n",
       " '__ge__',\n",
       " '__getattribute__',\n",
       " '__getitem__',\n",
       " '__getnewargs__',\n",
       " '__gt__',\n",
       " '__hash__',\n",
       " '__init__',\n",
       " '__iter__',\n",
       " '__le__',\n",
       " '__len__',\n",
       " '__lt__',\n",
       " '__mod__',\n",
       " '__mul__',\n",
       " '__ne__',\n",
       " '__new__',\n",
       " '__reduce__',\n",
       " '__reduce_ex__',\n",
       " '__repr__',\n",
       " '__rmod__',\n",
       " '__rmul__',\n",
       " '__setattr__',\n",
       " '__sizeof__',\n",
       " '__str__',\n",
       " '__subclasshook__',\n",
       " 'capitalize',\n",
       " 'casefold',\n",
       " 'center',\n",
       " 'count',\n",
       " 'encode',\n",
       " 'endswith',\n",
       " 'expandtabs',\n",
       " 'find',\n",
       " 'format',\n",
       " 'format_map',\n",
       " 'index',\n",
       " 'isalnum',\n",
       " 'isalpha',\n",
       " 'isdecimal',\n",
       " 'isdigit',\n",
       " 'isidentifier',\n",
       " 'islower',\n",
       " 'isnumeric',\n",
       " 'isprintable',\n",
       " 'isspace',\n",
       " 'istitle',\n",
       " 'isupper',\n",
       " 'join',\n",
       " 'ljust',\n",
       " 'lower',\n",
       " 'lstrip',\n",
       " 'maketrans',\n",
       " 'partition',\n",
       " 'replace',\n",
       " 'rfind',\n",
       " 'rindex',\n",
       " 'rjust',\n",
       " 'rpartition',\n",
       " 'rsplit',\n",
       " 'rstrip',\n",
       " 'split',\n",
       " 'splitlines',\n",
       " 'startswith',\n",
       " 'strip',\n",
       " 'swapcase',\n",
       " 'title',\n",
       " 'translate',\n",
       " 'upper',\n",
       " 'zfill']"
      ]
     },
     "execution_count": 1,
     "metadata": {},
     "output_type": "execute_result"
    }
   ],
   "source": [
    "s=''\n",
    "dir(s)"
   ]
  },
  {
   "cell_type": "markdown",
   "metadata": {},
   "source": [
    "Algunas de las que más se usan son `startswith`, `endswith`, `lower`, `upper`, `split`, `join`, `find` y `count`.  Obtener ayuda sobre cada una de ellas es trivial."
   ]
  },
  {
   "cell_type": "code",
   "execution_count": 3,
   "metadata": {
    "collapsed": false
   },
   "outputs": [
    {
     "name": "stdout",
     "output_type": "stream",
     "text": [
      "Help on built-in function split:\n",
      "\n",
      "split(...) method of builtins.str instance\n",
      "    S.split(sep=None, maxsplit=-1) -> list of strings\n",
      "    \n",
      "    Return a list of the words in S, using sep as the\n",
      "    delimiter string.  If maxsplit is given, at most maxsplit\n",
      "    splits are done. If sep is not specified or is None, any\n",
      "    whitespace string is a separator and empty strings are\n",
      "    removed from the result.\n",
      "\n"
     ]
    }
   ],
   "source": [
    "help(s.split)"
   ]
  },
  {
   "cell_type": "markdown",
   "metadata": {},
   "source": [
    "No es esencial conocer en detalle estas funciones, pero simplifican extraordinariamente el trabajo con cadenas de texto."
   ]
  },
  {
   "cell_type": "markdown",
   "metadata": {},
   "source": [
    "** Este apéndice necesita completarse **"
   ]
  },
  {
   "cell_type": "markdown",
   "metadata": {},
   "source": [
    "# Apéndice. Aspectos avanzados\n",
    "\n",
    "En este apéndice describiremos dos características de Python que tienen una fuerte relación.  No es necesario dominar ninguna de estas características para completar satisfactoriamente los objetivos del curso, pero sí es necesario entender mínimamente su funcionamiento, porque se emplean continuamente.\n",
    "\n",
    "## Generadores\n",
    "\n",
    "A lo largo del curso hemos visto y seguiremos viendo multitud de casos donde se necesita generar una considerable cantidad de datos pero no se necesita consumirlos de golpe, sino uno a uno.  En esos casos es frecuentemente más sencillo emplear generadores.  Los generadores son funciones que producen datos usando la sentencia `yield`. Esta sentencia  \n",
    "\n",
    "\n",
    "## *Comprehensions*\n",
    "\n",
    "Las comprensiones de lista, diccionario o tupla\n",
    "\n",
    "\n"
   ]
  },
  {
   "cell_type": "markdown",
   "metadata": {},
   "source": [
    "# Apéndice. Operadores\n",
    "\n",
    "Python tiene una rica colección de operadores.  Cuantos más conozcas más sencillas serán tus expresiones. Ponemos en este apéndice los que creemos que pueden serte útiles.\n",
    "\n",
    "## Operadores aritméticos\n",
    "\n",
    "Expresión | Tipo de operando | Significado\n",
    "----------|------------------|-------------\n",
    "`a+b`     | Numéricos        | Suma\n",
    "`a+b`     | Cadenas          | Concatenación\n",
    "`a+b`     | Listas           | Concatenación\n",
    "`a+b`     | Conjuntos        | Unión\n",
    "`a-b`     | Numéricos        | Resta\n",
    "`a-b`     | Conjuntos        | [Diferencia de conjuntos](https://es.wikipedia.org/wiki/Diferencia_de_conjuntos)\n",
    "`a*b`     | Numéricos        | Multiplicación\n",
    "`a*b`     | Cadena, Entero   | Repetición\n",
    "`a*b`     | Lista, Entero    | Repetición\n",
    "`a/b`     | Numéricos        | División real\n",
    "`a//b`    | Numéricos        | División entera\n",
    "`a%b`     | Numéricos        | Resto de división entera\n",
    "`a**b`    | Numéricos        | Potencia (*a* elevado a *b*)\n",
    "\n",
    "## Operadores de comparación\n",
    "\n",
    "Expresión | Tipo de operando | Significado\n",
    "----------|------------------|-------------\n",
    "`a == b`  | Cualquiera       | Igual\n",
    "`a != b`  | Cualquiera       | Distinto\n",
    "`a < b`   | Comparables      | Menor\n",
    "`a > b`   | Comparables      | Mayor\n",
    "`a <= b`  | Comparables      | Menor o igual\n",
    "`a >= b`  | Comparables      | Mayor o igual\n",
    "\n",
    "## Operadores lógicos\n",
    "\n",
    "Expresión | Tipo de operando | Significado\n",
    "----------|------------------|-------------\n",
    "`a and b` | Booleano         | Y lógico\n",
    "`a or b`  | Booleano         | Ó lógico\n",
    "`not a`   | Booleano         | No lógico\n",
    "`a in b`  | Cualquiera/secuencia | Pertenence\n",
    "\n",
    "Nota: `a in b` funciona para `b` lista, tupla, diccionario, conjunto o cadena."
   ]
  },
  {
   "cell_type": "code",
   "execution_count": 6,
   "metadata": {
    "collapsed": false
   },
   "outputs": [
    {
     "data": {
      "text/plain": [
       "[1, 2, 3, 1, 2, 3, 1, 2, 3]"
      ]
     },
     "execution_count": 6,
     "metadata": {},
     "output_type": "execute_result"
    }
   ],
   "source": [
    "[1,2,3]*3"
   ]
  },
  {
   "cell_type": "code",
   "execution_count": null,
   "metadata": {
    "collapsed": true
   },
   "outputs": [],
   "source": []
  }
 ],
 "metadata": {
  "anaconda-cloud": {},
  "kernelspec": {
   "display_name": "Python [default]",
   "language": "python",
   "name": "python3"
  },
  "language_info": {
   "codemirror_mode": {
    "name": "ipython",
    "version": 3
   },
   "file_extension": ".py",
   "mimetype": "text/x-python",
   "name": "python",
   "nbconvert_exporter": "python",
   "pygments_lexer": "ipython3",
   "version": "3.5.2"
  }
 },
 "nbformat": 4,
 "nbformat_minor": 1
}
