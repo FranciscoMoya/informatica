{
 "metadata": {
  "name": "",
  "signature": "sha256:74a29d50eea4788eff878926effff947d60d12050313a97e64efe96c07814d4b"
 },
 "nbformat": 3,
 "nbformat_minor": 0,
 "worksheets": [
  {
   "cells": [
    {
     "cell_type": "markdown",
     "metadata": {},
     "source": [
      "# Archivos con Python\n",
      "\n",
      "En los pr\u00f3ximos ejercicios vamos a usar frecuentemente archivos de datos, as\u00ed que es un buen momento para leer en detalle el cap\u00edtulo 11 del libro de texto.  Las funciones b\u00e1sicas de escritura son muy sencillas."
     ]
    },
    {
     "cell_type": "code",
     "collapsed": false,
     "input": [
      "f = open('ejemplo.txt', 'w')\n",
      "f.write('''Esto es un ejemplo de archivo\n",
      "escrito con Python.\n",
      "  Puedo escribir en varias lineas porque\n",
      "estoy usando las triples comillas.''')\n",
      "f.close()"
     ],
     "language": "python",
     "metadata": {},
     "outputs": [],
     "prompt_number": 1
    },
    {
     "cell_type": "markdown",
     "metadata": {},
     "source": [
      "Leer archivos es igual de sencillo."
     ]
    },
    {
     "cell_type": "code",
     "collapsed": false,
     "input": [
      "fi = open('ejemplo.txt', 'r')\n",
      "for linea in fi:\n",
      "    print linea,\n",
      "fi.close()"
     ],
     "language": "python",
     "metadata": {},
     "outputs": [
      {
       "output_type": "stream",
       "stream": "stdout",
       "text": [
        "Esto es un ejemplo de archivo\n",
        "escrito con Python.\n",
        "  Puedo escribir en varias lineas porque\n",
        "estoy usando las triples comillas.\n"
       ]
      }
     ],
     "prompt_number": 2
    },
    {
     "cell_type": "markdown",
     "metadata": {},
     "source": [
      "Observa que pongo una coma al final del `print`. Lo hago porque las l\u00edneas incluyen el caracter terminador de l\u00ednea si lo hubiera. Tambi\u00e9n puedo quitarlos con `strip` pero observa c\u00f3mo `strip` elimina tambi\u00e9n los espacios al principio de la l\u00ednea:"
     ]
    },
    {
     "cell_type": "code",
     "collapsed": false,
     "input": [
      "fi = open('ejemplo.txt', 'r')\n",
      "for linea in fi:\n",
      "    print linea.strip()\n",
      "fi.close()"
     ],
     "language": "python",
     "metadata": {},
     "outputs": [
      {
       "output_type": "stream",
       "stream": "stdout",
       "text": [
        "Esto es un ejemplo de archivo\n",
        "escrito con Python.\n",
        "Puedo escribir en varias lineas porque\n",
        "estoy usando las triples comillas.\n"
       ]
      }
     ],
     "prompt_number": 3
    },
    {
     "cell_type": "markdown",
     "metadata": {},
     "source": [
      "Como resumen podemos decir que en la mayor\u00eda de los casos solo se necesitan 3 funciones para manejar archivos (`open`, `close` y `write`). Hay muchas m\u00e1s y te animo a que leas en detalle el cap\u00edtulo 11 del libro y la [documentaci\u00f3n de archivos oficial](https://docs.python.org/2.7/library/stdtypes.html#bltin-file-objects).  Lo que leemos o escribimos de/en archivos son cadenas de texto, as\u00ed que para usos avanzados tendremos que dominar las cadenas de texto. Repasa el cap\u00edtulo 7 del libro de texto y la [documentaci\u00f3n de cadenas oficial](https://docs.python.org/2.7/library/stdtypes.html#string-formatting).  Tambi\u00e9n puede que te resulten \u00fatiles los m\u00f3dulos [string](https://docs.python.org/2.7/library/string.html?highlight=string#module-string) y [re](https://docs.python.org/2.7/library/re.html#module-re)."
     ]
    },
    {
     "cell_type": "markdown",
     "metadata": {},
     "source": [
      "## Lectura de archivos CSV\n",
      "\n",
      "Los archivos CSV no son diferentes de los dem\u00e1s, son simples archivos de texto en los que cada l\u00ednea corresponde a una fila de una tabla.  Cada campo en una l\u00ednea se separa con una coma. (El nombre CSV deriva precisamente de \u00e9sto (*Comma Separated Values*).  En Python existe un m\u00f3dulo `csv` que simplifica la lectura de estos archivos. Pero realmente es muy simple tambi\u00e9n procesarlos a mano. Esto podr\u00eda ser un ejemplo de archivo CSV."
     ]
    },
    {
     "cell_type": "markdown",
     "metadata": {},
     "source": [
      "<pre>,Ambos sexos,Mujeres\n",
      "Arag\u00f3n,\"6845.0\",\"3962.0\"\n",
      "Canarias,\"11164.0\",\"6181.0\"</pre>"
     ]
    },
    {
     "cell_type": "code",
     "collapsed": false,
     "input": [
      "fi = open('ejemplo.csv', 'r')\n",
      "for linea in fi:\n",
      "    fila = linea.strip()\n",
      "    celdas = fila.split(',')\n",
      "    for celda in celdas:\n",
      "        print '[%11s]\\t' % celda,\n",
      "    print\n",
      "fi.close()"
     ],
     "language": "python",
     "metadata": {},
     "outputs": [
      {
       "output_type": "stream",
       "stream": "stdout",
       "text": [
        "[           ]\t[Ambos sexos]\t[    Mujeres]\t\n",
        "[    Arag\u00f3n]\t[   \"6845.0\"]\t[   \"3962.0\"]\t\n",
        "[   Canarias]\t[  \"11164.0\"]\t[   \"6181.0\"]\t\n"
       ]
      }
     ],
     "prompt_number": 7
    },
    {
     "cell_type": "code",
     "collapsed": false,
     "input": [],
     "language": "python",
     "metadata": {},
     "outputs": []
    },
    {
     "cell_type": "markdown",
     "metadata": {},
     "source": [
      "## Caso de estudio: Censo de viviendas\n",
      "\n",
      "El INE distribuye datos del [Censo de Poblaci\u00f3n y Viviendas](http://www.ine.es/prodyser/micro_censopv.htm) que incluyen dos archivos interesantes para nuestros prop\u00f3sitos:\n",
      "\n",
      "* Por un lado se distribuyen los [microdatos de toda Espa\u00f1a](ftp://www.ine.es/temas/censopv/cen11/Microdatos_viviendas_nacional.rar) que contienen todos los datos de la encuesta sin procesar.\n",
      "\n",
      "* Por otro lado se distribuye una hoja de c\u00e1lculo que describe el [formato de cada registro del archivo de microdatos](ftp://www.ine.es/temas/censopv/cen11/Viviendas%20y%20Edificios_WEB.xls).\n",
      "\n",
      "Veamos c\u00f3mo es el dise\u00f1o de los registros. Es una tabla que indica a partir de qu\u00e9 posici\u00f3n empieza cada campo y hasta qu\u00e9 posici\u00f3n, as\u00ed como la interpretaci\u00f3n que tiene cada posible valor. Por ejemplo, para ver si la vivienda tiene o no Internet habr\u00eda que consultar el caracter 25 (empezando desde 1). Es decir, si `linea` contiene una l\u00ednea completa del archivo de microdatos entonces `linea[24]` nos indica si tiene o no Internet esa vivienda.\n",
      "\n",
      "<table cellspacing=\"0\" border=\"0\">\n",
      "\t<tr>\n",
      "\t\t<td style=\"border-top: 2px solid #000000; border-left: 2px solid #000000; border-right: 1px solid #000000\" rowspan=3 height=\"42\" align=\"left\" valign=top bgcolor=\"#E3E3E3\"><b><font size=1>Nombre del campo</font></b></td>\n",
      "\t\t<td style=\"border-top: 2px solid #000000; border-left: 1px solid #000000; border-right: 1px solid #000000\" rowspan=3 align=\"left\" valign=top bgcolor=\"#E3E3E3\"><b><font size=1>Nombre de la variable</font></b></td>\n",
      "\t\t<td style=\"border-top: 2px solid #000000; border-left: 1px solid #000000; border-right: 1px solid #000000\" rowspan=3 align=\"left\" valign=top bgcolor=\"#E3E3E3\"><b><font size=1>Longitud del campo</font></b></td>\n",
      "\t\t<td style=\"border-top: 2px solid #000000; border-left: 1px solid #000000; border-right: 1px solid #000000\" rowspan=3 align=\"left\" valign=top bgcolor=\"#E3E3E3\"><b><font size=1>Inicio</font></b></td>\n",
      "\t\t<td style=\"border-top: 2px solid #000000; border-left: 1px solid #000000; border-right: 1px solid #000000\" rowspan=3 align=\"left\" valign=top bgcolor=\"#E3E3E3\"><b><font size=1>Fin</font></b></td>\n",
      "\t\t<td style=\"border-top: 2px solid #000000; border-left: 1px solid #000000; border-right: 2px solid #000000\" rowspan=3 align=\"left\" valign=top bgcolor=\"#E3E3E3\"><b><font size=1>Valores validos</font></b></td>\n",
      "\t</tr>\n",
      "\t<tr>\n",
      "\t\t</tr>\n",
      "\t<tr>\n",
      "\t\t</tr>\n",
      "\t<tr>\n",
      "\t\t<td style=\"border-top: 2px solid #000000; border-left: 2px solid #000000\" height=\"26\" align=\"left\" bgcolor=\"#FFD475\"><b><font size=1>Identificaci\u00f3n</font></b></td>\n",
      "\t\t<td style=\"border-top: 2px solid #000000\" align=\"left\" bgcolor=\"#FFD475\"><font face=\"Univers\" size=1><br></font></td>\n",
      "\t\t<td style=\"border-top: 2px solid #000000\" align=\"left\" bgcolor=\"#FFD475\"><font face=\"Univers\" size=1><br></font></td>\n",
      "\t\t<td style=\"border-top: 2px solid #000000\" align=\"left\" bgcolor=\"#FFD475\"><font face=\"Univers\" size=1><br></font></td>\n",
      "\t\t<td style=\"border-top: 2px solid #000000\" align=\"left\" bgcolor=\"#FFD475\"><font face=\"Univers\" size=1><br></font></td>\n",
      "\t\t<td style=\"border-top: 2px solid #000000; border-right: 2px solid #000000\" align=\"left\" bgcolor=\"#FFD475\"><font face=\"Univers\" size=1><br></font></td>\n",
      "\t</tr>\n",
      "\t<tr>\n",
      "\t\t<td style=\"border-left: 2px solid #000000\" height=\"21\" align=\"left\" valign=top><font size=1>C\u00f3digo de provincia</font></td>\n",
      "\t\t<td align=\"left\" valign=top><font size=1>CPRO</font></td>\n",
      "\t\t<td align=\"center\" valign=top sdval=\"2\" sdnum=\"3082;\"><font size=1>2</font></td>\n",
      "\t\t<td align=\"center\" valign=top sdval=\"1\" sdnum=\"3082;\"><font size=1>1</font></td>\n",
      "\t\t<td align=\"center\" valign=top sdval=\"2\" sdnum=\"3082;\"><font size=1>2</font></td>\n",
      "\t\t<td style=\"border-right: 2px solid #000000\" align=\"left\" valign=top><font size=1>Desde 1 hasta 52</font></td>\n",
      "\t</tr>\n",
      "\t<tr>\n",
      "\t\t<td style=\"border-left: 2px solid #000000\" height=\"94\" align=\"left\" valign=top><font size=1>C\u00f3digo o tama\u00f1o de municipio</font></td>\n",
      "\t\t<td align=\"left\" valign=top><font size=1>CMUN</font></td>\n",
      "\t\t<td align=\"center\" valign=top sdval=\"3\" sdnum=\"3082;\"><font size=1>3</font></td>\n",
      "\t\t<td align=\"center\" valign=top sdval=\"3\" sdnum=\"3082;\"><font size=1>3</font></td>\n",
      "\t\t<td align=\"center\" valign=top sdval=\"5\" sdnum=\"3082;\"><font size=1>5</font></td>\n",
      "\t\t<td style=\"border-right: 2px solid #000000\" align=\"left\" valign=top><font size=1>Si tama\u00f1o de municipio &lt;=2.000, CMUN=991<br>Si 2.001 &lt;=tama\u00f1o de municipio &lt;=5.000, CMUN=992<br>Si 5.001 &lt;=tama\u00f1o de municipio &lt;=10.000, CMUN=993<br>Si 10.001 &lt;=tama\u00f1o de municipio &lt;=20.000, CMUN=994<br>Si tama\u00f1o de municipio &gt;20.000, CMUN=C\u00f3digo de municipio</font></td>\n",
      "\t</tr>\n",
      "\t<tr>\n",
      "\t\t<td style=\"border-left: 2px solid #000000\" height=\"21\" align=\"left\" bgcolor=\"#FFD475\"><b><font size=1>Datos de la vivienda</font></b></td>\n",
      "\t\t<td align=\"left\" bgcolor=\"#FFD475\"><font face=\"Univers\" size=1><br></font></td>\n",
      "\t\t<td align=\"left\" bgcolor=\"#FFD475\"><font face=\"Univers\" size=1><br></font></td>\n",
      "\t\t<td align=\"left\" bgcolor=\"#FFD475\"><font face=\"Univers\" size=1><br></font></td>\n",
      "\t\t<td align=\"left\" bgcolor=\"#FFD475\"><font face=\"Univers\" size=1><br></font></td>\n",
      "\t\t<td style=\"border-right: 2px solid #000000\" align=\"left\" bgcolor=\"#FFD475\"><font face=\"Univers\" size=1><br></font></td>\n",
      "\t</tr>\n",
      "\t<tr>\n",
      "\t\t<td style=\"border-left: 2px solid #000000\" height=\"20\" align=\"left\" valign=top><font size=1>Factor de elevaci\u00f3n de la vivienda</font></td>\n",
      "\t\t<td align=\"left\" valign=top><font size=1>FACTOR</font></td>\n",
      "\t\t<td align=\"center\" valign=top sdval=\"14\" sdnum=\"3082;\"><font size=1>14</font></td>\n",
      "\t\t<td align=\"center\" valign=top sdval=\"6\" sdnum=\"3082;\"><font size=1>6</font></td>\n",
      "\t\t<td align=\"center\" valign=top sdval=\"19\" sdnum=\"3082;\"><font size=1>19</font></td>\n",
      "\t\t<td style=\"border-right: 2px solid #000000\" align=\"left\" valign=top><font size=1 color=\"#FF0000\"><br></font></td>\n",
      "\t</tr>\n",
      "\t<tr>\n",
      "\t\t<td style=\"border-left: 2px solid #000000\" height=\"56\" align=\"left\" valign=top><font size=1>Clase de vivienda </font></td>\n",
      "\t\t<td align=\"left\" valign=top><font size=1>CVIVIF</font></td>\n",
      "\t\t<td align=\"center\" valign=top sdval=\"1\" sdnum=\"3082;\"><font size=1>1</font></td>\n",
      "\t\t<td align=\"center\" valign=top sdval=\"20\" sdnum=\"3082;\"><font size=1>20</font></td>\n",
      "\t\t<td align=\"center\" valign=top sdval=\"20\" sdnum=\"3082;\"><font size=1>20</font></td>\n",
      "\t\t<td style=\"border-right: 2px solid #000000\" align=\"left\" valign=top><font size=1>1 Vivienda Prinicipal<br>2 Vivienda Secundaria<br>3 Vivienda Vac\u00eda</font></td>\n",
      "\t</tr>\n",
      "\t<tr>\n",
      "\t\t<td style=\"border-left: 2px solid #000000\" height=\"150\" align=\"left\" valign=top><font size=1>R\u00e9gimen de tenencia</font></td>\n",
      "\t\t<td align=\"left\" valign=top><font size=1>TENEN</font></td>\n",
      "\t\t<td align=\"center\" valign=top sdval=\"1\" sdnum=\"3082;\"><font size=1>1</font></td>\n",
      "\t\t<td align=\"center\" valign=top sdval=\"21\" sdnum=\"3082;\"><font size=1>21</font></td>\n",
      "\t\t<td align=\"center\" valign=top sdval=\"21\" sdnum=\"3082;\"><font size=1>21</font></td>\n",
      "\t\t<td style=\"border-right: 2px solid #000000\" align=\"left\" valign=top><font size=1>1 Propia, por compra, totalmente pagada<br>2 Propia, por compra, con pagos pendientes (hipotecas)<br>3 Propia por herencia o donaci\u00f3n<br>4 Alquilada<br>5 Cedida gratis o a bajo precio (por otro hogar, pagada por la empresa...)<br>6 Otra forma<br>Blanco si CVIVIF &lt;&gt; 1 </font></td>\n",
      "\t</tr>\n",
      "\t<tr>\n",
      "\t\t<td style=\"border-left: 2px solid #000000\" height=\"113\" align=\"left\" valign=top><font size=1>Calefacci\u00f3n </font></td>\n",
      "\t\t<td align=\"left\" valign=top><font size=1>CALE</font></td>\n",
      "\t\t<td align=\"center\" valign=top sdval=\"1\" sdnum=\"3082;\"><font size=1>1</font></td>\n",
      "\t\t<td align=\"center\" valign=top sdval=\"22\" sdnum=\"3082;\"><font size=1>22</font></td>\n",
      "\t\t<td align=\"center\" valign=top sdval=\"22\" sdnum=\"3082;\"><font size=1>22</font></td>\n",
      "\t\t<td style=\"border-right: 2px solid #000000\" align=\"left\" valign=top><font size=1>1 Colectiva o central<br>2 Individual<br>3 No tiene calefacci\u00f3n pero s\u00ed alg\u00fan aparato que permite calentar<br>4 No tiene calefacci\u00f3n<br>Blanco si CVIVIF &lt;&gt; 1 </font></td>\n",
      "\t</tr>\n",
      "\t<tr>\n",
      "\t\t<td style=\"border-left: 2px solid #000000\" height=\"56\" align=\"left\" valign=top><font size=1>Cuanto de aseo con inodoro</font></td>\n",
      "\t\t<td align=\"left\" valign=top><font size=1>ASEO</font></td>\n",
      "\t\t<td align=\"center\" valign=top sdval=\"1\" sdnum=\"3082;\"><font size=1>1</font></td>\n",
      "\t\t<td align=\"center\" valign=top sdval=\"23\" sdnum=\"3082;\"><font size=1>23</font></td>\n",
      "\t\t<td align=\"center\" valign=top sdval=\"23\" sdnum=\"3082;\"><font size=1>23</font></td>\n",
      "\t\t<td style=\"border-right: 2px solid #000000\" align=\"left\" valign=top><font size=1>1 S\u00ed<br>2 No<br>Blanco si CVIVIF &lt;&gt; 1 </font></td>\n",
      "\t</tr>\n",
      "\t<tr>\n",
      "\t\t<td style=\"border-left: 2px solid #000000\" height=\"56\" align=\"left\" valign=top><font size=1>Ba\u00f1o o ducha</font></td>\n",
      "\t\t<td align=\"left\" valign=top><font size=1>BADUCH</font></td>\n",
      "\t\t<td align=\"center\" valign=top sdval=\"1\" sdnum=\"3082;\"><font size=1>1</font></td>\n",
      "\t\t<td align=\"center\" valign=top sdval=\"24\" sdnum=\"3082;\"><font size=1>24</font></td>\n",
      "\t\t<td align=\"center\" valign=top sdval=\"24\" sdnum=\"3082;\"><font size=1>24</font></td>\n",
      "\t\t<td style=\"border-right: 2px solid #000000\" align=\"left\" valign=top><font size=1>1 S\u00ed<br>2 No<br>Blanco si CVIVIF &lt;&gt; 1 </font></td>\n",
      "\t</tr>\n",
      "\t<tr>\n",
      "\t\t<td style=\"border-left: 2px solid #000000\" height=\"56\" align=\"left\" valign=top><font size=1>Acceso a Internet</font></td>\n",
      "\t\t<td align=\"left\" valign=top><font size=1>INTERNET</font></td>\n",
      "\t\t<td align=\"center\" valign=top sdval=\"1\" sdnum=\"3082;\"><font size=1>1</font></td>\n",
      "\t\t<td align=\"center\" valign=top sdval=\"25\" sdnum=\"3082;\"><font size=1>25</font></td>\n",
      "\t\t<td align=\"center\" valign=top sdval=\"25\" sdnum=\"3082;\"><font size=1>25</font></td>\n",
      "\t\t<td style=\"border-right: 2px solid #000000\" align=\"left\" valign=top><font size=1>1 S\u00ed<br>2 No<br>Blanco si CVIVIF &lt;&gt; 1 </font></td>\n",
      "\t</tr>\n",
      "\t<tr>\n",
      "\t\t<td style=\"border-left: 2px solid #000000\" height=\"94\" align=\"left\" valign=top><font size=1>Sistema de suministro de agua</font></td>\n",
      "\t\t<td align=\"left\" valign=top><font size=1>AGUACOR</font></td>\n",
      "\t\t<td align=\"center\" valign=top sdval=\"1\" sdnum=\"3082;\"><font size=1>1</font></td>\n",
      "\t\t<td align=\"center\" valign=top sdval=\"26\" sdnum=\"3082;\"><font size=1>26</font></td>\n",
      "\t\t<td align=\"center\" valign=top sdval=\"26\" sdnum=\"3082;\"><font size=1>26</font></td>\n",
      "\t\t<td style=\"border-right: 2px solid #000000\" align=\"left\" valign=top><font size=1>1 Agua corriente por abastecimiento p\u00fablico<br>2 Agua corriente por abastecimiento privado o particular del edificio<br>3 No tiene agua corriente<br>Blanco si CVIVIF &lt;&gt; 1 </font></td>\n",
      "\t</tr>\n",
      "\t<tr>\n",
      "\t\t<td style=\"border-left: 2px solid #000000\" height=\"38\" align=\"left\" valign=top><font size=1>Superficie \u00fatil</font></td>\n",
      "\t\t<td align=\"left\" valign=top><font size=1>SUT</font></td>\n",
      "\t\t<td align=\"center\" valign=top sdval=\"3\" sdnum=\"3082;\"><font size=1>3</font></td>\n",
      "\t\t<td align=\"center\" valign=top sdval=\"27\" sdnum=\"3082;\"><font size=1>27</font></td>\n",
      "\t\t<td align=\"center\" valign=top sdval=\"29\" sdnum=\"3082;\"><font size=1>29</font></td>\n",
      "\t\t<td style=\"border-right: 2px solid #000000\" align=\"left\" valign=top><font size=1>Desde 5 hasta 999<br>Blanco si CVIVIF &lt;&gt; 1 </font></td>\n",
      "\t</tr>\n",
      "\t<tr>\n",
      "\t\t<td style=\"border-left: 2px solid #000000\" height=\"38\" align=\"left\" valign=top><font size=1>N\u00famero de habitaciones</font></td>\n",
      "\t\t<td align=\"left\" valign=top><font size=1>NHAB</font></td>\n",
      "\t\t<td align=\"center\" valign=top sdval=\"2\" sdnum=\"3082;\"><font size=1>2</font></td>\n",
      "\t\t<td align=\"center\" valign=top sdval=\"30\" sdnum=\"3082;\"><font size=1>30</font></td>\n",
      "\t\t<td align=\"center\" valign=top sdval=\"31\" sdnum=\"3082;\"><font size=1>31</font></td>\n",
      "\t\t<td style=\"border-right: 2px solid #000000\" align=\"left\" valign=top><font size=1>Desde 1 hasta 99<br>Blanco si CVIVIF &lt;&gt; 1 </font></td>\n",
      "\t</tr>\n",
      "\t<tr>\n",
      "\t\t<td style=\"border-left: 2px solid #000000\" height=\"22\" align=\"left\" bgcolor=\"#FFD475\"><b>...</b></td>\n",
      "\t\t<td align=\"left\" bgcolor=\"#FFD475\"><font face=\"Univers\" size=1><br></font></td>\n",
      "\t\t<td align=\"left\" bgcolor=\"#FFD475\"><font face=\"Univers\" size=1><br></font></td>\n",
      "\t\t<td align=\"left\" bgcolor=\"#FFD475\"><font face=\"Univers\" size=1><br></font></td>\n",
      "\t\t<td align=\"left\" bgcolor=\"#FFD475\"><font face=\"Univers\" size=1><br></font></td>\n",
      "\t\t<td style=\"border-right: 2px solid #000000\" align=\"left\" bgcolor=\"#FFD475\"><font face=\"Univers\" size=1><br></font></td>\n",
      "\t</tr>\n",
      "</table>\n",
      "\n",
      "Vamos a contestar alguna pregunta de ejemplo.  Por ejemplo, \u00bfcu\u00e1ntas viviendas secundarias (caracter 20) tienen Internet (caracter 25)?"
     ]
    },
    {
     "cell_type": "code",
     "collapsed": false,
     "input": [
      "def viviendas_secundarias_con_internet():\n",
      "    f = open('Microdatos_viviendas.txt', 'r')\n",
      "    c = 0\n",
      "    for linea in f:\n",
      "        if linea[19] == '2' and linea[24] == '1':\n",
      "            c += 1\n",
      "    f.close()\n",
      "    return c"
     ],
     "language": "python",
     "metadata": {},
     "outputs": [],
     "prompt_number": 4
    },
    {
     "cell_type": "code",
     "collapsed": false,
     "input": [
      "print '%d viviendas secundarias tienen Internet' % viviendas_secundarias_con_internet()"
     ],
     "language": "python",
     "metadata": {},
     "outputs": [
      {
       "output_type": "stream",
       "stream": "stdout",
       "text": [
        "0 viviendas secundarias tienen Internet\n"
       ]
      }
     ],
     "prompt_number": 5
    },
    {
     "cell_type": "markdown",
     "metadata": {},
     "source": [
      "\u00bfY qu\u00e9 porcentaje de viviendas principales tiene Internet? "
     ]
    },
    {
     "cell_type": "code",
     "collapsed": false,
     "input": [
      "def viviendas_1_con_internet():\n",
      "    f = open('Microdatos_viviendas.txt', 'r')\n",
      "    viviendas = 0\n",
      "    internet = 0\n",
      "    for linea in f:\n",
      "        if linea[19] == '1':\n",
      "            viviendas += 1\n",
      "            if linea[24] == '1':\n",
      "                internet += 1\n",
      "    f.close()\n",
      "    return internet*100.0/viviendas"
     ],
     "language": "python",
     "metadata": {},
     "outputs": [],
     "prompt_number": 6
    },
    {
     "cell_type": "code",
     "collapsed": false,
     "input": [
      "print 'El %f%% de las primeras viviendas tienen Internet' % viviendas_1_con_internet()"
     ],
     "language": "python",
     "metadata": {},
     "outputs": [
      {
       "output_type": "stream",
       "stream": "stdout",
       "text": [
        "El 50.646536% de las primeras viviendas tienen Internet\n"
       ]
      }
     ],
     "prompt_number": 7
    },
    {
     "cell_type": "markdown",
     "metadata": {},
     "source": [
      "Ese c\u00f3digo con tantos niveles de anidamiento no es bonito, vamos a refactorizarlo un poco."
     ]
    },
    {
     "cell_type": "code",
     "collapsed": false,
     "input": [
      "def viviendas_1_con_internet():\n",
      "    f = open('Microdatos_viviendas.txt', 'r')\n",
      "    viviendas = 0\n",
      "    internet = 0\n",
      "    for linea in f:\n",
      "        viviendas, internet = acum_datos_interes(linea, viviendas, internet)\n",
      "    f.close()\n",
      "    return 100.0 * internet / viviendas\n",
      "\n",
      "def acum_datos_interes(linea, viviendas, internet):\n",
      "    if linea[19] == '1':\n",
      "        viviendas += 1\n",
      "        if linea[24] == '1':\n",
      "            internet += 1\n",
      "    return viviendas, internet"
     ],
     "language": "python",
     "metadata": {},
     "outputs": [],
     "prompt_number": 8
    },
    {
     "cell_type": "code",
     "collapsed": false,
     "input": [
      "print 'El %f%% de las primeras viviendas tienen Internet' % viviendas_1_con_internet()"
     ],
     "language": "python",
     "metadata": {},
     "outputs": [
      {
       "output_type": "stream",
       "stream": "stdout",
       "text": [
        "El 50.646536% de las primeras viviendas tienen Internet\n"
       ]
      }
     ],
     "prompt_number": 9
    },
    {
     "cell_type": "markdown",
     "metadata": {},
     "source": [
      "Sigue sin ser especialmente elegante pero ya no tiene tantos niveles de indentaci\u00f3n. Aprenderemos a mejorarlo cuando veamos clases."
     ]
    }
   ],
   "metadata": {}
  }
 ]
}