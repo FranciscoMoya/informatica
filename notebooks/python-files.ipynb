{
 "cells": [
  {
   "cell_type": "markdown",
   "metadata": {},
   "source": [
    "# Archivos con Python\n",
    "\n",
    "En los próximos ejercicios vamos a usar frecuentemente archivos de datos, así que es un buen momento para leer en detalle el capítulo 11 del libro de texto.  Las funciones básicas de escritura son muy sencillas."
   ]
  },
  {
   "cell_type": "code",
   "execution_count": 1,
   "metadata": {
    "collapsed": false
   },
   "outputs": [],
   "source": [
    "f = open('ejemplo.txt', 'w')\n",
    "f.write('''Esto es un ejemplo de archivo\n",
    "escrito con Python.\n",
    "  Puedo escribir en varias lineas porque\n",
    "estoy usando las triples comillas.''')\n",
    "f.close()"
   ]
  },
  {
   "cell_type": "markdown",
   "metadata": {},
   "source": [
    "Leer archivos es igual de sencillo."
   ]
  },
  {
   "cell_type": "code",
   "execution_count": 2,
   "metadata": {
    "collapsed": false
   },
   "outputs": [
    {
     "name": "stdout",
     "output_type": "stream",
     "text": [
      "Esto es un ejemplo de archivo\n",
      "escrito con Python.\n",
      "  Puedo escribir en varias lineas porque\n",
      "estoy usando las triples comillas."
     ]
    }
   ],
   "source": [
    "fi = open('ejemplo.txt', 'r')\n",
    "for linea in fi:\n",
    "    print(linea,end='')\n",
    "fi.close()"
   ]
  },
  {
   "cell_type": "markdown",
   "metadata": {},
   "source": [
    "Observa que pongo una coma al final del `print`. Lo hago porque las líneas incluyen el caracter terminador de línea si lo hubiera. También puedo quitarlos con `strip` pero observa cómo `strip` elimina también los espacios al principio de la línea:"
   ]
  },
  {
   "cell_type": "code",
   "execution_count": 3,
   "metadata": {
    "collapsed": false
   },
   "outputs": [
    {
     "name": "stdout",
     "output_type": "stream",
     "text": [
      "Esto es un ejemplo de archivo\n",
      "escrito con Python.\n",
      "Puedo escribir en varias lineas porque\n",
      "estoy usando las triples comillas.\n"
     ]
    }
   ],
   "source": [
    "fi = open('ejemplo.txt', 'r')\n",
    "for linea in fi:\n",
    "    print(linea.strip())\n",
    "fi.close()"
   ]
  },
  {
   "cell_type": "markdown",
   "metadata": {},
   "source": [
    "Como resumen podemos decir que en la mayoría de los casos solo se necesitan 3 funciones para manejar archivos (`open`, `close` y `write`). Hay muchas más y te animo a que leas en detalle el capítulo 11 del libro y la [documentación de archivos oficial](https://docs.python.org/2.7/library/stdtypes.html#bltin-file-objects).  Lo que leemos o escribimos de/en archivos son cadenas de texto, así que para usos avanzados tendremos que dominar las cadenas de texto. Repasa el capítulo 7 del libro de texto y la [documentación de cadenas oficial](https://docs.python.org/2.7/library/stdtypes.html#string-formatting).  También puede que te resulten útiles los módulos [string](https://docs.python.org/2.7/library/string.html?highlight=string#module-string) y [re](https://docs.python.org/2.7/library/re.html#module-re)."
   ]
  },
  {
   "cell_type": "markdown",
   "metadata": {},
   "source": [
    "## Lectura de archivos CSV\n",
    "\n",
    "Los archivos CSV no son diferentes de los demás, son simples archivos de texto en los que cada línea corresponde a una fila de una tabla.  Cada campo en una línea se separa con una coma. (El nombre CSV deriva precisamente de ésto (*Comma Separated Values*).  En Python existe un módulo `csv` que simplifica la lectura de estos archivos. Pero realmente es muy simple también procesarlos a mano. Esto podría ser un ejemplo de archivo CSV."
   ]
  },
  {
   "cell_type": "markdown",
   "metadata": {},
   "source": [
    "<pre>,Ambos sexos,Mujeres\n",
    "Aragón,\"6845.0\",\"3962.0\"\n",
    "Canarias,\"11164.0\",\"6181.0\"</pre>"
   ]
  },
  {
   "cell_type": "code",
   "execution_count": 5,
   "metadata": {
    "collapsed": false
   },
   "outputs": [
    {
     "name": "stdout",
     "output_type": "stream",
     "text": [
      "[           ]\t[Ambos sexos]\t[    Mujeres]\t\n",
      "[     Aragón]\t[   \"6845.0\"]\t[   \"3962.0\"]\t\n",
      "[   Canarias]\t[  \"11164.0\"]\t[   \"6181.0\"]\t\n"
     ]
    }
   ],
   "source": [
    "fi = open('ejemplo.csv', 'r')\n",
    "for linea in fi:\n",
    "    fila = linea.strip()\n",
    "    celdas = fila.split(',')\n",
    "    for celda in celdas:\n",
    "        print('[%11s]\\t' % celda, end='')\n",
    "    print()\n",
    "fi.close()"
   ]
  },
  {
   "cell_type": "code",
   "execution_count": null,
   "metadata": {
    "collapsed": false
   },
   "outputs": [],
   "source": []
  },
  {
   "cell_type": "markdown",
   "metadata": {},
   "source": [
    "## Caso de estudio: Censo de viviendas\n",
    "\n",
    "El INE distribuye datos del [Censo de Población y Viviendas](http://www.ine.es/prodyser/micro_censopv.htm) que incluyen dos archivos interesantes para nuestros propósitos:\n",
    "\n",
    "* Por un lado se distribuyen los [microdatos de toda España](ftp://www.ine.es/temas/censopv/cen11/Microdatos_viviendas_nacional.rar) que contienen todos los datos de la encuesta sin procesar.\n",
    "\n",
    "* Por otro lado se distribuye una hoja de cálculo que describe el [formato de cada registro del archivo de microdatos](ftp://www.ine.es/temas/censopv/cen11/Viviendas%20y%20Edificios_WEB.xls).\n",
    "\n",
    "Veamos cómo es el diseño de los registros. Es una tabla que indica a partir de qué posición empieza cada campo y hasta qué posición, así como la interpretación que tiene cada posible valor. Por ejemplo, para ver si la vivienda tiene o no Internet habría que consultar el caracter 25 (empezando desde 1). Es decir, si `linea` contiene una línea completa del archivo de microdatos entonces `linea[24]` nos indica si tiene o no Internet esa vivienda.\n",
    "\n",
    "<table cellspacing=\"0\" border=\"0\">\n",
    "\t<tr>\n",
    "\t\t<td style=\"border-top: 2px solid #000000; border-left: 2px solid #000000; border-right: 1px solid #000000\" rowspan=3 height=\"42\" align=\"left\" valign=top bgcolor=\"#E3E3E3\"><b><font size=1>Nombre del campo</font></b></td>\n",
    "\t\t<td style=\"border-top: 2px solid #000000; border-left: 1px solid #000000; border-right: 1px solid #000000\" rowspan=3 align=\"left\" valign=top bgcolor=\"#E3E3E3\"><b><font size=1>Nombre de la variable</font></b></td>\n",
    "\t\t<td style=\"border-top: 2px solid #000000; border-left: 1px solid #000000; border-right: 1px solid #000000\" rowspan=3 align=\"left\" valign=top bgcolor=\"#E3E3E3\"><b><font size=1>Longitud del campo</font></b></td>\n",
    "\t\t<td style=\"border-top: 2px solid #000000; border-left: 1px solid #000000; border-right: 1px solid #000000\" rowspan=3 align=\"left\" valign=top bgcolor=\"#E3E3E3\"><b><font size=1>Inicio</font></b></td>\n",
    "\t\t<td style=\"border-top: 2px solid #000000; border-left: 1px solid #000000; border-right: 1px solid #000000\" rowspan=3 align=\"left\" valign=top bgcolor=\"#E3E3E3\"><b><font size=1>Fin</font></b></td>\n",
    "\t\t<td style=\"border-top: 2px solid #000000; border-left: 1px solid #000000; border-right: 2px solid #000000\" rowspan=3 align=\"left\" valign=top bgcolor=\"#E3E3E3\"><b><font size=1>Valores validos</font></b></td>\n",
    "\t</tr>\n",
    "\t<tr>\n",
    "\t\t</tr>\n",
    "\t<tr>\n",
    "\t\t</tr>\n",
    "\t<tr>\n",
    "\t\t<td style=\"border-top: 2px solid #000000; border-left: 2px solid #000000\" height=\"26\" align=\"left\" bgcolor=\"#FFD475\"><b><font size=1>Identificación</font></b></td>\n",
    "\t\t<td style=\"border-top: 2px solid #000000\" align=\"left\" bgcolor=\"#FFD475\"><font face=\"Univers\" size=1><br></font></td>\n",
    "\t\t<td style=\"border-top: 2px solid #000000\" align=\"left\" bgcolor=\"#FFD475\"><font face=\"Univers\" size=1><br></font></td>\n",
    "\t\t<td style=\"border-top: 2px solid #000000\" align=\"left\" bgcolor=\"#FFD475\"><font face=\"Univers\" size=1><br></font></td>\n",
    "\t\t<td style=\"border-top: 2px solid #000000\" align=\"left\" bgcolor=\"#FFD475\"><font face=\"Univers\" size=1><br></font></td>\n",
    "\t\t<td style=\"border-top: 2px solid #000000; border-right: 2px solid #000000\" align=\"left\" bgcolor=\"#FFD475\"><font face=\"Univers\" size=1><br></font></td>\n",
    "\t</tr>\n",
    "\t<tr>\n",
    "\t\t<td style=\"border-left: 2px solid #000000\" height=\"21\" align=\"left\" valign=top><font size=1>Código de provincia</font></td>\n",
    "\t\t<td align=\"left\" valign=top><font size=1>CPRO</font></td>\n",
    "\t\t<td align=\"center\" valign=top sdval=\"2\" sdnum=\"3082;\"><font size=1>2</font></td>\n",
    "\t\t<td align=\"center\" valign=top sdval=\"1\" sdnum=\"3082;\"><font size=1>1</font></td>\n",
    "\t\t<td align=\"center\" valign=top sdval=\"2\" sdnum=\"3082;\"><font size=1>2</font></td>\n",
    "\t\t<td style=\"border-right: 2px solid #000000\" align=\"left\" valign=top><font size=1>Desde 1 hasta 52</font></td>\n",
    "\t</tr>\n",
    "\t<tr>\n",
    "\t\t<td style=\"border-left: 2px solid #000000\" height=\"94\" align=\"left\" valign=top><font size=1>Código o tamaño de municipio</font></td>\n",
    "\t\t<td align=\"left\" valign=top><font size=1>CMUN</font></td>\n",
    "\t\t<td align=\"center\" valign=top sdval=\"3\" sdnum=\"3082;\"><font size=1>3</font></td>\n",
    "\t\t<td align=\"center\" valign=top sdval=\"3\" sdnum=\"3082;\"><font size=1>3</font></td>\n",
    "\t\t<td align=\"center\" valign=top sdval=\"5\" sdnum=\"3082;\"><font size=1>5</font></td>\n",
    "\t\t<td style=\"border-right: 2px solid #000000\" align=\"left\" valign=top><font size=1>Si tamaño de municipio &lt;=2.000, CMUN=991<br>Si 2.001 &lt;=tamaño de municipio &lt;=5.000, CMUN=992<br>Si 5.001 &lt;=tamaño de municipio &lt;=10.000, CMUN=993<br>Si 10.001 &lt;=tamaño de municipio &lt;=20.000, CMUN=994<br>Si tamaño de municipio &gt;20.000, CMUN=Código de municipio</font></td>\n",
    "\t</tr>\n",
    "\t<tr>\n",
    "\t\t<td style=\"border-left: 2px solid #000000\" height=\"21\" align=\"left\" bgcolor=\"#FFD475\"><b><font size=1>Datos de la vivienda</font></b></td>\n",
    "\t\t<td align=\"left\" bgcolor=\"#FFD475\"><font face=\"Univers\" size=1><br></font></td>\n",
    "\t\t<td align=\"left\" bgcolor=\"#FFD475\"><font face=\"Univers\" size=1><br></font></td>\n",
    "\t\t<td align=\"left\" bgcolor=\"#FFD475\"><font face=\"Univers\" size=1><br></font></td>\n",
    "\t\t<td align=\"left\" bgcolor=\"#FFD475\"><font face=\"Univers\" size=1><br></font></td>\n",
    "\t\t<td style=\"border-right: 2px solid #000000\" align=\"left\" bgcolor=\"#FFD475\"><font face=\"Univers\" size=1><br></font></td>\n",
    "\t</tr>\n",
    "\t<tr>\n",
    "\t\t<td style=\"border-left: 2px solid #000000\" height=\"20\" align=\"left\" valign=top><font size=1>Factor de elevación de la vivienda</font></td>\n",
    "\t\t<td align=\"left\" valign=top><font size=1>FACTOR</font></td>\n",
    "\t\t<td align=\"center\" valign=top sdval=\"14\" sdnum=\"3082;\"><font size=1>14</font></td>\n",
    "\t\t<td align=\"center\" valign=top sdval=\"6\" sdnum=\"3082;\"><font size=1>6</font></td>\n",
    "\t\t<td align=\"center\" valign=top sdval=\"19\" sdnum=\"3082;\"><font size=1>19</font></td>\n",
    "\t\t<td style=\"border-right: 2px solid #000000\" align=\"left\" valign=top><font size=1 color=\"#FF0000\"><br></font></td>\n",
    "\t</tr>\n",
    "\t<tr>\n",
    "\t\t<td style=\"border-left: 2px solid #000000\" height=\"56\" align=\"left\" valign=top><font size=1>Clase de vivienda </font></td>\n",
    "\t\t<td align=\"left\" valign=top><font size=1>CVIVIF</font></td>\n",
    "\t\t<td align=\"center\" valign=top sdval=\"1\" sdnum=\"3082;\"><font size=1>1</font></td>\n",
    "\t\t<td align=\"center\" valign=top sdval=\"20\" sdnum=\"3082;\"><font size=1>20</font></td>\n",
    "\t\t<td align=\"center\" valign=top sdval=\"20\" sdnum=\"3082;\"><font size=1>20</font></td>\n",
    "\t\t<td style=\"border-right: 2px solid #000000\" align=\"left\" valign=top><font size=1>1 Vivienda Prinicipal<br>2 Vivienda Secundaria<br>3 Vivienda Vacía</font></td>\n",
    "\t</tr>\n",
    "\t<tr>\n",
    "\t\t<td style=\"border-left: 2px solid #000000\" height=\"150\" align=\"left\" valign=top><font size=1>Régimen de tenencia</font></td>\n",
    "\t\t<td align=\"left\" valign=top><font size=1>TENEN</font></td>\n",
    "\t\t<td align=\"center\" valign=top sdval=\"1\" sdnum=\"3082;\"><font size=1>1</font></td>\n",
    "\t\t<td align=\"center\" valign=top sdval=\"21\" sdnum=\"3082;\"><font size=1>21</font></td>\n",
    "\t\t<td align=\"center\" valign=top sdval=\"21\" sdnum=\"3082;\"><font size=1>21</font></td>\n",
    "\t\t<td style=\"border-right: 2px solid #000000\" align=\"left\" valign=top><font size=1>1 Propia, por compra, totalmente pagada<br>2 Propia, por compra, con pagos pendientes (hipotecas)<br>3 Propia por herencia o donación<br>4 Alquilada<br>5 Cedida gratis o a bajo precio (por otro hogar, pagada por la empresa...)<br>6 Otra forma<br>Blanco si CVIVIF &lt;&gt; 1 </font></td>\n",
    "\t</tr>\n",
    "\t<tr>\n",
    "\t\t<td style=\"border-left: 2px solid #000000\" height=\"113\" align=\"left\" valign=top><font size=1>Calefacción </font></td>\n",
    "\t\t<td align=\"left\" valign=top><font size=1>CALE</font></td>\n",
    "\t\t<td align=\"center\" valign=top sdval=\"1\" sdnum=\"3082;\"><font size=1>1</font></td>\n",
    "\t\t<td align=\"center\" valign=top sdval=\"22\" sdnum=\"3082;\"><font size=1>22</font></td>\n",
    "\t\t<td align=\"center\" valign=top sdval=\"22\" sdnum=\"3082;\"><font size=1>22</font></td>\n",
    "\t\t<td style=\"border-right: 2px solid #000000\" align=\"left\" valign=top><font size=1>1 Colectiva o central<br>2 Individual<br>3 No tiene calefacción pero sí algún aparato que permite calentar<br>4 No tiene calefacción<br>Blanco si CVIVIF &lt;&gt; 1 </font></td>\n",
    "\t</tr>\n",
    "\t<tr>\n",
    "\t\t<td style=\"border-left: 2px solid #000000\" height=\"56\" align=\"left\" valign=top><font size=1>Cuanto de aseo con inodoro</font></td>\n",
    "\t\t<td align=\"left\" valign=top><font size=1>ASEO</font></td>\n",
    "\t\t<td align=\"center\" valign=top sdval=\"1\" sdnum=\"3082;\"><font size=1>1</font></td>\n",
    "\t\t<td align=\"center\" valign=top sdval=\"23\" sdnum=\"3082;\"><font size=1>23</font></td>\n",
    "\t\t<td align=\"center\" valign=top sdval=\"23\" sdnum=\"3082;\"><font size=1>23</font></td>\n",
    "\t\t<td style=\"border-right: 2px solid #000000\" align=\"left\" valign=top><font size=1>1 Sí<br>2 No<br>Blanco si CVIVIF &lt;&gt; 1 </font></td>\n",
    "\t</tr>\n",
    "\t<tr>\n",
    "\t\t<td style=\"border-left: 2px solid #000000\" height=\"56\" align=\"left\" valign=top><font size=1>Baño o ducha</font></td>\n",
    "\t\t<td align=\"left\" valign=top><font size=1>BADUCH</font></td>\n",
    "\t\t<td align=\"center\" valign=top sdval=\"1\" sdnum=\"3082;\"><font size=1>1</font></td>\n",
    "\t\t<td align=\"center\" valign=top sdval=\"24\" sdnum=\"3082;\"><font size=1>24</font></td>\n",
    "\t\t<td align=\"center\" valign=top sdval=\"24\" sdnum=\"3082;\"><font size=1>24</font></td>\n",
    "\t\t<td style=\"border-right: 2px solid #000000\" align=\"left\" valign=top><font size=1>1 Sí<br>2 No<br>Blanco si CVIVIF &lt;&gt; 1 </font></td>\n",
    "\t</tr>\n",
    "\t<tr>\n",
    "\t\t<td style=\"border-left: 2px solid #000000\" height=\"56\" align=\"left\" valign=top><font size=1>Acceso a Internet</font></td>\n",
    "\t\t<td align=\"left\" valign=top><font size=1>INTERNET</font></td>\n",
    "\t\t<td align=\"center\" valign=top sdval=\"1\" sdnum=\"3082;\"><font size=1>1</font></td>\n",
    "\t\t<td align=\"center\" valign=top sdval=\"25\" sdnum=\"3082;\"><font size=1>25</font></td>\n",
    "\t\t<td align=\"center\" valign=top sdval=\"25\" sdnum=\"3082;\"><font size=1>25</font></td>\n",
    "\t\t<td style=\"border-right: 2px solid #000000\" align=\"left\" valign=top><font size=1>1 Sí<br>2 No<br>Blanco si CVIVIF &lt;&gt; 1 </font></td>\n",
    "\t</tr>\n",
    "\t<tr>\n",
    "\t\t<td style=\"border-left: 2px solid #000000\" height=\"94\" align=\"left\" valign=top><font size=1>Sistema de suministro de agua</font></td>\n",
    "\t\t<td align=\"left\" valign=top><font size=1>AGUACOR</font></td>\n",
    "\t\t<td align=\"center\" valign=top sdval=\"1\" sdnum=\"3082;\"><font size=1>1</font></td>\n",
    "\t\t<td align=\"center\" valign=top sdval=\"26\" sdnum=\"3082;\"><font size=1>26</font></td>\n",
    "\t\t<td align=\"center\" valign=top sdval=\"26\" sdnum=\"3082;\"><font size=1>26</font></td>\n",
    "\t\t<td style=\"border-right: 2px solid #000000\" align=\"left\" valign=top><font size=1>1 Agua corriente por abastecimiento público<br>2 Agua corriente por abastecimiento privado o particular del edificio<br>3 No tiene agua corriente<br>Blanco si CVIVIF &lt;&gt; 1 </font></td>\n",
    "\t</tr>\n",
    "\t<tr>\n",
    "\t\t<td style=\"border-left: 2px solid #000000\" height=\"38\" align=\"left\" valign=top><font size=1>Superficie útil</font></td>\n",
    "\t\t<td align=\"left\" valign=top><font size=1>SUT</font></td>\n",
    "\t\t<td align=\"center\" valign=top sdval=\"3\" sdnum=\"3082;\"><font size=1>3</font></td>\n",
    "\t\t<td align=\"center\" valign=top sdval=\"27\" sdnum=\"3082;\"><font size=1>27</font></td>\n",
    "\t\t<td align=\"center\" valign=top sdval=\"29\" sdnum=\"3082;\"><font size=1>29</font></td>\n",
    "\t\t<td style=\"border-right: 2px solid #000000\" align=\"left\" valign=top><font size=1>Desde 5 hasta 999<br>Blanco si CVIVIF &lt;&gt; 1 </font></td>\n",
    "\t</tr>\n",
    "\t<tr>\n",
    "\t\t<td style=\"border-left: 2px solid #000000\" height=\"38\" align=\"left\" valign=top><font size=1>Número de habitaciones</font></td>\n",
    "\t\t<td align=\"left\" valign=top><font size=1>NHAB</font></td>\n",
    "\t\t<td align=\"center\" valign=top sdval=\"2\" sdnum=\"3082;\"><font size=1>2</font></td>\n",
    "\t\t<td align=\"center\" valign=top sdval=\"30\" sdnum=\"3082;\"><font size=1>30</font></td>\n",
    "\t\t<td align=\"center\" valign=top sdval=\"31\" sdnum=\"3082;\"><font size=1>31</font></td>\n",
    "\t\t<td style=\"border-right: 2px solid #000000\" align=\"left\" valign=top><font size=1>Desde 1 hasta 99<br>Blanco si CVIVIF &lt;&gt; 1 </font></td>\n",
    "\t</tr>\n",
    "\t<tr>\n",
    "\t\t<td style=\"border-left: 2px solid #000000\" height=\"22\" align=\"left\" bgcolor=\"#FFD475\"><b>...</b></td>\n",
    "\t\t<td align=\"left\" bgcolor=\"#FFD475\"><font face=\"Univers\" size=1><br></font></td>\n",
    "\t\t<td align=\"left\" bgcolor=\"#FFD475\"><font face=\"Univers\" size=1><br></font></td>\n",
    "\t\t<td align=\"left\" bgcolor=\"#FFD475\"><font face=\"Univers\" size=1><br></font></td>\n",
    "\t\t<td align=\"left\" bgcolor=\"#FFD475\"><font face=\"Univers\" size=1><br></font></td>\n",
    "\t\t<td style=\"border-right: 2px solid #000000\" align=\"left\" bgcolor=\"#FFD475\"><font face=\"Univers\" size=1><br></font></td>\n",
    "\t</tr>\n",
    "</table>\n",
    "\n",
    "Vamos a contestar alguna pregunta de ejemplo.  Por ejemplo, ¿cuántas viviendas secundarias (caracter 20) tienen Internet (caracter 25)?"
   ]
  },
  {
   "cell_type": "code",
   "execution_count": 8,
   "metadata": {
    "collapsed": false
   },
   "outputs": [],
   "source": [
    "def viviendas_secundarias_con_internet():\n",
    "    f = open('Microdatos_viviendas.txt', 'r')\n",
    "    c = 0\n",
    "    for linea in f:\n",
    "        if linea[19] == '2' and linea[24] == '1':\n",
    "            c += 1\n",
    "    f.close()\n",
    "    return c"
   ]
  },
  {
   "cell_type": "code",
   "execution_count": 9,
   "metadata": {
    "collapsed": false
   },
   "outputs": [
    {
     "name": "stdout",
     "output_type": "stream",
     "text": [
      "0 viviendas secundarias tienen Internet\n"
     ]
    }
   ],
   "source": [
    "print('%d viviendas secundarias tienen Internet' % viviendas_secundarias_con_internet())"
   ]
  },
  {
   "cell_type": "markdown",
   "metadata": {},
   "source": [
    "¿Y qué porcentaje de viviendas principales tiene Internet? "
   ]
  },
  {
   "cell_type": "code",
   "execution_count": 10,
   "metadata": {
    "collapsed": false
   },
   "outputs": [],
   "source": [
    "def viviendas_1_con_internet():\n",
    "    f = open('Microdatos_viviendas.txt', 'r')\n",
    "    viviendas = 0\n",
    "    internet = 0\n",
    "    for linea in f:\n",
    "        if linea[19] == '1':\n",
    "            viviendas += 1\n",
    "            if linea[24] == '1':\n",
    "                internet += 1\n",
    "    f.close()\n",
    "    return internet*100.0/viviendas"
   ]
  },
  {
   "cell_type": "code",
   "execution_count": 12,
   "metadata": {
    "collapsed": false
   },
   "outputs": [
    {
     "name": "stdout",
     "output_type": "stream",
     "text": [
      "El 50.646536% de las primeras viviendas tienen Internet\n"
     ]
    }
   ],
   "source": [
    "print('El %f%% de las primeras viviendas tienen Internet' % viviendas_1_con_internet())"
   ]
  },
  {
   "cell_type": "markdown",
   "metadata": {},
   "source": [
    "Ese código con tantos niveles de anidamiento no es bonito, vamos a refactorizarlo un poco."
   ]
  },
  {
   "cell_type": "code",
   "execution_count": 13,
   "metadata": {
    "collapsed": false
   },
   "outputs": [],
   "source": [
    "def viviendas_1_con_internet():\n",
    "    f = open('Microdatos_viviendas.txt', 'r')\n",
    "    viviendas = 0\n",
    "    internet = 0\n",
    "    for linea in f:\n",
    "        viviendas, internet = acum_datos_interes(linea, viviendas, internet)\n",
    "    f.close()\n",
    "    return 100.0 * internet / viviendas\n",
    "\n",
    "def acum_datos_interes(linea, viviendas, internet):\n",
    "    if linea[19] == '1':\n",
    "        viviendas += 1\n",
    "        if linea[24] == '1':\n",
    "            internet += 1\n",
    "    return viviendas, internet"
   ]
  },
  {
   "cell_type": "code",
   "execution_count": 14,
   "metadata": {
    "collapsed": false
   },
   "outputs": [
    {
     "name": "stdout",
     "output_type": "stream",
     "text": [
      "El 50.646536% de las primeras viviendas tienen Internet\n"
     ]
    }
   ],
   "source": [
    "print ('El %f%% de las primeras viviendas tienen Internet' % viviendas_1_con_internet())"
   ]
  },
  {
   "cell_type": "markdown",
   "metadata": {},
   "source": [
    "Sigue sin ser especialmente elegante pero ya no tiene tantos niveles de indentación. Aprenderemos a mejorarlo cuando veamos clases."
   ]
  }
 ],
 "metadata": {
  "kernelspec": {
   "display_name": "Python 3",
   "language": "python",
   "name": "python3"
  },
  "language_info": {
   "codemirror_mode": {
    "name": "ipython",
    "version": 3
   },
   "file_extension": ".py",
   "mimetype": "text/x-python",
   "name": "python",
   "nbconvert_exporter": "python",
   "pygments_lexer": "ipython3",
   "version": "3.5.2"
  }
 },
 "nbformat": 4,
 "nbformat_minor": 0
}
