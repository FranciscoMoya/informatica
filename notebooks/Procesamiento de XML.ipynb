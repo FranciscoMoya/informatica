{
 "metadata": {
  "name": "",
  "signature": "sha256:89ece19cb7530cd64a600b8e5bb29ad71999993a1dd100bd12411ed412c7062f"
 },
 "nbformat": 3,
 "nbformat_minor": 0,
 "worksheets": [
  {
   "cells": [
    {
     "cell_type": "markdown",
     "metadata": {},
     "source": [
      "# Procesamiento de XML\n",
      "\n",
      "XML es un lenguaje de marcado para escribir documentos estructurados.  Se usa para multitud de aplicaciones y por tanto deben conocerse al menos los rudimentos.\n",
      "\n",
      "Un documento XML est\u00e1 jer\u00e1rquicamente dividido por *elementos* identificados por etiquetas (*tags*).  La etiqueta que marca el comienzo se identifica con una palabra entre corchetes angulares, mientras que la etiqueta que marca el final se identifica con un car\u00e1cter `/` adicional antes de la misma palabra. Por ejemplo:\n",
      "\n",
      "<pre>\n",
      "&lt;root&gt;\n",
      "...\n",
      "&lt;/root&gt;\n",
      "</pre>\n",
      "\n",
      "Dentro de un elemento puede haber otros elementos. Por ejemplo:\n",
      "\n",
      "<pre>\n",
      "&lt;root&gt;\n",
      "&lt;origen&gt;...&lt;/origen&gt;\n",
      "&lt;nombre&gt;...&lt;/nombre&gt;\n",
      "&lt;/root&gt;\n",
      "</pre>\n",
      "\n",
      "Cada etiqueta puede tener atributos que se incluyen justo despu\u00e9s de la etiqueta de comienzo con los valores entre comillas:\n",
      "\n",
      "<pre>\n",
      "&lt;root id=\"28013\" version=\"1.0\"&gt;\n",
      "...\n",
      "&lt;/root&gt;\n",
      "</pre>\n",
      "\n",
      "Un elemento tambi\u00e9n puede contener texto entre las etiquetas de comienzo y fin:\n",
      "\n",
      "<pre>\n",
      "&lt;nombre&gt;Aranjuez&lt;/nombre&gt;\n",
      "</pre>\n",
      "\n",
      "Un documento XML bien formado solo contiene un elemento ra\u00edz (no contenido en ning\u00fan otro elemento).  Por tanto al leer un documento XML se genera un arbol de elementos.\n",
      "\n",
      "La biblioteca est\u00e1ndar de Python incluye [varios m\u00f3dulos](https://docs.python.org/2/library/xml.html) relacionados con la lectura y escritura de documentos XML.  Nosotros solo comentaremos el m\u00e1s sencillo.  Consulta la [documentaci\u00f3n de Python](https://docs.python.org/2/library/xml.html) si necesitas ampliar m\u00e1s.\n",
      "\n",
      "## Leer con `ElementTree`\n",
      "\n",
      "El procesador de XML m\u00e1s simple y ligero de los incluidos en Python es `xml.etree.ElementTree`. Ilustraremos su uso con un archivo XML como los empleados en el trabajo en grupo."
     ]
    },
    {
     "cell_type": "code",
     "collapsed": false,
     "input": [
      "import requests\n",
      "r = requests.get('http://www.aemet.es/xml/municipios/localidad_28013.xml')\n",
      "xml = r.text.encode('utf-8')"
     ],
     "language": "python",
     "metadata": {},
     "outputs": [],
     "prompt_number": 28
    },
    {
     "cell_type": "markdown",
     "metadata": {},
     "source": [
      "Ahora la variable `xml` contiene una cadena con todo el documento XML.  Veamos c\u00f3mo interpretarlo con `ElementTree`."
     ]
    },
    {
     "cell_type": "code",
     "collapsed": false,
     "input": [
      "import xml.etree.ElementTree as ET\n",
      "root = ET.fromstring(xml)"
     ],
     "language": "python",
     "metadata": {},
     "outputs": [],
     "prompt_number": 29
    },
    {
     "cell_type": "markdown",
     "metadata": {},
     "source": [
      "La funci\u00f3n `fromstring` devuelve un objeto de tipo `Element`, el elemento ra\u00edz del documento XML.  `Element` permite acceder a todos los componentes de un elemento con estas funciones:\n",
      "\n",
      "* `e.iter('etiqueta')` devuelve todos los elementos `etiqueta` que haya dentro del elemento `e`. Incluso los que est\u00e9n dentro de otros elementos contenidos dentro de `e`.\n",
      "* `e.find('etiqueta')` devuelve el primer elemento `etiqueta` que es hijo directo de `e`.\n",
      "* `e.findall('etiqueta')` devuelve todos los elementos `etiqueta` que son hijos directos de `e`.\n",
      "* `e.text` devuelve la cadena correspondiente al texto del elemento `e`.\n",
      "* `e.attrib` devuelve los atributos del elemento `e` como un diccionario.\n",
      "* `e.get('attr')` devuelve el valor del atributo `attr` del elemento `e`. \n",
      "\n",
      "Veamos un ejemplo que imprime la humedad m\u00ednima y m\u00e1xima para los pr\u00f3ximos d\u00edas."
     ]
    },
    {
     "cell_type": "code",
     "collapsed": false,
     "input": [
      "for dia in root.iter('dia'):\n",
      "    print '{0}:'.format(dia.get('fecha')),\n",
      "    humedad = dia.find('humedad_relativa')\n",
      "    hmax = int(humedad.find('maxima').text)\n",
      "    hmin = int(humedad.find('minima').text)\n",
      "    print 'humedad {0}/{1}'.format(hmin, hmax)"
     ],
     "language": "python",
     "metadata": {},
     "outputs": [
      {
       "output_type": "stream",
       "stream": "stdout",
       "text": [
        "2015-12-25: humedad 70/100\n",
        "2015-12-26: humedad 55/100\n",
        "2015-12-27: humedad 45/100\n",
        "2015-12-28: humedad 60/95\n",
        "2015-12-29: humedad 75/100\n",
        "2015-12-30: humedad 65/95\n",
        "2015-12-31: humedad 90/100\n"
       ]
      }
     ],
     "prompt_number": 45
    },
    {
     "cell_type": "markdown",
     "metadata": {},
     "source": [
      "## Leer con `BeautifulSoup`\n",
      "\n",
      "**Nota: En *BeautifulSoup* se usan atributos de Python para representar elementos XML. No confundas los *atributos* de Python con los *atributos* de un elemento XML.  Los atributos de XML son parejas clave/valor que se pueden incluir en las etiquetas de comienzo de cada elemento.**\n",
      "\n",
      "*BeautifulSoup* es una biblioteca que simplifica notablemente la lectura y escritura de documentos XML.  En *BeautifulSoup* la jerarqu\u00eda del documento se traslada autom\u00e1ticamente a Python en forma de atributos de objeto.  As\u00ed, por ejemplo, si el documento est\u00e1 contenido en un elemento `root` entonces lo devuelto por *BeautifulSoup* tendr\u00e1 un atributo `root`."
     ]
    },
    {
     "cell_type": "code",
     "collapsed": false,
     "input": [
      "from bs4 import BeautifulSoup\n",
      "soup = BeautifulSoup(xml, 'lxml')"
     ],
     "language": "python",
     "metadata": {},
     "outputs": [],
     "prompt_number": 34
    },
    {
     "cell_type": "markdown",
     "metadata": {},
     "source": [
      "As\u00ed, `soup` tendr\u00e1 un atributo `root` y a su vez ese atributo tendr\u00e1 un atributo `prediccion`, etc.  Tenemos varias formas de recorrer los elementos.  Si usamos los par\u00e9ntesis como si `soup` fuera una funci\u00f3n  podemos buscar todos los elementos con una etiqueta determinada.  Por ejemplo, `soup('dia')` nos devolver\u00e1 todos los elementos con etiqueta `dia`. En cambio si usamos los corchetes, como si se tratara de una lista, podemos acceder a los atributos del elemento.  Por ejemplo si `dia` es un elemento con etiqueta `'dia'` entonces `dia['fecha']` es el valor del atributo `fecha` del elemento `dia` en el documento XML. \n",
      "\n",
      "Si solo hay un elemento con esa etiqueta entonces podemos usar el atributo con el mismo nombre.  Por ejemplo, los elementos con etiqueta `dia` tienen solo un elemento `humedad_relativa`.  Por tanto podemos acceder a \u00e9l usando el atributo del mismo nombre.  Si hay m\u00faltiples elementos con la misma etiqueta el atributo solo sirve para acceder al primero. \n",
      "\n",
      "Para obtener el texto de cada elemento podemos acceder al atributo `string`. Por ejemplo, `soup.root.dia.prediccion.humedad_relativa.maxima.string` es el texto del elemento `maxima`, dentro del elemento `humedad_relativa`, dentro del elemento `prediccion`, dentro del primer elemento `dia`, dentro del elemento `root` del documento.\n",
      "\n",
      "As\u00ed, el c\u00f3digo equivalente al ejemplo de `ElementTree` ser\u00eda:"
     ]
    },
    {
     "cell_type": "code",
     "collapsed": false,
     "input": [
      "for dia in soup('dia'):\n",
      "    humedad = dia.humedad_relativa\n",
      "    hmax = int(humedad.maxima.string)\n",
      "    hmin = int(humedad.minima.string)\n",
      "    print '{0}: humedad {1}/{2}'.format(dia['fecha'], hmin, hmax)"
     ],
     "language": "python",
     "metadata": {},
     "outputs": [
      {
       "output_type": "stream",
       "stream": "stdout",
       "text": [
        "2015-12-25: humedad 70/100\n",
        "2015-12-26: humedad 55/100\n",
        "2015-12-27: humedad 45/100\n",
        "2015-12-28: humedad 60/95\n",
        "2015-12-29: humedad 75/100\n",
        "2015-12-30: humedad 65/95\n",
        "2015-12-31: humedad 90/100\n"
       ]
      }
     ],
     "prompt_number": 47
    }
   ],
   "metadata": {}
  }
 ]
}