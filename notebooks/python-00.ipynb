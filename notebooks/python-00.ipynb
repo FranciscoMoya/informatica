{
 "metadata": {
  "name": "",
  "signature": "sha256:eedbf44a32c3ced633b6a161ceef77acd09e49cc77832b12f0eab45b9ef20fc4"
 },
 "nbformat": 3,
 "nbformat_minor": 0,
 "worksheets": [
  {
   "cells": [
    {
     "cell_type": "markdown",
     "metadata": {},
     "source": [
      "# Herramientas usadas en el curso\n",
      "\n",
      "Para las presentaciones utilizaremos [Google Presentations](https://docs.google.com/presentation/). Todas las presentaciones se ir\u00e1n haciendo disponibles desde la p\u00e1gina del curso en [CampusVirtual](https://campusvirtual.uclm.es/). Las presentaciones no est\u00e1n hechas para estudiar, sino para ayudar a asimilar los conceptos contados en clase, durante la exposici\u00f3n del profesor. No merece la pena imprimirlas. Ser\u00eda un gasto in\u00fatil de papel y sobre todo de tinta.\n",
      "\n",
      "Como gui\u00f3n de clase se proporcionar\u00e1 junto a las presentaciones un conjunto de textos online (cuadernos) creados con [IPython Notebook](http://ipython.org/notebook.html). No deben entenderse como textos autocontenidos sino como guiones que permiten recordar al alumno lo visto en cada sesi\u00f3n y donde se incluyen referencias a otros documentos que pueden ser usados para estudiar.  Los propios ejemplos vistos en clase los realizaremos tambi\u00e9n con [IPython Notebook](http://ipython.org/notebook.html).\n",
      "\n",
      "No es necesario instalar ning\u00fan software para estudiar esta asignatura. Las presentaciones pueden verse con cualquier navegador moderno, los cuadernos podr\u00e1n verse tambi\u00e9n con un navegador en [Notebook Viewer](http://nbviewer.ipython.org/), y los ejercicios pueden realizarse tambi\u00e9n en l\u00ednea empleando [tmpnb.org](http://tmpnb.org/) (*temporary notebook*).\n",
      "\n",
      "No obstante, para los trabajos de laboratorio recomendamos instalar en vuestro propio ordenador alg\u00fan *entorno de desarrollo integrado*, tal como **IDLE**, el incluido en la distribuci\u00f3n oficial de Python (https://www.python.org/downloads/). A continuaci\u00f3n te resumimos las instrucciones de instalaci\u00f3n:\n",
      "\n",
      "* Los usuarios de Microsoft Windows tienen todo el software necesario en el [instalador oficial](https://www.python.org/downloads/).  Selecciona la \u00faltima distribuci\u00f3n disponible de Python 3 y sigue los pasos para instalarla.\n",
      "\n",
      "* Los usuarios de Mac OSX ya tienen Python preinstalado por Apple, pero la versi\u00f3n preinstalada es Python 2.  Si quieres evitar problemas instala la [distribuci\u00f3n oficial](https://www.python.org/downloads/) de Python 3.\n",
      "\n",
      "* Los usuarios de GNU/Linux (Debian, Ubuntu, Gentoo, CentOS, Molinux, etc.) tambi\u00e9n tienen Python preinstalado pero lo m\u00e1s probable es que se trate de Python 2.  Verifica esto en el gestor paquetes o en una terminal de \u00f3rdenes escribiendo `python --version`.  Si no es *Python 3.x.y* instala el paquete `python3` con tu gestor de paquetes."
     ]
    },
    {
     "cell_type": "markdown",
     "metadata": {},
     "source": [
      "#Organizaci\u00f3n del curso \n",
      "\n",
      "El curso se organiza en tres sesiones de una hora en clase a la semana y una sesi\u00f3n de dos horas en laboratorio cada dos semanas. Se estima que por cada hora de clase el alumno deben invertir 1.5 horas de estudio en casa. Si en otras asignaturas es posible concentrar el trabajo de varios d\u00edas en un d\u00eda de estudio intensivo no pienses que con esta asignatura tambi\u00e9n ocurre.\n",
      "\n",
      "La asignatura *Inform\u00e1tica* pretende desarrollar destrezas, no simplemente adquirir conocimientos. Por tanto es muy importante una dedicaci\u00f3n suficiente y prolongada. No se aprende a montar en bicicleta en un d\u00eda, aunque dediques las 24 horas del d\u00eda a experimentar.\n",
      "\n",
      "Estudiar *Inform\u00e1tica* no consiste en leer o memorizar, sino en resolver problemas con ayuda de un ordenador. Al principio los problemas que podemos resolver son muy simples, pero no te conf\u00edes, los problemas aumentan de complejidad r\u00e1pidamente y la gama de opciones disponibles puede causar cierto desbordamiento si no se lleva al d\u00eda.\n",
      "\n",
      "Si tienes ordenador port\u00e1til no dudes en usarlo durante las clases.  Puedes probar los ejemplos durante la clase e interrumpir la clase con cualquier duda. Es m\u00e1s importante entenderlo todo que avanzar seg\u00fan la planificaci\u00f3n."
     ]
    },
    {
     "cell_type": "markdown",
     "metadata": {},
     "source": [
      "## Trabajo en clase\n",
      "\n",
      "Tu trabajo en clase consiste en entender todo lo explicado. Todas las clases tienen un material asociado, que se intentar\u00e1 poner a disposici\u00f3n de los alumnos con suficiente antelaci\u00f3n, y que puede constar de uno o varios de los siguientes recursos:\n",
      "\n",
      "1. **Transparencias**. Se usan como gu\u00eda y refuerzo de la exposici\u00f3n del profesor. No las imprimas, oj\u00e9alas si lo deseas antes de la clase pero por s\u00ed mismas no tienen por qu\u00e9 tener sentido.  En la medida de lo posible intentaremos que las transparencias tengan notas asociadas a modo de gui\u00f3n de la exposici\u00f3n.  En esos casos las puedes considerar como una transcripci\u00f3n de la parte correspondiente de la clase.\n",
      "\n",
      "1. **Cuadernos de trabajo**. Recogen los ejemplos de clase ordenados secuencialmente y con alguna propuesta de trabjo adicional. L\u00e9elos antes de la clase e intenta reproducir por t\u00ed mismo los ejemplos.\n",
      "\n",
      "1. **Documentaci\u00f3n adicional**. A veces es conveniente complementar la clase con alguna informaci\u00f3n no esencial que puede simplificar la vida del estudiante. Es el caso de este mismo documento. Normalmente se tratar\u00e1 de cuadernos adicionales, pero tambi\u00e9n pueden ser v\u00eddeos o art\u00edculos disponibles en Internet.\n",
      "\n",
      "Es muy conveniente comprobar frecuentemente la documentaci\u00f3n disponible en el Campus Virtual de la UCLM, sobre todo el d\u00eda antes de cada clase y cuando as\u00ed se diga en las clases. Todas aquellas personas que no pueden asistir con regularidad a las clases deber\u00edan ver el video correspondiente a cada clase (que se publicar\u00e1 un d\u00eda despu\u00e9s de a clase) para un seguimiento \u00f3ptimo de la asignatura.\n",
      "\n",
      "## Trabajo en el laboratorio\n",
      "\n",
      "El laboratorio consistir\u00e1 en pruebas de varios tipos orientadas a conseguir las tres destrezas b\u00e1sicas que conllevan los objetivos de la asignatura:\n",
      "\n",
      "* Leer programas\n",
      "* Escribir programas\n",
      "* Solucionar problemas usando programas\n",
      "\n",
      "Estas destrezas se resumen en una \u00fanica: *Desarrollar el pensamiento computacional*. Para algunos alumnos \u00e9sto ser\u00e1 muy sencillo, para otros puede llegar a ser muy complejo. Por eso la cantidad y tipo de trabajo que debe realizar cada alumno en el laboratorio depende de cada alumno.\n",
      "\n",
      "En general las actividades de laboratorio consistir\u00e1n en la realizaci\u00f3n de peque\u00f1os programas.  La evaluaci\u00f3n y/o correcci\u00f3n se realizar\u00e1 de forma completamente autom\u00e1tica a trav\u00e9s de una actividad del Campus Virtual.  El profesor no est\u00e1, por tanto, para deciros si un programa est\u00e1 bien o mal, sino para orientaros sobre formas alternativas de resolver problemas o para indicaros las mejores formas de expresar conceptos en vuestro programa.  Pensad en \u00e9l como en un experto que est\u00e1 a vuestra disposici\u00f3n como consultor tecnol\u00f3gico.  No espereis que el profesor os diga a cada momento lo que teneis que hacer, eso ya lo teneis por escrito en Campus Virtual.\n",
      "\n",
      "La mec\u00e1nica del laboratorio pretende simular en la medida de lo posible la mec\u00e1nica de los ex\u00e1menes de *Inform\u00e1tica*. Tambi\u00e9n en los ex\u00e1menes vas a tener que resolver problemas y tambi\u00e9n en los ex\u00e1menes vas a tener que entregar tu soluci\u00f3n utilizando una actividad de Campus Virtual. Debes adquirir toda la familiaridad posible con la forma de trabajo y con las herramientas que elijas para que en el ex\u00e1men no pierdas el tiempo innecesariamente.\n",
      "\n",
      "Ya hemos sugerido arriba qu\u00e9 herramientas podeis usar. La decisi\u00f3n os compete a vosotros mismos. Podeis incluso ignorar las sugerencias ([tmpnb.org](http://tmpnb.org/) o [IDLE](https://www.python.org/downloads/)) y utilizar otros entornos (PyCharm, PyDev, Gedit, Atom, Emacs, etc.).  Una recomendaci\u00f3n general es que no cambieis de entorno en cada sesi\u00f3n.  Procurad invertir tiempo en utilizar todo el potencial de las herramientas y si pasado un tiempo no os adaptais a ellas probad con otra herramienta. A veces se requiere tiempo para adaptarse a una herramienta, pero se recupera con creces en la mejora de productividad.\n",
      "\n",
      "## Trabajo en casa\n",
      "\n",
      "El trabajo en casa tiene dos partes bien diferenciadas:\n",
      "\n",
      "1. Por un lado hay que asimilar los (escasos) conocimientos te\u00f3ricos de la asignatura. Tienes un libro de texto, tienes las clases con su material asociado y tienes Internet. \u00dasalos, no te quedes en las transparencias, busca lo que no entiendas, lee ejemplos de otra gente y pregunta en clase o en tutor\u00edas todo lo que te sigue planteando dudas.  En este orden, primero busca por t\u00ed mismo, luego pide ayuda.  El motivo es simple, la b\u00fasqueda activa de respuestas contribuye a tu aprendizaje.  La recepci\u00f3n pasiva de informaci\u00f3n solo contribuye a que vayas pasando las actividades de Campus Virtual, pero no podr\u00e1 ayudarte con los ex\u00e1menes, que son una parte importante de la calificaci\u00f3n final, y mucho menos con tu actividad profesional como ingeniero.\n",
      "\n",
      "1. Por otro lado tienes que poner en pr\u00e1ctica estos conocimientos.  Para ello *tienes* que hacer dos actividades: leer programas de otros, escribir programas para resolver peque\u00f1os problemas.  No te quedes en la segunda parte, es *muy importante* leer programas de otros.  Puedes aprender a nadar con *estilo perrito* pero cuando ves nadar a un profesional te das cuenta que tu estilo puede y debe mejorar.  Hay belleza en los programas, aprende a apreciarla, descubre qu\u00e9 propiedades son deseables y cu\u00e1les no, aprende a escribir programas para que otros los entiendan.\n",
      "\n",
      "Con gran diferencia la segunda parte es la que m\u00e1s tiempo te debe consumir. Python tiene solo 40 palabras y la mayor\u00eda son vocablos comunes en ingl\u00e9s, que ya deber\u00edas conocer. Si est\u00e1s consumiendo mucho tiempo en la primera parte reacciona pronto, porque la propia pr\u00e1ctica de la programaci\u00f3n tambi\u00e9n te ayuda a asimilar los conceptos y lo contrario no ocurre nunca. Leyendo un manual de t\u00e9cnica de nataci\u00f3n no se aprende a nadar.\n",
      "\n",
      "Para ayudarte en esta labor te proponemos una serie de ejercicios muy simples adicionales en Campus Virtual.  La mec\u00e1nica es igual que la de los ejercicios del laboratorio o de los ex\u00e1menes, pero no contribuyen a la calificaci\u00f3n de la asignatura. Hazlos si te resultan \u00fatiles para estudiar, ign\u00f3ralos si ves que los ejercicios del laboratorio o los programas de ejemplo te resultan muy f\u00e1ciles.\n",
      "\n",
      "# Manos a la obra\n",
      "\n",
      "Empieza a programar ya. No tienes excusa, si est\u00e1s leyendo \u00e9sto es que tienes un navegador y por tanto puedes abrir una pesta\u00f1a nueva e ir a [tmpnb.org](http://tmpnb.org/).  Aparecer\u00e1 la p\u00e1gina con un navegador de archivos.  Pulsa el men\u00fa *New* y selecciona *Python 3*.\n",
      "\n",
      "Teclea el siguiente programa en la celda editable:"
     ]
    },
    {
     "cell_type": "code",
     "collapsed": false,
     "input": [
      "print('Hola, Mundo')"
     ],
     "language": "python",
     "metadata": {
      "slideshow": {
       "slide_type": "-"
      }
     },
     "outputs": [
      {
       "output_type": "stream",
       "stream": "stdout",
       "text": [
        "Hola, Mundo\n"
       ]
      }
     ],
     "prompt_number": 1
    },
    {
     "cell_type": "markdown",
     "metadata": {},
     "source": [
      "Ahora pulsa el bot\u00f3n *run cell* de la barra de botones, el que tiene una flecha similar a la del *play* de un equipo multimedia. Ver\u00e1s que el mensaje aparece bajo la celda editable. Ya has hecho tu primer programa, es as\u00ed de simple. Ahora sigue con los problemas del curso.\n",
      "\n",
      "# Pol\u00edtica de copias\n",
      "\n",
      "En esta asignatura hay y habr\u00e1 tolerancia cero con la copia y el enga\u00f1o. Es un comportamiento totalmente inaceptable para cualquier profesional cualificado y ser\u00e1 perseguido con la m\u00e1xima dureza que permita la reglamentaci\u00f3n interna de la UCLM.  Se utilizar\u00e1n herramientas *estado del arte* para la detecci\u00f3n autom\u00e1tica de copias en todas las actividades."
     ]
    },
    {
     "cell_type": "code",
     "collapsed": false,
     "input": [],
     "language": "python",
     "metadata": {},
     "outputs": []
    }
   ],
   "metadata": {}
  }
 ]
}