{
 "cells": [
  {
   "cell_type": "markdown",
   "metadata": {},
   "source": [
    "# Herramientas usadas en el curso\n",
    "\n",
    "Para las presentaciones utilizaremos [Google Presentations](https://docs.google.com/presentation/). Todas las presentaciones se irán haciendo disponibles desde la página del curso en [CampusVirtual](https://campusvirtual.uclm.es/). Las presentaciones no están hechas para estudiar, sino para ayudar a asimilar los conceptos contados en clase, durante la exposición del profesor. No merece la pena imprimirlas. Sería un gasto inútil de papel y sobre todo de tinta.\n",
    "\n",
    "Como guión de clase se proporcionará junto a las presentaciones un conjunto de textos online (cuadernos) creados con [IPython Notebook](http://ipython.org/notebook.html). No deben entenderse como textos autocontenidos sino como guiones que permiten recordar al alumno lo visto en cada sesión y donde se incluyen referencias a otros documentos que pueden ser usados para estudiar.  Los propios ejemplos vistos en clase los realizaremos también con [IPython Notebook](http://ipython.org/notebook.html).\n",
    "\n",
    "No es necesario instalar ningún software para estudiar esta asignatura. Las presentaciones pueden verse con cualquier navegador moderno, los cuadernos podrán verse también con un navegador en [Notebook Viewer](http://nbviewer.ipython.org/), y los ejercicios pueden realizarse también en línea empleando [tmpnb.org](http://tmpnb.org/) (*temporary notebook*).\n",
    "\n",
    "No obstante, para los trabajos de laboratorio recomendamos instalar en vuestro propio ordenador algún *entorno de desarrollo integrado*, tal como **IDLE**, el incluido en la distribución oficial de Python (https://www.python.org/downloads/). A continuación te resumimos las instrucciones de instalación:\n",
    "\n",
    "* Los usuarios de Microsoft Windows tienen todo el software necesario en el [instalador oficial](https://www.python.org/downloads/).  Selecciona la última distribución disponible de Python 3 y sigue los pasos para instalarla.\n",
    "\n",
    "* Los usuarios de Mac OSX ya tienen Python preinstalado por Apple, pero la versión preinstalada es Python 2.  Si quieres evitar problemas instala la [distribución oficial](https://www.python.org/downloads/) de Python 3.\n",
    "\n",
    "* Los usuarios de GNU/Linux (Debian, Ubuntu, Gentoo, CentOS, Molinux, etc.) también tienen Python preinstalado pero lo más probable es que se trate de Python 2.  Verifica esto en el gestor paquetes o en una terminal de órdenes escribiendo `python --version`.  Si no es *Python 3.x.y* instala el paquete `python3` con tu gestor de paquetes."
   ]
  },
  {
   "cell_type": "markdown",
   "metadata": {},
   "source": [
    "# Organización del curso \n",
    "\n",
    "El curso se organiza en tres sesiones de una hora en clase a la semana y una sesión de dos horas en laboratorio cada dos semanas. Se estima que por cada hora de clase el alumno deben invertir 1.5 horas de estudio en casa. Si en otras asignaturas es posible concentrar el trabajo de varios días en un día de estudio intensivo no pienses que con esta asignatura también ocurre.\n",
    "\n",
    "La asignatura *Informática* pretende desarrollar destrezas, no simplemente adquirir conocimientos. Por tanto es muy importante una dedicación suficiente y prolongada. No se aprende a montar en bicicleta en un día, aunque dediques las 24 horas del día a experimentar.\n",
    "\n",
    "Estudiar *Informática* no consiste en leer o memorizar, sino en resolver problemas con ayuda de un ordenador. Al principio los problemas que podemos resolver son muy simples, pero no te confíes, los problemas aumentan de complejidad rápidamente y la gama de opciones disponibles puede causar cierto desbordamiento si no se lleva al día.\n",
    "\n",
    "Si tienes ordenador portátil no dudes en usarlo durante las clases.  Puedes probar los ejemplos durante la clase e interrumpir la clase con cualquier duda. Es más importante entenderlo todo que avanzar según la planificación."
   ]
  },
  {
   "cell_type": "markdown",
   "metadata": {},
   "source": [
    "## Trabajo en clase\n",
    "\n",
    "Tu trabajo en clase consiste en entender todo lo explicado. Todas las clases tienen un material asociado, que se intentará poner a disposición de los alumnos con suficiente antelación, y que puede constar de uno o varios de los siguientes recursos:\n",
    "\n",
    "1. **Transparencias**. Se usan como guía y refuerzo de la exposición del profesor. No las imprimas, ojéalas si lo deseas antes de la clase pero por sí mismas no tienen por qué tener sentido.  En la medida de lo posible intentaremos que las transparencias tengan notas asociadas a modo de guión de la exposición.  En esos casos las puedes considerar como una transcripción de la parte correspondiente de la clase.\n",
    "\n",
    "1. **Cuadernos de trabajo**. Recogen los ejemplos de clase ordenados secuencialmente y con alguna propuesta de trabjo adicional. Léelos antes de la clase e intenta reproducir por tí mismo los ejemplos.\n",
    "\n",
    "1. **Documentación adicional**. A veces es conveniente complementar la clase con alguna información no esencial que puede simplificar la vida del estudiante. Es el caso de este mismo documento. Normalmente se tratará de cuadernos adicionales, pero también pueden ser vídeos o artículos disponibles en Internet.\n",
    "\n",
    "Es muy conveniente comprobar frecuentemente la documentación disponible en el Campus Virtual de la UCLM, sobre todo el día antes de cada clase y cuando así se diga en las clases. Todas aquellas personas que no pueden asistir con regularidad a las clases deberían ver el video correspondiente a cada clase (que se publicará un día después de a clase) para un seguimiento óptimo de la asignatura.\n",
    "\n",
    "## Trabajo en el laboratorio\n",
    "\n",
    "El laboratorio consistirá en pruebas de varios tipos orientadas a conseguir las tres destrezas básicas que conllevan los objetivos de la asignatura:\n",
    "\n",
    "* Leer programas\n",
    "* Escribir programas\n",
    "* Solucionar problemas usando programas\n",
    "\n",
    "Estas destrezas se resumen en una única: *Desarrollar el pensamiento computacional*. Para algunos alumnos ésto será muy sencillo, para otros puede llegar a ser muy complejo. Por eso la cantidad y tipo de trabajo que debe realizar cada alumno en el laboratorio depende de cada alumno.\n",
    "\n",
    "En general las actividades de laboratorio consistirán en la realización de pequeños programas.  La evaluación y/o corrección se realizará de forma completamente automática a través de una actividad del Campus Virtual.  El profesor no está, por tanto, para deciros si un programa está bien o mal, sino para orientaros sobre formas alternativas de resolver problemas o para indicaros las mejores formas de expresar conceptos en vuestro programa.  Pensad en él como en un experto que está a vuestra disposición como consultor tecnológico.  No espereis que el profesor os diga a cada momento lo que teneis que hacer, eso ya lo teneis por escrito en Campus Virtual.\n",
    "\n",
    "La mecánica del laboratorio pretende simular en la medida de lo posible la mecánica de los exámenes de *Informática*. También en los exámenes vas a tener que resolver problemas y también en los exámenes vas a tener que entregar tu solución utilizando una actividad de Campus Virtual. Debes adquirir toda la familiaridad posible con la forma de trabajo y con las herramientas que elijas para que en el exámen no pierdas el tiempo innecesariamente.\n",
    "\n",
    "Ya hemos sugerido arriba qué herramientas podeis usar. La decisión os compete a vosotros mismos. Podeis incluso ignorar las sugerencias ([tmpnb.org](http://tmpnb.org/) o [IDLE](https://www.python.org/downloads/)) y utilizar otros entornos (PyCharm, PyDev, Gedit, Atom, Emacs, etc.).  Una recomendación general es que no cambieis de entorno en cada sesión.  Procurad invertir tiempo en utilizar todo el potencial de las herramientas y si pasado un tiempo no os adaptais a ellas probad con otra herramienta. A veces se requiere tiempo para adaptarse a una herramienta, pero se recupera con creces en la mejora de productividad.\n",
    "\n",
    "## Trabajo en casa\n",
    "\n",
    "El trabajo en casa tiene dos partes bien diferenciadas:\n",
    "\n",
    "1. Por un lado hay que asimilar los (escasos) conocimientos teóricos de la asignatura. Tienes un libro de texto, tienes las clases con su material asociado y tienes Internet. Úsalos, no te quedes en las transparencias, busca lo que no entiendas, lee ejemplos de otra gente y pregunta en clase o en tutorías todo lo que te sigue planteando dudas.  En este orden, primero busca por tí mismo, luego pide ayuda.  El motivo es simple, la búsqueda activa de respuestas contribuye a tu aprendizaje.  La recepción pasiva de información solo contribuye a que vayas pasando las actividades de Campus Virtual, pero no podrá ayudarte con los exámenes, que son una parte importante de la calificación final, y mucho menos con tu actividad profesional como ingeniero.\n",
    "\n",
    "1. Por otro lado tienes que poner en práctica estos conocimientos.  Para ello *tienes* que hacer dos actividades: leer programas de otros, escribir programas para resolver pequeños problemas.  No te quedes en la segunda parte, es *muy importante* leer programas de otros.  Puedes aprender a nadar con *estilo perrito* pero cuando ves nadar a un profesional te das cuenta que tu estilo puede y debe mejorar.  Hay belleza en los programas, aprende a apreciarla, descubre qué propiedades son deseables y cuáles no, aprende a escribir programas para que otros los entiendan.\n",
    "\n",
    "Con gran diferencia la segunda parte es la que más tiempo te debe consumir. Python tiene solo 40 palabras y la mayoría son vocablos comunes en inglés, que ya deberías conocer. Si estás consumiendo mucho tiempo en la primera parte reacciona pronto, porque la propia práctica de la programación también te ayuda a asimilar los conceptos y lo contrario no ocurre nunca. Leyendo un manual de técnica de natación no se aprende a nadar.\n",
    "\n",
    "Para ayudarte en esta labor te proponemos una serie de ejercicios muy simples adicionales en Campus Virtual.  La mecánica es igual que la de los ejercicios del laboratorio o de los exámenes, pero no contribuyen a la calificación de la asignatura. Hazlos si te resultan útiles para estudiar, ignóralos si ves que los ejercicios del laboratorio o los programas de ejemplo te resultan muy fáciles.\n",
    "\n",
    "# Manos a la obra\n",
    "\n",
    "Empieza a programar ya. No tienes excusa, si estás leyendo ésto es que tienes un navegador y por tanto puedes abrir una pestaña nueva e ir a [tmpnb.org](http://tmpnb.org/).  Aparecerá la página con un navegador de archivos.  Pulsa el menú *New* y selecciona *Python 3*.\n",
    "\n",
    "Teclea el siguiente programa en la celda editable:"
   ]
  },
  {
   "cell_type": "code",
   "execution_count": 1,
   "metadata": {
    "collapsed": false,
    "slideshow": {
     "slide_type": "-"
    }
   },
   "outputs": [
    {
     "name": "stdout",
     "output_type": "stream",
     "text": [
      "Hola, Mundo\n"
     ]
    }
   ],
   "source": [
    "print('Hola, Mundo')"
   ]
  },
  {
   "cell_type": "markdown",
   "metadata": {},
   "source": [
    "Ahora pulsa el botón *run cell* de la barra de botones, el que tiene una flecha similar a la del *play* de un equipo multimedia. Verás que el mensaje aparece bajo la celda editable. Ya has hecho tu primer programa, es así de simple. Ahora sigue con los problemas del curso.\n",
    "\n",
    "## Instalación del software\n",
    "\n",
    "Para trabajar desconectado de la red puede ser útil instalar el software en tu propio ordenador. Sigue estos sencillos pasos y podrás editar cuadernos como los que usamos en clase en tu ordenador.\n",
    "\n",
    "### Microsoft Windows\n",
    "\n",
    "1. Descarga e instala la distribución oficial de [Python 3](https://www.python.org/downloads/).  Pincha en el botón *Download Python 3.x.y*.  En el momento de escribir este documento era *Download Python 3.5.2* pero no repares en instalar la última versión.  Ese botón descarga un ejecutable que contiene el instalador de Python que debes *ejecutar*.  En este documento asumiremos que lo has instalado con las opciones por defecto, pulsando directamente en la opción *Install Now* del instalador.\n",
    "\n",
    "1. Ejecuta el intérprete de órdenes de Windows pulsando la tecla con el logo de Windows y teclando `cmd.exe`.\n",
    "\n",
    "1. Escribe las siguientes órdenes en la ventana del intérprete de órdenes:\n",
    "\n",
    "  ```pip install ipython\n",
    "  pip install jupyter\n",
    "```\n",
    "\n",
    "### Mac OS X\n",
    "\n",
    "1. Descarga e instala la distribución oficial de [Python 3](https://www.python.org/downloads/).  Pincha en el botón *Download Python 3.x.y*.  En el momento de escribir este documento era *Download Python 3.5.2* pero no repares en instalar la última versión.  Ese botón descarga un paquete que debes *instalar*.  Tendrás una nueva carpeta *MacPython 3.5* en la carpeta de *Aplicaciones*.\n",
    "\n",
    "1. Ejecuta la aplicación *Terminal* dentro de la carpeta *Utilidades*.\n",
    "\n",
    "1. Introduce las siguientes órdenes en la ventana del *Terminal*.\n",
    "\n",
    "  ```pip install ipython\n",
    "  pip install jupyter\n",
    "```\n",
    "\n",
    "## Ejecutar `jupyter`\n",
    "\n",
    "Para ejecutar un entorno similar a [tmpnb.org](http://tmpnb.org) en tu propio ordenador con la capacidad de guardar los cuadernos en disco basta con ejecutar el intérprete de órdenes (`cmd.exe` en Windows o *Terminal* en Mac OS X) e introducir la siguiente orden.\n",
    "\n",
    "```ipython notebook\n",
    "```"
   ]
  },
  {
   "cell_type": "markdown",
   "metadata": {},
   "source": [
    "# Política de copias\n",
    "\n",
    "En esta asignatura hay y habrá tolerancia cero con la copia y el engaño. Es un comportamiento totalmente inaceptable para cualquier profesional cualificado y será perseguido con la máxima dureza que permita la reglamentación interna de la UCLM.  Se utilizarán herramientas *estado del arte* para la detección automática de copias en todas las actividades."
   ]
  },
  {
   "cell_type": "code",
   "execution_count": null,
   "metadata": {
    "collapsed": false
   },
   "outputs": [],
   "source": []
  }
 ],
 "metadata": {
  "kernelspec": {
   "display_name": "Python 3",
   "language": "python",
   "name": "python3"
  },
  "language_info": {
   "codemirror_mode": {
    "name": "ipython",
    "version": 3
   },
   "file_extension": ".py",
   "mimetype": "text/x-python",
   "name": "python",
   "nbconvert_exporter": "python",
   "pygments_lexer": "ipython3",
   "version": "3.5.2"
  }
 },
 "nbformat": 4,
 "nbformat_minor": 0
}
