{
 "cells": [
  {
   "cell_type": "markdown",
   "metadata": {},
   "source": [
    "# Polígonos regulares\n",
    "\n",
    "*Asume que dispones de las siguientes funciones:*\n",
    "\n",
    "Función | Descripción\n",
    "--------|------------\n",
    "`avanzar(puntos)` | Avanza pintando una línea el número de puntos que indica el argumento.\n",
    "`girar(angulo)` | Gira los radianes que indica el argumento. Positivo indica giro a la derecha, negativo indica giro a la izquierda.\n",
    "`comenzar()` | Sitúa el lápiz en el punto de partida sin pintar nada.\n",
    "`saltar(puntos)` | Avanza sin pintar el número de puntos que indica el argumento.\n",
    "\n",
    "*Define una función poligono con dos argumentos que indican el número de lados y la longitud del lado respectivamente. La función debe dibujar un polígono regular con el número de lados indicados. Inicialmente el lápiz está orientado hacia la derecha.*\n",
    "\n",
    "### Ejemplo de funcionamiento:\n",
    "\n",
    "``` Python\n",
    ">>> poligono(5, 80)\n",
    "```\n",
    "![Pentágono](https://cdn.rawgit.com/FranciscoMoya/informatica/master/notebooks/poligono_5.svg)"
   ]
  },
  {
   "cell_type": "markdown",
   "metadata": {},
   "source": [
    "### Solución\n",
    "\n",
    "Primero copiamos la implementación de las funciones de dibujo."
   ]
  },
  {
   "cell_type": "code",
   "execution_count": null,
   "metadata": {
    "collapsed": true
   },
   "outputs": [],
   "source": [
    "from IPython.display import SVG,display\n",
    "from math import pi, sin, cos\n",
    "\n",
    "def avanzar(puntos):\n",
    "    global current_pos, current_drawing\n",
    "    pos1 = current_pos\n",
    "    saltar(puntos)\n",
    "    current_drawing += line(pos1, current_pos)\n",
    "        \n",
    "def saltar(puntos):\n",
    "    global current_pos, current_angle\n",
    "    x, y = current_pos\n",
    "    current_pos = x + puntos*cos(current_angle), y + puntos*sin(current_angle)\n",
    "\n",
    "def girar(radianes):\n",
    "    global current_angle\n",
    "    current_angle += radianes\n",
    "\n",
    "def goto(x,y):\n",
    "    global current_pos\n",
    "    current_pos = (x,y)\n",
    "\n",
    "def comenzar():\n",
    "    global current_pos, current_angle\n",
    "    current_pos = (100,100)\n",
    "    current_angle = 0.\n",
    "\n",
    "def limpiar():\n",
    "    global current_drawing\n",
    "    current_drawing = ''\n",
    "    comenzar()\n",
    "\n",
    "def dibujo():\n",
    "    global current_drawing\n",
    "    ret = SVG('''<svg width=\"200\" height=\"200\" viewBox=\"0 0 200 200\"\n",
    "                      xmlns=\"http://www.w3.org/2000/svg\">{}</svg>'''\\\n",
    "               .format(current_drawing))\n",
    "    limpiar()\n",
    "    display(ret)\n",
    "\n",
    "def line(p1, p2):\n",
    "    (x1, y1), (x2, y2) = p1, p2\n",
    "    return '''<line x1=\"{}\" y1=\"{}\" \n",
    "                    x2=\"{}\" y2=\"{}\" \n",
    "                    stroke-width=\"1\" stroke=\"black\"/>'''.format(x1,y1,x2,y2)\n",
    "\n",
    "limpiar()"
   ]
  },
  {
   "cell_type": "markdown",
   "metadata": {},
   "source": [
    "La función para crear un polígono es un simple bucle."
   ]
  },
  {
   "cell_type": "code",
   "execution_count": null,
   "metadata": {
    "collapsed": true
   },
   "outputs": [],
   "source": [
    "from math import pi\n",
    "\n",
    "def poligono(n, lado):\n",
    "    for i in range(n):\n",
    "        avanzar(lado)\n",
    "        girar(-2*pi/n)"
   ]
  },
  {
   "cell_type": "markdown",
   "metadata": {},
   "source": [
    "Vamos a probarla."
   ]
  },
  {
   "cell_type": "code",
   "execution_count": null,
   "metadata": {
    "collapsed": false
   },
   "outputs": [],
   "source": [
    "poligono(5,40)\n",
    "dibujo()"
   ]
  },
  {
   "cell_type": "markdown",
   "metadata": {},
   "source": [
    "# Estrella cirscunscrita\n",
    "\n",
    "*Siguiendo con el ejemplo del polígono define una función estrella con dos argumentos (número de lados y longitud de cada segmento) que dibuja una estrella circunscrita en el polígono, como muestran los ejemplos a continuación. Observa que se trata de la estrella resultante de saltar uno de cada dos vértices. Observa también que cuando el número de lados es par la estrella está compuesta por dos líneas poligonales de la mitad de lados.*\n",
    "\n",
    "*Si solo funciona con número impar de lados se asumirá correcto pero se descontará un 20% de la calificación.*\n",
    "\n",
    "### Ejemplo de funcionamiento\n",
    "\n",
    "``` Python\n",
    ">>> estrella(5,150)\n",
    "```\n",
    "![Pentagrama](https://cdn.rawgit.com/FranciscoMoya/informatica/master/notebooks/estrella_5.svg)\n",
    "\n",
    "``` Python\n",
    ">>> estrella(6,150)\n",
    "```\n",
    "![Pentagrama](https://cdn.rawgit.com/FranciscoMoya/informatica/master/notebooks/estrella_6.svg)"
   ]
  },
  {
   "cell_type": "markdown",
   "metadata": {},
   "source": [
    "### Solución\n",
    "\n",
    "La estrella con n impar es igual ue el polígono, tan solo cambia el ángulo.  Vamos a extraer la funcionalidad común en una función `poligonal`.  El caso impar se descompone en dos líneas poligonales no conectadas.\n",
    "\n",
    "![Ángulo de giro en estrella](estrella-circunscrita.png)"
   ]
  },
  {
   "cell_type": "code",
   "execution_count": null,
   "metadata": {
    "collapsed": true
   },
   "outputs": [],
   "source": [
    "def estrella(n, lado):\n",
    "    angulo = -4*pi/n\n",
    "    if n%2 != 0:\n",
    "        poligonal(n, lado, angulo)\n",
    "        return\n",
    "    poligonal(n//2, lado, angulo)\n",
    "    siguiente_vertice(n,lado)\n",
    "    poligonal(n//2, lado, angulo)\n",
    "    \n",
    "def poligonal(n,lado,angulo):\n",
    "    for i in range(n):\n",
    "        avanzar(lado)\n",
    "        girar(angulo)"
   ]
  },
  {
   "cell_type": "markdown",
   "metadata": {},
   "source": [
    "La parte más difícil es cómo viajar hasta el siguiente vértice una vez que hemos terminado de dibujar la primera línea poligonal de las estrellas con n par. Hay que hacer un poco de razonamiento geométrico para calcular el giro y salto necesario. Basta calcular los ángulos $\\alpha$ y $\\beta$ de la figura y el ángulo de giro será simplemente la semidiferencia de ambos.\n",
    "\n",
    "![Ángulos en caso de n par](caso-par.png)"
   ]
  },
  {
   "cell_type": "code",
   "execution_count": null,
   "metadata": {
    "collapsed": true
   },
   "outputs": [],
   "source": [
    "def siguiente_vertice(n, lado):\n",
    "    a = pi/n\n",
    "    girar(a)\n",
    "    saltar(lado/2/cos(a))\n",
    "    girar(-3*a)"
   ]
  },
  {
   "cell_type": "markdown",
   "metadata": {},
   "source": [
    "Y la probamos"
   ]
  },
  {
   "cell_type": "code",
   "execution_count": null,
   "metadata": {
    "collapsed": false
   },
   "outputs": [],
   "source": [
    "estrella(5,50)\n",
    "dibujo()"
   ]
  },
  {
   "cell_type": "code",
   "execution_count": null,
   "metadata": {
    "collapsed": false
   },
   "outputs": [],
   "source": [
    "estrella(6,50)\n",
    "dibujo()"
   ]
  },
  {
   "cell_type": "markdown",
   "metadata": {},
   "source": [
    "# Mosaicos\n",
    "\n",
    "*Suponiendo que dispones de la función poligono a la que se refiere el primer ejercicio y las funciones de dibujo descritas en el mismo ejercicio definir una función rosa que dibuja polígonos en cada lado de otro polígono central formando una rosa como la de la figura.*\n",
    "\n",
    "*La función rosa debe tener dos argumentos similares a los de poligono, es decir, el número de lados y el tamaño del lado.*\n",
    "\n",
    "### Ejemplo de funcionamiento:\n",
    "\n",
    "``` Python\n",
    ">>> rosa(5, 40)\n",
    "```\n",
    "![Rosa pentagonal](https://cdn.rawgit.com/FranciscoMoya/informatica/master/notebooks/rosa_5.svg)\n",
    "\n",
    "``` Python\n",
    ">>> rosa(7, 40)\n",
    "```\n",
    "![Rosa heptagonal](https://cdn.rawgit.com/FranciscoMoya/informatica/master/notebooks/rosa_7.svg)"
   ]
  },
  {
   "cell_type": "markdown",
   "metadata": {},
   "source": [
    "### Solución\n",
    "\n",
    "El problema es completamente análogo a la función que construye el polígono, pero en lugar de avanzar, simplemente llama a `poligono` y avanza un lado, y el giro lo realiza en el otro sentido."
   ]
  },
  {
   "cell_type": "code",
   "execution_count": null,
   "metadata": {
    "collapsed": true
   },
   "outputs": [],
   "source": [
    "def rosa(n, lado):\n",
    "    for i in range(n):\n",
    "        poligono(n, lado)\n",
    "        saltar(lado)\n",
    "        girar(2*pi/n)"
   ]
  },
  {
   "cell_type": "markdown",
   "metadata": {},
   "source": [
    "Vamos a probarla."
   ]
  },
  {
   "cell_type": "code",
   "execution_count": null,
   "metadata": {
    "collapsed": false
   },
   "outputs": [],
   "source": [
    "rosa(6,20)\n",
    "dibujo()"
   ]
  },
  {
   "cell_type": "markdown",
   "metadata": {},
   "source": [
    "# Curvas fractales\n",
    "\n",
    "*El copo de nieve de Koch es una curva fractal muy sencilla de obtener con ayuda de una función recursiva.*\n",
    "\n",
    "*Define una función copo con dos argumentos. El primero es el ancho total del copo de nieve (en puntos), el segundo es un índice que limita la recursión. La función debe dibujar el copo de Koch con las funciones de dibujo descritas en el primer ejercicio.*\n",
    "\n",
    "### Ejemplo de funcionamiento\n",
    "\n",
    "*El dibujo siguiente muestra el resultado de `copo(300,n)` con valores para n de 0, 1, 2, 4.*\n",
    "\n",
    "![Copo de Koch para n=0,1,2,4](https://cdn.rawgit.com/FranciscoMoya/informatica/master/notebooks/copo.svg)"
   ]
  },
  {
   "cell_type": "markdown",
   "metadata": {},
   "source": [
    "### Solución\n",
    "\n",
    "La forma más sencilla es dibujar 3 veces la curva de Koch con distintos ángulos."
   ]
  },
  {
   "cell_type": "code",
   "execution_count": null,
   "metadata": {
    "collapsed": true
   },
   "outputs": [],
   "source": [
    "from math import pi\n",
    "\n",
    "def copo(lado, n):\n",
    "    for i in (0,1,2):\n",
    "        koch(lado,n)\n",
    "        girar(2*pi/3)\n",
    "        \n",
    "def koch(lado, n):\n",
    "    if n == 0:\n",
    "        avanzar(lado)\n",
    "        return\n",
    "    for angulo in (-pi/3, 2*pi/3, -pi/3, 0):\n",
    "        koch(lado/3, n-1)\n",
    "        girar(angulo)"
   ]
  },
  {
   "cell_type": "markdown",
   "metadata": {},
   "source": [
    "A probarla."
   ]
  },
  {
   "cell_type": "code",
   "execution_count": null,
   "metadata": {
    "collapsed": false
   },
   "outputs": [],
   "source": [
    "goto(50,50)\n",
    "copo(100,4)\n",
    "dibujo()"
   ]
  },
  {
   "cell_type": "code",
   "execution_count": null,
   "metadata": {
    "collapsed": true
   },
   "outputs": [],
   "source": []
  }
 ],
 "metadata": {
  "anaconda-cloud": {},
  "kernelspec": {
   "display_name": "Python [default]",
   "language": "python",
   "name": "python3"
  },
  "language_info": {
   "codemirror_mode": {
    "name": "ipython",
    "version": 3
   },
   "file_extension": ".py",
   "mimetype": "text/x-python",
   "name": "python",
   "nbconvert_exporter": "python",
   "pygments_lexer": "ipython3",
   "version": "3.5.2"
  }
 },
 "nbformat": 4,
 "nbformat_minor": 1
}
