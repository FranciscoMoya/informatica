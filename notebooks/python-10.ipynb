{
 "metadata": {
  "name": "",
  "signature": "sha256:0e4607b1f5957c939b830751a6dfa8fb9bb78a6b6ff0a82c7d861c29360f1d30"
 },
 "nbformat": 3,
 "nbformat_minor": 0,
 "worksheets": [
  {
   "cells": [
    {
     "cell_type": "markdown",
     "metadata": {},
     "source": [
      "# Ejemplos de divide y vencer\u00e1s\n",
      "\n",
      "## Torres de Hanoi\n",
      "\n",
      "Mover `n` discos desde el palo `orig` al palo `dest`. Es directo usando la estrategia de divide y vencer\u00e1s.  Para mover los `n` discos tenemos que mover primero los `n-1` superiores al palo libre, entonces movemos el disco grande al palo destino y posteriormente movemos los `n-1` discos del palo libre al palo destino. "
     ]
    },
    {
     "cell_type": "code",
     "collapsed": false,
     "input": [
      "def hanoi(n, orig=1, dest=3):\n",
      "    '''\n",
      "    Asume n n\u00famero natural (> 0), \n",
      "    orig n\u00famero de palo origen, orig in (1,2,3),\n",
      "    dest n\u00famero de palo destino, dest in (1,2,3).\n",
      "    Imprime los movimientos a realizar para mover n discos\n",
      "    desde el palo orig al palo dest.\n",
      "    '''\n",
      "    if n < 1:\n",
      "        return\n",
      "    libre = [x for x in (1,2,3) if not x in (orig,dest)][0]\n",
      "    hanoi(n-1, orig, libre)\n",
      "    print 'De %d a %d' % (orig, dest)\n",
      "    hanoi(n-1, libre, dest)"
     ],
     "language": "python",
     "metadata": {},
     "outputs": [],
     "prompt_number": 13
    },
    {
     "cell_type": "markdown",
     "metadata": {},
     "source": [
      "Solo falta probarlo:"
     ]
    },
    {
     "cell_type": "code",
     "collapsed": false,
     "input": [
      "hanoi(4)"
     ],
     "language": "python",
     "metadata": {},
     "outputs": [
      {
       "output_type": "stream",
       "stream": "stdout",
       "text": [
        "De 1 a 2\n",
        "De 1 a 3\n",
        "De 2 a 3\n",
        "De 1 a 2\n",
        "De 3 a 1\n",
        "De 3 a 2\n",
        "De 1 a 2\n",
        "De 1 a 3\n",
        "De 2 a 3\n",
        "De 2 a 1\n",
        "De 3 a 1\n",
        "De 2 a 3\n",
        "De 1 a 2\n",
        "De 1 a 3\n",
        "De 2 a 3\n"
       ]
      }
     ],
     "prompt_number": 14
    },
    {
     "cell_type": "markdown",
     "metadata": {},
     "source": [
      "Como puede verse no es muy vistoso que digamos. Ser\u00eda m\u00e1s elegante una representaci\u00f3n gr\u00e1fica. Pero esto es algo que no deber\u00eda mezclarse con la soluci\u00f3n del problema. El error ha sido mezclar la interacci\u00f3n con el usuario con la soluci\u00f3n del problema.  Vamos a arreglarlo.  El resultado de `hanoi` debe ser la secuencia de movimientos.  Cada movimiento es un par de n\u00fameros, el palo origen y el destino.  Por tanto el resultado debe ser una lista de tuplas de dos n\u00fameros.  Para concatenar dos listas podemos usar el m\u00e9todo `extend` de las listas o la suma de listas, que tambi\u00e9n concatena."
     ]
    },
    {
     "cell_type": "code",
     "collapsed": false,
     "input": [
      "def hanoi(n, orig=1, dest=3):\n",
      "    '''\n",
      "    Asume n n\u00famero natural (> 0), \n",
      "    orig n\u00famero de palo origen, orig in (1,2,3),\n",
      "    dest n\u00famero de palo destino, dest in (1,2,3).\n",
      "    Imprime los movimientos a realizar para mover n discos\n",
      "    desde el palo orig al palo dest.\n",
      "    '''\n",
      "    if n < 1:\n",
      "        return []\n",
      "    libre = [x for x in (1,2,3) if not x in (orig,dest)][0]\n",
      "    return hanoi(n-1, orig, libre) \\\n",
      "            + [(orig, dest)] \\\n",
      "            + hanoi(n-1, libre, dest)"
     ],
     "language": "python",
     "metadata": {},
     "outputs": [],
     "prompt_number": 2
    },
    {
     "cell_type": "code",
     "collapsed": false,
     "input": [
      "print hanoi(4)"
     ],
     "language": "python",
     "metadata": {},
     "outputs": [
      {
       "output_type": "stream",
       "stream": "stdout",
       "text": [
        "[(1, 2), (1, 3), (2, 3), (1, 2), (3, 1), (3, 2), (1, 2), (1, 3), (2, 3), (2, 1), (3, 1), (2, 3), (1, 2), (1, 3), (2, 3)]\n"
       ]
      }
     ],
     "prompt_number": 16
    },
    {
     "cell_type": "markdown",
     "metadata": {},
     "source": [
      "Y si queremos volver a tener la misma salida:"
     ]
    },
    {
     "cell_type": "code",
     "collapsed": false,
     "input": [
      "for m in hanoi(4):\n",
      "    print 'De %d a %d' % m"
     ],
     "language": "python",
     "metadata": {},
     "outputs": [
      {
       "output_type": "stream",
       "stream": "stdout",
       "text": [
        "De 1 a 2\n",
        "De 1 a 3\n",
        "De 2 a 3\n",
        "De 1 a 2\n",
        "De 3 a 1\n",
        "De 3 a 2\n",
        "De 1 a 2\n",
        "De 1 a 3\n",
        "De 2 a 3\n",
        "De 2 a 1\n",
        "De 3 a 1\n",
        "De 2 a 3\n",
        "De 1 a 2\n",
        "De 1 a 3\n",
        "De 2 a 3\n"
       ]
      }
     ],
     "prompt_number": 17
    },
    {
     "cell_type": "markdown",
     "metadata": {},
     "source": [
      "Lo bueno es que ahora podemos preparar otra visualizaci\u00f3n m\u00e1s vistosa sin tocar el algoritmo."
     ]
    },
    {
     "cell_type": "code",
     "collapsed": false,
     "input": [
      "%matplotlib inline\n",
      "from IPython.display import HTML, display\n",
      "from IPython.html.widgets.interaction import interact\n",
      "\n",
      "def mostrar_torres(size=4, paso=0):\n",
      "    t = [range(size+1,1,-1),[],[]]\n",
      "    mov = hanoi(size)\n",
      "    for i in range(min(paso, len(mov))):\n",
      "        mover(t,mov[i])\n",
      "    display(HTML(torres(t)))\n",
      "\n",
      "def mover(t,m):\n",
      "    orig, dest = m\n",
      "    t[dest-1].append(t[orig-1].pop())\n",
      "\n",
      "def torres(ll):\n",
      "    return '<svg width=\"600\" height=\"180\">%s</svg>' \\\n",
      "            % ''.join([palos(150, 6, 100)] + \\\n",
      "                      [torre(ll[i],i+1, 100) for i in range(len(ll))])\n",
      "\n",
      "def palos(x, w, h):\n",
      "    return ''.join([rect(x-w/2, 10, w, h),\n",
      "                    rect(2*x-w/2, 10, w, h),\n",
      "                    rect(3*x-w/2, 10, w, h),\n",
      "                    rect(x/2, 10+h, 3*x, 2*w)])\n",
      "\n",
      "def rect(x,y,w,h,style='fill:lightgray'):\n",
      "    return '<rect x=\"%d\" y=\"%d\" width=\"%d\" height=\"%d\" style=\"%s\" />' \\\n",
      "            % (x,y,w,h,style)\n",
      "\n",
      "def torre(l, palo, h):\n",
      "    return ''.join([disco(l[i], palo, i, h) for i in range(len(l))])\n",
      "\n",
      "def disco(ancho, palo, y, h):\n",
      "    return '''<rect x=\"%d\" y=\"%d\" rx=\"5\" ry=\"5\" \n",
      "               width=\"%d\" height=\"10\"\n",
      "               style=\"fill:red;stroke:black\" />''' \\\n",
      "            % (palo*150 - ancho*5, h - 10*y, ancho*10)\n",
      "\n",
      "interact(mostrar_torres, size=(4,8,1), paso=(0,256,1))"
     ],
     "language": "python",
     "metadata": {},
     "outputs": [
      {
       "html": [
        "<svg width=\"600\" height=\"180\"><rect x=\"147\" y=\"10\" width=\"6\" height=\"100\" style=\"fill:lightgray\" /><rect x=\"297\" y=\"10\" width=\"6\" height=\"100\" style=\"fill:lightgray\" /><rect x=\"447\" y=\"10\" width=\"6\" height=\"100\" style=\"fill:lightgray\" /><rect x=\"75\" y=\"110\" width=\"450\" height=\"12\" style=\"fill:lightgray\" /><rect x=\"105\" y=\"100\" rx=\"5\" ry=\"5\" \n",
        "               width=\"90\" height=\"10\"\n",
        "               style=\"fill:red;stroke:black\" /><rect x=\"110\" y=\"90\" rx=\"5\" ry=\"5\" \n",
        "               width=\"80\" height=\"10\"\n",
        "               style=\"fill:red;stroke:black\" /><rect x=\"115\" y=\"80\" rx=\"5\" ry=\"5\" \n",
        "               width=\"70\" height=\"10\"\n",
        "               style=\"fill:red;stroke:black\" /><rect x=\"120\" y=\"70\" rx=\"5\" ry=\"5\" \n",
        "               width=\"60\" height=\"10\"\n",
        "               style=\"fill:red;stroke:black\" /><rect x=\"125\" y=\"60\" rx=\"5\" ry=\"5\" \n",
        "               width=\"50\" height=\"10\"\n",
        "               style=\"fill:red;stroke:black\" /><rect x=\"130\" y=\"50\" rx=\"5\" ry=\"5\" \n",
        "               width=\"40\" height=\"10\"\n",
        "               style=\"fill:red;stroke:black\" /><rect x=\"135\" y=\"40\" rx=\"5\" ry=\"5\" \n",
        "               width=\"30\" height=\"10\"\n",
        "               style=\"fill:red;stroke:black\" /><rect x=\"140\" y=\"30\" rx=\"5\" ry=\"5\" \n",
        "               width=\"20\" height=\"10\"\n",
        "               style=\"fill:red;stroke:black\" /></svg>"
       ],
       "metadata": {},
       "output_type": "display_data",
       "text": [
        "<IPython.core.display.HTML at 0x7fd46456fd90>"
       ]
      }
     ],
     "prompt_number": 26
    },
    {
     "cell_type": "markdown",
     "metadata": {},
     "source": [
      "# Archivos con Python\n",
      "\n",
      "\n",
      "## Caso de estudio: Censo de viviendas"
     ]
    },
    {
     "cell_type": "code",
     "collapsed": false,
     "input": [],
     "language": "python",
     "metadata": {},
     "outputs": []
    }
   ],
   "metadata": {}
  }
 ]
}