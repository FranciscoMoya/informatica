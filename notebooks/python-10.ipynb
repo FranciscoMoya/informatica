{
 "metadata": {
  "name": "",
  "signature": "sha256:77e5f968bf385248bef38adbe13cbd4f442ff0ca4e735b5bf2d3909c07490c14"
 },
 "nbformat": 3,
 "nbformat_minor": 0,
 "worksheets": [
  {
   "cells": [
    {
     "cell_type": "markdown",
     "metadata": {},
     "source": [
      "# Ejemplos de divide y vencer\u00e1s\n",
      "\n",
      "## Torres de Hanoi\n",
      "\n",
      "Mover `n` discos desde el palo `orig` al palo `dest`. Es directo usando la estrategia de divide y vencer\u00e1s.  Para mover los `n` discos tenemos que mover primero los `n-1` superiores al palo libre, entonces movemos el disco grande al palo destino y posteriormente movemos los `n-1` discos del palo libre al palo destino. "
     ]
    },
    {
     "cell_type": "code",
     "collapsed": false,
     "input": [
      "def hanoi(n, orig=1, dest=3):\n",
      "    '''\n",
      "    Asume n n\u00famero natural (> 0), \n",
      "    orig n\u00famero de palo origen, orig in (1,2,3),\n",
      "    dest n\u00famero de palo destino, dest in (1,2,3).\n",
      "    Imprime los movimientos a realizar para mover n discos\n",
      "    desde el palo orig al palo dest.\n",
      "    '''\n",
      "    if n < 1:\n",
      "        return\n",
      "    libre = [x for x in (1,2,3) if not x in (orig,dest)][0]\n",
      "    hanoi(n-1, orig, libre)\n",
      "    print 'De %d a %d' % (orig, dest)\n",
      "    hanoi(n-1, libre, dest)"
     ],
     "language": "python",
     "metadata": {},
     "outputs": [],
     "prompt_number": 12
    },
    {
     "cell_type": "markdown",
     "metadata": {},
     "source": [
      "Solo falta probarlo:"
     ]
    },
    {
     "cell_type": "code",
     "collapsed": false,
     "input": [
      "hanoi(4)"
     ],
     "language": "python",
     "metadata": {},
     "outputs": [
      {
       "output_type": "stream",
       "stream": "stdout",
       "text": [
        "De 1 a 2\n",
        "De 1 a 3\n",
        "De 2 a 3\n",
        "De 1 a 2\n",
        "De 3 a 1\n",
        "De 3 a 2\n",
        "De 1 a 2\n",
        "De 1 a 3\n",
        "De 2 a 3\n",
        "De 2 a 1\n",
        "De 3 a 1\n",
        "De 2 a 3\n",
        "De 1 a 2\n",
        "De 1 a 3\n",
        "De 2 a 3\n"
       ]
      }
     ],
     "prompt_number": 13
    },
    {
     "cell_type": "markdown",
     "metadata": {},
     "source": [
      "Como puede verse no es muy vistoso que digamos. Ser\u00eda m\u00e1s elegante una representaci\u00f3n gr\u00e1fica. Pero esto es algo que no deber\u00eda mezclarse con la soluci\u00f3n del problema. El error ha sido mezclar la interacci\u00f3n con el usuario con la soluci\u00f3n del problema.  Vamos a arreglarlo.  El resultado de `hanoi` debe ser la secuencia de movimientos.  Cada movimiento es un par de n\u00fameros, el palo origen y el destino.  Por tanto el resultado debe ser una lista de tuplas de dos n\u00fameros.  Para concatenar dos listas podemos usar el m\u00e9todo `extend` de las listas o la suma de listas, que tambi\u00e9n concatena."
     ]
    },
    {
     "cell_type": "code",
     "collapsed": false,
     "input": [
      "def hanoi(n, orig=1, dest=3):\n",
      "    '''\n",
      "    Asume n n\u00famero natural (> 0), \n",
      "    orig n\u00famero de palo origen, orig in (1,2,3),\n",
      "    dest n\u00famero de palo destino, dest in (1,2,3).\n",
      "    Imprime los movimientos a realizar para mover n discos\n",
      "    desde el palo orig al palo dest.\n",
      "    '''\n",
      "    if n < 1:\n",
      "        return []\n",
      "    libre = [x for x in (1,2,3) if not x in (orig,dest)][0]\n",
      "    return hanoi(n-1, orig, libre) \\\n",
      "            + [(orig, dest)] \\\n",
      "            + hanoi(n-1, libre, dest)"
     ],
     "language": "python",
     "metadata": {},
     "outputs": [],
     "prompt_number": 14
    },
    {
     "cell_type": "code",
     "collapsed": false,
     "input": [
      "print hanoi(4)"
     ],
     "language": "python",
     "metadata": {},
     "outputs": [
      {
       "output_type": "stream",
       "stream": "stdout",
       "text": [
        "[(1, 2), (1, 3), (2, 3), (1, 2), (3, 1), (3, 2), (1, 2), (1, 3), (2, 3), (2, 1), (3, 1), (2, 3), (1, 2), (1, 3), (2, 3)]\n"
       ]
      }
     ],
     "prompt_number": 15
    },
    {
     "cell_type": "markdown",
     "metadata": {},
     "source": [
      "Y si queremos volver a tener la misma salida:"
     ]
    },
    {
     "cell_type": "code",
     "collapsed": false,
     "input": [
      "for m in hanoi(4):\n",
      "    print 'De %d a %d' % m"
     ],
     "language": "python",
     "metadata": {},
     "outputs": [
      {
       "output_type": "stream",
       "stream": "stdout",
       "text": [
        "De 1 a 2\n",
        "De 1 a 3\n",
        "De 2 a 3\n",
        "De 1 a 2\n",
        "De 3 a 1\n",
        "De 3 a 2\n",
        "De 1 a 2\n",
        "De 1 a 3\n",
        "De 2 a 3\n",
        "De 2 a 1\n",
        "De 3 a 1\n",
        "De 2 a 3\n",
        "De 1 a 2\n",
        "De 1 a 3\n",
        "De 2 a 3\n"
       ]
      }
     ],
     "prompt_number": 16
    },
    {
     "cell_type": "markdown",
     "metadata": {},
     "source": [
      "Lo bueno es que ahora podemos preparar otra visualizaci\u00f3n m\u00e1s vistosa sin tocar el algoritmo."
     ]
    },
    {
     "cell_type": "code",
     "collapsed": false,
     "input": [
      "%matplotlib inline\n",
      "from IPython.display import HTML, display\n",
      "from IPython.html.widgets.interaction import interact\n",
      "\n",
      "def mostrar_torres(ndiscos=4, paso=0):\n",
      "    '''Asume ndiscos entero positivo (> 0)\n",
      "       paso entero positivo (>= 0).\n",
      "       Muestra un SVG que represemta el estado de las\n",
      "       torres en esta situaci\u00f3n.\n",
      "    '''\n",
      "    t = [range(ndiscos+1,1,-1),[],[]]\n",
      "    mov = hanoi(ndiscos)\n",
      "    for i in range(min(paso, len(mov))):\n",
      "        mover(t,mov[i])\n",
      "    display(HTML(torres(t)))\n",
      "\n",
      "def mover(t,m):\n",
      "    '''Asume t es una lista de 3 listas. Cada lista de t \n",
      "       contiene los discos del palo correspondiente. Cada\n",
      "       disco se representa con su longitud.\n",
      "       Asume m es una tupla de dos n\u00fameros. El palo origen\n",
      "       y el palo destino. Los palos se numeran desde 1.\n",
      "       Mueve el \u00faltimo disco seg\u00fan de t[m[0]] a t[m[1]].\n",
      "    '''\n",
      "    orig, dest = m\n",
      "    t[dest-1].append(t[orig-1].pop())\n",
      "\n",
      "def torres(ll):\n",
      "    '''Asume ll es una lista de 3 listas. Cada lista de t \n",
      "       contiene los discos del palo correspondiente. Cada\n",
      "       disco se representa con su longitud.\n",
      "       Devuelve un SVG que representa el contenido de ll.\n",
      "    '''\n",
      "    return '<svg width=\"600\" height=\"180\">%s</svg>' \\\n",
      "            % ''.join([palos(150, 6, 100)] + \\\n",
      "                      [torre(ll[i],i+1, 100) for i in range(len(ll))])\n",
      "\n",
      "def palos(x, w, h):\n",
      "    '''Asume x, w, h son enteros positivos que representan \n",
      "       respectivamente la posici\u00f3n en el eje x del primer palo,\n",
      "       el ancho y el alto.\n",
      "       Devuelve una cadena con los elementos graficos que \n",
      "       representan los palos y la base de las torres de Hanoi.\n",
      "    '''\n",
      "    return ''.join([rect(x-w/2, 10, w, h),\n",
      "                    rect(2*x-w/2, 10, w, h),\n",
      "                    rect(3*x-w/2, 10, w, h),\n",
      "                    rect(x/2, 10+h, 3*x, 2*w)])\n",
      "\n",
      "def rect(x,y,w,h,style='fill:lightgray'):\n",
      "    '''Asume x, y, w, h son enteros positivos que representan\n",
      "       respectivamente la posici\u00f3n en el eje x, en el eje y, el\n",
      "       ancho y el alto.\n",
      "       Asume style es una cadena que contiene un estilo CSS.\n",
      "       Devuelve una cadena que representa el rect\u00e1ngulo de estas\n",
      "       caracter\u00edsticas.\n",
      "    '''\n",
      "    return '<rect x=\"%d\" y=\"%d\" width=\"%d\" height=\"%d\" style=\"%s\" />' \\\n",
      "            % (x,y,w,h,style)\n",
      "\n",
      "def torre(l, palo, h):\n",
      "    '''Asume l es una lista de enteros que corresponde a los anchos\n",
      "       de los discos de una torre desde el inferior hasta el superior.\n",
      "       Asume palo es un entero (palo in [1,2,3]).\n",
      "       Asume h entero positivo.\n",
      "       Devuelve una cadena con la representaci\u00f3n gr\u00e1fica de la torre\n",
      "       correspondiente, siendo h la altura del palo.\n",
      "    '''\n",
      "    return ''.join([disco(l[i], palo, i, h) for i in range(len(l))])\n",
      "\n",
      "def disco(ancho, palo, y, h):\n",
      "    '''Asume ancho, palo, y, h enteros positivos.\n",
      "       Asume palo in [1,2,3].\n",
      "       Devuelve una cadena con la representaci\u00f3n gr\u00e1fica de un disco de\n",
      "       ancho ancho, en el palo palo, en la posici\u00f3n y, siendo la altura\n",
      "       del palo h.\n",
      "    '''\n",
      "    return '''\n",
      "<rect x=\"%d\" y=\"%d\" rx=\"5\" ry=\"5\" width=\"%d\" height=\"10\"\n",
      " style=\"fill:red;stroke:black\" />''' \\\n",
      "    % (palo*150 - ancho*5, h - 10*y, ancho*10)\n",
      "\n",
      "interact(mostrar_torres, ndiscos=(4,8,1), paso=(0,256,1))"
     ],
     "language": "python",
     "metadata": {},
     "outputs": [
      {
       "html": [
        "<svg width=\"600\" height=\"180\"><rect x=\"147\" y=\"10\" width=\"6\" height=\"100\" style=\"fill:lightgray\" /><rect x=\"297\" y=\"10\" width=\"6\" height=\"100\" style=\"fill:lightgray\" /><rect x=\"447\" y=\"10\" width=\"6\" height=\"100\" style=\"fill:lightgray\" /><rect x=\"75\" y=\"110\" width=\"450\" height=\"12\" style=\"fill:lightgray\" />\n",
        "<rect x=\"125\" y=\"100\" rx=\"5\" ry=\"5\" width=\"50\" height=\"10\"\n",
        " style=\"fill:red;stroke:black\" />\n",
        "<rect x=\"130\" y=\"90\" rx=\"5\" ry=\"5\" width=\"40\" height=\"10\"\n",
        " style=\"fill:red;stroke:black\" />\n",
        "<rect x=\"135\" y=\"80\" rx=\"5\" ry=\"5\" width=\"30\" height=\"10\"\n",
        " style=\"fill:red;stroke:black\" />\n",
        "<rect x=\"140\" y=\"70\" rx=\"5\" ry=\"5\" width=\"20\" height=\"10\"\n",
        " style=\"fill:red;stroke:black\" /></svg>"
       ],
       "metadata": {},
       "output_type": "display_data",
       "text": [
        "<IPython.core.display.HTML at 0x7f9e8f7e7d90>"
       ]
      },
      {
       "metadata": {},
       "output_type": "pyout",
       "prompt_number": 18,
       "text": [
        "<function __main__.mostrar_torres>"
       ]
      }
     ],
     "prompt_number": 18
    },
    {
     "cell_type": "markdown",
     "metadata": {},
     "source": [
      "# Archivos con Python\n",
      "\n",
      "En los pr\u00f3ximos ejercicios vamos a usar frecuentemente archivos de datos, as\u00ed que es un buen momento para leer en detalle el cap\u00edtulo 11 del libro de texto.  Las funciones b\u00e1sicas de escritura son muy sencillas."
     ]
    },
    {
     "cell_type": "code",
     "collapsed": false,
     "input": [
      "f = open('ejemplo.txt', 'w')\n",
      "f.write('''Esto es un ejemplo de archivo\n",
      "escrito con Python.\n",
      "  Puedo escribir en varias l\u00edneas porque\n",
      "estoy usando las triples comillas.''')\n",
      "f.close()"
     ],
     "language": "python",
     "metadata": {},
     "outputs": []
    },
    {
     "cell_type": "markdown",
     "metadata": {},
     "source": [
      "Leer archivos es igual de sencillo."
     ]
    },
    {
     "cell_type": "code",
     "collapsed": false,
     "input": [
      "fi = open('ejemplo.txt', 'r')\n",
      "for linea in fi:\n",
      "    print linea,\n",
      "fi.close()"
     ],
     "language": "python",
     "metadata": {},
     "outputs": []
    },
    {
     "cell_type": "markdown",
     "metadata": {},
     "source": [
      "Observa que pongo una coma al final del `print`. Lo hago porque las l\u00edneas incluyen el caracter terminador de l\u00ednea si lo hubiera. Tambi\u00e9n puedo quitarlos con `strip` pero observa c\u00f3mo `strip` elimina tambi\u00e9n los espacios al principio de la l\u00ednea."
     ]
    },
    {
     "cell_type": "code",
     "collapsed": false,
     "input": [
      "fi = open('ejemplo.txt', 'r')\n",
      "for linea in fi:\n",
      "    print linea.strip()\n",
      "fi.close()"
     ],
     "language": "python",
     "metadata": {},
     "outputs": []
    },
    {
     "cell_type": "markdown",
     "metadata": {},
     "source": [
      "Como resumen podemos decir que en la mayor\u00eda de los casos solo se necesitan 3 funciones para manejar archivos (`open`, `close` y `write`). Hay muchas m\u00e1s y te animo a que leas en detalle el cap\u00edtulo 11 del libro y la [documentaci\u00f3n de archivos oficial](https://docs.python.org/2.7/library/stdtypes.html#bltin-file-objects).  Lo que leemos o escribimos de/en archivos son cadenas de texto, as\u00ed que para usos avanzados tendremos que dominar las cadenas de texto. Repasa el cap\u00edtulo 7 del libro de texto y la [documentaci\u00f3n de cadenas oficial](https://docs.python.org/2.7/library/stdtypes.html#string-formatting).  Tambi\u00e9n puede que te resulten \u00fatiles los m\u00f3dulos [string](https://docs.python.org/2.7/library/string.html?highlight=string#module-string) y [re](https://docs.python.org/2.7/library/re.html#module-re)."
     ]
    },
    {
     "cell_type": "markdown",
     "metadata": {},
     "source": [
      "## Caso de estudio: Censo de viviendas\n",
      "\n",
      "El INE "
     ]
    },
    {
     "cell_type": "code",
     "collapsed": false,
     "input": [],
     "language": "python",
     "metadata": {},
     "outputs": []
    }
   ],
   "metadata": {}
  }
 ]
}