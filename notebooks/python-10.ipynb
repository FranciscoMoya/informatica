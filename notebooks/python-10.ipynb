{
 "metadata": {
  "name": "",
  "signature": "sha256:3f71d639b9db843d67528727fce5a2e890bd65d37d050b7365676103cdfc66f0"
 },
 "nbformat": 3,
 "nbformat_minor": 0,
 "worksheets": [
  {
   "cells": [
    {
     "cell_type": "markdown",
     "metadata": {},
     "source": [
      "# Ejemplos de divide y vencer\u00e1s\n",
      "\n",
      "**Nota: Algunos de estos ejemplos son interactivos. Para probarlos necesitar\u00e1s las capacidades de IPython Notebook. La forma m\u00e1s f\u00e1cil de probarlos es descargar el archivo a tu ordenador, y subirlo en [tmpnb.org](http://tmpnb.org/). Al final del documento te explicamos c\u00f3mo hacerlo.**\n",
      "\n",
      "Estos ejemplos est\u00e1n programados de forma que sean compatibles con Python3. Esto es necesario para que la interfaz interactiva funcione con `tmpnb.org`."
     ]
    },
    {
     "cell_type": "code",
     "collapsed": false,
     "input": [
      "from __future__ import print_function"
     ],
     "language": "python",
     "metadata": {},
     "outputs": [],
     "prompt_number": 1
    },
    {
     "cell_type": "markdown",
     "metadata": {},
     "source": [
      "## Torres de Hanoi\n",
      "\n",
      "Mover `n` discos desde el palo `orig` al palo `dest`. Es directo usando la estrategia de divide y vencer\u00e1s.  Para mover los `n` discos tenemos que mover primero los `n-1` superiores al palo libre, entonces movemos el disco grande al palo destino y posteriormente movemos los `n-1` discos del palo libre al palo destino. "
     ]
    },
    {
     "cell_type": "code",
     "collapsed": false,
     "input": [
      "def hanoi(n, orig=1, dest=3):\n",
      "    '''\n",
      "    Asume n n\u00famero natural (> 0), \n",
      "    orig n\u00famero de palo origen, orig in (1,2,3),\n",
      "    dest n\u00famero de palo destino, dest in (1,2,3).\n",
      "    Imprime los movimientos a realizar para mover n discos\n",
      "    desde el palo orig al palo dest.\n",
      "    '''\n",
      "    if n < 1:\n",
      "        return\n",
      "    libre = [x for x in (1,2,3) if not x in (orig,dest)][0]\n",
      "    hanoi(n-1, orig, libre)\n",
      "    print('De %d a %d' % (orig, dest))\n",
      "    hanoi(n-1, libre, dest)"
     ],
     "language": "python",
     "metadata": {},
     "outputs": [],
     "prompt_number": 2
    },
    {
     "cell_type": "markdown",
     "metadata": {},
     "source": [
      "Solo falta probarlo:"
     ]
    },
    {
     "cell_type": "code",
     "collapsed": false,
     "input": [
      "hanoi(4)"
     ],
     "language": "python",
     "metadata": {},
     "outputs": [
      {
       "output_type": "stream",
       "stream": "stdout",
       "text": [
        "De 1 a 2\n",
        "De 1 a 3\n",
        "De 2 a 3\n",
        "De 1 a 2\n",
        "De 3 a 1\n",
        "De 3 a 2\n",
        "De 1 a 2\n",
        "De 1 a 3\n",
        "De 2 a 3\n",
        "De 2 a 1\n",
        "De 3 a 1\n",
        "De 2 a 3\n",
        "De 1 a 2\n",
        "De 1 a 3\n",
        "De 2 a 3\n"
       ]
      }
     ],
     "prompt_number": 3
    },
    {
     "cell_type": "markdown",
     "metadata": {},
     "source": [
      "Como puede verse no es muy vistoso que digamos. Ser\u00eda m\u00e1s elegante una representaci\u00f3n gr\u00e1fica. Pero esto es algo que no deber\u00eda mezclarse con la soluci\u00f3n del problema. El error ha sido mezclar la interacci\u00f3n con el usuario con la soluci\u00f3n del problema.  Vamos a arreglarlo.  El resultado de `hanoi` debe ser la secuencia de movimientos.  Cada movimiento es un par de n\u00fameros, el palo origen y el destino.  Por tanto el resultado debe ser una lista de tuplas de dos n\u00fameros.  Para concatenar dos listas podemos usar el m\u00e9todo `extend` de las listas o la suma de listas, que tambi\u00e9n concatena."
     ]
    },
    {
     "cell_type": "code",
     "collapsed": false,
     "input": [
      "def hanoi(n, orig=1, dest=3):\n",
      "    '''\n",
      "    Asume n n\u00famero natural (> 0), \n",
      "    orig n\u00famero de palo origen, orig in (1,2,3),\n",
      "    dest n\u00famero de palo destino, dest in (1,2,3).\n",
      "    Imprime los movimientos a realizar para mover n discos\n",
      "    desde el palo orig al palo dest.\n",
      "    '''\n",
      "    if n < 1:\n",
      "        return []\n",
      "    libre = [x for x in (1,2,3) if not x in (orig,dest)][0]\n",
      "    return hanoi(n-1, orig, libre) \\\n",
      "            + [(orig, dest)] \\\n",
      "            + hanoi(n-1, libre, dest)"
     ],
     "language": "python",
     "metadata": {},
     "outputs": [],
     "prompt_number": 4
    },
    {
     "cell_type": "code",
     "collapsed": false,
     "input": [
      "print(hanoi(4))"
     ],
     "language": "python",
     "metadata": {},
     "outputs": [
      {
       "output_type": "stream",
       "stream": "stdout",
       "text": [
        "[(1, 2), (1, 3), (2, 3), (1, 2), (3, 1), (3, 2), (1, 2), (1, 3), (2, 3), (2, 1), (3, 1), (2, 3), (1, 2), (1, 3), (2, 3)]\n"
       ]
      }
     ],
     "prompt_number": 5
    },
    {
     "cell_type": "markdown",
     "metadata": {},
     "source": [
      "Y si queremos volver a tener la misma salida:"
     ]
    },
    {
     "cell_type": "code",
     "collapsed": false,
     "input": [
      "for m in hanoi(4):\n",
      "    print('De %d a %d' % m)"
     ],
     "language": "python",
     "metadata": {},
     "outputs": [
      {
       "output_type": "stream",
       "stream": "stdout",
       "text": [
        "De 1 a 2\n",
        "De 1 a 3\n",
        "De 2 a 3\n",
        "De 1 a 2\n",
        "De 3 a 1\n",
        "De 3 a 2\n",
        "De 1 a 2\n",
        "De 1 a 3\n",
        "De 2 a 3\n",
        "De 2 a 1\n",
        "De 3 a 1\n",
        "De 2 a 3\n",
        "De 1 a 2\n",
        "De 1 a 3\n",
        "De 2 a 3\n"
       ]
      }
     ],
     "prompt_number": 6
    },
    {
     "cell_type": "markdown",
     "metadata": {},
     "source": [
      "Lo bueno es que ahora podemos preparar otra visualizaci\u00f3n m\u00e1s vistosa sin tocar el algoritmo."
     ]
    },
    {
     "cell_type": "code",
     "collapsed": false,
     "input": [
      "%matplotlib inline\n",
      "from IPython.display import HTML, display\n",
      "from IPython.html.widgets.interaction import interact\n",
      "\n",
      "def mostrar_torres(ndiscos=4, paso=0):\n",
      "    '''Asume ndiscos entero positivo (> 0)\n",
      "       paso entero positivo (>= 0).\n",
      "       Muestra un SVG que represemta el estado de las\n",
      "       torres en esta situaci\u00f3n.\n",
      "    '''\n",
      "    t = [list(range(ndiscos+1,1,-1)),[],[]]\n",
      "    mov = hanoi(ndiscos)\n",
      "    for i in range(min(paso, len(mov))):\n",
      "        mover(t,mov[i])\n",
      "    display(HTML(torres(t)))\n",
      "\n",
      "def mover(t,m):\n",
      "    '''Asume t es una lista de 3 listas. Cada lista de t \n",
      "       contiene los discos del palo correspondiente. Cada\n",
      "       disco se representa con su longitud.\n",
      "       Asume m es una tupla de dos n\u00fameros. El palo origen\n",
      "       y el palo destino. Los palos se numeran desde 1.\n",
      "       Mueve el \u00faltimo disco seg\u00fan de t[m[0]] a t[m[1]].\n",
      "    '''\n",
      "    orig, dest = m\n",
      "    t[dest-1].append(t[orig-1].pop())\n",
      "\n",
      "def torres(ll):\n",
      "    '''Asume ll es una lista de 3 listas. Cada lista de t \n",
      "       contiene los discos del palo correspondiente. Cada\n",
      "       disco se representa con su longitud.\n",
      "       Devuelve un SVG que representa el contenido de ll.\n",
      "    '''\n",
      "    return '<svg width=\"600\" height=\"180\">%s</svg>' \\\n",
      "            % ''.join([palos(150, 6, 100)] + \\\n",
      "                      [torre(ll[i],i+1, 100) for i in range(len(ll))])\n",
      "\n",
      "def palos(x, w, h):\n",
      "    '''Asume x, w, h son enteros positivos que representan \n",
      "       respectivamente la posici\u00f3n en el eje x del primer palo,\n",
      "       el ancho y el alto.\n",
      "       Devuelve una cadena con los elementos graficos que \n",
      "       representan los palos y la base de las torres de Hanoi.\n",
      "    '''\n",
      "    return ''.join([rect(x-w/2, 10, w, h),\n",
      "                    rect(2*x-w/2, 10, w, h),\n",
      "                    rect(3*x-w/2, 10, w, h),\n",
      "                    rect(x/2, 10+h, 3*x, 2*w)])\n",
      "\n",
      "def rect(x,y,w,h,style='fill:lightgray'):\n",
      "    '''Asume x, y, w, h son enteros positivos que representan\n",
      "       respectivamente la posici\u00f3n en el eje x, en el eje y, el\n",
      "       ancho y el alto.\n",
      "       Asume style es una cadena que contiene un estilo CSS.\n",
      "       Devuelve una cadena que representa el rect\u00e1ngulo de estas\n",
      "       caracter\u00edsticas.\n",
      "    '''\n",
      "    return '<rect x=\"%d\" y=\"%d\" width=\"%d\" height=\"%d\" style=\"%s\" />' \\\n",
      "            % (x,y,w,h,style)\n",
      "\n",
      "def torre(l, palo, h):\n",
      "    '''Asume l es una lista de enteros que corresponde a los anchos\n",
      "       de los discos de una torre desde el inferior hasta el superior.\n",
      "       Asume palo es un entero (palo in [1,2,3]).\n",
      "       Asume h entero positivo.\n",
      "       Devuelve una cadena con la representaci\u00f3n gr\u00e1fica de la torre\n",
      "       correspondiente, siendo h la altura del palo.\n",
      "    '''\n",
      "    return ''.join([disco(l[i], palo, i, h) for i in range(len(l))])\n",
      "\n",
      "def disco(ancho, palo, y, h):\n",
      "    '''Asume ancho, palo, y, h enteros positivos.\n",
      "       Asume palo in [1,2,3].\n",
      "       Devuelve una cadena con la representaci\u00f3n gr\u00e1fica de un disco de\n",
      "       ancho ancho, en el palo palo, en la posici\u00f3n y, siendo la altura\n",
      "       del palo h.\n",
      "    '''\n",
      "    return '''\n",
      "<rect x=\"%d\" y=\"%d\" rx=\"5\" ry=\"5\" width=\"%d\" height=\"10\"\n",
      " style=\"fill:red;stroke:black\" />''' \\\n",
      "    % (palo*150 - ancho*5, h - 10*y, ancho*10)\n",
      "\n",
      "interact(mostrar_torres, ndiscos=(4,8,1), paso=(0,256,1))"
     ],
     "language": "python",
     "metadata": {},
     "outputs": [
      {
       "html": [
        "<svg width=\"600\" height=\"180\"><rect x=\"147\" y=\"10\" width=\"6\" height=\"100\" style=\"fill:lightgray\" /><rect x=\"297\" y=\"10\" width=\"6\" height=\"100\" style=\"fill:lightgray\" /><rect x=\"447\" y=\"10\" width=\"6\" height=\"100\" style=\"fill:lightgray\" /><rect x=\"75\" y=\"110\" width=\"450\" height=\"12\" style=\"fill:lightgray\" />\n",
        "<rect x=\"125\" y=\"100\" rx=\"5\" ry=\"5\" width=\"50\" height=\"10\"\n",
        " style=\"fill:red;stroke:black\" />\n",
        "<rect x=\"130\" y=\"90\" rx=\"5\" ry=\"5\" width=\"40\" height=\"10\"\n",
        " style=\"fill:red;stroke:black\" />\n",
        "<rect x=\"135\" y=\"80\" rx=\"5\" ry=\"5\" width=\"30\" height=\"10\"\n",
        " style=\"fill:red;stroke:black\" />\n",
        "<rect x=\"140\" y=\"70\" rx=\"5\" ry=\"5\" width=\"20\" height=\"10\"\n",
        " style=\"fill:red;stroke:black\" /></svg>"
       ],
       "metadata": {},
       "output_type": "display_data",
       "text": [
        "<IPython.core.display.HTML at 0x7f9a827a5410>"
       ]
      },
      {
       "metadata": {},
       "output_type": "pyout",
       "prompt_number": 7,
       "text": [
        "<function __main__.mostrar_torres>"
       ]
      }
     ],
     "prompt_number": 7
    },
    {
     "cell_type": "markdown",
     "metadata": {},
     "source": [
      "## Trabajar con cuadernos interactivos\n",
      "\n",
      "Si no ves la interfaz interactiva es que necesitas utilizar un servidor de IPython Notebook para verla. La forma m\u00e1s f\u00e1cil es mediante [tmpnb.org](http://tmpnb.org). No necesita registro, pero ten cuidado si modificas algo porque es vol\u00e1til, la pr\u00f3xima vez que entres ya no estar\u00e1.\n",
      "\n",
      "Descarga el [archivo correspondiente a este cuaderno](https://github.com/FranciscoMoya/informatica/raw/master/notebooks/python-10.ipynb) y gu\u00e1rdalo en tu ordenador.\n",
      "\n",
      "Entra en [tmpnb.org](http://tmpnb.org) y pulsa sobre el bot\u00f3n *Upload*. Selecciona el archivo que guardaste en el paso anterior y acepta.\n",
      "\n",
      "Aparecer\u00e1 el archivo en la p\u00e1gina de [tmpnb.org](http://tmpnb.org) con un bot\u00f3n *Upload* a la derecha, pulsa sobre \u00e9l para que se realice la transferencia.\n",
      "\n",
      "Posteriormente comprueba de que el nombre del archivo termina en `.ipynb`.  Si no lo hace marca la casilla (*checkbox*) a la izquierda del archivo subido y pulsa el bot\u00f3n *Rename*. Edita el nombre para que termine en `.ipynb` y acepta.\n",
      "\n",
      "Ya puedes pinchar sobre el nombre del archivo para interactuar con el cuaderno. Selecciona la opci\u00f3n de men\u00fa *Cell->Run All* para ver la interfaz de las Torres de Hanoi."
     ]
    },
    {
     "cell_type": "markdown",
     "metadata": {},
     "source": [
      "## Ordenaci\u00f3n: *Merge sort*\n",
      "\n",
      "Consideremos el problema de ordenar una secuencia de n\u00fameros."
     ]
    },
    {
     "cell_type": "code",
     "collapsed": false,
     "input": [
      "import random\n",
      "datos = list(range(20))\n",
      "random.shuffle(datos)\n",
      "print(datos)"
     ],
     "language": "python",
     "metadata": {},
     "outputs": [
      {
       "output_type": "stream",
       "stream": "stdout",
       "text": [
        "[18, 10, 0, 6, 15, 19, 12, 13, 4, 9, 1, 5, 16, 7, 8, 11, 17, 3, 14, 2]\n"
       ]
      }
     ],
     "prompt_number": 8
    },
    {
     "cell_type": "markdown",
     "metadata": {},
     "source": [
      "Podemos aplicar *divide y vencer\u00e1s* de varias formas. Por ejemplo, dividimos la lista en 2, ordenamos las 2 mitades y mezclamos las dos listas ordenadas. Este algoritmo se lo debemos a John von Neumann."
     ]
    },
    {
     "cell_type": "code",
     "collapsed": false,
     "input": [
      "def merge_sort(l):\n",
      "    if len(l) < 2: \n",
      "        return l\n",
      "    mitad = len(l)/2\n",
      "    return merge(merge_sort(l[:mitad]),\n",
      "                 merge_sort(l[mitad:]))\n",
      "\n",
      "def merge(l1, l2):\n",
      "    i, j = 0, 0\n",
      "    l = []\n",
      "    while i < len(l1) and j < len(l2):\n",
      "        if l1[i] < l2[j]:\n",
      "            l.append(l1[i])\n",
      "            i += 1\n",
      "        else:\n",
      "            l.append(l2[j])\n",
      "            j += 1\n",
      "    return l + l1[i:] + l2[j:]"
     ],
     "language": "python",
     "metadata": {},
     "outputs": [],
     "prompt_number": 9
    },
    {
     "cell_type": "markdown",
     "metadata": {},
     "source": [
      "Lo \u00fanico complejo es la mezcla. La mezcla selecciona elementos de una lista o de otra dependiendo de cu\u00e1l tiene el menor. Cuando una lista se acaba la mezcla debe incluir el resto de la otra."
     ]
    },
    {
     "cell_type": "code",
     "collapsed": false,
     "input": [
      "print(merge_sort(datos))"
     ],
     "language": "python",
     "metadata": {},
     "outputs": [
      {
       "output_type": "stream",
       "stream": "stdout",
       "text": [
        "[0, 1, 2, 3, 4, 5, 6, 7, 8, 9, 10, 11, 12, 13, 14, 15, 16, 17, 18, 19]\n"
       ]
      }
     ],
     "prompt_number": 10
    },
    {
     "cell_type": "markdown",
     "metadata": {},
     "source": [
      "Una caracter\u00edstica interesante de este algoritmo es que es f\u00e1cil de adaptar al caso en el que no disponemos de memoria suficiente para ordenar todos los elementos (por ejemplo, cuando los datos est\u00e1n en una base de datos).  Sin embargo se trata de un algoritmo que consume bastante memoria, porque se copian los elementos para formar las listas ordenadas.\n",
      "\n",
      "## Ordenaci\u00f3n: *Quicksort*\n",
      "\n",
      "Otra forma de aplicar la estrategia de *divide y vencer\u00e1s* es el algoritmo Quicksort de C. A. R. Hoare.  El m\u00e9todo consiste en seleccionar un elemento denominado *pivote*. Todos los elementos menores o iguales al pivote se ponen a un lado y todos los mayores o iguales se ponen a otro lado. Al acabar tenemos dos grupos de n\u00fameros que volvemos a ordenar utilizando el mismo algoritmo. Lo bueno de este algoritmo es que puede usarse *in-place* para reducir el consumo de memoria."
     ]
    },
    {
     "cell_type": "code",
     "collapsed": false,
     "input": [
      "def qsort(l):\n",
      "    qsort_segmento(l, 0, len(l))\n",
      "\n",
      "def qsort_segmento(l, primero, ultimo):\n",
      "    if ultimo - primero < 2:\n",
      "        return\n",
      "    div = clasifica(l, primero, ultimo)\n",
      "    qsort_segmento(l, primero, div)\n",
      "    qsort_segmento(l, div, ultimo)\n",
      "    \n",
      "def clasifica(l, primero, ultimo):\n",
      "    pivote = (primero + ultimo)/2\n",
      "    l[primero], l[pivote] = l[pivote], l[primero]\n",
      "    div = primero + 1\n",
      "    for i in range(primero + 1, ultimo):\n",
      "        if l[i] <= l[primero]:\n",
      "            l[div], l[i] = l[i], l[div]\n",
      "            div += 1\n",
      "    return div"
     ],
     "language": "python",
     "metadata": {},
     "outputs": [],
     "prompt_number": 11
    },
    {
     "cell_type": "markdown",
     "metadata": {},
     "source": [
      "La parte m\u00e1s dif\u00edcil es clasificar con respecto al pivote. Nosotros seleccionamos el elemento del medio como pivote (para no perjudicar a las listas ya ordenadas). Ese elemento lo situamos como primero del segmento a ordenar y el resto lo vamos pegando a \u00e9l si es menor o igual o lo dejamos si es mayor. Puede que te preguntes por qu\u00e9 se mueve el pivote como primer elemento. Se hace para evitar casos desafortunados en que el pivote es el mayor elemento del segmento. Si no se moviera llamar\u00edamos indefinidamente a la funci\u00f3n de ordenaci\u00f3n con el mismo segmento.\n",
      "\n",
      "Solo queda probarlo."
     ]
    },
    {
     "cell_type": "code",
     "collapsed": false,
     "input": [
      "ordenados = datos[:]\n",
      "qsort(ordenados)\n",
      "print(ordenados)"
     ],
     "language": "python",
     "metadata": {},
     "outputs": [
      {
       "output_type": "stream",
       "stream": "stdout",
       "text": [
        "[0, 1, 2, 3, 4, 5, 6, 7, 8, 9, 10, 11, 12, 13, 14, 15, 16, 17, 18, 19]\n"
       ]
      }
     ],
     "prompt_number": 12
    },
    {
     "cell_type": "markdown",
     "metadata": {},
     "source": [
      "# Archivos con Python\n",
      "\n",
      "En los pr\u00f3ximos ejercicios vamos a usar frecuentemente archivos de datos, as\u00ed que es un buen momento para leer en detalle el cap\u00edtulo 11 del libro de texto.  Las funciones b\u00e1sicas de escritura son muy sencillas."
     ]
    },
    {
     "cell_type": "code",
     "collapsed": false,
     "input": [
      "f = open('ejemplo.txt', 'w')\n",
      "f.write('''Esto es un ejemplo de archivo\n",
      "escrito con Python.\n",
      "  Puedo escribir en varias lineas porque\n",
      "estoy usando las triples comillas.''')\n",
      "f.close()"
     ],
     "language": "python",
     "metadata": {},
     "outputs": [],
     "prompt_number": 13
    },
    {
     "cell_type": "markdown",
     "metadata": {},
     "source": [
      "Leer archivos es igual de sencillo."
     ]
    },
    {
     "cell_type": "code",
     "collapsed": false,
     "input": [
      "fi = open('ejemplo.txt', 'r')\n",
      "for linea in fi:\n",
      "    print(linea,end='')\n",
      "fi.close()"
     ],
     "language": "python",
     "metadata": {},
     "outputs": [
      {
       "output_type": "stream",
       "stream": "stdout",
       "text": [
        "Esto es un ejemplo de archivo\n",
        "escrito con Python.\n",
        "  Puedo escribir en varias lineas porque\n",
        "estoy usando las triples comillas."
       ]
      }
     ],
     "prompt_number": 14
    },
    {
     "cell_type": "markdown",
     "metadata": {},
     "source": [
      "La sentencia `print(linea, end='')` en Python3 es equivalente a `print linea,` en Python2. Observa que pongo una coma al final del `print`. Lo hago porque las l\u00edneas incluyen el caracter terminador de l\u00ednea si lo hubiera. Tambi\u00e9n puedo quitarlos con `strip` pero observa c\u00f3mo `strip` elimina tambi\u00e9n los espacios al principio de la l\u00ednea:"
     ]
    },
    {
     "cell_type": "code",
     "collapsed": false,
     "input": [
      "fi = open('ejemplo.txt', 'r')\n",
      "for linea in fi:\n",
      "    print(linea.strip())\n",
      "fi.close()"
     ],
     "language": "python",
     "metadata": {},
     "outputs": [
      {
       "output_type": "stream",
       "stream": "stdout",
       "text": [
        "Esto es un ejemplo de archivo\n",
        "escrito con Python.\n",
        "Puedo escribir en varias lineas porque\n",
        "estoy usando las triples comillas.\n"
       ]
      }
     ],
     "prompt_number": 15
    },
    {
     "cell_type": "markdown",
     "metadata": {},
     "source": [
      "Como resumen podemos decir que en la mayor\u00eda de los casos solo se necesitan 3 funciones para manejar archivos (`open`, `close` y `write`). Hay muchas m\u00e1s y te animo a que leas en detalle el cap\u00edtulo 11 del libro y la [documentaci\u00f3n de archivos oficial](https://docs.python.org/2.7/library/stdtypes.html#bltin-file-objects).  Lo que leemos o escribimos de/en archivos son cadenas de texto, as\u00ed que para usos avanzados tendremos que dominar las cadenas de texto. Repasa el cap\u00edtulo 7 del libro de texto y la [documentaci\u00f3n de cadenas oficial](https://docs.python.org/2.7/library/stdtypes.html#string-formatting).  Tambi\u00e9n puede que te resulten \u00fatiles los m\u00f3dulos [string](https://docs.python.org/2.7/library/string.html?highlight=string#module-string) y [re](https://docs.python.org/2.7/library/re.html#module-re)."
     ]
    },
    {
     "cell_type": "markdown",
     "metadata": {},
     "source": [
      "## Caso de estudio: Censo de viviendas\n",
      "\n",
      "El INE distribuye datos del [Censo de Poblaci\u00f3n y Viviendas](http://www.ine.es/prodyser/micro_censopv.htm) que incluyen dos archivos interesantes para nuestros prop\u00f3sitos:\n",
      "\n",
      "* Por un lado se distribuyen los [microdatos de toda Espa\u00f1a](ftp://www.ine.es/temas/censopv/cen11/Microdatos_viviendas_nacional.rar) que contienen todos los datos de la encuesta sin procesar.\n",
      "\n",
      "* Por otro lado se distribuye una hoja de c\u00e1lculo que describe el [formato de cada registro del archivo de microdatos](ftp://www.ine.es/temas/censopv/cen11/Viviendas%20y%20Edificios_WEB.xls).\n",
      "\n",
      "Veamos c\u00f3mo es el dise\u00f1o de los registros. Es una tabla que indica a partir de qu\u00e9 posici\u00f3n empieza cada campo y hasta qu\u00e9 posici\u00f3n, as\u00ed como la interpretaci\u00f3n que tiene cada posible valor. Por ejemplo, para ver si la vivienda tiene o no Internet habr\u00eda que consultar el caracter 25 (empezando desde 1). Es decir, si `linea` contiene una l\u00ednea completa del archivo de microdatos entonces `linea[24]` nos indica si tiene o no Internet esa vivienda.\n",
      "\n",
      "<table cellspacing=\"0\" border=\"0\">\n",
      "\t<tr>\n",
      "\t\t<td style=\"border-top: 2px solid #000000; border-left: 2px solid #000000; border-right: 1px solid #000000\" rowspan=3 height=\"42\" align=\"left\" valign=top bgcolor=\"#E3E3E3\"><b><font size=1>Nombre del campo</font></b></td>\n",
      "\t\t<td style=\"border-top: 2px solid #000000; border-left: 1px solid #000000; border-right: 1px solid #000000\" rowspan=3 align=\"left\" valign=top bgcolor=\"#E3E3E3\"><b><font size=1>Nombre de la variable</font></b></td>\n",
      "\t\t<td style=\"border-top: 2px solid #000000; border-left: 1px solid #000000; border-right: 1px solid #000000\" rowspan=3 align=\"left\" valign=top bgcolor=\"#E3E3E3\"><b><font size=1>Longitud del campo</font></b></td>\n",
      "\t\t<td style=\"border-top: 2px solid #000000; border-left: 1px solid #000000; border-right: 1px solid #000000\" rowspan=3 align=\"left\" valign=top bgcolor=\"#E3E3E3\"><b><font size=1>Inicio</font></b></td>\n",
      "\t\t<td style=\"border-top: 2px solid #000000; border-left: 1px solid #000000; border-right: 1px solid #000000\" rowspan=3 align=\"left\" valign=top bgcolor=\"#E3E3E3\"><b><font size=1>Fin</font></b></td>\n",
      "\t\t<td style=\"border-top: 2px solid #000000; border-left: 1px solid #000000; border-right: 2px solid #000000\" rowspan=3 align=\"left\" valign=top bgcolor=\"#E3E3E3\"><b><font size=1>Valores validos</font></b></td>\n",
      "\t</tr>\n",
      "\t<tr>\n",
      "\t\t</tr>\n",
      "\t<tr>\n",
      "\t\t</tr>\n",
      "\t<tr>\n",
      "\t\t<td style=\"border-top: 2px solid #000000; border-left: 2px solid #000000\" height=\"26\" align=\"left\" bgcolor=\"#FFD475\"><b><font size=1>Identificaci\u00f3n</font></b></td>\n",
      "\t\t<td style=\"border-top: 2px solid #000000\" align=\"left\" bgcolor=\"#FFD475\"><font face=\"Univers\" size=1><br></font></td>\n",
      "\t\t<td style=\"border-top: 2px solid #000000\" align=\"left\" bgcolor=\"#FFD475\"><font face=\"Univers\" size=1><br></font></td>\n",
      "\t\t<td style=\"border-top: 2px solid #000000\" align=\"left\" bgcolor=\"#FFD475\"><font face=\"Univers\" size=1><br></font></td>\n",
      "\t\t<td style=\"border-top: 2px solid #000000\" align=\"left\" bgcolor=\"#FFD475\"><font face=\"Univers\" size=1><br></font></td>\n",
      "\t\t<td style=\"border-top: 2px solid #000000; border-right: 2px solid #000000\" align=\"left\" bgcolor=\"#FFD475\"><font face=\"Univers\" size=1><br></font></td>\n",
      "\t</tr>\n",
      "\t<tr>\n",
      "\t\t<td style=\"border-left: 2px solid #000000\" height=\"21\" align=\"left\" valign=top><font size=1>C\u00f3digo de provincia</font></td>\n",
      "\t\t<td align=\"left\" valign=top><font size=1>CPRO</font></td>\n",
      "\t\t<td align=\"center\" valign=top sdval=\"2\" sdnum=\"3082;\"><font size=1>2</font></td>\n",
      "\t\t<td align=\"center\" valign=top sdval=\"1\" sdnum=\"3082;\"><font size=1>1</font></td>\n",
      "\t\t<td align=\"center\" valign=top sdval=\"2\" sdnum=\"3082;\"><font size=1>2</font></td>\n",
      "\t\t<td style=\"border-right: 2px solid #000000\" align=\"left\" valign=top><font size=1>Desde 1 hasta 52</font></td>\n",
      "\t</tr>\n",
      "\t<tr>\n",
      "\t\t<td style=\"border-left: 2px solid #000000\" height=\"94\" align=\"left\" valign=top><font size=1>C\u00f3digo o tama\u00f1o de municipio</font></td>\n",
      "\t\t<td align=\"left\" valign=top><font size=1>CMUN</font></td>\n",
      "\t\t<td align=\"center\" valign=top sdval=\"3\" sdnum=\"3082;\"><font size=1>3</font></td>\n",
      "\t\t<td align=\"center\" valign=top sdval=\"3\" sdnum=\"3082;\"><font size=1>3</font></td>\n",
      "\t\t<td align=\"center\" valign=top sdval=\"5\" sdnum=\"3082;\"><font size=1>5</font></td>\n",
      "\t\t<td style=\"border-right: 2px solid #000000\" align=\"left\" valign=top><font size=1>Si tama\u00f1o de municipio &lt;=2.000, CMUN=991<br>Si 2.001 &lt;=tama\u00f1o de municipio &lt;=5.000, CMUN=992<br>Si 5.001 &lt;=tama\u00f1o de municipio &lt;=10.000, CMUN=993<br>Si 10.001 &lt;=tama\u00f1o de municipio &lt;=20.000, CMUN=994<br>Si tama\u00f1o de municipio &gt;20.000, CMUN=C\u00f3digo de municipio</font></td>\n",
      "\t</tr>\n",
      "\t<tr>\n",
      "\t\t<td style=\"border-left: 2px solid #000000\" height=\"21\" align=\"left\" bgcolor=\"#FFD475\"><b><font size=1>Datos de la vivienda</font></b></td>\n",
      "\t\t<td align=\"left\" bgcolor=\"#FFD475\"><font face=\"Univers\" size=1><br></font></td>\n",
      "\t\t<td align=\"left\" bgcolor=\"#FFD475\"><font face=\"Univers\" size=1><br></font></td>\n",
      "\t\t<td align=\"left\" bgcolor=\"#FFD475\"><font face=\"Univers\" size=1><br></font></td>\n",
      "\t\t<td align=\"left\" bgcolor=\"#FFD475\"><font face=\"Univers\" size=1><br></font></td>\n",
      "\t\t<td style=\"border-right: 2px solid #000000\" align=\"left\" bgcolor=\"#FFD475\"><font face=\"Univers\" size=1><br></font></td>\n",
      "\t</tr>\n",
      "\t<tr>\n",
      "\t\t<td style=\"border-left: 2px solid #000000\" height=\"20\" align=\"left\" valign=top><font size=1>Factor de elevaci\u00f3n de la vivienda</font></td>\n",
      "\t\t<td align=\"left\" valign=top><font size=1>FACTOR</font></td>\n",
      "\t\t<td align=\"center\" valign=top sdval=\"14\" sdnum=\"3082;\"><font size=1>14</font></td>\n",
      "\t\t<td align=\"center\" valign=top sdval=\"6\" sdnum=\"3082;\"><font size=1>6</font></td>\n",
      "\t\t<td align=\"center\" valign=top sdval=\"19\" sdnum=\"3082;\"><font size=1>19</font></td>\n",
      "\t\t<td style=\"border-right: 2px solid #000000\" align=\"left\" valign=top><font size=1 color=\"#FF0000\"><br></font></td>\n",
      "\t</tr>\n",
      "\t<tr>\n",
      "\t\t<td style=\"border-left: 2px solid #000000\" height=\"56\" align=\"left\" valign=top><font size=1>Clase de vivienda </font></td>\n",
      "\t\t<td align=\"left\" valign=top><font size=1>CVIVIF</font></td>\n",
      "\t\t<td align=\"center\" valign=top sdval=\"1\" sdnum=\"3082;\"><font size=1>1</font></td>\n",
      "\t\t<td align=\"center\" valign=top sdval=\"20\" sdnum=\"3082;\"><font size=1>20</font></td>\n",
      "\t\t<td align=\"center\" valign=top sdval=\"20\" sdnum=\"3082;\"><font size=1>20</font></td>\n",
      "\t\t<td style=\"border-right: 2px solid #000000\" align=\"left\" valign=top><font size=1>1 Vivienda Prinicipal<br>2 Vivienda Secundaria<br>3 Vivienda Vac\u00eda</font></td>\n",
      "\t</tr>\n",
      "\t<tr>\n",
      "\t\t<td style=\"border-left: 2px solid #000000\" height=\"150\" align=\"left\" valign=top><font size=1>R\u00e9gimen de tenencia</font></td>\n",
      "\t\t<td align=\"left\" valign=top><font size=1>TENEN</font></td>\n",
      "\t\t<td align=\"center\" valign=top sdval=\"1\" sdnum=\"3082;\"><font size=1>1</font></td>\n",
      "\t\t<td align=\"center\" valign=top sdval=\"21\" sdnum=\"3082;\"><font size=1>21</font></td>\n",
      "\t\t<td align=\"center\" valign=top sdval=\"21\" sdnum=\"3082;\"><font size=1>21</font></td>\n",
      "\t\t<td style=\"border-right: 2px solid #000000\" align=\"left\" valign=top><font size=1>1 Propia, por compra, totalmente pagada<br>2 Propia, por compra, con pagos pendientes (hipotecas)<br>3 Propia por herencia o donaci\u00f3n<br>4 Alquilada<br>5 Cedida gratis o a bajo precio (por otro hogar, pagada por la empresa...)<br>6 Otra forma<br>Blanco si CVIVIF &lt;&gt; 1 </font></td>\n",
      "\t</tr>\n",
      "\t<tr>\n",
      "\t\t<td style=\"border-left: 2px solid #000000\" height=\"113\" align=\"left\" valign=top><font size=1>Calefacci\u00f3n </font></td>\n",
      "\t\t<td align=\"left\" valign=top><font size=1>CALE</font></td>\n",
      "\t\t<td align=\"center\" valign=top sdval=\"1\" sdnum=\"3082;\"><font size=1>1</font></td>\n",
      "\t\t<td align=\"center\" valign=top sdval=\"22\" sdnum=\"3082;\"><font size=1>22</font></td>\n",
      "\t\t<td align=\"center\" valign=top sdval=\"22\" sdnum=\"3082;\"><font size=1>22</font></td>\n",
      "\t\t<td style=\"border-right: 2px solid #000000\" align=\"left\" valign=top><font size=1>1 Colectiva o central<br>2 Individual<br>3 No tiene calefacci\u00f3n pero s\u00ed alg\u00fan aparato que permite calentar<br>4 No tiene calefacci\u00f3n<br>Blanco si CVIVIF &lt;&gt; 1 </font></td>\n",
      "\t</tr>\n",
      "\t<tr>\n",
      "\t\t<td style=\"border-left: 2px solid #000000\" height=\"56\" align=\"left\" valign=top><font size=1>Cuanto de aseo con inodoro</font></td>\n",
      "\t\t<td align=\"left\" valign=top><font size=1>ASEO</font></td>\n",
      "\t\t<td align=\"center\" valign=top sdval=\"1\" sdnum=\"3082;\"><font size=1>1</font></td>\n",
      "\t\t<td align=\"center\" valign=top sdval=\"23\" sdnum=\"3082;\"><font size=1>23</font></td>\n",
      "\t\t<td align=\"center\" valign=top sdval=\"23\" sdnum=\"3082;\"><font size=1>23</font></td>\n",
      "\t\t<td style=\"border-right: 2px solid #000000\" align=\"left\" valign=top><font size=1>1 S\u00ed<br>2 No<br>Blanco si CVIVIF &lt;&gt; 1 </font></td>\n",
      "\t</tr>\n",
      "\t<tr>\n",
      "\t\t<td style=\"border-left: 2px solid #000000\" height=\"56\" align=\"left\" valign=top><font size=1>Ba\u00f1o o ducha</font></td>\n",
      "\t\t<td align=\"left\" valign=top><font size=1>BADUCH</font></td>\n",
      "\t\t<td align=\"center\" valign=top sdval=\"1\" sdnum=\"3082;\"><font size=1>1</font></td>\n",
      "\t\t<td align=\"center\" valign=top sdval=\"24\" sdnum=\"3082;\"><font size=1>24</font></td>\n",
      "\t\t<td align=\"center\" valign=top sdval=\"24\" sdnum=\"3082;\"><font size=1>24</font></td>\n",
      "\t\t<td style=\"border-right: 2px solid #000000\" align=\"left\" valign=top><font size=1>1 S\u00ed<br>2 No<br>Blanco si CVIVIF &lt;&gt; 1 </font></td>\n",
      "\t</tr>\n",
      "\t<tr>\n",
      "\t\t<td style=\"border-left: 2px solid #000000\" height=\"56\" align=\"left\" valign=top><font size=1>Acceso a Internet</font></td>\n",
      "\t\t<td align=\"left\" valign=top><font size=1>INTERNET</font></td>\n",
      "\t\t<td align=\"center\" valign=top sdval=\"1\" sdnum=\"3082;\"><font size=1>1</font></td>\n",
      "\t\t<td align=\"center\" valign=top sdval=\"25\" sdnum=\"3082;\"><font size=1>25</font></td>\n",
      "\t\t<td align=\"center\" valign=top sdval=\"25\" sdnum=\"3082;\"><font size=1>25</font></td>\n",
      "\t\t<td style=\"border-right: 2px solid #000000\" align=\"left\" valign=top><font size=1>1 S\u00ed<br>2 No<br>Blanco si CVIVIF &lt;&gt; 1 </font></td>\n",
      "\t</tr>\n",
      "\t<tr>\n",
      "\t\t<td style=\"border-left: 2px solid #000000\" height=\"94\" align=\"left\" valign=top><font size=1>Sistema de suministro de agua</font></td>\n",
      "\t\t<td align=\"left\" valign=top><font size=1>AGUACOR</font></td>\n",
      "\t\t<td align=\"center\" valign=top sdval=\"1\" sdnum=\"3082;\"><font size=1>1</font></td>\n",
      "\t\t<td align=\"center\" valign=top sdval=\"26\" sdnum=\"3082;\"><font size=1>26</font></td>\n",
      "\t\t<td align=\"center\" valign=top sdval=\"26\" sdnum=\"3082;\"><font size=1>26</font></td>\n",
      "\t\t<td style=\"border-right: 2px solid #000000\" align=\"left\" valign=top><font size=1>1 Agua corriente por abastecimiento p\u00fablico<br>2 Agua corriente por abastecimiento privado o particular del edificio<br>3 No tiene agua corriente<br>Blanco si CVIVIF &lt;&gt; 1 </font></td>\n",
      "\t</tr>\n",
      "\t<tr>\n",
      "\t\t<td style=\"border-left: 2px solid #000000\" height=\"38\" align=\"left\" valign=top><font size=1>Superficie \u00fatil</font></td>\n",
      "\t\t<td align=\"left\" valign=top><font size=1>SUT</font></td>\n",
      "\t\t<td align=\"center\" valign=top sdval=\"3\" sdnum=\"3082;\"><font size=1>3</font></td>\n",
      "\t\t<td align=\"center\" valign=top sdval=\"27\" sdnum=\"3082;\"><font size=1>27</font></td>\n",
      "\t\t<td align=\"center\" valign=top sdval=\"29\" sdnum=\"3082;\"><font size=1>29</font></td>\n",
      "\t\t<td style=\"border-right: 2px solid #000000\" align=\"left\" valign=top><font size=1>Desde 5 hasta 999<br>Blanco si CVIVIF &lt;&gt; 1 </font></td>\n",
      "\t</tr>\n",
      "\t<tr>\n",
      "\t\t<td style=\"border-left: 2px solid #000000\" height=\"38\" align=\"left\" valign=top><font size=1>N\u00famero de habitaciones</font></td>\n",
      "\t\t<td align=\"left\" valign=top><font size=1>NHAB</font></td>\n",
      "\t\t<td align=\"center\" valign=top sdval=\"2\" sdnum=\"3082;\"><font size=1>2</font></td>\n",
      "\t\t<td align=\"center\" valign=top sdval=\"30\" sdnum=\"3082;\"><font size=1>30</font></td>\n",
      "\t\t<td align=\"center\" valign=top sdval=\"31\" sdnum=\"3082;\"><font size=1>31</font></td>\n",
      "\t\t<td style=\"border-right: 2px solid #000000\" align=\"left\" valign=top><font size=1>Desde 1 hasta 99<br>Blanco si CVIVIF &lt;&gt; 1 </font></td>\n",
      "\t</tr>\n",
      "\t<tr>\n",
      "\t\t<td style=\"border-left: 2px solid #000000\" height=\"22\" align=\"left\" bgcolor=\"#FFD475\"><b><font size=1>Datos del edificio</font></b></td>\n",
      "\t\t<td align=\"left\" bgcolor=\"#FFD475\"><font face=\"Univers\" size=1><br></font></td>\n",
      "\t\t<td align=\"left\" bgcolor=\"#FFD475\"><font face=\"Univers\" size=1><br></font></td>\n",
      "\t\t<td align=\"left\" bgcolor=\"#FFD475\"><font face=\"Univers\" size=1><br></font></td>\n",
      "\t\t<td align=\"left\" bgcolor=\"#FFD475\"><font face=\"Univers\" size=1><br></font></td>\n",
      "\t\t<td style=\"border-right: 2px solid #000000\" align=\"left\" bgcolor=\"#FFD475\"><font face=\"Univers\" size=1><br></font></td>\n",
      "\t</tr>\n",
      "\t<tr>\n",
      "\t\t<td style=\"border-left: 2px solid #000000\" height=\"213\" align=\"left\" valign=top><font size=1>N\u00famero de plantas sobre rasante</font></td>\n",
      "\t\t<td align=\"left\" valign=top><font size=1>PLANTAS</font></td>\n",
      "\t\t<td align=\"center\" valign=top sdval=\"2\" sdnum=\"3082;\"><font size=1>2</font></td>\n",
      "\t\t<td align=\"center\" valign=top sdval=\"32\" sdnum=\"3082;\"><font size=1>32</font></td>\n",
      "\t\t<td align=\"center\" valign=top sdval=\"33\" sdnum=\"3082;\"><font size=1>33</font></td>\n",
      "\t\t<td style=\"border-right: 2px solid #000000\" align=\"left\" valign=top><font size=1>01 si 1<br>02 si 2<br>03 si 3<br>04 si 4<br>05 si 5<br>06 si 6<br>07 si 7<br>08 si 8<br>09 si 9<br>10 si 10 \u00f3 +<br>Blanco, No consta</font></td>\n",
      "\t</tr>\n",
      "\t<tr>\n",
      "\t\t<td style=\"border-left: 2px solid #000000\" height=\"38\" align=\"left\" valign=top><font size=1>N\u00famero de plantas bajo rasante</font></td>\n",
      "\t\t<td align=\"left\" valign=top><font size=1>PLANTAB</font></td>\n",
      "\t\t<td align=\"center\" valign=top sdval=\"1\" sdnum=\"3082;\"><font size=1>1</font></td>\n",
      "\t\t<td align=\"center\" valign=top sdval=\"34\" sdnum=\"3082;\"><font size=1>34</font></td>\n",
      "\t\t<td align=\"center\" valign=top sdval=\"34\" sdnum=\"3082;\"><font size=1>34</font></td>\n",
      "\t\t<td style=\"border-right: 2px solid #000000\" align=\"left\" valign=top><font size=1>Desde 0 hasta 3<br>Blanco, No consta</font></td>\n",
      "\t</tr>\n",
      "\t<tr>\n",
      "\t\t<td style=\"border-left: 2px solid #000000\" height=\"56\" align=\"left\" valign=top><font size=1>Tipo de edificio</font></td>\n",
      "\t\t<td align=\"left\" valign=top><font size=1>TIPOEDIF</font></td>\n",
      "\t\t<td align=\"center\" valign=top sdval=\"1\" sdnum=\"3082;\"><font size=1>1</font></td>\n",
      "\t\t<td align=\"center\" valign=top sdval=\"35\" sdnum=\"3082;\"><font size=1>35</font></td>\n",
      "\t\t<td align=\"center\" valign=top sdval=\"35\" sdnum=\"3082;\"><font size=1>35</font></td>\n",
      "\t\t<td style=\"border-right: 2px solid #000000\" align=\"left\" valign=top><font size=1>1 Destinado principal o exclusivamente a viviendas<br>2 Destinado a otros fines<br>Blanco, No consta</font></td>\n",
      "\t</tr>\n",
      "\t<tr>\n",
      "\t\t<td style=\"border-left: 2px solid #000000\" height=\"356\" align=\"left\" valign=top><font size=1>N\u00famero de inmuebles </font></td>\n",
      "\t\t<td align=\"left\" valign=top><font size=1>INHUECOS</font></td>\n",
      "\t\t<td align=\"center\" valign=top sdval=\"2\" sdnum=\"3082;\"><font size=1>2</font></td>\n",
      "\t\t<td align=\"center\" valign=top sdval=\"36\" sdnum=\"3082;\"><font size=1>36</font></td>\n",
      "\t\t<td align=\"center\" valign=top sdval=\"37\" sdnum=\"3082;\"><font size=1>37</font></td>\n",
      "\t\t<td style=\"border-right: 2px solid #000000\" align=\"left\" valign=top><font size=1>01=1<br>02=2<br>03=3<br>04=4<br>05=5-9<br>06=10-19<br>07=20-29<br>08=30-39<br>09=40-69<br>10=70-99 <br>11=100-199<br>12=200-299<br>13=300-399<br>14=400-499<br>15=500-599<br>16=600-699<br>17=700-799<br>18=800 \u00f3 m\u00e1s<br>Blanco, No consta</font></td>\n",
      "\t</tr>\n",
      "\t<tr>\n",
      "\t\t<td style=\"border-left: 2px solid #000000\" height=\"375\" align=\"left\" valign=top><font size=1>A\u00f1o de construcci\u00f3n</font></td>\n",
      "\t\t<td align=\"left\" valign=top><font size=1>ANOCONS</font></td>\n",
      "\t\t<td align=\"center\" valign=top sdval=\"2\" sdnum=\"3082;\"><font size=1>2</font></td>\n",
      "\t\t<td align=\"center\" valign=top sdval=\"38\" sdnum=\"3082;\"><font size=1>38</font></td>\n",
      "\t\t<td align=\"center\" valign=top sdval=\"39\" sdnum=\"3082;\"><font size=1>39</font></td>\n",
      "\t\t<td style=\"border-right: 2px solid #000000\" align=\"left\" valign=top><font size=1>02 si Antes 1900<br>03 si 1900 a 1920<br>04 si 1921 a 1940<br>05 si 1941 a 1950<br>06 si 1951 a 1960<br>07 si 1961 a 1970<br>08 si 1971 a 1980<br>09 si 1981 a 1990<br>10 si 1991 a 2001<br>11 si 2002<br>12 si 2003<br>13 si 2004<br>14 si 2005<br>15 si 2006<br>16 si 2007<br>17 si 2008<br>18 si 2009<br>19 si 2010<br>20 si 2011<br>Blanco, No consta</font></td>\n",
      "\t</tr>\n",
      "\t<tr>\n",
      "\t\t<td style=\"border-left: 2px solid #000000\" height=\"94\" align=\"left\" valign=top><font size=1>Estado del edificio</font></td>\n",
      "\t\t<td align=\"left\" valign=top><font size=1>ESTADO</font></td>\n",
      "\t\t<td align=\"center\" valign=top sdval=\"1\" sdnum=\"3082;\"><font size=1>1</font></td>\n",
      "\t\t<td align=\"center\" valign=top sdval=\"40\" sdnum=\"3082;\"><font size=1>40</font></td>\n",
      "\t\t<td align=\"center\" valign=top sdval=\"40\" sdnum=\"3082;\"><font size=1>40</font></td>\n",
      "\t\t<td style=\"border-right: 2px solid #000000\" align=\"left\" valign=top><font size=1>1 si Ruinoso<br>2 si Malo<br>3 si Deficiente<br>4 si Bueno<br>Blanco, No consta</font></td>\n",
      "\t</tr>\n",
      "\t<tr>\n",
      "\t\t<td style=\"border-left: 2px solid #000000\" height=\"56\" align=\"left\" valign=top><font size=1>Ascensor en el edificio</font></td>\n",
      "\t\t<td align=\"left\" valign=top><font size=1>ASCENSOR</font></td>\n",
      "\t\t<td align=\"center\" valign=top sdval=\"1\" sdnum=\"3082;\"><font size=1>1</font></td>\n",
      "\t\t<td align=\"center\" valign=top sdval=\"41\" sdnum=\"3082;\"><font size=1>41</font></td>\n",
      "\t\t<td align=\"center\" valign=top sdval=\"41\" sdnum=\"3082;\"><font size=1>41</font></td>\n",
      "\t\t<td style=\"border-right: 2px solid #000000\" align=\"left\" valign=top><font size=1>1 S\u00ed<br>2 No<br>Blanco, No consta</font></td>\n",
      "\t</tr>\n",
      "\t<tr>\n",
      "\t\t<td style=\"border-left: 2px solid #000000\" height=\"56\" align=\"left\" valign=top><font size=1>Accesibilidad del edificio</font></td>\n",
      "\t\t<td align=\"left\" valign=top><font size=1>ACCESIB</font></td>\n",
      "\t\t<td align=\"center\" valign=top sdval=\"1\" sdnum=\"3082;\"><font size=1>1</font></td>\n",
      "\t\t<td align=\"center\" valign=top sdval=\"42\" sdnum=\"3082;\"><font size=1>42</font></td>\n",
      "\t\t<td align=\"center\" valign=top sdval=\"42\" sdnum=\"3082;\"><font size=1>42</font></td>\n",
      "\t\t<td style=\"border-right: 2px solid #000000\" align=\"left\" valign=top><font size=1>1 S\u00ed<br>2 No<br>Blanco, No consta</font></td>\n",
      "\t</tr>\n",
      "\t<tr>\n",
      "\t\t<td style=\"border-left: 2px solid #000000\" height=\"56\" align=\"left\" valign=top><font size=1>Garaje</font></td>\n",
      "\t\t<td align=\"left\" valign=top><font size=1>GARAJE</font></td>\n",
      "\t\t<td align=\"center\" valign=top sdval=\"1\" sdnum=\"3082;\"><font size=1>1</font></td>\n",
      "\t\t<td align=\"center\" valign=top sdval=\"43\" sdnum=\"3082;\"><font size=1>43</font></td>\n",
      "\t\t<td align=\"center\" valign=top sdval=\"43\" sdnum=\"3082;\"><font size=1>43</font></td>\n",
      "\t\t<td style=\"border-right: 2px solid #000000\" align=\"left\" valign=top><font size=1>1 S\u00ed<br>2 No<br>Blanco, No consta</font></td>\n",
      "\t</tr>\n",
      "\t<tr>\n",
      "\t\t<td style=\"border-left: 2px solid #000000\" height=\"150\" align=\"left\" valign=top><font size=1>N\u00famero de plazas de garaje</font></td>\n",
      "\t\t<td align=\"left\" valign=top><font size=1>PLAZAS</font></td>\n",
      "\t\t<td align=\"center\" valign=top sdval=\"1\" sdnum=\"3082;\"><font size=1>1</font></td>\n",
      "\t\t<td align=\"center\" valign=top sdval=\"44\" sdnum=\"3082;\"><font size=1>44</font></td>\n",
      "\t\t<td align=\"center\" valign=top sdval=\"44\" sdnum=\"3082;\"><font size=1>44</font></td>\n",
      "\t\t<td style=\"border-right: 2px solid #000000\" align=\"left\" valign=top><font size=1>1. Si 1. <br>2. Si 2.  <br>3. Si 3 a 5.  <br>4. Si 6 a 10.  <br>5. Si 11 a 20. <br>6. Si 21 a 50.  <br>7. Si  m\u00e1s de 51. <br>Blanco si no dispone de garaje o no consta</font></td>\n",
      "\t</tr>\n",
      "\t<tr>\n",
      "\t\t<td style=\"border-left: 2px solid #000000\" height=\"56\" align=\"left\" valign=top><font size=1>Gas</font></td>\n",
      "\t\t<td align=\"left\" valign=top><font size=1>GAS</font></td>\n",
      "\t\t<td align=\"center\" valign=top sdval=\"1\" sdnum=\"3082;\"><font size=1>1</font></td>\n",
      "\t\t<td align=\"center\" valign=top sdval=\"45\" sdnum=\"3082;\"><font size=1>45</font></td>\n",
      "\t\t<td align=\"center\" valign=top sdval=\"45\" sdnum=\"3082;\"><font size=1>45</font></td>\n",
      "\t\t<td style=\"border-right: 2px solid #000000\" align=\"left\" valign=top><font size=1>1 S\u00ed<br>2 No<br>Blanco, No consta</font></td>\n",
      "\t</tr>\n",
      "\t<tr>\n",
      "\t\t<td style=\"border-left: 2px solid #000000\" height=\"56\" align=\"left\" valign=top><font size=1>Tendido telef\u00f3nico</font></td>\n",
      "\t\t<td align=\"left\" valign=top><font size=1>TELEF</font></td>\n",
      "\t\t<td align=\"center\" valign=top sdval=\"1\" sdnum=\"3082;\"><font size=1>1</font></td>\n",
      "\t\t<td align=\"center\" valign=top sdval=\"46\" sdnum=\"3082;\"><font size=1>46</font></td>\n",
      "\t\t<td align=\"center\" valign=top sdval=\"46\" sdnum=\"3082;\"><font size=1>46</font></td>\n",
      "\t\t<td style=\"border-right: 2px solid #000000\" align=\"left\" valign=top><font size=1>1 S\u00ed<br>2 No<br>Blanco, No consta</font></td>\n",
      "\t</tr>\n",
      "\t<tr>\n",
      "\t\t<td style=\"border-left: 2px solid #000000\" height=\"56\" align=\"left\" valign=top><font size=1>Agua caliente central</font></td>\n",
      "\t\t<td align=\"left\" valign=top><font size=1>ACAL</font></td>\n",
      "\t\t<td align=\"center\" valign=top sdval=\"1\" sdnum=\"3082;\"><font size=1>1</font></td>\n",
      "\t\t<td align=\"center\" valign=top sdval=\"47\" sdnum=\"3082;\"><font size=1>47</font></td>\n",
      "\t\t<td align=\"center\" valign=top sdval=\"47\" sdnum=\"3082;\"><font size=1>47</font></td>\n",
      "\t\t<td style=\"border-right: 2px solid #000000\" align=\"left\" valign=top><font size=1>1 S\u00ed<br>2 No<br>Blanco, No consta</font></td>\n",
      "\t</tr>\n",
      "\t<tr>\n",
      "\t\t<td style=\"border-bottom: 2px solid #000000; border-left: 2px solid #000000\" height=\"76\" align=\"left\" valign=top><font size=1>Evacuaci\u00f3n de aguas residuales</font></td>\n",
      "\t\t<td style=\"border-bottom: 2px solid #000000\" align=\"left\" valign=top><font size=1>RESID</font></td>\n",
      "\t\t<td style=\"border-bottom: 2px solid #000000\" align=\"center\" valign=top sdval=\"1\" sdnum=\"3082;\"><font size=1>1</font></td>\n",
      "\t\t<td style=\"border-bottom: 2px solid #000000\" align=\"center\" valign=top sdval=\"48\" sdnum=\"3082;\"><font size=1>48</font></td>\n",
      "\t\t<td style=\"border-bottom: 2px solid #000000\" align=\"center\" valign=top sdval=\"48\" sdnum=\"3082;\"><font size=1>48</font></td>\n",
      "\t\t<td style=\"border-bottom: 2px solid #000000; border-right: 2px solid #000000\" align=\"left\" valign=top><font size=1>1 Alcantarillado<br>2 Otro tipo<br>3 No tiene sistema evacuaci\u00f3n aguas residuales<br>Blanco, No consta</font></td>\n",
      "\t</tr>\n",
      "</table>\n",
      "\n",
      "Vamos a contestar alguna pregunta de ejemplo.  Por ejemplo, \u00bfcu\u00e1ntas viviendas secundarias (caracter 20) tienen Internet (caracter 25)?"
     ]
    },
    {
     "cell_type": "code",
     "collapsed": false,
     "input": [
      "def viviendas_secundarias_con_internet():\n",
      "    f = open('Microdatos_viviendas.txt', 'r')\n",
      "    c = 0\n",
      "    for linea in f:\n",
      "        if linea[19] == '2' and linea[24] == '1':\n",
      "            c += 1\n",
      "    f.close()\n",
      "    return c"
     ],
     "language": "python",
     "metadata": {},
     "outputs": [],
     "prompt_number": 16
    },
    {
     "cell_type": "code",
     "collapsed": false,
     "input": [
      "print('%d viviendas secundarias tienen Internet' % viviendas_secundarias_con_internet())"
     ],
     "language": "python",
     "metadata": {},
     "outputs": [
      {
       "output_type": "stream",
       "stream": "stdout",
       "text": [
        "0 viviendas secundarias tienen Internet\n"
       ]
      }
     ],
     "prompt_number": 17
    },
    {
     "cell_type": "markdown",
     "metadata": {},
     "source": [
      "\u00bfY qu\u00e9 porcentaje de viviendas principales tiene Internet? "
     ]
    },
    {
     "cell_type": "code",
     "collapsed": false,
     "input": [
      "def viviendas_1_con_internet():\n",
      "    f = open('Microdatos_viviendas.txt', 'r')\n",
      "    viviendas = 0\n",
      "    internet = 0\n",
      "    for linea in f:\n",
      "        if linea[19] == '1':\n",
      "            viviendas += 1\n",
      "            if linea[24] == '1':\n",
      "                internet += 1\n",
      "    f.close()\n",
      "    return internet*100.0/viviendas"
     ],
     "language": "python",
     "metadata": {},
     "outputs": [],
     "prompt_number": 18
    },
    {
     "cell_type": "code",
     "collapsed": false,
     "input": [
      "print('El %f%% de las primeras viviendas tienen Internet' % viviendas_1_con_internet())"
     ],
     "language": "python",
     "metadata": {},
     "outputs": [
      {
       "output_type": "stream",
       "stream": "stdout",
       "text": [
        "El 50.646536% de las primeras viviendas tienen Internet\n"
       ]
      }
     ],
     "prompt_number": 19
    },
    {
     "cell_type": "markdown",
     "metadata": {},
     "source": [
      "Ese c\u00f3digo con tantos niveles de anidamiento no es bonito, vamos a refactorizarlo un poco."
     ]
    },
    {
     "cell_type": "code",
     "collapsed": false,
     "input": [
      "def viviendas_1_con_internet():\n",
      "    f = open('Microdatos_viviendas.txt', 'r')\n",
      "    viviendas = 0\n",
      "    internet = 0\n",
      "    for linea in f:\n",
      "        viviendas, internet = acum_datos_interes(linea, viviendas, internet)\n",
      "    f.close()\n",
      "    return 100.0 * internet / viviendas\n",
      "\n",
      "def acum_datos_interes(linea, viviendas, internet):\n",
      "    if linea[19] == '1':\n",
      "        viviendas += 1\n",
      "        if linea[24] == '1':\n",
      "            internet += 1\n",
      "    return viviendas, internet"
     ],
     "language": "python",
     "metadata": {},
     "outputs": [],
     "prompt_number": 20
    },
    {
     "cell_type": "code",
     "collapsed": false,
     "input": [
      "print('El %f%% de las primeras viviendas tienen Internet' % viviendas_1_con_internet())"
     ],
     "language": "python",
     "metadata": {},
     "outputs": [
      {
       "output_type": "stream",
       "stream": "stdout",
       "text": [
        "El 50.646536% de las primeras viviendas tienen Internet\n"
       ]
      }
     ],
     "prompt_number": 21
    },
    {
     "cell_type": "markdown",
     "metadata": {},
     "source": [
      "Sigue sin ser especialmente elegante pero ya no tiene tantos niveles de indentaci\u00f3n. Aprenderemos a mejorarlo cuando veamos clases."
     ]
    }
   ],
   "metadata": {}
  }
 ]
}