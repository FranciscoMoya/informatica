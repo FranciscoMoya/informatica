{
 "cells": [
  {
   "cell_type": "markdown",
   "metadata": {},
   "source": [
    "# Ejemplos de divide y vencerás\n",
    "\n",
    "**Nota: Algunos de estos ejemplos son interactivos. Para probarlos necesitarás las capacidades de IPython Notebook. La forma más fácil es subirlo en [tmpnb.org](http://tmpnb.org/). veamos cómo hacerlo.**\n",
    "\n",
    "* Descarga el [archivo correspondiente a este cuaderno](https://github.com/FranciscoMoya/informatica/raw/master/notebooks/python-10.ipynb) y guárdalo en tu ordenador.\n",
    "\n",
    "* Entra en [tmpnb.org](http://tmpnb.org) y pulsa sobre el botón *Upload*. Selecciona el archivo que guardaste en el paso anterior y acepta.\n",
    "\n",
    "* Aparecerá el archivo en la página de [tmpnb.org](http://tmpnb.org) con un botón *Upload* a la derecha, pulsa sobre él para que se realice la transferencia.\n",
    "\n",
    "* Posteriormente comprueba de que el nombre del archivo termina en `.ipynb`.  Si no lo hace marca la casilla (*checkbox*) a la izquierda del archivo subido y pulsa el botón *Rename*. Edita el nombre para que termine en `.ipynb` y acepta.\n",
    "\n",
    "* Ya puedes pinchar sobre el nombre del archivo para interactuar con el cuaderno. Ahora selecciona la opción de menú *Cell->Run All* para ver ejecutar todas las celdas en el nuevo entorno."
   ]
  },
  {
   "cell_type": "markdown",
   "metadata": {},
   "source": [
    "## Torres de Hanoi\n",
    "\n",
    "Mover `n` discos desde el palo `orig` al palo `dest`. Es directo usando la estrategia de divide y vencerás.  Para mover los `n` discos tenemos que mover primero los `n-1` superiores al palo libre, entonces movemos el disco grande al palo destino y posteriormente movemos los `n-1` discos del palo libre al palo destino. "
   ]
  },
  {
   "cell_type": "code",
   "execution_count": 2,
   "metadata": {
    "collapsed": false
   },
   "outputs": [],
   "source": [
    "def hanoi(n, orig=1, dest=3):\n",
    "    '''\n",
    "    Asume n número natural (> 0), \n",
    "    orig número de palo origen, orig in (1,2,3),\n",
    "    dest número de palo destino, dest in (1,2,3).\n",
    "    Imprime los movimientos a realizar para mover n discos\n",
    "    desde el palo orig al palo dest.\n",
    "    '''\n",
    "    if n < 1:\n",
    "        return\n",
    "    libre = [x for x in (1,2,3) if not x in (orig,dest)][0]\n",
    "    hanoi(n-1, orig, libre)\n",
    "    print('De %d a %d' % (orig, dest))\n",
    "    hanoi(n-1, libre, dest)"
   ]
  },
  {
   "cell_type": "markdown",
   "metadata": {},
   "source": [
    "Solo falta probarlo:"
   ]
  },
  {
   "cell_type": "code",
   "execution_count": 3,
   "metadata": {
    "collapsed": false
   },
   "outputs": [
    {
     "name": "stdout",
     "output_type": "stream",
     "text": [
      "De 1 a 2\n",
      "De 1 a 3\n",
      "De 2 a 3\n",
      "De 1 a 2\n",
      "De 3 a 1\n",
      "De 3 a 2\n",
      "De 1 a 2\n",
      "De 1 a 3\n",
      "De 2 a 3\n",
      "De 2 a 1\n",
      "De 3 a 1\n",
      "De 2 a 3\n",
      "De 1 a 2\n",
      "De 1 a 3\n",
      "De 2 a 3\n"
     ]
    }
   ],
   "source": [
    "hanoi(4)"
   ]
  },
  {
   "cell_type": "markdown",
   "metadata": {},
   "source": [
    "Como puede verse no es muy vistoso que digamos. Sería más elegante una representación gráfica. Pero esto es algo que no debería mezclarse con la solución del problema. El error ha sido mezclar la interacción con el usuario con la solución del problema.  Vamos a arreglarlo.  El resultado de `hanoi` debe ser la secuencia de movimientos.  Cada movimiento es un par de números, el palo origen y el destino.  Por tanto el resultado debe ser una lista de tuplas de dos números.  Para concatenar dos listas podemos usar el método `extend` de las listas o la suma de listas, que también concatena."
   ]
  },
  {
   "cell_type": "code",
   "execution_count": 4,
   "metadata": {
    "collapsed": false
   },
   "outputs": [],
   "source": [
    "def hanoi(n, orig=1, dest=3):\n",
    "    '''\n",
    "    Asume n número natural (> 0), \n",
    "    orig número de palo origen, orig in (1,2,3),\n",
    "    dest número de palo destino, dest in (1,2,3).\n",
    "    Imprime los movimientos a realizar para mover n discos\n",
    "    desde el palo orig al palo dest.\n",
    "    '''\n",
    "    if n < 1:\n",
    "        return []\n",
    "    libre = [x for x in (1,2,3) if not x in (orig,dest)][0]\n",
    "    return hanoi(n-1, orig, libre) \\\n",
    "            + [(orig, dest)] \\\n",
    "            + hanoi(n-1, libre, dest)"
   ]
  },
  {
   "cell_type": "code",
   "execution_count": 5,
   "metadata": {
    "collapsed": false
   },
   "outputs": [
    {
     "name": "stdout",
     "output_type": "stream",
     "text": [
      "[(1, 2), (1, 3), (2, 3), (1, 2), (3, 1), (3, 2), (1, 2), (1, 3), (2, 3), (2, 1), (3, 1), (2, 3), (1, 2), (1, 3), (2, 3)]\n"
     ]
    }
   ],
   "source": [
    "print(hanoi(4))"
   ]
  },
  {
   "cell_type": "markdown",
   "metadata": {},
   "source": [
    "Y si queremos volver a tener la misma salida:"
   ]
  },
  {
   "cell_type": "code",
   "execution_count": 6,
   "metadata": {
    "collapsed": false
   },
   "outputs": [
    {
     "name": "stdout",
     "output_type": "stream",
     "text": [
      "De 1 a 2\n",
      "De 1 a 3\n",
      "De 2 a 3\n",
      "De 1 a 2\n",
      "De 3 a 1\n",
      "De 3 a 2\n",
      "De 1 a 2\n",
      "De 1 a 3\n",
      "De 2 a 3\n",
      "De 2 a 1\n",
      "De 3 a 1\n",
      "De 2 a 3\n",
      "De 1 a 2\n",
      "De 1 a 3\n",
      "De 2 a 3\n"
     ]
    }
   ],
   "source": [
    "for m in hanoi(4):\n",
    "    print('De %d a %d' % m)"
   ]
  },
  {
   "cell_type": "markdown",
   "metadata": {},
   "source": [
    "Lo bueno es que ahora podemos preparar otra visualización más vistosa sin tocar el algoritmo."
   ]
  },
  {
   "cell_type": "code",
   "execution_count": 7,
   "metadata": {
    "collapsed": false
   },
   "outputs": [
    {
     "data": {
      "text/html": [
       "<svg width=\"600\" height=\"180\"><rect x=\"147\" y=\"10\" width=\"6\" height=\"100\" style=\"fill:lightgray\" /><rect x=\"297\" y=\"10\" width=\"6\" height=\"100\" style=\"fill:lightgray\" /><rect x=\"447\" y=\"10\" width=\"6\" height=\"100\" style=\"fill:lightgray\" /><rect x=\"75\" y=\"110\" width=\"450\" height=\"12\" style=\"fill:lightgray\" />\n",
       "<rect x=\"405\" y=\"100\" rx=\"5\" ry=\"5\" width=\"90\" height=\"10\"\n",
       " style=\"fill:red;stroke:black\" />\n",
       "<rect x=\"410\" y=\"90\" rx=\"5\" ry=\"5\" width=\"80\" height=\"10\"\n",
       " style=\"fill:red;stroke:black\" />\n",
       "<rect x=\"415\" y=\"80\" rx=\"5\" ry=\"5\" width=\"70\" height=\"10\"\n",
       " style=\"fill:red;stroke:black\" />\n",
       "<rect x=\"420\" y=\"70\" rx=\"5\" ry=\"5\" width=\"60\" height=\"10\"\n",
       " style=\"fill:red;stroke:black\" />\n",
       "<rect x=\"425\" y=\"60\" rx=\"5\" ry=\"5\" width=\"50\" height=\"10\"\n",
       " style=\"fill:red;stroke:black\" />\n",
       "<rect x=\"430\" y=\"50\" rx=\"5\" ry=\"5\" width=\"40\" height=\"10\"\n",
       " style=\"fill:red;stroke:black\" />\n",
       "<rect x=\"435\" y=\"40\" rx=\"5\" ry=\"5\" width=\"30\" height=\"10\"\n",
       " style=\"fill:red;stroke:black\" />\n",
       "<rect x=\"440\" y=\"30\" rx=\"5\" ry=\"5\" width=\"20\" height=\"10\"\n",
       " style=\"fill:red;stroke:black\" /></svg>"
      ],
      "text/plain": [
       "<IPython.core.display.HTML object>"
      ]
     },
     "metadata": {},
     "output_type": "display_data"
    }
   ],
   "source": [
    "%matplotlib inline\n",
    "from IPython.display import HTML, display\n",
    "from IPython.html.widgets.interaction import interact\n",
    "\n",
    "def mostrar_torres(ndiscos=8, paso=0):\n",
    "    '''Asume ndiscos entero positivo (> 0)\n",
    "       paso entero positivo (>= 0).\n",
    "       Muestra un SVG que represemta el estado de las\n",
    "       torres en esta situación.\n",
    "    '''\n",
    "    t = [list(range(ndiscos+1,1,-1)),[],[]]\n",
    "    mov = hanoi(ndiscos)\n",
    "    for i in range(min(paso, len(mov))):\n",
    "        mover(t,mov[i])\n",
    "    display(HTML(torres(t)))\n",
    "\n",
    "def mover(t,m):\n",
    "    '''Asume t es una lista de 3 listas. Cada lista de t \n",
    "       contiene los discos del palo correspondiente. Cada\n",
    "       disco se representa con su longitud.\n",
    "       Asume m es una tupla de dos números. El palo origen\n",
    "       y el palo destino. Los palos se numeran desde 1.\n",
    "       Mueve el último disco según de t[m[0]] a t[m[1]].\n",
    "    '''\n",
    "    orig, dest = m\n",
    "    t[dest-1].append(t[orig-1].pop())\n",
    "\n",
    "def torres(ll):\n",
    "    '''Asume ll es una lista de 3 listas. Cada lista de t \n",
    "       contiene los discos del palo correspondiente. Cada\n",
    "       disco se representa con su longitud.\n",
    "       Devuelve un SVG que representa el contenido de ll.\n",
    "    '''\n",
    "    return '<svg width=\"600\" height=\"180\">%s</svg>' \\\n",
    "            % ''.join([palos(150, 6, 100)] + \\\n",
    "                      [torre(ll[i],i+1, 100) for i in range(len(ll))])\n",
    "\n",
    "def palos(x, w, h):\n",
    "    '''Asume x, w, h son enteros positivos que representan \n",
    "       respectivamente la posición en el eje x del primer palo,\n",
    "       el ancho y el alto.\n",
    "       Devuelve una cadena con los elementos graficos que \n",
    "       representan los palos y la base de las torres de Hanoi.\n",
    "    '''\n",
    "    return ''.join([rect(x-w/2, 10, w, h),\n",
    "                    rect(2*x-w/2, 10, w, h),\n",
    "                    rect(3*x-w/2, 10, w, h),\n",
    "                    rect(x/2, 10+h, 3*x, 2*w)])\n",
    "\n",
    "def rect(x,y,w,h,style='fill:lightgray'):\n",
    "    '''Asume x, y, w, h son enteros positivos que representan\n",
    "       respectivamente la posición en el eje x, en el eje y, el\n",
    "       ancho y el alto.\n",
    "       Asume style es una cadena que contiene un estilo CSS.\n",
    "       Devuelve una cadena que representa el rectángulo de estas\n",
    "       características.\n",
    "    '''\n",
    "    return '<rect x=\"%d\" y=\"%d\" width=\"%d\" height=\"%d\" style=\"%s\" />' \\\n",
    "            % (x,y,w,h,style)\n",
    "\n",
    "def torre(l, palo, h):\n",
    "    '''Asume l es una lista de enteros que corresponde a los anchos\n",
    "       de los discos de una torre desde el inferior hasta el superior.\n",
    "       Asume palo es un entero (palo in [1,2,3]).\n",
    "       Asume h entero positivo.\n",
    "       Devuelve una cadena con la representación gráfica de la torre\n",
    "       correspondiente, siendo h la altura del palo.\n",
    "    '''\n",
    "    return ''.join([disco(l[i], palo, i, h) for i in range(len(l))])\n",
    "\n",
    "def disco(ancho, palo, y, h):\n",
    "    '''Asume ancho, palo, y, h enteros positivos.\n",
    "       Asume palo in [1,2,3].\n",
    "       Devuelve una cadena con la representación gráfica de un disco de\n",
    "       ancho ancho, en el palo palo, en la posición y, siendo la altura\n",
    "       del palo h.\n",
    "    '''\n",
    "    return '''\n",
    "<rect x=\"%d\" y=\"%d\" rx=\"5\" ry=\"5\" width=\"%d\" height=\"10\"\n",
    " style=\"fill:red;stroke:black\" />''' \\\n",
    "    % (palo*150 - ancho*5, h - 10*y, ancho*10)\n",
    "\n",
    "interact(mostrar_torres, ndiscos=(4,8,1), paso=(0,256,1))"
   ]
  },
  {
   "cell_type": "markdown",
   "metadata": {},
   "source": [
    "## Ordenación: *Merge sort*\n",
    "\n",
    "Consideremos el problema de ordenar una secuencia de números."
   ]
  },
  {
   "cell_type": "code",
   "execution_count": 8,
   "metadata": {
    "collapsed": false
   },
   "outputs": [
    {
     "name": "stdout",
     "output_type": "stream",
     "text": [
      "[3, 1, 14, 18, 10, 19, 11, 16, 9, 15, 13, 5, 12, 4, 0, 8, 7, 17, 2, 6]\n"
     ]
    }
   ],
   "source": [
    "import random\n",
    "datos = list(range(20))\n",
    "random.shuffle(datos)\n",
    "print(datos)"
   ]
  },
  {
   "cell_type": "markdown",
   "metadata": {},
   "source": [
    "Podemos aplicar *divide y vencerás* de varias formas. Por ejemplo, dividimos la lista en 2, ordenamos las 2 mitades y mezclamos las dos listas ordenadas. Este algoritmo se lo debemos a John von Neumann."
   ]
  },
  {
   "cell_type": "code",
   "execution_count": 9,
   "metadata": {
    "collapsed": false
   },
   "outputs": [],
   "source": [
    "def merge_sort(l):\n",
    "    if len(l) < 2: \n",
    "        return l\n",
    "    mitad = len(l)//2\n",
    "    return merge(merge_sort(l[:mitad]),\n",
    "                 merge_sort(l[mitad:]))\n",
    "\n",
    "def merge(l1, l2):\n",
    "    i, j = 0, 0\n",
    "    l = []\n",
    "    while i < len(l1) and j < len(l2):\n",
    "        if l1[i] < l2[j]:\n",
    "            l.append(l1[i])\n",
    "            i += 1\n",
    "        else:\n",
    "            l.append(l2[j])\n",
    "            j += 1\n",
    "    return l + l1[i:] + l2[j:]"
   ]
  },
  {
   "cell_type": "markdown",
   "metadata": {},
   "source": [
    "Lo único complejo es la mezcla. La mezcla selecciona elementos de una lista o de otra dependiendo de cuál tiene el menor. Cuando una lista se acaba la mezcla debe incluir el resto de la otra. Tal vez sea más fácil de entender la función `merge` si usamos divide y vencerás para describirla."
   ]
  },
  {
   "cell_type": "code",
   "execution_count": 10,
   "metadata": {
    "collapsed": false
   },
   "outputs": [],
   "source": [
    "def merge(l1, l2):\n",
    "    if len(l1) == 0:\n",
    "        return l2\n",
    "    if len(l2) == 0:\n",
    "        return l1\n",
    "    if l1[0] < l2[0]:\n",
    "        return [l1[0]] + merge(l1[1:], l2)\n",
    "    return [l2[0]] + merge(l1, l2[1:])"
   ]
  },
  {
   "cell_type": "code",
   "execution_count": 11,
   "metadata": {
    "collapsed": false
   },
   "outputs": [
    {
     "name": "stdout",
     "output_type": "stream",
     "text": [
      "[0, 1, 2, 3, 4, 5, 6, 7, 8, 9, 10, 11, 12, 13, 14, 15, 16, 17, 18, 19]\n"
     ]
    }
   ],
   "source": [
    "print(merge_sort(datos))"
   ]
  },
  {
   "cell_type": "markdown",
   "metadata": {},
   "source": [
    "Una característica interesante de este algoritmo es que es fácil de adaptar al caso en el que no disponemos de memoria suficiente para ordenar todos los elementos (por ejemplo, cuando los datos están en una base de datos).  Sin embargo se trata de un algoritmo que consume bastante memoria, porque se copian los elementos para formar las listas ordenadas.\n",
    "\n",
    "## Ordenación: *Quicksort*\n",
    "\n",
    "Otra forma de aplicar la estrategia de *divide y vencerás* es el algoritmo Quicksort de C. A. R. Hoare.  El método consiste en seleccionar un elemento denominado *pivote*. Todos los elementos menores o iguales al pivote se ponen a un lado y todos los mayores o iguales se ponen a otro lado. Al acabar tenemos dos grupos de números que volvemos a ordenar utilizando el mismo algoritmo. Lo bueno de este algoritmo es que puede usarse *in-place* para reducir el consumo de memoria."
   ]
  },
  {
   "cell_type": "code",
   "execution_count": 12,
   "metadata": {
    "collapsed": false
   },
   "outputs": [],
   "source": [
    "def qsort(l):\n",
    "    qsort_segmento(l, 0, len(l))\n",
    "\n",
    "def qsort_segmento(l, primero, ultimo):\n",
    "    if ultimo - primero < 2:\n",
    "        return\n",
    "    div = clasifica(l, primero, ultimo)\n",
    "    qsort_segmento(l, primero, div)\n",
    "    qsort_segmento(l, div, ultimo)\n",
    "    \n",
    "def clasifica(l, primero, ultimo):\n",
    "    pivote = (primero + ultimo) // 2\n",
    "    l[primero], l[pivote] = l[pivote], l[primero]\n",
    "    div = primero + 1\n",
    "    for i in range(primero + 1, ultimo):\n",
    "        if l[i] <= l[primero]:\n",
    "            l[div], l[i] = l[i], l[div]\n",
    "            div += 1\n",
    "    return div"
   ]
  },
  {
   "cell_type": "markdown",
   "metadata": {},
   "source": [
    "La parte más difícil es clasificar con respecto al pivote. Nosotros seleccionamos el elemento del medio como pivote (para no perjudicar a las listas ya ordenadas). Ese elemento lo situamos como primero del segmento a ordenar y el resto lo vamos pegando a él si es menor o igual o lo dejamos si es mayor. Puede que te preguntes por qué se mueve el pivote como primer elemento. Se hace para evitar casos desafortunados en que el pivote es el mayor elemento del segmento. Si no se moviera llamaríamos indefinidamente a la función de ordenación con el mismo segmento.\n",
    "\n",
    "Solo queda probarlo."
   ]
  },
  {
   "cell_type": "code",
   "execution_count": 13,
   "metadata": {
    "collapsed": false
   },
   "outputs": [
    {
     "name": "stdout",
     "output_type": "stream",
     "text": [
      "[0, 1, 2, 3, 4, 5, 6, 7, 8, 9, 10, 11, 12, 13, 14, 15, 16, 17, 18, 19]\n"
     ]
    }
   ],
   "source": [
    "ordenados = datos[:]\n",
    "qsort(ordenados)\n",
    "print(ordenados)"
   ]
  }
 ],
 "metadata": {
  "kernelspec": {
   "display_name": "Python 3",
   "language": "python",
   "name": "python3"
  },
  "language_info": {
   "codemirror_mode": {
    "name": "ipython",
    "version": 3
   },
   "file_extension": ".py",
   "mimetype": "text/x-python",
   "name": "python",
   "nbconvert_exporter": "python",
   "pygments_lexer": "ipython3",
   "version": "3.5.2"
  },
  "widgets": {
   "state": {
    "d08f0c5c337f47ed85a75d56fe6d427b": {
     "views": [
      {
       "cell_index": 11
      }
     ]
    }
   },
   "version": "1.2.0"
  }
 },
 "nbformat": 4,
 "nbformat_minor": 0
}
