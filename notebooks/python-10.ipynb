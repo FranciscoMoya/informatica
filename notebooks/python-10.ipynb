{
 "metadata": {
  "name": "",
  "signature": "sha256:0a9d1b4ae784b71761c61935448df9e3005e5be959b1bc55e51be9b0ee975748"
 },
 "nbformat": 3,
 "nbformat_minor": 0,
 "worksheets": [
  {
   "cells": [
    {
     "cell_type": "markdown",
     "metadata": {},
     "source": [
      "# Ejemplos de divide y vencer\u00e1s\n",
      "\n",
      "**Nota: Algunos de estos ejemplos son interactivos. Para probarlos necesitar\u00e1s las capacidades de IPython Notebook. La forma m\u00e1s f\u00e1cil es subirlo en [tmpnb.org](http://tmpnb.org/). veamos c\u00f3mo hacerlo.**\n",
      "\n",
      "* Descarga el [archivo correspondiente a este cuaderno](https://github.com/FranciscoMoya/informatica/raw/master/notebooks/python-10.ipynb) y gu\u00e1rdalo en tu ordenador.\n",
      "\n",
      "* Entra en [tmpnb.org](http://tmpnb.org) y pulsa sobre el bot\u00f3n *Upload*. Selecciona el archivo que guardaste en el paso anterior y acepta.\n",
      "\n",
      "* Aparecer\u00e1 el archivo en la p\u00e1gina de [tmpnb.org](http://tmpnb.org) con un bot\u00f3n *Upload* a la derecha, pulsa sobre \u00e9l para que se realice la transferencia.\n",
      "\n",
      "* Posteriormente comprueba de que el nombre del archivo termina en `.ipynb`.  Si no lo hace marca la casilla (*checkbox*) a la izquierda del archivo subido y pulsa el bot\u00f3n *Rename*. Edita el nombre para que termine en `.ipynb` y acepta.\n",
      "\n",
      "* Ya puedes pinchar sobre el nombre del archivo para interactuar con el cuaderno. Ahora selecciona la opci\u00f3n de men\u00fa *Cell->Run All* para ver ejecutar todas las celdas en el nuevo entorno.\n",
      "\n",
      "Estos ejemplos est\u00e1n programados de forma que sean compatibles con Python3. Esto es necesario para que la interfaz interactiva funcione con `tmpnb.org`."
     ]
    },
    {
     "cell_type": "code",
     "collapsed": false,
     "input": [
      "from __future__ import print_function"
     ],
     "language": "python",
     "metadata": {},
     "outputs": [],
     "prompt_number": 14
    },
    {
     "cell_type": "markdown",
     "metadata": {},
     "source": [
      "## Torres de Hanoi\n",
      "\n",
      "Mover `n` discos desde el palo `orig` al palo `dest`. Es directo usando la estrategia de divide y vencer\u00e1s.  Para mover los `n` discos tenemos que mover primero los `n-1` superiores al palo libre, entonces movemos el disco grande al palo destino y posteriormente movemos los `n-1` discos del palo libre al palo destino. "
     ]
    },
    {
     "cell_type": "code",
     "collapsed": false,
     "input": [
      "def hanoi(n, orig=1, dest=3):\n",
      "    '''\n",
      "    Asume n n\u00famero natural (> 0), \n",
      "    orig n\u00famero de palo origen, orig in (1,2,3),\n",
      "    dest n\u00famero de palo destino, dest in (1,2,3).\n",
      "    Imprime los movimientos a realizar para mover n discos\n",
      "    desde el palo orig al palo dest.\n",
      "    '''\n",
      "    if n < 1:\n",
      "        return\n",
      "    libre = [x for x in (1,2,3) if not x in (orig,dest)][0]\n",
      "    hanoi(n-1, orig, libre)\n",
      "    print('De %d a %d' % (orig, dest))\n",
      "    hanoi(n-1, libre, dest)"
     ],
     "language": "python",
     "metadata": {},
     "outputs": [],
     "prompt_number": 15
    },
    {
     "cell_type": "markdown",
     "metadata": {},
     "source": [
      "Solo falta probarlo:"
     ]
    },
    {
     "cell_type": "code",
     "collapsed": false,
     "input": [
      "hanoi(4)"
     ],
     "language": "python",
     "metadata": {},
     "outputs": [
      {
       "output_type": "stream",
       "stream": "stdout",
       "text": [
        "De 1 a 2\n",
        "De 1 a 3\n",
        "De 2 a 3\n",
        "De 1 a 2\n",
        "De 3 a 1\n",
        "De 3 a 2\n",
        "De 1 a 2\n",
        "De 1 a 3\n",
        "De 2 a 3\n",
        "De 2 a 1\n",
        "De 3 a 1\n",
        "De 2 a 3\n",
        "De 1 a 2\n",
        "De 1 a 3\n",
        "De 2 a 3\n"
       ]
      }
     ],
     "prompt_number": 16
    },
    {
     "cell_type": "markdown",
     "metadata": {},
     "source": [
      "Como puede verse no es muy vistoso que digamos. Ser\u00eda m\u00e1s elegante una representaci\u00f3n gr\u00e1fica. Pero esto es algo que no deber\u00eda mezclarse con la soluci\u00f3n del problema. El error ha sido mezclar la interacci\u00f3n con el usuario con la soluci\u00f3n del problema.  Vamos a arreglarlo.  El resultado de `hanoi` debe ser la secuencia de movimientos.  Cada movimiento es un par de n\u00fameros, el palo origen y el destino.  Por tanto el resultado debe ser una lista de tuplas de dos n\u00fameros.  Para concatenar dos listas podemos usar el m\u00e9todo `extend` de las listas o la suma de listas, que tambi\u00e9n concatena."
     ]
    },
    {
     "cell_type": "code",
     "collapsed": false,
     "input": [
      "def hanoi(n, orig=1, dest=3):\n",
      "    '''\n",
      "    Asume n n\u00famero natural (> 0), \n",
      "    orig n\u00famero de palo origen, orig in (1,2,3),\n",
      "    dest n\u00famero de palo destino, dest in (1,2,3).\n",
      "    Imprime los movimientos a realizar para mover n discos\n",
      "    desde el palo orig al palo dest.\n",
      "    '''\n",
      "    if n < 1:\n",
      "        return []\n",
      "    libre = [x for x in (1,2,3) if not x in (orig,dest)][0]\n",
      "    return hanoi(n-1, orig, libre) \\\n",
      "            + [(orig, dest)] \\\n",
      "            + hanoi(n-1, libre, dest)"
     ],
     "language": "python",
     "metadata": {},
     "outputs": [],
     "prompt_number": 17
    },
    {
     "cell_type": "code",
     "collapsed": false,
     "input": [
      "print(hanoi(4))"
     ],
     "language": "python",
     "metadata": {},
     "outputs": [
      {
       "output_type": "stream",
       "stream": "stdout",
       "text": [
        "[(1, 2), (1, 3), (2, 3), (1, 2), (3, 1), (3, 2), (1, 2), (1, 3), (2, 3), (2, 1), (3, 1), (2, 3), (1, 2), (1, 3), (2, 3)]\n"
       ]
      }
     ],
     "prompt_number": 18
    },
    {
     "cell_type": "markdown",
     "metadata": {},
     "source": [
      "Y si queremos volver a tener la misma salida:"
     ]
    },
    {
     "cell_type": "code",
     "collapsed": false,
     "input": [
      "for m in hanoi(4):\n",
      "    print('De %d a %d' % m)"
     ],
     "language": "python",
     "metadata": {},
     "outputs": [
      {
       "output_type": "stream",
       "stream": "stdout",
       "text": [
        "De 1 a 2\n",
        "De 1 a 3\n",
        "De 2 a 3\n",
        "De 1 a 2\n",
        "De 3 a 1\n",
        "De 3 a 2\n",
        "De 1 a 2\n",
        "De 1 a 3\n",
        "De 2 a 3\n",
        "De 2 a 1\n",
        "De 3 a 1\n",
        "De 2 a 3\n",
        "De 1 a 2\n",
        "De 1 a 3\n",
        "De 2 a 3\n"
       ]
      }
     ],
     "prompt_number": 19
    },
    {
     "cell_type": "markdown",
     "metadata": {},
     "source": [
      "Lo bueno es que ahora podemos preparar otra visualizaci\u00f3n m\u00e1s vistosa sin tocar el algoritmo."
     ]
    },
    {
     "cell_type": "code",
     "collapsed": false,
     "input": [
      "%matplotlib inline\n",
      "from IPython.display import HTML, display\n",
      "from IPython.html.widgets.interaction import interact\n",
      "\n",
      "def mostrar_torres(ndiscos=8, paso=0):\n",
      "    '''Asume ndiscos entero positivo (> 0)\n",
      "       paso entero positivo (>= 0).\n",
      "       Muestra un SVG que represemta el estado de las\n",
      "       torres en esta situaci\u00f3n.\n",
      "    '''\n",
      "    t = [list(range(ndiscos+1,1,-1)),[],[]]\n",
      "    mov = hanoi(ndiscos)\n",
      "    for i in range(min(paso, len(mov))):\n",
      "        mover(t,mov[i])\n",
      "    display(HTML(torres(t)))\n",
      "\n",
      "def mover(t,m):\n",
      "    '''Asume t es una lista de 3 listas. Cada lista de t \n",
      "       contiene los discos del palo correspondiente. Cada\n",
      "       disco se representa con su longitud.\n",
      "       Asume m es una tupla de dos n\u00fameros. El palo origen\n",
      "       y el palo destino. Los palos se numeran desde 1.\n",
      "       Mueve el \u00faltimo disco seg\u00fan de t[m[0]] a t[m[1]].\n",
      "    '''\n",
      "    orig, dest = m\n",
      "    t[dest-1].append(t[orig-1].pop())\n",
      "\n",
      "def torres(ll):\n",
      "    '''Asume ll es una lista de 3 listas. Cada lista de t \n",
      "       contiene los discos del palo correspondiente. Cada\n",
      "       disco se representa con su longitud.\n",
      "       Devuelve un SVG que representa el contenido de ll.\n",
      "    '''\n",
      "    return '<svg width=\"600\" height=\"180\">%s</svg>' \\\n",
      "            % ''.join([palos(150, 6, 100)] + \\\n",
      "                      [torre(ll[i],i+1, 100) for i in range(len(ll))])\n",
      "\n",
      "def palos(x, w, h):\n",
      "    '''Asume x, w, h son enteros positivos que representan \n",
      "       respectivamente la posici\u00f3n en el eje x del primer palo,\n",
      "       el ancho y el alto.\n",
      "       Devuelve una cadena con los elementos graficos que \n",
      "       representan los palos y la base de las torres de Hanoi.\n",
      "    '''\n",
      "    return ''.join([rect(x-w/2, 10, w, h),\n",
      "                    rect(2*x-w/2, 10, w, h),\n",
      "                    rect(3*x-w/2, 10, w, h),\n",
      "                    rect(x/2, 10+h, 3*x, 2*w)])\n",
      "\n",
      "def rect(x,y,w,h,style='fill:lightgray'):\n",
      "    '''Asume x, y, w, h son enteros positivos que representan\n",
      "       respectivamente la posici\u00f3n en el eje x, en el eje y, el\n",
      "       ancho y el alto.\n",
      "       Asume style es una cadena que contiene un estilo CSS.\n",
      "       Devuelve una cadena que representa el rect\u00e1ngulo de estas\n",
      "       caracter\u00edsticas.\n",
      "    '''\n",
      "    return '<rect x=\"%d\" y=\"%d\" width=\"%d\" height=\"%d\" style=\"%s\" />' \\\n",
      "            % (x,y,w,h,style)\n",
      "\n",
      "def torre(l, palo, h):\n",
      "    '''Asume l es una lista de enteros que corresponde a los anchos\n",
      "       de los discos de una torre desde el inferior hasta el superior.\n",
      "       Asume palo es un entero (palo in [1,2,3]).\n",
      "       Asume h entero positivo.\n",
      "       Devuelve una cadena con la representaci\u00f3n gr\u00e1fica de la torre\n",
      "       correspondiente, siendo h la altura del palo.\n",
      "    '''\n",
      "    return ''.join([disco(l[i], palo, i, h) for i in range(len(l))])\n",
      "\n",
      "def disco(ancho, palo, y, h):\n",
      "    '''Asume ancho, palo, y, h enteros positivos.\n",
      "       Asume palo in [1,2,3].\n",
      "       Devuelve una cadena con la representaci\u00f3n gr\u00e1fica de un disco de\n",
      "       ancho ancho, en el palo palo, en la posici\u00f3n y, siendo la altura\n",
      "       del palo h.\n",
      "    '''\n",
      "    return '''\n",
      "<rect x=\"%d\" y=\"%d\" rx=\"5\" ry=\"5\" width=\"%d\" height=\"10\"\n",
      " style=\"fill:red;stroke:black\" />''' \\\n",
      "    % (palo*150 - ancho*5, h - 10*y, ancho*10)\n",
      "\n",
      "interact(mostrar_torres, ndiscos=(4,8,1), paso=(0,256,1))"
     ],
     "language": "python",
     "metadata": {},
     "outputs": [
      {
       "html": [
        "<svg width=\"600\" height=\"180\"><rect x=\"147\" y=\"10\" width=\"6\" height=\"100\" style=\"fill:lightgray\" /><rect x=\"297\" y=\"10\" width=\"6\" height=\"100\" style=\"fill:lightgray\" /><rect x=\"447\" y=\"10\" width=\"6\" height=\"100\" style=\"fill:lightgray\" /><rect x=\"75\" y=\"110\" width=\"450\" height=\"12\" style=\"fill:lightgray\" />\n",
        "<rect x=\"105\" y=\"100\" rx=\"5\" ry=\"5\" width=\"90\" height=\"10\"\n",
        " style=\"fill:red;stroke:black\" />\n",
        "<rect x=\"110\" y=\"90\" rx=\"5\" ry=\"5\" width=\"80\" height=\"10\"\n",
        " style=\"fill:red;stroke:black\" />\n",
        "<rect x=\"115\" y=\"80\" rx=\"5\" ry=\"5\" width=\"70\" height=\"10\"\n",
        " style=\"fill:red;stroke:black\" />\n",
        "<rect x=\"120\" y=\"70\" rx=\"5\" ry=\"5\" width=\"60\" height=\"10\"\n",
        " style=\"fill:red;stroke:black\" />\n",
        "<rect x=\"125\" y=\"60\" rx=\"5\" ry=\"5\" width=\"50\" height=\"10\"\n",
        " style=\"fill:red;stroke:black\" />\n",
        "<rect x=\"130\" y=\"50\" rx=\"5\" ry=\"5\" width=\"40\" height=\"10\"\n",
        " style=\"fill:red;stroke:black\" />\n",
        "<rect x=\"135\" y=\"40\" rx=\"5\" ry=\"5\" width=\"30\" height=\"10\"\n",
        " style=\"fill:red;stroke:black\" />\n",
        "<rect x=\"140\" y=\"30\" rx=\"5\" ry=\"5\" width=\"20\" height=\"10\"\n",
        " style=\"fill:red;stroke:black\" /></svg>"
       ],
       "metadata": {},
       "output_type": "display_data",
       "text": [
        "<IPython.core.display.HTML at 0x7f0e872ac890>"
       ]
      },
      {
       "metadata": {},
       "output_type": "pyout",
       "prompt_number": 20,
       "text": [
        "<function __main__.mostrar_torres>"
       ]
      }
     ],
     "prompt_number": 20
    },
    {
     "cell_type": "markdown",
     "metadata": {},
     "source": [
      "## Ordenaci\u00f3n: *Merge sort*\n",
      "\n",
      "Consideremos el problema de ordenar una secuencia de n\u00fameros."
     ]
    },
    {
     "cell_type": "code",
     "collapsed": false,
     "input": [
      "import random\n",
      "datos = list(range(20))\n",
      "random.shuffle(datos)\n",
      "print(datos)"
     ],
     "language": "python",
     "metadata": {},
     "outputs": [
      {
       "output_type": "stream",
       "stream": "stdout",
       "text": [
        "[5, 8, 13, 11, 12, 19, 15, 18, 2, 1, 3, 10, 6, 16, 0, 4, 17, 7, 14, 9]\n"
       ]
      }
     ],
     "prompt_number": 21
    },
    {
     "cell_type": "markdown",
     "metadata": {},
     "source": [
      "Podemos aplicar *divide y vencer\u00e1s* de varias formas. Por ejemplo, dividimos la lista en 2, ordenamos las 2 mitades y mezclamos las dos listas ordenadas. Este algoritmo se lo debemos a John von Neumann."
     ]
    },
    {
     "cell_type": "code",
     "collapsed": false,
     "input": [
      "def merge_sort(l):\n",
      "    if len(l) < 2: \n",
      "        return l\n",
      "    mitad = len(l)//2\n",
      "    return merge(merge_sort(l[:mitad]),\n",
      "                 merge_sort(l[mitad:]))\n",
      "\n",
      "def merge(l1, l2):\n",
      "    i, j = 0, 0\n",
      "    l = []\n",
      "    while i < len(l1) and j < len(l2):\n",
      "        if l1[i] < l2[j]:\n",
      "            l.append(l1[i])\n",
      "            i += 1\n",
      "        else:\n",
      "            l.append(l2[j])\n",
      "            j += 1\n",
      "    return l + l1[i:] + l2[j:]"
     ],
     "language": "python",
     "metadata": {},
     "outputs": [],
     "prompt_number": 22
    },
    {
     "cell_type": "markdown",
     "metadata": {},
     "source": [
      "Lo \u00fanico complejo es la mezcla. La mezcla selecciona elementos de una lista o de otra dependiendo de cu\u00e1l tiene el menor. Cuando una lista se acaba la mezcla debe incluir el resto de la otra. Tal vez sea m\u00e1s f\u00e1cil de entender la funci\u00f3n `merge` si usamos divide y vencer\u00e1s para describirla."
     ]
    },
    {
     "cell_type": "code",
     "collapsed": false,
     "input": [
      "def merge(l1, l2):\n",
      "    if len(l1) == 0:\n",
      "        return l2\n",
      "    if len(l2) == 0:\n",
      "        return l1\n",
      "    if l1[0] < l2[0]:\n",
      "        return [l1[0]] + merge(l1[1:], l2)\n",
      "    return [l2[0]] + merge(l1, l2[1:])"
     ],
     "language": "python",
     "metadata": {},
     "outputs": [],
     "prompt_number": 23
    },
    {
     "cell_type": "code",
     "collapsed": false,
     "input": [
      "print(merge_sort(datos))"
     ],
     "language": "python",
     "metadata": {},
     "outputs": [
      {
       "output_type": "stream",
       "stream": "stdout",
       "text": [
        "[0, 1, 2, 3, 4, 5, 6, 7, 8, 9, 10, 11, 12, 13, 14, 15, 16, 17, 18, 19]\n"
       ]
      }
     ],
     "prompt_number": 24
    },
    {
     "cell_type": "markdown",
     "metadata": {},
     "source": [
      "Una caracter\u00edstica interesante de este algoritmo es que es f\u00e1cil de adaptar al caso en el que no disponemos de memoria suficiente para ordenar todos los elementos (por ejemplo, cuando los datos est\u00e1n en una base de datos).  Sin embargo se trata de un algoritmo que consume bastante memoria, porque se copian los elementos para formar las listas ordenadas.\n",
      "\n",
      "## Ordenaci\u00f3n: *Quicksort*\n",
      "\n",
      "Otra forma de aplicar la estrategia de *divide y vencer\u00e1s* es el algoritmo Quicksort de C. A. R. Hoare.  El m\u00e9todo consiste en seleccionar un elemento denominado *pivote*. Todos los elementos menores o iguales al pivote se ponen a un lado y todos los mayores o iguales se ponen a otro lado. Al acabar tenemos dos grupos de n\u00fameros que volvemos a ordenar utilizando el mismo algoritmo. Lo bueno de este algoritmo es que puede usarse *in-place* para reducir el consumo de memoria."
     ]
    },
    {
     "cell_type": "code",
     "collapsed": false,
     "input": [
      "def qsort(l):\n",
      "    qsort_segmento(l, 0, len(l))\n",
      "\n",
      "def qsort_segmento(l, primero, ultimo):\n",
      "    if ultimo - primero < 2:\n",
      "        return\n",
      "    div = clasifica(l, primero, ultimo)\n",
      "    qsort_segmento(l, primero, div)\n",
      "    qsort_segmento(l, div, ultimo)\n",
      "    \n",
      "def clasifica(l, primero, ultimo):\n",
      "    pivote = (primero + ultimo) // 2\n",
      "    l[primero], l[pivote] = l[pivote], l[primero]\n",
      "    div = primero + 1\n",
      "    for i in range(primero + 1, ultimo):\n",
      "        if l[i] <= l[primero]:\n",
      "            l[div], l[i] = l[i], l[div]\n",
      "            div += 1\n",
      "    return div"
     ],
     "language": "python",
     "metadata": {},
     "outputs": [],
     "prompt_number": 25
    },
    {
     "cell_type": "markdown",
     "metadata": {},
     "source": [
      "La parte m\u00e1s dif\u00edcil es clasificar con respecto al pivote. Nosotros seleccionamos el elemento del medio como pivote (para no perjudicar a las listas ya ordenadas). Ese elemento lo situamos como primero del segmento a ordenar y el resto lo vamos pegando a \u00e9l si es menor o igual o lo dejamos si es mayor. Puede que te preguntes por qu\u00e9 se mueve el pivote como primer elemento. Se hace para evitar casos desafortunados en que el pivote es el mayor elemento del segmento. Si no se moviera llamar\u00edamos indefinidamente a la funci\u00f3n de ordenaci\u00f3n con el mismo segmento.\n",
      "\n",
      "Solo queda probarlo."
     ]
    },
    {
     "cell_type": "code",
     "collapsed": false,
     "input": [
      "ordenados = datos[:]\n",
      "qsort(ordenados)\n",
      "print(ordenados)"
     ],
     "language": "python",
     "metadata": {},
     "outputs": [
      {
       "output_type": "stream",
       "stream": "stdout",
       "text": [
        "[0, 1, 2, 3, 4, 5, 6, 7, 8, 9, 10, 11, 12, 13, 14, 15, 16, 17, 18, 19]\n"
       ]
      }
     ],
     "prompt_number": 26
    }
   ],
   "metadata": {}
  }
 ]
}