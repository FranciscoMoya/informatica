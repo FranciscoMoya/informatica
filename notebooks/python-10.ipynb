{
 "cells": [
  {
   "cell_type": "markdown",
   "metadata": {},
   "source": [
    "# Ejemplos de divide y vencerás\n",
    "\n",
    "**Nota: Algunos de estos ejemplos son interactivos. Para probarlos necesitarás las capacidades de IPython Notebook. La forma más fácil es subirlo en [tmpnb.org](http://tmpnb.org/). veamos cómo hacerlo.**\n",
    "\n",
    "* Descarga el [archivo correspondiente a este cuaderno](https://github.com/FranciscoMoya/informatica/raw/master/notebooks/python-10.ipynb) y guárdalo en tu ordenador.\n",
    "\n",
    "* Entra en [tmpnb.org](http://tmpnb.org) y pulsa sobre el botón *Upload*. Selecciona el archivo que guardaste en el paso anterior y acepta.\n",
    "\n",
    "* Aparecerá el archivo en la página de [tmpnb.org](http://tmpnb.org) con un botón *Upload* a la derecha, pulsa sobre él para que se realice la transferencia.\n",
    "\n",
    "* Posteriormente comprueba de que el nombre del archivo termina en `.ipynb`.  Si no lo hace marca la casilla (*checkbox*) a la izquierda del archivo subido y pulsa el botón *Rename*. Edita el nombre para que termine en `.ipynb` y acepta.\n",
    "\n",
    "* Ya puedes pinchar sobre el nombre del archivo para interactuar con el cuaderno. Ahora selecciona la opción de menú *Cell->Run All* para ver ejecutar todas las celdas en el nuevo entorno."
   ]
  },
  {
   "cell_type": "markdown",
   "metadata": {},
   "source": [
    "## Torres de Hanoi\n",
    "\n",
    "Mover `n` discos desde el palo `orig` al palo `dest`. Es directo usando la estrategia de divide y vencerás.  Para mover los `n` discos tenemos que mover primero los `n-1` superiores al palo libre, entonces movemos el disco grande al palo destino y posteriormente movemos los `n-1` discos del palo libre al palo destino. "
   ]
  },
  {
   "cell_type": "code",
   "execution_count": 1,
   "metadata": {
    "collapsed": false
   },
   "outputs": [],
   "source": [
    "def hanoi(n, orig=1, dest=3):\n",
    "    '''\n",
    "    Asume n número natural (> 0), \n",
    "    orig número de palo origen, orig in (1,2,3),\n",
    "    dest número de palo destino, dest in (1,2,3).\n",
    "    Imprime los movimientos a realizar para mover n discos\n",
    "    desde el palo orig al palo dest.\n",
    "    '''\n",
    "    if n < 1:\n",
    "        return\n",
    "    libre = [x for x in (1,2,3) if not x in (orig,dest)][0]\n",
    "    hanoi(n-1, orig, libre)\n",
    "    print('De %d a %d' % (orig, dest))\n",
    "    hanoi(n-1, libre, dest)"
   ]
  },
  {
   "cell_type": "markdown",
   "metadata": {},
   "source": [
    "Solo falta probarlo:"
   ]
  },
  {
   "cell_type": "code",
   "execution_count": 2,
   "metadata": {
    "collapsed": false
   },
   "outputs": [
    {
     "name": "stdout",
     "output_type": "stream",
     "text": [
      "De 1 a 2\n",
      "De 1 a 3\n",
      "De 2 a 3\n",
      "De 1 a 2\n",
      "De 3 a 1\n",
      "De 3 a 2\n",
      "De 1 a 2\n",
      "De 1 a 3\n",
      "De 2 a 3\n",
      "De 2 a 1\n",
      "De 3 a 1\n",
      "De 2 a 3\n",
      "De 1 a 2\n",
      "De 1 a 3\n",
      "De 2 a 3\n"
     ]
    }
   ],
   "source": [
    "hanoi(4)"
   ]
  },
  {
   "cell_type": "markdown",
   "metadata": {},
   "source": [
    "Como puede verse no es muy vistoso que digamos. Sería más elegante una representación gráfica. Pero esto es algo que no debería mezclarse con la solución del problema. El error ha sido mezclar la interacción con el usuario con la solución del problema.  Vamos a arreglarlo.  El resultado de `hanoi` debe ser la secuencia de movimientos.  Cada movimiento es un par de números, el palo origen y el destino.  Por tanto el resultado debe ser una lista de tuplas de dos números.  Para concatenar dos listas podemos usar el método `extend` de las listas o la suma de listas, que también concatena."
   ]
  },
  {
   "cell_type": "code",
   "execution_count": 3,
   "metadata": {
    "collapsed": false
   },
   "outputs": [],
   "source": [
    "def hanoi(n, orig=1, dest=3):\n",
    "    '''\n",
    "    Asume n número natural (> 0), \n",
    "    orig número de palo origen, orig in (1,2,3),\n",
    "    dest número de palo destino, dest in (1,2,3).\n",
    "    Imprime los movimientos a realizar para mover n discos\n",
    "    desde el palo orig al palo dest.\n",
    "    '''\n",
    "    if n < 1:\n",
    "        return []\n",
    "    libre = [x for x in (1,2,3) if not x in (orig,dest)][0]\n",
    "    return hanoi(n-1, orig, libre) \\\n",
    "            + [(orig, dest)] \\\n",
    "            + hanoi(n-1, libre, dest)"
   ]
  },
  {
   "cell_type": "code",
   "execution_count": 4,
   "metadata": {
    "collapsed": false
   },
   "outputs": [
    {
     "name": "stdout",
     "output_type": "stream",
     "text": [
      "[(1, 2), (1, 3), (2, 3), (1, 2), (3, 1), (3, 2), (1, 2), (1, 3), (2, 3), (2, 1), (3, 1), (2, 3), (1, 2), (1, 3), (2, 3)]\n"
     ]
    }
   ],
   "source": [
    "print(hanoi(4))"
   ]
  },
  {
   "cell_type": "markdown",
   "metadata": {},
   "source": [
    "Y si queremos volver a tener la misma salida:"
   ]
  },
  {
   "cell_type": "code",
   "execution_count": 5,
   "metadata": {
    "collapsed": false
   },
   "outputs": [
    {
     "name": "stdout",
     "output_type": "stream",
     "text": [
      "De 1 a 2\n",
      "De 1 a 3\n",
      "De 2 a 3\n",
      "De 1 a 2\n",
      "De 3 a 1\n",
      "De 3 a 2\n",
      "De 1 a 2\n",
      "De 1 a 3\n",
      "De 2 a 3\n",
      "De 2 a 1\n",
      "De 3 a 1\n",
      "De 2 a 3\n",
      "De 1 a 2\n",
      "De 1 a 3\n",
      "De 2 a 3\n"
     ]
    }
   ],
   "source": [
    "for m in hanoi(4):\n",
    "    print('De %d a %d' % m)"
   ]
  },
  {
   "cell_type": "markdown",
   "metadata": {},
   "source": [
    "Lo bueno es que ahora podemos preparar otra visualización más vistosa sin tocar el algoritmo."
   ]
  },
  {
   "cell_type": "code",
   "execution_count": 6,
   "metadata": {
    "collapsed": false
   },
   "outputs": [
    {
     "ename": "ImportError",
     "evalue": "No module named 'matplotlib'",
     "output_type": "error",
     "traceback": [
      "\u001b[0;31m---------------------------------------------------------------------------\u001b[0m",
      "\u001b[0;31mImportError\u001b[0m                               Traceback (most recent call last)",
      "\u001b[0;32m<ipython-input-6-e321d4f581e4>\u001b[0m in \u001b[0;36m<module>\u001b[0;34m()\u001b[0m\n\u001b[0;32m----> 1\u001b[0;31m \u001b[0mget_ipython\u001b[0m\u001b[1;33m(\u001b[0m\u001b[1;33m)\u001b[0m\u001b[1;33m.\u001b[0m\u001b[0mmagic\u001b[0m\u001b[1;33m(\u001b[0m\u001b[1;34m'matplotlib inline'\u001b[0m\u001b[1;33m)\u001b[0m\u001b[1;33m\u001b[0m\u001b[0m\n\u001b[0m\u001b[1;32m      2\u001b[0m \u001b[1;32mfrom\u001b[0m \u001b[0mIPython\u001b[0m\u001b[1;33m.\u001b[0m\u001b[0mdisplay\u001b[0m \u001b[1;32mimport\u001b[0m \u001b[0mHTML\u001b[0m\u001b[1;33m,\u001b[0m \u001b[0mdisplay\u001b[0m\u001b[1;33m\u001b[0m\u001b[0m\n\u001b[1;32m      3\u001b[0m \u001b[1;32mfrom\u001b[0m \u001b[0mIPython\u001b[0m\u001b[1;33m.\u001b[0m\u001b[0mhtml\u001b[0m\u001b[1;33m.\u001b[0m\u001b[0mwidgets\u001b[0m\u001b[1;33m.\u001b[0m\u001b[0minteraction\u001b[0m \u001b[1;32mimport\u001b[0m \u001b[0minteract\u001b[0m\u001b[1;33m\u001b[0m\u001b[0m\n\u001b[1;32m      4\u001b[0m \u001b[1;33m\u001b[0m\u001b[0m\n\u001b[1;32m      5\u001b[0m \u001b[1;32mdef\u001b[0m \u001b[0mmostrar_torres\u001b[0m\u001b[1;33m(\u001b[0m\u001b[0mndiscos\u001b[0m\u001b[1;33m=\u001b[0m\u001b[1;36m8\u001b[0m\u001b[1;33m,\u001b[0m \u001b[0mpaso\u001b[0m\u001b[1;33m=\u001b[0m\u001b[1;36m0\u001b[0m\u001b[1;33m)\u001b[0m\u001b[1;33m:\u001b[0m\u001b[1;33m\u001b[0m\u001b[0m\n",
      "\u001b[0;32mc:\\users\\francisco.moya\\appdata\\local\\programs\\python\\python35\\lib\\site-packages\\IPython\\core\\interactiveshell.py\u001b[0m in \u001b[0;36mmagic\u001b[0;34m(self, arg_s)\u001b[0m\n\u001b[1;32m   2156\u001b[0m         \u001b[0mmagic_name\u001b[0m\u001b[1;33m,\u001b[0m \u001b[0m_\u001b[0m\u001b[1;33m,\u001b[0m \u001b[0mmagic_arg_s\u001b[0m \u001b[1;33m=\u001b[0m \u001b[0marg_s\u001b[0m\u001b[1;33m.\u001b[0m\u001b[0mpartition\u001b[0m\u001b[1;33m(\u001b[0m\u001b[1;34m' '\u001b[0m\u001b[1;33m)\u001b[0m\u001b[1;33m\u001b[0m\u001b[0m\n\u001b[1;32m   2157\u001b[0m         \u001b[0mmagic_name\u001b[0m \u001b[1;33m=\u001b[0m \u001b[0mmagic_name\u001b[0m\u001b[1;33m.\u001b[0m\u001b[0mlstrip\u001b[0m\u001b[1;33m(\u001b[0m\u001b[0mprefilter\u001b[0m\u001b[1;33m.\u001b[0m\u001b[0mESC_MAGIC\u001b[0m\u001b[1;33m)\u001b[0m\u001b[1;33m\u001b[0m\u001b[0m\n\u001b[0;32m-> 2158\u001b[0;31m         \u001b[1;32mreturn\u001b[0m \u001b[0mself\u001b[0m\u001b[1;33m.\u001b[0m\u001b[0mrun_line_magic\u001b[0m\u001b[1;33m(\u001b[0m\u001b[0mmagic_name\u001b[0m\u001b[1;33m,\u001b[0m \u001b[0mmagic_arg_s\u001b[0m\u001b[1;33m)\u001b[0m\u001b[1;33m\u001b[0m\u001b[0m\n\u001b[0m\u001b[1;32m   2159\u001b[0m \u001b[1;33m\u001b[0m\u001b[0m\n\u001b[1;32m   2160\u001b[0m     \u001b[1;31m#-------------------------------------------------------------------------\u001b[0m\u001b[1;33m\u001b[0m\u001b[1;33m\u001b[0m\u001b[0m\n",
      "\u001b[0;32mc:\\users\\francisco.moya\\appdata\\local\\programs\\python\\python35\\lib\\site-packages\\IPython\\core\\interactiveshell.py\u001b[0m in \u001b[0;36mrun_line_magic\u001b[0;34m(self, magic_name, line)\u001b[0m\n\u001b[1;32m   2077\u001b[0m                 \u001b[0mkwargs\u001b[0m\u001b[1;33m[\u001b[0m\u001b[1;34m'local_ns'\u001b[0m\u001b[1;33m]\u001b[0m \u001b[1;33m=\u001b[0m \u001b[0msys\u001b[0m\u001b[1;33m.\u001b[0m\u001b[0m_getframe\u001b[0m\u001b[1;33m(\u001b[0m\u001b[0mstack_depth\u001b[0m\u001b[1;33m)\u001b[0m\u001b[1;33m.\u001b[0m\u001b[0mf_locals\u001b[0m\u001b[1;33m\u001b[0m\u001b[0m\n\u001b[1;32m   2078\u001b[0m             \u001b[1;32mwith\u001b[0m \u001b[0mself\u001b[0m\u001b[1;33m.\u001b[0m\u001b[0mbuiltin_trap\u001b[0m\u001b[1;33m:\u001b[0m\u001b[1;33m\u001b[0m\u001b[0m\n\u001b[0;32m-> 2079\u001b[0;31m                 \u001b[0mresult\u001b[0m \u001b[1;33m=\u001b[0m \u001b[0mfn\u001b[0m\u001b[1;33m(\u001b[0m\u001b[1;33m*\u001b[0m\u001b[0margs\u001b[0m\u001b[1;33m,\u001b[0m\u001b[1;33m**\u001b[0m\u001b[0mkwargs\u001b[0m\u001b[1;33m)\u001b[0m\u001b[1;33m\u001b[0m\u001b[0m\n\u001b[0m\u001b[1;32m   2080\u001b[0m             \u001b[1;32mreturn\u001b[0m \u001b[0mresult\u001b[0m\u001b[1;33m\u001b[0m\u001b[0m\n\u001b[1;32m   2081\u001b[0m \u001b[1;33m\u001b[0m\u001b[0m\n",
      "\u001b[0;32m<decorator-gen-105>\u001b[0m in \u001b[0;36mmatplotlib\u001b[0;34m(self, line)\u001b[0m\n",
      "\u001b[0;32mc:\\users\\francisco.moya\\appdata\\local\\programs\\python\\python35\\lib\\site-packages\\IPython\\core\\magic.py\u001b[0m in \u001b[0;36m<lambda>\u001b[0;34m(f, *a, **k)\u001b[0m\n\u001b[1;32m    186\u001b[0m     \u001b[1;31m# but it's overkill for just that one bit of state.\u001b[0m\u001b[1;33m\u001b[0m\u001b[1;33m\u001b[0m\u001b[0m\n\u001b[1;32m    187\u001b[0m     \u001b[1;32mdef\u001b[0m \u001b[0mmagic_deco\u001b[0m\u001b[1;33m(\u001b[0m\u001b[0marg\u001b[0m\u001b[1;33m)\u001b[0m\u001b[1;33m:\u001b[0m\u001b[1;33m\u001b[0m\u001b[0m\n\u001b[0;32m--> 188\u001b[0;31m         \u001b[0mcall\u001b[0m \u001b[1;33m=\u001b[0m \u001b[1;32mlambda\u001b[0m \u001b[0mf\u001b[0m\u001b[1;33m,\u001b[0m \u001b[1;33m*\u001b[0m\u001b[0ma\u001b[0m\u001b[1;33m,\u001b[0m \u001b[1;33m**\u001b[0m\u001b[0mk\u001b[0m\u001b[1;33m:\u001b[0m \u001b[0mf\u001b[0m\u001b[1;33m(\u001b[0m\u001b[1;33m*\u001b[0m\u001b[0ma\u001b[0m\u001b[1;33m,\u001b[0m \u001b[1;33m**\u001b[0m\u001b[0mk\u001b[0m\u001b[1;33m)\u001b[0m\u001b[1;33m\u001b[0m\u001b[0m\n\u001b[0m\u001b[1;32m    189\u001b[0m \u001b[1;33m\u001b[0m\u001b[0m\n\u001b[1;32m    190\u001b[0m         \u001b[1;32mif\u001b[0m \u001b[0mcallable\u001b[0m\u001b[1;33m(\u001b[0m\u001b[0marg\u001b[0m\u001b[1;33m)\u001b[0m\u001b[1;33m:\u001b[0m\u001b[1;33m\u001b[0m\u001b[0m\n",
      "\u001b[0;32mc:\\users\\francisco.moya\\appdata\\local\\programs\\python\\python35\\lib\\site-packages\\IPython\\core\\magics\\pylab.py\u001b[0m in \u001b[0;36mmatplotlib\u001b[0;34m(self, line)\u001b[0m\n\u001b[1;32m     98\u001b[0m             \u001b[0mprint\u001b[0m\u001b[1;33m(\u001b[0m\u001b[1;34m\"Available matplotlib backends: %s\"\u001b[0m \u001b[1;33m%\u001b[0m \u001b[0mbackends_list\u001b[0m\u001b[1;33m)\u001b[0m\u001b[1;33m\u001b[0m\u001b[0m\n\u001b[1;32m     99\u001b[0m         \u001b[1;32melse\u001b[0m\u001b[1;33m:\u001b[0m\u001b[1;33m\u001b[0m\u001b[0m\n\u001b[0;32m--> 100\u001b[0;31m             \u001b[0mgui\u001b[0m\u001b[1;33m,\u001b[0m \u001b[0mbackend\u001b[0m \u001b[1;33m=\u001b[0m \u001b[0mself\u001b[0m\u001b[1;33m.\u001b[0m\u001b[0mshell\u001b[0m\u001b[1;33m.\u001b[0m\u001b[0menable_matplotlib\u001b[0m\u001b[1;33m(\u001b[0m\u001b[0margs\u001b[0m\u001b[1;33m.\u001b[0m\u001b[0mgui\u001b[0m\u001b[1;33m)\u001b[0m\u001b[1;33m\u001b[0m\u001b[0m\n\u001b[0m\u001b[1;32m    101\u001b[0m             \u001b[0mself\u001b[0m\u001b[1;33m.\u001b[0m\u001b[0m_show_matplotlib_backend\u001b[0m\u001b[1;33m(\u001b[0m\u001b[0margs\u001b[0m\u001b[1;33m.\u001b[0m\u001b[0mgui\u001b[0m\u001b[1;33m,\u001b[0m \u001b[0mbackend\u001b[0m\u001b[1;33m)\u001b[0m\u001b[1;33m\u001b[0m\u001b[0m\n\u001b[1;32m    102\u001b[0m \u001b[1;33m\u001b[0m\u001b[0m\n",
      "\u001b[0;32mc:\\users\\francisco.moya\\appdata\\local\\programs\\python\\python35\\lib\\site-packages\\IPython\\core\\interactiveshell.py\u001b[0m in \u001b[0;36menable_matplotlib\u001b[0;34m(self, gui)\u001b[0m\n\u001b[1;32m   2933\u001b[0m         \"\"\"\n\u001b[1;32m   2934\u001b[0m         \u001b[1;32mfrom\u001b[0m \u001b[0mIPython\u001b[0m\u001b[1;33m.\u001b[0m\u001b[0mcore\u001b[0m \u001b[1;32mimport\u001b[0m \u001b[0mpylabtools\u001b[0m \u001b[1;32mas\u001b[0m \u001b[0mpt\u001b[0m\u001b[1;33m\u001b[0m\u001b[0m\n\u001b[0;32m-> 2935\u001b[0;31m         \u001b[0mgui\u001b[0m\u001b[1;33m,\u001b[0m \u001b[0mbackend\u001b[0m \u001b[1;33m=\u001b[0m \u001b[0mpt\u001b[0m\u001b[1;33m.\u001b[0m\u001b[0mfind_gui_and_backend\u001b[0m\u001b[1;33m(\u001b[0m\u001b[0mgui\u001b[0m\u001b[1;33m,\u001b[0m \u001b[0mself\u001b[0m\u001b[1;33m.\u001b[0m\u001b[0mpylab_gui_select\u001b[0m\u001b[1;33m)\u001b[0m\u001b[1;33m\u001b[0m\u001b[0m\n\u001b[0m\u001b[1;32m   2936\u001b[0m \u001b[1;33m\u001b[0m\u001b[0m\n\u001b[1;32m   2937\u001b[0m         \u001b[1;32mif\u001b[0m \u001b[0mgui\u001b[0m \u001b[1;33m!=\u001b[0m \u001b[1;34m'inline'\u001b[0m\u001b[1;33m:\u001b[0m\u001b[1;33m\u001b[0m\u001b[0m\n",
      "\u001b[0;32mc:\\users\\francisco.moya\\appdata\\local\\programs\\python\\python35\\lib\\site-packages\\IPython\\core\\pylabtools.py\u001b[0m in \u001b[0;36mfind_gui_and_backend\u001b[0;34m(gui, gui_select)\u001b[0m\n\u001b[1;32m    257\u001b[0m     \"\"\"\n\u001b[1;32m    258\u001b[0m \u001b[1;33m\u001b[0m\u001b[0m\n\u001b[0;32m--> 259\u001b[0;31m     \u001b[1;32mimport\u001b[0m \u001b[0mmatplotlib\u001b[0m\u001b[1;33m\u001b[0m\u001b[0m\n\u001b[0m\u001b[1;32m    260\u001b[0m \u001b[1;33m\u001b[0m\u001b[0m\n\u001b[1;32m    261\u001b[0m     \u001b[1;32mif\u001b[0m \u001b[0mgui\u001b[0m \u001b[1;32mand\u001b[0m \u001b[0mgui\u001b[0m \u001b[1;33m!=\u001b[0m \u001b[1;34m'auto'\u001b[0m\u001b[1;33m:\u001b[0m\u001b[1;33m\u001b[0m\u001b[0m\n",
      "\u001b[0;31mImportError\u001b[0m: No module named 'matplotlib'"
     ]
    }
   ],
   "source": [
    "%matplotlib inline\n",
    "from IPython.display import HTML, display\n",
    "from IPython.html.widgets.interaction import interact\n",
    "\n",
    "def mostrar_torres(ndiscos=8, paso=0):\n",
    "    '''Asume ndiscos entero positivo (> 0)\n",
    "       paso entero positivo (>= 0).\n",
    "       Muestra un SVG que represemta el estado de las\n",
    "       torres en esta situación.\n",
    "    '''\n",
    "    t = [list(range(ndiscos+1,1,-1)),[],[]]\n",
    "    mov = hanoi(ndiscos)\n",
    "    for i in range(min(paso, len(mov))):\n",
    "        mover(t,mov[i])\n",
    "    display(HTML(torres(t)))\n",
    "\n",
    "def mover(t,m):\n",
    "    '''Asume t es una lista de 3 listas. Cada lista de t \n",
    "       contiene los discos del palo correspondiente. Cada\n",
    "       disco se representa con su longitud.\n",
    "       Asume m es una tupla de dos números. El palo origen\n",
    "       y el palo destino. Los palos se numeran desde 1.\n",
    "       Mueve el último disco según de t[m[0]] a t[m[1]].\n",
    "    '''\n",
    "    orig, dest = m\n",
    "    t[dest-1].append(t[orig-1].pop())\n",
    "\n",
    "def torres(ll):\n",
    "    '''Asume ll es una lista de 3 listas. Cada lista de t \n",
    "       contiene los discos del palo correspondiente. Cada\n",
    "       disco se representa con su longitud.\n",
    "       Devuelve un SVG que representa el contenido de ll.\n",
    "    '''\n",
    "    return '<svg width=\"600\" height=\"180\">%s</svg>' \\\n",
    "            % ''.join([palos(150, 6, 100)] + \\\n",
    "                      [torre(ll[i],i+1, 100) for i in range(len(ll))])\n",
    "\n",
    "def palos(x, w, h):\n",
    "    '''Asume x, w, h son enteros positivos que representan \n",
    "       respectivamente la posición en el eje x del primer palo,\n",
    "       el ancho y el alto.\n",
    "       Devuelve una cadena con los elementos graficos que \n",
    "       representan los palos y la base de las torres de Hanoi.\n",
    "    '''\n",
    "    return ''.join([rect(x-w/2, 10, w, h),\n",
    "                    rect(2*x-w/2, 10, w, h),\n",
    "                    rect(3*x-w/2, 10, w, h),\n",
    "                    rect(x/2, 10+h, 3*x, 2*w)])\n",
    "\n",
    "def rect(x,y,w,h,style='fill:lightgray'):\n",
    "    '''Asume x, y, w, h son enteros positivos que representan\n",
    "       respectivamente la posición en el eje x, en el eje y, el\n",
    "       ancho y el alto.\n",
    "       Asume style es una cadena que contiene un estilo CSS.\n",
    "       Devuelve una cadena que representa el rectángulo de estas\n",
    "       características.\n",
    "    '''\n",
    "    return '<rect x=\"%d\" y=\"%d\" width=\"%d\" height=\"%d\" style=\"%s\" />' \\\n",
    "            % (x,y,w,h,style)\n",
    "\n",
    "def torre(l, palo, h):\n",
    "    '''Asume l es una lista de enteros que corresponde a los anchos\n",
    "       de los discos de una torre desde el inferior hasta el superior.\n",
    "       Asume palo es un entero (palo in [1,2,3]).\n",
    "       Asume h entero positivo.\n",
    "       Devuelve una cadena con la representación gráfica de la torre\n",
    "       correspondiente, siendo h la altura del palo.\n",
    "    '''\n",
    "    return ''.join([disco(l[i], palo, i, h) for i in range(len(l))])\n",
    "\n",
    "def disco(ancho, palo, y, h):\n",
    "    '''Asume ancho, palo, y, h enteros positivos.\n",
    "       Asume palo in [1,2,3].\n",
    "       Devuelve una cadena con la representación gráfica de un disco de\n",
    "       ancho ancho, en el palo palo, en la posición y, siendo la altura\n",
    "       del palo h.\n",
    "    '''\n",
    "    return '''\n",
    "<rect x=\"%d\" y=\"%d\" rx=\"5\" ry=\"5\" width=\"%d\" height=\"10\"\n",
    " style=\"fill:red;stroke:black\" />''' \\\n",
    "    % (palo*150 - ancho*5, h - 10*y, ancho*10)\n",
    "\n",
    "interact(mostrar_torres, ndiscos=(4,8,1), paso=(0,256,1))"
   ]
  },
  {
   "cell_type": "markdown",
   "metadata": {},
   "source": [
    "## Ordenación: *Merge sort*\n",
    "\n",
    "Consideremos el problema de ordenar una secuencia de números."
   ]
  },
  {
   "cell_type": "code",
   "execution_count": 13,
   "metadata": {
    "collapsed": false
   },
   "outputs": [
    {
     "name": "stdout",
     "output_type": "stream",
     "text": [
      "[4, 5, 15, 8, 6, 17, 12, 0, 13, 3, 18, 10, 7, 2, 9, 1, 11, 19, 14, 16]\n"
     ]
    }
   ],
   "source": [
    "import random\n",
    "datos = list(range(20))\n",
    "random.shuffle(datos)\n",
    "print(datos)"
   ]
  },
  {
   "cell_type": "markdown",
   "metadata": {},
   "source": [
    "Podemos aplicar *divide y vencerás* de varias formas. Por ejemplo, dividimos la lista en 2, ordenamos las 2 mitades y mezclamos las dos listas ordenadas. Este algoritmo se lo debemos a John von Neumann."
   ]
  },
  {
   "cell_type": "code",
   "execution_count": 14,
   "metadata": {
    "collapsed": false
   },
   "outputs": [],
   "source": [
    "def merge_sort(l):\n",
    "    if len(l) < 2: \n",
    "        return l\n",
    "    mitad = len(l)//2\n",
    "    return merge(merge_sort(l[:mitad]),\n",
    "                 merge_sort(l[mitad:]))\n",
    "\n",
    "def merge(l1, l2):\n",
    "    i, j = 0, 0\n",
    "    l = []\n",
    "    while i < len(l1) and j < len(l2):\n",
    "        if l1[i] < l2[j]:\n",
    "            l.append(l1[i])\n",
    "            i += 1\n",
    "        else:\n",
    "            l.append(l2[j])\n",
    "            j += 1\n",
    "    return l + l1[i:] + l2[j:]"
   ]
  },
  {
   "cell_type": "markdown",
   "metadata": {},
   "source": [
    "Lo único complejo es la mezcla. La mezcla selecciona elementos de una lista o de otra dependiendo de cuál tiene el menor. Cuando una lista se acaba la mezcla debe incluir el resto de la otra. Tal vez sea más fácil de entender la función `merge` si usamos divide y vencerás para describirla."
   ]
  },
  {
   "cell_type": "code",
   "execution_count": 15,
   "metadata": {
    "collapsed": false
   },
   "outputs": [],
   "source": [
    "def merge(l1, l2):\n",
    "    if len(l1) == 0:\n",
    "        return l2\n",
    "    if len(l2) == 0:\n",
    "        return l1\n",
    "    if l1[0] < l2[0]:\n",
    "        return [l1[0]] + merge(l1[1:], l2)\n",
    "    return [l2[0]] + merge(l1, l2[1:])"
   ]
  },
  {
   "cell_type": "code",
   "execution_count": 16,
   "metadata": {
    "collapsed": false
   },
   "outputs": [
    {
     "name": "stdout",
     "output_type": "stream",
     "text": [
      "[0, 1, 2, 3, 4, 5, 6, 7, 8, 9, 10, 11, 12, 13, 14, 15, 16, 17, 18, 19]\n"
     ]
    }
   ],
   "source": [
    "print(merge_sort(datos))"
   ]
  },
  {
   "cell_type": "markdown",
   "metadata": {},
   "source": [
    "Una característica interesante de este algoritmo es que es fácil de adaptar al caso en el que no disponemos de memoria suficiente para ordenar todos los elementos (por ejemplo, cuando los datos están en una base de datos).  Sin embargo se trata de un algoritmo que consume bastante memoria, porque se copian los elementos para formar las listas ordenadas.\n",
    "\n",
    "## Ordenación: *Quicksort*\n",
    "\n",
    "Otra forma de aplicar la estrategia de *divide y vencerás* es el algoritmo Quicksort de C. A. R. Hoare.  El método consiste en seleccionar un elemento denominado *pivote*. Todos los elementos menores o iguales al pivote se ponen a un lado y todos los mayores o iguales se ponen a otro lado. Al acabar tenemos dos grupos de números que volvemos a ordenar utilizando el mismo algoritmo. Lo bueno de este algoritmo es que puede usarse *in-place* para reducir el consumo de memoria."
   ]
  },
  {
   "cell_type": "code",
   "execution_count": 17,
   "metadata": {
    "collapsed": false
   },
   "outputs": [],
   "source": [
    "def qsort(l):\n",
    "    qsort_segmento(l, 0, len(l))\n",
    "\n",
    "def qsort_segmento(l, primero, ultimo):\n",
    "    if ultimo - primero < 2:\n",
    "        return\n",
    "    div = clasifica(l, primero, ultimo)\n",
    "    qsort_segmento(l, primero, div)\n",
    "    qsort_segmento(l, div, ultimo)\n",
    "    \n",
    "def clasifica(l, primero, ultimo):\n",
    "    pivote = (primero + ultimo) // 2\n",
    "    l[primero], l[pivote] = l[pivote], l[primero]\n",
    "    div = primero + 1\n",
    "    for i in range(primero + 1, ultimo):\n",
    "        if l[i] <= l[primero]:\n",
    "            l[div], l[i] = l[i], l[div]\n",
    "            div += 1\n",
    "    return div"
   ]
  },
  {
   "cell_type": "markdown",
   "metadata": {},
   "source": [
    "La parte más difícil es clasificar con respecto al pivote. Nosotros seleccionamos el elemento del medio como pivote (para no perjudicar a las listas ya ordenadas). Ese elemento lo situamos como primero del segmento a ordenar y el resto lo vamos pegando a él si es menor o igual o lo dejamos si es mayor. Puede que te preguntes por qué se mueve el pivote como primer elemento. Se hace para evitar casos desafortunados en que el pivote es el mayor elemento del segmento. Si no se moviera llamaríamos indefinidamente a la función de ordenación con el mismo segmento.\n",
    "\n",
    "Solo queda probarlo."
   ]
  },
  {
   "cell_type": "code",
   "execution_count": 18,
   "metadata": {
    "collapsed": false
   },
   "outputs": [
    {
     "name": "stdout",
     "output_type": "stream",
     "text": [
      "[0, 1, 2, 3, 4, 5, 6, 7, 8, 9, 10, 11, 12, 13, 14, 15, 16, 17, 18, 19]\n"
     ]
    }
   ],
   "source": [
    "ordenados = datos[:]\n",
    "qsort(ordenados)\n",
    "print(ordenados)"
   ]
  }
 ],
 "metadata": {
  "kernelspec": {
   "display_name": "Python 3",
   "language": "python",
   "name": "python3"
  },
  "language_info": {
   "codemirror_mode": {
    "name": "ipython",
    "version": 3
   },
   "file_extension": ".py",
   "mimetype": "text/x-python",
   "name": "python",
   "nbconvert_exporter": "python",
   "pygments_lexer": "ipython3",
   "version": "3.5.2"
  }
 },
 "nbformat": 4,
 "nbformat_minor": 0
}
