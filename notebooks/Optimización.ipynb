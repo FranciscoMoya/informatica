{
 "cells": [
  {
   "cell_type": "markdown",
   "metadata": {},
   "source": [
    "## Enumeración exhaustiva\n"
   ]
  },
  {
   "cell_type": "code",
   "execution_count": 4,
   "metadata": {
    "collapsed": true
   },
   "outputs": [],
   "source": [
    "def prueba0():\n",
    "    nombres = ['a', 'b', 'c', 'd']\n",
    "    valores = [ 6,   7,   8,   9]\n",
    "    pesos   = [ 3,   3,   2,   5]\n",
    "    elems = list(zip(nombres, valores, pesos))\n",
    "    val, saco = mochila01(elems, 5)\n",
    "    print(saco)\n",
    "    print('Valor total =', val)\n",
    "\n",
    "def valor(e): return e[1]\n",
    "def peso(e): return e[2]"
   ]
  },
  {
   "cell_type": "code",
   "execution_count": 5,
   "metadata": {
    "collapsed": true
   },
   "outputs": [],
   "source": [
    "def mochila01(disponibles, pesoMax = 20):\n",
    "    mejorVal,mejorSaco = 0.0,None\n",
    "    for saco in genPowerset(disponibles):\n",
    "        valor,peso = valorSaco(saco),pesoSaco(saco)\n",
    "        if peso <= pesoMax and valor > mejorVal:\n",
    "            mejorVal, mejorSaco = valor, saco\n",
    "    return mejorVal, mejorSaco\n",
    "\n",
    "def valorSaco(saco):\n",
    "    return sum(valor(e) for e in saco)\n",
    "\n",
    "def pesoSaco(saco):\n",
    "    return sum(peso(e) for e in saco)\n",
    "\n",
    "def genPowerset(L):\n",
    "    return (genSubset(L,i) \\\n",
    "            for i in range(2**len(L)))\n",
    "def genSubset(L, i):\n",
    "    return [L[j] \\\n",
    "            for j in range(len(L)) \\\n",
    "            if isBitSet(i, j)]\n",
    "def isBitSet(n, bit):\n",
    "    return n & (1 << bit) != 0"
   ]
  },
  {
   "cell_type": "code",
   "execution_count": 6,
   "metadata": {
    "collapsed": false
   },
   "outputs": [
    {
     "name": "stdout",
     "output_type": "stream",
     "text": [
      "[('b', 7, 3), ('c', 8, 2)]\n",
      "Valor total = 15\n"
     ]
    }
   ],
   "source": [
    "prueba0()"
   ]
  },
  {
   "cell_type": "markdown",
   "metadata": {},
   "source": [
    "## Algoritmo voraz"
   ]
  },
  {
   "cell_type": "code",
   "execution_count": 22,
   "metadata": {
    "collapsed": true
   },
   "outputs": [],
   "source": [
    "def mochila01(disponibles, pesoMax = 20):\n",
    "    saco, valorSaco = [], 0\n",
    "    quedan = list(disponibles)\n",
    "    while True:\n",
    "        e = mejorElemento(quedan)\n",
    "        if peso(e) > pesoMax:\n",
    "            break\n",
    "        pesoMax -= peso(e)\n",
    "        valorSaco += valor(e)\n",
    "        quedan.remove(e)\n",
    "        saco.append(e)\n",
    "    return valorSaco, saco\n",
    "\n",
    "def mejorElemento(disponibles):\n",
    "    return max(disponibles, key=cost)\n",
    "\n",
    "def cost(e): return valor(e)"
   ]
  },
  {
   "cell_type": "code",
   "execution_count": 23,
   "metadata": {
    "collapsed": false
   },
   "outputs": [
    {
     "name": "stdout",
     "output_type": "stream",
     "text": [
      "[('d', 9, 5)]\n",
      "Valor total = 9\n"
     ]
    }
   ],
   "source": [
    "prueba0()"
   ]
  },
  {
   "cell_type": "code",
   "execution_count": 24,
   "metadata": {
    "collapsed": true
   },
   "outputs": [],
   "source": [
    "def cost(e): return valor(e)/peso(e)"
   ]
  },
  {
   "cell_type": "code",
   "execution_count": 25,
   "metadata": {
    "collapsed": false
   },
   "outputs": [
    {
     "name": "stdout",
     "output_type": "stream",
     "text": [
      "[('c', 8, 2), ('b', 7, 3)]\n",
      "Valor total = 15\n"
     ]
    }
   ],
   "source": [
    "prueba0()"
   ]
  },
  {
   "cell_type": "markdown",
   "metadata": {},
   "source": [
    "### Simplificando"
   ]
  },
  {
   "cell_type": "code",
   "execution_count": 26,
   "metadata": {
    "collapsed": true
   },
   "outputs": [],
   "source": [
    "from itertools import accumulate\n",
    "\n",
    "def mochila01(disponibles, pesoMax = 20):\n",
    "    quedan = sorted(disponibles, key=cost, reverse=True)\n",
    "    pesos = accumulate(peso(e) for e in quedan)\n",
    "    ultimo = [i for i,p in enumerate(pesos) if p>pesoMax][0]\n",
    "    return valorSaco(quedan[:ultimo]), quedan[:ultimo]"
   ]
  },
  {
   "cell_type": "code",
   "execution_count": 27,
   "metadata": {
    "collapsed": false
   },
   "outputs": [
    {
     "name": "stdout",
     "output_type": "stream",
     "text": [
      "[('c', 8, 2), ('b', 7, 3)]\n",
      "Valor total = 15\n"
     ]
    }
   ],
   "source": [
    "prueba0()"
   ]
  },
  {
   "cell_type": "code",
   "execution_count": null,
   "metadata": {
    "collapsed": true
   },
   "outputs": [],
   "source": []
  }
 ],
 "metadata": {
  "kernelspec": {
   "display_name": "Python 3",
   "language": "python",
   "name": "python3"
  },
  "language_info": {
   "codemirror_mode": {
    "name": "ipython",
    "version": 3
   },
   "file_extension": ".py",
   "mimetype": "text/x-python",
   "name": "python",
   "nbconvert_exporter": "python",
   "pygments_lexer": "ipython3",
   "version": "3.5.2"
  }
 },
 "nbformat": 4,
 "nbformat_minor": 1
}
