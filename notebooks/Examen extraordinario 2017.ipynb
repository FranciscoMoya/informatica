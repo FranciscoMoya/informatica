{
 "cells": [
  {
   "cell_type": "markdown",
   "metadata": {},
   "source": [
    "# Examen extraordinario\n",
    "\n",
    "## Contar líneas de código\n",
    "\n",
    "Una medida muy popular de la complejidad de un programa es contar el número de líneas del programa excluyendo los comentarios.  En este ejercicio se propone implementar la función contar_lineas que admite un único argumento que contiene el texto de un programa Python.  La función debe devolver el número de líneas del programa excluyendo las líneas en blanco y las que solo contienen comentarios.\n",
    "\n",
    "**Nota: Se recuerda que un comentario en Python comienza por el carácter `#` y que las líneas pueden identificarse por el carácter especial de nueva línea `'\\n'`.**\n",
    "\n",
    "### Ejemplo de funcionamiento\n",
    "\n",
    "``` python\n",
    ">>> contar_lineas('''\n",
    "# Kata FizzBuzz\n",
    "def fizz_buzz(a,b):\n",
    "  def fb(n):\n",
    "    # Divisible por 3 y por 5 sii divisible por 15\n",
    "    if n%15 == 0: return 'FizzBuzz'\n",
    "    if n%3 == 0: return 'Fizz'\n",
    "    if n%5 == 0: return 'Buzz'\n",
    "    return str(n) # Como cadena para join\n",
    "\n",
    "  return '\\\\n'.join(fb(i) for i in range(a,b))\n",
    "''')\n",
    "7\n",
    "```\n",
    "\n",
    "Como puede verse en el ejemplo:\n",
    "\n",
    "- Las líneas en blanco no se contabilizan.\n",
    "- Las líneas que contienen comentarios pero también sentencias sí se cuentan.\n",
    "- Las líneas de comentario pueden tener espacios en blanco antes."
   ]
  },
  {
   "cell_type": "code",
   "execution_count": 1,
   "metadata": {
    "collapsed": true
   },
   "outputs": [],
   "source": [
    "def contar_lineas(code):\n",
    "    def es_codigo(l):\n",
    "        return len(l) > 0 and not l.startswith('#')\n",
    "    \n",
    "    return len([ l for l in code.split('\\n') if es_codigo(l.strip()) ])"
   ]
  },
  {
   "cell_type": "markdown",
   "metadata": {},
   "source": [
    "## Sistemas-L libres de contexto\n",
    "\n",
    "En este ejercicio vamos a introducir una forma de fractales muy utilizados para modelar plantas y otros organismos en los juegos de ordenador.  Se trata de los sistemas de Lindenmayer.\n",
    "\n",
    "Un sistema-L es una gramática formal que incluye una serie de símbolos denominados variables, otros símbolos denominados constantes, un estado inicial (axioma) y unas reglas de transformación del estado.  Para simplificar vamos a utilizar sistemas L libres de contexto, en los que las transformaciones consisten simplemente en la sustitución de cada ocurrencia de cada variable por una secuencia de símbolos.\n",
    "\n",
    "El sistema-L aplica el conjunto de transformaciones de forma iterativa para generar un nuevo estado.  Vamos a ilustrar el procedimiento con un ejemplo:\n",
    "\n",
    "* Sean las variables `FG`, las constantes `+-`, el estado inicial `F-G-G`.\n",
    "* Sean las reglas de transformación `F → F-G+F+G-F`, `G →  GG`\n",
    "* Veamos cómo evolucionaría el sistema aplicando sucesivamente esas reglas:\n",
    "    - Iteración 0: `F-G-G`\n",
    "    - Iteración 1: `F-G+F+G-F-GG-GG`\n",
    "    - Iteración 2: `F-G+F+G-F-GG+F-G+F+G-F+GG-F-G+F+G-F-GGGG-GGGG`\n",
    "\n",
    "Define la función sistema_L(estado_inicial, reglas, iteraciones) que devuelve el estado del sistema tras el número de iteraciones indicado. El resultado y el estado_inicial son cadenas de texto, las reglas son un diccionario que hace corresponder cada símbolo variable con otra cadena de texto, y las iteraciones son un número entero positivo. Todos los símbolos que no estén en el diccionario deben asumirse constantes y se dejan como están en el resultado.\n",
    "\n",
    "### Ejemplo de funcionamiento\n",
    "\n",
    "``` python\n",
    ">>> sistema_L('F-G-G', {'F':'F-G+F+G-F', 'G':'GG'}, 3)\n",
    "'F-G+F+G-F-GG+F-G+F+G-F+GG-F-G+F+G-F-GGGG+F-G+F+G-F-GG+F-G+F+G-F+GG-F-G+F+G-F+GGGG-F-G+F+G-F-GG+F-G+F+G-F+GG-F-G+F+G-F-GGGGGGGG-GGGGGGGG'\n",
    "```"
   ]
  },
  {
   "cell_type": "code",
   "execution_count": 2,
   "metadata": {
    "collapsed": true
   },
   "outputs": [],
   "source": [
    "def sistema_L(estado, transform, n):\n",
    "    def tr(x):\n",
    "        return transform[x] if x in transform else x\n",
    "    \n",
    "    if n == 0: return estado\n",
    "    return sistema_L(''.join(tr(x) for x in estado), transform, n - 1)"
   ]
  },
  {
   "cell_type": "markdown",
   "metadata": {},
   "source": [
    "## Segmentos a dígitos\n",
    "\n",
    "Una forma popular de representar los números en sistemas digitales es mediante siete segmentos como muestra la figura:\n",
    "\n",
    "\n",
    "En este ejercicio vamos a hacer la operación contraria, interpretar un número que está dibujado siguiendo este esquema.\n",
    "\n",
    "Escribe una función leer_digito que recibe como argumento una lista de segmentos y devuelve el dígito (número entero) correspondiente a esos segmentos.\n",
    "\n",
    "Cada segmento se representa como una tupla de puntos correspondientes a los extremos. Cada punto se representa como una tupla de números enteros que corresponden a las coordenadas cartesianas (x, y).  Ambos ejes crecen según la dirección habitual en matemáticas (hacia la derecha y hacia arriba).\n",
    "\n",
    "Por ejemplo, esta lista de segmentos podría corresponder al nueve:\n",
    "\n",
    "``` python\n",
    "[((0,0),(1,0)),((1,0),(1,1)),((1,1),(0,1)),((0,1),(0,2)),((0,2),(1,2)),((1,2),(1,1))]\n",
    "```\n",
    "\n",
    "Los segmentos pueden aparecer en cualquier orden y los puntos de un segmento también pueden aparecer en cualquier orden. Por simplicidad puedes asumir que siempre tendrán longitud unidad.\n",
    "\n",
    "**Nota: Las soluciones que contemplen la posibilidad de segmentos de tamaño arbitrario tendrán un 10% de bonificación.**\n",
    "\n",
    "### Ejemplo de funcionamiento\n",
    "\n",
    "``` python\n",
    ">>> leer_digito([((4,0),(4,1)), ((4,2),(4,1))])\n",
    "1\n",
    "```\n",
    "\n",
    "Del ejemplo puede verse que los segmentos no tienen por qué tener una orientación determinada. El dígito puede estar en cualquier punto del plano. Las coordenadas siempre son números enteros.\n",
    "\n",
    "Observa además que el uno está compuesto por dos segmentos.  Aunque ambos estén alineados se representan de forma independiente."
   ]
  },
  {
   "cell_type": "code",
   "execution_count": 3,
   "metadata": {
    "collapsed": true
   },
   "outputs": [],
   "source": [
    "def leer_digito(segmentos):\n",
    "    # Los 7 segmentos suelen tener esta nomenclatura\n",
    "    # https://en.wikipedia.org/wiki/Seven-segment_display\n",
    "    a,b,c,d,e,f,g = ((0,2),(1,2)),((1,1),(1,2)),((1,0),(1,1)),((0,0),(1,0)),\\\n",
    "                    ((0,0),(0,1)),((0,1),(0,2)),((0,1),(1,1))\n",
    "\n",
    "    digitos = [\n",
    "        normalizar([a,b,c,d,e,f]),\n",
    "        normalizar([b,c]),\n",
    "        normalizar([a,b,g,e,d]),\n",
    "        normalizar([a,b,c,d,g]),\n",
    "        normalizar([f,g,b,c]),\n",
    "        normalizar([a,f,g,c,d]),\n",
    "        normalizar([a,f,e,d,c,g]),\n",
    "        normalizar([a,b,c]),\n",
    "        normalizar([a,b,c,d,e,f,g]),\n",
    "        normalizar([a,b,c,d,f,g])\n",
    "    ]\n",
    "\n",
    "    return digitos.index(normalizar(unitarios(segmentos)))\n",
    "\n",
    "\n",
    "def normalizar(segmentos):\n",
    "    ''' Asume `segmentos` lista de segmentos. Devuelve otra lista con\n",
    "        una representación canónica de los mismos segmentos\n",
    "        (ordenada y tomando origen en coord inferior izda.).'''\n",
    "    \n",
    "    o = min( x[0] for s in segmentos for x in s ), min( x[1] for s in segmentos for x in s )\n",
    "    \n",
    "    def s_ref(s):\n",
    "        return sorted(p_ref(p) for p in s)\n",
    "\n",
    "    def p_ref(p):\n",
    "        return (p[0] - o[0], p[1] - o[1])\n",
    "\n",
    "    return sorted(s_ref(s) for s in segmentos)\n",
    "\n",
    "\n",
    "def unitarios(segmentos):\n",
    "    ''' Asume `segmentos` lista de segmentos. Devuelve otra lista de\n",
    "        segmentos unitarios equivalente (mismo dígito).\n",
    "    ''' \n",
    "    xticks = sorted(set(x[0] for s in segmentos for x in s))\n",
    "    yticks = sorted(set(x[1] for s in segmentos for x in s))\n",
    "\n",
    "    def punto(x):\n",
    "        return (xticks.index(x[0]), yticks.index(x[1]))\n",
    "    \n",
    "    def segmento(s):\n",
    "        return tuple(punto(x) for x in s)\n",
    "    \n",
    "    return [segmento(s) for s in segmentos]"
   ]
  },
  {
   "cell_type": "markdown",
   "metadata": {},
   "source": [
    "# Pruebas\n",
    "\n",
    "Como en el laboratorio usaremos `unittest` para probar."
   ]
  },
  {
   "cell_type": "code",
   "execution_count": 5,
   "metadata": {
    "collapsed": false
   },
   "outputs": [],
   "source": [
    "import unittest\n",
    "from unittest import TestCase\n",
    "\n",
    "fizz_buzz = '''\n",
    "# Kata FizzBuzz\n",
    "def fizz_buzz(a,b):\n",
    "  def fb(n):\n",
    "    # Divisible por 3 y por 5 sii divisible por 15\n",
    "    if n%15 == 0: return 'FizzBuzz'\n",
    "    if n%3 == 0: return 'Fizz'\n",
    "    if n%5 == 0: return 'Buzz'\n",
    "    return str(n) # Como cadena para join\n",
    "\n",
    "  return '\\\\n'.join(fb(i) for i in range(a,b))\n",
    "'''\n",
    "\n",
    "class Test(TestCase):\n",
    "    def test_1_contar_lineas(self):\n",
    "        self.assertEqual(7, contar_lineas(fizz_buzz))\n",
    "        self.assertEqual(2, contar_lineas('a = 1\\nprint(a)\\n'))\n",
    "        self.assertEqual(2, contar_lineas('\\na = 1\\nprint(a)'))\n",
    "        self.assertEqual(2, contar_lineas('\\na = 1\\nprint(a)\\n'))\n",
    "        self.assertEqual(2, contar_lineas('\\na = 1\\n# comentario\\nprint(a)\\n   # otro'))\n",
    "        self.assertEqual(0, contar_lineas('\\n \\n '))\n",
    "    def test_2_sistema_L(self):\n",
    "        self.assertEqual('F-G+F+G-F-GG+F-G+F+G-F+GG-F-G+F+G-F-GGGG+F-G+F+G-F-GG+F-G+F+G-F+GG-F-G+F+G-F+GGGG-F-G+F+G-F-GG+F-G+F+G-F+GG-F-G+F+G-F-GGGGGGGG-GGGGGGGG',\n",
    "                         sistema_L('F-G-G', {'F':'F-G+F+G-F', 'G':'GG'}, 3))\n",
    "    def test_3_leer_digito(self):\n",
    "        a,b,c,d,e,f,g = ((0,2),(1,2)),((1,1),(1,2)),((1,0),(1,1)),((0,0),(1,0)),\\\n",
    "                    ((0,0),(0,1)),((0,1),(0,2)),((0,1),(1,1))\n",
    "        def tr(L, o):\n",
    "            def tr_seg(s):\n",
    "                return tuple( (p[0]+o[0],p[1]+o[1]) for p in s)\n",
    "            return [ tr_seg(s) for s in L ]\n",
    "        \n",
    "        self.assertEqual(1,leer_digito(tr([b,c], (4,1))))\n",
    "        self.assertEqual(2,leer_digito(tr([a,b,g,e,d], (3,4))))\n",
    "        self.assertEqual(3,leer_digito(tr([a,b,c,d,g], (2,5))))\n",
    "        self.assertEqual(0,leer_digito(tr([a,b,c,d,e,f], (1,1))))\n",
    "        \n",
    "    def test_4_leer_digito(self):\n",
    "        a,b,c,d,e,f,g = ((0,2),(1,2)),((1,1),(1,2)),((1,0),(1,1)),((0,0),(1,0)),\\\n",
    "                    ((0,0),(0,1)),((0,1),(0,2)),((0,1),(1,1))\n",
    "        def tr(L, o, sc):\n",
    "            def tr_seg(s):\n",
    "                return tuple( (p[0]*sc[0]+o[0],p[1]*sc[1]+o[1]) for p in s)\n",
    "            return [ tr_seg(s) for s in L ]\n",
    "\n",
    "        self.assertEqual(1,leer_digito(tr([b,c], (4,1), (1,2))))\n",
    "        self.assertEqual(2,leer_digito(tr([a,b,g,e,d], (3,4), (2,2))))\n",
    "        self.assertEqual(3,leer_digito(tr([a,b,c,d,g], (2,5), (2,3))))\n",
    "        self.assertEqual(0,leer_digito(tr([a,b,c,d,e,f], (1,1), (2,1))))"
   ]
  },
  {
   "cell_type": "markdown",
   "metadata": {},
   "source": [
    "Para ejecutar las pruebas en IDLE o PyCharm bastaría añadir `unittest.main()`.  En Jupyter cambia ligeramente porque no hay un archivo Python para el programa."
   ]
  },
  {
   "cell_type": "code",
   "execution_count": 6,
   "metadata": {
    "collapsed": false
   },
   "outputs": [
    {
     "name": "stderr",
     "output_type": "stream",
     "text": [
      "....\n",
      "----------------------------------------------------------------------\n",
      "Ran 4 tests in 0.016s\n",
      "\n",
      "OK\n"
     ]
    },
    {
     "data": {
      "text/plain": [
       "True"
      ]
     },
     "execution_count": 6,
     "metadata": {},
     "output_type": "execute_result"
    }
   ],
   "source": [
    "suite = unittest.TestLoader().loadTestsFromTestCase(Test)\n",
    "unittest.TextTestRunner().run(suite).wasSuccessful()"
   ]
  }
 ],
 "metadata": {
  "kernelspec": {
   "display_name": "Python 3",
   "language": "python",
   "name": "python3"
  },
  "language_info": {
   "codemirror_mode": {
    "name": "ipython",
    "version": 3
   },
   "file_extension": ".py",
   "mimetype": "text/x-python",
   "name": "python",
   "nbconvert_exporter": "python",
   "pygments_lexer": "ipython3",
   "version": "3.5.2"
  }
 },
 "nbformat": 4,
 "nbformat_minor": 1
}
