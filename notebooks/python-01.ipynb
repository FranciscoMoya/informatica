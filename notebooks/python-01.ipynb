{
 "metadata": {
  "name": "",
  "signature": "sha256:a2f3a466278db9d6203d5a84c042bad2cd755aedaf5e04b586fc584c4c79bda3"
 },
 "nbformat": 3,
 "nbformat_minor": 0,
 "worksheets": [
  {
   "cells": [
    {
     "cell_type": "heading",
     "level": 1,
     "metadata": {},
     "source": [
      "Ejemplos de las transparencias"
     ]
    },
    {
     "cell_type": "code",
     "collapsed": false,
     "input": [
      "print 'Hola, Mundo'"
     ],
     "language": "python",
     "metadata": {},
     "outputs": [
      {
       "output_type": "stream",
       "stream": "stdout",
       "text": [
        "Hola, Mundo\n"
       ]
      }
     ],
     "prompt_number": 2
    },
    {
     "cell_type": "code",
     "collapsed": false,
     "input": [
      "print 'Hola,'\n",
      "print 'Mundo'"
     ],
     "language": "python",
     "metadata": {},
     "outputs": [
      {
       "output_type": "stream",
       "stream": "stdout",
       "text": [
        "Hola,\n",
        "Mundo\n"
       ]
      }
     ],
     "prompt_number": 3
    },
    {
     "cell_type": "code",
     "collapsed": false,
     "input": [
      "print 'Hola,',\n",
      "print 'Mundo'"
     ],
     "language": "python",
     "metadata": {},
     "outputs": [
      {
       "output_type": "stream",
       "stream": "stdout",
       "text": [
        "Hola, Mundo\n"
       ]
      }
     ],
     "prompt_number": 14
    },
    {
     "cell_type": "code",
     "collapsed": false,
     "input": [
      "pers = 'Pedro'\n",
      "print 'Hola', pers"
     ],
     "language": "python",
     "metadata": {},
     "outputs": [
      {
       "output_type": "stream",
       "stream": "stdout",
       "text": [
        "Hola Pedro\n"
       ]
      }
     ],
     "prompt_number": 15
    },
    {
     "cell_type": "code",
     "collapsed": false,
     "input": [
      "n = 120\n",
      "if n > 100:\n",
      "    print 'Demasiado'"
     ],
     "language": "python",
     "metadata": {},
     "outputs": [
      {
       "output_type": "stream",
       "stream": "stdout",
       "text": [
        "Demasiado\n"
       ]
      }
     ],
     "prompt_number": 16
    },
    {
     "cell_type": "code",
     "collapsed": false,
     "input": [
      "tabla = 3\n",
      "i = 0\n",
      "while i < 10:\n",
      "    print tabla,'x',i,'=',tabla*i\n",
      "    i = i + 1"
     ],
     "language": "python",
     "metadata": {},
     "outputs": [
      {
       "output_type": "stream",
       "stream": "stdout",
       "text": [
        "3 x 0 = 0\n",
        "3 x 1 = 3\n",
        "3 x 2 = 6\n",
        "3 x 3 = 9\n",
        "3 x 4 = 12\n",
        "3 x 5 = 15\n",
        "3 x 6 = 18\n",
        "3 x 7 = 21\n",
        "3 x 8 = 24\n",
        "3 x 9 = 27\n"
       ]
      }
     ],
     "prompt_number": 17
    },
    {
     "cell_type": "code",
     "collapsed": false,
     "input": [
      "print 'i es', i"
     ],
     "language": "python",
     "metadata": {},
     "outputs": [
      {
       "output_type": "stream",
       "stream": "stdout",
       "text": [
        "i es 10\n"
       ]
      }
     ],
     "prompt_number": 18
    },
    {
     "cell_type": "markdown",
     "metadata": {},
     "source": [
      "Trabaja sobre lo visto\n",
      "======================\n",
      "\n",
      "No te quedes con los ejemplos tontos de las transparencias. Lee el libro, lee ejemplos de otros sitios, prueba t\u00fa mismo otros ejemplos, cambia los ejemplos para entenderlos plenamente.  A continuaci\u00f3n veremos m\u00e1s ejemplos para motivar vuestra propia exploraci\u00f3n del lenguaje. No te quedes solo en ellos, prueba y resuelve tus propios problemas."
     ]
    },
    {
     "cell_type": "heading",
     "level": 2,
     "metadata": {},
     "source": [
      "Ejecuci\u00f3n condicional"
     ]
    },
    {
     "cell_type": "code",
     "collapsed": false,
     "input": [
      "n = 123\n",
      "m = 187"
     ],
     "language": "python",
     "metadata": {},
     "outputs": [],
     "prompt_number": 19
    },
    {
     "cell_type": "markdown",
     "metadata": {},
     "source": [
      "Si *n* no est\u00e1 entre 5 y 10 (ambos incluidos) imprimir un mensaje de error."
     ]
    },
    {
     "cell_type": "code",
     "collapsed": false,
     "input": [
      "if n < 5 or n > 10:\n",
      "    print 'No est\u00e1 en el rango permitido'"
     ],
     "language": "python",
     "metadata": {},
     "outputs": [
      {
       "output_type": "stream",
       "stream": "stdout",
       "text": [
        "No est\u00e1 en el rango permitido\n"
       ]
      }
     ],
     "prompt_number": 20
    },
    {
     "cell_type": "markdown",
     "metadata": {},
     "source": [
      "Otra forma usando rangos. Los rangos son intervalos cerrados por la izquierda y abiertos por la derecha. "
     ]
    },
    {
     "cell_type": "code",
     "collapsed": false,
     "input": [
      "if n not in range(5,11):\n",
      "    print 'No est\u00e1 en el rango permitido'"
     ],
     "language": "python",
     "metadata": {},
     "outputs": [
      {
       "output_type": "stream",
       "stream": "stdout",
       "text": [
        "No est\u00e1 en el rango permitido\n"
       ]
      }
     ],
     "prompt_number": 21
    },
    {
     "cell_type": "markdown",
     "metadata": {},
     "source": [
      "En caso de duda basta  imprimir el rango."
     ]
    },
    {
     "cell_type": "code",
     "collapsed": false,
     "input": [
      "print range(5,11)"
     ],
     "language": "python",
     "metadata": {},
     "outputs": [
      {
       "output_type": "stream",
       "stream": "stdout",
       "text": [
        "[5, 6, 7, 8, 9, 10]\n"
       ]
      }
     ],
     "prompt_number": 22
    },
    {
     "cell_type": "markdown",
     "metadata": {},
     "source": [
      "Vamos a otro ejemplo. Si *m* es mayor que *n* restar *n* de *m*."
     ]
    },
    {
     "cell_type": "code",
     "collapsed": false,
     "input": [
      "if m > n:\n",
      "    m = m - n"
     ],
     "language": "python",
     "metadata": {},
     "outputs": [],
     "prompt_number": 23
    },
    {
     "cell_type": "markdown",
     "metadata": {},
     "source": [
      "Si n no es par multiplicar m por 10 y mostrar un mensaje de advertencia."
     ]
    },
    {
     "cell_type": "code",
     "collapsed": false,
     "input": [
      "resto = n - (n/2)*2\n",
      "if resto != 0:\n",
      "    m = m * 10\n",
      "    print 'n no es divisible por 2'"
     ],
     "language": "python",
     "metadata": {},
     "outputs": [
      {
       "output_type": "stream",
       "stream": "stdout",
       "text": [
        "n no es divisible por 2\n"
       ]
      }
     ],
     "prompt_number": 24
    },
    {
     "cell_type": "markdown",
     "metadata": {},
     "source": [
      "M\u00e1s f\u00e1cil, usando el operador % (m\u00f3dulo o resto)."
     ]
    },
    {
     "cell_type": "code",
     "collapsed": false,
     "input": [
      "if n % 2 != 0:\n",
      "    m *= 10\n",
      "    print 'n no es divisible por 2'"
     ],
     "language": "python",
     "metadata": {},
     "outputs": [
      {
       "output_type": "stream",
       "stream": "stdout",
       "text": [
        "n no es divisible por 2\n"
       ]
      }
     ],
     "prompt_number": 25
    },
    {
     "cell_type": "markdown",
     "metadata": {},
     "source": [
      "Un entero se puede utilizar como condici\u00f3n. Si su valor es 0 se evaluar\u00eda como False, si es distinto de 0 se evaluar\u00eda como True. Por tanto se puede hacer m\u00e1s corto as\u00ed:"
     ]
    },
    {
     "cell_type": "code",
     "collapsed": false,
     "input": [
      "if n % 2:\n",
      "    m *= 10\n",
      "    print 'n no es divisible por 2'"
     ],
     "language": "python",
     "metadata": {},
     "outputs": [
      {
       "output_type": "stream",
       "stream": "stdout",
       "text": [
        "n no es divisible por 2\n"
       ]
      }
     ],
     "prompt_number": 26
    },
    {
     "cell_type": "markdown",
     "metadata": {},
     "source": [
      "\u00bfCu\u00e1l de los dos n\u00fameros es m\u00e1s pr\u00f3ximo a 100?"
     ]
    },
    {
     "cell_type": "code",
     "collapsed": false,
     "input": [
      "if abs(n-100) < abs(m-100):\n",
      "    print 'n es m\u00e1s pr\u00f3ximo a 100'\n",
      "else:\n",
      "    print 'm es m\u00e1s pr\u00f3ximo a 100'"
     ],
     "language": "python",
     "metadata": {},
     "outputs": [
      {
       "output_type": "stream",
       "stream": "stdout",
       "text": [
        "n es m\u00e1s pr\u00f3ximo a 100\n"
       ]
      }
     ],
     "prompt_number": 27
    },
    {
     "cell_type": "markdown",
     "metadata": {},
     "source": [
      "O sin repetir el mensaje."
     ]
    },
    {
     "cell_type": "code",
     "collapsed": false,
     "input": [
      "if abs(n-100) < abs(m-100):\n",
      "    print 'n',\n",
      "else:\n",
      "    print 'm',\n",
      "print 'es m\u00e1s pr\u00f3ximo a 100'"
     ],
     "language": "python",
     "metadata": {},
     "outputs": [
      {
       "output_type": "stream",
       "stream": "stdout",
       "text": [
        "n es m\u00e1s pr\u00f3ximo a 100\n"
       ]
      }
     ],
     "prompt_number": 28
    },
    {
     "cell_type": "markdown",
     "metadata": {},
     "source": [
      "O m\u00e1s corto, usando el operador ternario (*valor_si_true* **if** *condici\u00f3n* **else** *valor_si_false*)"
     ]
    },
    {
     "cell_type": "code",
     "collapsed": false,
     "input": [
      "print 'n' if abs(n-100) < abs(m-100) else 'm', 'es m\u00e1s pr\u00f3ximo a 100'"
     ],
     "language": "python",
     "metadata": {},
     "outputs": [
      {
       "output_type": "stream",
       "stream": "stdout",
       "text": [
        "n es m\u00e1s pr\u00f3ximo a 100\n"
       ]
      }
     ],
     "prompt_number": 29
    },
    {
     "cell_type": "markdown",
     "metadata": {},
     "source": [
      "M\u00e1s corto significa menos c\u00f3digo que leer y depurar, pero tambi\u00e9n puede significar m\u00e1s dif\u00edcil de entender. Elige tu propio l\u00edmite entre legibilidad y longitud, pero debes ser consciente de que otros tienen l\u00edmites diferentes. Es decir, escribe como t\u00fa crees que es m\u00e1s legible, pero aprende a leer c\u00f3digo escrito con otros criterios."
     ]
    },
    {
     "cell_type": "markdown",
     "metadata": {},
     "source": [
      "Bucles\n",
      "======\n",
      "\n",
      "Volveremos a los bucles en futuras sesiones pero merece la pena detenerse un poco en ellos. A priori parece que los bucles son una forma de abreviar cuando el c\u00f3digo es muy repetitivo.\n",
      "\n",
      "Imagina que no tuvieras bucles en Python. \u00bfCrees que podr\u00edas realizar cualquier operaci\u00f3n computable? Piensa en esos c\u00e1lculos que necesitan d\u00edas o meses para realizarse. Por ejemplo, la predicci\u00f3n meteorol\u00f3gica. \u00bfPodr\u00eda hacerse con un lenguaje sin bucles?\n",
      "\n",
      "Pista. Piensa en el tiempo que tardar\u00eda en ejecutarse un programa sin bucles. \u00bfDe qu\u00e9 depende? \u00bfPuede depender de los datos? Analiza los casos de un programa lineal y un programa con bifurcaciones (sentencias **if**)."
     ]
    }
   ],
   "metadata": {}
  }
 ]
}