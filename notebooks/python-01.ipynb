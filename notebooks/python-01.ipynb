{
 "cells": [
  {
   "cell_type": "markdown",
   "metadata": {},
   "source": [
    "# Python 01. Introducción"
   ]
  },
  {
   "cell_type": "code",
   "execution_count": 1,
   "metadata": {
    "collapsed": false
   },
   "outputs": [
    {
     "name": "stdout",
     "output_type": "stream",
     "text": [
      "Hola, Mundo\n"
     ]
    }
   ],
   "source": [
    "print('Hola, Mundo')"
   ]
  },
  {
   "cell_type": "code",
   "execution_count": 2,
   "metadata": {
    "collapsed": false
   },
   "outputs": [
    {
     "name": "stdout",
     "output_type": "stream",
     "text": [
      "Hola,\n",
      "Mundo\n"
     ]
    }
   ],
   "source": [
    "print('Hola,')\n",
    "print('Mundo')"
   ]
  },
  {
   "cell_type": "code",
   "execution_count": 3,
   "metadata": {
    "collapsed": false
   },
   "outputs": [
    {
     "name": "stdout",
     "output_type": "stream",
     "text": [
      "Hola,Mundo\n"
     ]
    }
   ],
   "source": [
    "print('Hola,',end='')\n",
    "print('Mundo')"
   ]
  },
  {
   "cell_type": "code",
   "execution_count": 4,
   "metadata": {
    "collapsed": false
   },
   "outputs": [
    {
     "name": "stdout",
     "output_type": "stream",
     "text": [
      "Hola Pedro\n"
     ]
    }
   ],
   "source": [
    "pers = 'Pedro'\n",
    "print('Hola', pers)"
   ]
  },
  {
   "cell_type": "code",
   "execution_count": 5,
   "metadata": {
    "collapsed": false
   },
   "outputs": [
    {
     "name": "stdout",
     "output_type": "stream",
     "text": [
      "Demasiado\n"
     ]
    }
   ],
   "source": [
    "n = 200\n",
    "if n > 100:\n",
    "    print('Demasiado')"
   ]
  },
  {
   "cell_type": "code",
   "execution_count": 2,
   "metadata": {
    "collapsed": false
   },
   "outputs": [
    {
     "name": "stdout",
     "output_type": "stream",
     "text": [
      "3 x 0 = 0\n",
      "3 x 1 = 3\n",
      "3 x 2 = 6\n",
      "3 x 3 = 9\n",
      "3 x 4 = 12\n",
      "3 x 5 = 15\n",
      "3 x 6 = 18\n",
      "3 x 7 = 21\n",
      "3 x 8 = 24\n",
      "3 x 9 = 27\n"
     ]
    }
   ],
   "source": [
    "tabla = 3\n",
    "for i in range(10):\n",
    "    print(tabla,'x',i,'=',tabla*i)\n"
   ]
  },
  {
   "cell_type": "code",
   "execution_count": 9,
   "metadata": {
    "collapsed": false
   },
   "outputs": [
    {
     "name": "stdout",
     "output_type": "stream",
     "text": [
      "i es 10\n"
     ]
    }
   ],
   "source": [
    "print('i es', i)"
   ]
  },
  {
   "cell_type": "markdown",
   "metadata": {},
   "source": [
    "Trabaja sobre lo visto\n",
    "======================\n",
    "\n",
    "No te quedes con los ejemplos tontos de las transparencias. Lee el libro, lee ejemplos de otros sitios, prueba tú mismo otros ejemplos, cambia los ejemplos para entenderlos plenamente.  A continuación veremos más ejemplos para motivar vuestra propia exploración del lenguaje. No te quedes solo en ellos, prueba y resuelve tus propios problemas."
   ]
  },
  {
   "cell_type": "markdown",
   "metadata": {},
   "source": [
    "## Ejecución condicional"
   ]
  },
  {
   "cell_type": "code",
   "execution_count": 6,
   "metadata": {
    "collapsed": false
   },
   "outputs": [],
   "source": [
    "n = 123\n",
    "m = 187"
   ]
  },
  {
   "cell_type": "markdown",
   "metadata": {},
   "source": [
    "Si *n* no está entre 5 y 10 (ambos incluidos) imprimir un mensaje de error."
   ]
  },
  {
   "cell_type": "code",
   "execution_count": 7,
   "metadata": {
    "collapsed": false
   },
   "outputs": [
    {
     "name": "stdout",
     "output_type": "stream",
     "text": [
      "No está en el rango permitido\n"
     ]
    }
   ],
   "source": [
    "if n < 5 or n > 10:\n",
    "    print('No está en el rango permitido')"
   ]
  },
  {
   "cell_type": "markdown",
   "metadata": {},
   "source": [
    "Otra forma usando rangos. Los rangos son intervalos en $\\mathbb{N}$ cerrados por la izquierda y abiertos por la derecha. "
   ]
  },
  {
   "cell_type": "code",
   "execution_count": 8,
   "metadata": {
    "collapsed": false
   },
   "outputs": [
    {
     "name": "stdout",
     "output_type": "stream",
     "text": [
      "No está en el rango permitido\n"
     ]
    }
   ],
   "source": [
    "if n not in range(5,11):\n",
    "    print('No está en el rango permitido')"
   ]
  },
  {
   "cell_type": "markdown",
   "metadata": {},
   "source": [
    "En caso de duda basta  imprimir el rango."
   ]
  },
  {
   "cell_type": "code",
   "execution_count": 9,
   "metadata": {
    "collapsed": false
   },
   "outputs": [
    {
     "name": "stdout",
     "output_type": "stream",
     "text": [
      "range(5, 11)\n"
     ]
    }
   ],
   "source": [
    "print(range(5,11))"
   ]
  },
  {
   "cell_type": "markdown",
   "metadata": {},
   "source": [
    "Vamos a otro ejemplo. Si *m* es mayor que *n* restar *n* de *m*."
   ]
  },
  {
   "cell_type": "code",
   "execution_count": 14,
   "metadata": {
    "collapsed": false
   },
   "outputs": [],
   "source": [
    "if m > n:\n",
    "    m = m - n"
   ]
  },
  {
   "cell_type": "markdown",
   "metadata": {},
   "source": [
    "Si n no es par multiplicar m por 10 y mostrar un mensaje de advertencia."
   ]
  },
  {
   "cell_type": "code",
   "execution_count": 12,
   "metadata": {
    "collapsed": false
   },
   "outputs": [
    {
     "name": "stdout",
     "output_type": "stream",
     "text": [
      "n no es divisible por 2\n"
     ]
    }
   ],
   "source": [
    "resto = n - (n//2)*2\n",
    "if resto != 0:\n",
    "    m = m * 10\n",
    "    print('n no es divisible por 2')"
   ]
  },
  {
   "cell_type": "markdown",
   "metadata": {},
   "source": [
    "Más fácil, usando el operador % (módulo o resto)."
   ]
  },
  {
   "cell_type": "code",
   "execution_count": 10,
   "metadata": {
    "collapsed": false
   },
   "outputs": [
    {
     "name": "stdout",
     "output_type": "stream",
     "text": [
      "n no es divisible por 2\n"
     ]
    }
   ],
   "source": [
    "if n % 2 != 0:\n",
    "    m *= 10\n",
    "    print('n no es divisible por 2')"
   ]
  },
  {
   "cell_type": "markdown",
   "metadata": {},
   "source": [
    "Un entero se puede utilizar como condición. Si su valor es 0 se evaluaría como False, si es distinto de 0 se evaluaría como True. Por tanto se puede hacer más corto así:"
   ]
  },
  {
   "cell_type": "code",
   "execution_count": 17,
   "metadata": {
    "collapsed": false
   },
   "outputs": [
    {
     "name": "stdout",
     "output_type": "stream",
     "text": [
      "n no es divisible por 2\n"
     ]
    }
   ],
   "source": [
    "if n % 2:\n",
    "    m *= 10\n",
    "    print('n no es divisible por 2')"
   ]
  },
  {
   "cell_type": "markdown",
   "metadata": {},
   "source": [
    "¿Cuál de los dos números es más próximo a 100?"
   ]
  },
  {
   "cell_type": "code",
   "execution_count": 18,
   "metadata": {
    "collapsed": false
   },
   "outputs": [
    {
     "name": "stdout",
     "output_type": "stream",
     "text": [
      "n es más próximo a 100\n"
     ]
    }
   ],
   "source": [
    "if abs(n-100) < abs(m-100):\n",
    "    print('n es más próximo a 100')\n",
    "else:\n",
    "    print('m es más próximo a 100')"
   ]
  },
  {
   "cell_type": "markdown",
   "metadata": {},
   "source": [
    "O sin repetir el mensaje."
   ]
  },
  {
   "cell_type": "code",
   "execution_count": 14,
   "metadata": {
    "collapsed": false
   },
   "outputs": [
    {
     "name": "stdout",
     "output_type": "stream",
     "text": [
      "n es más próximo a 100\n"
     ]
    }
   ],
   "source": [
    "if abs(n-100) < abs(m-100):\n",
    "    print('n', end=' ')\n",
    "else:\n",
    "    print('m', end=' ')\n",
    "print('es más próximo a 100')"
   ]
  },
  {
   "cell_type": "markdown",
   "metadata": {},
   "source": [
    "O más corto, usando el operador ternario (*valor_si_true* **if** *condición* **else** *valor_si_false*)"
   ]
  },
  {
   "cell_type": "code",
   "execution_count": 15,
   "metadata": {
    "collapsed": false
   },
   "outputs": [
    {
     "name": "stdout",
     "output_type": "stream",
     "text": [
      "n es más próximo a 100\n"
     ]
    }
   ],
   "source": [
    "print('n' if abs(n-100) < abs(m-100) else 'm', 'es más próximo a 100')"
   ]
  },
  {
   "cell_type": "markdown",
   "metadata": {},
   "source": [
    "Más corto significa menos código que leer y depurar, pero también puede significar más difícil de entender. Elige tu propio límite entre legibilidad y longitud, pero debes ser consciente de que otros tienen límites diferentes. Es decir, escribe como tú crees que es más legible, pero aprende a leer código escrito con otros criterios."
   ]
  },
  {
   "cell_type": "markdown",
   "metadata": {},
   "source": [
    "Bucles\n",
    "======\n",
    "\n",
    "Volveremos a los bucles en futuras sesiones pero merece la pena detenerse un poco en ellos. A priori parece que los bucles son una forma de abreviar cuando el código es muy repetitivo.\n",
    "\n",
    "Imagina que no tuvieras bucles en Python. ¿Crees que podrías realizar cualquier operación computable? Piensa en esos cálculos que necesitan días o meses para realizarse. Por ejemplo, la predicción meteorológica. ¿Podría hacerse con un lenguaje sin bucles?\n",
    "\n",
    "Pista. Piensa en el tiempo que tardaría en ejecutarse un programa sin bucles. ¿De qué depende? ¿Puede depender de los datos? Analiza los casos de un programa lineal y un programa con bifurcaciones (sentencias **if**)."
   ]
  },
  {
   "cell_type": "markdown",
   "metadata": {},
   "source": [
    "### La tabla de multiplicar\n",
    "\n",
    "El ejemplo de bucle que hemos visto es ciertamente simple. ¿No podríamos haber resuelto el problema así?"
   ]
  },
  {
   "cell_type": "code",
   "execution_count": 16,
   "metadata": {
    "collapsed": false
   },
   "outputs": [
    {
     "name": "stdout",
     "output_type": "stream",
     "text": [
      "3 x 0 = 0\n",
      "3 x 1 = 3\n",
      "3 x 2 = 6\n",
      "3 x 3 = 9\n",
      "3 x 4 = 12\n",
      "3 x 5 = 15\n",
      "3 x 6 = 18\n",
      "3 x 7 = 21\n",
      "3 x 8 = 24\n",
      "3 x 9 = 27\n"
     ]
    }
   ],
   "source": [
    "print('3 x 0 = 0')\n",
    "print('3 x 1 = 3')\n",
    "print('3 x 2 = 6')\n",
    "print('3 x 3 = 9')\n",
    "print('3 x 4 = 12')\n",
    "print('3 x 5 = 15')\n",
    "print('3 x 6 = 18')\n",
    "print('3 x 7 = 21')\n",
    "print('3 x 8 = 24')\n",
    "print('3 x 9 = 27')"
   ]
  },
  {
   "cell_type": "markdown",
   "metadata": {},
   "source": [
    "Evidentemente es correcto pero solo resuelve un problema muy concreto. Con muy poquito esfuerzo más se pueden resolver problemas parecidos."
   ]
  },
  {
   "cell_type": "code",
   "execution_count": 17,
   "metadata": {
    "collapsed": false
   },
   "outputs": [
    {
     "name": "stdout",
     "output_type": "stream",
     "text": [
      "3 x 0 = 0\n",
      "3 x 1 = 3\n",
      "3 x 2 = 6\n",
      "3 x 3 = 9\n",
      "3 x 4 = 12\n",
      "3 x 5 = 15\n",
      "3 x 6 = 18\n",
      "3 x 7 = 21\n",
      "3 x 8 = 24\n",
      "3 x 9 = 27\n"
     ]
    }
   ],
   "source": [
    "i = 0\n",
    "while i < 10:\n",
    "    print('3 x',i,'=',3*i)\n",
    "    i = i + 1"
   ]
  },
  {
   "cell_type": "markdown",
   "metadata": {},
   "source": [
    "Ahora tenemos dos ventajas. Por un lado es mas corto y por tanto más fácil de cambiar. Por otro lado no necesitamos conocer los resultados de las expresiones. Es lo lógico, a fin de cuentas estamos usando un computador.\n",
    "\n",
    "Compara esta solución con el ejemplo visto en clase. Es ciertamente parecido, pero en el ejemplo de clase podemos cambiar la tabla simplemente cambiando el 3 asignado a **tabla**. La propiedad que permite manejar casos similares con el mismo fragmento de programa se llama **abstracción**. No es una simple comodidad, es imprescindible para poder resolver problemas complejos con un computador."
   ]
  },
  {
   "cell_type": "code",
   "execution_count": 18,
   "metadata": {
    "collapsed": false
   },
   "outputs": [
    {
     "name": "stdout",
     "output_type": "stream",
     "text": [
      "3 x 0 = 0\n",
      "3 x 1 = 3\n",
      "3 x 2 = 6\n",
      "3 x 3 = 9\n",
      "3 x 4 = 12\n",
      "3 x 5 = 15\n",
      "3 x 6 = 18\n",
      "3 x 7 = 21\n",
      "3 x 8 = 24\n",
      "3 x 9 = 27\n"
     ]
    }
   ],
   "source": [
    "tabla = 3\n",
    "i = 0\n",
    "while i < 10:\n",
    "    print(tabla,'x',i,'=',tabla*i)\n",
    "    i = i + 1"
   ]
  },
  {
   "cell_type": "markdown",
   "metadata": {},
   "source": [
    "Uno de los mecanismos más poderosos de abstracción son las funciones. Permiten poner un nombre a un fragmento de programa y además permiten definir parámetros que pueden cambiar en cada uso. Es como si definiéramos nuestro propio lenguaje. Volveremos a ellas en la próxima sesión, pero veamos cómo queda nuestro ejemplo usando una función."
   ]
  },
  {
   "cell_type": "code",
   "execution_count": 19,
   "metadata": {
    "collapsed": false
   },
   "outputs": [
    {
     "name": "stdout",
     "output_type": "stream",
     "text": [
      "3 x 0 = 0\n",
      "3 x 1 = 3\n",
      "3 x 2 = 6\n",
      "3 x 3 = 9\n",
      "3 x 4 = 12\n",
      "3 x 5 = 15\n",
      "3 x 6 = 18\n",
      "3 x 7 = 21\n",
      "3 x 8 = 24\n",
      "3 x 9 = 27\n"
     ]
    }
   ],
   "source": [
    "def imprimir_tabla_multiplicar(tabla):\n",
    "    i = 0\n",
    "    while i < 10:\n",
    "        print(tabla,'x',i,'=',tabla*i)\n",
    "        i = i + 1\n",
    "\n",
    "imprimir_tabla_multiplicar(3)"
   ]
  },
  {
   "cell_type": "markdown",
   "metadata": {},
   "source": [
    "Es posible que pienses que esta versión es la más larga, y tiene las mismas ventajas que la mostrada en las transparencias. Una ventaja de la función es que ya no es necesario copiar el texto del programa para imprimir otra tabla. Basta usar la función como si se tratara de una nueva sentencia."
   ]
  },
  {
   "cell_type": "code",
   "execution_count": 25,
   "metadata": {
    "collapsed": false
   },
   "outputs": [
    {
     "name": "stdout",
     "output_type": "stream",
     "text": [
      "5 x 0 = 0\n",
      "5 x 1 = 5\n",
      "5 x 2 = 10\n",
      "5 x 3 = 15\n",
      "5 x 4 = 20\n",
      "5 x 5 = 25\n",
      "5 x 6 = 30\n",
      "5 x 7 = 35\n",
      "5 x 8 = 40\n",
      "5 x 9 = 45\n"
     ]
    }
   ],
   "source": [
    "imprimir_tabla_multiplicar(5)"
   ]
  },
  {
   "cell_type": "markdown",
   "metadata": {},
   "source": [
    "Ya está bien por hoy, pero no creas que es la única forma de resolver el problema. En Python siempre hay más formas de escribir las cosas. Por ejemplo, ésto sería más cercano a lo que haría un programador experimentado:"
   ]
  },
  {
   "cell_type": "code",
   "execution_count": 21,
   "metadata": {
    "collapsed": false
   },
   "outputs": [
    {
     "name": "stdout",
     "output_type": "stream",
     "text": [
      "3 x 0 = 0\n",
      "3 x 1 = 3\n",
      "3 x 2 = 6\n",
      "3 x 3 = 9\n",
      "3 x 4 = 12\n",
      "3 x 5 = 15\n",
      "3 x 6 = 18\n",
      "3 x 7 = 21\n",
      "3 x 8 = 24\n",
      "3 x 9 = 27\n"
     ]
    }
   ],
   "source": [
    "def imprimir_tabla_multiplicar(tabla):\n",
    "    for i in range(10):\n",
    "        print('{} x {} = {}'.format(tabla, i, tabla*i))\n",
    "\n",
    "imprimir_tabla_multiplicar(3)"
   ]
  },
  {
   "cell_type": "markdown",
   "metadata": {},
   "source": [
    "No te preocupes si no lo entiendes ahora. Es más importante saber resolver problemas con un ordenador que conocer el lenguaje al detalle."
   ]
  },
  {
   "cell_type": "code",
   "execution_count": 26,
   "metadata": {
    "collapsed": false
   },
   "outputs": [],
   "source": []
  }
 ],
 "metadata": {
  "kernelspec": {
   "display_name": "Python 3",
   "language": "python",
   "name": "python3"
  },
  "language_info": {
   "codemirror_mode": {
    "name": "ipython",
    "version": 3
   },
   "file_extension": ".py",
   "mimetype": "text/x-python",
   "name": "python",
   "nbconvert_exporter": "python",
   "pygments_lexer": "ipython3",
   "version": "3.5.2"
  }
 },
 "nbformat": 4,
 "nbformat_minor": 0
}
