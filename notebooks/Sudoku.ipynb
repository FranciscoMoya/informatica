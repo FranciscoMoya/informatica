{
 "cells": [
  {
   "cell_type": "markdown",
   "metadata": {},
   "source": [
    "Sudoku\n",
    "======\n",
    "\n",
    "Sudoku es un rompecabezas matemático. Consiste en rellenar una cuadrícula de 9x9 con cifras de 1 a 9. Algunas de las casillas están previamente rellenas y una vez completado debe cumplir que:\n",
    "\n",
    "* Cada fila debe contener todas las cifras del 1 al 9.\n",
    "* Cada columna debe contener todas las cifras del 1 al 9.\n",
    "* Cada bloque debe contener todas las cifras del 1 al 9. Se llama bloque  a cualquiera de los 9 subcuadros de 3x3 que contiene el tablero (ver figura):\n",
    "\n",
    "![Ejemplo de Sudoku](https://upload.wikimedia.org/wikipedia/commons/1/13/Sudoku-by-L2G-20050714.gif \"Ejemplo de Sudoku\")\n",
    "\n",
    "Un Sudoku bien construido solo debe tener una solución correcta. Es decir, los números que se rellenan incialmente tienen que ser suficientes para eliminar toda posible ambigüedad.\n",
    "\n",
    "\n",
    "Comprobar Sudoku\n",
    "----------------\n",
    "\n",
    "El problema a resolver consiste en comprobar si una solución propuesta a un Sudoku determinado es correcta o no.\n",
    "\n",
    "Por tanto se limita a realizar las comprobaciones correspondientes a las tres propiedades de un Sudoku correcto."
   ]
  },
  {
   "cell_type": "code",
   "execution_count": 1,
   "metadata": {
    "collapsed": false
   },
   "outputs": [],
   "source": [
    "def comprobar_sudoku(s):\n",
    "    return comprobar_filas(s) \\\n",
    "       and comprobar_columnas(s) \\\n",
    "       and comprobar_bloques(s)"
   ]
  },
  {
   "cell_type": "markdown",
   "metadata": {},
   "source": [
    "El Sudoku lo modelaremos con una lista de 9 listas, una por cada fila. Cada lista correspondiente a una fila contiene 9 números. "
   ]
  },
  {
   "cell_type": "code",
   "execution_count": 1,
   "metadata": {
    "collapsed": false
   },
   "outputs": [],
   "source": [
    "def comprobar_filas(s):\n",
    "    for fila in s:\n",
    "        if not comprobar_lista(fila):\n",
    "            return False\n",
    "    return True"
   ]
  },
  {
   "cell_type": "markdown",
   "metadata": {},
   "source": [
    "Comprobar una fila es contar el número de ocurrencias de cada dígito. Si no es exactamente 1 es que es incorrecto. "
   ]
  },
  {
   "cell_type": "code",
   "execution_count": 3,
   "metadata": {
    "collapsed": false
   },
   "outputs": [],
   "source": [
    "def comprobar_lista(s):\n",
    "    c = [0] * 9\n",
    "    for i in s:\n",
    "        c[i - 1] += 1\n",
    "    return max(c) == 1 and min(c) == 1"
   ]
  },
  {
   "cell_type": "markdown",
   "metadata": {},
   "source": [
    "Otra forma es pasarlo a una forma canónica y comparar. Cuidado con las listas, que son mutables. Haz copias antes de modificarla.  Por ejemplo, la función `sorted` devuelve una nueva copia de la lista ordenada, lo que permite compararla muy facilmente."
   ]
  },
  {
   "cell_type": "code",
   "execution_count": 4,
   "metadata": {
    "collapsed": false
   },
   "outputs": [],
   "source": [
    "def comprobar_lista(s):\n",
    "    return sorted(s) == range(1,10)"
   ]
  },
  {
   "cell_type": "markdown",
   "metadata": {},
   "source": [
    "Comprobar cada columna puede reducirse al subproblema anterior si construimos una lista con los elementos de cada columna."
   ]
  },
  {
   "cell_type": "code",
   "execution_count": 5,
   "metadata": {
    "collapsed": false
   },
   "outputs": [],
   "source": [
    "def comprobar_columnas(s):\n",
    "    for col in columnas(s):\n",
    "        if not comprobar_lista(col):\n",
    "            return False\n",
    "    return True"
   ]
  },
  {
   "cell_type": "markdown",
   "metadata": {},
   "source": [
    "Las columnas pueden devolverse con un generador."
   ]
  },
  {
   "cell_type": "code",
   "execution_count": 2,
   "metadata": {
    "collapsed": true
   },
   "outputs": [],
   "source": [
    "def columnas(s):\n",
    "    for i in range(9):\n",
    "        yield [x[i] for x in s]"
   ]
  },
  {
   "cell_type": "markdown",
   "metadata": {},
   "source": [
    "O bien si no te resultan cómodos los generadores puedes devolver una lista."
   ]
  },
  {
   "cell_type": "code",
   "execution_count": 3,
   "metadata": {
    "collapsed": true
   },
   "outputs": [],
   "source": [
    "def columnas(s):\n",
    "    cols = []\n",
    "    for i in range(9):\n",
    "        cols.append([x[i] for x in s])\n",
    "    return cols"
   ]
  },
  {
   "cell_type": "markdown",
   "metadata": {},
   "source": [
    "Los bloques son iguales."
   ]
  },
  {
   "cell_type": "code",
   "execution_count": 6,
   "metadata": {
    "collapsed": false
   },
   "outputs": [],
   "source": [
    "def comprobar_bloques(s):\n",
    "    for bloque in bloques(s):\n",
    "        if not comprobar_lista(bloque):\n",
    "            return False\n",
    "    return True"
   ]
  },
  {
   "cell_type": "markdown",
   "metadata": {},
   "source": [
    "Generar los bloques es un poquito más complejo."
   ]
  },
  {
   "cell_type": "code",
   "execution_count": 4,
   "metadata": {
    "collapsed": false
   },
   "outputs": [],
   "source": [
    "def bloques(s):\n",
    "    for y in (0,3,6):\n",
    "        for x in (0,3,6):\n",
    "            yield sum([fila[x:x+3] for fila in s[y:y+3]], [])"
   ]
  },
  {
   "cell_type": "markdown",
   "metadata": {},
   "source": [
    "Con *list comprehensions* también es posible, ya lo vimos."
   ]
  },
  {
   "cell_type": "code",
   "execution_count": 8,
   "metadata": {
    "collapsed": false
   },
   "outputs": [],
   "source": [
    "def bloques(s):\n",
    "    for y in (0,3,6):\n",
    "        for x in (0,3,6):\n",
    "            yield [e for fila in s[y:y+3] for e in fila[x:x+3]]"
   ]
  },
  {
   "cell_type": "markdown",
   "metadata": {},
   "source": [
    "O si no te gustan los generadores, con listas."
   ]
  },
  {
   "cell_type": "code",
   "execution_count": 5,
   "metadata": {
    "collapsed": true
   },
   "outputs": [],
   "source": [
    "def bloques(s):\n",
    "    blq = []\n",
    "    for y in (0,3,6):\n",
    "        for x in (0,3,6):\n",
    "            blq.append(sum([fila[x:x+3] for fila in s[y:y+3]], []))\n",
    "    return blq"
   ]
  },
  {
   "cell_type": "markdown",
   "metadata": {},
   "source": [
    "Ya solo nos queda la lectura del Sudoku. Para ello solo hay que leer cada una de las líneas."
   ]
  },
  {
   "cell_type": "code",
   "execution_count": 6,
   "metadata": {
    "collapsed": false
   },
   "outputs": [],
   "source": [
    "def leer_sudoku():\n",
    "    s = []\n",
    "    for i in range(9):\n",
    "        s.append(leer_linea())\n",
    "    return s"
   ]
  },
  {
   "cell_type": "markdown",
   "metadata": {},
   "source": [
    "O con *list comprehensions* un poco más compacto:"
   ]
  },
  {
   "cell_type": "code",
   "execution_count": 7,
   "metadata": {
    "collapsed": false
   },
   "outputs": [],
   "source": [
    "def leer_sudoku():\n",
    "    return [ leer_linea() for i in range(9) ]"
   ]
  },
  {
   "cell_type": "markdown",
   "metadata": {},
   "source": [
    "Cada línea puede leerse como un conjunto de palabras separadas por espacio y posteriormente construir la lista generando los enteros correspondientes."
   ]
  },
  {
   "cell_type": "code",
   "execution_count": 8,
   "metadata": {
    "collapsed": false
   },
   "outputs": [],
   "source": [
    "def leer_linea():\n",
    "    s = input().strip().split(' ')\n",
    "    return [ int(i) for i in s ]"
   ]
  },
  {
   "cell_type": "markdown",
   "metadata": {},
   "source": [
    "Con todo esto ya podemos construir el programa principal."
   ]
  },
  {
   "cell_type": "code",
   "execution_count": 15,
   "metadata": {
    "collapsed": false
   },
   "outputs": [
    {
     "name": "stdout",
     "output_type": "stream",
     "text": [
      "0 1 2 3 4 5 6 7 8 9\n",
      "0 1 2 3 4 5 6 7 8 9\n",
      "0 1 2 3 4 5 6 7 8 9\n",
      "0 1 2 3 4 5 6 7 8 9\n",
      "0 1 2 3 4 5 6 7 8 9\n",
      "0 1 2 3 4 5 6 7 8 9\n",
      "0 1 2 3 4 5 6 7 8 9\n",
      "0 1 2 3 4 5 6 7 8 9\n",
      "0 1 2 3 4 5 6 7 8 9\n",
      "False\n"
     ]
    }
   ],
   "source": [
    "s = leer_sudoku()\n",
    "print(comprobar_sudoku(s))"
   ]
  },
  {
   "cell_type": "code",
   "execution_count": 12,
   "metadata": {
    "collapsed": false
   },
   "outputs": [],
   "source": []
  }
 ],
 "metadata": {
  "kernelspec": {
   "display_name": "Python 3",
   "language": "python",
   "name": "python3"
  },
  "language_info": {
   "codemirror_mode": {
    "name": "ipython",
    "version": 3
   },
   "file_extension": ".py",
   "mimetype": "text/x-python",
   "name": "python",
   "nbconvert_exporter": "python",
   "pygments_lexer": "ipython3",
   "version": "3.5.2"
  }
 },
 "nbformat": 4,
 "nbformat_minor": 0
}
