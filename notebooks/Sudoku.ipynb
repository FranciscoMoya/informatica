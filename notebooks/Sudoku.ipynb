{
 "metadata": {
  "name": "",
  "signature": "sha256:50a58c93124c33be8cd421bb7626d33d854b1a4b6c79c59e200f0d2c8442865e"
 },
 "nbformat": 3,
 "nbformat_minor": 0,
 "worksheets": [
  {
   "cells": [
    {
     "cell_type": "markdown",
     "metadata": {},
     "source": [
      "Sudoku\n",
      "======\n",
      "\n",
      "Sudoku es un rompecabezas matem\u00e1tico. Consiste en rellenar una cuadr\u00edcula de 9x9 con cifras de 1 a 9. Algunas de las casillas est\u00e1n previamente rellenas y una vez completado debe cumplir que:\n",
      "\n",
      "* Cada fila debe contener todas las cifras del 1 al 9.\n",
      "* Cada columna debe contener todas las cifras del 1 al 9.\n",
      "* Cada bloque debe contener todas las cifras del 1 al 9. Se llama bloque  a cualquiera de los 9 subcuadros de 3x3 que contiene el tablero (ver figura):\n",
      "\n",
      "![Ejemplo de Sudoku](https://upload.wikimedia.org/wikipedia/commons/1/13/Sudoku-by-L2G-20050714.gif \"Ejemplo de Sudoku\")\n",
      "\n",
      "Un Sudoku bien construido solo debe tener una soluci\u00f3n correcta. Es decir, los n\u00fameros que se rellenan incialmente tienen que ser suficientes para eliminar toda posible ambig\u00fcedad.\n",
      "\n",
      "\n",
      "Comprobar Sudoku\n",
      "----------------\n",
      "\n",
      "El problema a resolver consiste en comprobar si una soluci\u00f3n propuesta a un Sudoku determinado es correcta o no.\n",
      "\n",
      "Por tanto se limita a realizar las comprobaciones correspondientes a las tres propiedades de un Sudoku correcto."
     ]
    },
    {
     "cell_type": "code",
     "collapsed": false,
     "input": [
      "def comprobar_sudoku(s):\n",
      "    return comprobar_filas(s) \\\n",
      "       and comprobar_columnas(s) \\\n",
      "       and comprobar_bloques(s)"
     ],
     "language": "python",
     "metadata": {},
     "outputs": [],
     "prompt_number": 1
    },
    {
     "cell_type": "markdown",
     "metadata": {},
     "source": [
      "El Sudoku lo modelaremos con una lista de 9 listas, una por cada fila. Cada lista correspondiente a una fila contiene 9 n\u00fameros. "
     ]
    },
    {
     "cell_type": "code",
     "collapsed": false,
     "input": [
      "def comprobar_filas(s):\n",
      "    for i in range(9):\n",
      "        if not comprobar_lista(s[i]):\n",
      "            return False\n",
      "    return True"
     ],
     "language": "python",
     "metadata": {},
     "outputs": [],
     "prompt_number": 2
    },
    {
     "cell_type": "markdown",
     "metadata": {},
     "source": [
      "Comprobar una fila es contar el n\u00famero de ocurrencias de cada d\u00edgito. Si no es exactamente 1 es que es incorrecto. "
     ]
    },
    {
     "cell_type": "code",
     "collapsed": false,
     "input": [
      "def comprobar_lista(s):\n",
      "    c = [0] * 9\n",
      "    for i in s:\n",
      "        c[i - 1] += 1\n",
      "    return max(c) == 1 and min(c) == 1"
     ],
     "language": "python",
     "metadata": {},
     "outputs": [],
     "prompt_number": 3
    },
    {
     "cell_type": "markdown",
     "metadata": {},
     "source": [
      "Comprobar cada columna puede reducirse al subproblema anterior si construimos una lista con los elementos de cada columna."
     ]
    },
    {
     "cell_type": "code",
     "collapsed": false,
     "input": [
      "def comprobar_columnas(s):\n",
      "    for i in range(9):\n",
      "        col = [s[j][i] for j in range(9)]\n",
      "        if not comprobar_lista(col):\n",
      "            return False\n",
      "    return True"
     ],
     "language": "python",
     "metadata": {},
     "outputs": [],
     "prompt_number": 4
    },
    {
     "cell_type": "code",
     "collapsed": false,
     "input": [
      "def comprobar_bloques(s):\n",
      "    for i in range(3):\n",
      "        for j in range(3):\n",
      "            if not comprobar_bloque(s, i, j):\n",
      "                return False\n",
      "    return True"
     ],
     "language": "python",
     "metadata": {},
     "outputs": [],
     "prompt_number": 5
    },
    {
     "cell_type": "markdown",
     "metadata": {},
     "source": [
      "Igualmente la comprobaci\u00f3n de cada bloque puede reducirse al caso anterior si construimos una lista con los elementos de cada bloque."
     ]
    },
    {
     "cell_type": "code",
     "collapsed": false,
     "input": [
      "def comprobar_bloque(s, i, j):\n",
      "    l = [];\n",
      "    for x in range(3):\n",
      "        for y in range(3):\n",
      "            l.append(s[3*i+y][3*j+x])\n",
      "    return comprobar_lista(l)\n",
      "            "
     ],
     "language": "python",
     "metadata": {},
     "outputs": [],
     "prompt_number": 6
    },
    {
     "cell_type": "markdown",
     "metadata": {},
     "source": [
      "Ya solo nos queda la lectura del Sudoku. Para ello solo hay que leer cada una de las l\u00edneas."
     ]
    },
    {
     "cell_type": "code",
     "collapsed": false,
     "input": [
      "def leer_sudoku():\n",
      "    s = []\n",
      "    for i in range(9):\n",
      "        s.append(leer_linea())\n",
      "    return s"
     ],
     "language": "python",
     "metadata": {},
     "outputs": [],
     "prompt_number": 7
    },
    {
     "cell_type": "markdown",
     "metadata": {},
     "source": [
      "Cada l\u00ednea puede leerse como un conjunto de palabras separadas por espacio y posteriormente construir la lista generando los enteros correspondientes."
     ]
    },
    {
     "cell_type": "code",
     "collapsed": false,
     "input": [
      "def leer_linea():\n",
      "    s = raw_input().split(' ')\n",
      "    return [ int(i) for i in s ]"
     ],
     "language": "python",
     "metadata": {},
     "outputs": [],
     "prompt_number": 8
    },
    {
     "cell_type": "markdown",
     "metadata": {},
     "source": [
      "Con todo esto ya podemos construir el programa principal."
     ]
    },
    {
     "cell_type": "code",
     "collapsed": false,
     "input": [
      "s = leer_sudoku()\n",
      "print comprobar_sudoku(s)"
     ],
     "language": "python",
     "metadata": {},
     "outputs": [
      {
       "name": "stdout",
       "output_type": "stream",
       "stream": "stdout",
       "text": [
        "1 2 3 4 5 6 7 8 9\n"
       ]
      },
      {
       "name": "stdout",
       "output_type": "stream",
       "stream": "stdout",
       "text": [
        "1 2 3 4 5 6 7 8 9\n"
       ]
      },
      {
       "name": "stdout",
       "output_type": "stream",
       "stream": "stdout",
       "text": [
        "1 2 3 4 5 6 7 8 9\n"
       ]
      },
      {
       "name": "stdout",
       "output_type": "stream",
       "stream": "stdout",
       "text": [
        "1 2 3 4 5 6 7 8 9\n"
       ]
      },
      {
       "name": "stdout",
       "output_type": "stream",
       "stream": "stdout",
       "text": [
        "1 2 3 4 5 6 7 8 9\n"
       ]
      },
      {
       "name": "stdout",
       "output_type": "stream",
       "stream": "stdout",
       "text": [
        "1 2 3 4 5 6 7 8 9\n"
       ]
      },
      {
       "name": "stdout",
       "output_type": "stream",
       "stream": "stdout",
       "text": [
        "1 2 3 4 5 6 7 8 9\n"
       ]
      },
      {
       "name": "stdout",
       "output_type": "stream",
       "stream": "stdout",
       "text": [
        "1 2 3 4 5 6 7 8 9\n"
       ]
      },
      {
       "name": "stdout",
       "output_type": "stream",
       "stream": "stdout",
       "text": [
        "1 2 3 4 5 6 7 8 9\n"
       ]
      },
      {
       "output_type": "stream",
       "stream": "stdout",
       "text": [
        "False\n"
       ]
      }
     ],
     "prompt_number": 9
    }
   ],
   "metadata": {}
  }
 ]
}