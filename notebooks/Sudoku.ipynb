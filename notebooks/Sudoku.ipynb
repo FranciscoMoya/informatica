{
 "metadata": {
  "name": "",
  "signature": "sha256:58e29c9e52b0b617bf330512767144d6a3da9556d99a8d07d99a83f49b2d5cbb"
 },
 "nbformat": 3,
 "nbformat_minor": 0,
 "worksheets": [
  {
   "cells": [
    {
     "cell_type": "markdown",
     "metadata": {},
     "source": [
      "Sudoku\n",
      "======\n",
      "\n",
      "Sudoku es\n",
      "\n",
      "Comprobar Sudoku\n",
      "----------------"
     ]
    },
    {
     "cell_type": "code",
     "collapsed": false,
     "input": [
      "def comprobar_sudoku(s):\n",
      "    return comprobar_filas(s) \\\n",
      "       and comprobar_columnas(s) \\\n",
      "       and comprobar_bloques(s)"
     ],
     "language": "python",
     "metadata": {},
     "outputs": [],
     "prompt_number": 15
    },
    {
     "cell_type": "code",
     "collapsed": false,
     "input": [
      "def comprobar_filas(s):\n",
      "    for i in range(9):\n",
      "        if not comprobar_lista(s[i]):\n",
      "            return False\n",
      "    return True"
     ],
     "language": "python",
     "metadata": {},
     "outputs": [],
     "prompt_number": 16
    },
    {
     "cell_type": "code",
     "collapsed": false,
     "input": [
      "def comprobar_lista(s):\n",
      "    c = [ 0 for i in range(9) ]\n",
      "    for i in s:\n",
      "        c[i - 1] += 1\n",
      "    return max(c) == 1 and min(c) == 1"
     ],
     "language": "python",
     "metadata": {},
     "outputs": [],
     "prompt_number": 17
    },
    {
     "cell_type": "code",
     "collapsed": false,
     "input": [
      "def comprobar_columnas(s):\n",
      "    for i in range(9):\n",
      "        col = [s[j][i] for j in range(9)]\n",
      "        if not comprobar_lista(col):\n",
      "            return False\n",
      "    return True"
     ],
     "language": "python",
     "metadata": {},
     "outputs": [],
     "prompt_number": 18
    },
    {
     "cell_type": "code",
     "collapsed": false,
     "input": [
      "def comprobar_bloques(s):\n",
      "    for i in range(3):\n",
      "        for j in range(3):\n",
      "            if not comprobar_bloque(s, i, j):\n",
      "                return False\n",
      "    return True"
     ],
     "language": "python",
     "metadata": {},
     "outputs": [],
     "prompt_number": 19
    },
    {
     "cell_type": "code",
     "collapsed": false,
     "input": [
      "def comprobar_bloque(s, i, j):\n",
      "    l = [];\n",
      "    for x in range(3):\n",
      "        for y in range(3):\n",
      "            l.append(s[3*i+y][3*j+x])\n",
      "    return comprobar_lista(l)\n",
      "            "
     ],
     "language": "python",
     "metadata": {},
     "outputs": [],
     "prompt_number": 20
    },
    {
     "cell_type": "code",
     "collapsed": false,
     "input": [
      "def leer_sudoku():\n",
      "    s = []\n",
      "    for i in range(9):\n",
      "        s.append(leer_linea())\n",
      "    return s"
     ],
     "language": "python",
     "metadata": {},
     "outputs": [],
     "prompt_number": 21
    },
    {
     "cell_type": "code",
     "collapsed": false,
     "input": [
      "def leer_linea():\n",
      "    s = raw_input().split(' ')\n",
      "    return [ int(i) for i in s ]"
     ],
     "language": "python",
     "metadata": {},
     "outputs": [],
     "prompt_number": 22
    },
    {
     "cell_type": "code",
     "collapsed": false,
     "input": [
      "s = leer_sudoku()\n",
      "print comprobar_sudoku(s)"
     ],
     "language": "python",
     "metadata": {},
     "outputs": [
      {
       "name": "stdout",
       "output_type": "stream",
       "stream": "stdout",
       "text": [
        "1 2 3 4 5 6 7 8 9\n"
       ]
      },
      {
       "name": "stdout",
       "output_type": "stream",
       "stream": "stdout",
       "text": [
        "1 2 3 4 5 6 7 8 9\n"
       ]
      },
      {
       "name": "stdout",
       "output_type": "stream",
       "stream": "stdout",
       "text": [
        "1 2 3 4 5 6 7 8 9\n"
       ]
      },
      {
       "name": "stdout",
       "output_type": "stream",
       "stream": "stdout",
       "text": [
        "1 2 3 4 5 6 7 8 9\n"
       ]
      },
      {
       "name": "stdout",
       "output_type": "stream",
       "stream": "stdout",
       "text": [
        "1 2 3 4 5 6 7 8 9\n"
       ]
      },
      {
       "name": "stdout",
       "output_type": "stream",
       "stream": "stdout",
       "text": [
        "1 2 3 4 5 6 7 8 9\n"
       ]
      },
      {
       "name": "stdout",
       "output_type": "stream",
       "stream": "stdout",
       "text": [
        "1 2 3 4 5 6 7 8 9\n"
       ]
      },
      {
       "name": "stdout",
       "output_type": "stream",
       "stream": "stdout",
       "text": [
        "1 2 3 4 5 6 7 8 9\n"
       ]
      },
      {
       "name": "stdout",
       "output_type": "stream",
       "stream": "stdout",
       "text": [
        "1 2 3 4 5 6 7 8 9\n"
       ]
      },
      {
       "output_type": "stream",
       "stream": "stdout",
       "text": [
        "False\n"
       ]
      }
     ],
     "prompt_number": 26
    }
   ],
   "metadata": {}
  }
 ]
}