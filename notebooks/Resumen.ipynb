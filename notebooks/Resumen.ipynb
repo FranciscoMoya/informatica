{
 "metadata": {
  "name": "",
  "signature": "sha256:8a7ce86da9d2f461ec9c4b6a8c12e09c790a50e6ceb34667c625b325656a8b06"
 },
 "nbformat": 3,
 "nbformat_minor": 0,
 "worksheets": [
  {
   "cells": [
    {
     "cell_type": "markdown",
     "metadata": {},
     "source": [
      "# Resumen de m\u00e9todos computacionales\n",
      "\n",
      "A lo largo del curso hemos aprendido un buen n\u00famero de m\u00e9todos para resolver problemas con un ordenador. Veamos un peque\u00f1o resumen con ejemplos sencillos.\n",
      "\n",
      "## Conjeturar y comprobar\n",
      "\n",
      "Los m\u00e9todos de *guess and check* engloban toda una familia de m\u00e9todos, que incluyen m\u00e9todos de enumeraci\u00f3n exhaustiva, bisecci\u00f3n, algunos m\u00e9todos estoc\u00e1sticos, algoritmos gen\u00e9ticos, ...\n",
      "\n",
      "*Encontrar la raiz cuadrada de un n\u00famero natural*"
     ]
    },
    {
     "cell_type": "code",
     "collapsed": false,
     "input": [
      "def raiz_cuadrada(x):\n",
      "    g = nueva_conjetura(x)\n",
      "    while True:\n",
      "        if suficientemente_proximos(g*g, x):\n",
      "            return g\n",
      "        g = (g + x/g)/2"
     ],
     "language": "python",
     "metadata": {},
     "outputs": [],
     "prompt_number": 1
    },
    {
     "cell_type": "markdown",
     "metadata": {},
     "source": [
      "## Enumeraci\u00f3n exhaustiva\n",
      "\n",
      "La *enumeraci\u00f3n exhaustiva* o *fuerza bruta* se utiliza cuando el n\u00famero de casos a probar no es prohibitivamente alto y la evaluaci\u00f3n de cada caso es sencilla.  Por ejemplo:\n",
      "\n",
      "*Encontrar la raiz c\u00fabica de un n\u00famero natural*."
     ]
    },
    {
     "cell_type": "code",
     "collapsed": false,
     "input": [
      "def raiz_cubica(n):\n",
      "    i = 1\n",
      "    while i**3 < n:\n",
      "        i = i + 1\n",
      "    if i**3 == n:\n",
      "        return i\n",
      "    return False"
     ],
     "language": "python",
     "metadata": {},
     "outputs": [],
     "prompt_number": 1
    },
    {
     "cell_type": "code",
     "collapsed": false,
     "input": [],
     "language": "python",
     "metadata": {},
     "outputs": []
    }
   ],
   "metadata": {}
  }
 ]
}