{
 "metadata": {
  "name": "",
  "signature": "sha256:392d82f57bac70689ef39d5e765bc1f1d6d0ba4b46a9da1c3422b624e78a42ab"
 },
 "nbformat": 3,
 "nbformat_minor": 0,
 "worksheets": [
  {
   "cells": [
    {
     "cell_type": "markdown",
     "metadata": {},
     "source": [
      "# Resumen de m\u00e9todos computacionales\n",
      "\n",
      "A lo largo del curso hemos aprendido un buen n\u00famero de m\u00e9todos para resolver problemas con un ordenador. Veamos un peque\u00f1o resumen con ejemplos sencillos.\n",
      "\n",
      "## Conjeturar y comprobar\n",
      "\n",
      "Los m\u00e9todos de *guess and check* engloban toda una familia de m\u00e9todos, que incluyen m\u00e9todos de enumeraci\u00f3n exhaustiva, bisecci\u00f3n, algunos m\u00e9todos estoc\u00e1sticos, algoritmos gen\u00e9ticos, ...\n",
      "\n",
      "*Encontrar la raiz cuadrada de un n\u00famero natural*"
     ]
    },
    {
     "cell_type": "code",
     "collapsed": false,
     "input": [
      "def raiz_cuadrada(x):\n",
      "    g = nueva_conjetura(x)\n",
      "    while True:\n",
      "        if suficientemente_proximos(g*g, x):\n",
      "            return g\n",
      "        g = (g + x/g)/2"
     ],
     "language": "python",
     "metadata": {},
     "outputs": [],
     "prompt_number": 1
    },
    {
     "cell_type": "markdown",
     "metadata": {},
     "source": [
      "## Enumeraci\u00f3n exhaustiva\n",
      "\n",
      "La *enumeraci\u00f3n exhaustiva* o *fuerza bruta* se utiliza cuando el n\u00famero de casos a probar no es prohibitivamente alto y la evaluaci\u00f3n de cada caso es sencilla.  Por ejemplo:\n",
      "\n",
      "*Encontrar la raiz c\u00fabica de un n\u00famero natural*."
     ]
    },
    {
     "cell_type": "code",
     "collapsed": false,
     "input": [
      "def raiz_cubica(n):\n",
      "    i = 1\n",
      "    while i**3 < n:\n",
      "        i = i + 1\n",
      "    if i**3 == n:\n",
      "        return i\n",
      "    return False"
     ],
     "language": "python",
     "metadata": {},
     "outputs": [],
     "prompt_number": 1
    },
    {
     "cell_type": "markdown",
     "metadata": {},
     "source": [
      "## B\u00fasqueda por bisecci\u00f3n\n",
      "\n",
      "La *b\u00fasqueda por bisecci\u00f3n* se utiliza cuando las posibles soluciones est\u00e1n totalmente ordenadas y se puede determinar cu\u00e1l es la posible soluci\u00f3n que se encuentra entre dos dadas.  Por ejemplo:\n",
      "\n",
      "*Encontrar la raiz c\u00fabica de un n\u00famero real con una precisi\u00f3n dada*"
     ]
    },
    {
     "cell_type": "code",
     "collapsed": false,
     "input": [
      "def raiz_cubica(x, epsilon):\n",
      "    low = 0.0\n",
      "    high = max(1.0, x)\n",
      "    r = (high + low)/2.0\n",
      "    while abs(r**3 - x) >= epsilon:\n",
      "        if r**3 < x: low = r\n",
      "        else: high = r\n",
      "        r = (high + low)/2.0\n",
      "    return r"
     ],
     "language": "python",
     "metadata": {},
     "outputs": [],
     "prompt_number": 2
    },
    {
     "cell_type": "markdown",
     "metadata": {},
     "source": [
      "## M\u00e9todo de Newton-Raphson\n",
      "\n",
      "Para el problema particular de encontrar las raizes de un polinomio $p(x) = 0$ el m\u00e1todo de Newton Raphson establece un m\u00e9todo que converge m\u00e1s r\u00e1pidamente que la b\u00fasqueda por bisecci\u00f3n.  Se basa en esl siguiente teorema:\n",
      "\n",
      "*Sea $p(x)$ un polinomio en $x$. Sea $g$ conjetura que aproxima una raiz, es decir $p(g) \\simeq 0$. Entonces $g - p(g)/p\u2019(g)$ es mejor conjetura.*\n",
      "\n",
      "Por ejemplo:\n",
      "\n",
      "*Encontrar la raiz c\u00fabica de un n\u00famero real con una precisi\u00f3n dada*"
     ]
    },
    {
     "cell_type": "code",
     "collapsed": false,
     "input": [
      "def raiz_cubica(k, epsilon):\n",
      "    x = k/2.0\n",
      "    while abs(x**3 - k) >= epsilon:\n",
      "        x -= (x**3 - k)/(3*x**2)\n",
      "    return x"
     ],
     "language": "python",
     "metadata": {},
     "outputs": [],
     "prompt_number": 3
    },
    {
     "cell_type": "markdown",
     "metadata": {},
     "source": [
      "## Divide y vencer\u00e1s\n",
      "\n",
      "*Divide y vencer\u00e1s* es un principio general para resoluci\u00f3n de problemas que pueden ser descompuestos en problemas m\u00e1s peque\u00f1os.  Debe cumplir un requisito:\n",
      "\n",
      "* Subestructura \u00f3ptima. La soluci\u00f3n del problema puede componerse a partir de soluciones a problemas m\u00e1s peque\u00f1os\n",
      "\n",
      "Por ejemplo:\n",
      "\n",
      "*Encontrar la potencia n-sima de un n\u00famero real*"
     ]
    },
    {
     "cell_type": "code",
     "collapsed": false,
     "input": [
      "def pot(x, n):\n",
      "  if n == 1: return x\n",
      "  if n % 2 == 0:\n",
      "    y = pot(x, n/2)\n",
      "    return y*y\n",
      "  else:\n",
      "    y = pot(x, (n-1)/2)\n",
      "    return y*y*x"
     ],
     "language": "python",
     "metadata": {},
     "outputs": [],
     "prompt_number": 8
    },
    {
     "cell_type": "markdown",
     "metadata": {},
     "source": [
      "## Programaci\u00f3n din\u00e1mica\n",
      "\n",
      "Cuando la soluci\u00f3n a un problema exige rehacer repetidamente los mismos c\u00e1lculos es posible reducir el trabajo aplicando *memoization* (guardando los valores ya calculados).  Deben cumplirse dos requisitos:\n",
      "\n",
      "* Subestructura \u00f3ptima. La soluci\u00f3n del problema puede componerse a partir de las soluciones a problemas m\u00e1s peque\u00f1os\n",
      "* Subproblemas solapados. Los problemas m\u00e1s peque\u00f1os son frecuentemente repetidos.\n",
      "\n",
      "Por ejemplo:\n",
      "\n",
      "*Calcular el t\u00e9rmino n-simo de la sucesi\u00f3n de Fibonacci*"
     ]
    },
    {
     "cell_type": "code",
     "collapsed": false,
     "input": [
      "def fib(n, mem = {}):\n",
      "    if n == 0 or n == 1:\n",
      "        return 1\n",
      "    try:\n",
      "        return mem[n]\n",
      "    except KeyError:\n",
      "        res = fib(n-1, mem) + fib(n-2, mem)\n",
      "        mem[n] = res\n",
      "        return res"
     ],
     "language": "python",
     "metadata": {},
     "outputs": [],
     "prompt_number": 9
    },
    {
     "cell_type": "markdown",
     "metadata": {},
     "source": [
      "## Poda del espacio de b\u00fasqueda\n",
      "\n",
      "En algunos casos la b\u00fasqueda exhaustiva no es posible por existir un n\u00famero excesivo de posibles soluciones."
     ]
    }
   ],
   "metadata": {}
  }
 ]
}