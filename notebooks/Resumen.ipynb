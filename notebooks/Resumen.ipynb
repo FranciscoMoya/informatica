{
 "cells": [
  {
   "cell_type": "markdown",
   "metadata": {},
   "source": [
    "# Resumen de métodos computacionales\n",
    "\n",
    "A lo largo del curso hemos aprendido un buen número de métodos para resolver problemas con un ordenador. Veamos un pequeño resumen con ejemplos sencillos.\n",
    "\n",
    "## Conjeturar y comprobar\n",
    "\n",
    "Los métodos de *guess and check* engloban toda una familia de métodos, que incluyen métodos de enumeración exhaustiva, bisección, algunos métodos estocásticos, algoritmos genéticos, ...\n",
    "\n",
    "*Encontrar la raiz cuadrada de un número natural*"
   ]
  },
  {
   "cell_type": "code",
   "execution_count": null,
   "metadata": {
    "collapsed": true
   },
   "outputs": [],
   "source": [
    "def raiz_cuadrada(x):\n",
    "    g = primera_conjetura(x)\n",
    "    while True:\n",
    "        if suficientemente_proximos(g*g, x):\n",
    "            return g\n",
    "        g = nueva_conjetura(x,g)"
   ]
  },
  {
   "cell_type": "code",
   "execution_count": 1,
   "metadata": {
    "collapsed": false
   },
   "outputs": [],
   "source": [
    "(g + x/g)/2"
   ]
  },
  {
   "cell_type": "markdown",
   "metadata": {},
   "source": [
    "## Enumeración exhaustiva\n",
    "\n",
    "La *enumeración exhaustiva* o *fuerza bruta* se utiliza cuando el número de casos a probar no es prohibitivamente alto y la evaluación de cada caso es sencilla.  Por ejemplo:\n",
    "\n",
    "*Encontrar la raiz cúbica de un número natural*."
   ]
  },
  {
   "cell_type": "code",
   "execution_count": 1,
   "metadata": {
    "collapsed": false
   },
   "outputs": [],
   "source": [
    "def raiz_cubica(n):\n",
    "    i = 1\n",
    "    while i**3 < n:\n",
    "        i = i + 1\n",
    "    if i**3 == n:\n",
    "        return i\n",
    "    return False"
   ]
  },
  {
   "cell_type": "markdown",
   "metadata": {},
   "source": [
    "## Búsqueda por bisección\n",
    "\n",
    "La *búsqueda por bisección* se utiliza cuando las posibles soluciones están totalmente ordenadas y se puede determinar cuál es la posible solución que se encuentra entre dos dadas.  Por ejemplo:\n",
    "\n",
    "*Encontrar la raiz cúbica de un número real con una precisión dada*"
   ]
  },
  {
   "cell_type": "code",
   "execution_count": 2,
   "metadata": {
    "collapsed": false
   },
   "outputs": [],
   "source": [
    "def raiz_cubica(x, epsilon):\n",
    "    low = 0.0\n",
    "    high = max(1.0, x)\n",
    "    r = (high + low)/2.0\n",
    "    while abs(r**3 - x) >= epsilon:\n",
    "        if r**3 < x: low = r\n",
    "        else: high = r\n",
    "        r = (high + low)/2.0\n",
    "    return r"
   ]
  },
  {
   "cell_type": "markdown",
   "metadata": {},
   "source": [
    "## Método de Newton-Raphson\n",
    "\n",
    "Para el problema particular de encontrar las raizes de un polinomio $p(x) = 0$ el mátodo de Newton Raphson establece un método que converge más rápidamente que la búsqueda por bisección.  Se basa en esl siguiente teorema:\n",
    "\n",
    "*Sea $p(x)$ un polinomio en $x$. Sea $g$ conjetura que aproxima una raiz, es decir $p(g) \\simeq 0$. Entonces $g - p(g)/p’(g)$ es mejor conjetura.*\n",
    "\n",
    "Por ejemplo:\n",
    "\n",
    "*Encontrar la raiz cúbica de un número real con una precisión dada*"
   ]
  },
  {
   "cell_type": "code",
   "execution_count": 1,
   "metadata": {
    "collapsed": false
   },
   "outputs": [],
   "source": [
    "def raiz_cubica(k, epsilon):\n",
    "    x = k/2.0\n",
    "    while abs(x**3 - k) >= epsilon:\n",
    "        x -= (x**3 - k)/(3*x**2)\n",
    "    return x"
   ]
  },
  {
   "cell_type": "markdown",
   "metadata": {},
   "source": [
    "## Divide y vencerás\n",
    "\n",
    "*Divide y vencerás* es un principio general para resolución de problemas que pueden ser descompuestos en problemas más pequeños.  Debe cumplir un requisito:\n",
    "\n",
    "* Subestructura óptima. La solución del problema puede componerse a partir de soluciones a problemas más pequeños\n",
    "\n",
    "Por ejemplo:\n",
    "\n",
    "*Encontrar la potencia n-sima de un número real*"
   ]
  },
  {
   "cell_type": "code",
   "execution_count": 8,
   "metadata": {
    "collapsed": false
   },
   "outputs": [],
   "source": [
    "def pot(x, n):\n",
    "  if n == 1: return x\n",
    "  if n % 2 == 0:\n",
    "    y = pot(x, n//2)\n",
    "    return y*y\n",
    "  else:\n",
    "    y = pot(x, (n-1)//2)\n",
    "    return y*y*x"
   ]
  },
  {
   "cell_type": "markdown",
   "metadata": {},
   "source": [
    "## Programación dinámica\n",
    "\n",
    "Cuando la solución a un problema exige rehacer repetidamente los mismos cálculos es posible reducir el trabajo aplicando *memoization* (guardando los valores ya calculados).  Deben cumplirse dos requisitos:\n",
    "\n",
    "* Subestructura óptima. La solución del problema puede componerse a partir de las soluciones a problemas más pequeños\n",
    "* Subproblemas solapados. Los problemas más pequeños son frecuentemente repetidos.\n",
    "\n",
    "Por ejemplo:\n",
    "\n",
    "*Calcular el término n-simo de la sucesión de Fibonacci*"
   ]
  },
  {
   "cell_type": "code",
   "execution_count": 9,
   "metadata": {
    "collapsed": false
   },
   "outputs": [],
   "source": [
    "def fib(n, mem = {}):\n",
    "    if n == 0 or n == 1:\n",
    "        return 1\n",
    "    try:\n",
    "        return mem[n]\n",
    "    except KeyError:\n",
    "        res = fib(n-1, mem) + fib(n-2, mem)\n",
    "        mem[n] = res\n",
    "        return res"
   ]
  },
  {
   "cell_type": "markdown",
   "metadata": {},
   "source": [
    "## Poda del espacio de búsqueda\n",
    "\n",
    "En algunos casos la búsqueda exhaustiva no es posible por existir un número excesivo de posibles soluciones.  En esos casos pueden utilizarse técnicas que reducen el espacio de búsqueda.\n",
    "\n",
    "Una técnica muy efectiva es la *propagación de restricciones*. Se trata de determinar restricciones de la solución final y propagarlas en los subproblemas para obtener nuevas restricciones en la solución final. Por ejemplo, en la solución al Sudoku:"
   ]
  },
  {
   "cell_type": "code",
   "execution_count": 11,
   "metadata": {
    "collapsed": false
   },
   "outputs": [],
   "source": [
    "class Restricciones(object):\n",
    "    def _filtrar(self):\n",
    "        while self._nuevos_fijos:\n",
    "            self._nuevos_fijos = False\n",
    "            self._filtrarFilas()\n",
    "            self._filtrarColumnas()\n",
    "            self._filtrarBloques()\n",
    "    #..."
   ]
  },
  {
   "cell_type": "code",
   "execution_count": null,
   "metadata": {
    "collapsed": false
   },
   "outputs": [],
   "source": []
  }
 ],
 "metadata": {
  "kernelspec": {
   "display_name": "Python 3",
   "language": "python",
   "name": "python3"
  },
  "language_info": {
   "codemirror_mode": {
    "name": "ipython",
    "version": 3
   },
   "file_extension": ".py",
   "mimetype": "text/x-python",
   "name": "python",
   "nbconvert_exporter": "python",
   "pygments_lexer": "ipython3",
   "version": "3.5.2+"
  }
 },
 "nbformat": 4,
 "nbformat_minor": 0
}
