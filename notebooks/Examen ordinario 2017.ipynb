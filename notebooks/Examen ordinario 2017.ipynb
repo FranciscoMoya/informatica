{
 "cells": [
  {
   "cell_type": "markdown",
   "metadata": {},
   "source": [
    "# Examen ordinario 2017\n",
    "\n",
    "## Producto escalar y producto vectorial\n",
    "\n",
    "*Define una función `escalar` y otra función `vectorial` que implementan el producto escalar y vectorial de dos vectores respectivamente.*\n",
    "\n",
    "*Cada vector se representa como una tupla de tres coordenadas cartesianas.*"
   ]
  },
  {
   "cell_type": "code",
   "execution_count": 1,
   "metadata": {
    "collapsed": true
   },
   "outputs": [],
   "source": [
    "def escalar(a,b):\n",
    "    return sum(ai*bi for ai,bi in zip(a,b))\n",
    "\n",
    "def vectorial(a,b):\n",
    "    return (a[1]*b[2]-a[2]*b[1],\n",
    "            a[2]*b[0]-a[0]*b[2],\n",
    "            a[0]*b[1]-a[1]*b[0])"
   ]
  },
  {
   "cell_type": "markdown",
   "metadata": {},
   "source": [
    "He visto intentos de evitar errores utilizando programación dirigida por datos para el producto vectorial.  Creo que en este caso es suficientemente sencillo y estable como para que no se necesite. Si lo consideras necesario podría ser así:"
   ]
  },
  {
   "cell_type": "code",
   "execution_count": 2,
   "metadata": {
    "collapsed": true
   },
   "outputs": [],
   "source": [
    "def vectorial(a,b):\n",
    "    return tuple(a[i]*b[j]-a[j]*b[i] for i,j in ((1,2),(2,0),(0,1)))"
   ]
  },
  {
   "cell_type": "markdown",
   "metadata": {},
   "source": [
    "## Triángulo de Pascal\n",
    "\n",
    "*El triángulo de Pascal es un triángulo de números que se construye de la siguiente manera.  Empieza con un 1 en la fila superior.  Cada fila posterior se construye a partir de la inmediata superior, donde el primer y el último número de cada fila son iguales que el primer y último número de la anterior, y cada número entre ellos es la suma de los dos a la izquierda y a la derecha en la fila inmediatamente superior.  La fila enésima tiene n números.  Tiene la siguiente pinta:*\n",
    "\n",
    "```\n",
    "      1\n",
    "     1 1\n",
    "    1 2 1\n",
    "   1 3 3 1\n",
    "  1 4 6 4 1\n",
    "1 5 10 10 5 1\n",
    "```\n",
    "\n",
    "*Define la función `triangulo_pascal` que imprime por salida estándar un triángulo de Pascal con el número de líneas que se indica en su único argumento.*\n",
    "\n",
    "**Nota: El triángulo debe imprimirse siguiendo escrupulosamente la salida del ejemplo. Los espacios son parte esencial del problema. Nota que los números están separados por un espacio y las líneas están centradas respecto a la de mayor tamaño.**"
   ]
  },
  {
   "cell_type": "markdown",
   "metadata": {},
   "source": [
    "Como siempre utilizamos una estrategia top-down. Asumimos que los números están calculados y los imprimimos como dice el enunciado.  En esta solución aprovecha el [método `format`](https://docs.python.org/3/library/stdtypes.html#str.format) de las cadenas. La expresión `'{:^30}'.format(s)` es una cadena de 30 caracteres que contiene la cadena `s` centrada y todos los demás caracteres como espacios.  En este caso el ancho de la cadena es el ancho de la última fila, por lo que habrá que calcularlo. "
   ]
  },
  {
   "cell_type": "code",
   "execution_count": 3,
   "metadata": {
    "collapsed": true
   },
   "outputs": [],
   "source": [
    "def triangulo_pascal(n):\n",
    "    L = [' '.join([str(i) for i in x]) for x in pascal(n)]\n",
    "    for s in L:\n",
    "        print(('{:^'+str(len(L[-1]))+'}').format(s))"
   ]
  },
  {
   "cell_type": "markdown",
   "metadata": {},
   "source": [
    "Por supuesto, también se puede hacer escribiendo los espacios a mano."
   ]
  },
  {
   "cell_type": "code",
   "execution_count": 4,
   "metadata": {
    "collapsed": false
   },
   "outputs": [],
   "source": [
    "def triangulo_pascal(n):\n",
    "    L = [' '.join([str(i) for i in x]) for x in pascal(n)]\n",
    "    for s in L:\n",
    "        espacios = (len(L[-1])-len(s))//2 \n",
    "        print(' '*espacios + s)"
   ]
  },
  {
   "cell_type": "markdown",
   "metadata": {},
   "source": [
    "Ya solo queda calcular los números correspondientes a cada línea."
   ]
  },
  {
   "cell_type": "code",
   "execution_count": 5,
   "metadata": {
    "collapsed": true
   },
   "outputs": [],
   "source": [
    "def pascal(n):\n",
    "    if n == 1: return [[1]]\n",
    "    L = pascal(n-1)\n",
    "    return L + [linea_siguiente(L[-1])]\n",
    "\n",
    "def linea_siguiente(L):\n",
    "    return [a+b for a,b in zip(L+[0], [0]+L)]"
   ]
  },
  {
   "cell_type": "markdown",
   "metadata": {},
   "source": [
    "Es todavía mas simple usar un generador para producir los números."
   ]
  },
  {
   "cell_type": "code",
   "execution_count": 6,
   "metadata": {
    "collapsed": true
   },
   "outputs": [],
   "source": [
    "def pascal(n):\n",
    "    L = [1]\n",
    "    for i in range(n):\n",
    "        yield L\n",
    "        L = linea_siguiente(L)"
   ]
  },
  {
   "cell_type": "code",
   "execution_count": 7,
   "metadata": {
    "collapsed": false
   },
   "outputs": [
    {
     "name": "stdout",
     "output_type": "stream",
     "text": [
      "      1\n",
      "     1 1\n",
      "    1 2 1\n",
      "   1 3 3 1\n",
      "  1 4 6 4 1\n",
      "1 5 10 10 5 1\n"
     ]
    }
   ],
   "source": [
    "triangulo_pascal(6)"
   ]
  },
  {
   "cell_type": "markdown",
   "metadata": {},
   "source": [
    "## Date un paseo de 10 minutos\n",
    "\n",
    "*Vives en la ciudad de Cartesia donde todas las calles están formando una cuadrícula perfecta. Llegas con diez minutos de adelanto a una cita y decides aprovechar la oportunidad para dar un corto paseo. La ciudad proporciona a sus ciudadanos una App para generar paseos de forma automática en sus teléfonos. Cada vez que se pulsa un botón recibes una cadenas donde cada letra representa la dirección a tomar en cada manzana o bloque (e.g. 'nswe'). Sabes que se tarda un minuto en recorrer el ancho de una manzana, así que crea una función `valida_ruta` que reciba como argumento la cadena generada por la App y devuelva True si el paseo de la App tomará exactamente diez minutos (¡no quieres llegar tarde ni demasiado pronto!) y además el paseo termina en el punto de inicio. Devuelve False en caso contrario.*\n",
    "\n",
    "**Nota: Siempre recibirás una cadena válida que contiene una colección aleatoria de letras (solamente 'n', 's', 'e', o 'w' que corresponden a norte, sur, este y oeste respectivamente). Nunca se proporcionará una lista vacía (¡eso no sería un paseo, sería permanecer de pie!).**"
   ]
  },
  {
   "cell_type": "markdown",
   "metadata": {},
   "source": [
    "Es desolador comprobar que muy pocos alumnos habían hecho este ejercicio con antelación.  Es uno de los ejercicios incluídos en el cuaderno [Ejercicios similares al exámen](https://github.com/FranciscoMoya/informatica/blob/master/notebooks/ejercicios2.ipynb). Si ni siquiera se han hecho estos ejercicios es completamente normal que los resultados no sean buenos. Para mi esto es un signo de desidia, desinterés y falta de motivación.\n",
    "\n",
    "Tan solo hay que asegurar que se tarda 10 minutos exactos (10 movimientos en total) y que el destino es el mismo punto origen."
   ]
  },
  {
   "cell_type": "code",
   "execution_count": 8,
   "metadata": {
    "collapsed": true
   },
   "outputs": [],
   "source": [
    "def valida_ruta(s):\n",
    "    return len(s) == 10 and destino(s) == (0,0)\n",
    "\n",
    "def destino(s):\n",
    "    return (sum(1 if i == 'n' else -1 for i in s if i in 'ns'),\n",
    "            sum(1 if i == 'e' else -1 for i in s if i in 'ew'))"
   ]
  },
  {
   "cell_type": "markdown",
   "metadata": {},
   "source": [
    "Si te resulta molesta la repetición de `'n'` y `'e'` y la separación entre `'ns'` y `'ew'` también se puede usar la posición."
   ]
  },
  {
   "cell_type": "code",
   "execution_count": 9,
   "metadata": {
    "collapsed": true
   },
   "outputs": [],
   "source": [
    "def destino(s):\n",
    "    paso = { 'n': (0,1), 's': (0,-1), 'e': (1,0), 'w': (-1,0) }\n",
    "    return tuple(sum(x) for x in zip(*(paso[c] for c in s)))"
   ]
  },
  {
   "cell_type": "markdown",
   "metadata": {},
   "source": [
    "## Forma escalonada reducida por filas\n",
    "\n",
    "*La forma escalonada reducida por filas (RREF, por su traducción inglesa **Reduced Row Echelon Form**) de una matriz es un posible paso intermedio del método de Gauss-Jordan para la inversión de matrices o la resolución de sistemas lineales.*\n",
    "\n",
    "*Cada fila puede multiplicarse por una constante, restarse a otra fila previamente multiplicada por una constante o intercambiarse por otra fila. El objetivo es generar una matriz que cumple las siguientes propiedades:*\n",
    "\n",
    "* *Las filas (si las hay) que consistan en todos los elementos iguales a cero se agrupan juntas en la parte inferior de la matriz.*\n",
    "* *En cada fila que no tenga todos los elementos a cero, el elemento más a la izquierda es un uno, y se denomina pivote.*\n",
    "* *Cada columna que contenga un pivote (uno inicial) tiene ceros en todos los elementos siguientes.*\n",
    "* *El pivote de una fila está a la izquierda de cualquier pivote de las filas por debajo de ésta.*\n",
    "\n",
    "*Define una función `rref` que devuelve una matriz en forma escalonada reducida por filas dada una matriz cualquiera que se pasa como único argumento.*\n",
    "\n",
    "**Nota: Las matrices se representan como listas de filas donde cada fila se representa como una lista de números. El problema está muy relacionado con el trabajo en grupo y puedes aprovechar el código que hayas desarrollado hasta ahora.**"
   ]
  },
  {
   "cell_type": "markdown",
   "metadata": {},
   "source": [
    "Este ejercicio es parte de la solución del trabajo en grupo.  Se publicará la solución cuando se cierre la entrega de la convocatoria extraordinaria.\n",
    "\n",
    "La mayoría de los alumnos deberían tener ya resuelto este ejercicio del trabajo en grupo.  En unos casos (cuando el alumno ha sido el autor real de esta parte) podrían copiarlo directamente. En otros casos podrían copiar la descomposición en funciones (que deberían entender perfectamente) y en el examen tendrían que completarla por sí mismos."
   ]
  },
  {
   "cell_type": "markdown",
   "metadata": {},
   "source": [
    "# Recuperación de la prueba de progreso\n",
    "\n",
    "## Puntos vecinos de uno dado\n",
    "\n",
    "*Sea una secuencia de puntos en el plano identificados por números entre 1 y **n**.*\n",
    "\n",
    "*Sea un conjunto de segmentos definido como una secuencia de pares que identifican a los dos puntos que une cada segmento. Por ejemplo, la secuencia `[(1,2),(2,3),(3,1)]` define un triángulo.*\n",
    "\n",
    "*Define una función `vecinos(L)` que recibe como argumento una lista de segmentos y devuelve un diccionario que a cada punto hace corresponder una lista de los puntos vecinos (existe un segmento que lo conecta con él).  Por ejemplo, para el triángulo anterior debería devolver el diccionario `{1:[2,3], 2:[1,3], 3:[1,2]}`.*"
   ]
  },
  {
   "cell_type": "markdown",
   "metadata": {},
   "source": [
    "Como siempre utilizamos estrategia top-down. Lo que nos piden es el diccionario de todos los puntos en el que a cada punto se le hace corresponder la lista de sus vecinos."
   ]
  },
  {
   "cell_type": "code",
   "execution_count": 17,
   "metadata": {
    "collapsed": true
   },
   "outputs": [],
   "source": [
    "def vecinos(L):\n",
    "    return { p:busca_vecinos(L,p) for p in puntos(L) }"
   ]
  },
  {
   "cell_type": "markdown",
   "metadata": {},
   "source": [
    "Los vecinos de un punto `p` son los puntos que aparecen junto a el en algún arco.  Podemos aprovechar la unión de conjuntos para no repetir puntos, pero luego nos piden que sea una lista."
   ]
  },
  {
   "cell_type": "code",
   "execution_count": 18,
   "metadata": {
    "collapsed": true
   },
   "outputs": [],
   "source": [
    "def busca_vecinos(L,p):\n",
    "    return list(set(x for x,y in L if y == p) | set(x for y,x in L if y == p))"
   ]
  },
  {
   "cell_type": "markdown",
   "metadata": {},
   "source": [
    "Todos los puntos se pueden obtener aplanando la lista de segmentos y metiéndolo en un conjunto para eliminar duplicados. Se puede aplanar sumando todas las tuplas de los puntos."
   ]
  },
  {
   "cell_type": "code",
   "execution_count": 19,
   "metadata": {
    "collapsed": true
   },
   "outputs": [],
   "source": [
    "def puntos(L):\n",
    "    return set(sum(L,tuple()))"
   ]
  },
  {
   "cell_type": "markdown",
   "metadata": {},
   "source": [
    "## Curva de Batman\n",
    "\n",
    "*La [curva de Batman](http://www.calculushumor.com/calculus-humor/the-batman-curve) es una curiosa curva que se define con la ayuda de cuatro funciones que se mencionan en el enlace.*\n",
    "\n",
    "*Definir la función `batman_superior(x)` que devuelve `None` para **x** fuera del intervalo [-7,7] y el punto superior de la curva de Batman si **x** se encuentra en el intervalo [-7,7].*"
   ]
  },
  {
   "cell_type": "markdown",
   "metadata": {},
   "source": [
    "Este ejercicio solo necesita pasar a Python las expresiones que aparecen en la página. Hay algunos signos de multiplicación que faltan, la exponenciación es con `**` y no con `^` y hay que importar la función `sqrt`."
   ]
  },
  {
   "cell_type": "code",
   "execution_count": 20,
   "metadata": {
    "collapsed": true
   },
   "outputs": [],
   "source": [
    "from math import sqrt\n",
    "\n",
    "def azul(x):\n",
    "    return 2*sqrt(-abs(abs(x)-1)*abs(3-abs(x))/((abs(x)-1)*(3-abs(x))))*(1+abs(abs(x)-3)/(abs(x)-3))*sqrt(1-(x/7)**2)+(5+0.97*(abs(x-.5)+abs(x+.5))-3*(abs(x-.75)+abs(x+.75)))*(1+abs(1-abs(x))/(1-abs(x)))\n",
    "\n",
    "def verde(x):\n",
    "    return (2.71052+(1.5-.5*abs(x))-1.35526*sqrt(4-(abs(x)-1)**2))*sqrt(abs(abs(x)-1)/(abs(x)-1))+0.9\n",
    "\n",
    "def batman_superior(x):\n",
    "    if 1 < abs(x) < 3:\n",
    "        return verde(x)\n",
    "    if abs(x) > 7:\n",
    "        return None\n",
    "    return azul(x)"
   ]
  },
  {
   "cell_type": "markdown",
   "metadata": {},
   "source": [
    "Para estar seguros de que lo hemos hecho bien podemos dibujar la gráfica con `pyplot`."
   ]
  },
  {
   "cell_type": "code",
   "execution_count": 21,
   "metadata": {
    "collapsed": false
   },
   "outputs": [
    {
     "data": {
      "text/plain": [
       "[<matplotlib.lines.Line2D at 0xb8d79966d8>]"
      ]
     },
     "execution_count": 21,
     "metadata": {},
     "output_type": "execute_result"
    },
    {
     "data": {
      "image/png": "[encoded data removed]",
      "text/plain": [
       "<matplotlib.figure.Figure at 0xb8d78d3d68>"
      ]
     },
     "metadata": {},
     "output_type": "display_data"
    }
   ],
   "source": [
    "%matplotlib inline\n",
    "import matplotlib.pyplot as plt\n",
    "from numpy import arange\n",
    "xr = arange(-7, 7.01, 0.01)\n",
    "plt.plot(xr, [batman_superior(x) for x in xr])"
   ]
  },
  {
   "cell_type": "markdown",
   "metadata": {},
   "source": [
    "## Fórmula de Ramanujan para π\n",
    "\n",
    "*Una de las fórmulas más utilizadas para aproximar el valor de pi se la debemos al genial matemático indio Srinivasa Ramanujan.*\n",
    "\n",
    "<img src=\"https://i1.wp.com/ucanalytics.com/blogs/wp-content/uploads/2014/01/ramanujan.png\">\n",
    "\n",
    "*Define una función <em class=\"tt\">sr_pi(n)</em> que calcula la aproximación de pi utilizando solo los <em>n</em> primeros términos del sumatorio en la fórmula de Ramanujan.*"
   ]
  },
  {
   "cell_type": "markdown",
   "metadata": {},
   "source": [
    "Ignoraremos los efectos de la imprecisión de los números reales."
   ]
  },
  {
   "cell_type": "code",
   "execution_count": 22,
   "metadata": {
    "collapsed": true
   },
   "outputs": [],
   "source": [
    "from math import factorial as fact\n",
    "\n",
    "def inv_pi(n):\n",
    "    return (2*sqrt(2)/9801)*sum(fact(4*k)*(1103+26390*k)/(fact(k)**4*396**(4*k)) for k in range(n))\n",
    "\n",
    "def sr_pi(n):\n",
    "    return 1/inv_pi(n)"
   ]
  },
  {
   "cell_type": "markdown",
   "metadata": {},
   "source": [
    "Incluso con valores bajos de *n* podemos comprobar que el resultado es excelente."
   ]
  },
  {
   "cell_type": "code",
   "execution_count": 25,
   "metadata": {
    "collapsed": false
   },
   "outputs": [
    {
     "data": {
      "text/plain": [
       "3.141592653589793"
      ]
     },
     "execution_count": 25,
     "metadata": {},
     "output_type": "execute_result"
    }
   ],
   "source": [
    "sr_pi(10)"
   ]
  },
  {
   "cell_type": "markdown",
   "metadata": {},
   "source": [
    "## Puntos alcanzables desde uno dado\n",
    "\n",
    "*Sea una secuencia de puntos en el plano identificados por números entre 1 y **n**.*\n",
    "\n",
    "*Sea un conjunto de segmentos definido como una secuencia de pares que identifican a los dos puntos que une cada segmento. Por ejemplo, la secuencia `[(1,2),(2,3),(3,1),(4,5),(5,6),(4,6)]` define dos triángulos.*\n",
    "\n",
    "*Define una función `alcanzables(L, n)` que recibe como argumento una lista de segmentos y un punto (identificado por un número de 1 a **n**) y devuelve una lista de todos los puntos alcanzables desde el punto que se pasa como argumento. Es decir, todos aquellos puntos para los que existe una secuencia de segmentos que los conecta con el que se pasa como argumento. Por ejemplo, para los triángulos anteriores y el punto 6 debería devolver la lista `[4,5,6]`.*\n",
    "\n",
    "**Nota: Ten en cuenta que un punto puede ser alcanzable indirectamente a través de otros puntos alcanzables. Si lo estimas conveniente aprovecha el parecido de este problema con el primero.**"
   ]
  },
  {
   "cell_type": "markdown",
   "metadata": {},
   "source": [
    "Aprovechamos la definición de `vecinos` que tenemos del primer ejercicio. Calculamos los vecinos del punto dado, luego los vecinos de los vecinos, y así sucesivamente hasta que no haya nuevos vecinos. "
   ]
  },
  {
   "cell_type": "code",
   "execution_count": 38,
   "metadata": {
    "collapsed": true
   },
   "outputs": [],
   "source": [
    "def alcanzables(L, p):\n",
    "    v = vecinos(L)\n",
    "    ret = nuevos_alcanzables = set(v[p])\n",
    "    while True:\n",
    "        nuevos_alcanzables = set(sum([v[x] for x in nuevos_alcanzables], [])) - ret\n",
    "        if len(nuevos_alcanzables) == 0:\n",
    "            return list(ret)\n",
    "        ret |= nuevos_alcanzables"
   ]
  },
  {
   "cell_type": "markdown",
   "metadata": {},
   "source": [
    "Otra forma sería completar la lista de segmentos con la propiedad transitiva de la alcanzabilidad."
   ]
  },
  {
   "cell_type": "code",
   "execution_count": null,
   "metadata": {
    "collapsed": true
   },
   "outputs": [],
   "source": [
    "def alcanzables(L,p):\n",
    "    A = cerramiento_transitivo(L)\n",
    "    return list(set(x for x,y in A if y == p) | set(y for x,y in A if x == p))"
   ]
  },
  {
   "cell_type": "markdown",
   "metadata": {},
   "source": [
    "El cerramiento transitivo no es más que los segmentos ampliados de manera que si aparecen los segmentos `(1,2)` y `(2,3)` se incluya también el segmento `(1,3)`. Se complica un poco porque en el enunciado no dice nada acerca del orden de los puntos en un segmento. Por tanto `(1,3)` y `(3,1)` representan el mismo segmento."
   ]
  },
  {
   "cell_type": "code",
   "execution_count": 8,
   "metadata": {
    "collapsed": true
   },
   "outputs": [],
   "source": [
    "def cerramiento_transitivo(S):\n",
    "    trans = set((x,z) for (x,y1) in S for (y2,z) in S if y1 == y2 and x != z) | \\\n",
    "            set((x,z) for (y1,x) in S for (y2,z) in S if y1 == y2 and x != z) | \\\n",
    "            set((x,z) for (x,y1) in S for (z,y2) in S if y1 == y2 and x != z)\n",
    "    if len(trans - S) == 0:\n",
    "        return S\n",
    "    return cerramiento_transitivo(S | trans)"
   ]
  }
 ],
 "metadata": {
  "kernelspec": {
   "display_name": "Python [default]",
   "language": "python",
   "name": "python3"
  },
  "language_info": {
   "codemirror_mode": {
    "name": "ipython",
    "version": 3
   },
   "file_extension": ".py",
   "mimetype": "text/x-python",
   "name": "python",
   "nbconvert_exporter": "python",
   "pygments_lexer": "ipython3",
   "version": "3.5.2"
  }
 },
 "nbformat": 4,
 "nbformat_minor": 1
}
