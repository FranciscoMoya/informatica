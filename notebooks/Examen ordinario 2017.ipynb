{
 "cells": [
  {
   "cell_type": "markdown",
   "metadata": {},
   "source": [
    "# Examen ordinario 2017\n",
    "\n",
    "## Producto escalar y producto vectorial\n",
    "\n",
    "*Define una función `escalar` y otra función `vectorial` que implementan el producto escalar y vectorial de dos vectores respectivamente.*\n",
    "\n",
    "*Cada vector se representa como una tupla de tres coordenadas cartesianas.*"
   ]
  },
  {
   "cell_type": "code",
   "execution_count": 1,
   "metadata": {
    "collapsed": true
   },
   "outputs": [],
   "source": [
    "def escalar(a,b):\n",
    "    return sum(ai*bi for ai,bi in zip(a,b))\n",
    "\n",
    "def vectorial(a,b):\n",
    "    return (a[1]*b[2]-a[2]*b[1],\n",
    "            a[2]*b[0]-a[0]*b[2],\n",
    "            a[0]*b[1]-a[1]*b[0])"
   ]
  },
  {
   "cell_type": "markdown",
   "metadata": {},
   "source": [
    "He visto intentos de evitar errores utilizando programación dirigida por datos para el producto vectorial.  Creo que en este caso es suficientemente sencillo y estable como para que no se necesite. Si lo consideras necesario podría ser así:"
   ]
  },
  {
   "cell_type": "code",
   "execution_count": 2,
   "metadata": {
    "collapsed": true
   },
   "outputs": [],
   "source": [
    "def vectorial(a,b):\n",
    "    return tuple(a[i]*b[j]-a[j]*b[i] for i,j in ((1,2),(2,0),(0,1)))"
   ]
  },
  {
   "cell_type": "markdown",
   "metadata": {},
   "source": [
    "## Triángulo de Pascal\n",
    "\n",
    "*El triángulo de Pascal es un triángulo de números que se construye de la siguiente manera.  Empieza con un 1 en la fila superior.  Cada fila posterior se construye a partir de la inmediata superior, donde el primer y el último número de cada fila son iguales que el primer y último número de la anterior, y cada número entre ellos es la suma de los dos a la izquierda y a la derecha en la fila inmediatamente superior.  La fila enésima tiene n números.  Tiene la siguiente pinta:*\n",
    "\n",
    "```\n",
    "      1\n",
    "     1 1\n",
    "    1 2 1\n",
    "   1 3 3 1\n",
    "  1 4 6 4 1\n",
    "1 5 10 10 5 1\n",
    "```\n",
    "\n",
    "*Define la función `triangulo_pascal` que imprime por salida estándar un triángulo de Pascal con el número de líneas que se indica en su único argumento.*\n",
    "\n",
    "**Nota: El triángulo debe imprimirse siguiendo escrupulosamente la salida del ejemplo. Los espacios son parte esencial del problema. Nota que los números están separados por un espacio y las líneas están centradas respecto a la de mayor tamaño.**"
   ]
  },
  {
   "cell_type": "markdown",
   "metadata": {},
   "source": [
    "Como siempre utilizamos una estrategia top-down. Asumimos que los números están calculados y los imprimimos como dice el enunciado.  En esta solución aprovecha el [método `format`](https://docs.python.org/3/library/stdtypes.html#str.format) de las cadenas. La expresión `'{:^30}'.format(s)` es una cadena de 30 caracteres que contiene la cadena `s` centrada y todos los demás caracteres como espacios.  En este caso el ancho de la cadena es el ancho de la última fila, por lo que habrá que calcularlo. "
   ]
  },
  {
   "cell_type": "code",
   "execution_count": null,
   "metadata": {
    "collapsed": true
   },
   "outputs": [],
   "source": [
    "def triangulo_pascal(n):\n",
    "    L = [' '.join([str(i) for i in x]) for x in pascal(n)]\n",
    "    for s in L:\n",
    "        print(('{:^'+str(len(L[-1]))+'}').format(s))"
   ]
  },
  {
   "cell_type": "markdown",
   "metadata": {},
   "source": [
    "Por supuesto, también se puede hacer escribiendo los espacios a mano."
   ]
  },
  {
   "cell_type": "code",
   "execution_count": 8,
   "metadata": {
    "collapsed": false
   },
   "outputs": [],
   "source": [
    "def triangulo_pascal(n):\n",
    "    L = [' '.join([str(i) for i in x]) for x in pascal(n)]\n",
    "    for s in L:\n",
    "        espacios = (len(L[-1])-len(s))//2 \n",
    "        print(' '*espacios + s)"
   ]
  },
  {
   "cell_type": "markdown",
   "metadata": {},
   "source": [
    "Ya solo queda calcular los números correspondientes a cada línea."
   ]
  },
  {
   "cell_type": "code",
   "execution_count": 5,
   "metadata": {
    "collapsed": true
   },
   "outputs": [],
   "source": [
    "def pascal(n):\n",
    "    if n == 1: return [[1]]\n",
    "    L = pascal(n-1)\n",
    "    return L + [linea_siguiente(L[-1])]\n",
    "\n",
    "def linea_siguiente(L):\n",
    "    return [a+b for a,b in zip(L+[0], [0]+L)]"
   ]
  },
  {
   "cell_type": "markdown",
   "metadata": {},
   "source": [
    "Es todavía mas simple usar un generador para producir los números."
   ]
  },
  {
   "cell_type": "code",
   "execution_count": 9,
   "metadata": {
    "collapsed": true
   },
   "outputs": [],
   "source": [
    "def pascal(n):\n",
    "    L = [1]\n",
    "    for i in range(n):\n",
    "        yield L\n",
    "        L = linea_siguiente(L)"
   ]
  },
  {
   "cell_type": "code",
   "execution_count": 10,
   "metadata": {
    "collapsed": false
   },
   "outputs": [
    {
     "name": "stdout",
     "output_type": "stream",
     "text": [
      "      1\n",
      "     1 1\n",
      "    1 2 1\n",
      "   1 3 3 1\n",
      "  1 4 6 4 1\n",
      "1 5 10 10 5 1\n"
     ]
    }
   ],
   "source": [
    "triangulo_pascal(6)"
   ]
  },
  {
   "cell_type": "markdown",
   "metadata": {},
   "source": [
    "## Date un paseo de 10 minutos\n",
    "\n",
    "*Vives en la ciudad de Cartesia donde todas las calles están formando una cuadrícula perfecta. Llegas con diez minutos de adelanto a una cita y decides aprovechar la oportunidad para dar un corto paseo. La ciudad proporciona a sus ciudadanos una App para generar paseos de forma automática en sus teléfonos. Cada vez que se pulsa un botón recibes una cadenas donde cada letra representa la dirección a tomar en cada manzana o bloque (e.g. 'nswe'). Sabes que se tarda un minuto en recorrer el ancho de una manzana, así que crea una función `valida_ruta` que reciba como argumento la cadena generada por la App y devuelva True si el paseo de la App tomará exactamente diez minutos (¡no quieres llegar tarde ni demasiado pronto!) y además el paseo termina en el punto de inicio. Devuelve False en caso contrario.*\n",
    "\n",
    "**Nota: Siempre recibirás una cadena válida que contiene una colección aleatoria de letras (solamente 'n', 's', 'e', o 'w' que corresponden a norte, sur, este y oeste respectivamente). Nunca se proporcionará una lista vacía (¡eso no sería un paseo, sería permanecer de pie!).**"
   ]
  },
  {
   "cell_type": "markdown",
   "metadata": {},
   "source": [
    "Es desolador comprobar que muy pocos alumnos habían hecho este ejercicio con antelación.  Es uno de los ejercicios incluídos en el cuaderno [Ejercicios similares al exámen](https://github.com/FranciscoMoya/informatica/blob/master/notebooks/ejercicios2.ipynb). Si ni siquiera se han hecho estos ejercicios es completamente normal que los resultados no sean buenos. Para mi esto es un signo de desidia, desinterés y falta de motivación.\n",
    "\n",
    "Tan solo hay que asegurar que se tarda 10 minutos exactos (10 movimientos en total) y que el destino es el mismo punto origen."
   ]
  },
  {
   "cell_type": "code",
   "execution_count": 11,
   "metadata": {
    "collapsed": true
   },
   "outputs": [],
   "source": [
    "def valida_ruta(s):\n",
    "    return len(s) == 10 and destino(s) == (0,0)\n",
    "\n",
    "def destino(s):\n",
    "    return (sum(1 if i == 'n' else -1 for i in s if i in 'ns'),\n",
    "            sum(1 if i == 'e' else -1 for i in s if i in 'ew'))"
   ]
  },
  {
   "cell_type": "markdown",
   "metadata": {},
   "source": [
    "Si te resulta molesta la repetición de `'n'` y `'e'` y la separación entre `'ns'` y `'ew'` también se puede usar la posición."
   ]
  },
  {
   "cell_type": "code",
   "execution_count": 14,
   "metadata": {
    "collapsed": true
   },
   "outputs": [],
   "source": [
    "def destino(s):\n",
    "    paso = { 'n': (0,1), 's': (0,-1), 'e': (1,0), 'w': (-1,0) }\n",
    "    return tuple(sum(x) for x in zip(*(paso[c] for c in s)))"
   ]
  },
  {
   "cell_type": "markdown",
   "metadata": {},
   "source": [
    "## Forma escalonada reducida por filas\n",
    "\n",
    "*La forma escalonada reducida por filas (RREF, por su traducción inglesa **Reduced Row Echelon Form**) de una matriz es un posible paso intermedio del método de Gauss-Jordan para la inversión de matrices o la resolución de sistemas lineales.*\n",
    "\n",
    "*Cada fila puede multiplicarse por una constante, restarse a otra fila previamente multiplicada por una constante o intercambiarse por otra fila. El objetivo es generar una matriz que cumple las siguientes propiedades:*\n",
    "\n",
    "* *Las filas (si las hay) que consistan en todos los elementos iguales a cero se agrupan juntas en la parte inferior de la matriz.*\n",
    "* *En cada fila que no tenga todos los elementos a cero, el elemento más a la izquierda es un uno, y se denomina pivote.*\n",
    "* *Cada columna que contenga un pivote (uno inicial) tiene ceros en todos los elementos siguientes.*\n",
    "* *El pivote de una fila está a la izquierda de cualquier pivote de las filas por debajo de ésta.*\n",
    "\n",
    "*Define una función `rref` que devuelve una matriz en forma escalonada reducida por filas dada una matriz cualquiera que se pasa como único argumento.*\n",
    "\n",
    "**Nota: Las matrices se representan como listas de filas donde cada fila se representa como una lista de números. El problema está muy relacionado con el trabajo en grupo y puedes aprovechar el código que hayas desarrollado hasta ahora.**"
   ]
  },
  {
   "cell_type": "markdown",
   "metadata": {},
   "source": [
    "La mayoría de los alumnos deberían tener ya hecha esta función o una muy parecida para el trabajo en grupo. Algunos alumnos pueden copiarla literalmente, porque la han hecho ellos mismos.  Otros alumnos simplemente tienen que poner las funciones vacías, que deberían entender perfectamente, y rellenar la funcionalidad.\n",
    "\n",
    "Aplicamos como siempre la estrategia top-down. El problema consiste simplemente en reducir por filas.  Por tanto para cada fila de la matriz debemos reducir las siguientes."
   ]
  },
  {
   "cell_type": "code",
   "execution_count": 28,
   "metadata": {
    "collapsed": true
   },
   "outputs": [],
   "source": [
    "from copy import deepcopy\n",
    "def rref(M):\n",
    "    A = deepcopy(M)\n",
    "    for i in range(len(A)):\n",
    "        rref_row(A, i)\n",
    "    return A"
   ]
  },
  {
   "cell_type": "markdown",
   "metadata": {},
   "source": [
    "La operación que se realiza por cada fila se puede descomponer en tres partes:\n",
    "\n",
    "1. Encontrar la fila con el pivote más a la izquierda posible.\n",
    "1. Normalizar la fila para que el pivote sea 1.\n",
    "1. Escalonar las filas siguientes para que la columna por debajo del pivote sea cero."
   ]
  },
  {
   "cell_type": "code",
   "execution_count": null,
   "metadata": {
    "collapsed": true
   },
   "outputs": [],
   "source": [
    "def rref_row(A, i):\n",
    "    pivot = find_row(A, i)\n",
    "    normalize_row(A[i], pivot)\n",
    "    echelon_row(A, i, pivot)"
   ]
  },
  {
   "cell_type": "markdown",
   "metadata": {},
   "source": [
    "Encontrar la fila con el pivote más a la izquierda consiste en buscar el pivote de cada fila desde la que se indica y si está más a la izquierda intercambiar la fila."
   ]
  },
  {
   "cell_type": "code",
   "execution_count": 20,
   "metadata": {
    "collapsed": true
   },
   "outputs": [],
   "source": [
    "def find_row(A, i):\n",
    "    pivot = len(A[i])\n",
    "    for j in range(i, len(A)):\n",
    "        np = find_pivot(A[j])\n",
    "        if np < pivot:\n",
    "            A[i], A[j] = A[j], A[i]\n",
    "            pivot = np\n",
    "    return pivot"
   ]
  },
  {
   "cell_type": "markdown",
   "metadata": {},
   "source": [
    "Encontrar el pivote no es más que encontrar la posición del primer elemento distinto de cero."
   ]
  },
  {
   "cell_type": "code",
   "execution_count": 26,
   "metadata": {
    "collapsed": true
   },
   "outputs": [],
   "source": [
    "def find_pivot(L):\n",
    "    return next(i for i,x in enumerate(L) if x != 0)"
   ]
  },
  {
   "cell_type": "markdown",
   "metadata": {},
   "source": [
    "Normalizar no es más que dividir por el valor del pivote todos los elementos."
   ]
  },
  {
   "cell_type": "code",
   "execution_count": null,
   "metadata": {
    "collapsed": true
   },
   "outputs": [],
   "source": [
    "def normalize_row(L, pv):\n",
    "    for i in range(pv, len(L)):\n",
    "        L[i] /= L[pv]"
   ]
  },
  {
   "cell_type": "markdown",
   "metadata": {},
   "source": [
    "Escalonar implicar restar la fila del pivote escalada a todas las filas posteriores al pivote."
   ]
  },
  {
   "cell_type": "code",
   "execution_count": null,
   "metadata": {
    "collapsed": true
   },
   "outputs": [],
   "source": [
    "def echelon_row(A, i, pv):\n",
    "    for j in range(i+1, len(A)):\n",
    "        reduce_row(A[j], A[i], pv)"
   ]
  },
  {
   "cell_type": "markdown",
   "metadata": {},
   "source": [
    "Restar la fila del pivote consiste en restar los elementos de la fila del pivote escalados por el elemento que ocupa la columna del pivote."
   ]
  },
  {
   "cell_type": "code",
   "execution_count": 18,
   "metadata": {
    "collapsed": true
   },
   "outputs": [],
   "source": [
    "def reduce_row(L, P, pv):\n",
    "    for i in range(pv, len(P)):\n",
    "        L[i] -= P[i]*L[pv]"
   ]
  }
 ],
 "metadata": {
  "kernelspec": {
   "display_name": "Python 3",
   "language": "python",
   "name": "python3"
  },
  "language_info": {
   "codemirror_mode": {
    "name": "ipython",
    "version": 3
   },
   "file_extension": ".py",
   "mimetype": "text/x-python",
   "name": "python",
   "nbconvert_exporter": "python",
   "pygments_lexer": "ipython3",
   "version": "3.5.2"
  }
 },
 "nbformat": 4,
 "nbformat_minor": 1
}
