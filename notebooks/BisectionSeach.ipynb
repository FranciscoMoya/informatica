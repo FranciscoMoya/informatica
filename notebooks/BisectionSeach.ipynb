{
 "metadata": {
  "name": "",
  "signature": "sha256:bb6d0e54a5a7a0aea4dcc2dc6f39477a2ba345601b1d7acece1898cd29ab82df"
 },
 "nbformat": 3,
 "nbformat_minor": 0,
 "worksheets": [
  {
   "cells": [
    {
     "cell_type": "markdown",
     "metadata": {},
     "source": [
      "# Pago de balance de tarjeta de cr\u00e9dito en un a\u00f1o\n",
      "\n",
      "## 1. Pago m\u00ednimo de 10\u20ac\n",
      "\n",
      "Escribe un programa que calcula la cuota m\u00ednima mensual necesaria para pagar un balance de tarjeta de cr\u00e9dito en 12 meses.\n",
      "\n",
      "La cuota mensual es un valor fijo, que no cambia cada mes.  No se considerar\u00e1 una tasa m\u00ednima de pago mensual.\n",
      "\n",
      "La funci\u00f3n deber\u00e1 tener dos argumentos: `balance`, que indica la cantidad que se debe en la tarjeta de cr\u00e9dito, y `tasa_anual`, que indica la tasa de inter\u00e9s anual.\n",
      "\n",
      "Debe asumirse que el inter\u00e9s se compone mensualmente de acuerdo al balance al final del mes.  Es decir, despu\u00e9s de que el pago de la cuota se ha realizado.  La cuota tiene que ser un m\u00faltiplo de 10\u20ac y es el mismo para todos los meses. N\u00f3tese que es posible que el balance final sea negativo empleando este esquema de pago.  Eso es normal y no implica error alguno."
     ]
    },
    {
     "cell_type": "code",
     "collapsed": false,
     "input": [
      "# Sugerencia: Enumeraci\u00f3n exhaustiva"
     ],
     "language": "python",
     "metadata": {},
     "outputs": []
    },
    {
     "cell_type": "markdown",
     "metadata": {},
     "source": [
      "# 2. Pago m\u00faltiplo de 0.01\u20ac\n",
      "\n",
      "El resto del problema en las mismas condiciones que el problema anterior."
     ]
    },
    {
     "cell_type": "code",
     "collapsed": false,
     "input": [
      "# Sugerencia: B\u00fasqueda por bisecci\u00f3n"
     ],
     "language": "python",
     "metadata": {},
     "outputs": []
    }
   ],
   "metadata": {}
  }
 ]
}