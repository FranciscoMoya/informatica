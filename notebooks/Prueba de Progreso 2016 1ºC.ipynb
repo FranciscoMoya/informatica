{
 "cells": [
  {
   "cell_type": "markdown",
   "metadata": {},
   "source": [
    "# Ley de Benford\n",
    "\n",
    "*La [ley de los números anómalos de Frank Benford](https://es.wikipedia.org/wiki/Ley_de_Benford) postula que en muchos conjuntos de datos la frecuencia de aparición de las cifras del 1 al 9 como primer dígito dista mucho de ser uniforme.*\n",
    "\n",
    "*En este ejercicio debes definir una función frecuencia_cifras que admita un único argumento que es una lista de números. La función debe calcular la frecuencia de las cifras de 1 a 9 como primera cifra de los números que se pasan como argumento. El resultado debe ser una tupla de nueve elementos en la que el primer elemento es la frecuencia del 1, el segundo elemento es la frecuencia del 2, etc. La frecuencia de una cifra se medirá como la cantidad de números que empiezan por esa cifra dividida por el total de números en el argumento.*\n",
    "\n",
    "### Ejemplo de funcionamiento:\n",
    "\n",
    "``` Python\n",
    ">>> frecuencia_cifras(range(200))\n",
    "(0.555, 0.055, 0.055, 0.055, 0.055, 0.055, 0.055, 0.055, 0.055)\n",
    "```"
   ]
  },
  {
   "cell_type": "markdown",
   "metadata": {},
   "source": [
    "### Solución\n",
    "\n",
    "El problema está relacionado con la ley de Benford, pero lo que se pide no tiene nada que ver con esa ley.  Solo nos pide que calculemos las frecuencias de las cifras de 1 a 9 en un conjunto de números.\n",
    "\n",
    "Primero obtenemos la lista de las primeras cifras.  Luego contamos."
   ]
  },
  {
   "cell_type": "code",
   "execution_count": null,
   "metadata": {
    "collapsed": true
   },
   "outputs": [],
   "source": [
    "def frecuencia_cifras(l):\n",
    "    primeras, N = tuple(int(str(abs(x))[0]) for x in l ), len(l)\n",
    "    return tuple(primeras.count(i)/N for i in range(1,10))"
   ]
  },
  {
   "cell_type": "markdown",
   "metadata": {},
   "source": [
    "Y probamos con el ejemplo del enunciado como mínimo."
   ]
  },
  {
   "cell_type": "code",
   "execution_count": null,
   "metadata": {
    "collapsed": false
   },
   "outputs": [],
   "source": [
    "frecuencia_cifras(range(200))"
   ]
  },
  {
   "cell_type": "markdown",
   "metadata": {},
   "source": [
    "# Error cuadrático medio\n",
    "\n",
    "*Siguiendo con el ejemplo de la ley de Benford, en este ejercicio debes definir una función ecm_benford que admita un único argumento que es una tupla de nueve números correspondientes a las frecuencias de aparición de cada una de las cifras de 1 a 9 (ver ejercicio anterior para ver un ejemplo). La función debe calcular el error cuadrático medio respecto a la probabilidad ideal de cada cifra según la ley de Benford, que responde a la ecuación:*\n",
    "\n",
    "$$ p(n) = log_{10}(n+1) - log_{10}(n) $$\n",
    "\n",
    "### Ejemplo de funcionamiento:\n",
    "\n",
    "``` Python\n",
    ">>> ecm_benford((1,0,0,0,0,0,0,0,0))\n",
    "0.06259926375341245\n",
    "```"
   ]
  },
  {
   "cell_type": "markdown",
   "metadata": {},
   "source": [
    "### Solución\n",
    "\n",
    "Evidentemente nos piden calcular un error cuadrático medio, pero el valor de referencia teórico es el correspondiente a la ley de Benford."
   ]
  },
  {
   "cell_type": "code",
   "execution_count": null,
   "metadata": {
    "collapsed": true
   },
   "outputs": [],
   "source": [
    "from math import log10\n",
    "\n",
    "def ecm_benford(medida):\n",
    "    ideal = tuple(log10(n+1) - log10(n) for n in range(1,10))\n",
    "    return ecm(medida, ideal)\n",
    "\n",
    "def ecm(x,y):\n",
    "    assert(len(x) == len(y))\n",
    "    return sum((xi - yi)**2 for xi,yi in zip(x,y))/len(x)"
   ]
  },
  {
   "cell_type": "markdown",
   "metadata": {},
   "source": [
    "Ahora probamos al menos con el ejemplo del enunciado."
   ]
  },
  {
   "cell_type": "code",
   "execution_count": null,
   "metadata": {
    "collapsed": false
   },
   "outputs": [],
   "source": [
    "ecm_benford((1,0,0,0,0,0,0,0,0))"
   ]
  },
  {
   "cell_type": "markdown",
   "metadata": {},
   "source": [
    "# Problema del asno de Buridán\n",
    "\n",
    "*El asno de Buridán es el protagonista de un argumento de reducción al absurdo contra Jean Buridan.*\n",
    "\n",
    "*En dos lugares de un prado se colocan dos montones iguales de alfalfa. El asno se dirige a uno de ellos y, cuando ha recorrido la mitad de la distancia, se dirige hacia el otro montón, repitiéndose el cambio de dirección cada vez que recorre la mitad de la distancia que le separa del montón a donde se dirige.*\n",
    "\n",
    "*Tomaremos el origen en uno de los montones de alfalfa y el otro montón asumimos que se encuentra a una distancia unidad del origen. El asno inicialmente se encuentra en algún punto a de la recta que une ambos montones.*\n",
    "\n",
    "*La sucesión xn que representa la distancia del asno al origen a lo largo del proceso se define por:*\n",
    "\n",
    "$$ x_1 = a, (0 < a < 1) \\\\\n",
    " x_{2n} = \\frac{x_{2n-1}}{2} \\\\\n",
    "x_{2n+1} = \\frac{1 + x_{2n}}{2}\n",
    "$$\n",
    "\n",
    "*Definir una función `buridan(a,n)` que devuelve el valor de $x_n$.*"
   ]
  },
  {
   "cell_type": "markdown",
   "metadata": {},
   "source": [
    "### Solución\n",
    "\n",
    "El ejercicio nos define directamente una recurrencia, solo hay que escribirla en Python. La unica dificultad estriba en que la recurrencia se define para términos pares y para términos impares de forma diferente."
   ]
  },
  {
   "cell_type": "code",
   "execution_count": null,
   "metadata": {
    "collapsed": true
   },
   "outputs": [],
   "source": [
    "def buridan(a,n):\n",
    "    if n == 1: return a\n",
    "    if n%2 == 0: return buridan(a,n-1)/2\n",
    "    return (1+buridan(a,n-1))/2"
   ]
  },
  {
   "cell_type": "markdown",
   "metadata": {},
   "source": [
    "Probemos la función:"
   ]
  },
  {
   "cell_type": "code",
   "execution_count": null,
   "metadata": {
    "collapsed": false
   },
   "outputs": [],
   "source": [
    "[buridan(0.1, n) for n in range(1,20)]"
   ]
  },
  {
   "cell_type": "markdown",
   "metadata": {},
   "source": [
    "Podemos verlo mejor en una gráfica."
   ]
  },
  {
   "cell_type": "code",
   "execution_count": null,
   "metadata": {
    "collapsed": false
   },
   "outputs": [],
   "source": [
    "% matplotlib inline\n",
    "import matplotlib.pyplot as plt\n",
    "plt.plot([buridan(0.5, n) for n in range(1,200)])"
   ]
  },
  {
   "cell_type": "markdown",
   "metadata": {},
   "source": [
    "# Triángulo numérico\n",
    "\n",
    "*Escribir una función triangulo_numerico sin argumentos que encuentre las cifras del 1 al 9 que deben escribirse en los círculos de la siguiente figura para que la suma de cualquiera de sus lados valga 20.*\n",
    "\n",
    "*Cada círculo debe contener una cifra diferente. La función debe devolver una tupla o lista con la secuencia de las cifras que va en cada círculo empezando por el superior y en el sentido de las agujas del reloj.*"
   ]
  },
  {
   "cell_type": "markdown",
   "metadata": {},
   "source": [
    "### Solución\n",
    "\n",
    "El problema es extremadamente simple si tenemos en cuenta que se dispone de todos los ejercicios resueltos en el CampusVirtual.  Nos piden encontrar una permutación de los números de 1 a 9 que cumpla una serie de restricciones.  \n",
    "\n",
    "Como vimos en el ejemplo de las [Ocho Damas](Problema de las ocho damas.ipynb) todas las permutaciones de ocho números era un número ridículo para un ordenador.  En este caso es con nueve números pero aún así es ridícula la cantidad de cálculos (solo nueve veces el caso de las ocho damas).  Por tanto es perfectamente asumible utilizar fuerza bruta, y de hecho podemos copiar directamente el algoritmo del problema de las ocho damas."
   ]
  },
  {
   "cell_type": "code",
   "execution_count": null,
   "metadata": {
    "collapsed": true
   },
   "outputs": [],
   "source": [
    "from itertools import permutations\n",
    "\n",
    "def triangulo_numerico():\n",
    "    for p in permutations(range(1,10)):\n",
    "        if es_solucion(p):\n",
    "            return p\n",
    "    raise ValueError('No hay solución')"
   ]
  },
  {
   "cell_type": "markdown",
   "metadata": {},
   "source": [
    "Ya solo queda comprobar cuando una lista de nueve dígitos es solución.  Para ello concatenamos el primer elemento al final y comprobamos los rangos correspondientes a cada segmento."
   ]
  },
  {
   "cell_type": "code",
   "execution_count": null,
   "metadata": {
    "collapsed": true
   },
   "outputs": [],
   "source": [
    "def es_solucion(p):\n",
    "    l = p + (p[0],)\n",
    "    return all(20 == sum(l[i:i+4]) for i in (0,3,6))"
   ]
  },
  {
   "cell_type": "markdown",
   "metadata": {},
   "source": [
    "Ya solo queda probarlo."
   ]
  },
  {
   "cell_type": "code",
   "execution_count": null,
   "metadata": {
    "collapsed": false
   },
   "outputs": [],
   "source": [
    "triangulo_numerico()"
   ]
  },
  {
   "cell_type": "code",
   "execution_count": null,
   "metadata": {
    "collapsed": true
   },
   "outputs": [],
   "source": []
  }
 ],
 "metadata": {
  "kernelspec": {
   "display_name": "Python 3",
   "language": "python",
   "name": "python3"
  },
  "language_info": {
   "codemirror_mode": {
    "name": "ipython",
    "version": 3
   },
   "file_extension": ".py",
   "mimetype": "text/x-python",
   "name": "python",
   "nbconvert_exporter": "python",
   "pygments_lexer": "ipython3",
   "version": "3.5.2"
  }
 },
 "nbformat": 4,
 "nbformat_minor": 1
}
