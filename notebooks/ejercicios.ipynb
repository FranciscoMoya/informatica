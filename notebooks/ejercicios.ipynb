{
 "cells": [
  {
   "cell_type": "markdown",
   "metadata": {},
   "source": [
    "# Ejercicios simples\n",
    "\n",
    "## Coordenadas geográficas\n",
    "\n",
    "Dadas unas coordenadas de latitud y longitud representarlas en grados, minutos y segundos."
   ]
  },
  {
   "cell_type": "code",
   "execution_count": 65,
   "metadata": {
    "collapsed": true
   },
   "outputs": [],
   "source": [
    "def imprimir_coord(latitud, longitud):\n",
    "    hemi = 'N' if latitud >= 0 else 'S' \n",
    "    g,m,s = coord_a_grados_min_seg(abs(latitud))\n",
    "    print('Latitud {}º {}\\' {}\" {}'.format(g,m,s,hemi))\n",
    "    hemi = 'W' if longitud >= 0 else 'E' \n",
    "    g,m,s = coord_a_grados_min_seg(abs(longitud))\n",
    "    print('Longitud {}º {}\\' {}\" {}'.format(g,m,s,hemi))\n",
    "    \n",
    "def coord_a_grados_min_seg(v):\n",
    "    grados = int(v)\n",
    "    v = v - grados\n",
    "    v *= 60\n",
    "    minutos = int(v)\n",
    "    v = v - minutos\n",
    "    v *= 60\n",
    "    segundos = int(v)\n",
    "    return grados, minutos, segundos"
   ]
  },
  {
   "cell_type": "code",
   "execution_count": 66,
   "metadata": {
    "collapsed": false
   },
   "outputs": [
    {
     "name": "stdout",
     "output_type": "stream",
     "text": [
      "Latitud 40º 45' 35\" N\n",
      "Longitud 10º 9' 0\" W\n"
     ]
    }
   ],
   "source": [
    "imprimir_coord(40.76, 10.15)"
   ]
  },
  {
   "cell_type": "markdown",
   "metadata": {},
   "source": [
    "La única cosa destacable es la forma en la que se devuelven múltiples valores de una función y cómo se introduce una comilla en una cadena delimitada por comilla simple."
   ]
  },
  {
   "cell_type": "markdown",
   "metadata": {},
   "source": [
    "## Reproducción de insectos\n",
    "\n",
    "Solución al reto [645](http://www.solveet.com/exercises/java/645) de Solveet!\n",
    "\n",
    "> Un estudiante de biologia esta realizando un experimento con unos insectos que se descubrieron en una expedición al centro de la selva amazonica, estos insectos son muy coloridos y les encanta comer hojas secas, siendo las de eucalipto sus favoritas.\n",
    "\n",
    "> Además nota que estos insectos colocan 3 huevos cada 2 días, de cada huevo como es de esperar sale un nuevo insecto a los dos días de haber sido colocado y estos insectos solo viven por 5 días.\n",
    "\n",
    "> El estudiante teme que los insectos se apoderen de los ambientes donde estan siendo estudiados, puesto que el sabe que solo tiene una capacidad limitada de espacio para ellos, te pide que le ayudes a determinar en cuantos días la población de insectos llegara a superar la capacidad con la que cuenta. Para ello el te dira con cuantos insectos cuenta en un determinado momento y hasta cuantos insectos puede manejar."
   ]
  },
  {
   "cell_type": "markdown",
   "metadata": {},
   "source": [
    "La forma más sencilla, que no requiere análisis detallado es simular la evolución de la población.  Para eso tenemos que simular el nacimiento, la muerte, la puesta y la eclosión.\n",
    "\n",
    "Hay infinidad de maneras de modelar los datos asociados.  Nosotros hemos utilizado para los insectos tuplas *(num_insectos, dias_sin_poner_huevos, dias_vida)*.  Estas ternas se van actualizando conforme evoluciona el sistema.  Para los huevos usamos tuplas *(huevos, dias_desde_puesta)* que también se actualizan cada día.\n",
    "\n",
    "Por tanto usamos tres variables para almacenar el estado: `insectos` con la población total de insectos, `huevos` con el inventario total de huevos, y `dia` para mantener el día actual.  Sería normal usar listas para las dos primeras, pero vamos a hacerlo con tuplas para ilustrar cómo podemos evitar manipulaciones imprevistas."
   ]
  },
  {
   "cell_type": "code",
   "execution_count": 81,
   "metadata": {
    "collapsed": false
   },
   "outputs": [],
   "source": [
    "def dias(inicial, final):\n",
    "    insectos = ((inicial, 0, 0),)\n",
    "    huevos = tuple()\n",
    "    dia = 0\n",
    "    while True:\n",
    "        insectos, huevos = poblacion_dia_siguiente(insectos, huevos)\n",
    "        if total_insectos(insectos) > final:\n",
    "            return dia\n",
    "        dia += 1\n",
    "        print ('DIA {} --------------\\n insectos: {}\\n huevos: {}'.\n",
    "               format(dia, insectos, huevos))"
   ]
  },
  {
   "cell_type": "markdown",
   "metadata": {},
   "source": [
    "La simulación es sencilla, lo más complejo es calcular la población del día siguiente.  Empezaremos por contabilizar la población total de insectos con la función `total_insectos`."
   ]
  },
  {
   "cell_type": "code",
   "execution_count": 68,
   "metadata": {
    "collapsed": true
   },
   "outputs": [],
   "source": [
    "def total_insectos(insectos):\n",
    "    return sum(x[0] for x in insectos)"
   ]
  },
  {
   "cell_type": "markdown",
   "metadata": {},
   "source": [
    "La población del día siguiente tiene que tener en cuenta todos los procesos que indica el enunciado.  En primer lugar hay que incrementar el número de días que llevan los insectos sin poner huevos y de vida total, y los días que llevan los huevos sin eclosionar. Luego tratamos la muerte de los insectos viejos, la puesta de huevos, y la eclosión."
   ]
  },
  {
   "cell_type": "code",
   "execution_count": 77,
   "metadata": {
    "collapsed": true
   },
   "outputs": [],
   "source": [
    "def poblacion_dia_siguiente(insectos, huevos):\n",
    "    insectos, huevos = incrementar_dia(insectos, huevos)\n",
    "    insectos = matar_viejos(insectos)\n",
    "    insectos, huevos = poner_huevos(insectos, huevos)\n",
    "    insectos, huevos = eclosionar_huevos(insectos, huevos)\n",
    "    return insectos, huevos"
   ]
  },
  {
   "cell_type": "markdown",
   "metadata": {},
   "source": [
    "Incrementar el día implica construir nuevas tuplas con los campos correspondientes a días incrementados en una unidad."
   ]
  },
  {
   "cell_type": "code",
   "execution_count": 70,
   "metadata": {
    "collapsed": false
   },
   "outputs": [],
   "source": [
    "def incrementar_dia(insectos, huevos):\n",
    "    return  tuple( (x[0], x[1]+1, x[2]+1) for x in insectos ), \\\n",
    "            tuple( (x[0], x[1]+1) for x in huevos )"
   ]
  },
  {
   "cell_type": "markdown",
   "metadata": {},
   "source": [
    "Los insectos que cumplan 5 días ya no deben figurar en la lista."
   ]
  },
  {
   "cell_type": "code",
   "execution_count": 71,
   "metadata": {
    "collapsed": true
   },
   "outputs": [],
   "source": [
    "def matar_viejos(insectos):\n",
    "    return tuple( x for x in insectos if x[2] <= 5 )"
   ]
  },
  {
   "cell_type": "markdown",
   "metadata": {},
   "source": [
    "Poner huevos implica primero calcular a cuántos insectos les toca poner (llevan 2 días sin poner).  Fíjate bien en cómo generamos la tupla de todos los huevos.  Podemos concatenar dos tuplas para formar una tupla mayor, pero no podemos usar `append` ni sumar un simple elemento.  Por eso es importante la coma del final de la última línea."
   ]
  },
  {
   "cell_type": "code",
   "execution_count": 75,
   "metadata": {
    "collapsed": true
   },
   "outputs": [],
   "source": [
    "def poner_huevos(insectos, huevos):\n",
    "    ponen = sum(x[0] for x in insectos if x[1]>=2)\n",
    "    if ponen == 0:\n",
    "        return insectos, huevos\n",
    "    return tuple( (x[0], x[1] if x[1] < 2 else 0, x[2]) for x in insectos ), \\\n",
    "           huevos + ((ponen*3, 0),)"
   ]
  },
  {
   "cell_type": "markdown",
   "metadata": {},
   "source": [
    "Los huevos que lleven dos días puestos deben eclosionar.  Esto los debe eliminar de la tupla de huevos y convertir en nuevos insectos en la tupla de insectos."
   ]
  },
  {
   "cell_type": "code",
   "execution_count": 73,
   "metadata": {
    "collapsed": true
   },
   "outputs": [],
   "source": [
    "def eclosionar_huevos(insectos, huevos):\n",
    "    nuevos = sum([ x[0] for x in huevos if x[1] >= 2 ])\n",
    "    if nuevos == 0:\n",
    "        return insectos, huevos\n",
    "    return insectos + ((nuevos,0,0),), \\\n",
    "           tuple( x for x in huevos if x[1] < 2 )"
   ]
  },
  {
   "cell_type": "code",
   "execution_count": 82,
   "metadata": {
    "collapsed": false
   },
   "outputs": [
    {
     "name": "stdout",
     "output_type": "stream",
     "text": [
      "DIA 1 --------------\n",
      " insectos: ((2, 1, 1),)\n",
      " huevos: ()\n",
      "DIA 2 --------------\n",
      " insectos: ((2, 0, 2),)\n",
      " huevos: ((6, 0),)\n",
      "DIA 3 --------------\n",
      " insectos: ((2, 1, 3),)\n",
      " huevos: ((6, 1),)\n",
      "DIA 4 --------------\n",
      " insectos: ((2, 0, 4), (6, 0, 0))\n",
      " huevos: ((6, 0),)\n",
      "DIA 5 --------------\n",
      " insectos: ((2, 1, 5), (6, 1, 1))\n",
      " huevos: ((6, 1),)\n"
     ]
    },
    {
     "data": {
      "text/plain": [
       "5"
      ]
     },
     "execution_count": 82,
     "metadata": {},
     "output_type": "execute_result"
    }
   ],
   "source": [
    "dias(2, 10)"
   ]
  },
  {
   "cell_type": "code",
   "execution_count": null,
   "metadata": {
    "collapsed": true
   },
   "outputs": [],
   "source": []
  }
 ],
 "metadata": {
  "kernelspec": {
   "display_name": "Python 3",
   "language": "python",
   "name": "python3"
  },
  "language_info": {
   "codemirror_mode": {
    "name": "ipython",
    "version": 3
   },
   "file_extension": ".py",
   "mimetype": "text/x-python",
   "name": "python",
   "nbconvert_exporter": "python",
   "pygments_lexer": "ipython3",
   "version": "3.5.2"
  }
 },
 "nbformat": 4,
 "nbformat_minor": 1
}
