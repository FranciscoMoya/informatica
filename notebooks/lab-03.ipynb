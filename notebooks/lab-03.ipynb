{
 "metadata": {
  "name": "",
  "signature": "sha256:9c7194628ca0415d6f8aa49ac431ea6e4d2faf67dbbee0e279d529cadeacb78a"
 },
 "nbformat": 3,
 "nbformat_minor": 0,
 "worksheets": [
  {
   "cells": [
    {
     "cell_type": "markdown",
     "metadata": {},
     "source": [
      "# Lab 3: Archivos y manipulaci\u00f3n de cadenas\n",
      "\n",
      "Lee atentamente los ejercicios que se piden a continuaci\u00f3n relacionados con el procesamiento de archivos y cadenas en Python y hazlos todos ellos en una \u00fanica entrega.\n",
      "\n",
      "Todos los ejercicios deben manipular los datos de uno de los [archivos en formato Csv distribuidos por el INE](http://www.ine.es/jaxi/menu.do?type=pcaxis&path=/t13/p405&file=inebase&L=0), que contiene datos sobre los resultados de las antiguas Pruebas de Acceso a la Universidad.  Se ofrece como ejemplo para hacer pruebas [el archivo correspondiente a los datos de 2012](https://drive.google.com/file/d/0B6-YWONEXOQcem9QQnhsTFJRWUU/view?usp=sharing) pero la evaluaci\u00f3n no se realizar\u00e1 necesariamente con este archivo.\n",
      "\n",
      "El formato Csv (*comma separated values*) es un formato textual para tablas de datos. Cada l\u00ednea corresponde a una fila de la tabla. Dentro de una l\u00ednea los valores de las celdas se separan por comas.  Los valores de cada celda pueden ir entre comillas o no. El significado de cada columna y cada fila est\u00e1 en el propio archivo, en las etiquetas correspondientes a cada fila o columna.\n",
      "\n",
      "1. *Define la funci\u00f3n `comunidades_autonomas` que tiene un \u00fanico argumento de tipo cadena de texto que contiene la ruta del archivo a analizar. La funci\u00f3n debe devolver una lista con las comunidades aut\u00f3nomas que aparecen en el archivo (ver primera columna del archivo).*\n",
      "\n",
      "1. *Define una funci\u00f3n `aprobados_pau` que tiene un \u00fanico argumento de tipo cadena de texto que contiene la ruta del archivo a analizar. La funci\u00f3n debe devolver un diccionario que utilice como clave los nombres de las comunidades aut\u00f3nomas (ver primera columna del archivo) y asocie a cada una de las comunidades el n\u00famero de aprobados en las Pruebas de Acceso a la Universidad (de tipo entero).*\n",
      "\n",
      "1. *Define una funci\u00f3n `suspensos_pau` que tiene dos argumentos de tipo cadena de texto. El primero contiene la ruta del archivo a analizar. El segundo corresponde al nombre de una comunidad aut\u00f3noma seg\u00fan los nombres que figuran en la primera columna del archivo. La funci\u00f3n debe devolver el n\u00famero de suspensos en las Pruebas de Acceso a la Universidad para la comunidad indicada (tipo entero).*\n",
      "\n",
      "1. *Define una funci\u00f3n `comunidad_mas_aprobados` que tiene un \u00fanico argumento de tipo cadena de texto que contiene la ruta del archivo a analizar. La funci\u00f3n debe devolver la comunidad aut\u00f3noma con mejor tasa de aprobados en las Pruebas de Acceso a la Universidad.*\n",
      "\n",
      "1. *Define una funci\u00f3n `comunidad_mas_diferencia` que tiene un \u00fanico argumento de tipo cadena de texto que contiene la ruta del archivo a analizar. La funci\u00f3n debe devolver una tupla de dos elementos, la comunidad aut\u00f3noma con mayor diferencia entre la tasa de aprobados de junio y septiembre, y el valor de esta diferencia. En caso de empate devolver\u00e1 la primera que aparece en el archivo. Nota: la tasa de aprobados no se indica en porcentaje, sino en unidades naturales.*"
     ]
    }
   ],
   "metadata": {}
  }
 ]
}