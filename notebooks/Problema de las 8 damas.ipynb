{
 "cells": [
  {
   "cell_type": "markdown",
   "metadata": {},
   "source": [
    "Problema de las 8 damas\n",
    "=======================\n",
    "\n",
    "Averiguar todas las posibles posiciones de 8 damas en un tablero de ajedrez sin que se coman unas a otras.\n",
    "\n",
    "\n",
    "Análisis previo\n",
    "---------------\n",
    "\n",
    "Cada una de las 8 damas debe estar en una fila distinta. Cada una de las 8 damas debe estar en una columna distinta.\n",
    "\n",
    "Por tanto una posible forma de modelar una solución tentativa es mediante un vector o lista de 8 números. Cada posición del vector o lista corresponde a la dama de la fila correspondiente y su valor corresponde a la columna dentro de esa fila en la que está situada la dama.\n",
    "\n",
    "La solución puede por tanto encontrarse por enumeración exhaustiva, comprobando todas las posibles permutaciones.  Resolvamos primero el problema de encontrar todas las posibles [permutaciones de n elementos](Permutaciones.ipynb) y luego seguimos."
   ]
  },
  {
   "cell_type": "code",
   "execution_count": 1,
   "metadata": {
    "collapsed": false
   },
   "outputs": [],
   "source": [
    "def ocho_damas():\n",
    "    for p in permutaciones(list(range(8))):\n",
    "        if es_solucion(p):\n",
    "            return p"
   ]
  },
  {
   "cell_type": "markdown",
   "metadata": {},
   "source": [
    "Ya está, es así de simple.  Hemos acabado el problema, solo quedan detalles.  Como ya habrás detectado hemos usado fuerza bruta (enumeración exhaustiva).  Podemos hacerlo sin problemas porque `factorial(8)`, que es el número de posibles permutaciones de 8 elementos, es un número modesto.\n",
    "\n",
    "Para comprobar si es solución solo tenemos que comprobar las diagonales.  Ya sabemos que solo hay una dama en cada fila y en cada columna por la forma en que hemos modelado el problema.\n",
    "\n",
    "Para ello tenemos que comprobar que en cada diagonal solo hay una dama, y lo mismo con las diagonales inversas.  Podemos extraer el comportamiento común si pasamos una función que determina en qué diagonal o diagonal inversa se encuentra cada dama."
   ]
  },
  {
   "cell_type": "code",
   "execution_count": 2,
   "metadata": {
    "collapsed": false
   },
   "outputs": [],
   "source": [
    "def es_solucion(sol):\n",
    "    return  comprobar_diagonales(sol, find_diag) \\\n",
    "        and comprobar_diagonales(sol, find_diag_inv)"
   ]
  },
  {
   "cell_type": "markdown",
   "metadata": {},
   "source": [
    "Una posible forma de codificar las 15 diagonales es asignando el número 0 a la diagonal principal, números positivos correlativos a las que están por encima, y números negativos a las que están por debajo. Por eso usamos 15 contadores en un diccionario cuyas claves corresponden a los números entre -7 y 7."
   ]
  },
  {
   "cell_type": "code",
   "execution_count": 3,
   "metadata": {
    "collapsed": false
   },
   "outputs": [],
   "source": [
    "def comprobar_diagonales(sol, diag_func):\n",
    "    c = { i:0 for i in range(-7,8) }\n",
    "    for x,y in enumerate(sol):\n",
    "        c[diag_func(x,y)] += 1\n",
    "    return max(c.values()) == 1"
   ]
  },
  {
   "cell_type": "markdown",
   "metadata": {},
   "source": [
    "Dadas las coordenadas de una casilla podemos encontrar la diagonal en la que se encuentra siguiendo el criterio de arriba con un sencillo cálculo."
   ]
  },
  {
   "cell_type": "code",
   "execution_count": 4,
   "metadata": {
    "collapsed": false
   },
   "outputs": [],
   "source": [
    "def find_diag(x,y):\n",
    "    return x - y\n",
    "\n",
    "def find_diag_inv(x,y):\n",
    "    return 7 - x - y"
   ]
  },
  {
   "cell_type": "markdown",
   "metadata": {},
   "source": [
    "Para probarlo necesitamos proporcionar una definición de `permutaciones`.  Elige la que quieras de [nuestro análisis previo](Permutaciones.ipynb)."
   ]
  },
  {
   "cell_type": "code",
   "execution_count": 5,
   "metadata": {
    "collapsed": false
   },
   "outputs": [
    {
     "name": "stdout",
     "output_type": "stream",
     "text": [
      "(0, 4, 7, 5, 2, 6, 1, 3)\n"
     ]
    }
   ],
   "source": [
    "from itertools import permutations as permutaciones\n",
    "v = ocho_damas()\n",
    "print(v)"
   ]
  },
  {
   "cell_type": "markdown",
   "metadata": {},
   "source": [
    "Solo nos queda imprimir la solución."
   ]
  },
  {
   "cell_type": "code",
   "execution_count": 6,
   "metadata": {
    "collapsed": false
   },
   "outputs": [],
   "source": [
    "def imprime_solucion(sol):\n",
    "    for i in range(8):\n",
    "        imprime_linea(sol[i])\n",
    "    print(sol)"
   ]
  },
  {
   "cell_type": "code",
   "execution_count": 7,
   "metadata": {
    "collapsed": false
   },
   "outputs": [],
   "source": [
    "def imprime_linea(col):\n",
    "    print('.'*col + '*' + '.'*(7-col))"
   ]
  },
  {
   "cell_type": "code",
   "execution_count": 8,
   "metadata": {
    "collapsed": false
   },
   "outputs": [
    {
     "name": "stdout",
     "output_type": "stream",
     "text": [
      "*.......\n",
      "....*...\n",
      ".......*\n",
      ".....*..\n",
      "..*.....\n",
      "......*.\n",
      ".*......\n",
      "...*....\n",
      "(0, 4, 7, 5, 2, 6, 1, 3)\n"
     ]
    }
   ],
   "source": [
    "imprime_solucion(v)"
   ]
  },
  {
   "cell_type": "markdown",
   "metadata": {},
   "source": [
    "Si queremos buscar otra solución podemos partir de otra permutación inicial."
   ]
  },
  {
   "cell_type": "code",
   "execution_count": 9,
   "metadata": {
    "collapsed": true
   },
   "outputs": [],
   "source": [
    "def ocho_damas(inicial = None):\n",
    "    for p in permutaciones(inicial if inicial is not None \n",
    "                           else list(range(8))):\n",
    "        if es_solucion(p):\n",
    "            return p"
   ]
  },
  {
   "cell_type": "markdown",
   "metadata": {},
   "source": [
    "Ahora basta indicar una permutación inicial diferente."
   ]
  },
  {
   "cell_type": "code",
   "execution_count": 10,
   "metadata": {
    "collapsed": false
   },
   "outputs": [
    {
     "name": "stdout",
     "output_type": "stream",
     "text": [
      "*.......\n",
      "....*...\n",
      ".......*\n",
      ".....*..\n",
      "..*.....\n",
      "......*.\n",
      ".*......\n",
      "...*....\n",
      "(0, 4, 7, 5, 2, 6, 1, 3)\n"
     ]
    }
   ],
   "source": [
    "from random import shuffle\n",
    "v = shuffle(list(range(8)))\n",
    "imprime_solucion(ocho_damas(v))"
   ]
  },
  {
   "cell_type": "markdown",
   "metadata": {
    "collapsed": false
   },
   "source": [
    "Otra posibilidad es convertirlo en un generador para que pueda producir todas las posibles soluciones."
   ]
  },
  {
   "cell_type": "code",
   "execution_count": 11,
   "metadata": {
    "collapsed": true
   },
   "outputs": [],
   "source": [
    "def ocho_damas(inicial = None):\n",
    "    for p in permutaciones(inicial if inicial is not None \n",
    "                           else list(range(8))):\n",
    "        if es_solucion(p):\n",
    "            yield p"
   ]
  },
  {
   "cell_type": "markdown",
   "metadata": {},
   "source": [
    "Ahora podemos, por ejemplo imprimir las 4 primeras soluciones."
   ]
  },
  {
   "cell_type": "code",
   "execution_count": 12,
   "metadata": {
    "collapsed": false
   },
   "outputs": [
    {
     "name": "stdout",
     "output_type": "stream",
     "text": [
      "*.......\n",
      "....*...\n",
      ".......*\n",
      ".....*..\n",
      "..*.....\n",
      "......*.\n",
      ".*......\n",
      "...*....\n",
      "(0, 4, 7, 5, 2, 6, 1, 3)\n",
      "*.......\n",
      ".....*..\n",
      ".......*\n",
      "..*.....\n",
      "......*.\n",
      "...*....\n",
      ".*......\n",
      "....*...\n",
      "(0, 5, 7, 2, 6, 3, 1, 4)\n",
      "*.......\n",
      "......*.\n",
      "...*....\n",
      ".....*..\n",
      ".......*\n",
      ".*......\n",
      "....*...\n",
      "..*.....\n",
      "(0, 6, 3, 5, 7, 1, 4, 2)\n",
      "*.......\n",
      "......*.\n",
      "....*...\n",
      ".......*\n",
      ".*......\n",
      "...*....\n",
      ".....*..\n",
      "..*.....\n",
      "(0, 6, 4, 7, 1, 3, 5, 2)\n"
     ]
    }
   ],
   "source": [
    "soluciones = ocho_damas()\n",
    "for s in range(4):\n",
    "    imprime_solucion(next(soluciones))"
   ]
  },
  {
   "cell_type": "code",
   "execution_count": null,
   "metadata": {
    "collapsed": true
   },
   "outputs": [],
   "source": []
  }
 ],
 "metadata": {
  "kernelspec": {
   "display_name": "Python 3",
   "language": "python",
   "name": "python3"
  },
  "language_info": {
   "codemirror_mode": {
    "name": "ipython",
    "version": 3
   },
   "file_extension": ".py",
   "mimetype": "text/x-python",
   "name": "python",
   "nbconvert_exporter": "python",
   "pygments_lexer": "ipython3",
   "version": "3.5.2"
  }
 },
 "nbformat": 4,
 "nbformat_minor": 0
}
