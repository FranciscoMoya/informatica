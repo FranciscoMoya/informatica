{
 "metadata": {
  "name": "",
  "signature": "sha256:b7f541c4e68b9e1034ab6c983bb7ecb614527852d3409416302f2c6e8621bc1a"
 },
 "nbformat": 3,
 "nbformat_minor": 0,
 "worksheets": [
  {
   "cells": [
    {
     "cell_type": "markdown",
     "metadata": {},
     "source": [
      "Problema de las 8 damas\n",
      "=======================\n",
      "\n",
      "Averiguar todas las posibles posiciones de 8 damas en un tablero de ajedrez sin que se coman unas a otras.\n",
      "\n",
      "\n",
      "An\u00e1lisis previo\n",
      "---------------\n",
      "\n",
      "Cada una de las 8 damas debe estar en una fila distinta. Cada una de las 8 damas debe estar en una columna distinta.\n",
      "\n",
      "Por tanto una posible forma de modelar una soluci\u00f3n tentativa es mediante un vector o lista de 8 n\u00fameros. Cada posici\u00f3n del vector o lista corresponde a la dama de la fila correspondiente y su valor corresponde a la columna dentro de esa fila en la que est\u00e1 situada la dama.\n",
      "\n",
      "La soluci\u00f3n puede por tanto encontrarse por enumeraci\u00f3n exhaustiva, comprobando todas las posibles permutaciones."
     ]
    },
    {
     "cell_type": "code",
     "collapsed": false,
     "input": [
      "def ocho_damas():\n",
      "    v = permutacion_inicial()\n",
      "    return encuentra_permutacion(v, es_solucion)"
     ],
     "language": "python",
     "metadata": {},
     "outputs": [],
     "prompt_number": 54
    },
    {
     "cell_type": "code",
     "collapsed": false,
     "input": [
      "def permutacion_inicial():\n",
      "    return list(range(8))"
     ],
     "language": "python",
     "metadata": {},
     "outputs": [],
     "prompt_number": 55
    },
    {
     "cell_type": "markdown",
     "metadata": {},
     "source": [
      "Vamos a usar el valor de retorno de la funci\u00f3n de evaluaci\u00f3n para permitir parar la b\u00fasqueda.  Si se desea imprimir todas las soluciones basta con devolver siempre `False` en la funci\u00f3n que se le pasa a `para_cada_permutacion`."
     ]
    },
    {
     "cell_type": "code",
     "collapsed": false,
     "input": [
      "def encuentra_permutacion(v, func):\n",
      "    return v if intercambia_primero_permuta_resto(v, 0, func) else None"
     ],
     "language": "python",
     "metadata": {},
     "outputs": [],
     "prompt_number": 56
    },
    {
     "cell_type": "code",
     "collapsed": false,
     "input": [
      "def intercambia_primero_permuta_resto(v, primero, func):\n",
      "    if primero >= len(v):\n",
      "        return func(v)\n",
      "    \n",
      "    for i in range(primero, len(v)):\n",
      "        v[primero], v[i] = v[i], v[primero]\n",
      "        if intercambia_primero_permuta_resto(v, primero + 1, func):\n",
      "            return True\n",
      "        v[primero], v[i] = v[i], v[primero]\n",
      "\n",
      "    return False"
     ],
     "language": "python",
     "metadata": {},
     "outputs": [],
     "prompt_number": 57
    },
    {
     "cell_type": "markdown",
     "metadata": {},
     "source": [
      "Para comprobar si es soluci\u00f3n solo tenemos que comprobar las diagonales.  Ya sabemos que solo hay una dama en cada fila y en cada columna por la forma en que hemos modelado el problema.\n",
      "\n",
      "Para ello tenemos que comprobar que en cada diagonal solo hay una dama, y lo mismo con las diagonales inversas.  Podemos extraer el comportamiento com\u00fan si pasamos una funci\u00f3n que determina en qu\u00e9 diagonal o diagonal inversa se encuentra cada dama."
     ]
    },
    {
     "cell_type": "code",
     "collapsed": false,
     "input": [
      "def es_solucion(sol):\n",
      "    return  comprobar_diagonales(sol, find_diag) \\\n",
      "        and comprobar_diagonales(sol, find_diag_inv)"
     ],
     "language": "python",
     "metadata": {},
     "outputs": [],
     "prompt_number": 58
    },
    {
     "cell_type": "markdown",
     "metadata": {},
     "source": [
      "Una posible forma de codificar las 15 diagonales es asignando el n\u00famero 0 a la diagonal principal, n\u00fameros positivos correlativos a las que est\u00e1n por encima, y n\u00fameros negativos a las que est\u00e1n por debajo. Por eso usamos 15 contadores en un diccionario cuyas claves corresponden a los n\u00fameros entre -7 y 7."
     ]
    },
    {
     "cell_type": "code",
     "collapsed": false,
     "input": [
      "def comprobar_diagonales(sol, diag_func):\n",
      "    c = { i:0 for i in range(-7,8) }\n",
      "    for i in range(8):\n",
      "        c[diag_func(sol[i],i)] += 1\n",
      "    return max(c.values()) == 1"
     ],
     "language": "python",
     "metadata": {},
     "outputs": [],
     "prompt_number": 59
    },
    {
     "cell_type": "markdown",
     "metadata": {},
     "source": [
      "Dadas las coordenadas de una casilla podemos encontrar la diagonal en la que se encuentra siguiendo el criterio de arriba con un sencillo c\u00e1lculo."
     ]
    },
    {
     "cell_type": "code",
     "collapsed": false,
     "input": [
      "def find_diag(x,y):\n",
      "    return x - y\n",
      "\n",
      "def find_diag_inv(x,y):\n",
      "    return 7 - x - y"
     ],
     "language": "python",
     "metadata": {},
     "outputs": [],
     "prompt_number": 60
    },
    {
     "cell_type": "code",
     "collapsed": false,
     "input": [
      "v = ocho_damas()\n",
      "print(v)"
     ],
     "language": "python",
     "metadata": {},
     "outputs": [
      {
       "output_type": "stream",
       "stream": "stdout",
       "text": [
        "[0, 4, 7, 5, 2, 6, 1, 3]\n"
       ]
      }
     ],
     "prompt_number": 61
    },
    {
     "cell_type": "markdown",
     "metadata": {},
     "source": [
      "Solo nos queda imprimir la soluci\u00f3n."
     ]
    },
    {
     "cell_type": "code",
     "collapsed": false,
     "input": [
      "def imprime_solucion(sol):\n",
      "    for i in range(8):\n",
      "        imprime_linea(sol[i])\n",
      "    print(sol)"
     ],
     "language": "python",
     "metadata": {},
     "outputs": [],
     "prompt_number": 74
    },
    {
     "cell_type": "code",
     "collapsed": false,
     "input": [
      "def imprime_linea(col):\n",
      "    print('.'*col + '*' + '.'*(7-col))"
     ],
     "language": "python",
     "metadata": {},
     "outputs": [],
     "prompt_number": 75
    },
    {
     "cell_type": "code",
     "collapsed": false,
     "input": [
      "imprime_solucion(v)"
     ],
     "language": "python",
     "metadata": {},
     "outputs": [
      {
       "output_type": "stream",
       "stream": "stdout",
       "text": [
        ".......*\n",
        "..*.....\n",
        "*.......\n",
        ".....*..\n",
        ".*......\n",
        "....*...\n",
        "......*.\n",
        "...*....\n",
        "[7, 2, 0, 5, 1, 4, 6, 3]\n"
       ]
      }
     ],
     "prompt_number": 76
    },
    {
     "cell_type": "markdown",
     "metadata": {},
     "source": [
      "Otra soluci\u00f3n puede obtenerse llamando a `encuentra_permutacion` si partimos de otro vector inicial."
     ]
    },
    {
     "cell_type": "code",
     "collapsed": false,
     "input": [
      "from random import shuffle\n",
      "shuffle(v)\n",
      "v = encuentra_permutacion(v, es_solucion)\n",
      "imprime_solucion(v)"
     ],
     "language": "python",
     "metadata": {},
     "outputs": [
      {
       "output_type": "stream",
       "stream": "stdout",
       "text": [
        "...*....\n",
        ".....*..\n",
        "*.......\n",
        "....*...\n",
        ".*......\n",
        ".......*\n",
        "..*.....\n",
        "......*.\n",
        "[3, 5, 0, 4, 1, 7, 2, 6]\n"
       ]
      }
     ],
     "prompt_number": 77
    },
    {
     "cell_type": "code",
     "collapsed": false,
     "input": [],
     "language": "python",
     "metadata": {},
     "outputs": []
    }
   ],
   "metadata": {}
  }
 ]
}