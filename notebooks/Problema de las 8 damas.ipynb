{
 "cells": [
  {
   "cell_type": "markdown",
   "metadata": {},
   "source": [
    "Problema de las 8 damas\n",
    "=======================\n",
    "\n",
    "Averiguar todas las posibles posiciones de 8 damas en un tablero de ajedrez sin que se coman unas a otras.\n",
    "\n",
    "\n",
    "Análisis previo\n",
    "---------------\n",
    "\n",
    "Cada una de las 8 damas debe estar en una fila distinta. Cada una de las 8 damas debe estar en una columna distinta.\n",
    "\n",
    "Por tanto una posible forma de modelar una solución tentativa es mediante un vector o lista de 8 números. Cada posición del vector o lista corresponde a la dama de la fila correspondiente y su valor corresponde a la columna dentro de esa fila en la que está situada la dama.\n",
    "\n",
    "La solución puede por tanto encontrarse por enumeración exhaustiva, comprobando todas las posibles permutaciones."
   ]
  },
  {
   "cell_type": "code",
   "execution_count": 54,
   "metadata": {
    "collapsed": false
   },
   "outputs": [],
   "source": [
    "def ocho_damas():\n",
    "    v = permutacion_inicial()\n",
    "    return encuentra_permutacion(v, es_solucion)"
   ]
  },
  {
   "cell_type": "code",
   "execution_count": 55,
   "metadata": {
    "collapsed": false
   },
   "outputs": [],
   "source": [
    "def permutacion_inicial():\n",
    "    return list(range(8))"
   ]
  },
  {
   "cell_type": "markdown",
   "metadata": {},
   "source": [
    "Vamos a usar el valor de retorno de la función de evaluación para permitir parar la búsqueda.  Si se desea imprimir todas las soluciones basta con devolver siempre `False` en la función que se le pasa a `para_cada_permutacion`."
   ]
  },
  {
   "cell_type": "code",
   "execution_count": 56,
   "metadata": {
    "collapsed": false
   },
   "outputs": [],
   "source": [
    "def encuentra_permutacion(v, func):\n",
    "    return v if intercambia_primero_permuta_resto(v, 0, func) else None"
   ]
  },
  {
   "cell_type": "code",
   "execution_count": 57,
   "metadata": {
    "collapsed": false
   },
   "outputs": [],
   "source": [
    "def intercambia_primero_permuta_resto(v, primero, func):\n",
    "    if primero >= len(v):\n",
    "        return func(v)\n",
    "    \n",
    "    for i in range(primero, len(v)):\n",
    "        v[primero], v[i] = v[i], v[primero]\n",
    "        if intercambia_primero_permuta_resto(v, primero + 1, func):\n",
    "            return True\n",
    "        v[primero], v[i] = v[i], v[primero]\n",
    "\n",
    "    return False"
   ]
  },
  {
   "cell_type": "markdown",
   "metadata": {},
   "source": [
    "Para comprobar si es solución solo tenemos que comprobar las diagonales.  Ya sabemos que solo hay una dama en cada fila y en cada columna por la forma en que hemos modelado el problema.\n",
    "\n",
    "Para ello tenemos que comprobar que en cada diagonal solo hay una dama, y lo mismo con las diagonales inversas.  Podemos extraer el comportamiento común si pasamos una función que determina en qué diagonal o diagonal inversa se encuentra cada dama."
   ]
  },
  {
   "cell_type": "code",
   "execution_count": 58,
   "metadata": {
    "collapsed": false
   },
   "outputs": [],
   "source": [
    "def es_solucion(sol):\n",
    "    return  comprobar_diagonales(sol, find_diag) \\\n",
    "        and comprobar_diagonales(sol, find_diag_inv)"
   ]
  },
  {
   "cell_type": "markdown",
   "metadata": {},
   "source": [
    "Una posible forma de codificar las 15 diagonales es asignando el número 0 a la diagonal principal, números positivos correlativos a las que están por encima, y números negativos a las que están por debajo. Por eso usamos 15 contadores en un diccionario cuyas claves corresponden a los números entre -7 y 7."
   ]
  },
  {
   "cell_type": "code",
   "execution_count": 59,
   "metadata": {
    "collapsed": false
   },
   "outputs": [],
   "source": [
    "def comprobar_diagonales(sol, diag_func):\n",
    "    c = { i:0 for i in range(-7,8) }\n",
    "    for i in range(8):\n",
    "        c[diag_func(sol[i],i)] += 1\n",
    "    return max(c.values()) == 1"
   ]
  },
  {
   "cell_type": "markdown",
   "metadata": {},
   "source": [
    "Dadas las coordenadas de una casilla podemos encontrar la diagonal en la que se encuentra siguiendo el criterio de arriba con un sencillo cálculo."
   ]
  },
  {
   "cell_type": "code",
   "execution_count": 60,
   "metadata": {
    "collapsed": false
   },
   "outputs": [],
   "source": [
    "def find_diag(x,y):\n",
    "    return x - y\n",
    "\n",
    "def find_diag_inv(x,y):\n",
    "    return 7 - x - y"
   ]
  },
  {
   "cell_type": "code",
   "execution_count": 61,
   "metadata": {
    "collapsed": false
   },
   "outputs": [
    {
     "name": "stdout",
     "output_type": "stream",
     "text": [
      "[0, 4, 7, 5, 2, 6, 1, 3]\n"
     ]
    }
   ],
   "source": [
    "v = ocho_damas()\n",
    "print(v)"
   ]
  },
  {
   "cell_type": "markdown",
   "metadata": {},
   "source": [
    "Solo nos queda imprimir la solución."
   ]
  },
  {
   "cell_type": "code",
   "execution_count": 74,
   "metadata": {
    "collapsed": false
   },
   "outputs": [],
   "source": [
    "def imprime_solucion(sol):\n",
    "    for i in range(8):\n",
    "        imprime_linea(sol[i])\n",
    "    print(sol)"
   ]
  },
  {
   "cell_type": "code",
   "execution_count": 75,
   "metadata": {
    "collapsed": false
   },
   "outputs": [],
   "source": [
    "def imprime_linea(col):\n",
    "    print('.'*col + '*' + '.'*(7-col))"
   ]
  },
  {
   "cell_type": "code",
   "execution_count": 76,
   "metadata": {
    "collapsed": false
   },
   "outputs": [
    {
     "name": "stdout",
     "output_type": "stream",
     "text": [
      ".......*\n",
      "..*.....\n",
      "*.......\n",
      ".....*..\n",
      ".*......\n",
      "....*...\n",
      "......*.\n",
      "...*....\n",
      "[7, 2, 0, 5, 1, 4, 6, 3]\n"
     ]
    }
   ],
   "source": [
    "imprime_solucion(v)"
   ]
  },
  {
   "cell_type": "markdown",
   "metadata": {},
   "source": [
    "Otra solución puede obtenerse llamando a `encuentra_permutacion` si partimos de otro vector inicial."
   ]
  },
  {
   "cell_type": "code",
   "execution_count": 77,
   "metadata": {
    "collapsed": false
   },
   "outputs": [
    {
     "name": "stdout",
     "output_type": "stream",
     "text": [
      "...*....\n",
      ".....*..\n",
      "*.......\n",
      "....*...\n",
      ".*......\n",
      ".......*\n",
      "..*.....\n",
      "......*.\n",
      "[3, 5, 0, 4, 1, 7, 2, 6]\n"
     ]
    }
   ],
   "source": [
    "from random import shuffle\n",
    "shuffle(v)\n",
    "v = encuentra_permutacion(v, es_solucion)\n",
    "imprime_solucion(v)"
   ]
  },
  {
   "cell_type": "code",
   "execution_count": null,
   "metadata": {
    "collapsed": false
   },
   "outputs": [],
   "source": []
  }
 ],
 "metadata": {
  "kernelspec": {
   "display_name": "Python 3",
   "language": "python",
   "name": "python3"
  },
  "language_info": {
   "codemirror_mode": {
    "name": "ipython",
    "version": 3
   },
   "file_extension": ".py",
   "mimetype": "text/x-python",
   "name": "python",
   "nbconvert_exporter": "python",
   "pygments_lexer": "ipython3",
   "version": "3.5.2"
  }
 },
 "nbformat": 4,
 "nbformat_minor": 0
}
