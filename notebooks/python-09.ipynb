{
 "metadata": {
  "name": "",
  "signature": "sha256:af5a996ab256b3e0f7ad72c14fd49b559bffea992600c7e6b35724da13e2fa5b"
 },
 "nbformat": 3,
 "nbformat_minor": 0,
 "worksheets": [
  {
   "cells": [
    {
     "cell_type": "markdown",
     "metadata": {},
     "source": [
      "# Listas, tuplas, conjuntos y diccionarios\n",
      "\n",
      "La gama de contenedores de Python hay que conocerla con cierta profundidad para hacer programas no triviales.  Estudia los cap\u00edtulos 8, 9 y 10 del libro de texto y empieza a practicar.\n",
      "\n",
      "Directa o indirectamente hemos conocido varias formas de agrupar elementos en Python.  La que hemos utilizado con m\u00e1s frecuencia es la *lista*, que se crea con corchetes.  Alguna vez han aparecido las *tuplas* que aparecen entre par\u00e9ntesis. Y a\u00fan hay otra forma, que son los conjuntos, que se expresan como una seuencia de elementos entre llaves."
     ]
    },
    {
     "cell_type": "code",
     "collapsed": false,
     "input": [
      "a = [ 1, 2, 3 ]\n",
      "b = ( 1, 2, 3 )\n",
      "c = { 1, 2, 3 }"
     ],
     "language": "python",
     "metadata": {},
     "outputs": [],
     "prompt_number": 59
    },
    {
     "cell_type": "markdown",
     "metadata": {},
     "source": [
      "Aparentemente listas y tuplas funcionan de forma parecida."
     ]
    },
    {
     "cell_type": "code",
     "collapsed": false,
     "input": [
      "print a[1:]\n",
      "for i in a:\n",
      "    print i\n",
      "if 3 in a:\n",
      "    print 'El 3 est\u00e1'"
     ],
     "language": "python",
     "metadata": {},
     "outputs": [
      {
       "output_type": "stream",
       "stream": "stdout",
       "text": [
        "[2, 3]\n",
        "1\n",
        "2\n",
        "3\n",
        "El 3 est\u00e1\n"
       ]
      }
     ],
     "prompt_number": 60
    },
    {
     "cell_type": "code",
     "collapsed": false,
     "input": [
      "b[1:]\n",
      "for i in b:\n",
      "    print i\n",
      "if 3 in a:\n",
      "    print 'El 3 est\u00e1'"
     ],
     "language": "python",
     "metadata": {},
     "outputs": [
      {
       "output_type": "stream",
       "stream": "stdout",
       "text": [
        "1\n",
        "2\n",
        "3\n",
        "El 3 est\u00e1\n"
       ]
      }
     ],
     "prompt_number": 61
    },
    {
     "cell_type": "markdown",
     "metadata": {},
     "source": [
      "Los conjuntos son ligeramente diferentes, porque no permiten indexar, pero s\u00ed iterar y determinar pertenencia.  De hecho son especialmente eficientes en esta \u00faltima operaci\u00f3n."
     ]
    },
    {
     "cell_type": "code",
     "collapsed": false,
     "input": [
      "# c[1:] <- No podemos\n",
      "for i in c:\n",
      "    print i\n",
      "if 3 in a:\n",
      "    print 'El 3 est\u00e1'"
     ],
     "language": "python",
     "metadata": {},
     "outputs": [
      {
       "output_type": "stream",
       "stream": "stdout",
       "text": [
        "1\n",
        "2\n",
        "3\n",
        "El 3 est\u00e1\n"
       ]
      }
     ],
     "prompt_number": 62
    },
    {
     "cell_type": "markdown",
     "metadata": {},
     "source": [
      "Los diccionarios se comportan como conjuntos, pero adem\u00e1s tienen una operaci\u00f3n de indexaci\u00f3n especial, que permiten acceder a valores independientes de los elementos que act\u00faan como \u00edndice."
     ]
    },
    {
     "cell_type": "code",
     "collapsed": false,
     "input": [
      "d = { 1:'uno', 2:'dos', 3:'tres' }\n",
      "for i in d:\n",
      "    print i, d[i]\n",
      "if 3 in d:\n",
      "    print 'El 3 est\u00e1'"
     ],
     "language": "python",
     "metadata": {},
     "outputs": [
      {
       "output_type": "stream",
       "stream": "stdout",
       "text": [
        "1 uno\n",
        "2 dos\n",
        "3 tres\n",
        "El 3 est\u00e1\n"
       ]
      }
     ],
     "prompt_number": 63
    },
    {
     "cell_type": "markdown",
     "metadata": {},
     "source": [
      "Otra caracter\u00edstica distintiva de conjuntos y diccionarios es que el orden no necesariamente refleja el orden en que se introdujeron los elementos.  Se dice que son contenedores sin orden."
     ]
    },
    {
     "cell_type": "code",
     "collapsed": false,
     "input": [
      "c = { 3, 1, 2 }\n",
      "d = { 2:'dos', 1:'uno', 3:'tres' }\n",
      "for i in c:\n",
      "    print i\n",
      "for i in d:\n",
      "    print i, d[i]"
     ],
     "language": "python",
     "metadata": {},
     "outputs": [
      {
       "output_type": "stream",
       "stream": "stdout",
       "text": [
        "1\n",
        "2\n",
        "3\n",
        "1 uno\n",
        "2 dos\n",
        "3 tres\n"
       ]
      }
     ],
     "prompt_number": 64
    },
    {
     "cell_type": "markdown",
     "metadata": {},
     "source": [
      "## Mutabilidad en listas\n",
      "\n",
      "Las listas tienen algunas caracter\u00edsticas especiales, que deben ser conocidas para evitar sorpresas.  Por ejemplo, se trata de un tipo *mutable*.  Esto quiere decir que podemos usar el operador de indexaci\u00f3n (corchetes) al lado izquierdo de una asignaci\u00f3n."
     ]
    },
    {
     "cell_type": "code",
     "collapsed": false,
     "input": [
      "a = range(20)\n",
      "a[19] = 58\n",
      "a[5:12] = []\n",
      "print a"
     ],
     "language": "python",
     "metadata": {},
     "outputs": [
      {
       "output_type": "stream",
       "stream": "stdout",
       "text": [
        "[0, 1, 2, 3, 4, 12, 13, 14, 15, 16, 17, 18, 58]\n"
       ]
      }
     ],
     "prompt_number": 65
    },
    {
     "cell_type": "markdown",
     "metadata": {},
     "source": [
      "La mutabilidad tiene consecuencias muy importantes. Vamos a ver una serie de ejemplos para ilustrarlas."
     ]
    },
    {
     "cell_type": "code",
     "collapsed": false,
     "input": [
      "consonantes = ['b', 'c', 'd', 'f']\n",
      "vocales = ['a', 'e', 'i']\n",
      "letras = [consonantes, vocales]\n",
      "letras2 = [['b', 'c', 'd', 'f'], ['a', 'e', 'i']]"
     ],
     "language": "python",
     "metadata": {},
     "outputs": [],
     "prompt_number": 66
    },
    {
     "cell_type": "markdown",
     "metadata": {},
     "source": [
      "Aparentemente `letras` y `letras2` son lo mismo."
     ]
    },
    {
     "cell_type": "code",
     "collapsed": false,
     "input": [
      "print 'letras =', letras\n",
      "print 'letras2 =', letras2\n",
      "print letras == letras2"
     ],
     "language": "python",
     "metadata": {},
     "outputs": [
      {
       "output_type": "stream",
       "stream": "stdout",
       "text": [
        "letras = [['b', 'c', 'd', 'f'], ['a', 'e', 'i']]\n",
        "letras2 = [['b', 'c', 'd', 'f'], ['a', 'e', 'i']]\n",
        "True\n"
       ]
      }
     ],
     "prompt_number": 67
    },
    {
     "cell_type": "markdown",
     "metadata": {},
     "source": [
      "Pero f\u00edjate en el resultado de manipular la lista `vocales` sin tocar en absoluto la lista `letras`."
     ]
    },
    {
     "cell_type": "code",
     "collapsed": false,
     "input": [
      "vocales.append('o')\n",
      "print 'letras =', letras\n",
      "print 'letras2 =', letras2\n",
      "print letras == letras2"
     ],
     "language": "python",
     "metadata": {},
     "outputs": [
      {
       "output_type": "stream",
       "stream": "stdout",
       "text": [
        "letras = [['b', 'c', 'd', 'f'], ['a', 'e', 'i', 'o']]\n",
        "letras2 = [['b', 'c', 'd', 'f'], ['a', 'e', 'i']]\n",
        "False\n"
       ]
      }
     ],
     "prompt_number": 68
    },
    {
     "cell_type": "markdown",
     "metadata": {},
     "source": [
      "Python no guarda el contenido de las listas `consonantes` y `vocales` como elementos de `letras`, sino que guarda una referencia al objeto original, que puede manipularse afectando a todas las variables que contienen referencias a esas listas.\n",
      "\n",
      "Podemos ver que se trata de objetos diferentes empleando la funci\u00f3n `id` o bien con el Viz Mode de Codeskulptor o [PythonTutor](http://www.pythontutor.com/visualize.html#code=consonantes+%3D+%5B'b',+'c',+'d',+'f'%5D%0Avocales+%3D+%5B'a',+'e',+'i'%5D%0Aletras+%3D+%5Bconsonantes,+vocales%5D%0Aletras2+%3D+%5B%5B'b',+'c',+'d',+'f'%5D,+%5B'a',+'e',+'i'%5D%5D%0A&mode=display&origin=opt-frontend.js&cumulative=false&heapPrimitives=false&textReferences=false&py=2&rawInputLstJSON=%5B%5D&curInstr=4)."
     ]
    },
    {
     "cell_type": "code",
     "collapsed": false,
     "input": [
      "print id(letras), id(letras2)"
     ],
     "language": "python",
     "metadata": {},
     "outputs": [
      {
       "output_type": "stream",
       "stream": "stdout",
       "text": [
        "140227943502696 140227965571656\n"
       ]
      }
     ],
     "prompt_number": 69
    },
    {
     "cell_type": "markdown",
     "metadata": {},
     "source": [
      "Esto tiene m\u00e1s implicaciones de las que vemos a primera vista, porque el paso de par\u00e1metros no es m\u00e1s que un caso particular de todo esto."
     ]
    },
    {
     "cell_type": "code",
     "collapsed": false,
     "input": [
      "def f(lista):\n",
      "    lista[1].append('u')\n",
      "    \n",
      "f(letras2)\n",
      "\n",
      "print letras2"
     ],
     "language": "python",
     "metadata": {},
     "outputs": [
      {
       "output_type": "stream",
       "stream": "stdout",
       "text": [
        "[['b', 'c', 'd', 'f'], ['a', 'e', 'i', 'u']]\n"
       ]
      }
     ],
     "prompt_number": 70
    },
    {
     "cell_type": "markdown",
     "metadata": {},
     "source": [
      "Hasta ahora cuando pas\u00e1bamos un valor a una funci\u00f3n se trataba de una copia, que pod\u00eda manipular a su antojo sin afectar al programa que llamaba.  Por ejemplo:"
     ]
    },
    {
     "cell_type": "code",
     "collapsed": false,
     "input": [
      "def cifras(n):\n",
      "    while n > 0:\n",
      "        print n%10\n",
      "        n /= 10\n",
      "\n",
      "n = 1985\n",
      "cifras(n)\n",
      "print n"
     ],
     "language": "python",
     "metadata": {},
     "outputs": [
      {
       "output_type": "stream",
       "stream": "stdout",
       "text": [
        "5\n",
        "8\n",
        "9\n",
        "1\n",
        "1985\n"
       ]
      }
     ],
     "prompt_number": 71
    },
    {
     "cell_type": "markdown",
     "metadata": {},
     "source": [
      "Al pasar una lista se est\u00e1 pasando una referencia al objeto correspondiente.  Al tratarse de un objeto mutable la funci\u00f3n puede devolver resultados a la funci\u00f3n que llama sin ni siquiera usar `return`.  Nunca hagas esto."
     ]
    },
    {
     "cell_type": "code",
     "collapsed": false,
     "input": [
      "def cifras(n, lista):  # Nunca hagas esto\n",
      "    while n > 0:\n",
      "        lista.append(n%10)\n",
      "        n /= 10\n",
      "\n",
      "n = []\n",
      "cifras(1985, n)\n",
      "print n"
     ],
     "language": "python",
     "metadata": {},
     "outputs": [
      {
       "output_type": "stream",
       "stream": "stdout",
       "text": [
        "[5, 8, 9, 1]\n"
       ]
      }
     ],
     "prompt_number": 72
    },
    {
     "cell_type": "markdown",
     "metadata": {},
     "source": [
      "Recuerda que programas para que otros lean tus programas.  Si escondes el valor de retorno solo est\u00e1s dificultando la lectura."
     ]
    },
    {
     "cell_type": "code",
     "collapsed": false,
     "input": [
      "def cifras(n):\n",
      "    lista = []\n",
      "    while n > 0:\n",
      "        lista.append(n%10)\n",
      "        n /= 10\n",
      "    return lista\n",
      "\n",
      "print cifras(1985)"
     ],
     "language": "python",
     "metadata": {},
     "outputs": [
      {
       "output_type": "stream",
       "stream": "stdout",
       "text": [
        "[5, 8, 9, 1]\n"
       ]
      }
     ],
     "prompt_number": 73
    },
    {
     "cell_type": "markdown",
     "metadata": {},
     "source": [
      "## Slicing en listas\n",
      "\n",
      "Se llama *slicing* (partir en rodajas) a las operaciones que seleccionan una parte de la lista, generando una nueva lista en principio m\u00e1s peque\u00f1a.  Familiar\u00edzate con las operaciones de *slicing*, son las m\u00e1s frecuentes y no solo en listas.\n",
      "\n",
      "Veamos algunos ejemplos."
     ]
    },
    {
     "cell_type": "code",
     "collapsed": false,
     "input": [
      "L1 = range(10)\n",
      "L2 = range(10)\n",
      "print L1\n",
      "print L2"
     ],
     "language": "python",
     "metadata": {},
     "outputs": [
      {
       "output_type": "stream",
       "stream": "stdout",
       "text": [
        "[0, 1, 2, 3, 4, 5, 6, 7, 8, 9]\n",
        "[0, 1, 2, 3, 4, 5, 6, 7, 8, 9]\n"
       ]
      }
     ],
     "prompt_number": 107
    },
    {
     "cell_type": "markdown",
     "metadata": {},
     "source": [
      "Cuando se selecciona una parte de la lista el resultado es una lista.  En cambio si se usa un \u00edndice concreto (operaci\u00f3n de indexaci\u00f3n) el resultado es un elemento concreto.  Eso es muy importante para manipular la lista.  Veamos dos ejemplos en los que sustituimos el segundo elemento.  \n",
      "\n",
      "En el primer caso usamos indexaci\u00f3n, metemos como segundo elemento el resultado de la operaci\u00f3n de slicing `L1[5:]`. Es decir, a partir del elemento 5.\n",
      "\n",
      "En el segundo caso sustituimos la lista `L2[1:1]` por la lista `L2[5:]`.  Aunque `L2[1:1]` solo tenga un elemento sigue siendo una lista, no un elemento.  Por eso al sustituir una lista por otra estamos insertando."
     ]
    },
    {
     "cell_type": "code",
     "collapsed": false,
     "input": [
      "L1[1] = L1[5:]\n",
      "L2[1:1] = L2[5:]\n",
      "print L1\n",
      "print L2"
     ],
     "language": "python",
     "metadata": {},
     "outputs": [
      {
       "output_type": "stream",
       "stream": "stdout",
       "text": [
        "[0, [5, 6, 7, 8, 9], 2, 3, 4, 5, 6, 7, 8, 9]\n",
        "[0, 5, 6, 7, 8, 9, 1, 2, 3, 4, 5, 6, 7, 8, 9]\n"
       ]
      }
     ],
     "prompt_number": 108
    },
    {
     "cell_type": "markdown",
     "metadata": {},
     "source": [
      "Un ejercicio interesante es practicar *slicing* para seleccionar las distintas partes de un Sudoku."
     ]
    },
    {
     "cell_type": "code",
     "collapsed": false,
     "input": [
      "sudoku = [\n",
      "[4,9,1,3,6,2,8,7,5],\n",
      "[5,2,6,8,7,1,4,9,3],\n",
      "[7,8,3,9,5,4,6,1,2],\n",
      "[2,3,9,4,1,7,5,8,6],\n",
      "[1,5,7,6,3,8,9,2,4],\n",
      "[6,4,8,2,9,5,7,3,1],\n",
      "[8,7,2,1,4,6,3,5,9],\n",
      "[9,1,4,5,8,3,2,6,7],\n",
      "[3,6,5,7,2,9,1,4,8]]"
     ],
     "language": "python",
     "metadata": {},
     "outputs": [],
     "prompt_number": 109
    },
    {
     "cell_type": "markdown",
     "metadata": {},
     "source": [
      "Practica con filas, y con elementos de una fila.  Pero hasta que domines las *list comprehensions* que se cuentan m\u00e1s adelante no ser\u00e1s capaz de seleccionar los cuadrantes. "
     ]
    },
    {
     "cell_type": "markdown",
     "metadata": {},
     "source": [
      "## M\u00e9todos de una lista\n",
      "\n",
      "Familiar\u00edzate con los m\u00e9todos de las listas.  Se utilizan much\u00edsimo."
     ]
    },
    {
     "cell_type": "code",
     "collapsed": false,
     "input": [
      "L = range(10)"
     ],
     "language": "python",
     "metadata": {},
     "outputs": [],
     "prompt_number": 74
    },
    {
     "cell_type": "markdown",
     "metadata": {},
     "source": [
      "A\u00f1adir un elemento al final."
     ]
    },
    {
     "cell_type": "code",
     "collapsed": false,
     "input": [
      "L.append(4)\n",
      "print L"
     ],
     "language": "python",
     "metadata": {},
     "outputs": [
      {
       "output_type": "stream",
       "stream": "stdout",
       "text": [
        "[0, 1, 2, 3, 4, 5, 6, 7, 8, 9, 4]\n"
       ]
      }
     ],
     "prompt_number": 75
    },
    {
     "cell_type": "markdown",
     "metadata": {},
     "source": [
      "Contar todas las apariciones del elemento `4`."
     ]
    },
    {
     "cell_type": "code",
     "collapsed": false,
     "input": [
      "print L.count(4)"
     ],
     "language": "python",
     "metadata": {},
     "outputs": [
      {
       "output_type": "stream",
       "stream": "stdout",
       "text": [
        "2\n"
       ]
      }
     ],
     "prompt_number": 76
    },
    {
     "cell_type": "markdown",
     "metadata": {},
     "source": [
      "Insertar el elemento `80` en la posici\u00f3n `3`."
     ]
    },
    {
     "cell_type": "code",
     "collapsed": false,
     "input": [
      "L.insert(3, 80)\n",
      "print L"
     ],
     "language": "python",
     "metadata": {},
     "outputs": [
      {
       "output_type": "stream",
       "stream": "stdout",
       "text": [
        "[0, 1, 2, 80, 3, 4, 5, 6, 7, 8, 9, 4]\n"
       ]
      }
     ],
     "prompt_number": 77
    },
    {
     "cell_type": "markdown",
     "metadata": {},
     "source": [
      "A\u00f1adir al final los elementos de otra lista."
     ]
    },
    {
     "cell_type": "code",
     "collapsed": false,
     "input": [
      "L.extend([2,3,4])\n",
      "print L"
     ],
     "language": "python",
     "metadata": {},
     "outputs": [
      {
       "output_type": "stream",
       "stream": "stdout",
       "text": [
        "[0, 1, 2, 80, 3, 4, 5, 6, 7, 8, 9, 4, 2, 3, 4]\n"
       ]
      }
     ],
     "prompt_number": 78
    },
    {
     "cell_type": "markdown",
     "metadata": {},
     "source": [
      "Eliminar la primera ocurrencia del elemento `4`."
     ]
    },
    {
     "cell_type": "code",
     "collapsed": false,
     "input": [
      "L.remove(4)\n",
      "print L"
     ],
     "language": "python",
     "metadata": {},
     "outputs": [
      {
       "output_type": "stream",
       "stream": "stdout",
       "text": [
        "[0, 1, 2, 80, 3, 5, 6, 7, 8, 9, 4, 2, 3, 4]\n"
       ]
      }
     ],
     "prompt_number": 79
    },
    {
     "cell_type": "markdown",
     "metadata": {},
     "source": [
      "Imprimir la posici\u00f3n del primer elemento de valor `4`."
     ]
    },
    {
     "cell_type": "code",
     "collapsed": false,
     "input": [
      "print L.index(4)"
     ],
     "language": "python",
     "metadata": {},
     "outputs": [
      {
       "output_type": "stream",
       "stream": "stdout",
       "text": [
        "10\n"
       ]
      }
     ],
     "prompt_number": 80
    },
    {
     "cell_type": "markdown",
     "metadata": {},
     "source": [
      "Eliminar el \u00faltimo de la lista devolviendo su valor.  Tambi\u00e9n se puede indicar una posici\u00f3n para eliminar uno cualquiera de la lista."
     ]
    },
    {
     "cell_type": "code",
     "collapsed": false,
     "input": [
      "print L.pop()"
     ],
     "language": "python",
     "metadata": {},
     "outputs": [
      {
       "output_type": "stream",
       "stream": "stdout",
       "text": [
        "4\n"
       ]
      }
     ],
     "prompt_number": 81
    },
    {
     "cell_type": "markdown",
     "metadata": {},
     "source": [
      "Ordenar los elementos de la lista en orden creciente."
     ]
    },
    {
     "cell_type": "code",
     "collapsed": false,
     "input": [
      "L.sort()\n",
      "print L"
     ],
     "language": "python",
     "metadata": {},
     "outputs": [
      {
       "output_type": "stream",
       "stream": "stdout",
       "text": [
        "[0, 1, 2, 2, 3, 3, 4, 5, 6, 7, 8, 9, 80]\n"
       ]
      }
     ],
     "prompt_number": 82
    },
    {
     "cell_type": "markdown",
     "metadata": {},
     "source": [
      "Invertir el orden de todos los elementos de la lista."
     ]
    },
    {
     "cell_type": "code",
     "collapsed": false,
     "input": [
      "L.reverse()\n",
      "print L"
     ],
     "language": "python",
     "metadata": {},
     "outputs": [
      {
       "output_type": "stream",
       "stream": "stdout",
       "text": [
        "[80, 9, 8, 7, 6, 5, 4, 3, 3, 2, 2, 1, 0]\n"
       ]
      }
     ],
     "prompt_number": 83
    },
    {
     "cell_type": "markdown",
     "metadata": {},
     "source": [
      "## Clonado de listas\n",
      "\n",
      "Al modificar el contenido de la lista se puede afectar al recorrido de la lista. Por ejemplo, considera la siguiente funci\u00f3n:"
     ]
    },
    {
     "cell_type": "code",
     "collapsed": false,
     "input": [
      "def borraDuplicados(L1, L2): # \u00a1OJO! \u00a1Esta funci\u00f3n es incorrecta!\n",
      "    '''Asume que L1 y L2 son listas.\n",
      "    Elimina todos los elementos de L1 que est\u00e9n presentes en L2.'''\n",
      "    for e in L1:\n",
      "        if e in L2:\n",
      "            L1.remove(e)"
     ],
     "language": "python",
     "metadata": {},
     "outputs": [],
     "prompt_number": 85
    },
    {
     "cell_type": "markdown",
     "metadata": {},
     "source": [
      "Veamos un posible uso de la funci\u00f3n."
     ]
    },
    {
     "cell_type": "code",
     "collapsed": false,
     "input": [
      "L1 = [1,2,3,4]\n",
      "L2 = [1,2,5,6]\n",
      "borraDuplicados(L1, L2)\n",
      "print 'L1 =', L1"
     ],
     "language": "python",
     "metadata": {},
     "outputs": [
      {
       "output_type": "stream",
       "stream": "stdout",
       "text": [
        "L1 = [2, 3, 4]\n"
       ]
      }
     ],
     "prompt_number": 86
    },
    {
     "cell_type": "markdown",
     "metadata": {},
     "source": [
      "\u00a1Sorpresa! El n\u00famero 2 est\u00e1 presente en `L2` pero no es eliminado de `L1`. \u00bfQu\u00e9 ha pasado?\n",
      "\n",
      "El motivo es que el recorrido de la lista se realiza internamente con un contador que va desde el 0 (primer elemento) hasta `len(L1)` (sin incluirlo).  En la primera iteraci\u00f3n comprueba el elemento 0 y descubre que es un duplicado.  Por tanto lo elimina, pero al eliminarlo el primer elemento deja de existir y su lugar es ocupado por el segundo elemento.  El bucle `for` no tiene forma de saber que se ha cambiado el orden de los elementos y sigue por donde iba, por el segundo elemento.  Pero el que ahora ocupa el segundo lugar es el que antes era el tercero. Se ha saltado el `2`.\n",
      "\n",
      "**La lecci\u00f3n a recordar es que la mutaci\u00f3n de una lista invalida los iteradores.  Todos los `for` que recorran la lista y que se est\u00e9n ejecutando en el momento de la mutaci\u00f3n dejan de tener sentido.**\n",
      "\n",
      "Por tanto el recorrido debe separarse de la mutaci\u00f3n, debe hacerse sobre objetos distintos.  La forma m\u00e1s sencilla es clonando la lista.  Es decir, creando otra lista con los mismos elementos.  Y eso ya sabemos hacerlo:"
     ]
    },
    {
     "cell_type": "code",
     "collapsed": false,
     "input": [
      "def borraDuplicados(L1, L2):\n",
      "    '''Asume que L1 y L2 son listas.\n",
      "    Elimina todos los elementos de L1 que est\u00e9n presentes en L2.'''\n",
      "    for e in L1[:]:\n",
      "        if e in L2:\n",
      "            L1.remove(e)"
     ],
     "language": "python",
     "metadata": {},
     "outputs": [],
     "prompt_number": 89
    },
    {
     "cell_type": "markdown",
     "metadata": {},
     "source": [
      "La expresi\u00f3n `L1[:]` es una nueva lista que contiene todos los elementos de `L1`. Ahora el recorrido se hace sobre esa nueva lista, mientras que la operaci\u00f3n de mutaci\u00f3n `remove` se realiza sobre la lista `L1` original."
     ]
    },
    {
     "cell_type": "code",
     "collapsed": false,
     "input": [
      "L1 = [1,2,3,4]\n",
      "L2 = [1,2,5,6]\n",
      "borraDuplicados(L1, L2)\n",
      "print 'L1 =', L1"
     ],
     "language": "python",
     "metadata": {},
     "outputs": [
      {
       "output_type": "stream",
       "stream": "stdout",
       "text": [
        "L1 = [3, 4]\n"
       ]
      }
     ],
     "prompt_number": 88
    },
    {
     "cell_type": "markdown",
     "metadata": {},
     "source": [
      "El mismo resultado se obtiene con la llamada a la funci\u00f3n `list(L1)`.  Crea una nueva lista con los elementos de la que se pasa como argumento."
     ]
    },
    {
     "cell_type": "code",
     "collapsed": false,
     "input": [
      "def borraDuplicados(L1, L2):\n",
      "    '''Asume que L1 y L2 son listas.\n",
      "    Elimina todos los elementos de L1 que est\u00e9n presentes en L2.'''\n",
      "    for e in list(L1):\n",
      "        if e in L2:\n",
      "            L1.remove(e)"
     ],
     "language": "python",
     "metadata": {},
     "outputs": [],
     "prompt_number": 92
    },
    {
     "cell_type": "markdown",
     "metadata": {},
     "source": [
      "Ambas opciones son perfectamente razonables en un programa Python. Cu\u00e1l usar es un tema de gusto personal."
     ]
    },
    {
     "cell_type": "code",
     "collapsed": false,
     "input": [
      "L1 = [1,2,3,4]\n",
      "L2 = [1,2,5,6]\n",
      "borraDuplicados(L1, L2)\n",
      "print 'L1 =', L1"
     ],
     "language": "python",
     "metadata": {},
     "outputs": [
      {
       "output_type": "stream",
       "stream": "stdout",
       "text": [
        "L1 = [3, 4]\n"
       ]
      }
     ],
     "prompt_number": 93
    },
    {
     "cell_type": "markdown",
     "metadata": {},
     "source": [
      "\u00bfY si los elementos de la lista son a su vez mutables? Volvemos a tener el mismo problema. Al copiar los elementos cada uno de ellos debe crearse una nueva copia de su contenido.  Veamos un ejemplo."
     ]
    },
    {
     "cell_type": "code",
     "collapsed": false,
     "input": [
      "frutas = [ 'pera', 'manzana', 'naranja' ]\n",
      "verduras = [ 'tomate', 'apio', 'puerro' ]\n",
      "productos = [ frutas, verduras ]\n",
      "\n",
      "productos2 = productos[:]\n",
      "frutas.append('melon')\n",
      "print productos2"
     ],
     "language": "python",
     "metadata": {},
     "outputs": [
      {
       "output_type": "stream",
       "stream": "stdout",
       "text": [
        "[['pera', 'manzana', 'naranja', 'melon'], ['tomate', 'apio', 'puerro']]\n"
       ]
      }
     ],
     "prompt_number": 95
    },
    {
     "cell_type": "markdown",
     "metadata": {},
     "source": [
      "La forma m\u00e1s sencilla de realizar copias de objetos complejos es mediante la biblioteca `copy`."
     ]
    },
    {
     "cell_type": "code",
     "collapsed": false,
     "input": [
      "from copy import deepcopy\n",
      "\n",
      "productos2 = deepcopy(productos)\n",
      "verduras.append('calabaza')\n",
      "print productos2"
     ],
     "language": "python",
     "metadata": {},
     "outputs": [
      {
       "output_type": "stream",
       "stream": "stdout",
       "text": [
        "[['pera', 'manzana', 'naranja', 'melon'], ['tomate', 'apio', 'puerro']]\n"
       ]
      }
     ],
     "prompt_number": 96
    },
    {
     "cell_type": "markdown",
     "metadata": {},
     "source": [
      "Ahora las dos estructuras de datos son completamente independientes y al alterar una o parte de ella no notamos cambio alguno en la otra.\n",
      "\n",
      "## Comprensiones de listas\n",
      "\n",
      "Una construcci\u00f3n muy importante en Python es la denominada *list comprehension* o comprensi\u00f3n de lista.  Se trata de una notaci\u00f3n compacta para generar listas (u otros contenedores) cuyos elementos se puedan escribir en forma de expresiones con los elementos de otra lista.\n",
      "\n",
      "Por ejemplo, una lista con los primeros 10 cuadrados de n\u00fameros naturales."
     ]
    },
    {
     "cell_type": "code",
     "collapsed": false,
     "input": [
      "[ x**2 for x in range(1,11) ]"
     ],
     "language": "python",
     "metadata": {},
     "outputs": [
      {
       "metadata": {},
       "output_type": "pyout",
       "prompt_number": 97,
       "text": [
        "[1, 4, 9, 16, 25, 36, 49, 64, 81, 100]"
       ]
      }
     ],
     "prompt_number": 97
    },
    {
     "cell_type": "markdown",
     "metadata": {},
     "source": [
      "Tambi\u00e9n se puede a\u00f1adir una condici\u00f3n que act\u00faa como filtro.  Es decir, de los elementos generados solo los que cumplen la condici\u00f3n se incluyen en la lista.  Por ejemplo, tenemos la funci\u00f3n `os.listdir` que nos dice el contenido de una carpeta.  Veamos que pasa si la llamo en el directorio de los cuadernos de la asignatura."
     ]
    },
    {
     "cell_type": "code",
     "collapsed": false,
     "input": [
      "import os\n",
      "os.listdir('.')"
     ],
     "language": "python",
     "metadata": {},
     "outputs": [
      {
       "metadata": {},
       "output_type": "pyout",
       "prompt_number": 98,
       "text": [
        "['Problema de las 8 damas.ipynb',\n",
        " 'python-02.ipynb',\n",
        " 'Sudoku.ipynb',\n",
        " 'python-01.ipynb',\n",
        " 'Paseo.ipynb',\n",
        " 'Resumen.ipynb',\n",
        " 'python-04-ejercicios.ipynb',\n",
        " 'lab-02.ipynb',\n",
        " 'python-09.ipynb',\n",
        " 'python-05-06-07.ipynb',\n",
        " 'lab-01.ipynb',\n",
        " 'python-04.ipynb',\n",
        " '.ipynb_checkpoints',\n",
        " 'BisectionSearch.ipynb',\n",
        " 'python-00.ipynb']"
       ]
      }
     ],
     "prompt_number": 98
    },
    {
     "cell_type": "markdown",
     "metadata": {},
     "source": [
      "Hay archivos que acaban en `.ipynb`  que son cuadernos y otros que no.  Hay archivos que corresponden al laboratorio, otros que son ejemplos no relacionados con un tema concreto y otros que son relativos a un tema concreto.  Por ejemplo, los que empiezan por `python-` y acaban en `.ipynb` son cuadernos relativos a un tema.  Vamos a generar una lista por comprensi\u00f3n."
     ]
    },
    {
     "cell_type": "code",
     "collapsed": false,
     "input": [
      "[ f for f in os.listdir('.') if f.endswith('.ipynb') and f.startswith('python-') ]"
     ],
     "language": "python",
     "metadata": {},
     "outputs": [
      {
       "metadata": {},
       "output_type": "pyout",
       "prompt_number": 99,
       "text": [
        "['python-02.ipynb',\n",
        " 'python-01.ipynb',\n",
        " 'python-04-ejercicios.ipynb',\n",
        " 'python-09.ipynb',\n",
        " 'python-05-06-07.ipynb',\n",
        " 'python-04.ipynb',\n",
        " 'python-00.ipynb']"
       ]
      }
     ],
     "prompt_number": 99
    },
    {
     "cell_type": "markdown",
     "metadata": {},
     "source": [
      "Volvamos al ejercicio del Sudoku. Vamos a seleccionar partes de \u00e9l ahora que sabemos todo acerca de las *list comprehensions*."
     ]
    },
    {
     "cell_type": "code",
     "collapsed": false,
     "input": [
      "sudoku = [\n",
      "[4,9,1,3,6,2,8,7,5],\n",
      "[5,2,6,8,7,1,4,9,3],\n",
      "[7,8,3,9,5,4,6,1,2],\n",
      "[2,3,9,4,1,7,5,8,6],\n",
      "[1,5,7,6,3,8,9,2,4],\n",
      "[6,4,8,2,9,5,7,3,1],\n",
      "[8,7,2,1,4,6,3,5,9],\n",
      "[9,1,4,5,8,3,2,6,7],\n",
      "[3,6,5,7,2,9,1,4,8]]"
     ],
     "language": "python",
     "metadata": {},
     "outputs": [],
     "prompt_number": 114
    },
    {
     "cell_type": "markdown",
     "metadata": {},
     "source": [
      "Seleccionemos el cuadrante superior izquierdo."
     ]
    },
    {
     "cell_type": "code",
     "collapsed": false,
     "input": [
      "[s[:3] for s in sudoku[:3]]"
     ],
     "language": "python",
     "metadata": {},
     "outputs": [
      {
       "metadata": {},
       "output_type": "pyout",
       "prompt_number": 115,
       "text": [
        "[[4, 9, 1], [5, 2, 6], [7, 8, 3]]"
       ]
      }
     ],
     "prompt_number": 115
    },
    {
     "cell_type": "markdown",
     "metadata": {},
     "source": [
      "Ahora el inferior derecho."
     ]
    },
    {
     "cell_type": "code",
     "collapsed": false,
     "input": [
      "[s[6:] for s in sudoku[6:]]"
     ],
     "language": "python",
     "metadata": {},
     "outputs": [
      {
       "metadata": {},
       "output_type": "pyout",
       "prompt_number": 116,
       "text": [
        "[[3, 5, 9], [2, 6, 7], [1, 4, 8]]"
       ]
      }
     ],
     "prompt_number": 116
    },
    {
     "cell_type": "markdown",
     "metadata": {},
     "source": [
      "Ahora el del medio."
     ]
    },
    {
     "cell_type": "code",
     "collapsed": false,
     "input": [
      "[s[3:6] for s in sudoku[3:6]]"
     ],
     "language": "python",
     "metadata": {},
     "outputs": [
      {
       "metadata": {},
       "output_type": "pyout",
       "prompt_number": 117,
       "text": [
        "[[4, 1, 7], [6, 3, 8], [2, 9, 5]]"
       ]
      }
     ],
     "prompt_number": 117
    },
    {
     "cell_type": "markdown",
     "metadata": {},
     "source": [
      "Ahora la tercera columna."
     ]
    },
    {
     "cell_type": "code",
     "collapsed": false,
     "input": [
      "[ s[2] for s in sudoku ]"
     ],
     "language": "python",
     "metadata": {},
     "outputs": [
      {
       "metadata": {},
       "output_type": "pyout",
       "prompt_number": 120,
       "text": [
        "[1, 6, 3, 9, 7, 8, 2, 4, 5]"
       ]
      }
     ],
     "prompt_number": 120
    },
    {
     "cell_type": "markdown",
     "metadata": {},
     "source": [
      "Practica t\u00fa. Haz por ejemplo que los cuadrantes aparezcan como una lista simple en lugar de una lista de listas."
     ]
    },
    {
     "cell_type": "code",
     "collapsed": false,
     "input": [],
     "language": "python",
     "metadata": {},
     "outputs": []
    }
   ],
   "metadata": {}
  }
 ]
}