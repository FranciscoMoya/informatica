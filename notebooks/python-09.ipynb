{
 "metadata": {
  "name": "",
  "signature": "sha256:c5ccb4b17ba12d810a5b23e96184bd74a602f9b46b271f352c7a055a5270607e"
 },
 "nbformat": 3,
 "nbformat_minor": 0,
 "worksheets": [
  {
   "cells": [
    {
     "cell_type": "markdown",
     "metadata": {},
     "source": [
      "# Listas, tuplas, conjuntos y diccionarios\n",
      "\n",
      "La gama de contenedores de Python hay que conocerla con cierta profundidad para hacer programas no triviales.  Estudia los cap\u00edtulos 8, 9 y 10 del libro de texto y empieza a practicar.\n",
      "\n",
      "Directa o indirectamente hemos conocido varias formas de agrupar elementos en Python.  La que hemos utilizado con m\u00e1s frecuencia es la *lista*, que se crea con corchetes.  Alguna vez han aparecido las *tuplas* que aparecen entre par\u00e9ntesis. Y a\u00fan hay otra forma, que son los conjuntos, que se expresan como una seuencia de elementos entre llaves."
     ]
    },
    {
     "cell_type": "code",
     "collapsed": false,
     "input": [
      "a = [ 1, 2, 3 ]\n",
      "b = ( 1, 2, 3 )\n",
      "c = { 1, 2, 3 }"
     ],
     "language": "python",
     "metadata": {},
     "outputs": [],
     "prompt_number": 6
    },
    {
     "cell_type": "markdown",
     "metadata": {},
     "source": [
      "Aparentemente listas y tuplas funcionan de forma parecida."
     ]
    },
    {
     "cell_type": "code",
     "collapsed": false,
     "input": [
      "print a[1:]\n",
      "for i in a:\n",
      "    print i\n",
      "if 3 in a:\n",
      "    print 'El 3 est\u00e1'"
     ],
     "language": "python",
     "metadata": {},
     "outputs": [
      {
       "output_type": "stream",
       "stream": "stdout",
       "text": [
        "[2, 3]\n",
        "1\n",
        "2\n",
        "3\n",
        "El 3 est\u00e1\n"
       ]
      }
     ],
     "prompt_number": 11
    },
    {
     "cell_type": "code",
     "collapsed": false,
     "input": [
      "b[1:]\n",
      "for i in b:\n",
      "    print i\n",
      "if 3 in a:\n",
      "    print 'El 3 est\u00e1'"
     ],
     "language": "python",
     "metadata": {},
     "outputs": [
      {
       "output_type": "stream",
       "stream": "stdout",
       "text": [
        "1\n",
        "2\n",
        "3\n",
        "El 3 est\u00e1\n"
       ]
      }
     ],
     "prompt_number": 12
    },
    {
     "cell_type": "markdown",
     "metadata": {},
     "source": [
      "Los conjuntos son ligeramente diferentes, porque no permiten indexar, pero s\u00ed iterar y determinar pertenencia.  De hecho son especialmente eficientes en esta \u00faltima operaci\u00f3n."
     ]
    },
    {
     "cell_type": "code",
     "collapsed": false,
     "input": [
      "# c[1:] <- No podemos\n",
      "for i in c:\n",
      "    print i\n",
      "if 3 in a:\n",
      "    print 'El 3 est\u00e1'"
     ],
     "language": "python",
     "metadata": {},
     "outputs": [
      {
       "output_type": "stream",
       "stream": "stdout",
       "text": [
        "1\n",
        "2\n",
        "3\n",
        "El 3 est\u00e1\n"
       ]
      }
     ],
     "prompt_number": 13
    },
    {
     "cell_type": "markdown",
     "metadata": {},
     "source": [
      "Los diccionarios se comportan como conjuntos, pero adem\u00e1s tienen una operaci\u00f3n de indexaci\u00f3n especial, que permiten acceder a valores independientes de los elementos que act\u00faan como \u00edndice."
     ]
    },
    {
     "cell_type": "code",
     "collapsed": false,
     "input": [
      "d = { 1:'uno', 2:'dos', 3:'tres' }\n",
      "for i in d:\n",
      "    print i, d[i]\n",
      "if 3 in d:\n",
      "    print 'El 3 est\u00e1'"
     ],
     "language": "python",
     "metadata": {},
     "outputs": [
      {
       "output_type": "stream",
       "stream": "stdout",
       "text": [
        "1 uno\n",
        "2 dos\n",
        "3 tres\n",
        "El 3 est\u00e1\n"
       ]
      }
     ],
     "prompt_number": 15
    },
    {
     "cell_type": "markdown",
     "metadata": {},
     "source": [
      "Otra caracter\u00edstica distintiva de conjuntos y diccionarios es que el orden no necesariamente refleja el orden en que se introdujeron los elementos.  Se dice que son contenedores sin orden."
     ]
    },
    {
     "cell_type": "code",
     "collapsed": false,
     "input": [
      "c = { 3, 1, 2 }\n",
      "d = { 2:'dos', 1:'uno', 3:'tres' }\n",
      "for i in c:\n",
      "    print i\n",
      "for i in d:\n",
      "    print i, d[i]"
     ],
     "language": "python",
     "metadata": {},
     "outputs": [
      {
       "output_type": "stream",
       "stream": "stdout",
       "text": [
        "1\n",
        "2\n",
        "3\n",
        "1 uno\n",
        "2 dos\n",
        "3 tres\n"
       ]
      }
     ],
     "prompt_number": 17
    },
    {
     "cell_type": "markdown",
     "metadata": {},
     "source": [
      "## Mutabilidad en listas\n",
      "\n",
      "Las listas tienen algunas caracter\u00edsticas especiales, que deben ser conocidas para evitar sorpresas.  Por ejemplo, se trata de un tipo *mutable*.  Esto quiere decir que podemos usar el operador de indexaci\u00f3n (corchetes) al lado izquierdo de una asignaci\u00f3n."
     ]
    },
    {
     "cell_type": "code",
     "collapsed": false,
     "input": [
      "a = range(20)\n",
      "a[19] = 58\n",
      "a[5:12] = []\n",
      "print a"
     ],
     "language": "python",
     "metadata": {},
     "outputs": [
      {
       "output_type": "stream",
       "stream": "stdout",
       "text": [
        "[0, 1, 2, 3, 4, 12, 13, 14, 15, 16, 17, 18, 58]\n"
       ]
      }
     ],
     "prompt_number": 21
    },
    {
     "cell_type": "markdown",
     "metadata": {},
     "source": [
      "La mutabilidad tiene consecuencias muy importantes. Vamos a ver una serie de ejemplos para ilustrarlas."
     ]
    },
    {
     "cell_type": "code",
     "collapsed": false,
     "input": [
      "consonantes = ['b', 'c', 'd', 'f']\n",
      "vocales = ['a', 'e', 'i']\n",
      "letras = [consonantes, vocales]\n",
      "letras2 = [['b', 'c', 'd', 'f'], ['a', 'e', 'i']]"
     ],
     "language": "python",
     "metadata": {},
     "outputs": [],
     "prompt_number": 22
    },
    {
     "cell_type": "markdown",
     "metadata": {},
     "source": [
      "Aparentemente `letras` y `letras2` son lo mismo."
     ]
    },
    {
     "cell_type": "code",
     "collapsed": false,
     "input": [
      "print 'letras =', letras\n",
      "print 'letras2 =', letras2\n",
      "print letras == letras2"
     ],
     "language": "python",
     "metadata": {},
     "outputs": [
      {
       "output_type": "stream",
       "stream": "stdout",
       "text": [
        "letras = [['b', 'c', 'd', 'f'], ['a', 'e', 'i']]\n",
        "letras2 = [['b', 'c', 'd', 'f'], ['a', 'e', 'i']]\n",
        "True\n"
       ]
      }
     ],
     "prompt_number": 23
    },
    {
     "cell_type": "markdown",
     "metadata": {},
     "source": [
      "Pero f\u00edjate en el resultado de manipular la lista `vocales` sin tocar en absoluto la lista `letras`."
     ]
    },
    {
     "cell_type": "code",
     "collapsed": false,
     "input": [
      "vocales.append('o')\n",
      "print 'letras =', letras\n",
      "print 'letras2 =', letras2\n",
      "print letras == letras2"
     ],
     "language": "python",
     "metadata": {},
     "outputs": [
      {
       "output_type": "stream",
       "stream": "stdout",
       "text": [
        "letras = [['b', 'c', 'd', 'f'], ['a', 'e', 'i', 'o']]\n",
        "letras2 = [['b', 'c', 'd', 'f'], ['a', 'e', 'i']]\n",
        "False\n"
       ]
      }
     ],
     "prompt_number": 24
    },
    {
     "cell_type": "markdown",
     "metadata": {},
     "source": [
      "Python no guarda el contenido de las listas `consonantes` y `vocales` como elementos de `letras`, sino que guarda una referencia al objeto original, que puede manipularse afectando a todas las variables que contienen referencias a esas listas.\n",
      "\n",
      "Podemos ver que se trata de objetos diferentes empleando la funci\u00f3n `id` o bien con el Viz Mode de Codeskulptor o [PythonTutor](http://www.pythontutor.com/visualize.html#code=consonantes+%3D+%5B'b',+'c',+'d',+'f'%5D%0Avocales+%3D+%5B'a',+'e',+'i'%5D%0Aletras+%3D+%5Bconsonantes,+vocales%5D%0Aletras2+%3D+%5B%5B'b',+'c',+'d',+'f'%5D,+%5B'a',+'e',+'i'%5D%5D%0A&mode=display&origin=opt-frontend.js&cumulative=false&heapPrimitives=false&textReferences=false&py=2&rawInputLstJSON=%5B%5D&curInstr=4)."
     ]
    },
    {
     "cell_type": "code",
     "collapsed": false,
     "input": [
      "print id(letras), id(letras2)"
     ],
     "language": "python",
     "metadata": {},
     "outputs": [
      {
       "output_type": "stream",
       "stream": "stdout",
       "text": [
        "140227965573384 140227965572952\n"
       ]
      }
     ],
     "prompt_number": 25
    },
    {
     "cell_type": "markdown",
     "metadata": {},
     "source": [
      "Esto tiene m\u00e1s implicaciones de las que vemos a primera vista, porque el paso de par\u00e1metros no es m\u00e1s que un caso particular de todo esto."
     ]
    },
    {
     "cell_type": "code",
     "collapsed": false,
     "input": [
      "def f(lista):\n",
      "    lista[1].append('u')\n",
      "    \n",
      "f(letras2)\n",
      "\n",
      "print letras2"
     ],
     "language": "python",
     "metadata": {},
     "outputs": [
      {
       "output_type": "stream",
       "stream": "stdout",
       "text": [
        "[['b', 'c', 'd', 'f'], ['a', 'e', 'i', 'u']]\n"
       ]
      }
     ],
     "prompt_number": 26
    },
    {
     "cell_type": "markdown",
     "metadata": {},
     "source": [
      "Hasta ahora cuando pas\u00e1bamos un valor a una funci\u00f3n se trataba de una copia, que pod\u00eda manipular a su antojo sin afectar al programa que llamaba.  Por ejemplo:"
     ]
    },
    {
     "cell_type": "code",
     "collapsed": false,
     "input": [
      "def cifras(n):\n",
      "    while n > 0:\n",
      "        print n%10\n",
      "        n /= 10\n",
      "\n",
      "n = 1985\n",
      "cifras(n)\n",
      "print n"
     ],
     "language": "python",
     "metadata": {},
     "outputs": [
      {
       "output_type": "stream",
       "stream": "stdout",
       "text": [
        "5\n",
        "8\n",
        "9\n",
        "1\n",
        "1985\n"
       ]
      }
     ],
     "prompt_number": 29
    },
    {
     "cell_type": "markdown",
     "metadata": {},
     "source": [
      "Al pasar una lista se est\u00e1 pasando una referencia al objeto correspondiente.  Al tratarse de un objeto mutable la funci\u00f3n puede devolver resultados a la funci\u00f3n que llama sin ni siquiera usar `return`.  Nunca hagas esto."
     ]
    },
    {
     "cell_type": "code",
     "collapsed": false,
     "input": [
      "def cifras(n, lista):  # Nunca hagas esto\n",
      "    while n > 0:\n",
      "        lista.append(n%10)\n",
      "        n /= 10\n",
      "\n",
      "n = []\n",
      "cifras(1985, n)\n",
      "print n"
     ],
     "language": "python",
     "metadata": {},
     "outputs": [
      {
       "output_type": "stream",
       "stream": "stdout",
       "text": [
        "[5, 8, 9, 1]\n"
       ]
      }
     ],
     "prompt_number": 30
    },
    {
     "cell_type": "markdown",
     "metadata": {},
     "source": [
      "Recuerda que programas para que otros lean tus programas.  Si escondes el valor de retorno solo est\u00e1s dificultando la lectura."
     ]
    },
    {
     "cell_type": "code",
     "collapsed": false,
     "input": [
      "def cifras(n):\n",
      "    lista = []\n",
      "    while n > 0:\n",
      "        lista.append(n%10)\n",
      "        n /= 10\n",
      "    return lista\n",
      "\n",
      "print cifras(1985)"
     ],
     "language": "python",
     "metadata": {},
     "outputs": [
      {
       "output_type": "stream",
       "stream": "stdout",
       "text": [
        "[5, 8, 9, 1]\n"
       ]
      }
     ],
     "prompt_number": 31
    },
    {
     "cell_type": "markdown",
     "metadata": {},
     "source": [
      "## Operaciones de una lista\n",
      "\n",
      "Familiar\u00edzate con los m\u00e9todos de las listas.  Se utilizan much\u00edsimo."
     ]
    },
    {
     "cell_type": "code",
     "collapsed": false,
     "input": [
      "L = range(10)\n",
      "L.append(4)\n",
      "print L\n",
      "print L.count(4)\n",
      "L.insert(3, 80)\n",
      "print L\n",
      "L.extend([2,3,4])\n",
      "print L\n",
      "L.remove(4)\n",
      "print L\n",
      "print L.index(4)\n",
      "print L.pop()\n",
      "L.sort()\n",
      "print L\n",
      "L.reverse()\n",
      "print L"
     ],
     "language": "python",
     "metadata": {},
     "outputs": [
      {
       "output_type": "stream",
       "stream": "stdout",
       "text": [
        "[0, 1, 2, 3, 4, 5, 6, 7, 8, 9, 4]\n",
        "2\n",
        "[0, 1, 2, 80, 3, 4, 5, 6, 7, 8, 9, 4]\n",
        "[0, 1, 2, 80, 3, 4, 5, 6, 7, 8, 9, 4, 2, 3, 4]\n",
        "[0, 1, 2, 80, 3, 5, 6, 7, 8, 9, 4, 2, 3, 4]\n",
        "10\n",
        "4\n",
        "[0, 1, 2, 2, 3, 3, 4, 5, 6, 7, 8, 9, 80]\n",
        "[80, 9, 8, 7, 6, 5, 4, 3, 3, 2, 2, 1, 0]\n"
       ]
      }
     ],
     "prompt_number": 33
    },
    {
     "cell_type": "code",
     "collapsed": false,
     "input": [],
     "language": "python",
     "metadata": {},
     "outputs": []
    }
   ],
   "metadata": {}
  }
 ]
}