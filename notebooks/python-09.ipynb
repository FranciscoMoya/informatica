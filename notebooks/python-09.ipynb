{
 "cells": [
  {
   "cell_type": "markdown",
   "metadata": {},
   "source": [
    "# Listas, tuplas, conjuntos y diccionarios\n",
    "\n",
    "La gama de contenedores de Python hay que conocerla con cierta profundidad para hacer programas no triviales.  Estudia los capítulos 8, 9 y 10 del libro de texto y empieza a practicar.\n",
    "\n",
    "Directa o indirectamente hemos conocido varias formas de agrupar elementos en Python.  La que hemos utilizado con más frecuencia es la *lista*, que se crea con corchetes.  Alguna vez han aparecido las *tuplas* que aparecen entre paréntesis. Y aún hay otra forma, que son los conjuntos, que se expresan como una seuencia de elementos entre llaves."
   ]
  },
  {
   "cell_type": "code",
   "execution_count": 2,
   "metadata": {
    "collapsed": false
   },
   "outputs": [],
   "source": [
    "a = [ 1, 2, 3 ]\n",
    "b = ( 1, 2, 3 )\n",
    "c = { 1, 2, 3 }"
   ]
  },
  {
   "cell_type": "markdown",
   "metadata": {},
   "source": [
    "Aparentemente listas y tuplas funcionan de forma parecida."
   ]
  },
  {
   "cell_type": "code",
   "execution_count": 3,
   "metadata": {
    "collapsed": false
   },
   "outputs": [
    {
     "name": "stdout",
     "output_type": "stream",
     "text": [
      "[2, 3]\n",
      "1\n",
      "2\n",
      "3\n",
      "El 3 está\n"
     ]
    }
   ],
   "source": [
    "print(a[1:])\n",
    "for i in a:\n",
    "    print(i)\n",
    "if 3 in a:\n",
    "    print('El 3 está')"
   ]
  },
  {
   "cell_type": "code",
   "execution_count": 4,
   "metadata": {
    "collapsed": false
   },
   "outputs": [
    {
     "name": "stdout",
     "output_type": "stream",
     "text": [
      "(2, 3)\n",
      "1\n",
      "2\n",
      "3\n",
      "El 3 está\n"
     ]
    }
   ],
   "source": [
    "print(b[1:])\n",
    "for i in b:\n",
    "    print(i)\n",
    "if 3 in b:\n",
    "    print('El 3 está')"
   ]
  },
  {
   "cell_type": "markdown",
   "metadata": {},
   "source": [
    "Los conjuntos son ligeramente diferentes, porque no permiten indexar, pero sí iterar y determinar pertenencia.  De hecho son especialmente eficientes en esta última operación."
   ]
  },
  {
   "cell_type": "code",
   "execution_count": 5,
   "metadata": {
    "collapsed": false
   },
   "outputs": [
    {
     "name": "stdout",
     "output_type": "stream",
     "text": [
      "1\n",
      "2\n",
      "3\n",
      "El 3 está\n"
     ]
    }
   ],
   "source": [
    "# c[1:] <- No podemos\n",
    "for i in c:\n",
    "    print(i)\n",
    "if 3 in c:\n",
    "    print('El 3 está')"
   ]
  },
  {
   "cell_type": "markdown",
   "metadata": {},
   "source": [
    "Los diccionarios se comportan como conjuntos, pero además tienen una operación de indexación especial, que permiten acceder a valores independientes de los elementos que actúan como índice."
   ]
  },
  {
   "cell_type": "code",
   "execution_count": 5,
   "metadata": {
    "collapsed": false
   },
   "outputs": [
    {
     "name": "stdout",
     "output_type": "stream",
     "text": [
      "1 uno\n",
      "2 dos\n",
      "3 tres\n",
      "El 3 está\n"
     ]
    }
   ],
   "source": [
    "d = { 1:'uno', 2:'dos', 3:'tres' }\n",
    "for i in d:\n",
    "    print(i, d[i])\n",
    "if 3 in d:\n",
    "    print('El 3 está')"
   ]
  },
  {
   "cell_type": "markdown",
   "metadata": {},
   "source": [
    "Otra característica distintiva de conjuntos y diccionarios es que el orden no necesariamente refleja el orden en que se introdujeron los elementos.  Se dice que son contenedores sin orden."
   ]
  },
  {
   "cell_type": "code",
   "execution_count": 6,
   "metadata": {
    "collapsed": false
   },
   "outputs": [
    {
     "name": "stdout",
     "output_type": "stream",
     "text": [
      "1\n",
      "2\n",
      "3\n",
      "1 uno\n",
      "2 dos\n",
      "3 tres\n"
     ]
    }
   ],
   "source": [
    "c = { 3, 1, 2 }\n",
    "d = { 2:'dos', 1:'uno', 3:'tres' }\n",
    "for i in c:\n",
    "    print(i)\n",
    "for i in d:\n",
    "    print(i, d[i])"
   ]
  },
  {
   "cell_type": "markdown",
   "metadata": {},
   "source": [
    "## Mutabilidad en listas\n",
    "\n",
    "Las listas tienen algunas características especiales, que deben ser conocidas para evitar sorpresas.  Por ejemplo, se trata de un tipo *mutable*.  Esto quiere decir que podemos usar el operador de indexación (corchetes) al lado izquierdo de una asignación."
   ]
  },
  {
   "cell_type": "code",
   "execution_count": 7,
   "metadata": {
    "collapsed": false
   },
   "outputs": [
    {
     "name": "stdout",
     "output_type": "stream",
     "text": [
      "[0, 1, 2, 3, 4, 12, 13, 14, 15, 16, 17, 18, 58]\n"
     ]
    }
   ],
   "source": [
    "a = list(range(20))\n",
    "a[19] = 58\n",
    "a[5:12] = []\n",
    "print(a)"
   ]
  },
  {
   "cell_type": "markdown",
   "metadata": {},
   "source": [
    "La mutabilidad tiene consecuencias muy importantes. Vamos a ver una serie de ejemplos para ilustrarlas."
   ]
  },
  {
   "cell_type": "code",
   "execution_count": 8,
   "metadata": {
    "collapsed": false
   },
   "outputs": [],
   "source": [
    "consonantes = ['b', 'c', 'd', 'f']\n",
    "vocales = ['a', 'e', 'i']\n",
    "letras = [consonantes, vocales]\n",
    "letras2 = [['b', 'c', 'd', 'f'], ['a', 'e', 'i']]"
   ]
  },
  {
   "cell_type": "markdown",
   "metadata": {},
   "source": [
    "Aparentemente `letras` y `letras2` son lo mismo."
   ]
  },
  {
   "cell_type": "code",
   "execution_count": 9,
   "metadata": {
    "collapsed": false
   },
   "outputs": [
    {
     "name": "stdout",
     "output_type": "stream",
     "text": [
      "letras = [['b', 'c', 'd', 'f'], ['a', 'e', 'i']]\n",
      "letras2 = [['b', 'c', 'd', 'f'], ['a', 'e', 'i']]\n",
      "True\n"
     ]
    }
   ],
   "source": [
    "print('letras =', letras)\n",
    "print('letras2 =', letras2)\n",
    "print(letras == letras2)"
   ]
  },
  {
   "cell_type": "markdown",
   "metadata": {},
   "source": [
    "Pero fíjate en el resultado de manipular la lista `vocales` sin tocar en absoluto la lista `letras`."
   ]
  },
  {
   "cell_type": "code",
   "execution_count": 10,
   "metadata": {
    "collapsed": false
   },
   "outputs": [
    {
     "name": "stdout",
     "output_type": "stream",
     "text": [
      "letras = [['b', 'c', 'd', 'f'], ['a', 'e', 'i', 'o']]\n",
      "letras2 = [['b', 'c', 'd', 'f'], ['a', 'e', 'i']]\n",
      "False\n"
     ]
    }
   ],
   "source": [
    "vocales.append('o')\n",
    "print('letras =', letras)\n",
    "print('letras2 =', letras2)\n",
    "print(letras == letras2)"
   ]
  },
  {
   "cell_type": "markdown",
   "metadata": {},
   "source": [
    "Python no guarda el contenido de las listas `consonantes` y `vocales` como elementos de `letras`, sino que guarda una referencia al objeto original, que puede manipularse afectando a todas las variables que contienen referencias a esas listas.\n",
    "\n",
    "Podemos ver que se trata de objetos diferentes empleando la función `id` o bien con [PythonTutor](http://www.pythontutor.com/visualize.html#code=consonantes+%3D+%5B'b',+'c',+'d',+'f'%5D%0Avocales+%3D+%5B'a',+'e',+'i'%5D%0Aletras+%3D+%5Bconsonantes,+vocales%5D%0Aletras2+%3D+%5B%5B'b',+'c',+'d',+'f'%5D,+%5B'a',+'e',+'i'%5D%5D%0A&mode=display&origin=opt-frontend.js&cumulative=false&heapPrimitives=false&textReferences=false&py=2&rawInputLstJSON=%5B%5D&curInstr=4)."
   ]
  },
  {
   "cell_type": "code",
   "execution_count": 11,
   "metadata": {
    "collapsed": false
   },
   "outputs": [
    {
     "name": "stdout",
     "output_type": "stream",
     "text": [
      "912297503944 912316674440\n"
     ]
    }
   ],
   "source": [
    "print(id(letras), id(letras2))"
   ]
  },
  {
   "cell_type": "markdown",
   "metadata": {},
   "source": [
    "Esto tiene más implicaciones de las que vemos a primera vista, porque el paso de parámetros no es más que un caso particular de todo esto."
   ]
  },
  {
   "cell_type": "code",
   "execution_count": 12,
   "metadata": {
    "collapsed": false
   },
   "outputs": [
    {
     "name": "stdout",
     "output_type": "stream",
     "text": [
      "[['b', 'c', 'd', 'f'], ['a', 'e', 'i', 'u']]\n"
     ]
    }
   ],
   "source": [
    "def f(lista):\n",
    "    lista[1].append('u')\n",
    "    \n",
    "f(letras2)\n",
    "\n",
    "print(letras2)"
   ]
  },
  {
   "cell_type": "markdown",
   "metadata": {},
   "source": [
    "Hasta ahora cuando pasábamos un valor a una función se trataba de una copia, que podía manipular a su antojo sin afectar al programa que llamaba.  Por ejemplo:"
   ]
  },
  {
   "cell_type": "code",
   "execution_count": 13,
   "metadata": {
    "collapsed": false
   },
   "outputs": [
    {
     "name": "stdout",
     "output_type": "stream",
     "text": [
      "5\n",
      "8\n",
      "9\n",
      "1\n",
      "1985\n"
     ]
    }
   ],
   "source": [
    "def cifras(n):\n",
    "    while n > 0:\n",
    "        print(n%10)\n",
    "        n //= 10\n",
    "\n",
    "n = 1985\n",
    "cifras(n)\n",
    "print(n)"
   ]
  },
  {
   "cell_type": "markdown",
   "metadata": {},
   "source": [
    "Al pasar una lista se está pasando una referencia al objeto correspondiente.  Al tratarse de un objeto mutable la función puede devolver resultados a la función que llama sin ni siquiera usar `return`.  Nunca hagas esto."
   ]
  },
  {
   "cell_type": "code",
   "execution_count": 14,
   "metadata": {
    "collapsed": false
   },
   "outputs": [
    {
     "name": "stdout",
     "output_type": "stream",
     "text": [
      "[5, 8, 9, 1]\n"
     ]
    }
   ],
   "source": [
    "def cifras(n, lista):  # Nunca hagas esto\n",
    "    while n > 0:\n",
    "        lista.append(n%10)\n",
    "        n //= 10\n",
    "\n",
    "n = []\n",
    "cifras(1985, n)\n",
    "print(n)"
   ]
  },
  {
   "cell_type": "markdown",
   "metadata": {},
   "source": [
    "Recuerda que programas para que otros lean tus programas.  Si escondes el valor de retorno solo estás dificultando la lectura."
   ]
  },
  {
   "cell_type": "code",
   "execution_count": 15,
   "metadata": {
    "collapsed": false
   },
   "outputs": [
    {
     "name": "stdout",
     "output_type": "stream",
     "text": [
      "[5, 8, 9, 1]\n"
     ]
    }
   ],
   "source": [
    "def cifras(n):\n",
    "    lista = []\n",
    "    while n > 0:\n",
    "        lista.append(n%10)\n",
    "        n //= 10\n",
    "    return lista\n",
    "\n",
    "print(cifras(1985))"
   ]
  },
  {
   "cell_type": "markdown",
   "metadata": {},
   "source": [
    "## Slicing en listas\n",
    "\n",
    "Se llama *slicing* (partir en rodajas) a las operaciones que seleccionan una parte de la lista, generando una nueva lista en principio más pequeña.  Familiarízate con las operaciones de *slicing*, son las más frecuentes y no solo en listas.\n",
    "\n",
    "Veamos algunos ejemplos."
   ]
  },
  {
   "cell_type": "code",
   "execution_count": 16,
   "metadata": {
    "collapsed": false
   },
   "outputs": [
    {
     "name": "stdout",
     "output_type": "stream",
     "text": [
      "[0, 1, 2, 3, 4, 5, 6, 7, 8, 9]\n",
      "[0, 1, 2, 3, 4, 5, 6, 7, 8, 9]\n"
     ]
    }
   ],
   "source": [
    "L1 = list(range(10))\n",
    "L2 = list(range(10))\n",
    "print(L1)\n",
    "print(L2)"
   ]
  },
  {
   "cell_type": "markdown",
   "metadata": {},
   "source": [
    "Cuando se selecciona una parte de la lista el resultado es una lista.  En cambio si se usa un índice concreto (operación de indexación) el resultado es un elemento concreto.  Eso es muy importante para manipular la lista.  Veamos dos ejemplos en los que sustituimos el segundo elemento.  \n",
    "\n",
    "En el primer caso usamos indexación, metemos como segundo elemento el resultado de la operación de slicing `L1[5:]`. Es decir, a partir del elemento 5.\n",
    "\n",
    "En el segundo caso sustituimos la lista `L2[1:1]` por la lista `L2[5:]`.  Aunque `L2[1:1]` solo tenga un elemento sigue siendo una lista, no un elemento.  Por eso al sustituir una lista por otra estamos insertando."
   ]
  },
  {
   "cell_type": "code",
   "execution_count": 17,
   "metadata": {
    "collapsed": false
   },
   "outputs": [
    {
     "name": "stdout",
     "output_type": "stream",
     "text": [
      "[0, [5, 6, 7, 8, 9], 2, 3, 4, 5, 6, 7, 8, 9]\n",
      "[0, 5, 6, 7, 8, 9, 1, 2, 3, 4, 5, 6, 7, 8, 9]\n"
     ]
    }
   ],
   "source": [
    "L1[1] = L1[5:]\n",
    "L2[1:1] = L2[5:]\n",
    "print(L1)\n",
    "print(L2)"
   ]
  },
  {
   "cell_type": "markdown",
   "metadata": {},
   "source": [
    "Un ejercicio interesante es practicar *slicing* para seleccionar las distintas partes de un Sudoku."
   ]
  },
  {
   "cell_type": "code",
   "execution_count": 18,
   "metadata": {
    "collapsed": false
   },
   "outputs": [],
   "source": [
    "sudoku = [\n",
    "[4,9,1,3,6,2,8,7,5],\n",
    "[5,2,6,8,7,1,4,9,3],\n",
    "[7,8,3,9,5,4,6,1,2],\n",
    "[2,3,9,4,1,7,5,8,6],\n",
    "[1,5,7,6,3,8,9,2,4],\n",
    "[6,4,8,2,9,5,7,3,1],\n",
    "[8,7,2,1,4,6,3,5,9],\n",
    "[9,1,4,5,8,3,2,6,7],\n",
    "[3,6,5,7,2,9,1,4,8]]"
   ]
  },
  {
   "cell_type": "markdown",
   "metadata": {},
   "source": [
    "Practica con filas, y con elementos de una fila.  Pero hasta que domines las *list comprehensions* que se cuentan más adelante no serás capaz de seleccionar los cuadrantes. "
   ]
  },
  {
   "cell_type": "markdown",
   "metadata": {},
   "source": [
    "## Métodos de una lista\n",
    "\n",
    "Familiarízate con los métodos de las listas.  Se utilizan muchísimo."
   ]
  },
  {
   "cell_type": "code",
   "execution_count": 19,
   "metadata": {
    "collapsed": false
   },
   "outputs": [],
   "source": [
    "L = list(range(10))"
   ]
  },
  {
   "cell_type": "markdown",
   "metadata": {},
   "source": [
    "Añadir un elemento al final."
   ]
  },
  {
   "cell_type": "code",
   "execution_count": 20,
   "metadata": {
    "collapsed": false
   },
   "outputs": [
    {
     "name": "stdout",
     "output_type": "stream",
     "text": [
      "[0, 1, 2, 3, 4, 5, 6, 7, 8, 9, 4]\n"
     ]
    }
   ],
   "source": [
    "L.append(4)\n",
    "print(L)"
   ]
  },
  {
   "cell_type": "markdown",
   "metadata": {},
   "source": [
    "Contar todas las apariciones del elemento `4`."
   ]
  },
  {
   "cell_type": "code",
   "execution_count": 21,
   "metadata": {
    "collapsed": false
   },
   "outputs": [
    {
     "name": "stdout",
     "output_type": "stream",
     "text": [
      "2\n"
     ]
    }
   ],
   "source": [
    "print(L.count(4))"
   ]
  },
  {
   "cell_type": "markdown",
   "metadata": {},
   "source": [
    "Insertar el elemento `80` en la posición `3`."
   ]
  },
  {
   "cell_type": "code",
   "execution_count": 22,
   "metadata": {
    "collapsed": false
   },
   "outputs": [
    {
     "name": "stdout",
     "output_type": "stream",
     "text": [
      "[0, 1, 2, 80, 3, 4, 5, 6, 7, 8, 9, 4]\n"
     ]
    }
   ],
   "source": [
    "L.insert(3, 80)\n",
    "print(L)"
   ]
  },
  {
   "cell_type": "markdown",
   "metadata": {},
   "source": [
    "Añadir al final los elementos de otra lista."
   ]
  },
  {
   "cell_type": "code",
   "execution_count": 23,
   "metadata": {
    "collapsed": false
   },
   "outputs": [
    {
     "name": "stdout",
     "output_type": "stream",
     "text": [
      "[0, 1, 2, 80, 3, 4, 5, 6, 7, 8, 9, 4, 2, 3, 4]\n"
     ]
    }
   ],
   "source": [
    "L.extend([2,3,4])\n",
    "print(L)"
   ]
  },
  {
   "cell_type": "markdown",
   "metadata": {},
   "source": [
    "Eliminar la primera ocurrencia del elemento `4`."
   ]
  },
  {
   "cell_type": "code",
   "execution_count": 24,
   "metadata": {
    "collapsed": false
   },
   "outputs": [
    {
     "name": "stdout",
     "output_type": "stream",
     "text": [
      "[0, 1, 2, 80, 3, 5, 6, 7, 8, 9, 4, 2, 3, 4]\n"
     ]
    }
   ],
   "source": [
    "L.remove(4)\n",
    "print(L)"
   ]
  },
  {
   "cell_type": "markdown",
   "metadata": {},
   "source": [
    "Imprimir la posición del primer elemento de valor `4`."
   ]
  },
  {
   "cell_type": "code",
   "execution_count": 25,
   "metadata": {
    "collapsed": false
   },
   "outputs": [
    {
     "name": "stdout",
     "output_type": "stream",
     "text": [
      "10\n"
     ]
    }
   ],
   "source": [
    "print(L.index(4))"
   ]
  },
  {
   "cell_type": "markdown",
   "metadata": {},
   "source": [
    "Eliminar el último de la lista devolviendo su valor.  También se puede indicar una posición para eliminar uno cualquiera de la lista."
   ]
  },
  {
   "cell_type": "code",
   "execution_count": 26,
   "metadata": {
    "collapsed": false
   },
   "outputs": [
    {
     "name": "stdout",
     "output_type": "stream",
     "text": [
      "4\n"
     ]
    }
   ],
   "source": [
    "print(L.pop())"
   ]
  },
  {
   "cell_type": "markdown",
   "metadata": {},
   "source": [
    "Ordenar los elementos de la lista en orden creciente."
   ]
  },
  {
   "cell_type": "code",
   "execution_count": 27,
   "metadata": {
    "collapsed": false
   },
   "outputs": [
    {
     "name": "stdout",
     "output_type": "stream",
     "text": [
      "[0, 1, 2, 2, 3, 3, 4, 5, 6, 7, 8, 9, 80]\n"
     ]
    }
   ],
   "source": [
    "L.sort()\n",
    "print(L)"
   ]
  },
  {
   "cell_type": "markdown",
   "metadata": {},
   "source": [
    "Invertir el orden de todos los elementos de la lista."
   ]
  },
  {
   "cell_type": "code",
   "execution_count": 28,
   "metadata": {
    "collapsed": false
   },
   "outputs": [
    {
     "name": "stdout",
     "output_type": "stream",
     "text": [
      "[80, 9, 8, 7, 6, 5, 4, 3, 3, 2, 2, 1, 0]\n"
     ]
    }
   ],
   "source": [
    "L.reverse()\n",
    "print(L)"
   ]
  },
  {
   "cell_type": "markdown",
   "metadata": {},
   "source": [
    "## Clonado de listas\n",
    "\n",
    "Al modificar el contenido de la lista se puede afectar al recorrido de la lista. Por ejemplo, considera la siguiente función:"
   ]
  },
  {
   "cell_type": "code",
   "execution_count": 30,
   "metadata": {
    "collapsed": false
   },
   "outputs": [],
   "source": [
    "def borraDuplicados(L1, L2): # ¡OJO! ¡Esta función es incorrecta!\n",
    "    '''Asume que L1 y L2 son listas.\n",
    "    Elimina todos los elementos de L1 que estén presentes en L2.'''\n",
    "    for e in L1:\n",
    "        if e in L2:\n",
    "            L1.remove(e)"
   ]
  },
  {
   "cell_type": "markdown",
   "metadata": {},
   "source": [
    "Veamos un posible uso de la función."
   ]
  },
  {
   "cell_type": "code",
   "execution_count": 31,
   "metadata": {
    "collapsed": false
   },
   "outputs": [
    {
     "name": "stdout",
     "output_type": "stream",
     "text": [
      "L1 = [2, 3, 4]\n"
     ]
    }
   ],
   "source": [
    "L1 = [1,2,3,4]\n",
    "L2 = [1,2,5,6]\n",
    "borraDuplicados(L1, L2)\n",
    "print('L1 =', L1)"
   ]
  },
  {
   "cell_type": "markdown",
   "metadata": {},
   "source": [
    "¡Sorpresa! El número 2 está presente en `L2` pero no es eliminado de `L1`. ¿Qué ha pasado?\n",
    "\n",
    "El motivo es que el recorrido de la lista se realiza internamente con un contador que va desde el 0 (primer elemento) hasta `len(L1)` (sin incluirlo).  En la primera iteración comprueba el elemento 0 y descubre que es un duplicado.  Por tanto lo elimina, pero al eliminarlo el primer elemento deja de existir y su lugar es ocupado por el segundo elemento.  El bucle `for` no tiene forma de saber que se ha cambiado el orden de los elementos y sigue por donde iba, por el segundo elemento.  Pero el que ahora ocupa el segundo lugar es el que antes era el tercero. Se ha saltado el `2`.\n",
    "\n",
    "**La lección a recordar es que la mutación de una lista invalida los iteradores.  Todos los `for` que recorran la lista y que se estén ejecutando en el momento de la mutación dejan de tener sentido.**\n",
    "\n",
    "Por tanto el recorrido debe separarse de la mutación, debe hacerse sobre objetos distintos.  La forma más sencilla es clonando la lista.  Es decir, creando otra lista con los mismos elementos.  Y eso ya sabemos hacerlo:"
   ]
  },
  {
   "cell_type": "code",
   "execution_count": 32,
   "metadata": {
    "collapsed": false
   },
   "outputs": [],
   "source": [
    "def borraDuplicados(L1, L2):\n",
    "    '''Asume que L1 y L2 son listas.\n",
    "    Elimina todos los elementos de L1 que estén presentes en L2.'''\n",
    "    for e in L1[:]:\n",
    "        if e in L2:\n",
    "            L1.remove(e)"
   ]
  },
  {
   "cell_type": "markdown",
   "metadata": {},
   "source": [
    "La expresión `L1[:]` es una nueva lista que contiene todos los elementos de `L1`. Ahora el recorrido se hace sobre esa nueva lista, mientras que la operación de mutación `remove` se realiza sobre la lista `L1` original."
   ]
  },
  {
   "cell_type": "code",
   "execution_count": 33,
   "metadata": {
    "collapsed": false
   },
   "outputs": [
    {
     "name": "stdout",
     "output_type": "stream",
     "text": [
      "L1 = [3, 4]\n"
     ]
    }
   ],
   "source": [
    "L1 = [1,2,3,4]\n",
    "L2 = [1,2,5,6]\n",
    "borraDuplicados(L1, L2)\n",
    "print('L1 =', L1)"
   ]
  },
  {
   "cell_type": "markdown",
   "metadata": {},
   "source": [
    "El mismo resultado se obtiene con la llamada a la función `list(L1)`.  Crea una nueva lista con los elementos de la que se pasa como argumento."
   ]
  },
  {
   "cell_type": "code",
   "execution_count": 34,
   "metadata": {
    "collapsed": false
   },
   "outputs": [],
   "source": [
    "def borraDuplicados(L1, L2):\n",
    "    '''Asume que L1 y L2 son listas.\n",
    "    Elimina todos los elementos de L1 que estén presentes en L2.'''\n",
    "    for e in list(L1):\n",
    "        if e in L2:\n",
    "            L1.remove(e)"
   ]
  },
  {
   "cell_type": "markdown",
   "metadata": {},
   "source": [
    "Ambas opciones son perfectamente razonables en un programa Python. Cuál usar es un tema de gusto personal."
   ]
  },
  {
   "cell_type": "code",
   "execution_count": 35,
   "metadata": {
    "collapsed": false
   },
   "outputs": [
    {
     "name": "stdout",
     "output_type": "stream",
     "text": [
      "L1 = [3, 4]\n"
     ]
    }
   ],
   "source": [
    "L1 = [1,2,3,4]\n",
    "L2 = [1,2,5,6]\n",
    "borraDuplicados(L1, L2)\n",
    "print('L1 =', L1)"
   ]
  },
  {
   "cell_type": "markdown",
   "metadata": {},
   "source": [
    "¿Y si los elementos de la lista son a su vez mutables? Volvemos a tener el mismo problema. Al copiar los elementos cada uno de ellos debe crearse una nueva copia de su contenido.  Veamos un ejemplo."
   ]
  },
  {
   "cell_type": "code",
   "execution_count": 36,
   "metadata": {
    "collapsed": false
   },
   "outputs": [
    {
     "name": "stdout",
     "output_type": "stream",
     "text": [
      "[['pera', 'manzana', 'naranja', 'melon'], ['tomate', 'apio', 'puerro']]\n"
     ]
    }
   ],
   "source": [
    "frutas = [ 'pera', 'manzana', 'naranja' ]\n",
    "verduras = [ 'tomate', 'apio', 'puerro' ]\n",
    "productos = [ frutas, verduras ]\n",
    "\n",
    "productos2 = productos[:]\n",
    "frutas.append('melon')\n",
    "print(productos2)"
   ]
  },
  {
   "cell_type": "markdown",
   "metadata": {},
   "source": [
    "La forma más sencilla de realizar copias de objetos complejos es mediante la biblioteca `copy`."
   ]
  },
  {
   "cell_type": "code",
   "execution_count": 37,
   "metadata": {
    "collapsed": false
   },
   "outputs": [
    {
     "name": "stdout",
     "output_type": "stream",
     "text": [
      "[['pera', 'manzana', 'naranja', 'melon'], ['tomate', 'apio', 'puerro']]\n"
     ]
    }
   ],
   "source": [
    "from copy import deepcopy\n",
    "\n",
    "productos2 = deepcopy(productos)\n",
    "verduras.append('calabaza')\n",
    "print(productos2)"
   ]
  },
  {
   "cell_type": "markdown",
   "metadata": {},
   "source": [
    "Ahora las dos estructuras de datos son completamente independientes y al alterar una o parte de ella no notamos cambio alguno en la otra.\n",
    "\n",
    "## Comprensiones de listas\n",
    "\n",
    "Una construcción muy importante en Python es la denominada *list comprehension* o comprensión de lista.  Se trata de una notación compacta para generar listas (u otros contenedores) cuyos elementos se puedan escribir en forma de expresiones con los elementos de otra lista.\n",
    "\n",
    "Por ejemplo, una lista con los primeros 10 cuadrados de números naturales."
   ]
  },
  {
   "cell_type": "code",
   "execution_count": 38,
   "metadata": {
    "collapsed": false
   },
   "outputs": [
    {
     "data": {
      "text/plain": [
       "[1, 4, 9, 16, 25, 36, 49, 64, 81, 100]"
      ]
     },
     "execution_count": 38,
     "metadata": {},
     "output_type": "execute_result"
    }
   ],
   "source": [
    "[ x**2 for x in range(1,11) ]"
   ]
  },
  {
   "cell_type": "markdown",
   "metadata": {},
   "source": [
    "También se puede añadir una condición que actúa como filtro.  Es decir, de los elementos generados solo los que cumplen la condición se incluyen en la lista.  Por ejemplo, tenemos la función `os.listdir` que nos dice el contenido de una carpeta.  Veamos que pasa si la llamo en el directorio de los cuadernos de la asignatura."
   ]
  },
  {
   "cell_type": "code",
   "execution_count": 39,
   "metadata": {
    "collapsed": false
   },
   "outputs": [
    {
     "data": {
      "text/plain": [
       "['.ipynb_checkpoints',\n",
       " 'BisectionSearch.ipynb',\n",
       " 'Datos AEMET.ipynb',\n",
       " 'Examen ordinario.ipynb',\n",
       " 'ExamenExtraordinario.ipynb',\n",
       " 'Gráficas.ipynb',\n",
       " 'lab-01.ipynb',\n",
       " 'lab-02.ipynb',\n",
       " 'lab-03.ipynb',\n",
       " 'Navegación web.ipynb',\n",
       " 'Paseo.ipynb',\n",
       " 'Problema de las 8 damas.ipynb',\n",
       " 'Procesamiento de XML.ipynb',\n",
       " 'Prueba de Progreso 1ºA.ipynb',\n",
       " 'Prueba de Progreso 1ºB.ipynb',\n",
       " 'Prueba de Progreso 1ºC.ipynb',\n",
       " 'python-00.ipynb',\n",
       " 'python-01.ipynb',\n",
       " 'python-02.ipynb',\n",
       " 'python-04-ejercicios.ipynb',\n",
       " 'python-04.ipynb',\n",
       " 'python-05-06-07.ipynb',\n",
       " 'python-09.ipynb',\n",
       " 'python-10.ipynb',\n",
       " 'python-14.ipynb',\n",
       " 'python-files.ipynb',\n",
       " 'Resumen.ipynb',\n",
       " 'Sudoku 2.ipynb',\n",
       " 'Sudoku 3.ipynb',\n",
       " 'Sudoku.ipynb',\n",
       " 'Untitled.ipynb',\n",
       " 'Untitled1.ipynb',\n",
       " 'Untitled2.ipynb']"
      ]
     },
     "execution_count": 39,
     "metadata": {},
     "output_type": "execute_result"
    }
   ],
   "source": [
    "import os\n",
    "os.listdir('.')"
   ]
  },
  {
   "cell_type": "markdown",
   "metadata": {},
   "source": [
    "Hay archivos que acaban en `.ipynb`  que son cuadernos y otros que no.  Hay archivos que corresponden al laboratorio, otros que son ejemplos no relacionados con un tema concreto y otros que son relativos a un tema concreto.  Por ejemplo, los que empiezan por `python-` y acaban en `.ipynb` son cuadernos relativos a un tema.  Vamos a generar una lista por comprensión."
   ]
  },
  {
   "cell_type": "code",
   "execution_count": 40,
   "metadata": {
    "collapsed": false
   },
   "outputs": [
    {
     "data": {
      "text/plain": [
       "['python-00.ipynb',\n",
       " 'python-01.ipynb',\n",
       " 'python-02.ipynb',\n",
       " 'python-04-ejercicios.ipynb',\n",
       " 'python-04.ipynb',\n",
       " 'python-05-06-07.ipynb',\n",
       " 'python-09.ipynb',\n",
       " 'python-10.ipynb',\n",
       " 'python-14.ipynb',\n",
       " 'python-files.ipynb']"
      ]
     },
     "execution_count": 40,
     "metadata": {},
     "output_type": "execute_result"
    }
   ],
   "source": [
    "[ f for f in os.listdir('.') if f.endswith('.ipynb') and f.startswith('python-') ]"
   ]
  },
  {
   "cell_type": "markdown",
   "metadata": {},
   "source": [
    "Volvamos al ejercicio del Sudoku. Vamos a seleccionar partes de él ahora que sabemos todo acerca de las *list comprehensions*."
   ]
  },
  {
   "cell_type": "code",
   "execution_count": 41,
   "metadata": {
    "collapsed": false
   },
   "outputs": [],
   "source": [
    "sudoku = [\n",
    "[4,9,1,3,6,2,8,7,5],\n",
    "[5,2,6,8,7,1,4,9,3],\n",
    "[7,8,3,9,5,4,6,1,2],\n",
    "[2,3,9,4,1,7,5,8,6],\n",
    "[1,5,7,6,3,8,9,2,4],\n",
    "[6,4,8,2,9,5,7,3,1],\n",
    "[8,7,2,1,4,6,3,5,9],\n",
    "[9,1,4,5,8,3,2,6,7],\n",
    "[3,6,5,7,2,9,1,4,8]]"
   ]
  },
  {
   "cell_type": "markdown",
   "metadata": {},
   "source": [
    "Seleccionemos el cuadrante superior izquierdo."
   ]
  },
  {
   "cell_type": "code",
   "execution_count": 42,
   "metadata": {
    "collapsed": false
   },
   "outputs": [
    {
     "data": {
      "text/plain": [
       "[[4, 9, 1], [5, 2, 6], [7, 8, 3]]"
      ]
     },
     "execution_count": 42,
     "metadata": {},
     "output_type": "execute_result"
    }
   ],
   "source": [
    "[s[:3] for s in sudoku[:3]]"
   ]
  },
  {
   "cell_type": "markdown",
   "metadata": {},
   "source": [
    "Ahora el inferior derecho."
   ]
  },
  {
   "cell_type": "code",
   "execution_count": 43,
   "metadata": {
    "collapsed": false
   },
   "outputs": [
    {
     "data": {
      "text/plain": [
       "[[3, 5, 9], [2, 6, 7], [1, 4, 8]]"
      ]
     },
     "execution_count": 43,
     "metadata": {},
     "output_type": "execute_result"
    }
   ],
   "source": [
    "[s[6:] for s in sudoku[6:]]"
   ]
  },
  {
   "cell_type": "markdown",
   "metadata": {},
   "source": [
    "Ahora el del medio."
   ]
  },
  {
   "cell_type": "code",
   "execution_count": 44,
   "metadata": {
    "collapsed": false
   },
   "outputs": [
    {
     "data": {
      "text/plain": [
       "[[4, 1, 7], [6, 3, 8], [2, 9, 5]]"
      ]
     },
     "execution_count": 44,
     "metadata": {},
     "output_type": "execute_result"
    }
   ],
   "source": [
    "[s[3:6] for s in sudoku[3:6]]"
   ]
  },
  {
   "cell_type": "markdown",
   "metadata": {},
   "source": [
    "Ahora la tercera columna."
   ]
  },
  {
   "cell_type": "code",
   "execution_count": 45,
   "metadata": {
    "collapsed": false
   },
   "outputs": [
    {
     "data": {
      "text/plain": [
       "[1, 6, 3, 9, 7, 8, 2, 4, 5]"
      ]
     },
     "execution_count": 45,
     "metadata": {},
     "output_type": "execute_result"
    }
   ],
   "source": [
    "[ s[2] for s in sudoku ]"
   ]
  },
  {
   "cell_type": "markdown",
   "metadata": {},
   "source": [
    "Practica tú. Haz por ejemplo que los cuadrantes aparezcan como una lista simple en lugar de una lista de listas.\n",
    "\n",
    "Piénsalo un poco por tí mismo y si no llegas a la solución sigue leyendo.  A partir de aquí se pede considerar un uso avanzado de las *list comprehensions*. No te preocupes si no las entiendes.\n",
    "\n",
    "Por ejemplo, el cuadrante superior izquierdo:"
   ]
  },
  {
   "cell_type": "code",
   "execution_count": 46,
   "metadata": {
    "collapsed": false
   },
   "outputs": [
    {
     "data": {
      "text/plain": [
       "[4, 9, 1, 5, 2, 6, 7, 8, 3]"
      ]
     },
     "execution_count": 46,
     "metadata": {},
     "output_type": "execute_result"
    }
   ],
   "source": [
    "[ i for s in sudoku[:3] for i in s[:3] ]"
   ]
  },
  {
   "cell_type": "markdown",
   "metadata": {},
   "source": [
    "El cuadrante inferior derecho:"
   ]
  },
  {
   "cell_type": "code",
   "execution_count": 47,
   "metadata": {
    "collapsed": false
   },
   "outputs": [
    {
     "data": {
      "text/plain": [
       "[3, 5, 9, 2, 6, 7, 1, 4, 8]"
      ]
     },
     "execution_count": 47,
     "metadata": {},
     "output_type": "execute_result"
    }
   ],
   "source": [
    "[ i for s in sudoku[6:] for i in s[6:] ]"
   ]
  },
  {
   "cell_type": "markdown",
   "metadata": {},
   "source": [
    "El del medio:"
   ]
  },
  {
   "cell_type": "code",
   "execution_count": 48,
   "metadata": {
    "collapsed": false
   },
   "outputs": [
    {
     "data": {
      "text/plain": [
       "[4, 1, 7, 6, 3, 8, 2, 9, 5]"
      ]
     },
     "execution_count": 48,
     "metadata": {},
     "output_type": "execute_result"
    }
   ],
   "source": [
    "[ i for s in sudoku[3:6] for i in s[3:6] ]"
   ]
  },
  {
   "cell_type": "markdown",
   "metadata": {},
   "source": [
    "Piensa ahora una función para devolver el cuadrante (x, y) siendo x e y números entre 0 y 2."
   ]
  },
  {
   "cell_type": "code",
   "execution_count": 49,
   "metadata": {
    "collapsed": false
   },
   "outputs": [],
   "source": [
    "def cuadrante(sudoku, x, y):\n",
    "    return [ i for s in sudoku[3*y:][:3] for i in s[3*x:][:3] ]"
   ]
  },
  {
   "cell_type": "markdown",
   "metadata": {},
   "source": [
    "Veamos para probarlo los cuadrantes centrales."
   ]
  },
  {
   "cell_type": "code",
   "execution_count": 50,
   "metadata": {
    "collapsed": false
   },
   "outputs": [
    {
     "name": "stdout",
     "output_type": "stream",
     "text": [
      "[2, 3, 9, 1, 5, 7, 6, 4, 8]\n",
      "[4, 1, 7, 6, 3, 8, 2, 9, 5]\n",
      "[5, 8, 6, 9, 2, 4, 7, 3, 1]\n"
     ]
    }
   ],
   "source": [
    "print(cuadrante(sudoku, 0, 1))\n",
    "print(cuadrante(sudoku, 1, 1))\n",
    "print(cuadrante(sudoku, 2, 1))"
   ]
  },
  {
   "cell_type": "code",
   "execution_count": null,
   "metadata": {
    "collapsed": true
   },
   "outputs": [],
   "source": []
  }
 ],
 "metadata": {
  "kernelspec": {
   "display_name": "Python 3",
   "language": "python",
   "name": "python3"
  },
  "language_info": {
   "codemirror_mode": {
    "name": "ipython",
    "version": 3
   },
   "file_extension": ".py",
   "mimetype": "text/x-python",
   "name": "python",
   "nbconvert_exporter": "python",
   "pygments_lexer": "ipython3",
   "version": "3.5.2+"
  }
 },
 "nbformat": 4,
 "nbformat_minor": 0
}
