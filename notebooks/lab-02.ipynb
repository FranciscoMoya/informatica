{
 "metadata": {
  "name": "",
  "signature": "sha256:35b4f63c2a9b2379b7254c4bbb55c24b80c00d97c7c459186ff802816eedde9d"
 },
 "nbformat": 3,
 "nbformat_minor": 0,
 "worksheets": [
  {
   "cells": [
    {
     "cell_type": "markdown",
     "metadata": {},
     "source": [
      "# Lab 2: Bucles, listas y cadenas\n",
      "\n",
      "Lee atentamente los ejercicios que se piden a continuaci\u00f3n relacionados con bucles, listas y cadenas en Python y hazlos todos ellos en una \u00fanica entrega.\n",
      "\n",
      "1. *Define una funci\u00f3n `suma_rango` que tenga dos argumentos enteros y devuelva la suma de todos los n\u00fameros desde el primero hasta el segundo, sin contar este \u00faltimo.  Se asume que el primer argumento es menor que el segundo.*\n",
      "\n",
      "1. *Define una funci\u00f3n `contar_negativos` que tenga un \u00fanico argumento que es una lista de enteros.  Debe devolver el n\u00famero de enteros negativos que contiene.*\n",
      "\n",
      "1. *Define una funci\u00f3n `buscar_vocal` que tenga un \u00fanico argumento de tipo cadena de texto y devuelva la posici\u00f3n de la primera vocal encontrada.  Si no encuentra vocales debe devolver -1.* Nota: la primera letra tiene la posici\u00f3n 0.\n",
      "\n",
      "1. *Define una funci\u00f3n `multiplos_7_en_rango` que tenga dos argumentos enteros y devuelva una lista con todos los n\u00fameros enteros entre ambos argumentos (sin contar el segundo) que sean m\u00faltiplos de 7.  Se asume que el primer argumento es menor que el segundo.* Nota: Para a\u00f1adir un elemento a una lista se puede usar el m\u00e9todo `append`.\n",
      "\n",
      "1. *Define una funci\u00f3n `dibujar_cuadrado` que tenga un argumento entero que corresponde al ancho del cuadrado en caracteres.  Esta funci\u00f3n debe imprimir por salida est\u00e1ndar el dibujo de un cuadrado del ancho especificado en caracteres. Por ejemplo, para el ancho 8 la funci\u00f3n debe imprimir exactamente el dibujo de abajo.*\n",
      "**Nota: El ancho puede asumirse par. N\u00f3tese que el ancho incluye los caracteres de los bordes y esquinas. N\u00f3tese que la altura del cuadrado es menor que la anchura. Concretamente el n\u00famero de segmentos verticales `|` es la mitad que el n\u00famero de segmentos horizontales `-`.**\n",
      "```\n",
      "+------+\n",
      "|      |\n",
      "|      |\n",
      "|      |\n",
      "+------+\n",
      "```\n",
      "1. *Escribe una funci\u00f3n `codigo_cesar` que tenga un \u00fanico argumento de tipo cadena de texto.  Debe devolver otra cadena resultado de aplicar el [Cifrado C\u00e9sar](https://es.wikipedia.org/wiki/Cifrado_C%C3%A9sar) con desplzamiento de 3 posiciones a la cadena original. No se consideran letras acentuadas, ni di\u00e9resis, ni \u00f1, ni n\u00fameros.* **Nota: Las \u00fanicas letras a considerar son las que muestra el siguiente fragmento.**\n",
      "```\n",
      "import string\n",
      "print string.ascii_letters\n",
      "```\n",
      "1. *Escribe una funci\u00f3n `es_perfecto(n)` que devuelva `True` si el argumento es un [n\u00famero perfecto](https://es.wikipedia.org/wiki/N%C3%BAmero_perfecto) y `False` si no lo es.*\n",
      "\n",
      "1. *Escribe una funci\u00f3n `cifras(n)` que devuelve una lista de las cifras decimales de su argumento.  Por ejemplo, para el n\u00famero `1984` devuelve `[1, 9, 8, 4]`.* Nota: Para a\u00f1adir un elemento a una lista se puede usar el m\u00e9todo `append`.\n",
      "\n",
      "1. *Un popular juego de naipes llamado [las 7 y media](https://es.wikipedia.org/wiki/Siete_y_media) precisa sumar los valores de conjuntos de cartas de una manera muy peculiar. Los naipes est\u00e1n numerados del 1 al 12, aunque los 8 y los 9 no se utilizan en este juego.  Cada carta vale lo que corresponde a su n\u00famero salvo los 10, 11 y 12 que valen solo 0.5 puntos. Si se superan los 7.5 puntos se ha perdido. Si no se supera gana el que m\u00e1s se aproxime a 7.5 puntos (de ah\u00ed el nombre). Escribe una funci\u00f3n `compara_bazas` que acepta dos listas de n\u00fameros correspondientes a las bazas de dos jugadores y devuelve 1 si gana la primera lista, 2 si gana la segunda lista y 0 si hay empate.*  Por ejemplo, `compara_bazas([1,5,12], [7,10])` debe devolver `2`.\n",
      "\n",
      "1. *Escribe una funci\u00f3n `buscar_texto` que devuelva el n\u00famero de veces que aparece la cadena que se pasa como segundo argumento en la cadena que se pasa como primer argumento.* Por ejemplo `buscar_texto('No por mucho madrugar amanece mas temprano', 'ma')` debe devolver 3."
     ]
    }
   ],
   "metadata": {}
  }
 ]
}