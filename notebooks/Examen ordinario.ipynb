{
 "metadata": {
  "name": "",
  "signature": "sha256:af2f94e17e11ba9b8b1ddbbbd6f7ccff6b695a83a1fda9c905e54d7efd80cf74"
 },
 "nbformat": 3,
 "nbformat_minor": 0,
 "worksheets": [
  {
   "cells": [
    {
     "cell_type": "markdown",
     "metadata": {},
     "source": [
      "# Bloque 1. Ejercicios sencillos\n",
      "\n",
      "## Rombo con caracteres ascii\n",
      "\n",
      "Dada la regularidad del dibujo lo m\u00e1s f\u00e1cil es definir una funci\u00f3n para imprimir una l\u00ednea cualquiera y usarla tantas veces como se necesite."
     ]
    },
    {
     "cell_type": "code",
     "collapsed": false,
     "input": [
      "def imprimir_rombo(n):\n",
      "    assert n % 2 == 0, 'El argumento debe ser par'\n",
      "    assert n >= 2, 'El argumento debe ser mayor o igual a 2'\n",
      "    for i in range(n/2):\n",
      "        imprimir_linea_rombo('/', '\\\\', i, n)\n",
      "    for i in reversed(range(n/2)):\n",
      "        imprimir_linea_rombo('\\\\', '/', i, n)\n",
      "\n",
      "def imprimir_linea_rombo(a,b,i,n):\n",
      "    print ' '*(n/2-i-1)+a+' '*(2*i)+b"
     ],
     "language": "python",
     "metadata": {},
     "outputs": [],
     "prompt_number": 45
    },
    {
     "cell_type": "markdown",
     "metadata": {},
     "source": [
      "Vamos a hacer alguna prueba."
     ]
    },
    {
     "cell_type": "code",
     "collapsed": false,
     "input": [
      "imprimir_rombo(8)"
     ],
     "language": "python",
     "metadata": {},
     "outputs": [
      {
       "output_type": "stream",
       "stream": "stdout",
       "text": [
        "   /\\\n",
        "  /  \\\n",
        " /    \\\n",
        "/      \\\n",
        "\\      /\n",
        " \\    /\n",
        "  \\  /\n",
        "   \\/\n"
       ]
      }
     ],
     "prompt_number": 46
    },
    {
     "cell_type": "markdown",
     "metadata": {},
     "source": [
      "## Suma de fecha y d\u00edas\n",
      "\n",
      "El c\u00e1lculo de la nueva fecha es relativamente complicado. Nuestra estrategia es empezar en el d\u00eda uno del mes sumando el n\u00famero del d\u00eda menos uno a los d\u00edas que hay que sumar.  Una vez en este punto vamos sumando los d\u00edas de cada mes hasta que ya no nos queden suficientes d\u00edas que sumar y ese resto se suma al n\u00famero de d\u00eda inicial.  De esta forma nos evitamos el problema de tener que corregir una fecha a posteriori."
     ]
    },
    {
     "cell_type": "code",
     "collapsed": false,
     "input": [
      "def sumar_dias(fecha, dias):\n",
      "    dias += fecha[0] - 1\n",
      "    fecha = (1, fecha[1], fecha[2])\n",
      "    while dias > 0:\n",
      "        fecha, dias = sumar_mes(fecha, dias)\n",
      "    return fecha\n",
      "\n",
      "def sumar_mes(fecha, dias):\n",
      "    dm = dias_mes(fecha)\n",
      "    if dm > dias:\n",
      "        return (1+dias,fecha[1],fecha[2]), 0\n",
      "    return siguiente_mes(fecha), dias - dm\n",
      "\n",
      "def dias_mes(fecha):\n",
      "    ndias = [[0,31,28,31,30,31,30,31,31,30,31,30,31],\n",
      "             [0,31,29,31,30,31,30,31,31,30,31,30,31]]\n",
      "    return ndias[es_bisiesto(fecha[2])][fecha[1]]\n",
      "\n",
      "def siguiente_mes(fecha):\n",
      "    if fecha[1] == 12:\n",
      "        return (fecha[0], 1, fecha[2]+1)\n",
      "    return (fecha[0], fecha[1]+1, fecha[2])\n",
      "\n",
      "def es_bisiesto(y):\n",
      "    return y % 400 == 0 or (y % 4 == 0 and y % 100 != 0)"
     ],
     "language": "python",
     "metadata": {},
     "outputs": [],
     "prompt_number": 47
    },
    {
     "cell_type": "markdown",
     "metadata": {},
     "source": [
      "Algunas pruebas para verificar que todo funciona como debe."
     ]
    },
    {
     "cell_type": "code",
     "collapsed": false,
     "input": [
      "print sumar_dias((21,1,2016), 15)\n",
      "print sumar_dias((21,1,2016), 1)\n",
      "print sumar_dias((31,1,2016), 1)\n",
      "print sumar_dias((31,1,2016), 0)\n",
      "print sumar_dias((21,1,2016), 366)"
     ],
     "language": "python",
     "metadata": {},
     "outputs": [
      {
       "output_type": "stream",
       "stream": "stdout",
       "text": [
        "(5, 2, 2016)\n",
        "(22, 1, 2016)\n",
        "(1, 2, 2016)\n",
        "(31, 1, 2016)\n",
        "(21, 1, 2017)\n"
       ]
      }
     ],
     "prompt_number": 48
    },
    {
     "cell_type": "markdown",
     "metadata": {},
     "source": [
      "## Regresi\u00f3n lineal\n",
      "\n",
      "Este ejercicio es aplicaci\u00f3n directa de la f\u00f3rmula, no tiene nada especial."
     ]
    },
    {
     "cell_type": "code",
     "collapsed": false,
     "input": [
      "def regresion_lineal(puntos):\n",
      "    xm = media([p[0] for p in puntos])\n",
      "    ym = media([p[1] for p in puntos])\n",
      "    xy = 0.\n",
      "    xx = 0.\n",
      "    for p in puntos:\n",
      "        xy += (p[0]-xm)*(p[1]-ym)\n",
      "        xx += (p[0]-xm)**2\n",
      "    a = xy/xx\n",
      "    b = ym - a*xm\n",
      "    return a,b\n",
      "\n",
      "def media(l):\n",
      "    return sum(l)/len(l)"
     ],
     "language": "python",
     "metadata": {},
     "outputs": [],
     "prompt_number": 49
    },
    {
     "cell_type": "markdown",
     "metadata": {},
     "source": [
      "Verificaremos el ejemplo del enunciado y alg\u00fan otro."
     ]
    },
    {
     "cell_type": "code",
     "collapsed": false,
     "input": [
      "print regresion_lineal([(0.,1.),\n",
      "                        (1.,4.),\n",
      "                        (-1.,-2.)])\n",
      "print regresion_lineal([(1.,1.),\n",
      "                        (2.,2.),\n",
      "                        (8.,8.)])\n",
      "print regresion_lineal([(1.,1.),\n",
      "                        (2.,2.),\n",
      "                        (8.,8.1)])"
     ],
     "language": "python",
     "metadata": {},
     "outputs": [
      {
       "output_type": "stream",
       "stream": "stdout",
       "text": [
        "(3.0, 1.0)\n",
        "(1.0, 0.0)\n",
        "(1.0151162790697674, -0.02209302325581408)\n"
       ]
      }
     ],
     "prompt_number": 50
    },
    {
     "cell_type": "markdown",
     "metadata": {},
     "source": [
      "# Bloque 2. Ley D'Hont\n",
      "\n",
      "El algoritmo que se propone en el bloque 2 es muy simple.  Basta calcular la tabla de votos divididos por el n\u00famero de esca\u00f1os para cada partido. Las celdas de esa tabla se ordenan de manera que el que pueda pagar m\u00e1s por cada esca\u00f1o vaya primero. Por \u00faltimo basta coger solo tantas celdas como esca\u00f1os haya disponibles y contar a qui\u00e9n corresponde cada esca\u00f1o."
     ]
    },
    {
     "cell_type": "code",
     "collapsed": false,
     "input": [
      "def reparto_d_hont(n, votos):\n",
      "    precios_ordenados = sorted(precios_por_escanno_partido(votos, n),\n",
      "                               key = celda_precio,\n",
      "                               reverse=True)\n",
      "    return cuenta_escannos(precios_ordenados[:n])"
     ],
     "language": "python",
     "metadata": {},
     "outputs": [],
     "prompt_number": 51
    },
    {
     "cell_type": "markdown",
     "metadata": {},
     "source": [
      "En esta implementaci\u00f3n hemos usado algunas caracter\u00edsticas avanzadas de la funci\u00f3n `sorted` pero es simplemente por brevedad. Lo mismo puede conseguirse con una simple funci\u00f3n auxiliar y escribiendo las tuplas en el orden adecuado para que las comparaciones se produzcan como queremos.\n",
      "\n",
      "La tabla de precios por esca\u00f1o y partido, es decir, los votos divididos por n\u00famero de esca\u00f1os, la implementamos como una simple lista de tuplas con el nombre del partido y el coste del esca\u00f1o. Esto facilita enormemente la ordenaci\u00f3n."
     ]
    },
    {
     "cell_type": "code",
     "collapsed": false,
     "input": [
      "def precios_por_escanno_partido(votos, n):\n",
      "    precios = []\n",
      "    for partido in votos:\n",
      "        precios += precios_por_escanno(partido, n)\n",
      "    return precios"
     ],
     "language": "python",
     "metadata": {},
     "outputs": [],
     "prompt_number": 52
    },
    {
     "cell_type": "markdown",
     "metadata": {},
     "source": [
      "Donde el precio por esca\u00f1o que podr\u00eda pagar cada partido, siguiendo la ley de oferta y demanda es simplemente el n\u00famero de votos dividido por el n\u00famero de esca\u00f1os disponibles (que pueden ser entre 1 y `n`).  Es decir: "
     ]
    },
    {
     "cell_type": "code",
     "collapsed": false,
     "input": [
      "def precios_por_escanno(partido, n):\n",
      "    return [ (partido[0], partido[1]/i) for i in range(1,n+1) ]"
     ],
     "language": "python",
     "metadata": {},
     "outputs": [],
     "prompt_number": 53
    },
    {
     "cell_type": "markdown",
     "metadata": {},
     "source": [
      "Contar los esca\u00f1os es simplemente contar cu\u00e1ntas celdas de cada partido han quedado. Por comodidad lo hacemos con un diccionario y lo ordenamos por n\u00famero decreciente de esca\u00f1os, como en los resultados electorales oficiales."
     ]
    },
    {
     "cell_type": "code",
     "collapsed": false,
     "input": [
      "def cuenta_escannos(precios):\n",
      "    escannos = {}\n",
      "    for p in precios:\n",
      "        incrementa_cuenta_escannos(escannos, celda_partido(p))\n",
      "    return sorted([(k, escannos[k]) for k in escannos ],\n",
      "                  key = celda_precio,\n",
      "                  reverse = True)"
     ],
     "language": "python",
     "metadata": {},
     "outputs": [],
     "prompt_number": 54
    },
    {
     "cell_type": "markdown",
     "metadata": {},
     "source": [
      "Al utilizar un diccionario inicialmente vac\u00edo tenemos que tratar de forma especial el caso del esca\u00f1o inicial. Tambi\u00e9n podr\u00edamos haber inicializado el diccionario con todos los partidos y una cuenta inicial a cero."
     ]
    },
    {
     "cell_type": "code",
     "collapsed": false,
     "input": [
      "def incrementa_cuenta_escannos(escannos, partido):\n",
      "    if partido in escannos:\n",
      "        escannos[partido] += 1\n",
      "    else:\n",
      "        escannos[partido] = 1"
     ],
     "language": "python",
     "metadata": {},
     "outputs": [],
     "prompt_number": 55
    },
    {
     "cell_type": "markdown",
     "metadata": {},
     "source": [
      "Cada celda contiene el nombre del partido y el precio que puede pagar. Para no llenar el c\u00f3digo con \u00edndices que son muy propensos a error utilizamos funciones auxiliares que dada una celda devuelve cada uno de sus elementos."
     ]
    },
    {
     "cell_type": "code",
     "collapsed": false,
     "input": [
      "def celda_precio(celda):\n",
      "    return celda[1]\n",
      "\n",
      "def celda_partido(celda):\n",
      "    return celda[0]"
     ],
     "language": "python",
     "metadata": {},
     "outputs": [],
     "prompt_number": 56
    },
    {
     "cell_type": "markdown",
     "metadata": {},
     "source": [
      "Solo falta probar. Haremos dos casos de prueba, el del enunciado y los resultados de Madrid de las \u00faltimas elecciones generales."
     ]
    },
    {
     "cell_type": "code",
     "collapsed": false,
     "input": [
      "print reparto_d_hont(12,\n",
      "                     [('A', 4000000),\n",
      "                      ('B', 3500000),\n",
      "                      ('C', 2000000),\n",
      "                      ('D', 1500000)])\n",
      "\n",
      "print reparto_d_hont(36,\n",
      "                     [('PP', 1203837),\n",
      "                      ('Podemos', 750477),\n",
      "                      ('Cs', 676389),\n",
      "                      ('PSOE', 643158),\n",
      "                      ('Unidad Popular en Comun', 189237),\n",
      "                      ('UPyD', 43103),\n",
      "                      ('PACMA', 28302),\n",
      "                      ('VOX', 22441),\n",
      "                      ('X La Izquierda-Los Verdes', 5007),\n",
      "                      ('FE de las JONS', 4688),\n",
      "                      ('Recortes Cero-Grupo Verde', 4009),\n",
      "                      ('PUM+J', 2832),\n",
      "                      ('PH', 1848),\n",
      "                      ('PCPE', 1730),\n",
      "                      ('SAIn', 1229),\n",
      "                      ('P-LIB', 1053)])"
     ],
     "language": "python",
     "metadata": {},
     "outputs": [
      {
       "output_type": "stream",
       "stream": "stdout",
       "text": [
        "[('A', 5), ('B', 4), ('C', 2), ('D', 1)]\n",
        "[('PP', 13), ('Podemos', 8), ('Cs', 7), ('PSOE', 6), ('Unidad Popular en Comun', 2)]\n"
       ]
      }
     ],
     "prompt_number": 57
    },
    {
     "cell_type": "markdown",
     "metadata": {},
     "source": [
      "# Recuperaci\u00f3n de prueba de progreso\n",
      "\n",
      "## Vocales a n\u00fameros\n",
      "\n",
      "Es muy parecido a `codigo_cesar` de la pr\u00e1ctica 2."
     ]
    },
    {
     "cell_type": "code",
     "collapsed": false,
     "input": [
      "def vocales_a_numeros(s):\n",
      "    return ''.join([letra_transformada(c) for c in s])\n",
      "\n",
      "def letra_transformada(c):\n",
      "    vocales = 'aeioAEIO'\n",
      "    numeros = '43104310'\n",
      "    if c in vocales:\n",
      "        return numeros[vocales.index(c)]\n",
      "    return c"
     ],
     "language": "python",
     "metadata": {},
     "outputs": [],
     "prompt_number": 58
    },
    {
     "cell_type": "markdown",
     "metadata": {},
     "source": [
      "Vamos a probar lo del enunciado."
     ]
    },
    {
     "cell_type": "code",
     "collapsed": false,
     "input": [
      "print vocales_a_numeros('Examen')"
     ],
     "language": "python",
     "metadata": {},
     "outputs": [
      {
       "output_type": "stream",
       "stream": "stdout",
       "text": [
        "3x4m3n\n"
       ]
      }
     ],
     "prompt_number": 59
    },
    {
     "cell_type": "markdown",
     "metadata": {},
     "source": [
      "## Iniciales\n",
      "\n",
      "Simple manipulaci\u00f3n de cadenas. Eliminamos todo lo que no sean letras porque no ser\u00edan iniciales. Eso no se indica en el enunciado, por lo que se considerar\u00eda v\u00e1lido aunque no se haga."
     ]
    },
    {
     "cell_type": "code",
     "collapsed": false,
     "input": [
      "def iniciales(s):\n",
      "    palabras = normalizar_cadena(s).split(' ')\n",
      "    return ''.join([p[0] for p in palabras if len(p) > 0])\n",
      "\n",
      "def normalizar_cadena(s):\n",
      "    return ''.join([noletra_a_espacio(c) for c in s])\n",
      "\n",
      "import string\n",
      "\n",
      "def noletra_a_espacio(c):\n",
      "    transtab = dict(zip(u'\u00c1\u00c9\u00cd\u00d3\u00da\u00dc\u00e1\u00e9\u00ed\u00f3\u00fa\u00fc','AEIOUUaeiouu'))\n",
      "    if c in transtab:\n",
      "        return transtab[c]                        \n",
      "    validas=string.letters + u'\u00d1\u00f1'\n",
      "    if c in validas:\n",
      "        return c\n",
      "    return ' '"
     ],
     "language": "python",
     "metadata": {},
     "outputs": [],
     "prompt_number": 1
    },
    {
     "cell_type": "code",
     "collapsed": false,
     "input": [
      "print iniciales('No por mucho madrugar,amanece mas temprano')"
     ],
     "language": "python",
     "metadata": {},
     "outputs": [
      {
       "output_type": "stream",
       "stream": "stdout",
       "text": [
        "Npmmamt\n"
       ]
      }
     ],
     "prompt_number": 2
    },
    {
     "cell_type": "markdown",
     "metadata": {},
     "source": [
      "## Traza de una matriz cuadrada\n",
      "\n",
      "Es trivial con una *list comprehension*."
     ]
    },
    {
     "cell_type": "code",
     "collapsed": false,
     "input": [
      "def traza(m):\n",
      "    return sum([m[i][i] for i in range(len(m))])"
     ],
     "language": "python",
     "metadata": {},
     "outputs": [],
     "prompt_number": 62
    },
    {
     "cell_type": "code",
     "collapsed": false,
     "input": [
      "print traza([[1,2,3],[4,5,6],[7,8,9]])\n",
      "print traza([[1,0,0],[0,1,0],[0,0,1]])"
     ],
     "language": "python",
     "metadata": {},
     "outputs": [
      {
       "output_type": "stream",
       "stream": "stdout",
       "text": [
        "15\n",
        "3\n"
       ]
      }
     ],
     "prompt_number": 63
    },
    {
     "cell_type": "markdown",
     "metadata": {},
     "source": [
      "## Opciones de compra\n",
      "\n",
      "B\u00e1sicamente consiste en filtrar las combinaciones de `precios` tomados de dos en dos.  Es decir, el grueso del trabajo es conseguir estas combinaciones."
     ]
    },
    {
     "cell_type": "code",
     "collapsed": false,
     "input": [
      "def opciones_de_compra(precios, n, total):\n",
      "    return [ c for c in combinaciones_n(precios, n) if sum(c) <= total ]\n",
      "\n",
      "def combinaciones_n(precios, n):\n",
      "    if len(precios) == n:\n",
      "        return [ precios ]\n",
      "    if n == 1:\n",
      "        return [ [x] for x in precios ]\n",
      "    return [ [precios[0]] + i for i in combinaciones_n(precios[1:], n-1)] \\\n",
      "        + combinaciones_n(precios[1:], n)"
     ],
     "language": "python",
     "metadata": {},
     "outputs": [],
     "prompt_number": 64
    },
    {
     "cell_type": "code",
     "collapsed": false,
     "input": [
      "print opciones_de_compra([2,5,1,3],2,6)\n",
      "print opciones_de_compra([3,5,2],2,4)"
     ],
     "language": "python",
     "metadata": {},
     "outputs": [
      {
       "output_type": "stream",
       "stream": "stdout",
       "text": [
        "[[2, 1], [2, 3], [5, 1], [1, 3]]\n",
        "[]\n"
       ]
      }
     ],
     "prompt_number": 65
    }
   ],
   "metadata": {}
  }
 ]
}