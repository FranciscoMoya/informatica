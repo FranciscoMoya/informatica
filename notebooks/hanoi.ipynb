{
 "cells": [
  {
   "cell_type": "markdown",
   "metadata": {},
   "source": [
    "# Torres de Hanoi\n",
    "\n",
    "Las Torres de Hanoi es un juego infantil que consiste en un armazón con tres palos (torres) en los que se inserta un conjunto de discos de distinto tamaño con un agujero en su punto medio.\n",
    "\n",
    "<img src=\"https://upload.wikimedia.org/wikipedia/commons/0/07/Tower_of_Hanoi.jpeg\">\n",
    "\n",
    "El juego consiste en mover los discos uno a uno desde un palo a otro manteniendo siempre una regla: *un disco nunca puede posarse sobre otro disco de menor tamaño*.  Esto exige utilizar el tercer palo como un punto intermedio.  Vamos a construir un programa para resolverlo."
   ]
  },
  {
   "cell_type": "markdown",
   "metadata": {},
   "source": [
    "La solución es trivial si empleamos una función recursiva.  Mover los ocho discos de la imagen al palo de la derecha solo se puede hacer si movemos los siete discos superiores al palo central, movemos entonces el disco mayor al palo de la derecha y entonces movemos los siete discos del palo central al palo de la derecha.  No hay otra posible solución, para que el disco mayor se mueva al palo de la derecha la única posibilidad es que no haya ningún disco en este palo y por tanto todos tienen que estar en el central.\n",
    "\n",
    "Lo interesante de este análisis es que ya tenemos la solución final, porque mover los siete discos superiores al palo central es un problema complétamente análogo al anterior.  Hay que mover los seis discos superiores al derecho, mover el séptimo al palo central y entonces mover los seis discos superiores al palo central.\n",
    "\n",
    "Podemos, por ejemplo, generar la lista completa de movimientos usando este método.  El algoritmo es sumamente sencillo.\n",
    "\n",
    "1. Si no hay que mover ningún disco la lista de movimientos es la lista vacía.\n",
    "1. Para mover N discos desde el palo X al palo Y:\n",
    "    1. Determinar el otro palo Z.\n",
    "    1. Mover N-1 discos de X a Z.\n",
    "    1. Mover el disco N-simo de X a Y. Generar el movimiento `X -> Y`\n",
    "    1. Mover N-1 discos de Z a Y.\n",
    "\n",
    "Se trata de un algoritmo recursivo donde el primer caso es el caso base, que rompe la recursión."
   ]
  },
  {
   "cell_type": "code",
   "execution_count": 12,
   "metadata": {
    "collapsed": true
   },
   "outputs": [],
   "source": [
    "def hanoi(ndiscos, desde=0, hasta=2):\n",
    "    if ndiscos == 0:\n",
    "        return []\n",
    "    tmp = ({0,1,2} - {desde,hasta}).pop()\n",
    "    return hanoi(ndiscos-1, desde, tmp) + [(desde, hasta)] + hanoi(ndiscos-1, tmp, hasta)"
   ]
  },
  {
   "cell_type": "markdown",
   "metadata": {},
   "source": [
    "La forma en que determinamos el otro palo puede parecerte extraña en este momento.  Vamos a explicarla un poco.  Nuestra implementación utiliza conjuntos de Python.  Un conjunto es similar a una lista pero los elementos no pueden repetirse y se colocan en orden.  Se definen con llaves en lugar de corchetes: "
   ]
  },
  {
   "cell_type": "code",
   "execution_count": 13,
   "metadata": {
    "collapsed": false
   },
   "outputs": [
    {
     "data": {
      "text/plain": [
       "{1, 2, 3, 4, 5}"
      ]
     },
     "execution_count": 13,
     "metadata": {},
     "output_type": "execute_result"
    }
   ],
   "source": [
    "A = {1,2,5,3,2,1,4}\n",
    "A"
   ]
  },
  {
   "cell_type": "markdown",
   "metadata": {},
   "source": [
    "Los conjuntos permiten las operaciones normales del álgebra de Boole.  En particular la resta de conjuntos elimina del conjunto minuendo todos los elementos del sustraendo:"
   ]
  },
  {
   "cell_type": "code",
   "execution_count": 14,
   "metadata": {
    "collapsed": false
   },
   "outputs": [
    {
     "data": {
      "text/plain": [
       "{1, 3, 4}"
      ]
     },
     "execution_count": 14,
     "metadata": {},
     "output_type": "execute_result"
    }
   ],
   "source": [
    "A - {2,5,9}"
   ]
  },
  {
   "cell_type": "markdown",
   "metadata": {},
   "source": [
    "Si los palos los numeramos del 0 al 2, el conjunto de todos los palos es `{0,1,2}` y el conjunto de todos los palos menos el origen y el destino es el conjunto `{0,1,2} - {desde,hasta}`.  Por ejemplo si el origen es el `0` y el destino el `2` tendríamos:"
   ]
  },
  {
   "cell_type": "code",
   "execution_count": 15,
   "metadata": {
    "collapsed": false
   },
   "outputs": [
    {
     "data": {
      "text/plain": [
       "{1}"
      ]
     },
     "execution_count": 15,
     "metadata": {},
     "output_type": "execute_result"
    }
   ],
   "source": [
    "{0,1,2} - {0,2}"
   ]
  },
  {
   "cell_type": "markdown",
   "metadata": {},
   "source": [
    "Esto es un conjunto de un único elemento, que podemos extraer usando la función `pop` que tienen todos los contenedores (las listas también).\n",
    "\n",
    "Lo demás no es más que la expresión directa del algoritmo teniendo en cuenta que debe devolver una lista con los movimientos y que cada movimiento no es más que la pareja de valores del palo origen y el palo destino.  Cuando movemos N-1 discos tenemos que recoger la lista de movimientos correspondientes y añadirla en el punto adecuado a nuestro valor de retorno.\n",
    "\n",
    "Vamos a hacer una prueba."
   ]
  },
  {
   "cell_type": "code",
   "execution_count": 16,
   "metadata": {
    "collapsed": false
   },
   "outputs": [
    {
     "data": {
      "text/plain": [
       "[(0, 2), (0, 1), (2, 1), (0, 2), (1, 0), (1, 2), (0, 2)]"
      ]
     },
     "execution_count": 16,
     "metadata": {},
     "output_type": "execute_result"
    }
   ],
   "source": [
    "hanoi(3)"
   ]
  },
  {
   "cell_type": "markdown",
   "metadata": {},
   "source": [
    "## Usando generadores\n",
    "\n",
    "Ya hemos resuelto el problema y funciona correctamente, pero ¿qué pasaría si el número de discos es 10? ¿y 12? ¿y 20?"
   ]
  },
  {
   "cell_type": "code",
   "execution_count": 17,
   "metadata": {
    "collapsed": false
   },
   "outputs": [
    {
     "data": {
      "text/plain": [
       "(1023, 4095, 1048575)"
      ]
     },
     "execution_count": 17,
     "metadata": {},
     "output_type": "execute_result"
    }
   ],
   "source": [
    "len(hanoi(10)), len(hanoi(12)), len(hanoi(20))"
   ]
  },
  {
   "cell_type": "markdown",
   "metadata": {},
   "source": [
    "En general para $n$ discos obtenemos una lista de $2^n - 1$ movimientos.  Eso es mucho.  ¿Es necesario guardar todos los números en memoria?\n",
    "\n",
    "En muchas situaciones podemos ahorrar un montón de memoria si hacemos lo mismo que la función `range`.  Podemos ir generando los números conforme los vaya pidiendo el usuario.  Para eso están los generadores en Python.  Basta producir los movimientos con `yield`.  Esta palabra reservada suspende la ejecución de la función hasta que el usuario llame a la función `next`.  Escribir la función de esta forma es un poco más lioso pero tampoco mucho."
   ]
  },
  {
   "cell_type": "code",
   "execution_count": 18,
   "metadata": {
    "collapsed": true
   },
   "outputs": [],
   "source": [
    "def hanoi(ndiscos, desde=0, hasta=2):\n",
    "    if ndiscos == 0:\n",
    "        return []\n",
    "    tmp = ({*range(3)} - {desde,hasta}).pop()\n",
    "    for mov in hanoi(ndiscos-1, desde, tmp):\n",
    "        yield mov\n",
    "    yield (desde, hasta)\n",
    "    for mov in hanoi(ndiscos-1, tmp, hasta):\n",
    "        yield mov"
   ]
  },
  {
   "cell_type": "markdown",
   "metadata": {},
   "source": [
    "Ya no construimos una lista sino que producimos movimientos con `yield`.  Cuando necesitamos mover N-1 discos tendremos que llamar de forma recursiva a `hanoi`, pero ahora se usa igual que `range`, tendremos que iterar sobre sus elementos con un `for`.\n",
    "\n",
    "La forma en que se usa ahora es similar a `range`."
   ]
  },
  {
   "cell_type": "code",
   "execution_count": 19,
   "metadata": {
    "collapsed": false
   },
   "outputs": [
    {
     "name": "stdout",
     "output_type": "stream",
     "text": [
      "(0, 2) (0, 1) (2, 1) (0, 2) (1, 0) (1, 2) (0, 2)\n"
     ]
    }
   ],
   "source": [
    "print(*hanoi(3))"
   ]
  },
  {
   "cell_type": "code",
   "execution_count": 20,
   "metadata": {
    "collapsed": false
   },
   "outputs": [
    {
     "name": "stdout",
     "output_type": "stream",
     "text": [
      "(0, 2) (0, 1) (2, 1) (0, 2) (1, 0) (1, 2) (0, 2) "
     ]
    }
   ],
   "source": [
    "for mov in hanoi(3):\n",
    "    print(mov, end=' ')"
   ]
  },
  {
   "cell_type": "markdown",
   "metadata": {},
   "source": [
    "Habrás notado que no hemos representado las torres de ninguna forma en ningún momento.  No es necesario para resolver el problema pero puede ser útil para visualizar el estado de las torres en cada paso.  Eso se puede hacer a posteriori fácilmente si usamos generadores."
   ]
  },
  {
   "cell_type": "code",
   "execution_count": 21,
   "metadata": {
    "collapsed": true
   },
   "outputs": [],
   "source": [
    "def torres_hanoi(ndiscos, desde=0, hasta=2):\n",
    "    torres = [[],[],[]]\n",
    "    torres[desde] = list(reversed(range(ndiscos)))\n",
    "    yield torres\n",
    "    for desde, hasta in hanoi(ndiscos, desde, hasta):\n",
    "        torres[hasta].append(torres[desde].pop())\n",
    "        yield torres"
   ]
  },
  {
   "cell_type": "code",
   "execution_count": 22,
   "metadata": {
    "collapsed": false
   },
   "outputs": [
    {
     "name": "stdout",
     "output_type": "stream",
     "text": [
      "[2, 1, 0]\t\t[]\t\t[]\n",
      "[2, 1]\t\t[]\t\t[0]\n",
      "[2]\t\t[1]\t\t[0]\n",
      "[2]\t\t[1, 0]\t\t[]\n",
      "[]\t\t[1, 0]\t\t[2]\n",
      "[0]\t\t[1]\t\t[2]\n",
      "[0]\t\t[]\t\t[2, 1]\n",
      "[]\t\t[]\t\t[2, 1, 0]\n"
     ]
    }
   ],
   "source": [
    "for torres in torres_hanoi(3):\n",
    "    print(*torres, sep='\\t\\t')"
   ]
  },
  {
   "cell_type": "markdown",
   "metadata": {},
   "source": [
    "También es sencillo obtener el estado después de *n* iteraciones del algoritmo."
   ]
  },
  {
   "cell_type": "code",
   "execution_count": 23,
   "metadata": {
    "collapsed": true
   },
   "outputs": [],
   "source": [
    "def torres_hanoi_nth(n, ndiscos=8):\n",
    "    mov = torres_hanoi(ndiscos, desde=0, hasta=2)\n",
    "    for i in range(n):\n",
    "        next(mov)\n",
    "    return next(mov)"
   ]
  },
  {
   "cell_type": "markdown",
   "metadata": {},
   "source": [
    "Por ejemplo, veamos el estado después de 20 iteraciones en el caso de 8 discos."
   ]
  },
  {
   "cell_type": "code",
   "execution_count": 24,
   "metadata": {
    "collapsed": false
   },
   "outputs": [
    {
     "name": "stdout",
     "output_type": "stream",
     "text": [
      "[7, 6, 5, 2] [4, 1, 0] [3]\n"
     ]
    }
   ],
   "source": [
    "print(*torres_hanoi_nth(20, ndiscos=8))"
   ]
  },
  {
   "cell_type": "markdown",
   "metadata": {},
   "source": [
    "En realidad esto mismo se puede hacer con funciones de la biblioteca estándar.  Por ejemplo, `islice` es un generador que solo produce un rango de elementos de otro generador.  En este caso simplemente nos saltamos hasta el elemento *n-simo*  y producimos un elemento entonces."
   ]
  },
  {
   "cell_type": "code",
   "execution_count": 27,
   "metadata": {
    "collapsed": false
   },
   "outputs": [],
   "source": [
    "from itertools import islice\n",
    "\n",
    "def torres_hanoi_nth(n, ndiscos=8):\n",
    "    return next(islice(torres_hanoi(ndiscos, desde=0, hasta=2), n, None))"
   ]
  },
  {
   "cell_type": "code",
   "execution_count": 28,
   "metadata": {
    "collapsed": false
   },
   "outputs": [
    {
     "name": "stdout",
     "output_type": "stream",
     "text": [
      "[7, 6, 5, 2] [4, 1, 0] [3]\n"
     ]
    }
   ],
   "source": [
    "print(*torres_hanoi_nth(20, ndiscos=8))"
   ]
  },
  {
   "cell_type": "markdown",
   "metadata": {},
   "source": [
    "## Interfaces de usuario con Jupyter Notebook\n",
    "\n",
    "Este tipo de ejercicios se presta a una visualización más gráfica.  Vamos a ver lo mínimo para construir interfaces de usuario con Jupyter.  \n",
    "\n",
    "Necesitaremos una forma de dibujar las torres y una forma de proporcionar una interfaz de usuario para controlar lo que ya hemos hecho.\n",
    "\n",
    "En Jupyter Notebook (y por tanto [tmpnb.org](http://tmpnb.org) tenemos acceso a todas las capacidades del navegador.  En particular podemos dibujar gráficos escalables utilizando el [estándar SVG](https://www.w3.org/Graphics/SVG/).  Los gráficos SVG se pueden generar con cualquier programa de dibujo vectorial (e.g. [Inkscape](http://www.inkscape.org)) pero en este ejemplo lo vamos a hacer a mano."
   ]
  },
  {
   "cell_type": "code",
   "execution_count": 16,
   "metadata": {
    "collapsed": false
   },
   "outputs": [
    {
     "data": {
      "image/svg+xml": [
       "<svg height=\"200\" width=\"320\">\n",
       "  <line stroke=\"gray\" stroke-width=\"20\" x1=\"150\" x2=\"150\" y1=\"10\" y2=\"150\"/>\n",
       "  <rect fill=\"lightblue\" height=\"30\" rx=\"15\" ry=\"15\" stroke=\"gray\" stroke-width=\"1\" width=\"200\" x=\"50\" y=\"150\"/>\n",
       "</svg>"
      ],
      "text/plain": [
       "<IPython.core.display.SVG object>"
      ]
     },
     "execution_count": 16,
     "metadata": {},
     "output_type": "execute_result"
    }
   ],
   "source": [
    "from IPython.display import SVG\n",
    "SVG(data='''\n",
    "<svg width=\"320\" height=\"200\">\n",
    "  <line x1=\"150\" x2=\"150\" y1=\"10\" y2=\"150\" stroke=\"gray\" stroke-width=\"20\"/>\n",
    "  <rect x=\"50\" y=\"150\" rx=\"15\" ry=\"15\" width=\"200\" height=\"30\" \n",
    "        stroke=\"gray\" fill=\"lightblue\" stroke-width=\"1\"/>\n",
    "</svg>\n",
    "''')"
   ]
  },
  {
   "cell_type": "markdown",
   "metadata": {},
   "source": [
    "No es muy complicado, ¿verdad?  Vamos a construir una función que dado un conjunto de torres con sus discos correspondientes dibuje el SVG equivalente."
   ]
  },
  {
   "cell_type": "code",
   "execution_count": 23,
   "metadata": {
    "collapsed": true
   },
   "outputs": [],
   "source": [
    "grosor = 30\n",
    "diametro_max = 9*grosor\n",
    "\n",
    "def torres_svg(torres):\n",
    "    ndiscos = sum([len(t) for t in torres])\n",
    "    return SVG(data='<svg width=\"{}\" height=\"{}\">{}</svg>'.format(\n",
    "            3*diametro_max,\n",
    "            ndiscos*grosor,\n",
    "            ''.join([torre_svg(t,i,ndiscos) for i, t in enumerate(torres)])))\n",
    "\n",
    "def torre_svg(torre, pos, ndiscos):\n",
    "    return '''<line x1=\"{0}\" x2=\"{0}\" \n",
    "                    y1=\"0\" y2=\"{1}\" \n",
    "                    stroke=\"gray\" \n",
    "                    stroke-width=\"20\"/>{2}'''.format(\n",
    "        (0.5 + pos)*diametro_max,\n",
    "        ndiscos*grosor,\n",
    "        ''.join([disco_svg(tamano, pos, posy, ndiscos) for posy, tamano in enumerate(torre)]))\n",
    "\n",
    "def disco_svg(tamano, posx, posy, ndiscos):\n",
    "    diametro = diametro_max - (ndiscos - tamano - 1)*grosor\n",
    "    return '''<rect x=\"{0}\" y=\"{1}\" \n",
    "                    width=\"{2}\" height=\"{3}\" \n",
    "                    rx=\"{4}\" ry=\"{4}\" \n",
    "                    stroke=\"gray\" fill=\"lightblue\" stroke-width=\"1\"/>'''.format(\n",
    "        (0.5 + posx)*diametro_max - diametro/2,\n",
    "        ndiscos*grosor - (posy + 1)*grosor,\n",
    "        diametro, grosor, grosor/2)"
   ]
  },
  {
   "cell_type": "code",
   "execution_count": 24,
   "metadata": {
    "collapsed": false
   },
   "outputs": [
    {
     "data": {
      "image/svg+xml": [
       "<svg height=\"240\" width=\"810\"><line stroke=\"gray\" stroke-width=\"20\" x1=\"135.0\" x2=\"135.0\" y1=\"0\" y2=\"240\"/><rect fill=\"lightblue\" height=\"30\" rx=\"15.0\" ry=\"15.0\" stroke=\"gray\" stroke-width=\"1\" width=\"240\" x=\"15.0\" y=\"210\"/><rect fill=\"lightblue\" height=\"30\" rx=\"15.0\" ry=\"15.0\" stroke=\"gray\" stroke-width=\"1\" width=\"210\" x=\"30.0\" y=\"180\"/><rect fill=\"lightblue\" height=\"30\" rx=\"15.0\" ry=\"15.0\" stroke=\"gray\" stroke-width=\"1\" width=\"180\" x=\"45.0\" y=\"150\"/><rect fill=\"lightblue\" height=\"30\" rx=\"15.0\" ry=\"15.0\" stroke=\"gray\" stroke-width=\"1\" width=\"150\" x=\"60.0\" y=\"120\"/><rect fill=\"lightblue\" height=\"30\" rx=\"15.0\" ry=\"15.0\" stroke=\"gray\" stroke-width=\"1\" width=\"120\" x=\"75.0\" y=\"90\"/><rect fill=\"lightblue\" height=\"30\" rx=\"15.0\" ry=\"15.0\" stroke=\"gray\" stroke-width=\"1\" width=\"90\" x=\"90.0\" y=\"60\"/><line stroke=\"gray\" stroke-width=\"20\" x1=\"405.0\" x2=\"405.0\" y1=\"0\" y2=\"240\"/><rect fill=\"lightblue\" height=\"30\" rx=\"15.0\" ry=\"15.0\" stroke=\"gray\" stroke-width=\"1\" width=\"60\" x=\"375.0\" y=\"210\"/><line stroke=\"gray\" stroke-width=\"20\" x1=\"675.0\" x2=\"675.0\" y1=\"0\" y2=\"240\"/><rect fill=\"lightblue\" height=\"30\" rx=\"15.0\" ry=\"15.0\" stroke=\"gray\" stroke-width=\"1\" width=\"270\" x=\"540.0\" y=\"210\"/></svg>"
      ],
      "text/plain": [
       "<IPython.core.display.SVG object>"
      ]
     },
     "execution_count": 24,
     "metadata": {},
     "output_type": "execute_result"
    }
   ],
   "source": [
    "torres_svg([[6, 5, 4, 3, 2, 1], [0], [7]])"
   ]
  },
  {
   "cell_type": "code",
   "execution_count": null,
   "metadata": {
    "collapsed": true
   },
   "outputs": [],
   "source": [
    "from IPython.display import SVG, display\n",
    "\n",
    "def torres(torres, *, \n",
    "           radius=100, width=20)\n",
    "    n = sum([len(x) for x in torres])\n",
    "    params = {\n",
    "        'total_width':  6*radius, \n",
    "        'total_height': n*width,\n",
    "        'radius':       radius,\n",
    "        'width':        width,\n",
    "        'pos':          (radius + 2*radius*i for i in range(3)),\n",
    "    }\n",
    "    return SVG(data='''\n",
    "<svg width=\"{total_width}\" height=\"{total_height}\" version=\"1.1\" xmlns=\"http://www.w3.org/2000/svg\">\n",
    "  <line x1=\"{pos[0]}\" x2=\"{pos[0]}\" y1=\"0\" y2=\"{height}\" stroke=\"gray\" stroke-width=\"20\"/>\n",
    "  <line x1=\"{pos[1]}\" x2=\"{pos[1]}\" y1=\"0\" y2=\"{height}\" stroke=\"gray\" stroke-width=\"20\"/>\n",
    "  <line x1=\"{pos[2]}\" x2=\"{pos[2]}\" y1=\"0\" y2=\"{height}\" stroke=\"gray\" stroke-width=\"20\"/>\n",
    "  {discs}\n",
    "</svg>'''.format(**params, discs=discos(torres, **params)))\n",
    "\n",
    "def discos(torres, **kwargs):\n",
    "    return sum([discos_palo(torres[palo], \n",
    "                            pos[palo],\n",
    "                            radius=radius,\n",
    "                            width=width) for palo in range(3)], '')\n",
    "\n",
    "def discos_palo(torre, pos, **kwargs):\n",
    "    \n",
    "    return '''  <rect x=\"{x}\" y=\"{y}\" rx=\"{r}\" ry=\"{r}\" width=\"{d}\" height=\"{width}\" \n",
    "        stroke=\"black\" fill=\"#c0d0e0\" stroke-width=\"1\"/>'''.format(\n",
    "    )"
   ]
  },
  {
   "cell_type": "code",
   "execution_count": null,
   "metadata": {
    "collapsed": false,
    "scrolled": true
   },
   "outputs": [],
   "source": [
    "torres([list(range(8)), [], []])"
   ]
  },
  {
   "cell_type": "code",
   "execution_count": null,
   "metadata": {
    "collapsed": true
   },
   "outputs": [],
   "source": [
    "def pieza(sz)\n",
    "<rect x=\"10\" y=\"10\" width=\"30\" height=\"30\" stroke=\"black\" fill=\"transparent\" stroke-width=\"5\"/>\n",
    "  <rect x=\"60\" y=\"10\" rx=\"10\" ry=\"10\" width=\"30\" height=\"30\" stroke=\"black\" fill=\"transparent\" stroke-width=\"5\"/>\n",
    "\n"
   ]
  },
  {
   "cell_type": "code",
   "execution_count": null,
   "metadata": {
    "collapsed": false
   },
   "outputs": [],
   "source": [
    "from ipywidgets import interact\n",
    "interact(torres_hanoi_nth, n=(0,400), ndiscs=(2,8))"
   ]
  }
 ],
 "metadata": {
  "kernelspec": {
   "display_name": "Python 3",
   "language": "python",
   "name": "python3"
  },
  "language_info": {
   "codemirror_mode": {
    "name": "ipython",
    "version": 3
   },
   "file_extension": ".py",
   "mimetype": "text/x-python",
   "name": "python",
   "nbconvert_exporter": "python",
   "pygments_lexer": "ipython3",
   "version": "3.5.2"
  }
 },
 "nbformat": 4,
 "nbformat_minor": 1
}
