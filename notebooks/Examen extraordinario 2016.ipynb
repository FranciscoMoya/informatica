{
  "nbformat": 4,
  "nbformat_minor": 0,
  "metadata": {
    "colab": {
      "name": "Examen extraordinario 2016.ipynb",
      "provenance": []
    }
  },
  "cells": [
    {
      "cell_type": "markdown",
      "metadata": {
        "id": "552QYi8Zg39p"
      },
      "source": [
        "## 1. Hexágono\r\n",
        "\r\n",
        "Implementa la función `imprimir_hex` que recibe un único argumento entero.  Debe imprimir por pantalla una representación textual de un hexágono, como muestra la figura.  El argumento indica la longitud de cada lado.\r\n",
        "\r\n",
        "**Ejemplo 1**\r\n",
        "```\r\n",
        ">>> imprimir_hex(3)\r\n",
        "   ___\r\n",
        "  /   \\\r\n",
        " /     \\\r\n",
        "/       \\\r\n",
        "\\       /\r\n",
        " \\     /\r\n",
        "  \\___/\r\n",
        "```\r\n",
        "\r\n",
        "**Ejemplo 2**\r\n",
        "```\r\n",
        ">>> imprimir_hex(1)\r\n",
        " _\r\n",
        "/ \\\r\n",
        "\\_/\r\n",
        "```\r\n",
        "\r\n",
        "**Ejemplo 3**\r\n",
        "```\r\n",
        ">>> imprimir_hex(4)\r\n",
        "    ____\r\n",
        "   /    \\\r\n",
        "  /      \\\r\n",
        " /        \\\r\n",
        "/          \\\r\n",
        "\\          /\r\n",
        " \\        /\r\n",
        "  \\      /\r\n",
        "   \\____/\r\n",
        "```\r\n"
      ]
    },
    {
      "cell_type": "markdown",
      "metadata": {
        "id": "NJZXDMEBh6n3"
      },
      "source": [
        "*Posible solución*"
      ]
    },
    {
      "cell_type": "code",
      "metadata": {
        "id": "51X9BsRbgvo_"
      },
      "source": [
        "def imprimir_hex(n):\n",
        "    top(n)\n",
        "    for i in range(n-1):\n",
        "        upper(n,i)\n",
        "    for i in range(n-1):\n",
        "        lower(n,i)\n",
        "    bottom(n)\n",
        "    \n",
        "def top(n):\n",
        "    print ' '*n + '_'*n\n",
        "    print ' '*(n-1) + '/' + ' '*n + '\\\\'\n",
        "\n",
        "def bottom(n):\n",
        "    print ' '*(n-1) + '\\\\' + '_'*n + '/'\n",
        "\n",
        "def upper(n, i):\n",
        "    print ' '*(n-2-i) + '/' + ' '*(n+2+2*i) + '\\\\'\n",
        "\n",
        "def lower(n, i):\n",
        "    print ' '*i + '\\\\' + ' '*(n + 2*(n-i-1)) + '/'\n"
      ],
      "execution_count": null,
      "outputs": []
    },
    {
      "cell_type": "code",
      "metadata": {
        "id": "u6EIS5ZpgvpC",
        "outputId": "5fb324eb-d1a5-45fb-fdc7-59ce027586c2"
      },
      "source": [
        "imprimir_hex(4)\n",
        "imprimir_hex(3)\n",
        "imprimir_hex(2)"
      ],
      "execution_count": null,
      "outputs": [
        {
          "output_type": "stream",
          "text": [
            "    ____\n",
            "   /    \\\n",
            "  /      \\\n",
            " /        \\\n",
            "/          \\\n",
            "\\          /\n",
            " \\        /\n",
            "  \\      /\n",
            "   \\____/\n",
            "   ___\n",
            "  /   \\\n",
            " /     \\\n",
            "/       \\\n",
            "\\       /\n",
            " \\     /\n",
            "  \\___/\n",
            "  __\n",
            " /  \\\n",
            "/    \\\n",
            "\\    /\n",
            " \\__/\n"
          ],
          "name": "stdout"
        }
      ]
    },
    {
      "cell_type": "markdown",
      "metadata": {
        "id": "SxuG9jGMiNf5"
      },
      "source": [
        ""
      ]
    },
    {
      "cell_type": "code",
      "metadata": {
        "id": "MkxZX88qgvpD"
      },
      "source": [
        "def frequent_browsers(path):\n",
        "    with open(path,'r') as f:\n",
        "        return [ x for x in browsers(f) if x[1] > 5. ]\n",
        "\n",
        "def browsers(f):\n",
        "    count = {}\n",
        "    for linea in f:\n",
        "        sid = extract_browser(linea)\n",
        "        if sid in count:\n",
        "            count[sid] += 1\n",
        "        else:\n",
        "            count[sid] = 1\n",
        "    total = sum([count[x] for x in count])\n",
        "    return sorted([ (x, 100.*count[x]/total) for x in count ], \n",
        "                  key = lambda x: x[1], reverse=True)\n",
        "\n",
        "def extract_browser(l):\n",
        "    return l.split('\"')[5]"
      ],
      "execution_count": null,
      "outputs": []
    },
    {
      "cell_type": "code",
      "metadata": {
        "id": "uePAEXeNgvpE",
        "outputId": "147f4a65-02a2-4c36-bcce-dd6d5c55a79d"
      },
      "source": [
        "frequent_browsers('access.log')"
      ],
      "execution_count": null,
      "outputs": [
        {
          "output_type": "execute_result",
          "data": {},
          "metadata": {
            "tags": []
          },
          "execution_count": 57
        }
      ]
    },
    {
      "cell_type": "code",
      "metadata": {
        "id": "2YJ9Yo5RgvpF"
      },
      "source": [
        "from math import sqrt, log, ceil\n",
        "\n",
        "def butterworth(Hp,Ha,Wp,Wa):\n",
        "    n = orden(Hp,Ha,Wp,Wa)\n",
        "    Wc = fcorte(n, Hp, Wp)\n",
        "    return (n, Wc)\n",
        "\n",
        "def orden(Hp,Ha,Wp,Wa):\n",
        "    Kd = sqrt((1./Hp**2 - 1)/(1./Ha**2 - 1))\n",
        "    Ks = float(Wp) / Wa\n",
        "    n = log(Kd)/log(Ks)\n",
        "    return int(ceil(n))\n",
        "\n",
        "def fcorte(n, Hp, Wp):\n",
        "    return Wp/((1./Hp**2 - 1)**(1./(2*n)))\n"
      ],
      "execution_count": null,
      "outputs": []
    },
    {
      "cell_type": "code",
      "metadata": {
        "id": "j7-W0ncbgvpF",
        "outputId": "1691d67a-0e95-4dc8-8203-3f39cd3a0dde"
      },
      "source": [
        "print butterworth(0.9, 0.1, 1e4, 1.1e4)"
      ],
      "execution_count": null,
      "outputs": [
        {
          "output_type": "stream",
          "text": [
            "(32, 10229.150147595657)\n"
          ],
          "name": "stdout"
        }
      ]
    },
    {
      "cell_type": "code",
      "metadata": {
        "id": "BFKLHyiygvpG"
      },
      "source": [
        "def pi_leibniz(n):\n",
        "    suma = 0.\n",
        "    for i in range(n):\n",
        "        termino = 1./(2*i + 1)\n",
        "        suma += termino if i%2 == 0 else -termino\n",
        "    return 4.*suma"
      ],
      "execution_count": null,
      "outputs": []
    },
    {
      "cell_type": "code",
      "metadata": {
        "id": "26NFcEz6gvpH",
        "outputId": "745d6148-f714-46a1-90db-d26b7f79c31d"
      },
      "source": [
        "print pi_leibniz(100000)"
      ],
      "execution_count": null,
      "outputs": [
        {
          "output_type": "stream",
          "text": [
            "3.14158265359\n"
          ],
          "name": "stdout"
        }
      ]
    },
    {
      "cell_type": "code",
      "metadata": {
        "id": "Z2exmh9GgvpH"
      },
      "source": [
        "def mediana(values):\n",
        "    v = sorted(values)\n",
        "    l = len(values)\n",
        "    if l % 2 == 0:\n",
        "        return .5*(v[l/2 - 1] + v[l/2])\n",
        "    return v[l/2]"
      ],
      "execution_count": null,
      "outputs": []
    },
    {
      "cell_type": "code",
      "metadata": {
        "id": "ykr2VVpTgvpI",
        "outputId": "b9495dcd-2c9b-4f4d-e3a5-6a21c62bb235"
      },
      "source": [
        "print mediana(range(9))\n",
        "print mediana(range(10))"
      ],
      "execution_count": null,
      "outputs": [
        {
          "output_type": "stream",
          "text": [
            "4\n",
            "4.5\n"
          ],
          "name": "stdout"
        }
      ]
    },
    {
      "cell_type": "code",
      "metadata": {
        "id": "ZmVhhuVsgvpJ"
      },
      "source": [
        "def validar_tarjeta(n):\n",
        "    d = [int(x) for x in n]\n",
        "    for i in range(0,16,2):\n",
        "        d[i] *= 2\n",
        "        if d[i] > 9:\n",
        "            d[i] -= 9\n",
        "    return sum(d) % (d[15] if d[15] else 10) == 0"
      ],
      "execution_count": null,
      "outputs": []
    },
    {
      "cell_type": "code",
      "metadata": {
        "id": "tvONYH2wgvpJ",
        "outputId": "73a009df-7fa0-447b-ae17-c4653a065c09"
      },
      "source": [
        "print validar_tarjeta('4506252639731006')\n",
        "print validar_tarjeta('4578463073273942')"
      ],
      "execution_count": null,
      "outputs": [
        {
          "output_type": "stream",
          "text": [
            "False\n",
            "True\n"
          ],
          "name": "stdout"
        }
      ]
    },
    {
      "cell_type": "code",
      "metadata": {
        "id": "rovX-m-QgvpK"
      },
      "source": [
        ""
      ],
      "execution_count": null,
      "outputs": []
    }
  ]
}