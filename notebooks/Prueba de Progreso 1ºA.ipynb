{
 "metadata": {
  "name": "",
  "signature": "sha256:546792a4fa3596874d96edd739eb30130c6671d5209b82e7e83077808c5422d8"
 },
 "nbformat": 3,
 "nbformat_minor": 0,
 "worksheets": [
  {
   "cells": [
    {
     "cell_type": "markdown",
     "metadata": {},
     "source": [
      "# Prueba de progreso 1\u00baA\n",
      "\n",
      "Lee atentamente el enunciado de la prueba.  El enunciado consiste en una serie de ejercicios que deben realizarse en un mismo archivo Python. Todas las funciones deben definirse en el mismo archivo y no debe incuirse ning\u00fan fragmento de c\u00f3digo de prueba. Las entregas deber\u00e1n ser trabajo original del alumno que realiza la entrega.\n",
      "\n",
      "No se permite la comunicaci\u00f3n con otras personas durante el examen.  Se permiten libros, apuntes y b\u00fasquedas en Internet."
     ]
    },
    {
     "cell_type": "markdown",
     "metadata": {},
     "source": [
      "## 1. Filtrado de se\u00f1ales\n",
      "\n",
      "Dada una se\u00f1al de tiempo discreto, definida como una secuencia de valores reales $x = \\{x_0, x_1, ... x_n\\}$ se define la se\u00f1al de salida de un filtro FIR como la secuencia de los valores:\n",
      "\n",
      "$$ y_n = \\sum_{k=0}^{N-1} h_k\\cdot x_{n-k} $$\n",
      "\n",
      "donde `h_k` para $k\\in\\{0..N-1\\}$ son los coeficientes del filtro, y `n` es e \u00edndice del elemento correspondiente.\n",
      "\n",
      "**Nota: Una se\u00f1al $u = \\{u_0, u_1, ... u_{M-1}\\}$ se modela como una lista de Python `u` con la secuencia de los n\u00fameros reales de la se\u00f1al.  Todos los dem\u00e1s elementos se asume que valen 0.  Es decir $u_k = 0, \\forall k \\notin \\{0..M-1\\}$ siendo $M$ el n\u00famero de elementos de `u`.**\n",
      "\n",
      "1. *Definir una funci\u00f3n `fir_elem` con tres par\u00e1metros. El primer par\u00e1metro es una lista `h` que contiene los coeficientes del filtro. El segundo par\u00e1metro es una lista `x` conteniendo una se\u00f1al discreta. El tercer par\u00e1metro es un entero `n` que corresponde al \u00edndice del elemento de la se\u00f1al de salida. La funci\u00f3n debe devolver el resultado de calcular $y_n$ seg\u00fan la f\u00f3rmula de arriba. Se recomienda emplear una funci\u00f3n `elem(u,k)` que devuelve $u_k$, es decir, el elemento k-\u00e9simo de la se\u00f1al que recibe como argumento. Se recuerda que $k$ puede estar fuera del rango de \u00edndices v\u00e1lidos para la lista `u` y que en ese caso el valor debe ser cero.*\n",
      "\n",
      "1. *Definir una funci\u00f3n `fir` con dos par\u00e1metros. El primer par\u00e1metro es una lista `h` que contiene los coeficientes del filtro. El segundo par\u00e1metro es una lista `x` conteniendo una se\u00f1al discreta. La funci\u00f3n debe devolver la se\u00f1al de salida del filtro FIR correspondiente.  Es decir, debe devolver la lista de todos los elementos distintos de cero.  La longitud de la salida de un filtro FIR es $N+M-1$ siendo $N$ la longitud de `h` y $M$ la longitud de `x`.*\n",
      "\n",
      "1. *Una caracter\u00edstica interesante de los filtros FIR es que pueden tener respuesta de fase lineal, pero para eso los coeficiente de `h` deben cumplir una condici\u00f3n.\n",
      "$$ h_n = \\pm h_{M-1-n}\\ \\ \\ \\forall n \\in \\{0..M-1\\} $$\n",
      "Es decir, los coeficientes del fitro deben ser sim\u00e9tricos o antisim\u00e9tricos. \n",
      "Seg\u00fan se cumpla la condici\u00f3n con signo positivo o negativo, y seg\u00fan el n\u00famero de elementos de `h` sea par o impar, los filtros FIR se clasifican en cuatro tipos que se usan para fines diferentes. Definir una funci\u00f3n `tipo_fir` que acepte un argumento `h` de tipo lista de reales y devuelva un valor entero de acuerdo a la siguiente tabla.*\n",
      "\n",
      "| Simetr\u00eda de los coeficientes | # Coefs  | Tipo  |\n",
      "|------------------------------|----------|-------|\n",
      "| $h(n) = h(M-1-n)$            | Impar    |    1  |\n",
      "| $h(n) = h(M-1-n)$            | Par      |    2  |\n",
      "| $h(n) = -h(M-1-n)$           | Impar    |    3  |\n",
      "| $h(n) = -h(M-1-n)$           | Par      |    4  |\n",
      "| Sin simetr\u00eda                 |          |    0  |\n",
      "\n",
      "\n",
      "\n",
      "###Ejemplo de funcionamiento\n",
      "\n",
      "```\n",
      "x = [i % 10 for i in range(10)]\n",
      "h = [1./3,1./3,1./3]\n",
      "print fir(h, x)\n",
      "print tipo_fir(h)\n",
      "\n",
      "[0.0, 0.3333333333333333, 1.0, 1.9999999999999998, 2.9999999999999996, 4.0, 5.0, 6.0, 7.0, 7.999999999999999, 5.666666666666666, 3.0]\n",
      "1\n",
      "```"
     ]
    },
    {
     "cell_type": "markdown",
     "metadata": {},
     "source": [
      "## 2. Nota num\u00e9rica\n",
      "\n",
      "En muchas becas se calcula la nota media del expediente a partir de las notas alfab\u00e9ticas. As\u00ed una nota de `Matricula de honor` computa como un 10.0, un `Sobresaliente` computa como un 9.0, un `Notable` como un 7.5, un `Aprobado` como un 5.5 y un `Suspenso` como un 3.0.\n",
      "\n",
      "*Define la funci\u00f3n `nota_media` que calcula la nota media de un expediente a partir de sus valores alfab\u00e9ticos.  La funci\u00f3n tiene un \u00fanico argumento que es una lista de cadenas de texto, y debe devolver un n\u00famero real con la nota media del expediente de acuerdo a lo descrito en el p\u00e1rrafo anterior.* \n",
      "\n",
      "**Nota: F\u00edjate en que las cadenas de texto no llevan tildes y comienzan por un letra may\u00fascula. Deben ser exactamente as\u00ed: `Matricula de honor`, `Sobresaliente`, `Notable`, `Aprobado`, `Suspenso`.**\n",
      "\n",
      "### Ejemplo de uso\n",
      "```\n",
      "expediente = ['Sobresaliente', 'Notable', 'Notable', 'Aprobado', 'Suspenso']\n",
      "print nota_media(expediente)\n",
      "\n",
      "7.4\n",
      "```"
     ]
    },
    {
     "cell_type": "markdown",
     "metadata": {},
     "source": [
      "##R\u00fabrica de evaluaci\u00f3n\n",
      "\n",
      "Puntos totales: 10 puntos:\n",
      "\n",
      "* 1.1 Funci\u00f3n `fir_elem`: 2.5 puntos\n",
      "* 1.2 Funci\u00f3n `fir`: 2.5 puntos\n",
      "* 1.3 Funci\u00f3n `tipo_fir`: 2.5 puntos\n",
      "* 2 Funci\u00f3n `nota_media`: 2.5 puntos\n",
      "\n",
      "Penalizaciones:\n",
      "\n",
      "* Errores de sintaxis: 100% de los puntos de la funci\u00f3n\n",
      "* Errores de ejecuci\u00f3n (excepciones): 50% de los puntos de la funci\u00f3n\n",
      "* Errores en l\u00edmites de recorridos: 20% de los puntos de la funci\u00f3n\n",
      "* C\u00f3digo repetitivo: 10% de los puntos de la funci\u00f3n"
     ]
    }
   ],
   "metadata": {}
  }
 ]
}