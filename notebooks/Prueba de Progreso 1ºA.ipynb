{
 "cells": [
  {
   "cell_type": "markdown",
   "metadata": {},
   "source": [
    "# Prueba de progreso 1ºA\n",
    "\n",
    "Lee atentamente el enunciado de la prueba.  El enunciado consiste en una serie de ejercicios que deben realizarse en un mismo archivo Python. Todas las funciones deben definirse en el mismo archivo y no debe incuirse ningún fragmento de código de prueba. Las entregas deberán ser trabajo original del alumno que realiza la entrega.\n",
    "\n",
    "No se permite la comunicación con otras personas durante el examen.  Se permiten libros, apuntes y búsquedas en Internet."
   ]
  },
  {
   "cell_type": "markdown",
   "metadata": {},
   "source": [
    "## 1. Filtrado de señales\n",
    "\n",
    "Dada una señal de tiempo discreto, definida como una secuencia de valores reales $x = \\{x_0, x_1, ... x_n\\}$ se define la señal de salida de un filtro FIR como la secuencia de los valores:\n",
    "\n",
    "$$ y_n = \\sum_{k=0}^{N-1} h_k\\cdot x_{n-k} $$\n",
    "\n",
    "donde $h_k$ para $k\\in\\{0..N-1\\}$ son los coeficientes del filtro, y `n` es e índice del elemento correspondiente.\n",
    "\n",
    "**Nota: Una señal $u = \\{u_0, u_1, ... u_{M-1}\\}$ se modela como una lista de Python `u` con la secuencia de los números reales de la señal.  Todos los demás elementos se asume que valen 0.  Es decir $u_k = 0, \\forall k \\notin \\{0..M-1\\}$ siendo $M$ el número de elementos de `u`.**\n",
    "\n",
    "1. *Definir una función `fir_elem` con tres parámetros. El primer parámetro es una lista `h` que contiene los coeficientes del filtro. El segundo parámetro es una lista `x` conteniendo una señal discreta. El tercer parámetro es un entero `n` que corresponde al índice del elemento de la señal de salida. La función debe devolver el resultado de calcular $y_n$ según la fórmula de arriba. Se recomienda emplear una función `elem(u,k)` que devuelve $u_k$, es decir, el elemento k-ésimo de la señal que recibe como argumento. Se recuerda que $k$ puede estar fuera del rango de índices válidos para la lista `u` y que en ese caso el valor debe ser cero.*\n",
    "\n",
    "1. *Definir una función `fir` con dos parámetros. El primer parámetro es una lista `h` que contiene los coeficientes del filtro. El segundo parámetro es una lista `x` conteniendo una señal discreta. La función debe devolver la señal de salida del filtro FIR correspondiente.  Es decir, debe devolver la lista de todos los elementos distintos de cero.  La longitud de la salida de un filtro FIR es $N+M-1$ siendo $N$ la longitud de `h` y $M$ la longitud de `x`.*\n",
    "\n",
    "1. *Una característica interesante de los filtros FIR es que pueden tener respuesta de fase lineal, pero para eso los coeficiente de `h` deben cumplir una condición.\n",
    "$$ h_n = \\pm h_{M-1-n}\\ \\ \\ \\forall n \\in \\{0..M-1\\} $$\n",
    "Es decir, los coeficientes del fitro deben ser simétricos o antisimétricos. \n",
    "Según se cumpla la condición con signo positivo o negativo, y según el número de elementos de `h` sea par o impar, los filtros FIR se clasifican en cuatro tipos que se usan para fines diferentes. Definir una función `tipo_fir` que acepte un argumento `h` de tipo lista de reales y devuelva un valor entero de acuerdo a la siguiente tabla.*\n",
    "\n",
    "| Simetría de los coeficientes | # Coefs  | Tipo  |\n",
    "|------------------------------|----------|-------|\n",
    "| $h(n) = h(M-1-n)$            | Impar    |    1  |\n",
    "| $h(n) = h(M-1-n)$            | Par      |    2  |\n",
    "| $h(n) = -h(M-1-n)$           | Impar    |    3  |\n",
    "| $h(n) = -h(M-1-n)$           | Par      |    4  |\n",
    "| Sin simetría                 |          |    0  |\n",
    "\n",
    "\n",
    "### Ejemplo de funcionamiento\n",
    "\n",
    "```\n",
    "x = [i % 10 for i in range(10)]\n",
    "h = [1./3,1./3,1./3]\n",
    "print fir(h, x)\n",
    "print tipo_fir(h)\n",
    "\n",
    "[0.0, 0.3333333333333333, 1.0, 1.9999999999999998, 2.9999999999999996, 4.0, 5.0, 6.0, 7.0, 7.999999999999999, 5.666666666666666, 3.0]\n",
    "1\n",
    "```"
   ]
  },
  {
   "cell_type": "markdown",
   "metadata": {},
   "source": [
    "El primer ejercicio es aplicar directamente la fórmula con la única precaución de usar una función intermediaria para no indexar las listas fuera de rango."
   ]
  },
  {
   "cell_type": "code",
   "execution_count": 1,
   "metadata": {
    "collapsed": false
   },
   "outputs": [],
   "source": [
    "def elem(u,k):\n",
    "    return u[k] if k in range(len(u)) else 0.\n",
    "\n",
    "def fir_elem(h,x,n):\n",
    "    sum=0.\n",
    "    for k in range(len(h)):\n",
    "        sum += elem(h,k)*elem(x,n-k)\n",
    "    return sum"
   ]
  },
  {
   "cell_type": "markdown",
   "metadata": {},
   "source": [
    "El segundo ejercicio es más sencillo aún, basta con usar la función desarrollada en el ejercicio anterior en todo el rango de la señal de salida."
   ]
  },
  {
   "cell_type": "code",
   "execution_count": 2,
   "metadata": {
    "collapsed": false
   },
   "outputs": [],
   "source": [
    "def fir(h,x):\n",
    "    return [fir_elem(h,x,i) for i in range(len(h)+len(x)-1)]"
   ]
  },
  {
   "cell_type": "markdown",
   "metadata": {},
   "source": [
    "También se puede hacer sin *list comprehensions*."
   ]
  },
  {
   "cell_type": "code",
   "execution_count": 3,
   "metadata": {
    "collapsed": false
   },
   "outputs": [],
   "source": [
    "def fir(h,x):\n",
    "    y = []\n",
    "    for i in range(len(h)+len(x)-1):\n",
    "        y.append(fir_elem(h,x,i))\n",
    "    return y"
   ]
  },
  {
   "cell_type": "markdown",
   "metadata": {},
   "source": [
    "El tercer ejercicio lo podemos hacer con *list comprehensions* y diccionarios. Calculamos los tres parámetros que permiten saber el tipo de filtro: si los coeficientes son simétricos, si son antisimétricos, y si el número de elementos en par o impar."
   ]
  },
  {
   "cell_type": "code",
   "execution_count": 4,
   "metadata": {
    "collapsed": false
   },
   "outputs": [],
   "source": [
    "def tipo_fir(h):\n",
    "    M = len(h)\n",
    "    sim = all([h[i]==h[M-i-1] for i in range(M//2)])\n",
    "    asim = all([h[i]==-h[M-i-1] for i in range(M//2)])\n",
    "    par = (M % 2 == 0)\n",
    "    return {\n",
    "        (True,False,False) :1,\n",
    "        (True,False,True)  :2,\n",
    "        (False,True,False) :3,\n",
    "        (False,True,True)  :4,\n",
    "        (False,False,False):0,\n",
    "        (False,False,True) :0,\n",
    "        }[(sim,asim,par)]"
   ]
  },
  {
   "cell_type": "markdown",
   "metadata": {},
   "source": [
    "También se puede hacer con `if` y sin *list comprehensions*."
   ]
  },
  {
   "cell_type": "code",
   "execution_count": 5,
   "metadata": {
    "collapsed": false
   },
   "outputs": [],
   "source": [
    "def tipo_fir(h):\n",
    "    if es_simetrico(h):\n",
    "        return 2 if len(h) % 2 == 0 else 1\n",
    "    if es_antisimetrico(h):\n",
    "        return 4 if len(h) % 2 == 0 else 3\n",
    "    return 0\n",
    "\n",
    "def es_simetrico(h):\n",
    "    M = len(h)\n",
    "    for i in range(M//2):\n",
    "        if h[i] != h[M-i-1]:\n",
    "            return False\n",
    "    return True\n",
    "\n",
    "def es_antisimetrico(h):\n",
    "    M = len(h)\n",
    "    for i in range(M//2):\n",
    "        if h[i] != -h[M-i-1]:\n",
    "            return False\n",
    "    return True"
   ]
  },
  {
   "cell_type": "markdown",
   "metadata": {},
   "source": [
    "Ya solo falta probarlo."
   ]
  },
  {
   "cell_type": "code",
   "execution_count": 6,
   "metadata": {
    "collapsed": false
   },
   "outputs": [
    {
     "name": "stdout",
     "output_type": "stream",
     "text": [
      "[0.0, 0.3333333333333333, 1.0, 1.9999999999999998, 2.9999999999999996, 4.0, 5.0, 6.0, 7.0, 7.999999999999999, 5.666666666666666, 3.0]\n",
      "1\n"
     ]
    }
   ],
   "source": [
    "x = [i % 10 for i in range(10)]\n",
    "h = [1./3,1./3,1./3]\n",
    "print(fir(h, x))\n",
    "print(tipo_fir(h))"
   ]
  },
  {
   "cell_type": "markdown",
   "metadata": {},
   "source": [
    "## 2. Nota numérica\n",
    "\n",
    "En muchas becas se calcula la nota media del expediente a partir de las notas alfabéticas. Así una nota de `Matricula de honor` computa como un 10.0, un `Sobresaliente` computa como un 9.0, un `Notable` como un 7.5, un `Aprobado` como un 5.5 y un `Suspenso` como un 3.0.\n",
    "\n",
    "*Define la función `nota_media` que calcula la nota media de un expediente a partir de sus valores alfabéticos.  La función tiene un único argumento que es una lista de cadenas de texto, y debe devolver un número real con la nota media del expediente de acuerdo a lo descrito en el párrafo anterior.* \n",
    "\n",
    "**Nota: Fíjate en que las cadenas de texto no llevan tildes y comienzan por un letra mayúscula. Deben ser exactamente así: `Matricula de honor`, `Sobresaliente`, `Notable`, `Aprobado`, `Suspenso`.**\n",
    "\n",
    "### Ejemplo de uso\n",
    "```\n",
    "expediente = ['Sobresaliente', 'Notable', 'Notable', 'Aprobado', 'Suspenso']\n",
    "print nota_media(expediente)\n",
    "\n",
    "6.5\n",
    "```"
   ]
  },
  {
   "cell_type": "markdown",
   "metadata": {},
   "source": [
    "La forma más fácil de hacerlo es con un diccionario."
   ]
  },
  {
   "cell_type": "code",
   "execution_count": 7,
   "metadata": {
    "collapsed": false
   },
   "outputs": [
    {
     "name": "stdout",
     "output_type": "stream",
     "text": [
      "6.5\n"
     ]
    }
   ],
   "source": [
    "def nota_media(e):\n",
    "    sum=0.\n",
    "    for i in e:\n",
    "        sum += nota(i)\n",
    "    return sum/len(e)\n",
    "\n",
    "def nota(s):\n",
    "    return {\n",
    "        'Matricula de honor':10.,\n",
    "        'Sobresaliente':9.,\n",
    "        'Notable':7.5,\n",
    "        'Aprobado':5.5,\n",
    "        'Suspenso':3\n",
    "        }[s]\n",
    "\n",
    "expediente = ['Sobresaliente', 'Notable', 'Notable', 'Aprobado', 'Suspenso']\n",
    "print(nota_media(expediente))"
   ]
  },
  {
   "cell_type": "markdown",
   "metadata": {},
   "source": [
    "## Rúbrica de evaluación\n",
    "\n",
    "Puntos totales: 10 puntos:\n",
    "\n",
    "* 1.1 Función `fir_elem`: 2.5 puntos\n",
    "* 1.2 Función `fir`: 2.5 puntos\n",
    "* 1.3 Función `tipo_fir`: 2.5 puntos\n",
    "* 2 Función `nota_media`: 2.5 puntos\n",
    "\n",
    "Penalizaciones:\n",
    "\n",
    "* Errores de sintaxis: 100% de los puntos de la función\n",
    "* Errores de ejecución (excepciones): 50% de los puntos de la función\n",
    "* Errores en límites de recorridos: 20% de los puntos de la función\n",
    "* Código repetitivo: 10% de los puntos de la función"
   ]
  },
  {
   "cell_type": "code",
   "execution_count": null,
   "metadata": {
    "collapsed": true
   },
   "outputs": [],
   "source": []
  }
 ],
 "metadata": {
  "anaconda-cloud": {},
  "kernelspec": {
   "display_name": "Python 3",
   "language": "python",
   "name": "python3"
  },
  "language_info": {
   "codemirror_mode": {
    "name": "ipython",
    "version": 3
   },
   "file_extension": ".py",
   "mimetype": "text/x-python",
   "name": "python",
   "nbconvert_exporter": "python",
   "pygments_lexer": "ipython3",
   "version": "3.5.2"
  }
 },
 "nbformat": 4,
 "nbformat_minor": 0
}
