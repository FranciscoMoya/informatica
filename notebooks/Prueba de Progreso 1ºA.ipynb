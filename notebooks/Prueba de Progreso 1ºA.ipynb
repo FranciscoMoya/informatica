{
 "metadata": {
  "name": "",
  "signature": "sha256:151ac6606bd8e0607875dea95395a5bb5c02a7ac896f0d3523bdf7bd30d5d0e9"
 },
 "nbformat": 3,
 "nbformat_minor": 0,
 "worksheets": [
  {
   "cells": [
    {
     "cell_type": "markdown",
     "metadata": {},
     "source": [
      "# Prueba de progreso 1\u00baA\n",
      "\n",
      "Lee atentamente el enunciado de la prueba.  El enunciado consiste en una serie de ejercicios que deben realizarse en un mismo archivo Python. Todas las funciones deben definirse en el mismo archivo y no debe incuirse ning\u00fan fragmento de c\u00f3digo de prueba. Las entregas deber\u00e1n ser trabajo original del alumno que realiza la entrega.\n",
      "\n",
      "No se permite la comunicaci\u00f3n con otras personas durante el examen.  Se permiten libros, apuntes y b\u00fasquedas en Internet."
     ]
    },
    {
     "cell_type": "markdown",
     "metadata": {},
     "source": [
      "## 1. Filtrado de se\u00f1ales\n",
      "\n",
      "Dada una se\u00f1al de tiempo discreto, definida como una secuencia de valores reales $x = \\{x_0, x_1, ... x_n\\}$ se define la se\u00f1al de salida de un filtro FIR como la secuencia de los valores:\n",
      "\n",
      "$$ y_n = \\sum_{k=0}^{N-1} h_k\\cdot x_{n-k} $$\n",
      "\n",
      "donde $h_k$ para $k\\in\\{0..N-1\\}$ son los coeficientes del filtro, y `n` es e \u00edndice del elemento correspondiente.\n",
      "\n",
      "**Nota: Una se\u00f1al $u = \\{u_0, u_1, ... u_{M-1}\\}$ se modela como una lista de Python `u` con la secuencia de los n\u00fameros reales de la se\u00f1al.  Todos los dem\u00e1s elementos se asume que valen 0.  Es decir $u_k = 0, \\forall k \\notin \\{0..M-1\\}$ siendo $M$ el n\u00famero de elementos de `u`.**\n",
      "\n",
      "1. *Definir una funci\u00f3n `fir_elem` con tres par\u00e1metros. El primer par\u00e1metro es una lista `h` que contiene los coeficientes del filtro. El segundo par\u00e1metro es una lista `x` conteniendo una se\u00f1al discreta. El tercer par\u00e1metro es un entero `n` que corresponde al \u00edndice del elemento de la se\u00f1al de salida. La funci\u00f3n debe devolver el resultado de calcular $y_n$ seg\u00fan la f\u00f3rmula de arriba. Se recomienda emplear una funci\u00f3n `elem(u,k)` que devuelve $u_k$, es decir, el elemento k-\u00e9simo de la se\u00f1al que recibe como argumento. Se recuerda que $k$ puede estar fuera del rango de \u00edndices v\u00e1lidos para la lista `u` y que en ese caso el valor debe ser cero.*\n",
      "\n",
      "1. *Definir una funci\u00f3n `fir` con dos par\u00e1metros. El primer par\u00e1metro es una lista `h` que contiene los coeficientes del filtro. El segundo par\u00e1metro es una lista `x` conteniendo una se\u00f1al discreta. La funci\u00f3n debe devolver la se\u00f1al de salida del filtro FIR correspondiente.  Es decir, debe devolver la lista de todos los elementos distintos de cero.  La longitud de la salida de un filtro FIR es $N+M-1$ siendo $N$ la longitud de `h` y $M$ la longitud de `x`.*\n",
      "\n",
      "1. *Una caracter\u00edstica interesante de los filtros FIR es que pueden tener respuesta de fase lineal, pero para eso los coeficiente de `h` deben cumplir una condici\u00f3n.\n",
      "$$ h_n = \\pm h_{M-1-n}\\ \\ \\ \\forall n \\in \\{0..M-1\\} $$\n",
      "Es decir, los coeficientes del fitro deben ser sim\u00e9tricos o antisim\u00e9tricos. \n",
      "Seg\u00fan se cumpla la condici\u00f3n con signo positivo o negativo, y seg\u00fan el n\u00famero de elementos de `h` sea par o impar, los filtros FIR se clasifican en cuatro tipos que se usan para fines diferentes. Definir una funci\u00f3n `tipo_fir` que acepte un argumento `h` de tipo lista de reales y devuelva un valor entero de acuerdo a la siguiente tabla.*\n",
      "\n",
      "| Simetr\u00eda de los coeficientes | # Coefs  | Tipo  |\n",
      "|------------------------------|----------|-------|\n",
      "| $h(n) = h(M-1-n)$            | Impar    |    1  |\n",
      "| $h(n) = h(M-1-n)$            | Par      |    2  |\n",
      "| $h(n) = -h(M-1-n)$           | Impar    |    3  |\n",
      "| $h(n) = -h(M-1-n)$           | Par      |    4  |\n",
      "| Sin simetr\u00eda                 |          |    0  |\n",
      "\n",
      "\n",
      "\n",
      "###Ejemplo de funcionamiento\n",
      "\n",
      "```\n",
      "x = [i % 10 for i in range(10)]\n",
      "h = [1./3,1./3,1./3]\n",
      "print fir(h, x)\n",
      "print tipo_fir(h)\n",
      "\n",
      "[0.0, 0.3333333333333333, 1.0, 1.9999999999999998, 2.9999999999999996, 4.0, 5.0, 6.0, 7.0, 7.999999999999999, 5.666666666666666, 3.0]\n",
      "1\n",
      "```"
     ]
    },
    {
     "cell_type": "markdown",
     "metadata": {},
     "source": [
      "El primer ejercicio es aplicar directamente la f\u00f3rmula con la \u00fanica precauci\u00f3n de usar una funci\u00f3n intermediaria para no indexar las listas fuera de rango."
     ]
    },
    {
     "cell_type": "code",
     "collapsed": false,
     "input": [
      "def elem(u,k):\n",
      "    return u[k] if k in range(len(u)) else 0.\n",
      "\n",
      "def fir_elem(h,x,n):\n",
      "    sum=0.\n",
      "    for k in range(len(h)):\n",
      "        sum += elem(h,k)*elem(x,n-k)\n",
      "    return sum"
     ],
     "language": "python",
     "metadata": {},
     "outputs": []
    },
    {
     "cell_type": "markdown",
     "metadata": {},
     "source": [
      "El segundo ejercicio es m\u00e1s sencillo a\u00fan, basta con usar la funci\u00f3n desarrollada en el ejercicio anterior en todo el rango de la se\u00f1al de salida."
     ]
    },
    {
     "cell_type": "code",
     "collapsed": false,
     "input": [
      "def fir(h,x):\n",
      "    return [fir_elem(h,x,i) for i in range(len(h)+len(x)-1)]"
     ],
     "language": "python",
     "metadata": {},
     "outputs": []
    },
    {
     "cell_type": "markdown",
     "metadata": {},
     "source": [
      "Tambi\u00e9n se puede hacer sin *list comprehensions*."
     ]
    },
    {
     "cell_type": "code",
     "collapsed": false,
     "input": [
      "def fir(h,x):\n",
      "    y = []\n",
      "    for i in range(len(h)+len(x)-1):\n",
      "        y.append(fir_elem(h,x,i))\n",
      "    return l"
     ],
     "language": "python",
     "metadata": {},
     "outputs": []
    },
    {
     "cell_type": "markdown",
     "metadata": {},
     "source": [
      "El tercer ejercicio lo podemos hacer con *list comprehensions* y diccionarios. Calculamos los tres par\u00e1metros que permiten saber el tipo de filtro: si los coeficientes son sim\u00e9tricos, si son antisim\u00e9tricos, y si el n\u00famero de elementos en par o impar."
     ]
    },
    {
     "cell_type": "code",
     "collapsed": false,
     "input": [
      "def tipo_fir(h):\n",
      "    M = len(h)\n",
      "    sim = all([h[i]==h[M-i-1] for i in range(M/2)])\n",
      "    asim = all([h[i]==-h[M-i-1] for i in range(M/2)])\n",
      "    par = (M % 2 == 0)\n",
      "    return {\n",
      "        (True,False,False) :1,\n",
      "        (True,False,True)  :2,\n",
      "        (False,True,False) :3,\n",
      "        (False,True,True)  :4,\n",
      "        (False,False,False):0,\n",
      "        (False,False,True) :0,\n",
      "        }[(sim,asim,par)]"
     ],
     "language": "python",
     "metadata": {},
     "outputs": []
    },
    {
     "cell_type": "markdown",
     "metadata": {},
     "source": [
      "Tambi\u00e9n se puede hacer con `if` y sin *list comprehensions*."
     ]
    },
    {
     "cell_type": "code",
     "collapsed": false,
     "input": [
      "def tipo_fir(h):\n",
      "    if es_simetrico(h):\n",
      "        return 2 if len(h) % 2 == 0 else 1\n",
      "    if es_antisimetrico(h):\n",
      "        return 4 if len(h) % 2 == 0 else 3\n",
      "    return 0\n",
      "\n",
      "def es_simetrico(h):\n",
      "    M = len(h)\n",
      "    for i in range(M/2):\n",
      "        if h[i] != h[M-i-1]:\n",
      "            return False\n",
      "    return True\n",
      "\n",
      "def es_antisimetrico(h):\n",
      "    M = len(h)\n",
      "    for i in range(M/2):\n",
      "        if h[i] != -h[M-i-1]:\n",
      "            return False\n",
      "    return True"
     ],
     "language": "python",
     "metadata": {},
     "outputs": [],
     "prompt_number": 6
    },
    {
     "cell_type": "markdown",
     "metadata": {},
     "source": [
      "Ya solo falta probarlo."
     ]
    },
    {
     "cell_type": "code",
     "collapsed": false,
     "input": [
      "x = [i % 10 for i in range(10)]\n",
      "h = [1./3,1./3,1./3]\n",
      "print fir(h, x)\n",
      "print tipo_fir(h)"
     ],
     "language": "python",
     "metadata": {},
     "outputs": [
      {
       "output_type": "stream",
       "stream": "stdout",
       "text": [
        "[0.0, 0.3333333333333333, 1.0, 1.9999999999999998, 2.9999999999999996, 4.0, 5.0, 6.0, 7.0, 7.999999999999999, 5.666666666666666, 3.0]\n",
        "1\n"
       ]
      }
     ],
     "prompt_number": 7
    },
    {
     "cell_type": "markdown",
     "metadata": {},
     "source": [
      "## 2. Nota num\u00e9rica\n",
      "\n",
      "En muchas becas se calcula la nota media del expediente a partir de las notas alfab\u00e9ticas. As\u00ed una nota de `Matricula de honor` computa como un 10.0, un `Sobresaliente` computa como un 9.0, un `Notable` como un 7.5, un `Aprobado` como un 5.5 y un `Suspenso` como un 3.0.\n",
      "\n",
      "*Define la funci\u00f3n `nota_media` que calcula la nota media de un expediente a partir de sus valores alfab\u00e9ticos.  La funci\u00f3n tiene un \u00fanico argumento que es una lista de cadenas de texto, y debe devolver un n\u00famero real con la nota media del expediente de acuerdo a lo descrito en el p\u00e1rrafo anterior.* \n",
      "\n",
      "**Nota: F\u00edjate en que las cadenas de texto no llevan tildes y comienzan por un letra may\u00fascula. Deben ser exactamente as\u00ed: `Matricula de honor`, `Sobresaliente`, `Notable`, `Aprobado`, `Suspenso`.**\n",
      "\n",
      "### Ejemplo de uso\n",
      "```\n",
      "expediente = ['Sobresaliente', 'Notable', 'Notable', 'Aprobado', 'Suspenso']\n",
      "print nota_media(expediente)\n",
      "\n",
      "6.5\n",
      "```"
     ]
    },
    {
     "cell_type": "markdown",
     "metadata": {},
     "source": [
      "La forma m\u00e1s f\u00e1cil de hacerlo es con un diccionario."
     ]
    },
    {
     "cell_type": "code",
     "collapsed": false,
     "input": [
      "def nota_media(e):\n",
      "    sum=0.\n",
      "    for i in e:\n",
      "        sum += nota(i)\n",
      "    return sum/len(e)\n",
      "\n",
      "def nota(s):\n",
      "    return {\n",
      "        'Matricula de honor':10.,\n",
      "        'Sobresaliente':9.,\n",
      "        'Notable':7.5,\n",
      "        'Aprobado':5.5,\n",
      "        'Suspenso':3\n",
      "        }[s]\n",
      "\n",
      "expediente = ['Sobresaliente', 'Notable', 'Notable', 'Aprobado', 'Suspenso']\n",
      "print nota_media(expediente)"
     ],
     "language": "python",
     "metadata": {},
     "outputs": [
      {
       "output_type": "stream",
       "stream": "stdout",
       "text": [
        "6.5\n"
       ]
      }
     ],
     "prompt_number": 2
    },
    {
     "cell_type": "markdown",
     "metadata": {},
     "source": [
      "##R\u00fabrica de evaluaci\u00f3n\n",
      "\n",
      "Puntos totales: 10 puntos:\n",
      "\n",
      "* 1.1 Funci\u00f3n `fir_elem`: 2.5 puntos\n",
      "* 1.2 Funci\u00f3n `fir`: 2.5 puntos\n",
      "* 1.3 Funci\u00f3n `tipo_fir`: 2.5 puntos\n",
      "* 2 Funci\u00f3n `nota_media`: 2.5 puntos\n",
      "\n",
      "Penalizaciones:\n",
      "\n",
      "* Errores de sintaxis: 100% de los puntos de la funci\u00f3n\n",
      "* Errores de ejecuci\u00f3n (excepciones): 50% de los puntos de la funci\u00f3n\n",
      "* Errores en l\u00edmites de recorridos: 20% de los puntos de la funci\u00f3n\n",
      "* C\u00f3digo repetitivo: 10% de los puntos de la funci\u00f3n"
     ]
    }
   ],
   "metadata": {}
  }
 ]
}