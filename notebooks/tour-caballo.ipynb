{
 "cells": [
  {
   "cell_type": "markdown",
   "metadata": {},
   "source": [
    "# El tour del caballo\n",
    "\n",
    "Un problema muy célebre en el mundo de las matemáticas es el *Knight's Tour problem*.  Se trata de encontrar un camino recorrido por un caballo de ajedrez desde una casilla de comienzo de manera que recorre todas las casillas del tablero de ajedrez sin pasar dos veces por ninguna.\n",
    "\n",
    "El caballo de ajedrez se mueve trazando una L de 2x1 casillas en cualquier dirección.  Por ejemplo, en la figura se muestran las ocho posibles casillas a las que puede moverse el caballo.\n",
    "\n",
    "![Movimientos del caballo](http://res.cloudinary.com/idiotsguides-com/image/upload/v1416324088/tmj4dacz3nfivob1waks.jpg)"
   ]
  },
  {
   "cell_type": "markdown",
   "metadata": {},
   "source": [
    "Pensemos ahora el problema que nos ocupa. Tenemos como entrada una posición inicial y como salida una secuencia (e.g. lista) de casillas que debe recorrer el caballo, en orden.  La primera casilla de la solución es la posición inicial. En total deben aparecer todas las casillas del tablero.  Es decir el resultado es una permutación de las 64 casillas del tablero.\n",
    "\n",
    "Esto nos abre la puerta para explorar cuánto costaría resolverlo por fuerza bruta.  Todas las posibles permutaciones de 64 casillas son:"
   ]
  },
  {
   "cell_type": "code",
   "execution_count": 16,
   "metadata": {
    "collapsed": false
   },
   "outputs": [
    {
     "data": {
      "text/plain": [
       "126886932185884164103433389335161480802865516174545192198801894375214704230400000000000000"
      ]
     },
     "execution_count": 16,
     "metadata": {},
     "output_type": "execute_result"
    }
   ],
   "source": [
    "import math\n",
    "math.factorial(64)"
   ]
  },
  {
   "cell_type": "markdown",
   "metadata": {},
   "source": [
    "Evidentemente no es planteable resolverlo por fuerza bruta.  El siguiente paso es intentar una búsqueda empleando el mismo algoritmo de *backtrackig* que usábamos en el problema de la mochila01 cuando modelábamos el problema como un árbol de decisiones.  Explorábamos la opción de coger cada elemento y no cogerlo y nos quedábamos con la mejor de las dos opciones.\n",
    "\n",
    "La diferencia es que ahora tenemos ocho posibles casillas para decidir como destino en cada movimiento, en lugar de dos.  Otra diferencia interesante es que en este problema no tenemos que explorar todo el árbol, podemos parar en cuanto encontremos una solución.\n",
    "\n",
    "Empecemos por modelar el entorno, el tablero, los movimiento del caballo, los posibles vecinos de cada casilla."
   ]
  },
  {
   "cell_type": "code",
   "execution_count": 17,
   "metadata": {
    "collapsed": true
   },
   "outputs": [],
   "source": [
    "X,Y = 8,8\n",
    "casillas = [(x,y) for x in range(X) for y in range(Y)]\n",
    "movimientos_caballo = [ (1,2), (1,-2), (-1,2), (-1,-2), \\\n",
    "                        (2,1), (-2,1), (2,-1), (-2,-1) ]\n",
    "def casillas_vecinas(p):\n",
    "    x,y = p\n",
    "    return [ (x+dx,y+dy) for dx,dy in movimientos_caballo \\\n",
    "                 if x+dx in range(X) and y+dy in range(Y) ]\n",
    "\n",
    "vecinos = { p: casillas_vecinas(p) for p in casillas }"
   ]
  },
  {
   "cell_type": "markdown",
   "metadata": {},
   "source": [
    "El problema a resolver se puede plantear de forma recursiva.  Tenemos una serie de movimientos que ya se han realizado y una serie de casillas ue quedan por visitar.  Se trata de completar la lista de los movimientos de forma recursiva. Por ejemplo:"
   ]
  },
  {
   "cell_type": "code",
   "execution_count": 18,
   "metadata": {
    "collapsed": true
   },
   "outputs": [],
   "source": [
    "def caballo(inicial):\n",
    "    return buscar_camino((inicial,), set(casillas) - {inicial})\n",
    "    \n",
    "def buscar_camino(movimientos, pendientes):\n",
    "    if len(pendientes) == 0:\n",
    "        return movimientos\n",
    "\n",
    "    def alcanzables(x):\n",
    "        return [v for v in vecinos[x] if v in pendientes]\n",
    "\n",
    "    posibles = alcanzables(movimientos[-1])\n",
    "    for siguiente in posibles:\n",
    "        intento_movimientos = movimientos + (siguiente,)\n",
    "        intento_pendientes = pendientes - {siguiente}\n",
    "        try:\n",
    "            return buscar_camino(intento_movimientos, intento_pendientes)\n",
    "        except ValueError:\n",
    "            pass\n",
    "    raise ValueError('Sin solución')"
   ]
  },
  {
   "cell_type": "markdown",
   "metadata": {},
   "source": [
    "Si ya no quedan casillas que visitar hemos terminado y el resultado es la lista de movimientos.  Si no tendremos que determinar qué casillas son alcanzables desde la última posición del caballo.  Para que sea una opción válida debe ser una casilla alcanzable con el movimiento del caballo pero también tiene que ser una casilla no visitada (debe estar en el conjunto de casillas *pendientes*).\n",
    "\n",
    "Podríamos haber usado listas para todo, pero a veces compensa pensar cuál es la mejor estructura de datos para este caso.  Por ejemplo, en la lista de casillas pendientes debe comprobarse continuamente si cada posible casilla destino está o no.  La operación de pertenencia `in` está especialmente optimizada en los conjuntos.  Sin embargo los movimientos necesitan mantener el orden, por lo que una lista o tupla es lo apropiado.  Uso tuplas porque no son mutables, y de esta forma me aseguro de que no meto la pata alterando el valor del argumento."
   ]
  },
  {
   "cell_type": "markdown",
   "metadata": {
    "collapsed": false
   },
   "source": [
    "El programa está hecho pero si intentamos ejecutarlo veremos que no encuentra el resultado. Tarda muchísimo.  Es muy fácil acelerarlo si orientamos la exploracion del espacio de búsqueda hacia las opciones más probables.\n",
    "\n",
    "Un *heurístico* muy efectivo es el debido a *Wandorf*. Dice que la exploración debe realizarse primero hacia las casillas desde las que se puede saltar a menos casillas.  Es decir, hacia las casillas que más limitan la movilidad.  El razonamiento es sencillo.  Si dejamos estas casillas para el final será muy difícil salir de ellas, nos quedaremos atrapados.  Las modificaciones son mínimas."
   ]
  },
  {
   "cell_type": "code",
   "execution_count": 19,
   "metadata": {
    "collapsed": true
   },
   "outputs": [],
   "source": [
    "def caballo(inicial):\n",
    "    return buscar_camino((inicial,), set(casillas) - {inicial})\n",
    "    \n",
    "def buscar_camino(movimientos, pendientes):\n",
    "    if len(pendientes) == 0:\n",
    "        return movimientos\n",
    "\n",
    "    def alcanzables(x):\n",
    "        return [v for v in vecinos[x] if v in pendientes]\n",
    "\n",
    "    def wandorf(x):\n",
    "        return len(alcanzables(x))\n",
    "\n",
    "    posibles = sorted(alcanzables(movimientos[-1]), key=wandorf)\n",
    "    for siguiente in posibles:\n",
    "        intento_movimientos = movimientos + (siguiente,)\n",
    "        intento_pendientes = pendientes - {siguiente}\n",
    "        try:\n",
    "            return buscar_camino(intento_movimientos, intento_pendientes)\n",
    "        except ValueError:\n",
    "            pass\n",
    "    raise ValueError('Sin solución')"
   ]
  },
  {
   "cell_type": "code",
   "execution_count": 20,
   "metadata": {
    "collapsed": false
   },
   "outputs": [
    {
     "data": {
      "text/plain": [
       "((0, 0),\n",
       " (1, 2),\n",
       " (2, 0),\n",
       " (0, 1),\n",
       " (1, 3),\n",
       " (0, 5),\n",
       " (1, 7),\n",
       " (3, 6),\n",
       " (5, 7),\n",
       " (7, 6),\n",
       " (6, 4),\n",
       " (7, 2),\n",
       " (6, 0),\n",
       " (4, 1),\n",
       " (6, 2),\n",
       " (7, 0),\n",
       " (5, 1),\n",
       " (3, 0),\n",
       " (1, 1),\n",
       " (0, 3),\n",
       " (1, 5),\n",
       " (0, 7),\n",
       " (2, 6),\n",
       " (4, 7),\n",
       " (6, 6),\n",
       " (7, 4),\n",
       " (5, 5),\n",
       " (6, 7),\n",
       " (7, 5),\n",
       " (6, 3),\n",
       " (7, 1),\n",
       " (5, 0),\n",
       " (3, 1),\n",
       " (1, 0),\n",
       " (2, 2),\n",
       " (4, 3),\n",
       " (2, 4),\n",
       " (3, 2),\n",
       " (4, 0),\n",
       " (5, 2),\n",
       " (7, 3),\n",
       " (6, 1),\n",
       " (5, 3),\n",
       " (4, 5),\n",
       " (3, 7),\n",
       " (1, 6),\n",
       " (0, 4),\n",
       " (2, 5),\n",
       " (0, 6),\n",
       " (2, 7),\n",
       " (4, 6),\n",
       " (3, 4),\n",
       " (4, 2),\n",
       " (5, 4),\n",
       " (3, 3),\n",
       " (2, 1),\n",
       " (0, 2),\n",
       " (1, 4),\n",
       " (3, 5),\n",
       " (2, 3),\n",
       " (4, 4),\n",
       " (5, 6),\n",
       " (7, 7),\n",
       " (6, 5))"
      ]
     },
     "execution_count": 20,
     "metadata": {},
     "output_type": "execute_result"
    }
   ],
   "source": [
    "caballo((0,0))"
   ]
  },
  {
   "cell_type": "markdown",
   "metadata": {},
   "source": [
    "El único cambio que hemos hecho es que las opciones las ordenamos según el criterio de Wandorf. El efecto es, como ves, impresionante.  De no poder encontrar una solución hemos pasado a encontrarla en décimas de segundo."
   ]
  },
  {
   "cell_type": "markdown",
   "metadata": {
    "collapsed": true
   },
   "source": [
    "# El problema de las 8 damas\n",
    "\n",
    "Ya hemos visto el problema de las ocho damas como un problema que puede resolverse por fuerza bruta.  Pero no es mucho más difícil utilizar *backtracking* igual que en el ejemplo anterior."
   ]
  },
  {
   "cell_type": "code",
   "execution_count": 21,
   "metadata": {
    "collapsed": true
   },
   "outputs": [],
   "source": [
    "def ocho_damas():\n",
    "    return buscar_posiciones(tuple())\n",
    "\n",
    "def buscar_posiciones(fijas):\n",
    "    if len(fijas) == 8:\n",
    "        return fijas\n",
    " \n",
    "    posibles = set(range(8)) - set(fijas) - diagonales(fijas)\n",
    "    for siguiente in posibles:\n",
    "        try:\n",
    "            return buscar_posiciones(fijas + (siguiente,))\n",
    "        except ValueError:\n",
    "            pass\n",
    "    raise ValueError('Sin solucion')"
   ]
  },
  {
   "cell_type": "markdown",
   "metadata": {},
   "source": [
    "El único problema está en calcular qué diagonales están ya ocupadas por un conjunto de damas fijas.  Una posibilidad es aprovechar las fórmulas que calculamos anteriormente para diagonales y diagonales inversas."
   ]
  },
  {
   "cell_type": "code",
   "execution_count": 22,
   "metadata": {
    "collapsed": true
   },
   "outputs": [],
   "source": [
    "def diagonales(fijas):\n",
    "    directas = set(x-y for x,y in enumerate(fijas))\n",
    "    inversas = set(7-x-y for x,y in enumerate(fijas))\n",
    "    x = len(fijas)\n",
    "    return set(y for y in range(8) \\\n",
    "               if x-y in directas or 7-x-y in inversas)"
   ]
  },
  {
   "cell_type": "markdown",
   "metadata": {},
   "source": [
    "Otra posibilidad es proyectar directamente las diagonales directas e inversas a la columna que se está analizando."
   ]
  },
  {
   "cell_type": "code",
   "execution_count": 25,
   "metadata": {
    "collapsed": true
   },
   "outputs": [],
   "source": [
    "def diagonales(fijas):\n",
    "    col = len(fijas)\n",
    "    directas = set(y + (col-x) for x,y in enumerate(fijas))\n",
    "    inversas = set(y - (col-x) for x,y in enumerate(fijas))\n",
    "    return directas | inversas"
   ]
  },
  {
   "cell_type": "markdown",
   "metadata": {},
   "source": [
    "Nótese que no nos preocupamos de si están o no en el rango de 0 a 7 porque se usa exclusivamente para una diferencia de conjuntos, a la que no le afecta en absoluto."
   ]
  },
  {
   "cell_type": "code",
   "execution_count": 26,
   "metadata": {
    "collapsed": false
   },
   "outputs": [
    {
     "data": {
      "text/plain": [
       "(0, 4, 7, 5, 2, 6, 1, 3)"
      ]
     },
     "execution_count": 26,
     "metadata": {},
     "output_type": "execute_result"
    }
   ],
   "source": [
    "ocho_damas()"
   ]
  },
  {
   "cell_type": "markdown",
   "metadata": {},
   "source": [
    "Convertir la función en un generador no es mucho más complicado y nos proporcionaría cualquier número de soluciones."
   ]
  },
  {
   "cell_type": "code",
   "execution_count": 51,
   "metadata": {
    "collapsed": false
   },
   "outputs": [],
   "source": [
    "def ocho_damas():\n",
    "    return buscar_posiciones(tuple())\n",
    "\n",
    "def buscar_posiciones(fijas):\n",
    "    if len(fijas) == 8:\n",
    "        yield fijas\n",
    "        return\n",
    " \n",
    "    posibles = set(range(8)) - set(fijas) - diagonales(fijas)\n",
    "    for siguiente in posibles:\n",
    "        for sol in buscar_posiciones(fijas + (siguiente,)):\n",
    "            yield sol"
   ]
  },
  {
   "cell_type": "code",
   "execution_count": 52,
   "metadata": {
    "collapsed": false
   },
   "outputs": [
    {
     "name": "stdout",
     "output_type": "stream",
     "text": [
      "(0, 4, 7, 5, 2, 6, 1, 3)\n",
      "(0, 5, 7, 2, 6, 3, 1, 4)\n",
      "(0, 6, 3, 5, 7, 1, 4, 2)\n",
      "(0, 6, 4, 7, 1, 3, 5, 2)\n",
      "(1, 3, 5, 7, 2, 0, 6, 4)\n",
      "(1, 4, 6, 0, 2, 7, 5, 3)\n",
      "(1, 4, 6, 3, 0, 7, 5, 2)\n",
      "(1, 5, 0, 6, 3, 7, 2, 4)\n",
      "(1, 5, 7, 2, 0, 3, 6, 4)\n",
      "(1, 6, 2, 5, 7, 4, 0, 3)\n"
     ]
    }
   ],
   "source": [
    "soluciones = ocho_damas()\n",
    "for i in range(10):\n",
    "    print(next(soluciones))"
   ]
  },
  {
   "cell_type": "markdown",
   "metadata": {},
   "source": [
    "Al usar generadores ya no necesitamos excepciones porque el generador solo produce resultados (*yield*) si encuentra solución.  Si no se encontrara soluciones ya produce la excepción *StopIteration*"
   ]
  },
  {
   "cell_type": "code",
   "execution_count": null,
   "metadata": {
    "collapsed": true
   },
   "outputs": [],
   "source": []
  }
 ],
 "metadata": {
  "anaconda-cloud": {},
  "kernelspec": {
   "display_name": "Python 3",
   "language": "python",
   "name": "python3"
  },
  "language_info": {
   "codemirror_mode": {
    "name": "ipython",
    "version": 3
   },
   "file_extension": ".py",
   "mimetype": "text/x-python",
   "name": "python",
   "nbconvert_exporter": "python",
   "pygments_lexer": "ipython3",
   "version": "3.5.2"
  }
 },
 "nbformat": 4,
 "nbformat_minor": 1
}
