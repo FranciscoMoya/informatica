{
 "cells": [
  {
   "cell_type": "markdown",
   "metadata": {},
   "source": [
    "# El tour del caballo\n",
    "\n",
    "Un problema muy célebre en el mundo de las matemáticas es el *Knight's Tour problem*.  Se trata de encontrar un camino recorrido por un caballo de ajedrez desde una casilla de comienzo de manera que recorre todas las casillas del tablero de ajedrez sin pasar dos veces por ninguna."
   ]
  },
  {
   "cell_type": "code",
   "execution_count": 5,
   "metadata": {
    "collapsed": false
   },
   "outputs": [
    {
     "name": "stdout",
     "output_type": "stream",
     "text": [
      "[(0, 0), (1, 2), (2, 0), (0, 1), (1, 3), (0, 5), (1, 7), (3, 6), (5, 7), (7, 6), (6, 4), (7, 2), (6, 0), (4, 1), (6, 2), (7, 0), (5, 1), (3, 0), (1, 1), (0, 3), (1, 5), (0, 7), (2, 6), (4, 7), (6, 6), (7, 4), (5, 5), (6, 7), (7, 5), (6, 3), (7, 1), (5, 0), (3, 1), (1, 0), (2, 2), (4, 3), (2, 4), (3, 2), (4, 0), (5, 2), (7, 3), (6, 1), (5, 3), (4, 5), (3, 7), (1, 6), (0, 4), (2, 5), (0, 6), (2, 7), (4, 6), (3, 4), (4, 2), (5, 4), (3, 3), (2, 1), (0, 2), (1, 4), (3, 5), (2, 3), (4, 4), (5, 6), (7, 7), (6, 5)]\n"
     ]
    }
   ],
   "source": [
    "X,Y = 8,8\n",
    "casillas = [(x,y) for x in range(X) for y in range(Y)]\n",
    "movimientos_caballo = [ (1,2), (1,-2), (-1,2), (-1,-2), \\\n",
    "                        (2,1), (-2,1), (2,-1), (-2,-1) ]\n",
    "def casillas_vecinas(p):\n",
    "    x,y = p\n",
    "    return [ (x+dx,y+dy) for dx,dy in movimientos_caballo \\\n",
    "                 if x+dx in range(X) and y+dy in range(Y) ]\n",
    "\n",
    "vecinos = { p: casillas_vecinas(p) for p in casillas }\n",
    "\n",
    "def caballo(inicial):\n",
    "    return buscar_camino([inicial], set(casillas) - {inicial})\n",
    "    \n",
    "def buscar_camino(movimientos, pendientes):\n",
    "    if len(pendientes) == 0:\n",
    "        return movimientos\n",
    "\n",
    "    def alcanzables(x):\n",
    "        return [v for v in vecinos[x] if v in pendientes]\n",
    "    \n",
    "    def wandorf(x):\n",
    "        return len(alcanzables(x))\n",
    "\n",
    "    posibles = sorted(alcanzables(movimientos[-1]), key=wandorf)\n",
    "    #posibles = alcanzables(movimientos[-1])\n",
    "    for siguiente in posibles:\n",
    "        intento_movimientos = movimientos.copy()\n",
    "        intento_movimientos.append(siguiente)\n",
    "        intento_pendientes = pendientes.copy()\n",
    "        intento_pendientes.remove(siguiente)\n",
    "        try:\n",
    "            return buscar_camino(intento_movimientos, intento_pendientes)\n",
    "        except ValueError:\n",
    "            pass\n",
    "    raise ValueError('Sin solución')\n",
    "\n",
    "print(caballo((,0)))"
   ]
  },
  {
   "cell_type": "code",
   "execution_count": null,
   "metadata": {
    "collapsed": true
   },
   "outputs": [],
   "source": []
  }
 ],
 "metadata": {
  "kernelspec": {
   "display_name": "Python 3",
   "language": "python",
   "name": "python3"
  },
  "language_info": {
   "codemirror_mode": {
    "name": "ipython",
    "version": 3
   },
   "file_extension": ".py",
   "mimetype": "text/x-python",
   "name": "python",
   "nbconvert_exporter": "python",
   "pygments_lexer": "ipython3",
   "version": "3.5.2"
  }
 },
 "nbformat": 4,
 "nbformat_minor": 1
}
