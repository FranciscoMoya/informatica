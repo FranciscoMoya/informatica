{
 "cells": [
  {
   "cell_type": "markdown",
   "metadata": {},
   "source": [
    "# Prueba de progreso (conv. extraordinaria)\n",
    "\n",
    "## Números crecientes y decrecientes\n",
    "\n",
    "Se define un número creciente como aquél en el que sus dígitos, leídos de izquierda a derecha, nunca son menores que los anteriores. 234559 es un ejemplo de número creciente. De forma complementaria, número decreciente es aquel cuyos dígitos leídos de izquierda a derecha nunca son mayores que los anteriores. 97732 es un ejemplo de número decreciente.\n",
    "\n",
    "Elabora la función creciente_decreciente que admite un único argumento numérico y devuelve 1 si es creciente, -1 si es decreciente y 0 si no es ni creciente ni decreciente.\n",
    "\n",
    "**Nota: Si el número es tanto creciente como decreciente (números con una cifra o con varias cifras iguales) debe devover 1 (primero creciente).**"
   ]
  },
  {
   "cell_type": "code",
   "execution_count": 1,
   "metadata": {
    "collapsed": true
   },
   "outputs": [],
   "source": [
    "def creciente_decreciente(n):\n",
    "    cifras = [ int(x) for x in str(n) ]\n",
    "    diferencias = [ b-a for a,b in zip(cifras,cifras[1:]) ] + [0]\n",
    "    if min(diferencias) >= 0:\n",
    "        return 1\n",
    "    if max(diferencias) <= 0:\n",
    "        return -1\n",
    "    return 0"
   ]
  },
  {
   "cell_type": "markdown",
   "metadata": {},
   "source": [
    "## Números en cualquier base\n",
    "\n",
    "Como sabes el computador almacena los números internamente empleando una representación binaria (cada dígito solo puede tener dos valores, el 0 o el 1). En Python es sencillo obtener la representación binaria de un número usando '{:b}'.format(n). Este mecanismo permite obtener la representación en las bases más utilizadas (2, 8, 10 y 16) pero no es general.\n",
    "\n",
    "En este ejercicio te proponemos definir la función to_base(n, b) que devuelve una lista con los dígitos de la representación de n en base b.\n",
    "\n",
    "### Ejemplo de funcionamiento\n",
    "\n",
    "``` python\n",
    ">>> to_base(978, 16)\n",
    "[3, 13, 2]\n",
    ">>> to_base(978, 10)\n",
    "[9, 7, 8]\n",
    ">>> to_base(978, 4)\n",
    "[3, 3, 1, 0, 2]\n",
    "```\n",
    "\n",
    "Fíjate en que no utilizamos símbolos especiales para los dígitos de bases mayores que 10, sino que simplemente almacenamos en la lista el valor correspondiente de cada dígito."
   ]
  },
  {
   "cell_type": "code",
   "execution_count": 2,
   "metadata": {
    "collapsed": true
   },
   "outputs": [],
   "source": [
    "def to_base(n, b):\n",
    "    if n == 0: return []\n",
    "    return to_base(n//b, b) + [n%b]"
   ]
  },
  {
   "cell_type": "markdown",
   "metadata": {},
   "source": [
    "## Números super pandigitales\n",
    "\n",
    "Un entero positivo es pandigital en la base b (o b-pandigital) si contiene todos los dígitos de 0 a b-1 al menos una vez cuando se escriben en la base b. Un número n-super-pandigital es aquél que es pandigital en todas las bases desde 2 hasta n ambas incluidas.\n",
    "\n",
    "Por ejemplo, $978 = 1111010010_2 = 1100020_3 = 33102_4 = 12403_5$ es el número más pequeño 5-super-pandigital, y $1093265784$ es el número más pequeño 10-super-pandigital.\n",
    "\n",
    "Escribe una funcion `es_superpandigital(x, n)` que devuelve `True` si el número `x` es n-super-pandigital y False en caso contrario.\n",
    "\n",
    "### Ejemplo de funcionamiento\n",
    "\n",
    "``` python\n",
    ">>> es_superpandigital(978, 5)\n",
    "True\n",
    ">>> es_superpandigital(978, 6)\n",
    "False\n",
    "```"
   ]
  },
  {
   "cell_type": "code",
   "execution_count": 3,
   "metadata": {
    "collapsed": true
   },
   "outputs": [],
   "source": [
    "def es_superpandigital(x, n):\n",
    "    return all(es_pandigital(x,b) for b in range(2,n+1))\n",
    "\n",
    "def es_pandigital(x,b):\n",
    "    digitos = set(to_base(x,b))\n",
    "    return all(d in digitos for d in range(b))"
   ]
  },
  {
   "cell_type": "markdown",
   "metadata": {},
   "source": [
    "## Pruebas\n",
    "\n",
    "Como en el laboratorio usaremos `unittest` para probar."
   ]
  },
  {
   "cell_type": "code",
   "execution_count": 4,
   "metadata": {
    "collapsed": true
   },
   "outputs": [],
   "source": [
    "import unittest\n",
    "from unittest import TestCase\n",
    "class Test(TestCase):\n",
    "    def test_1_creciente_decreciente(self):\n",
    "        self.assertEqual(1, creciente_decreciente(5))\n",
    "        self.assertEqual(1, creciente_decreciente(25))\n",
    "        self.assertEqual(-1, creciente_decreciente(52))\n",
    "        self.assertEqual(0, creciente_decreciente(523))\n",
    "        self.assertEqual(0, creciente_decreciente(542235))\n",
    "        self.assertEqual(1, creciente_decreciente(5669))\n",
    "        self.assertEqual(-1, creciente_decreciente(977622100))\n",
    "    def test_2_to_base(self):\n",
    "        self.assertEqual([3,13,2], to_base(978,16))\n",
    "        self.assertEqual([9,7,8], to_base(978,10))\n",
    "        self.assertEqual([3,3,1,0,2], to_base(978,4))\n",
    "    def test_3_super_pandigital(self):\n",
    "        self.assertTrue(es_superpandigital(978,4))\n",
    "        self.assertTrue(es_superpandigital(978,5))\n",
    "        self.assertFalse(es_superpandigital(978,6))\n",
    "        self.assertTrue(es_superpandigital(1093265784,9))\n",
    "        self.assertTrue(es_superpandigital(1093265784,10))\n",
    "        self.assertFalse(es_superpandigital(1093265784,11))"
   ]
  },
  {
   "cell_type": "markdown",
   "metadata": {},
   "source": [
    "Para ejecutar las pruebas en IDLE o PyCharm bastaría añadir `unittest.main()`. En Jupyter cambia ligeramente porque no hay un archivo Python para el programa."
   ]
  },
  {
   "cell_type": "code",
   "execution_count": 5,
   "metadata": {
    "collapsed": false
   },
   "outputs": [
    {
     "name": "stderr",
     "output_type": "stream",
     "text": [
      "...\n",
      "----------------------------------------------------------------------\n",
      "Ran 3 tests in 0.004s\n",
      "\n",
      "OK\n"
     ]
    },
    {
     "data": {
      "text/plain": [
       "True"
      ]
     },
     "execution_count": 5,
     "metadata": {},
     "output_type": "execute_result"
    }
   ],
   "source": [
    "suite = unittest.TestLoader().loadTestsFromTestCase(Test)\n",
    "unittest.TextTestRunner().run(suite).wasSuccessful()"
   ]
  }
 ],
 "metadata": {
  "kernelspec": {
   "display_name": "Python 3",
   "language": "python",
   "name": "python3"
  },
  "language_info": {
   "codemirror_mode": {
    "name": "ipython",
    "version": 3
   },
   "file_extension": ".py",
   "mimetype": "text/x-python",
   "name": "python",
   "nbconvert_exporter": "python",
   "pygments_lexer": "ipython3",
   "version": "3.5.2"
  }
 },
 "nbformat": 4,
 "nbformat_minor": 1
}
