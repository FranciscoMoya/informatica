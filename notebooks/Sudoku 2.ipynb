{
 "metadata": {
  "name": "",
  "signature": "sha256:ecc9ee98bf5b8ab13f460e707c23b094d5aed05ba14a451390bc35b958164b12"
 },
 "nbformat": 3,
 "nbformat_minor": 0,
 "worksheets": [
  {
   "cells": [
    {
     "cell_type": "markdown",
     "metadata": {},
     "source": [
      "# Resoluci\u00f3n de Sudokus\n",
      "\n",
      "Ya hemos resuelto el problema de comprobar un Sudoku. Vamos ahora a hacer un programa que resuelve Sudokus.  Plant\u00e9atelo como un caso de estudio que se parece mucho a los problemas de ex\u00e1men.  Para ello vamos a utilizar clases.\n",
      "\n",
      "Como siempre utilizaremos un dise\u00f1o top-down. Empezaremos por resolver el problema asumiendo que est\u00e1 resuelto cualquier subproblema de m\u00e1s bajo nivel.\n",
      "\n",
      "Puede modelarse como un problema de \u00e1rboles de decisi\u00f3n pero en lugar de un \u00e1rbol binario se trata de un \u00e1rbol con tantas ramas como opciones disponibles hay en cada casilla.  Para validar la soluci\u00f3n simplemente tenemos que intentar construir un Sudoku. Si no fuera posible es que las nuevas restricciones no son consistentes."
     ]
    },
    {
     "cell_type": "code",
     "collapsed": false,
     "input": [
      "def resolver_sudoku(sudoku):\n",
      "    '''Asume sudoku de tipo Sudoku parcialmente especificado.\n",
      "       Devuelve un Sudoku soluci\u00f3n del que se pasa como argumento.'''\n",
      "    restricciones = [ sudoku.get(x,y) for y in range(9) for x in range(9) ]\n",
      "    return buscar_solucion(restricciones, Sudoku)"
     ],
     "language": "python",
     "metadata": {},
     "outputs": [],
     "prompt_number": 1
    },
    {
     "cell_type": "markdown",
     "metadata": {},
     "source": [
      "La funci\u00f3n `buscar_solucion` puede hacerse de forma gen\u00e9rica para cualquier problema de toma de decisiones dadas unas restricciones y una clase que se instancia a partir de esas restricciones."
     ]
    },
    {
     "cell_type": "code",
     "collapsed": false,
     "input": [
      "def buscar_solucion(restricciones, solucion, desde = 0):\n",
      "    '''Asume 'restricciones' una lista de listas, \n",
      "       'solucion' una clase o funci\u00f3n, \n",
      "       'desde' un entero <= len(restricciones).\n",
      "       Si solucion(x) no es v\u00e1lida 'solucion' eleva ValueError.\n",
      "\n",
      "       Devuelve el resultado de llamar a solucion con un conjunto\n",
      "       de restricciones completo (cada elemento tiene un solo elemento).\n",
      "       Si no existe ninguna soluci\u00f3n v\u00e1lida eleva excepci\u00f3n ValueError.'''\n",
      "    if desde >= len(restricciones):\n",
      "        return solucion(restricciones)\n",
      "    \n",
      "    for i in restricciones[desde]:\n",
      "        tentativa = restricciones[:desde] + [[i]] + restricciones[desde+1:]\n",
      "        try: return buscar_solucion(tentativa, solucion, desde+1)\n",
      "        except ValueError: pass\n",
      "        \n",
      "    raise ValueError('No hay soluci\u00f3n')"
     ],
     "language": "python",
     "metadata": {},
     "outputs": [],
     "prompt_number": 2
    },
    {
     "cell_type": "markdown",
     "metadata": {},
     "source": [
      "Probemos con un ejemplo sencillo."
     ]
    },
    {
     "cell_type": "code",
     "collapsed": false,
     "input": [
      "def sol(x):\n",
      "    for i in x: \n",
      "        if x.count(i) > 1: raise ValueError('Repetidos')\n",
      "    return x\n",
      "\n",
      "print buscar_solucion([[1], [2], [2, 3], [3, 4]], sol)"
     ],
     "language": "python",
     "metadata": {},
     "outputs": [
      {
       "output_type": "stream",
       "stream": "stdout",
       "text": [
        "[[1], [2], [3], [4]]\n"
       ]
      }
     ],
     "prompt_number": 3
    },
    {
     "cell_type": "markdown",
     "metadata": {},
     "source": [
      "## Modelo de Sudoku\n",
      "\n",
      "En lo que hemos hecho hasta ahora necesitamos una clase `Sudoku` que se pueda construir a partir de una lista de restricciones y que tenga un m\u00e9todo `get` para obtener el elemento de coordenadas dadas.  Cada elemento es una lista de n\u00fameros posibles.\n",
      "\n",
      "Conviene pararnos a pensar en los invariantes de representaci\u00f3n que debe garantizar la clase `Sudoku`.  Por un lado debe garantizar que cada celda tiene solo n\u00fameros de 1 a 9.  Por otro lado debe garantizar que en cada columna, en cada fila y en cada bloque hay posibilidad de tener todos los n\u00fameros de 1 a 9."
     ]
    },
    {
     "cell_type": "code",
     "collapsed": false,
     "input": [
      "class Sudoku(object):\n",
      "    'Sudoku modela un juego de sudoku parcialmente especificado'\n",
      "    \n",
      "    def __init__(self, restricciones):\n",
      "        '''Asume restricciones lista de listas.\n",
      "           Construye un Sudoku dadas unas restricciones. \n",
      "           Las restricciones se especifican for filas y contienen\n",
      "           todos los n\u00fameros permitidos en cada casilla'''\n",
      "        self._rep = [ restricciones[y*9:][:9] for y in range(9) ]\n",
      "        self._comprobar()\n",
      "        \n",
      "    def get(self, x, y):\n",
      "        '''Asume x, y enteros pertenecientes a range(9).\n",
      "           Devuelve el contenido de la celda de coordenadas x,y.'''\n",
      "        return self._rep[y][x]\n",
      "    \n",
      "    def __str__(self):\n",
      "        'Devuelve cadena que representa al Sudoku'\n",
      "        def str_fila(f):\n",
      "            return ','.join([str_celda(c) for c in f])\n",
      "        def str_celda(c):\n",
      "            return '[' + ' '.join([ str(i) for i in c ]) + ']'\n",
      "        return '\\n'.join([ str_fila(fila) for fila in self._rep ])\n",
      "    \n",
      "    def _comprobar(self):\n",
      "        '''Comprueba los invariantes de representaci\u00f3n y eleva \n",
      "           ValueError si no se cumplen'''\n",
      "        self._comprobar_celdas()\n",
      "        self._comprobar_filas()\n",
      "        self._comprobar_columnas()\n",
      "        self._comprobar_bloques()\n",
      "        \n",
      "    def _comprobar_celdas(self):\n",
      "        for y in range(9):\n",
      "            for x in range(9):\n",
      "                _comprobarNum(self._rep[y][x])\n",
      "        \n",
      "    def _comprobar_filas(self):\n",
      "        for y in range(9):\n",
      "            _comprobar9(self._rep[y])\n",
      "    \n",
      "    def _comprobar_columnas(self):\n",
      "        for x in range(9):\n",
      "            _comprobar9([self._rep[y][x] for y in range(9)])\n",
      "            \n",
      "    def _comprobar_bloques(self):\n",
      "        for x in range(3):\n",
      "            for y in range(3):\n",
      "                _comprobar9([self._rep[y*3 + j][x*3 + i] for j in range(3) for i in range(3)])"
     ],
     "language": "python",
     "metadata": {},
     "outputs": [],
     "prompt_number": 4
    },
    {
     "cell_type": "markdown",
     "metadata": {},
     "source": [
      "## Comprobaciones del invariante de representaci\u00f3n\n",
      "\n",
      "Hemos delegado las comprobaciones en una funci\u00f3n `comprobarNum`que comprueba que cada elemento de una casilla es una cifra v\u00e1lida, y `_comprobar9` que comprueba la consistencia de nueve casillas con cada una de las nueve cifras del 1 al 9.  A su vex \u00e9sta puede delegar en `_comprobar1` que comprueba la consistencia una cifra en particular:\n",
      "\n",
      "* Verifica que la cifra exista en alguna de las casillas.\n",
      "* Verifica que si hay casillas fijas esos valores no aparecen en el resto de casillas."
     ]
    },
    {
     "cell_type": "code",
     "collapsed": false,
     "input": [
      "def _comprobar9(L):\n",
      "    '''Asume L lista de listas.\n",
      "       Eleva excepci\u00f3n ValueError si L corresponde a conjunto\n",
      "       no consistente de restricciones. Se define '''\n",
      "    for i in range(1,10):\n",
      "        _comprobar1(L, i)\n",
      "\n",
      "def _comprobar1(L, n):\n",
      "    '''Asume L lista de listas, n entero in range(1,10).\n",
      "       Eleva excepci\u00f3n si L no corresponde a un conjunto de\n",
      "       de restricciones v\u00e1lido con respecto al n\u00famero n.'''\n",
      "    cont = sum([c.count(n) for c in L])\n",
      "    if cont < 1:\n",
      "        raise ValueError('Falta ' + str(n))\n",
      "    fijos = sum([c.count(n) for c in L if len(c) == 1])\n",
      "    if fijos > 1:\n",
      "        raise ValueError('Sobra ' + str(n))\n",
      "\n",
      "def _comprobarNum(celda):\n",
      "    '''Asume celda lista.\n",
      "       Eleva excepci\u00f3n si alg\u00fan elemento no es d\u00edgito de 1 a 9'''\n",
      "    for i in celda:\n",
      "        if not i in range(1,10):\n",
      "            raise ValueError('Valor ' + str(i) + ' no v\u00e1lido')"
     ],
     "language": "python",
     "metadata": {},
     "outputs": [],
     "prompt_number": 5
    },
    {
     "cell_type": "code",
     "collapsed": false,
     "input": [
      "s = Sudoku([\n",
      "[2],    [8],    [9],[7],  [4],[5],[6],    [1],[3],\n",
      "[7],    [6],    [3],[9],  [2],[1],[8],    [5],[4],\n",
      "[5,9],  [1,3,5],[4],[1,3],[6],[8],[1,9],  [2],[7],\n",
      "[6],    [4],    [1],[2],  [5],[9],[7],    [3],[8],\n",
      "[3],    [7],    [2],[8],  [1],[4],[5],    [6],[9],\n",
      "[8],    [9],    [5],[6],  [7],[3],[2],    [4],[1],\n",
      "[4,5,9],[1,5],  [8],[1,5],[3],[2],[1,4,9],[7],[6],\n",
      "[4,5],  [1,3,5],[7],[1,5],[8],[6],[1,4],  [9],[2],\n",
      "[1],    [2],    [6],[4],  [9],[7],[3],    [8],[5]])\n",
      "\n",
      "print resolver_sudoku(s)"
     ],
     "language": "python",
     "metadata": {},
     "outputs": [
      {
       "output_type": "stream",
       "stream": "stdout",
       "text": [
        "[2],[8],[9],[7],[4],[5],[6],[1],[3]\n",
        "[7],[6],[3],[9],[2],[1],[8],[5],[4]\n",
        "[5],[1],[4],[3],[6],[8],[9],[2],[7]\n",
        "[6],[4],[1],[2],[5],[9],[7],[3],[8]\n",
        "[3],[7],[2],[8],[1],[4],[5],[6],[9]\n",
        "[8],[9],[5],[6],[7],[3],[2],[4],[1]\n",
        "[9],[5],[8],[1],[3],[2],[4],[7],[6]\n",
        "[4],[3],[7],[5],[8],[6],[1],[9],[2]\n",
        "[1],[2],[6],[4],[9],[7],[3],[8],[5]\n"
       ]
      }
     ],
     "prompt_number": 6
    },
    {
     "cell_type": "markdown",
     "metadata": {},
     "source": [
      "## Creaci\u00f3n de Sudokus\n",
      "\n",
      "El constructor de Sudokus requiere una especificaci\u00f3n de restricciones que puede ser un poco engorrosa de teclear.  Para facilitar eso se puede hacer un *builder*, una funci\u00f3n o clase que ayuda a construir Sudokus a partir de elementos m\u00e1s simples, como cadenas de texto.\n",
      "\n",
      "Empezaremos por la versi\u00f3n m\u00e1s simple, en la que las celdas vac\u00edas equivalen a no tener ning\u00fan tipo de restricci\u00f3n. Es decir, el valor de la celda corresponde a `range(1,10)`."
     ]
    },
    {
     "cell_type": "code",
     "collapsed": false,
     "input": [
      "def crearSudoku(desc):\n",
      "    '''Asume desc una cadena que describe el Sudoku.\n",
      "       Devuelve un Sudoku que corresponde a dicha descripci\u00f3n.'''\n",
      "    restricciones = [ crearCelda(i) for i in desc if not i in ' \\r\\n' ]\n",
      "    return Sudoku(restricciones)\n",
      "    \n",
      "def crearCelda(c):\n",
      "    '''Asume c un caracter que representa una celda.\n",
      "       Devuelve la restricci\u00f3n correspondiente.\n",
      "       '.' se interpreta como celda sin rellenar.'''\n",
      "    if c == '.':\n",
      "        return range(1,10)\n",
      "    if c in '123456789':\n",
      "        return [ int(c) ]\n",
      "    raise ValueError('Caracter ' + c + ' inv\u00e1lido')"
     ],
     "language": "python",
     "metadata": {},
     "outputs": [],
     "prompt_number": 7
    },
    {
     "cell_type": "code",
     "collapsed": false,
     "input": [
      "s = crearSudoku(\n",
      "'''.....56..\n",
      "   76......4\n",
      "   .....8.27\n",
      "   .4.2...38\n",
      "   37...45..\n",
      "   .9.6.324.\n",
      "   ..8.32..6\n",
      "   ....86..2\n",
      "   .264.....''')\n",
      "\n",
      "print s"
     ],
     "language": "python",
     "metadata": {},
     "outputs": [
      {
       "output_type": "stream",
       "stream": "stdout",
       "text": [
        "[1 2 3 4 5 6 7 8 9],[1 2 3 4 5 6 7 8 9],[1 2 3 4 5 6 7 8 9],[1 2 3 4 5 6 7 8 9],[1 2 3 4 5 6 7 8 9],[5],[6],[1 2 3 4 5 6 7 8 9],[1 2 3 4 5 6 7 8 9]\n",
        "[7],[6],[1 2 3 4 5 6 7 8 9],[1 2 3 4 5 6 7 8 9],[1 2 3 4 5 6 7 8 9],[1 2 3 4 5 6 7 8 9],[1 2 3 4 5 6 7 8 9],[1 2 3 4 5 6 7 8 9],[4]\n",
        "[1 2 3 4 5 6 7 8 9],[1 2 3 4 5 6 7 8 9],[1 2 3 4 5 6 7 8 9],[1 2 3 4 5 6 7 8 9],[1 2 3 4 5 6 7 8 9],[8],[1 2 3 4 5 6 7 8 9],[2],[7]\n",
        "[1 2 3 4 5 6 7 8 9],[4],[1 2 3 4 5 6 7 8 9],[2],[1 2 3 4 5 6 7 8 9],[1 2 3 4 5 6 7 8 9],[1 2 3 4 5 6 7 8 9],[3],[8]\n",
        "[3],[7],[1 2 3 4 5 6 7 8 9],[1 2 3 4 5 6 7 8 9],[1 2 3 4 5 6 7 8 9],[4],[5],[1 2 3 4 5 6 7 8 9],[1 2 3 4 5 6 7 8 9]\n",
        "[1 2 3 4 5 6 7 8 9],[9],[1 2 3 4 5 6 7 8 9],[6],[1 2 3 4 5 6 7 8 9],[3],[2],[4],[1 2 3 4 5 6 7 8 9]\n",
        "[1 2 3 4 5 6 7 8 9],[1 2 3 4 5 6 7 8 9],[8],[1 2 3 4 5 6 7 8 9],[3],[2],[1 2 3 4 5 6 7 8 9],[1 2 3 4 5 6 7 8 9],[6]\n",
        "[1 2 3 4 5 6 7 8 9],[1 2 3 4 5 6 7 8 9],[1 2 3 4 5 6 7 8 9],[1 2 3 4 5 6 7 8 9],[8],[6],[1 2 3 4 5 6 7 8 9],[1 2 3 4 5 6 7 8 9],[2]\n",
        "[1 2 3 4 5 6 7 8 9],[2],[6],[4],[1 2 3 4 5 6 7 8 9],[1 2 3 4 5 6 7 8 9],[1 2 3 4 5 6 7 8 9],[1 2 3 4 5 6 7 8 9],[1 2 3 4 5 6 7 8 9]\n"
       ]
      }
     ],
     "prompt_number": 8
    },
    {
     "cell_type": "markdown",
     "metadata": {},
     "source": [
      "Sin embargo no nos podemos plantear resolver el sudoku con estas restricciones. Hay demasiadas posibilidades.\n",
      "\n",
      "Una forma efectiva es eliminar de las casillas no fijas aquellos n\u00fameros que est\u00e1n en las casillas fijas de la misma columna, fila o grupo."
     ]
    },
    {
     "cell_type": "code",
     "collapsed": false,
     "input": [
      "def crearSudoku(desc):\n",
      "    '''Asume desc una cadena que describe el Sudoku.\n",
      "       Devuelve un Sudoku que corresponde a dicha descripci\u00f3n.'''\n",
      "    restricciones = [ crearCelda(i) for i in desc if not i in ' \\r\\n' ]\n",
      "    filtrarRestricciones(restricciones)\n",
      "    return Sudoku(restricciones)\n",
      "\n",
      "def filtrarRestricciones(r):\n",
      "    '''Asume r una lista de listas.\n",
      "       Elimina de los elementos de r todos aquellos candidatos que ya\n",
      "       est\u00e1n en una celda fija de la misma fila, columna o bloque. Una\n",
      "       celda fija es aquella en la que solo hay un candidato.\n",
      "    '''\n",
      "    while True:\n",
      "        nuevos_fijos = filtrarFilas(r) \\\n",
      "                       or filtrarColumnas(r) \\\n",
      "                       or filtrarBloques(r)\n",
      "        if not nuevos_fijos: break\n",
      "    \n",
      "def filtrarFilas(r):\n",
      "    '''Asume r lista de listas.\n",
      "       Elimina de los elementos de r los candidatos que ya est\u00e1n\n",
      "       en una celda fija de la misma fila.\n",
      "       Devuelve True si han aparecido nuevas celdas fijas y False\n",
      "       en caso contrario.'''\n",
      "    nuevos_fijos = False\n",
      "    for i in range(9):\n",
      "        nuevos_fijos = nuevos_fijos or eliminarRepetidos(r[i*9:(i+1)*9])\n",
      "    return nuevos_fijos\n",
      "\n",
      "def filtrarColumnas(r):\n",
      "    '''Asume r lista de listas.\n",
      "       Elimina de los elementos de r los candidatos que ya est\u00e1n\n",
      "       en una celda fija de la misma columna.\n",
      "       Devuelve True si han aparecido nuevas celdas fijas y False\n",
      "       en caso contrario.'''\n",
      "    nuevos_fijos = False\n",
      "    for i in range(9):\n",
      "        nuevos_fijos = nuevos_fijos or eliminarRepetidos(r[i::9])\n",
      "    return nuevos_fijos\n",
      "\n",
      "def filtrarBloques(r):\n",
      "    '''Asume r lista de listas.\n",
      "       Elimina de los elementos de r los candidatos que ya est\u00e1n\n",
      "       en una celda fija del mismo bloque.\n",
      "       Devuelve True si han aparecido nuevas celdas fijas y False\n",
      "       en caso contrario.'''\n",
      "    nuevos_fijos = False\n",
      "    for y in range(0,9,3):\n",
      "        for x in range(0,9,3):\n",
      "            nuevos_fijos = nuevos_fijos or filtrarBloque(r, x, y)\n",
      "    return nuevos_fijos\n",
      "\n",
      "def filtrarBloque(r, x, y):  \n",
      "    '''Asume r lista de listas, x e y enteros.\n",
      "       Elimina de los elementos de r los candidatos que ya est\u00e1n\n",
      "       en una celda fija del bloque que empieza en las coordenadas\n",
      "       (x, y).\n",
      "       Devuelve True si han aparecido nuevas celdas fijas y False\n",
      "       en caso contrario.'''\n",
      "    l = []\n",
      "    o = y*9+x\n",
      "    for o in range(o, o+27, 9):\n",
      "        l += r[o:o+3]\n",
      "    nuevos_fijos = eliminarRepetidos(l)\n",
      "    o = y*9+x\n",
      "    for i in range(0,9,3):\n",
      "        r[o:o+3] = l[i:i+3]\n",
      "        o += 9\n",
      "    return nuevos_fijos"
     ],
     "language": "python",
     "metadata": {},
     "outputs": [],
     "prompt_number": 9
    },
    {
     "cell_type": "markdown",
     "metadata": {},
     "source": [
      "Queda la funci\u00f3n para eliminar repetidos en un conjunto de nueve restricciones (fila, columna o bloque)."
     ]
    },
    {
     "cell_type": "code",
     "collapsed": false,
     "input": [
      "def eliminarRepetidos(L):\n",
      "    '''Asume L lista de nueve restricciones.\n",
      "       Elimina elementos que ya est\u00e1n en una celda fija.\n",
      "       Una celda fija es aquella que solo tiene un elemento.\n",
      "       Devuelve True si han aparecido nuevas celdas fijas y False\n",
      "       en caso contrario.'''\n",
      "    nuevos_fijos = False\n",
      "    for c in L:\n",
      "        if len(c) == 1:\n",
      "            nuevos_fijos = nuevos_fijos or eliminarFijoRepetido(L, c[0])\n",
      "    return nuevos_fijos\n",
      "\n",
      "def eliminarFijoRepetido(L, n):\n",
      "    '''Asume L lista de nueve restricciones, n cifra de 1 a 9.\n",
      "       Elimina las apariciones de n en las celdas de L con m\u00e1s de un \n",
      "       elemento.\n",
      "       Devuelve True si han aparecido nuevas celdas fijas y False\n",
      "       en caso contrario.'''\n",
      "    nuevos_fijos = False\n",
      "    for c in L:\n",
      "        nuevos_fijos = nuevos_fijos or eliminarCandidato(c, n)\n",
      "    return nuevos_fijos\n",
      "\n",
      "def eliminarCandidato(celda, n):\n",
      "    '''Asume celda lista de cifras de 1 a 9, n cifra de 1 a 9.\n",
      "       Elimina n de la celda si estaba.\n",
      "       Devuelve True si celda ten\u00eda a n y ha quedado con un solo \n",
      "       elemento y False en caso contrario.'''\n",
      "    if len(celda) > 1 and n in celda:\n",
      "        celda.remove(n)\n",
      "        if len(celda) == 1:\n",
      "            return True\n",
      "    return False"
     ],
     "language": "python",
     "metadata": {},
     "outputs": [],
     "prompt_number": 10
    },
    {
     "cell_type": "code",
     "collapsed": false,
     "input": [
      "def prueba_filtrarBloque():\n",
      "    r = [ \\\n",
      "[2,1],[7],[5],[6],[3],[8],[9],[4],[1],\n",
      "[8],[6],[1],[4],[7],[9],[5],[3],[2],\n",
      "[9],[3],[4],[1],[2],[5],[8],[7],[6],\n",
      "[7],[9],[3],[2],[8],[6],[1],[5],[4],\n",
      "[4],[2],[6],[5],[1],[7],[3],[8],[9],\n",
      "[5],[1],[8],[9],[4],[3],[2],[6],[7],\n",
      "[6],[8],[9],[7],[5],[2],[4],[1],[3],\n",
      "[1],[5],[2],[3],[6],[4],[7],[9],[8],\n",
      "[3],[4],[7],[8],[9],[1],[6],[2],[5]]\n",
      "    print filtrarBloque(r, 0, 0)\n",
      "    print r\n",
      "    \n",
      "prueba_filtrarBloque()"
     ],
     "language": "python",
     "metadata": {},
     "outputs": [
      {
       "output_type": "stream",
       "stream": "stdout",
       "text": [
        "True\n",
        "[[2], [7], [5], [6], [3], [8], [9], [4], [1], [8], [6], [1], [4], [7], [9], [5], [3], [2], [9], [3], [4], [1], [2], [5], [8], [7], [6], [7], [9], [3], [2], [8], [6], [1], [5], [4], [4], [2], [6], [5], [1], [7], [3], [8], [9], [5], [1], [8], [9], [4], [3], [2], [6], [7], [6], [8], [9], [7], [5], [2], [4], [1], [3], [1], [5], [2], [3], [6], [4], [7], [9], [8], [3], [4], [7], [8], [9], [1], [6], [2], [5]]\n"
       ]
      }
     ],
     "prompt_number": 11
    },
    {
     "cell_type": "code",
     "collapsed": false,
     "input": [
      "s = crearSudoku(\n",
      "'''.....56..\n",
      "   76......4\n",
      "   .....8.27\n",
      "   .4.2...38\n",
      "   37...45..\n",
      "   .9.6.324.\n",
      "   ..8.32..6\n",
      "   ....86..2\n",
      "   .264.....''')\n",
      "\n",
      "print s"
     ],
     "language": "python",
     "metadata": {},
     "outputs": [
      {
       "output_type": "stream",
       "stream": "stdout",
       "text": [
        "[2],[8],[9],[7],[4],[5],[6],[1],[3]\n",
        "[7],[6],[3],[9],[2],[1],[8],[5],[4]\n",
        "[5],[1],[4],[3],[6],[8],[9],[2],[7]\n",
        "[6],[4],[1],[2],[5],[9],[7],[3],[8]\n",
        "[3],[7],[2],[8],[1],[4],[5],[6],[9]\n",
        "[8],[9],[5],[6],[7],[3],[2],[4],[1]\n",
        "[9],[5],[8],[1],[3],[2],[4],[7],[6]\n",
        "[4],[3],[7],[5],[8],[6],[1],[9],[2]\n",
        "[1],[2],[6],[4],[9],[7],[3],[8],[5]\n"
       ]
      }
     ],
     "prompt_number": 12
    },
    {
     "cell_type": "markdown",
     "metadata": {},
     "source": [
      "La eliminaci\u00f3n de los elementos fijos es muy efectiva pero no elimina completamente las incertidumbres en todos los casos.  Prueba con Sudokus dif\u00edciles para ver alg\u00fan ejemplo.\n",
      "\n",
      "Evidentemente si resolvemos un Sudoku completamente especificado resulta en lo mismo."
     ]
    },
    {
     "cell_type": "code",
     "collapsed": false,
     "input": [
      "print resolver_sudoku(s)"
     ],
     "language": "python",
     "metadata": {},
     "outputs": [
      {
       "output_type": "stream",
       "stream": "stdout",
       "text": [
        "[2],[8],[9],[7],[4],[5],[6],[1],[3]\n",
        "[7],[6],[3],[9],[2],[1],[8],[5],[4]\n",
        "[5],[1],[4],[3],[6],[8],[9],[2],[7]\n",
        "[6],[4],[1],[2],[5],[9],[7],[3],[8]\n",
        "[3],[7],[2],[8],[1],[4],[5],[6],[9]\n",
        "[8],[9],[5],[6],[7],[3],[2],[4],[1]\n",
        "[9],[5],[8],[1],[3],[2],[4],[7],[6]\n",
        "[4],[3],[7],[5],[8],[6],[1],[9],[2]\n",
        "[1],[2],[6],[4],[9],[7],[3],[8],[5]\n"
       ]
      }
     ],
     "prompt_number": 13
    }
   ],
   "metadata": {}
  }
 ]
}