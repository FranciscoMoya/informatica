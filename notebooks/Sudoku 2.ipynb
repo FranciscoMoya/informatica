{
 "cells": [
  {
   "cell_type": "markdown",
   "metadata": {},
   "source": [
    "# Resolución de Sudokus\n",
    "\n",
    "Ya hemos resuelto el problema de comprobar un Sudoku. Vamos ahora a hacer un programa que resuelve Sudokus.  Plantéatelo como un caso de estudio que se parece mucho a los problemas de exámen.  Para ello vamos a utilizar clases.\n",
    "\n",
    "Como siempre utilizaremos un diseño top-down. Empezaremos por resolver el problema asumiendo que está resuelto cualquier subproblema de más bajo nivel.\n",
    "\n",
    "Puede modelarse como un problema de árboles de decisión pero en lugar de un árbol binario se trata de un árbol con tantas ramas como opciones disponibles hay en cada casilla.  Para validar la solución simplemente tenemos que intentar construir un Sudoku. Si no fuera posible es que las nuevas restricciones no son consistentes."
   ]
  },
  {
   "cell_type": "code",
   "execution_count": 1,
   "metadata": {
    "collapsed": false
   },
   "outputs": [],
   "source": [
    "def resolver_sudoku(sudoku):\n",
    "    '''Asume sudoku de tipo Sudoku parcialmente especificado.\n",
    "       Devuelve un Sudoku solución del que se pasa como argumento.'''\n",
    "    restricciones = [ sudoku.get(x,y) for y in range(9) for x in range(9) ]\n",
    "    return buscar_solucion(restricciones, Sudoku)"
   ]
  },
  {
   "cell_type": "markdown",
   "metadata": {},
   "source": [
    "La función `buscar_solucion` puede hacerse de forma genérica para cualquier problema de toma de decisiones dadas unas restricciones y una clase que se instancia (o una función que se llama) con esas restricciones.\n",
    "\n",
    "El funcionamiento es muy simple. La función debe ir fijando valores para cada casilla y probar todos los demás valores en las siguientes casillas.  Así en un momento dado tendremos una serie de valores ya fijados y la misma función `buscar_solucion` se invocará para probar todos los valores que permiten las restricciones a partir de un punto dado."
   ]
  },
  {
   "cell_type": "code",
   "execution_count": 2,
   "metadata": {
    "collapsed": false
   },
   "outputs": [],
   "source": [
    "def buscar_solucion(restricciones, solucion, desde = 0):\n",
    "    '''Asume 'restricciones' una lista de listas, \n",
    "       'solucion' una clase o función, \n",
    "       'desde' un entero <= len(restricciones).\n",
    "       Si solucion(x) no es válida 'solucion' eleva ValueError.\n",
    "\n",
    "       Devuelve el resultado de llamar a solucion con un conjunto\n",
    "       de restricciones completo (cada elemento tiene un solo elemento).\n",
    "       Si no existe ninguna solución válida eleva excepción ValueError.'''\n",
    "    if desde >= len(restricciones):\n",
    "        return solucion(restricciones)\n",
    "    \n",
    "    for i in restricciones[desde]:\n",
    "        tentativa = restricciones[:desde] + [[i]] + restricciones[desde+1:]\n",
    "        try: return buscar_solucion(tentativa, solucion, desde+1)\n",
    "        except ValueError: pass\n",
    "        \n",
    "    raise ValueError('No hay solución')"
   ]
  },
  {
   "cell_type": "markdown",
   "metadata": {},
   "source": [
    "Probemos con un ejemplo sencillo."
   ]
  },
  {
   "cell_type": "code",
   "execution_count": 3,
   "metadata": {
    "collapsed": false
   },
   "outputs": [
    {
     "name": "stdout",
     "output_type": "stream",
     "text": [
      "[[1], [2], [3], [4]]\n"
     ]
    }
   ],
   "source": [
    "def sol(x):\n",
    "    for i in x: \n",
    "        if x.count(i) > 1: raise ValueError('Repetidos')\n",
    "    return x\n",
    "\n",
    "print(buscar_solucion([[1], [2], [2, 3], [3, 4]], sol))"
   ]
  },
  {
   "cell_type": "markdown",
   "metadata": {},
   "source": [
    "## Modelo de Sudoku\n",
    "\n",
    "En lo que hemos hecho hasta ahora necesitamos una clase `Sudoku` que se pueda construir a partir de una lista de restricciones y que tenga un método `get` para obtener el elemento de coordenadas dadas.  Cada elemento es una lista de números posibles.\n",
    "\n",
    "Conviene pararnos a pensar en los invariantes de representación que debe garantizar la clase `Sudoku`.  Por un lado debe garantizar que cada celda tiene solo números de 1 a 9.  Por otro lado debe garantizar que en cada columna, en cada fila y en cada bloque hay posibilidad de tener todos los números de 1 a 9."
   ]
  },
  {
   "cell_type": "code",
   "execution_count": 4,
   "metadata": {
    "collapsed": false
   },
   "outputs": [],
   "source": [
    "class Sudoku(object):\n",
    "    'Sudoku modela un juego de sudoku parcialmente especificado'\n",
    "    \n",
    "    def __init__(self, restricciones):\n",
    "        '''Asume restricciones lista de listas.\n",
    "           Construye un Sudoku dadas unas restricciones. \n",
    "           Las restricciones se especifican for filas y contienen\n",
    "           todos los números permitidos en cada casilla'''\n",
    "        self._rep = [ restricciones[y*9:][:9] for y in range(9) ]\n",
    "        self._comprobar()\n",
    "        \n",
    "    def get(self, x, y):\n",
    "        '''Asume x, y enteros pertenecientes a range(9).\n",
    "           Devuelve el contenido de la celda de coordenadas x,y.'''\n",
    "        return self._rep[y][x]\n",
    "    \n",
    "    def __str__(self):\n",
    "        'Devuelve cadena que representa al Sudoku'\n",
    "        def str_fila(f):\n",
    "            return ','.join([str_celda(c) for c in f])\n",
    "        def str_celda(c):\n",
    "            return '[' + ' '.join([ str(i) for i in c ]) + ']'\n",
    "        return '\\n'.join([ str_fila(fila) for fila in self._rep ])\n",
    "    \n",
    "    def _comprobar(self):\n",
    "        '''Comprueba los invariantes de representación y eleva \n",
    "           ValueError si no se cumplen'''\n",
    "        self._comprobar_celdas()\n",
    "        self._comprobar_filas()\n",
    "        self._comprobar_columnas()\n",
    "        self._comprobar_bloques()\n",
    "        \n",
    "    def _comprobar_celdas(self):\n",
    "        for y in range(9):\n",
    "            for x in range(9):\n",
    "                _comprobarNum(self._rep[y][x])\n",
    "        \n",
    "    def _comprobar_filas(self):\n",
    "        for y in range(9):\n",
    "            _comprobar9(self._rep[y])\n",
    "    \n",
    "    def _comprobar_columnas(self):\n",
    "        for x in range(9):\n",
    "            _comprobar9([self._rep[y][x] for y in range(9)])\n",
    "            \n",
    "    def _comprobar_bloques(self):\n",
    "        for x in range(3):\n",
    "            for y in range(3):\n",
    "                _comprobar9([self._rep[y*3 + j][x*3 + i] for j in range(3) for i in range(3)])"
   ]
  },
  {
   "cell_type": "markdown",
   "metadata": {},
   "source": [
    "## Comprobaciones del invariante de representación\n",
    "\n",
    "Hemos delegado las comprobaciones en una función `comprobarNum`que comprueba que cada elemento de una casilla es una cifra válida, y `_comprobar9` que comprueba la consistencia de nueve casillas con cada una de las nueve cifras del 1 al 9.  A su vex ésta puede delegar en `_comprobar1` que comprueba la consistencia una cifra en particular:\n",
    "\n",
    "* Verifica que la cifra exista en alguna de las casillas.\n",
    "* Verifica que si hay casillas fijas esos valores no aparecen en el resto de casillas."
   ]
  },
  {
   "cell_type": "code",
   "execution_count": 5,
   "metadata": {
    "collapsed": false
   },
   "outputs": [],
   "source": [
    "def _comprobar9(L):\n",
    "    '''Asume L lista de listas.\n",
    "       Eleva excepción ValueError si L corresponde a conjunto\n",
    "       no consistente de restricciones. Se define '''\n",
    "    for i in range(1,10):\n",
    "        _comprobar1(L, i)\n",
    "\n",
    "def _comprobar1(L, n):\n",
    "    '''Asume L lista de listas, n entero in range(1,10).\n",
    "       Eleva excepción si L no corresponde a un conjunto de\n",
    "       de restricciones válido con respecto al número n.'''\n",
    "    cont = sum([c.count(n) for c in L])\n",
    "    if cont < 1:\n",
    "        raise ValueError('Falta ' + str(n))\n",
    "    fijos = sum([c.count(n) for c in L if len(c) == 1])\n",
    "    if fijos > 1:\n",
    "        raise ValueError('Sobra ' + str(n))\n",
    "\n",
    "def _comprobarNum(celda):\n",
    "    '''Asume celda lista.\n",
    "       Eleva excepción si algún elemento no es dígito de 1 a 9'''\n",
    "    for i in celda:\n",
    "        if not i in range(1,10):\n",
    "            raise ValueError('Valor ' + str(i) + ' no válido')"
   ]
  },
  {
   "cell_type": "code",
   "execution_count": 6,
   "metadata": {
    "collapsed": false
   },
   "outputs": [
    {
     "name": "stdout",
     "output_type": "stream",
     "text": [
      "[2],[8],[9],[7],[4],[5],[6],[1],[3]\n",
      "[7],[6],[3],[9],[2],[1],[8],[5],[4]\n",
      "[5],[1],[4],[3],[6],[8],[9],[2],[7]\n",
      "[6],[4],[1],[2],[5],[9],[7],[3],[8]\n",
      "[3],[7],[2],[8],[1],[4],[5],[6],[9]\n",
      "[8],[9],[5],[6],[7],[3],[2],[4],[1]\n",
      "[9],[5],[8],[1],[3],[2],[4],[7],[6]\n",
      "[4],[3],[7],[5],[8],[6],[1],[9],[2]\n",
      "[1],[2],[6],[4],[9],[7],[3],[8],[5]\n"
     ]
    }
   ],
   "source": [
    "s = Sudoku([\n",
    "[2],    [8],    [9],[7],  [4],[5],[6],    [1],[3],\n",
    "[7],    [6],    [3],[9],  [2],[1],[8],    [5],[4],\n",
    "[5,9],  [1,3,5],[4],[1,3],[6],[8],[1,9],  [2],[7],\n",
    "[6],    [4],    [1],[2],  [5],[9],[7],    [3],[8],\n",
    "[3],    [7],    [2],[8],  [1],[4],[5],    [6],[9],\n",
    "[8],    [9],    [5],[6],  [7],[3],[2],    [4],[1],\n",
    "[4,5,9],[1,5],  [8],[1,5],[3],[2],[1,4,9],[7],[6],\n",
    "[4,5],  [1,3,5],[7],[1,5],[8],[6],[1,4],  [9],[2],\n",
    "[1],    [2],    [6],[4],  [9],[7],[3],    [8],[5]])\n",
    "\n",
    "print(resolver_sudoku(s))"
   ]
  },
  {
   "cell_type": "markdown",
   "metadata": {},
   "source": [
    "## Creación de Sudokus\n",
    "\n",
    "El constructor de Sudokus requiere una especificación de restricciones que puede ser un poco engorrosa de teclear.  Para facilitar eso se puede hacer un *builder*, una función o clase que ayuda a construir Sudokus a partir de elementos más simples, como cadenas de texto.\n",
    "\n",
    "Empezaremos por la versión más simple, en la que las celdas vacías equivalen a no tener ningún tipo de restricción. Es decir, el valor de la celda corresponde a `range(1,10)`."
   ]
  },
  {
   "cell_type": "code",
   "execution_count": 7,
   "metadata": {
    "collapsed": false
   },
   "outputs": [],
   "source": [
    "def crearSudoku(desc):\n",
    "    '''Asume desc una cadena que describe el Sudoku.\n",
    "       Devuelve un Sudoku que corresponde a dicha descripción.'''\n",
    "    restricciones = [ crearCelda(i) for i in desc if not i in ' \\r\\n' ]\n",
    "    return Sudoku(restricciones)\n",
    "    \n",
    "def crearCelda(c):\n",
    "    '''Asume c un caracter que representa una celda.\n",
    "       Devuelve la restricción correspondiente.\n",
    "       '.' se interpreta como celda sin rellenar.'''\n",
    "    if c == '.':\n",
    "        return list(range(1,10))\n",
    "    if c in '123456789':\n",
    "        return [ int(c) ]\n",
    "    raise ValueError('Caracter ' + c + ' inválido')"
   ]
  },
  {
   "cell_type": "code",
   "execution_count": 8,
   "metadata": {
    "collapsed": false
   },
   "outputs": [
    {
     "name": "stdout",
     "output_type": "stream",
     "text": [
      "[1 2 3 4 5 6 7 8 9],[1 2 3 4 5 6 7 8 9],[1 2 3 4 5 6 7 8 9],[1 2 3 4 5 6 7 8 9],[1 2 3 4 5 6 7 8 9],[5],[6],[1 2 3 4 5 6 7 8 9],[1 2 3 4 5 6 7 8 9]\n",
      "[7],[6],[1 2 3 4 5 6 7 8 9],[1 2 3 4 5 6 7 8 9],[1 2 3 4 5 6 7 8 9],[1 2 3 4 5 6 7 8 9],[1 2 3 4 5 6 7 8 9],[1 2 3 4 5 6 7 8 9],[4]\n",
      "[1 2 3 4 5 6 7 8 9],[1 2 3 4 5 6 7 8 9],[1 2 3 4 5 6 7 8 9],[1 2 3 4 5 6 7 8 9],[1 2 3 4 5 6 7 8 9],[8],[1 2 3 4 5 6 7 8 9],[2],[7]\n",
      "[1 2 3 4 5 6 7 8 9],[4],[1 2 3 4 5 6 7 8 9],[2],[1 2 3 4 5 6 7 8 9],[1 2 3 4 5 6 7 8 9],[1 2 3 4 5 6 7 8 9],[3],[8]\n",
      "[3],[7],[1 2 3 4 5 6 7 8 9],[1 2 3 4 5 6 7 8 9],[1 2 3 4 5 6 7 8 9],[4],[5],[1 2 3 4 5 6 7 8 9],[1 2 3 4 5 6 7 8 9]\n",
      "[1 2 3 4 5 6 7 8 9],[9],[1 2 3 4 5 6 7 8 9],[6],[1 2 3 4 5 6 7 8 9],[3],[2],[4],[1 2 3 4 5 6 7 8 9]\n",
      "[1 2 3 4 5 6 7 8 9],[1 2 3 4 5 6 7 8 9],[8],[1 2 3 4 5 6 7 8 9],[3],[2],[1 2 3 4 5 6 7 8 9],[1 2 3 4 5 6 7 8 9],[6]\n",
      "[1 2 3 4 5 6 7 8 9],[1 2 3 4 5 6 7 8 9],[1 2 3 4 5 6 7 8 9],[1 2 3 4 5 6 7 8 9],[8],[6],[1 2 3 4 5 6 7 8 9],[1 2 3 4 5 6 7 8 9],[2]\n",
      "[1 2 3 4 5 6 7 8 9],[2],[6],[4],[1 2 3 4 5 6 7 8 9],[1 2 3 4 5 6 7 8 9],[1 2 3 4 5 6 7 8 9],[1 2 3 4 5 6 7 8 9],[1 2 3 4 5 6 7 8 9]\n"
     ]
    }
   ],
   "source": [
    "s = crearSudoku(\n",
    "'''.....56..\n",
    "   76......4\n",
    "   .....8.27\n",
    "   .4.2...38\n",
    "   37...45..\n",
    "   .9.6.324.\n",
    "   ..8.32..6\n",
    "   ....86..2\n",
    "   .264.....''')\n",
    "\n",
    "print(s)"
   ]
  },
  {
   "cell_type": "markdown",
   "metadata": {},
   "source": [
    "Sin embargo no nos podemos plantear resolver el sudoku con estas restricciones. Hay demasiadas posibilidades. ¿Sabes cuántas? Prueba a calcularlas con un pequeño programita.  Si te rindes mira más adelante en este documento.\n",
    "\n",
    "Una forma efectiva es eliminar de las casillas no fijas aquellos números que están en las casillas fijas de la misma columna, fila o grupo."
   ]
  },
  {
   "cell_type": "code",
   "execution_count": 9,
   "metadata": {
    "collapsed": false
   },
   "outputs": [],
   "source": [
    "def crearSudoku(desc):\n",
    "    '''Asume desc una cadena que describe el Sudoku.\n",
    "       Devuelve un Sudoku que corresponde a dicha descripción.'''\n",
    "    restricciones = [ crearCelda(i) for i in desc if not i in ' \\r\\n' ]\n",
    "    filtrarRestricciones(restricciones)\n",
    "    return Sudoku(restricciones)\n",
    "\n",
    "def filtrarRestricciones(r):\n",
    "    '''Asume r una lista de listas.\n",
    "       Elimina de los elementos de r todos aquellos candidatos que ya\n",
    "       están en una celda fija de la misma fila, columna o bloque. Una\n",
    "       celda fija es aquella en la que solo hay un candidato.\n",
    "    '''\n",
    "    while True:\n",
    "        nuevos_fijos = filtrarFilas(r) \\\n",
    "                       or filtrarColumnas(r) \\\n",
    "                       or filtrarBloques(r)\n",
    "        if not nuevos_fijos: break\n",
    "    \n",
    "def filtrarFilas(r):\n",
    "    '''Asume r lista de listas.\n",
    "       Elimina de los elementos de r los candidatos que ya están\n",
    "       en una celda fija de la misma fila.\n",
    "       Devuelve True si han aparecido nuevas celdas fijas y False\n",
    "       en caso contrario.'''\n",
    "    nuevos_fijos = False\n",
    "    for i in range(9):\n",
    "        nuevos_fijos = nuevos_fijos or eliminarRepetidos(r[i*9:(i+1)*9])\n",
    "    return nuevos_fijos\n",
    "\n",
    "def filtrarColumnas(r):\n",
    "    '''Asume r lista de listas.\n",
    "       Elimina de los elementos de r los candidatos que ya están\n",
    "       en una celda fija de la misma columna.\n",
    "       Devuelve True si han aparecido nuevas celdas fijas y False\n",
    "       en caso contrario.'''\n",
    "    nuevos_fijos = False\n",
    "    for i in range(9):\n",
    "        nuevos_fijos = nuevos_fijos or eliminarRepetidos(r[i::9])\n",
    "    return nuevos_fijos\n",
    "\n",
    "def filtrarBloques(r):\n",
    "    '''Asume r lista de listas.\n",
    "       Elimina de los elementos de r los candidatos que ya están\n",
    "       en una celda fija del mismo bloque.\n",
    "       Devuelve True si han aparecido nuevas celdas fijas y False\n",
    "       en caso contrario.'''\n",
    "    nuevos_fijos = False\n",
    "    for y in range(0,9,3):\n",
    "        for x in range(0,9,3):\n",
    "            nuevos_fijos = nuevos_fijos or filtrarBloque(r, x, y)\n",
    "    return nuevos_fijos\n",
    "\n",
    "def filtrarBloque(r, x, y):  \n",
    "    '''Asume r lista de listas, x e y enteros.\n",
    "       Elimina de los elementos de r los candidatos que ya están\n",
    "       en una celda fija del bloque que empieza en las coordenadas\n",
    "       (x, y).\n",
    "       Devuelve True si han aparecido nuevas celdas fijas y False\n",
    "       en caso contrario.'''\n",
    "    l = []\n",
    "    o = y*9+x\n",
    "    for o in range(o, o+27, 9):\n",
    "        l += r[o:o+3]\n",
    "    nuevos_fijos = eliminarRepetidos(l)\n",
    "    o = y*9+x\n",
    "    for i in range(0,9,3):\n",
    "        r[o:o+3] = l[i:i+3]\n",
    "        o += 9\n",
    "    return nuevos_fijos"
   ]
  },
  {
   "cell_type": "markdown",
   "metadata": {},
   "source": [
    "Queda la función para eliminar repetidos en un conjunto de nueve restricciones (fila, columna o bloque)."
   ]
  },
  {
   "cell_type": "code",
   "execution_count": 10,
   "metadata": {
    "collapsed": false
   },
   "outputs": [],
   "source": [
    "def eliminarRepetidos(L):\n",
    "    '''Asume L lista de nueve restricciones.\n",
    "       Elimina elementos que ya están en una celda fija.\n",
    "       Una celda fija es aquella que solo tiene un elemento.\n",
    "       Devuelve True si han aparecido nuevas celdas fijas y False\n",
    "       en caso contrario.'''\n",
    "    nuevos_fijos = False\n",
    "    for c in L:\n",
    "        if len(c) == 1:\n",
    "            nuevos_fijos = nuevos_fijos or eliminarFijoRepetido(L, c[0])\n",
    "    return nuevos_fijos\n",
    "\n",
    "def eliminarFijoRepetido(L, n):\n",
    "    '''Asume L lista de nueve restricciones, n cifra de 1 a 9.\n",
    "       Elimina las apariciones de n en las celdas de L con más de un \n",
    "       elemento.\n",
    "       Devuelve True si han aparecido nuevas celdas fijas y False\n",
    "       en caso contrario.'''\n",
    "    nuevos_fijos = False\n",
    "    for c in L:\n",
    "        nuevos_fijos = nuevos_fijos or eliminarCandidato(c, n)\n",
    "    return nuevos_fijos\n",
    "\n",
    "def eliminarCandidato(celda, n):\n",
    "    '''Asume celda lista de cifras de 1 a 9, n cifra de 1 a 9.\n",
    "       Elimina n de la celda si estaba.\n",
    "       Devuelve True si celda tenía a n y ha quedado con un solo \n",
    "       elemento y False en caso contrario.'''\n",
    "    if len(celda) > 1 and n in celda:\n",
    "        celda.remove(n)\n",
    "        if len(celda) == 1:\n",
    "            return True\n",
    "    return False"
   ]
  },
  {
   "cell_type": "markdown",
   "metadata": {},
   "source": [
    "No pienses que todo este código ha salido funcionando a la primera. Siempre hay errores, siempre hay que aplicar el método que hemos descrito en clase para encontrar los errores.\n",
    "\n",
    "Pero no esperes a tener todo escrito. Prueba las funciones conforme las vayas escribiendo.  Por ejemplo, esta podría ser una prueba de `filtrarBloque`."
   ]
  },
  {
   "cell_type": "code",
   "execution_count": 11,
   "metadata": {
    "collapsed": false
   },
   "outputs": [
    {
     "name": "stdout",
     "output_type": "stream",
     "text": [
      "True\n",
      "[[2, 1], [7], [5], [6], [3], [8], [9], [4], [1], [8], [6], [1], [4], [7], [9], [5], [3], [2], [9], [3], [4], [1], [2], [5], [8], [7], [6], [7], [9], [3], [2], [8], [6], [1], [5], [4], [4], [2], [6], [5], [1], [7], [3], [8], [9], [5], [1], [8], [9], [4], [3], [2], [6], [7], [6], [8], [9], [7], [5], [2], [4], [1], [3], [1], [5], [2], [3], [6], [4], [7], [9], [8], [3], [4], [7], [8], [9], [1], [6], [2], [5]]\n"
     ]
    }
   ],
   "source": [
    "def prueba_filtrarBloque():\n",
    "    r = [ \\\n",
    "[2,1],[7,8],[5],[6],[3],[8],[9],[4],[1],\n",
    "[8],[6],[1],[4],[7],[9],[5],[3],[2],\n",
    "[9],[3],[4],[1],[2],[5],[8],[7],[6],\n",
    "[7],[9],[3],[2],[8],[6],[1],[5],[4],\n",
    "[4],[2],[6],[5],[1],[7],[3],[8],[9],\n",
    "[5],[1],[8],[9],[4],[3],[2],[6],[7],\n",
    "[6],[8],[9],[7],[5],[2],[4],[1],[3],\n",
    "[1],[5],[2],[3],[6],[4],[7],[9],[8],\n",
    "[3],[4],[7],[8],[9],[1],[6],[2],[5]]\n",
    "    print(filtrarBloque(r, 0, 0))\n",
    "    print(r)\n",
    "    \n",
    "prueba_filtrarBloque()"
   ]
  },
  {
   "cell_type": "code",
   "execution_count": 12,
   "metadata": {
    "collapsed": false
   },
   "outputs": [
    {
     "name": "stdout",
     "output_type": "stream",
     "text": [
      "[2],[8],[9],[7],[4],[5],[6],[1],[3]\n",
      "[7],[6],[3],[9],[2],[1],[8],[5],[4]\n",
      "[5],[1],[4],[3],[6],[8],[9],[2],[7]\n",
      "[6],[4],[1],[2],[5],[9],[7],[3],[8]\n",
      "[3],[7],[2],[8],[1],[4],[5],[6],[9]\n",
      "[8],[9],[5],[6],[7],[3],[2],[4],[1]\n",
      "[9],[5],[8],[1],[3],[2],[4],[7],[6]\n",
      "[4],[3],[7],[5],[8],[6],[1],[9],[2]\n",
      "[1],[2],[6],[4],[9],[7],[3],[8],[5]\n"
     ]
    }
   ],
   "source": [
    "s = crearSudoku(\n",
    "'''.....56..\n",
    "   76......4\n",
    "   .....8.27\n",
    "   .4.2...38\n",
    "   37...45..\n",
    "   .9.6.324.\n",
    "   ..8.32..6\n",
    "   ....86..2\n",
    "   .264.....''')\n",
    "\n",
    "print(s)"
   ]
  },
  {
   "cell_type": "markdown",
   "metadata": {},
   "source": [
    "La eliminación de los elementos fijos es muy efectiva pero no elimina completamente las incertidumbres en todos los casos.  Prueba con Sudokus difíciles para ver algún ejemplo.\n",
    "\n",
    "Evidentemente si resolvemos un Sudoku completamente especificado resulta en lo mismo."
   ]
  },
  {
   "cell_type": "code",
   "execution_count": 13,
   "metadata": {
    "collapsed": false
   },
   "outputs": [
    {
     "name": "stdout",
     "output_type": "stream",
     "text": [
      "[2],[8],[9],[7],[4],[5],[6],[1],[3]\n",
      "[7],[6],[3],[9],[2],[1],[8],[5],[4]\n",
      "[5],[1],[4],[3],[6],[8],[9],[2],[7]\n",
      "[6],[4],[1],[2],[5],[9],[7],[3],[8]\n",
      "[3],[7],[2],[8],[1],[4],[5],[6],[9]\n",
      "[8],[9],[5],[6],[7],[3],[2],[4],[1]\n",
      "[9],[5],[8],[1],[3],[2],[4],[7],[6]\n",
      "[4],[3],[7],[5],[8],[6],[1],[9],[2]\n",
      "[1],[2],[6],[4],[9],[7],[3],[8],[5]\n"
     ]
    }
   ],
   "source": [
    "print(resolver_sudoku(s))"
   ]
  },
  {
   "cell_type": "markdown",
   "metadata": {},
   "source": [
    "## Restricciones con clases\n",
    "\n",
    "Vamos a pararnos por un momento en el análisis de cómo hemos resuelto el filtrado de las restricciones. ¿No te has sentido incómodo con tanto paso de parámetros repetidos? Las clases tienen una ventaja. El paso de parámetros es en su mayor parte innecesario, porque podemos almacenar los resultados interesantes en los datos del propio objeto (como un atributo).\n",
    "\n",
    "Para ilustrar esto vamos a volver a escribir el filtrado de las restricciones, pero esta vez con una clase que modele las propias restricciones."
   ]
  },
  {
   "cell_type": "code",
   "execution_count": 14,
   "metadata": {
    "collapsed": false
   },
   "outputs": [],
   "source": [
    "class Restricciones(object):\n",
    "    def __init__(self, L):\n",
    "        '''Asume L lista de listas con las restricciones.\n",
    "           Construye un objeto Restricciones eliminando \n",
    "           las innecesarias'''\n",
    "        self._rep = L[:]\n",
    "        self._nuevos_fijos = True\n",
    "        self._filtrar()\n",
    "    \n",
    "    def get(self):\n",
    "        return self._rep[:]\n",
    "    \n",
    "    def _filtrar(self):\n",
    "        '''Elimina todos aquellos candidatos que ya\n",
    "           están en una celda fija de la misma fila,\n",
    "           columna o bloque. Una celda fija es aquella \n",
    "           en la que solo hay un candidato.'''\n",
    "        while self._nuevos_fijos:\n",
    "            self._nuevos_fijos = False\n",
    "            self._filtrarFilas()\n",
    "            self._filtrarColumnas()\n",
    "            self._filtrarBloques()\n",
    "\n",
    "    def _filtrarFilas(self):\n",
    "        '''Elimina de los elementos de _rep los candidatos \n",
    "           que ya están en una celda fija de la misma fila.\n",
    "        '''\n",
    "        for i in range(9):\n",
    "            self._eliminarRepetidos(self._rep[i*9:(i+1)*9])\n",
    "\n",
    "    def _filtrarColumnas(self):\n",
    "        '''Elimina de los elementos de _rep los candidatos \n",
    "           que ya están en una celda fija de la misma columna.\n",
    "        '''\n",
    "        for i in range(9):\n",
    "            self._eliminarRepetidos(self._rep[i::9])\n",
    "\n",
    "    def _filtrarBloques(self):\n",
    "        '''Elimina de los elementos de _rep los candidatos \n",
    "           que ya están en una celda fija del mismo bloque.\n",
    "        '''\n",
    "        for y in range(0,9,3):\n",
    "            for x in range(0,9,3):\n",
    "                self._filtrarBloque(x, y)\n",
    "\n",
    "    def _filtrarBloque(self, x, y):  \n",
    "        '''Asume x e y enteros.\n",
    "           Elimina de los elementos de _rep los candidatos \n",
    "           que ya están en una celda fija del bloque que empieza \n",
    "           en las coordenadas (x, y).\n",
    "        '''\n",
    "        l, o = [], y*9+x\n",
    "        for i in range(o, o+27, 9):\n",
    "            l += self._rep[i:i+3]\n",
    "        self._eliminarRepetidos(l)\n",
    "        for i in range(0,9,3):\n",
    "            self._rep[o:o+3] = l[i:i+3]\n",
    "            o += 9\n",
    "\n",
    "    def _eliminarRepetidos(self, L):\n",
    "        '''Asume L lista de nueve restricciones.\n",
    "           Elimina elementos que ya están en una celda fija.\n",
    "           Una celda fija es aquella que solo tiene un elemento.\n",
    "           Pone _nuevos_fijos a True si han aparecido nuevas \n",
    "           celdas fijas.'''\n",
    "        for c in L:\n",
    "            if len(c) == 1:\n",
    "                self._eliminarFijoRepetido(L, c[0])\n",
    "\n",
    "    def _eliminarFijoRepetido(self, L, n):\n",
    "        '''Asume L lista de nueve restricciones, n cifra de 1 a 9.\n",
    "           Elimina las apariciones de n en las celdas de L con más de \n",
    "           un elemento.\n",
    "           Pone _nuevos_fijos a True si han aparecido nuevas \n",
    "           celdas fijas.'''\n",
    "        for c in L:\n",
    "            self._eliminarCandidato(c, n)\n",
    "\n",
    "    def _eliminarCandidato(self, celda, n):\n",
    "        '''Asume celda lista de cifras de 1 a 9, n cifra de 1 a 9.\n",
    "           Elimina n de la celda si estaba.\n",
    "           Pone _nuevos_fijos a True si han aparecido nuevas \n",
    "           celdas fijas.'''\n",
    "        if len(celda) > 1 and n in celda:\n",
    "            celda.remove(n)\n",
    "            if len(celda) == 1:\n",
    "                self._nuevos_fijos = True"
   ]
  },
  {
   "cell_type": "markdown",
   "metadata": {},
   "source": [
    "Es bastante más breve, pero no acaban ahí las ventajas.\n",
    "\n",
    "Ya no es necesario cargar al *builder* con la responsabilidad de mantener el invariante de representación de las restricciones. Lo hace directamente la clase `Restricciones`. "
   ]
  },
  {
   "cell_type": "code",
   "execution_count": 15,
   "metadata": {
    "collapsed": false
   },
   "outputs": [],
   "source": [
    "def crearSudoku(desc):\n",
    "    '''Asume desc una cadena que describe el Sudoku.\n",
    "       Devuelve un Sudoku que corresponde a dicha descripción.'''\n",
    "    restricciones = Restricciones([ crearCelda(i) for i in desc if not i in ' \\r\\n' ])\n",
    "    return Sudoku(restricciones.get())"
   ]
  },
  {
   "cell_type": "code",
   "execution_count": 16,
   "metadata": {
    "collapsed": false
   },
   "outputs": [
    {
     "name": "stdout",
     "output_type": "stream",
     "text": [
      "[2],[8],[9],[7],[4],[5],[6],[1],[3]\n",
      "[7],[6],[3],[9],[2],[1],[8],[5],[4]\n",
      "[5],[1],[4],[3],[6],[8],[9],[2],[7]\n",
      "[6],[4],[1],[2],[5],[9],[7],[3],[8]\n",
      "[3],[7],[2],[8],[1],[4],[5],[6],[9]\n",
      "[8],[9],[5],[6],[7],[3],[2],[4],[1]\n",
      "[9],[5],[8],[1],[3],[2],[4],[7],[6]\n",
      "[4],[3],[7],[5],[8],[6],[1],[9],[2]\n",
      "[1],[2],[6],[4],[9],[7],[3],[8],[5]\n",
      "\n",
      "SOLUCIÓN:\n",
      "[2],[8],[9],[7],[4],[5],[6],[1],[3]\n",
      "[7],[6],[3],[9],[2],[1],[8],[5],[4]\n",
      "[5],[1],[4],[3],[6],[8],[9],[2],[7]\n",
      "[6],[4],[1],[2],[5],[9],[7],[3],[8]\n",
      "[3],[7],[2],[8],[1],[4],[5],[6],[9]\n",
      "[8],[9],[5],[6],[7],[3],[2],[4],[1]\n",
      "[9],[5],[8],[1],[3],[2],[4],[7],[6]\n",
      "[4],[3],[7],[5],[8],[6],[1],[9],[2]\n",
      "[1],[2],[6],[4],[9],[7],[3],[8],[5]\n"
     ]
    }
   ],
   "source": [
    "s = crearSudoku(\n",
    "'''.....56..\n",
    "   76......4\n",
    "   .....8.27\n",
    "   .4.2...38\n",
    "   37...45..\n",
    "   .9.6.324.\n",
    "   ..8.32..6\n",
    "   ....86..2\n",
    "   .264.....''')\n",
    "\n",
    "print(s)\n",
    "print('\\nSOLUCIÓN:')\n",
    "print(resolver_sudoku(s))"
   ]
  },
  {
   "cell_type": "markdown",
   "metadata": {},
   "source": [
    "Usar clases desde las primeras etapas del diseño hace que no nos preocupemos de los detalles (mantener los invariantes de representación) y nos centremos en el problema desde una perspectiva más orientada a los datos."
   ]
  },
  {
   "cell_type": "markdown",
   "metadata": {},
   "source": [
    "## Sudokus difíciles\n",
    "\n",
    "Los sudokus más elementales se resuelven con suma facilidad.  Sin embargo hay sudokus mucho más complejos. Puedes probar con [sudoku-online](http://www.sudoku-online.org/) con el máximo grado de dificultad para ver a qué me refiero.\n",
    "\n",
    "Puede resultarte útil calcular el número de posibilidades a explorar."
   ]
  },
  {
   "cell_type": "code",
   "execution_count": 17,
   "metadata": {
    "collapsed": false
   },
   "outputs": [],
   "source": [
    "def posibilidades(sudoku):\n",
    "    ret = 1\n",
    "    for i in [ len(sudoku.get(x,y)) for x in range(9) for y in range(9) ]:\n",
    "        ret *= i\n",
    "    return ret"
   ]
  },
  {
   "cell_type": "code",
   "execution_count": 18,
   "metadata": {
    "collapsed": false
   },
   "outputs": [
    {
     "name": "stdout",
     "output_type": "stream",
     "text": [
      "1754956051230228480000000000000000\n",
      "[1 5 6 9],[7],[1 5 6 9],[8],[1 3 6 9],[1 3 4 5 6],[2],[1 4 5 9],[1 3 4]\n",
      "[1 2 5 6 9],[4],[8],[1 2 3 7 9],[1 3 6 7 9],[1 2 3 5 6 7],[1 5 9],[1 5 9],[1 3 7]\n",
      "[1 2 5 9],[3],[1 2 5 9],[1 2 4 7 9],[1 7 9],[1 2 4 5 7],[1 4 5 8 9],[1 4 5 8 9],[6]\n",
      "[1 5 6 9],[1 5 6 9],[3],[1 2],[8],[1 2 6],[7],[1 2 4 6 9],[1 2 4]\n",
      "[1 6 7],[2],[1 6 7],[1 7],[4],[9],[1 6 8],[3],[5]\n",
      "[1 6 7 9],[1 6 8 9],[1 4 6 7 9],[1 2 3 7],[5],[1 2 3 6 7],[1 4 6 8 9],[1 2 4 6 8 9],[1 2 4 8]\n",
      "[8],[1 6],[1 6],[5],[2],[1 3 4],[1 4 6],[7],[9]\n",
      "[1 2 3 5 7 9],[1 5 9],[1 2 5 7 9],[6],[1 3 7 9],[1 3 4 7 8],[1 4 5 8],[1 2 4 5 8],[1 2 4 8]\n",
      "[4],[1 5 6 9],[1 2 5 6 7 9],[1 7 9],[1 7 9],[1 7 8],[3],[1 2 5 6 8],[1 2 8]\n"
     ]
    }
   ],
   "source": [
    "s = crearSudoku(\n",
    "'''.7.8..2..\n",
    "   .48......\n",
    "   .3......6\n",
    "   ..3.8.7..\n",
    "   .2..49.35\n",
    "   ....5....\n",
    "   8..52..79\n",
    "   ...6.....\n",
    "   4.....3..''')\n",
    "\n",
    "print(posibilidades(s))\n",
    "print(s)"
   ]
  },
  {
   "cell_type": "markdown",
   "metadata": {},
   "source": [
    "Estamos hablando de más de 1700 quintillones de posibilidades (1700 billones de trillones).  No queda más remedio que explorar otras posibilidades.  Una posible estrategia es aplicar otro tipo de filtrado.\n",
    "\n",
    "Por ejemplo, si dentro de una fila, columna o bloque solo hay una celda donde se puede poner determinada cifra entonces podemos fijarla. Podemos ilustrarlo con la siguiente línea del sudoku anterior:\n",
    "\n",
    "`[1 6 7],[2],[1 6 7],[1 7],[4],[9],[1 6 8],[3],[5]`\n",
    "\n",
    "Solo hay una celda donde se puede poner el 8, así que podemos fijarla y descartar los otros candidatos.\n",
    "\n",
    "Otro ejemplo, si hay dos celdas en cualquier fila, columna o bloque que contienen los mismos dos números (y ningún otro), entonces ninguna otra puede contener esos números.  Por ejemplo:\n",
    "\n",
    "`[[1,2], [1,2], [1,3], [5], [4], [6], [7], [8], ...`\n",
    "\n",
    "En este caso las dos primeras celdas tienen el 1 y el 2 y ningún otro.  Si una tiene el 1, la otra tiene que ser el 2 y viceversa.  Por tanto ni el 1 ni el 2 pueden estar en el resto de la fila, columna o bloque.  En particular la tercera casilla se puede simplificar a un `[3]`.\n",
    "\n",
    "Lo mismo se puede aplicar con un conjunto de tres casillas y tres números.  Si entre tres casillas comparten solo tres números entonces el resto de casillas de la fila, columna o bloque no pueden tener ninguno de esos números.  Un ejemplo lo tenemos en la misma fila conocida del sudoku anterior:\n",
    "\n",
    "`[1 6 7],[2],[1 6 7],[1 7],[4],[9],[1 6 8],[3],[5]`\n",
    "\n",
    "Las casillas `[1 6 7] ... [1 6 7] y [1 7]` comparten entre ellas solo tres números.  Por tanto la casilla `[1 6 8]` no puede tener ninguno de los tres, con lo que quedaría en un `[8]`.\n",
    "\n",
    "Prueba a implementar alguna de estas estrategias. ¿Puedes generalizarlas para que el caso que hemos implementado sea un caso particular?\n",
    "\n",
    "Puede que te interese [este otro método](http://norvig.com/sudoku.html) de Peter Norvig, que utiliza un modelo mucho más flexible que le permite ordenar la búsqueda en el sentido que más le convenga para tener mayores probabilidades de encontrar la solución antes."
   ]
  }
 ],
 "metadata": {
  "kernelspec": {
   "display_name": "Python 3",
   "language": "python",
   "name": "python3"
  },
  "language_info": {
   "codemirror_mode": {
    "name": "ipython",
    "version": 3
   },
   "file_extension": ".py",
   "mimetype": "text/x-python",
   "name": "python",
   "nbconvert_exporter": "python",
   "pygments_lexer": "ipython3",
   "version": "3.5.2"
  }
 },
 "nbformat": 4,
 "nbformat_minor": 0
}
