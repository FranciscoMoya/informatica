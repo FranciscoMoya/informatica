{
 "cells": [
  {
   "cell_type": "markdown",
   "metadata": {},
   "source": [
    "# Trabajo en grupo (curso 2016-2017)\n",
    "\n",
    "En este curso el trabajo en grupo consistirá simplemente en el desarrollo en Python del método de Gauss-Jordan.  Se proponen varios ejercicios relacionados con esto.\n",
    "\n",
    "## 1. Rango de una matriz\n",
    "\n",
    "Definir la función `rango_matriz(m)` que devuelve el rango de una matriz calculado por el [método de Gauss](http://matematicasies.com/Rango-de-una-matriz-por-el-metodo-de-Gauss).\n",
    "\n",
    "Deberá funcionar con cualquier número de filas y columnas. No se dará puntuación alguna a las entregas que no respeten este requisito.\n",
    "\n",
    "### Ejemplo de funcionamiento\n",
    "\n",
    "``` Python\n",
    ">>> rango_matriz([[1,0,0], [0,1,0], [0,0,1]])\n",
    "3\n",
    ">>> rango_matriz([[1,0,0], [0,1,0], [1,2,0]])\n",
    "2\n",
    "```\n",
    "\n",
    "## 2. Solución de sistema de ecuaciones\n",
    "\n",
    "Definir una función `lin_solve(A,B)` que resuelve el sistema lineal de ecuaciones $A\\cdot x = B$ empleando el método de Gauss-Jordan.  La función debe devolver la secuencia de operaciones a realizar sobre `A|B`, y el vector solución.\n",
    "\n",
    "### Ejemplo de funcionamiento\n",
    "\n",
    "``` Python\n",
    ">>> lin_solve([[1,0,0], [0,2,0], [2,0,3]], [1, 0, 2])\n",
    "([('div', 1, 2), ('mac', 2, 1, -2), ('div', 2, 3)], [1, 0, 0])\n",
    "```\n",
    "\n",
    "Hemos representado las operaciones por una tupla, que incluye una cadena (`'div'` para dividir, `'mac'` para multiplicar y sumar, etc.) seguida de los argumentos necesarios (fila donde se aplica, fila con la que se opera, factor de multiplicación, etc.).  Tu puedes representar las operaciones de forma diferente.  Por ejemplo, se recomiendan clases.\n",
    "\n",
    "## 3. Inversa de una matriz\n",
    "\n",
    "Definir la función `inv_matriz(M)` que devuelve la matriz inversa de la que se pasa como argumento.\n",
    "\n",
    "### Ejemplo de funcionamiento\n",
    "\n",
    "``` Python\n",
    ">>> inv_matriz([[1,0,0], [0,1,0], [0,0,1]], [1, 0, 2])\n",
    "([('div', 1, 2), ('mac', 2, 1, -2), ('div', 2, 3)], [1, 0, 0])\n",
    "```"
   ]
  },
  {
   "cell_type": "code",
   "execution_count": null,
   "metadata": {
    "collapsed": true
   },
   "outputs": [],
   "source": []
  }
 ],
 "metadata": {
  "kernelspec": {
   "display_name": "Python 3",
   "language": "python",
   "name": "python3"
  },
  "language_info": {
   "codemirror_mode": {
    "name": "ipython",
    "version": 3
   },
   "file_extension": ".py",
   "mimetype": "text/x-python",
   "name": "python",
   "nbconvert_exporter": "python",
   "pygments_lexer": "ipython3",
   "version": "3.5.2"
  }
 },
 "nbformat": 4,
 "nbformat_minor": 1
}
