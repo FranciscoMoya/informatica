{
 "cells": [
  {
   "cell_type": "markdown",
   "metadata": {},
   "source": [
    "# Python 02: Elementos de programación\n",
    "\n",
    "En esta sesión debes aprender a usar expresiones simples y compuestas. Es especialmente importante entender la expresión de llamada a función.  La regularidad de las expresiones de llamada las hace especialmente interesantes para la composición, no se necesitan reglas de precedencia y las propias funciones pueden pasarse como argumentos a otras funciones."
   ]
  },
  {
   "cell_type": "code",
   "execution_count": 2,
   "metadata": {
    "collapsed": false
   },
   "outputs": [
    {
     "data": {
      "text/plain": [
       "9.5"
      ]
     },
     "execution_count": 2,
     "metadata": {},
     "output_type": "execute_result"
    }
   ],
   "source": [
    "max(9.5,7.5)"
   ]
  },
  {
   "cell_type": "markdown",
   "metadata": {},
   "source": [
    "El orden de los argumentos importa. Por ejemplo:"
   ]
  },
  {
   "cell_type": "code",
   "execution_count": 3,
   "metadata": {
    "collapsed": false
   },
   "outputs": [
    {
     "data": {
      "text/plain": [
       "10000"
      ]
     },
     "execution_count": 3,
     "metadata": {},
     "output_type": "execute_result"
    }
   ],
   "source": [
    "pow(100,2)"
   ]
  },
  {
   "cell_type": "code",
   "execution_count": 4,
   "metadata": {
    "collapsed": false
   },
   "outputs": [
    {
     "data": {
      "text/plain": [
       "10715086071862673209484250490600018105614048117055336074437503883703510511249361224931983788156958581275946729175531468251871452856923140435984577574698574803934567774824230985421074605062371141877954182153046474983581941267398767559165543946077062914571196477686542167660429831652624386837205668069376"
      ]
     },
     "execution_count": 4,
     "metadata": {},
     "output_type": "execute_result"
    }
   ],
   "source": [
    "pow(2,1000)"
   ]
  },
  {
   "cell_type": "markdown",
   "metadata": {},
   "source": [
    "Los enteros de Python pueden representar números arbitrariamente grandes. Python cuando lo necesita utiliza enteros largos, menos eficientes que los enteros normales con los que suele trabajar un ordenador, pero capaces de representar cualquier cantidad de dígitos.\n",
    "\n",
    "Los operadores aritméticos también podemos verlos como funciones."
   ]
  },
  {
   "cell_type": "code",
   "execution_count": 5,
   "metadata": {
    "collapsed": false
   },
   "outputs": [],
   "source": [
    "from operator import add"
   ]
  },
  {
   "cell_type": "markdown",
   "metadata": {},
   "source": [
    "Lo siguiente es un ejemplo de llamada al operador + (suma) usando notación de llamada a función."
   ]
  },
  {
   "cell_type": "code",
   "execution_count": 6,
   "metadata": {
    "collapsed": false
   },
   "outputs": [
    {
     "data": {
      "text/plain": [
       "4"
      ]
     },
     "execution_count": 6,
     "metadata": {},
     "output_type": "execute_result"
    }
   ],
   "source": [
    "add(1,3)"
   ]
  },
  {
   "cell_type": "markdown",
   "metadata": {},
   "source": [
    "## Notación funcional\n",
    "\n",
    "La notación funcional tiene una serie de ventajas:\n",
    "\n",
    "* Primero se extiende de forma natural a cualquier número de argumentos."
   ]
  },
  {
   "cell_type": "code",
   "execution_count": 7,
   "metadata": {
    "collapsed": false
   },
   "outputs": [
    {
     "data": {
      "text/plain": [
       "3"
      ]
     },
     "execution_count": 7,
     "metadata": {},
     "output_type": "execute_result"
    }
   ],
   "source": [
    "max(1,-2,3,-4)"
   ]
  },
  {
   "cell_type": "markdown",
   "metadata": {},
   "source": [
    "* Segundo se extiende fácilmente a expresiones anidadas, donde los elementos son a su vez expresiones compuestas. La estructura del anidamiento es completamente explícita, a diferencia de las expresiones infijas compuestas."
   ]
  },
  {
   "cell_type": "code",
   "execution_count": 8,
   "metadata": {
    "collapsed": false
   },
   "outputs": [
    {
     "data": {
      "text/plain": [
       "-2"
      ]
     },
     "execution_count": 8,
     "metadata": {},
     "output_type": "execute_result"
    }
   ],
   "source": [
    "max(min(1, -2), min(pow(3, 5), -4))"
   ]
  },
  {
   "cell_type": "markdown",
   "metadata": {},
   "source": [
    "* Tercero, la notación matemática infija tiene una amplia variedad de formas de representación, que en algunos casos es muy difícil de teclear en un ordenador. Piensa por ejemplo en el signo de la raiz cuadrada, o las fracciones.  En cambio, la notación funcional es completamente homogénea y fácil de teclear. Incluso los operadores matemáticos habituales pueden expresarse con notación funcional."
   ]
  },
  {
   "cell_type": "code",
   "execution_count": 11,
   "metadata": {
    "collapsed": false
   },
   "outputs": [
    {
     "data": {
      "text/plain": [
       "208"
      ]
     },
     "execution_count": 11,
     "metadata": {},
     "output_type": "execute_result"
    }
   ],
   "source": [
    "from operator import add, sub, mul\n",
    "\n",
    "mul(add(2,mul(4, 6)), add(3, 5))"
   ]
  },
  {
   "cell_type": "markdown",
   "metadata": {},
   "source": [
    "## Tipos de datos en Python\n",
    "\n",
    "Las expresiones de Python, tanto las simples como las compuestas, tienen un tipo asociado. Por ejemplo, examina el tipo de las siguientes expresiones:"
   ]
  },
  {
   "cell_type": "code",
   "execution_count": 12,
   "metadata": {
    "collapsed": false
   },
   "outputs": [
    {
     "data": {
      "text/plain": [
       "'Hola, Mundo'"
      ]
     },
     "execution_count": 12,
     "metadata": {},
     "output_type": "execute_result"
    }
   ],
   "source": [
    "saludo = 'Hola'\n",
    "quien = 'Mundo'\n",
    "saludo + ', ' + quien"
   ]
  },
  {
   "cell_type": "code",
   "execution_count": 13,
   "metadata": {
    "collapsed": false
   },
   "outputs": [
    {
     "data": {
      "text/plain": [
       "70"
      ]
     },
     "execution_count": 13,
     "metadata": {},
     "output_type": "execute_result"
    }
   ],
   "source": [
    "a = 63\n",
    "b = 7\n",
    "a + b"
   ]
  },
  {
   "cell_type": "code",
   "execution_count": 14,
   "metadata": {
    "collapsed": false
   },
   "outputs": [
    {
     "data": {
      "text/plain": [
       "True"
      ]
     },
     "execution_count": 14,
     "metadata": {},
     "output_type": "execute_result"
    }
   ],
   "source": [
    "a > 3"
   ]
  },
  {
   "cell_type": "markdown",
   "metadata": {},
   "source": [
    "Algunas veces es posible combinar operandos de distinto tipo en una expresión."
   ]
  },
  {
   "cell_type": "code",
   "execution_count": 15,
   "metadata": {
    "collapsed": false
   },
   "outputs": [
    {
     "data": {
      "text/plain": [
       "'HolaHolaHola'"
      ]
     },
     "execution_count": 15,
     "metadata": {},
     "output_type": "execute_result"
    }
   ],
   "source": [
    "saludo * 3"
   ]
  },
  {
   "cell_type": "code",
   "execution_count": 16,
   "metadata": {
    "collapsed": false
   },
   "outputs": [
    {
     "data": {
      "text/plain": [
       "(63+0.5j)"
      ]
     },
     "execution_count": 16,
     "metadata": {},
     "output_type": "execute_result"
    }
   ],
   "source": [
    "d = .5j\n",
    "a + d"
   ]
  },
  {
   "cell_type": "markdown",
   "metadata": {},
   "source": [
    "No todas las combinaciones de operadores y tipos son posibles. Algunas no tienen sentido. En ese caso Python se queja."
   ]
  },
  {
   "cell_type": "code",
   "execution_count": 17,
   "metadata": {
    "collapsed": false
   },
   "outputs": [
    {
     "ename": "TypeError",
     "evalue": "unsupported operand type(s) for /: 'str' and 'int'",
     "output_type": "error",
     "traceback": [
      "\u001b[0;31m---------------------------------------------------------------------------\u001b[0m",
      "\u001b[0;31mTypeError\u001b[0m                                 Traceback (most recent call last)",
      "\u001b[0;32m<ipython-input-17-28c1817cc477>\u001b[0m in \u001b[0;36m<module>\u001b[0;34m()\u001b[0m\n\u001b[0;32m----> 1\u001b[0;31m \u001b[0msaludo\u001b[0m \u001b[1;33m/\u001b[0m \u001b[1;36m3\u001b[0m\u001b[1;33m\u001b[0m\u001b[0m\n\u001b[0m",
      "\u001b[0;31mTypeError\u001b[0m: unsupported operand type(s) for /: 'str' and 'int'"
     ]
    }
   ],
   "source": [
    "saludo / 3"
   ]
  },
  {
   "cell_type": "markdown",
   "metadata": {},
   "source": [
    "En caso de duda puedes pregunta al propio intérprete de Python el tipo de una expresión."
   ]
  },
  {
   "cell_type": "code",
   "execution_count": 18,
   "metadata": {
    "collapsed": false
   },
   "outputs": [
    {
     "name": "stdout",
     "output_type": "stream",
     "text": [
      "<class 'int'>\n",
      "<class 'str'>\n"
     ]
    }
   ],
   "source": [
    "print(type(pow(2, 600)))\n",
    "print(type(saludo))"
   ]
  },
  {
   "cell_type": "markdown",
   "metadata": {},
   "source": [
    "## Funciones\n",
    "\n",
    "La llamada a función es una expresión compuesta esencial. Uno de los mecanismos de composición más potentes.\n",
    "\n",
    "La definición de funciones de usuario es otra construcción esencial, uno de los principales mecanismos de abstracción.\n",
    "\n",
    "Por ejemplo, considera este ejemplo.  Queremos encontrar un método para encontrar la raiz cúbica de un número entero que asumimos que tiene una raiz exacta.  De momento sabemos solamente la definición de la raiz cúbica: *$x$ es raiz cúbica de $y$ sii $x^3 = y$*. Ésto mismo se puede expresar en Python."
   ]
  },
  {
   "cell_type": "code",
   "execution_count": 19,
   "metadata": {
    "collapsed": false
   },
   "outputs": [],
   "source": [
    "def cubo(x):\n",
    "    return x ** 3\n",
    "\n",
    "def es_raiz_cubica(raiz, num):\n",
    "    return cubo(raiz) == num"
   ]
  },
  {
   "cell_type": "markdown",
   "metadata": {},
   "source": [
    "Éste es **conocimiento declarativo**, sabemos hechos matemáticamente ciertos porque se derivan de definiciones y axiomas. Pero este conocimiento no nos permite por sí solo encontrar una solución a nuestro problema, un método para encontrar la raiz cuadrada de un número entero.\n",
    "\n",
    "El conocimiento declarativo se complementa con el **conocimiento imperativo** que expresa cómo debe encontrar la solución al problema.  Por ejemplo, en nuestro ejemplo podría hacerse por enumeración exhaustiva."
   ]
  },
  {
   "cell_type": "code",
   "execution_count": 20,
   "metadata": {
    "collapsed": false
   },
   "outputs": [],
   "source": [
    "def raiz_cubica(num):\n",
    "    n = 1\n",
    "    while not es_raiz_cubica(n, num):\n",
    "        n = n + 1\n",
    "    return n"
   ]
  },
  {
   "cell_type": "markdown",
   "metadata": {},
   "source": [
    "El método que hemos utilizado es la **enumeración exhaustiva** de todos los números hasta encontrar la respuesta correcta.  Los ordenadores son increíblemente rápidos y muchas veces este método puede generar una respuesta en un tiempo pequeño.\n",
    "\n",
    "La enumeración exhaustiva es un método muy sencillo de implementar, pero no siempre es utilizable. En muchas ocasiones el número de posibles respuestas es tan elevado que no podemos enumerarlas todas en un tiempo razonable. \n",
    "\n",
    "Examina el ejemplo anterior para distintos valores.  Por ejemplo:"
   ]
  },
  {
   "cell_type": "code",
   "execution_count": 21,
   "metadata": {
    "collapsed": false
   },
   "outputs": [
    {
     "name": "stdout",
     "output_type": "stream",
     "text": [
      "2\n",
      "1254\n"
     ]
    }
   ],
   "source": [
    "print(raiz_cubica(8))\n",
    "print(raiz_cubica(1971935064))"
   ]
  },
  {
   "cell_type": "markdown",
   "metadata": {},
   "source": [
    "¿Qué pasaría si se llama con el argumento 9? ¿Qué debería devolver? No son preguntas que debas saber a priori, ni preguntas con trampa. Piensa cómo debería comportarse según tu propio criterio."
   ]
  },
  {
   "cell_type": "code",
   "execution_count": null,
   "metadata": {
    "collapsed": true
   },
   "outputs": [],
   "source": []
  }
 ],
 "metadata": {
  "kernelspec": {
   "display_name": "Python 3",
   "language": "python",
   "name": "python3"
  },
  "language_info": {
   "codemirror_mode": {
    "name": "ipython",
    "version": 3
   },
   "file_extension": ".py",
   "mimetype": "text/x-python",
   "name": "python",
   "nbconvert_exporter": "python",
   "pygments_lexer": "ipython3",
   "version": "3.5.2"
  }
 },
 "nbformat": 4,
 "nbformat_minor": 0
}
