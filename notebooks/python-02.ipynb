{
 "metadata": {
  "name": "",
  "signature": "sha256:9a32a8a1a23912d34961b7cdab3d57abf49396448c86f886f61df35129b35aed"
 },
 "nbformat": 3,
 "nbformat_minor": 0,
 "worksheets": [
  {
   "cells": [
    {
     "cell_type": "markdown",
     "metadata": {},
     "source": [
      "# Python 02: Elementos de programaci\u00f3n\n",
      "\n",
      "En esta sesi\u00f3n debes aprender a usar expresiones simples y compuestas. Es especialmente importante entender la expresi\u00f3n de llamada a funci\u00f3n.  La regularidad de las expresiones de llamada las hace especialmente interesantes para la composici\u00f3n, no se necesitan reglas de precedencia y las propias funciones pueden pasarse como argumentos a otras funciones."
     ]
    },
    {
     "cell_type": "code",
     "collapsed": false,
     "input": [
      "max(9.5,7.5)"
     ],
     "language": "python",
     "metadata": {},
     "outputs": [
      {
       "metadata": {},
       "output_type": "pyout",
       "prompt_number": 1,
       "text": [
        "9.5"
       ]
      }
     ],
     "prompt_number": 1
    },
    {
     "cell_type": "markdown",
     "metadata": {},
     "source": [
      "El orden de los argumentos importa. Por ejemplo:"
     ]
    },
    {
     "cell_type": "code",
     "collapsed": false,
     "input": [
      "pow(100,2)"
     ],
     "language": "python",
     "metadata": {},
     "outputs": [
      {
       "metadata": {},
       "output_type": "pyout",
       "prompt_number": 2,
       "text": [
        "10000"
       ]
      }
     ],
     "prompt_number": 2
    },
    {
     "cell_type": "code",
     "collapsed": false,
     "input": [
      "pow(2,1000)"
     ],
     "language": "python",
     "metadata": {},
     "outputs": [
      {
       "metadata": {},
       "output_type": "pyout",
       "prompt_number": 7,
       "text": [
        "10715086071862673209484250490600018105614048117055336074437503883703510511249361224931983788156958581275946729175531468251871452856923140435984577574698574803934567774824230985421074605062371141877954182153046474983581941267398767559165543946077062914571196477686542167660429831652624386837205668069376"
       ]
      }
     ],
     "prompt_number": 7
    },
    {
     "cell_type": "markdown",
     "metadata": {},
     "source": [
      "Los enteros de Python pueden representar n\u00fameros arbitrariamente grandes. Python cuando lo necesita utiliza enteros largos, menos eficientes que los enteros normales con los que suele trabajar un ordenador, pero capaces de representar cualquier cantidad de d\u00edgitos.\n",
      "\n",
      "Los operadores aritm\u00e9ticos tambi\u00e9n podemos verlos como funciones."
     ]
    },
    {
     "cell_type": "code",
     "collapsed": false,
     "input": [
      "from operator import add"
     ],
     "language": "python",
     "metadata": {},
     "outputs": [],
     "prompt_number": 27
    },
    {
     "cell_type": "markdown",
     "metadata": {},
     "source": [
      "Lo siguiente es un ejemplo de llamada al operador + (suma) usando notaci\u00f3n de llamada a funci\u00f3n."
     ]
    },
    {
     "cell_type": "code",
     "collapsed": false,
     "input": [
      "add(1,3)"
     ],
     "language": "python",
     "metadata": {},
     "outputs": [
      {
       "metadata": {},
       "output_type": "pyout",
       "prompt_number": 28,
       "text": [
        "4"
       ]
      }
     ],
     "prompt_number": 28
    },
    {
     "cell_type": "markdown",
     "metadata": {},
     "source": [
      "## Notaci\u00f3n funcional\n",
      "\n",
      "La notaci\u00f3n funcional tiene una serie de ventajas:\n",
      "\n",
      "* Primero se extiende de forma natural a cualquier n\u00famero de argumentos."
     ]
    },
    {
     "cell_type": "code",
     "collapsed": false,
     "input": [
      "max(1,-2,3,-4)"
     ],
     "language": "python",
     "metadata": {},
     "outputs": [
      {
       "metadata": {},
       "output_type": "pyout",
       "prompt_number": 1,
       "text": [
        "3"
       ]
      }
     ],
     "prompt_number": 1
    },
    {
     "cell_type": "markdown",
     "metadata": {},
     "source": [
      "* Segundo se extiende f\u00e1cilmente a expresiones anidadas, donde los elementos son a su vez expresiones compuestas. La estructura del anidamiento es completamente expl\u00edcita, a diferencia de las expresiones infijas compuestas."
     ]
    },
    {
     "cell_type": "code",
     "collapsed": false,
     "input": [
      "max(min(1, -2), min(pow(3, 5), -4))"
     ],
     "language": "python",
     "metadata": {},
     "outputs": [
      {
       "metadata": {},
       "output_type": "pyout",
       "prompt_number": 2,
       "text": [
        "-2"
       ]
      }
     ],
     "prompt_number": 2
    },
    {
     "cell_type": "markdown",
     "metadata": {},
     "source": [
      "* Tercero, la notaci\u00f3n matem\u00e1tica infija tiene una amplia variedad de formas de representaci\u00f3n, que en algunos casos es muy dif\u00edcil de teclear en un ordenador. Piensa por ejemplo en el signo de la raiz cuadrada, o las fracciones.  En cambio, la notaci\u00f3n funcional es completamente homog\u00e9nea y f\u00e1cil de teclear. Incluso los operadores matem\u00e1ticos habituales pueden expresarse con notaci\u00f3n funcional."
     ]
    },
    {
     "cell_type": "code",
     "collapsed": false,
     "input": [
      "from operator import add, sub, mul, div\n",
      "\n",
      "mul(add(2,mul(4, 6)), add(3, 5))"
     ],
     "language": "python",
     "metadata": {},
     "outputs": [
      {
       "metadata": {},
       "output_type": "pyout",
       "prompt_number": 3,
       "text": [
        "208"
       ]
      }
     ],
     "prompt_number": 3
    },
    {
     "cell_type": "markdown",
     "metadata": {},
     "source": [
      "## Tipos de datos en Python\n",
      "\n",
      "Las expresiones de Python, tanto las simples como las compuestas, tienen un tipo asociado. Por ejemplo, examina el tipo de las siguientes expresiones:"
     ]
    },
    {
     "cell_type": "code",
     "collapsed": false,
     "input": [
      "saludo = 'Hola'\n",
      "quien = 'Mundo'\n",
      "saludo + ', ' + quien"
     ],
     "language": "python",
     "metadata": {},
     "outputs": [
      {
       "metadata": {},
       "output_type": "pyout",
       "prompt_number": 11,
       "text": [
        "'Hola, Mundo'"
       ]
      }
     ],
     "prompt_number": 11
    },
    {
     "cell_type": "code",
     "collapsed": false,
     "input": [
      "a = 63\n",
      "b = 7\n",
      "a + b"
     ],
     "language": "python",
     "metadata": {},
     "outputs": [
      {
       "metadata": {},
       "output_type": "pyout",
       "prompt_number": 12,
       "text": [
        "70"
       ]
      }
     ],
     "prompt_number": 12
    },
    {
     "cell_type": "code",
     "collapsed": false,
     "input": [
      "a > 3"
     ],
     "language": "python",
     "metadata": {},
     "outputs": [
      {
       "metadata": {},
       "output_type": "pyout",
       "prompt_number": 13,
       "text": [
        "True"
       ]
      }
     ],
     "prompt_number": 13
    },
    {
     "cell_type": "markdown",
     "metadata": {},
     "source": [
      "Algunas veces es posible combinar operandos de distinto tipo en una expresi\u00f3n."
     ]
    },
    {
     "cell_type": "code",
     "collapsed": false,
     "input": [
      "saludo * 3"
     ],
     "language": "python",
     "metadata": {},
     "outputs": [
      {
       "metadata": {},
       "output_type": "pyout",
       "prompt_number": 14,
       "text": [
        "'HolaHolaHola'"
       ]
      }
     ],
     "prompt_number": 14
    },
    {
     "cell_type": "code",
     "collapsed": false,
     "input": [
      "d = .5j\n",
      "a + d"
     ],
     "language": "python",
     "metadata": {},
     "outputs": [
      {
       "metadata": {},
       "output_type": "pyout",
       "prompt_number": 16,
       "text": [
        "(63+0.5j)"
       ]
      }
     ],
     "prompt_number": 16
    },
    {
     "cell_type": "markdown",
     "metadata": {},
     "source": [
      "No todas las combinaciones de operadores y tipos son posibles. Algunas no tienen sentido. En ese caso Python se queja."
     ]
    },
    {
     "cell_type": "code",
     "collapsed": false,
     "input": [
      "saludo / 3"
     ],
     "language": "python",
     "metadata": {},
     "outputs": [
      {
       "ename": "TypeError",
       "evalue": "unsupported operand type(s) for /: 'str' and 'int'",
       "output_type": "pyerr",
       "traceback": [
        "\u001b[0;31m---------------------------------------------------------------------------\u001b[0m\n\u001b[0;31mTypeError\u001b[0m                                 Traceback (most recent call last)",
        "\u001b[0;32m<ipython-input-18-28c1817cc477>\u001b[0m in \u001b[0;36m<module>\u001b[0;34m()\u001b[0m\n\u001b[0;32m----> 1\u001b[0;31m \u001b[0msaludo\u001b[0m \u001b[0;34m/\u001b[0m \u001b[0;36m3\u001b[0m\u001b[0;34m\u001b[0m\u001b[0m\n\u001b[0m",
        "\u001b[0;31mTypeError\u001b[0m: unsupported operand type(s) for /: 'str' and 'int'"
       ]
      }
     ],
     "prompt_number": 18
    },
    {
     "cell_type": "markdown",
     "metadata": {},
     "source": [
      "En caso de duda puedes pregunta al propio int\u00e9rprete de Python el tipo de una expresi\u00f3n."
     ]
    },
    {
     "cell_type": "code",
     "collapsed": false,
     "input": [
      "print(type(pow(2, 600)))\n",
      "print(type(saludo))"
     ],
     "language": "python",
     "metadata": {},
     "outputs": [
      {
       "output_type": "stream",
       "stream": "stdout",
       "text": [
        "<class 'int'>\n",
        "<class 'str'>\n"
       ]
      }
     ],
     "prompt_number": 19
    },
    {
     "cell_type": "markdown",
     "metadata": {},
     "source": [
      "## Funciones\n",
      "\n",
      "La llamada a funci\u00f3n es una expresi\u00f3n compuesta esencial. Uno de los mecanismos de composici\u00f3n m\u00e1s potentes.\n",
      "\n",
      "La definici\u00f3n de funciones de usuario es otra construcci\u00f3n esencial, uno de los principales mecanismos de abstracci\u00f3n.\n",
      "\n",
      "Por ejemplo, considera este ejemplo.  Queremos encontrar un m\u00e9todo para encontrar la raiz c\u00fabica de un n\u00famero entero que asumimos que tiene una raiz exacta.  De momento sabemos solamente la definici\u00f3n de la raiz c\u00fabica: *$x$ es raiz c\u00fabica de $y$ sii $x^3 = y$*. \u00c9sto mismo se puede expresar en Python."
     ]
    },
    {
     "cell_type": "code",
     "collapsed": false,
     "input": [
      "def cubo(x):\n",
      "    return x ** 3\n",
      "\n",
      "def es_raiz_cubica(raiz, num):\n",
      "    return cubo(raiz) == num"
     ],
     "language": "python",
     "metadata": {},
     "outputs": []
    },
    {
     "cell_type": "markdown",
     "metadata": {},
     "source": [
      "\u00c9ste es **conocimiento declarativo**, sabemos hechos matem\u00e1ticamente ciertos porque se derivan de definiciones y axiomas. Pero este conocimiento no nos permite por s\u00ed solo encontrar una soluci\u00f3n a nuestro problema, un m\u00e9todo para encontrar la raiz cuadrada de un n\u00famero entero.\n",
      "\n",
      "El conocimiento declarativo se complementa con el **conocimiento imperativo** que expresa c\u00f3mo debe encontrar la soluci\u00f3n al problema.  Por ejemplo, en nuestro ejemplo podr\u00eda hacerse por enumeraci\u00f3n exhaustiva."
     ]
    },
    {
     "cell_type": "code",
     "collapsed": false,
     "input": [
      "def raiz_cubica(num):\n",
      "    n = 1\n",
      "    while not es_raiz_cubica(n, num):\n",
      "        n = n + 1\n",
      "    return n"
     ],
     "language": "python",
     "metadata": {},
     "outputs": [],
     "prompt_number": 37
    },
    {
     "cell_type": "markdown",
     "metadata": {},
     "source": [
      "El m\u00e9todo que hemos utilizado es la **enumeraci\u00f3n exhaustiva** de todos los n\u00fameros hasta encontrar la respuesta correcta.  Los ordenadores son incre\u00edblemente r\u00e1pidos y muchas veces este m\u00e9todo puede generar una respuesta en un tiempo peque\u00f1o.\n",
      "\n",
      "La enumeraci\u00f3n exhaustiva es un m\u00e9todo muy sencillo de implementar, pero no siempre es utilizable. En muchas ocasiones el n\u00famero de posibles respuestas es tan elevado que no podemos enumerarlas todas en un tiempo razonable. \n",
      "\n",
      "Examina el ejemplo anterior para distintos valores.  Por ejemplo:"
     ]
    },
    {
     "cell_type": "code",
     "collapsed": false,
     "input": [
      "print raiz_cubica(8)\n",
      "print raiz_cubica(1971935064)"
     ],
     "language": "python",
     "metadata": {},
     "outputs": [
      {
       "output_type": "stream",
       "stream": "stdout",
       "text": [
        "2\n",
        "1254\n"
       ]
      }
     ],
     "prompt_number": 38
    },
    {
     "cell_type": "markdown",
     "metadata": {},
     "source": [
      "\u00bfQu\u00e9 pasar\u00eda si se llama con el argumento 9? \u00bfQu\u00e9 deber\u00eda devolver? No son preguntas que debas saber a priori, ni preguntas con trampa. Piensa c\u00f3mo deber\u00eda comportarse seg\u00fan tu propio criterio."
     ]
    }
   ],
   "metadata": {}
  }
 ]
}