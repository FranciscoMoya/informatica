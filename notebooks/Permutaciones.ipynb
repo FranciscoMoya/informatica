{
 "cells": [
  {
   "cell_type": "markdown",
   "metadata": {},
   "source": [
    "# Permutaciones de *n* elementos\n",
    "\n",
    "Determinar todas las posibles ordenaciones de *n* elementos sin repetición.  Por ejemplo, para la lista `[1,2,3]` las posibles ordenaciones son:\n",
    "\n",
    "``` Python\n",
    "[1,2,3]\n",
    "[1,3,2]\n",
    "[2,1,3]\n",
    "[2,3,1]\n",
    "[3,1,2]\n",
    "[3,2,1]```"
   ]
  },
  {
   "cell_type": "markdown",
   "metadata": {},
   "source": [
    "La forma más sencilla de resolver este problema es mediante una función recursiva que reduzca su complejidad.  Por ejemplo, para el caso de arriba la lista de las permutaciones es: *1 seguido de cada una de las permutaciones de [2,3], 2 seguido de cada una de las permutaciones de [1,3] y 3 seguido de cada una de las permutaciones de [1,2]*.\n",
    "\n",
    "Es decir, cada uno de los elementos se toma como el primer elemento y se concatena con el resultado de las permutaciones del resto de los elementos."
   ]
  },
  {
   "cell_type": "code",
   "execution_count": 40,
   "metadata": {
    "collapsed": false
   },
   "outputs": [],
   "source": [
    "def permutaciones(l):\n",
    "    '''Asume l lista de elementos.\n",
    "       Devuelve una lista de permutaciones. Cada \n",
    "       permutación es una lista como l pero con \n",
    "       los elementos reordenados.'''\n",
    "    if len(l) < 2:\n",
    "        return [l]\n",
    "    ret = []\n",
    "    for i in l:\n",
    "        ret += concat_elem_permutaciones(i, resto(l,i))\n",
    "    return ret\n",
    "\n",
    "def concat_elem_permutaciones(elem, l):\n",
    "    '''Asume elem de cualquier tipo, l lista de elementos.\n",
    "       Devuelve una lista de permutaciones de l pero con \n",
    "       elem añadido a la cabeza.'''\n",
    "    ret = []\n",
    "    for i in permutaciones(l):\n",
    "        ret.append([elem] + i)\n",
    "    return ret\n",
    "                                        \n",
    "def resto(l, elem):\n",
    "    '''Asume l lista, elem un elemento presente en l.\n",
    "       Devuelve una lista con los mismos elementos \n",
    "       salvo elem.'''\n",
    "    r = l[:]\n",
    "    r.remove(elem)\n",
    "    return r"
   ]
  },
  {
   "cell_type": "code",
   "execution_count": 41,
   "metadata": {
    "collapsed": false
   },
   "outputs": [
    {
     "data": {
      "text/plain": [
       "[[1, 2, 3], [1, 3, 2], [2, 1, 3], [2, 3, 1], [3, 1, 2], [3, 2, 1]]"
      ]
     },
     "execution_count": 41,
     "metadata": {},
     "output_type": "execute_result"
    }
   ],
   "source": [
    "permutaciones([1,2,3])"
   ]
  },
  {
   "cell_type": "markdown",
   "metadata": {},
   "source": [
    "Se puede abreviar bastante usando comprensiones de lista:"
   ]
  },
  {
   "cell_type": "code",
   "execution_count": 42,
   "metadata": {
    "collapsed": true
   },
   "outputs": [],
   "source": [
    "def permutaciones(l):\n",
    "    '''Asume l lista de elementos.\n",
    "       Devuelve una lista de permutaciones. Cada \n",
    "       permutación es una lista como l pero con \n",
    "       los elementos reordenados.'''\n",
    "    if len(l) < 2:\n",
    "        return [l]\n",
    "    return sum([concat_elem_permutaciones(i, resto(l,i)) for i in l ], [])\n",
    "\n",
    "def concat_elem_permutaciones(elem, l):\n",
    "    '''Asume elem de cualquier tipo, l lista de elementos.\n",
    "       Devuelve una lista de permutaciones de l pero con \n",
    "       elem añadido a la cabeza.'''\n",
    "    return [[elem] + i for i in permutaciones(l)]\n",
    "                                        \n",
    "def resto(l, elem):\n",
    "    '''Asume l lista, elem un elemento presente en l.\n",
    "       Devuelve una lista con los mismos elementos \n",
    "       salvo elem.'''\n",
    "    return [x for x in l if x != elem]"
   ]
  },
  {
   "cell_type": "markdown",
   "metadata": {},
   "source": [
    "## Usando generadores\n",
    "\n",
    "El problema está resuelto pero permíteme presentar otra posible solución.\n",
    "\n",
    "La solución que hemos presentado arriba devuelve una lista con todas las posibles permutaciones.  Como puedes imaginar esto puede llegar a ocupar mucho.  Imagina que tenemos que calcular las permutaciones de 20 elementos.  El resultado serían `factorial(20)` listas de *20* elementos. ¿Sabes cuánto es eso? Te lo diré en TB suponiendo que cada elemento ocupa solo un byte:"
   ]
  },
  {
   "cell_type": "code",
   "execution_count": 43,
   "metadata": {
    "collapsed": false
   },
   "outputs": [
    {
     "data": {
      "text/plain": [
       "44254230"
      ]
     },
     "execution_count": 43,
     "metadata": {},
     "output_type": "execute_result"
    }
   ],
   "source": [
    "from math import factorial\n",
    "round(20*factorial(20)/(1024**4))"
   ]
  },
  {
   "cell_type": "markdown",
   "metadata": {},
   "source": [
    "Son 44 millones de TB.  Ni siquiera cabría en el disco duro de tu ordenador.  Los discos duros más grandes que se venden hoy en día son de 4TB.  Necesitaríamos más de 10 millones de discos de 4TB.\n",
    "\n",
    "Si queremos permutaciones de un número razonable de elementos es evidente que no podemos guardarlo en una lista.  Tenemos que ir generando sobre la marcha.  Para eso puede ayudarnos mucho una utilidad de Python, los generadores.  Funcionan de forma parecida a los `range`. Cuando los intentamos recorrer van produciendo elementos.  Veamos por ejemplo un generador para generar los *n* primeros cuadrados:"
   ]
  },
  {
   "cell_type": "code",
   "execution_count": 44,
   "metadata": {
    "collapsed": true
   },
   "outputs": [],
   "source": [
    "def cuadrados(n):\n",
    "    '''Genera los n primeros cuadrados'''\n",
    "    for i in range(n):\n",
    "        yield i**2"
   ]
  },
  {
   "cell_type": "markdown",
   "metadata": {},
   "source": [
    "La palabra clave `yield` produce un resultado parcial.  Los detalles internos no es necesario conocerlos de momento.  Vamos a intentar usarla:"
   ]
  },
  {
   "cell_type": "code",
   "execution_count": 45,
   "metadata": {
    "collapsed": false
   },
   "outputs": [
    {
     "data": {
      "text/plain": [
       "<generator object cuadrados at 0x000000EAB5057BF8>"
      ]
     },
     "execution_count": 45,
     "metadata": {},
     "output_type": "execute_result"
    }
   ],
   "source": [
    "cuadrados(10)"
   ]
  },
  {
   "cell_type": "markdown",
   "metadata": {},
   "source": [
    "Le pasa los mismo que a los `range`.  No nos muestra información útil pero podemos usarlo como si fuera una lista:"
   ]
  },
  {
   "cell_type": "code",
   "execution_count": 46,
   "metadata": {
    "collapsed": false
   },
   "outputs": [
    {
     "name": "stdout",
     "output_type": "stream",
     "text": [
      "0 1 4 9 16 25 36 49 64 81 "
     ]
    }
   ],
   "source": [
    "for i in cuadrados(10):\n",
    "    print(i, end=' ')"
   ]
  },
  {
   "cell_type": "markdown",
   "metadata": {},
   "source": [
    "Incluso podemos convertirlo en lista de la misma forma que un `range`.  Lo interesante es que si no necesitamos convertirlo en lista no ocupa la memoria correspondiente a todos los elementos."
   ]
  },
  {
   "cell_type": "code",
   "execution_count": 47,
   "metadata": {
    "collapsed": false
   },
   "outputs": [
    {
     "data": {
      "text/plain": [
       "[0, 1, 4, 9, 16, 25, 36, 49, 64, 81]"
      ]
     },
     "execution_count": 47,
     "metadata": {},
     "output_type": "execute_result"
    }
   ],
   "source": [
    "list(cuadrados(10))"
   ]
  },
  {
   "cell_type": "markdown",
   "metadata": {},
   "source": [
    "Vamos a usar esta característica para generar permutaciones."
   ]
  },
  {
   "cell_type": "code",
   "execution_count": 48,
   "metadata": {
    "collapsed": true
   },
   "outputs": [],
   "source": [
    "def permutaciones(l):\n",
    "    if len(l) < 2:\n",
    "        yield l[:]\n",
    "        return\n",
    "    for i in l:\n",
    "        for j in permutaciones(resto(l,i)):\n",
    "            yield [i] + j\n",
    "\n",
    "def resto(l, elem):\n",
    "    r = l[:]\n",
    "    r.remove(elem)\n",
    "    return r"
   ]
  },
  {
   "cell_type": "markdown",
   "metadata": {},
   "source": [
    "Fíjate bien en que `yield` no es un return.  Produce un resultado y se queda ahí hasta que se le pide otro resultado.  Si ya no queremos seguir la ejecución del programa tenemos que usar `return`.\n",
    "\n",
    "La forma de usarlo es similar a un `range`."
   ]
  },
  {
   "cell_type": "code",
   "execution_count": 49,
   "metadata": {
    "collapsed": false
   },
   "outputs": [
    {
     "data": {
      "text/plain": [
       "[[1, 2, 3], [1, 3, 2], [2, 1, 3], [2, 3, 1], [3, 1, 2], [3, 2, 1]]"
      ]
     },
     "execution_count": 49,
     "metadata": {},
     "output_type": "execute_result"
    }
   ],
   "source": [
    "list(permutaciones([1,2,3]))"
   ]
  },
  {
   "cell_type": "markdown",
   "metadata": {},
   "source": [
    "Un generador no se llama como una función cualquiera.  El generador se llama una vez para tener todos los resultados y después se itera sobre ellos usando `next` o un bucle `for`.  Por ejemplo, veamos una forma de imprimir solo las 10 primeras permutaciones."
   ]
  },
  {
   "cell_type": "code",
   "execution_count": 50,
   "metadata": {
    "collapsed": false
   },
   "outputs": [
    {
     "name": "stdout",
     "output_type": "stream",
     "text": [
      "[1, 2, 3, 4, 5, 6, 7, 8]\n",
      "[1, 2, 3, 4, 5, 6, 8, 7]\n",
      "[1, 2, 3, 4, 5, 7, 6, 8]\n",
      "[1, 2, 3, 4, 5, 7, 8, 6]\n",
      "[1, 2, 3, 4, 5, 8, 6, 7]\n",
      "[1, 2, 3, 4, 5, 8, 7, 6]\n",
      "[1, 2, 3, 4, 6, 5, 7, 8]\n",
      "[1, 2, 3, 4, 6, 5, 8, 7]\n",
      "[1, 2, 3, 4, 6, 7, 5, 8]\n",
      "[1, 2, 3, 4, 6, 7, 8, 5]\n"
     ]
    }
   ],
   "source": [
    "todas = permutaciones([1,2,3,4,5,6,7,8])\n",
    "for i in range(10):\n",
    "    print(next(todas))"
   ]
  },
  {
   "cell_type": "markdown",
   "metadata": {},
   "source": [
    "De todas formas como puedes imaginar las permutaciones de una serie de elementos son muy útiles.  Sería imperdonable que Python no tuviera ya una implementación en su biblioteca estándar.  Está en `itertools`."
   ]
  },
  {
   "cell_type": "code",
   "execution_count": 53,
   "metadata": {
    "collapsed": true
   },
   "outputs": [],
   "source": [
    "from itertools import permutations as permutaciones"
   ]
  },
  {
   "cell_type": "code",
   "execution_count": 54,
   "metadata": {
    "collapsed": false
   },
   "outputs": [
    {
     "data": {
      "text/plain": [
       "[(1, 2, 3), (1, 3, 2), (2, 1, 3), (2, 3, 1), (3, 1, 2), (3, 2, 1)]"
      ]
     },
     "execution_count": 54,
     "metadata": {},
     "output_type": "execute_result"
    }
   ],
   "source": [
    "list(permutaciones([1,2,3]))"
   ]
  },
  {
   "cell_type": "code",
   "execution_count": null,
   "metadata": {
    "collapsed": true
   },
   "outputs": [],
   "source": []
  }
 ],
 "metadata": {
  "kernelspec": {
   "display_name": "Python 3",
   "language": "python",
   "name": "python3"
  },
  "language_info": {
   "codemirror_mode": {
    "name": "ipython",
    "version": 3
   },
   "file_extension": ".py",
   "mimetype": "text/x-python",
   "name": "python",
   "nbconvert_exporter": "python",
   "pygments_lexer": "ipython3",
   "version": "3.5.2"
  }
 },
 "nbformat": 4,
 "nbformat_minor": 1
}
