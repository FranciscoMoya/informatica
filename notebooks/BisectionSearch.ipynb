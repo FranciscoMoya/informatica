{
 "metadata": {
  "name": "",
  "signature": "sha256:88b87b23cc024efe2ac2a1473e8a4f9a5ea272d67221d98f4a4756b1be19ebc5"
 },
 "nbformat": 3,
 "nbformat_minor": 0,
 "worksheets": [
  {
   "cells": [
    {
     "cell_type": "markdown",
     "metadata": {},
     "source": [
      "# Pago de balance de tarjeta de cr\u00e9dito en un a\u00f1o\n",
      "\n",
      "## 1. Pago m\u00ednimo de 10\u20ac\n",
      "\n",
      "Escribe un programa que calcula la cuota m\u00ednima mensual necesaria para pagar un balance de tarjeta de cr\u00e9dito en 12 meses.\n",
      "\n",
      "La cuota mensual es un valor fijo, que no cambia cada mes.  No se considerar\u00e1 una tasa m\u00ednima de pago mensual.\n",
      "\n",
      "La funci\u00f3n deber\u00e1 tener dos argumentos: `balance`, que indica la cantidad que se debe en la tarjeta de cr\u00e9dito, y `tasa_anual`, que indica la tasa de inter\u00e9s anual.\n",
      "\n",
      "Debe asumirse que el inter\u00e9s se compone mensualmente de acuerdo al balance al final del mes.  Es decir, despu\u00e9s de que el pago de la cuota se ha realizado.  La cuota tiene que ser un m\u00faltiplo de 10\u20ac y es el mismo para todos los meses. N\u00f3tese que es posible que el balance final sea negativo empleando este esquema de pago.  Eso es normal y no implica error alguno."
     ]
    },
    {
     "cell_type": "code",
     "collapsed": false,
     "input": [
      "# Sugerencia: Enumeraci\u00f3n exhaustiva"
     ],
     "language": "python",
     "metadata": {},
     "outputs": [],
     "prompt_number": 6
    },
    {
     "cell_type": "markdown",
     "metadata": {},
     "source": [
      "La soluci\u00f3n por enumeraci\u00f3n exhaustiva es trivial."
     ]
    },
    {
     "cell_type": "code",
     "collapsed": false,
     "input": [
      "def cuota_minima(balance, tasa_anual):\n",
      "    tasa_mensual = tasa_anual / 12\n",
      "    cuota = 10\n",
      "    while not es_suficiente(cuota, balance, tasa_mensual):\n",
      "        cuota += 10\n",
      "    return cuota"
     ],
     "language": "python",
     "metadata": {},
     "outputs": [],
     "prompt_number": 7
    },
    {
     "cell_type": "markdown",
     "metadata": {},
     "source": [
      "Evidentemente la dificultad mayor est\u00e1 en la funci\u00f3n `es_suficiente`."
     ]
    },
    {
     "cell_type": "code",
     "collapsed": false,
     "input": [
      "def es_suficiente(cuota, balance, tasa):\n",
      "    for i in range(12):\n",
      "        balance -= cuota\n",
      "        balance *= 1+tasa\n",
      "    return balance <= 0"
     ],
     "language": "python",
     "metadata": {},
     "outputs": [],
     "prompt_number": 8
    },
    {
     "cell_type": "markdown",
     "metadata": {},
     "source": [
      "Solo falta probarlo"
     ]
    },
    {
     "cell_type": "code",
     "collapsed": false,
     "input": [
      "print cuota_minima(1000, .9)"
     ],
     "language": "python",
     "metadata": {},
     "outputs": [
      {
       "output_type": "stream",
       "stream": "stdout",
       "text": [
        "130\n"
       ]
      }
     ],
     "prompt_number": 9
    },
    {
     "cell_type": "markdown",
     "metadata": {},
     "source": [
      "# 2. Pago m\u00faltiplo de 0.01\u20ac\n",
      "\n",
      "El resto del problema en las mismas condiciones que el problema anterior."
     ]
    },
    {
     "cell_type": "code",
     "collapsed": false,
     "input": [
      "# Sugerencia: B\u00fasqueda por bisecci\u00f3n"
     ],
     "language": "python",
     "metadata": {},
     "outputs": [],
     "prompt_number": 10
    },
    {
     "cell_type": "markdown",
     "metadata": {},
     "source": [
      "La b\u00fasqueda por bisecci\u00f3n es igual que en la transparencia."
     ]
    },
    {
     "cell_type": "code",
     "collapsed": false,
     "input": [],
     "language": "python",
     "metadata": {},
     "outputs": []
    }
   ],
   "metadata": {}
  }
 ]
}