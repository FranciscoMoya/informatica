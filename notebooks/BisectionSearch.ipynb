{
 "metadata": {
  "name": "",
  "signature": "sha256:9af563baa915fbdb50d8e5787bd622c0a5f71ddc50c1d5b5d8a11b2776d663f2"
 },
 "nbformat": 3,
 "nbformat_minor": 0,
 "worksheets": [
  {
   "cells": [
    {
     "cell_type": "markdown",
     "metadata": {},
     "source": [
      "# Pago de balance de tarjeta de cr\u00e9dito en un a\u00f1o\n",
      "\n",
      "## 1. Pago m\u00ednimo de 10\u20ac\n",
      "\n",
      "Escribe un programa que calcula la cuota m\u00ednima mensual necesaria para pagar un balance de tarjeta de cr\u00e9dito en 12 meses.\n",
      "\n",
      "La cuota mensual es un valor fijo, que no cambia cada mes.  No se considerar\u00e1 una tasa m\u00ednima de pago mensual.\n",
      "\n",
      "La funci\u00f3n deber\u00e1 tener dos argumentos: `balance`, que indica la cantidad que se debe en la tarjeta de cr\u00e9dito, y `tasa_anual`, que indica la tasa de inter\u00e9s anual.\n",
      "\n",
      "Debe asumirse que el inter\u00e9s se compone mensualmente de acuerdo al balance al final del mes.  Es decir, despu\u00e9s de que el pago de la cuota se ha realizado.  La cuota tiene que ser un m\u00faltiplo de 10\u20ac y es el mismo para todos los meses. N\u00f3tese que es posible que el balance final sea negativo empleando este esquema de pago.  Eso es normal y no implica error alguno."
     ]
    },
    {
     "cell_type": "code",
     "collapsed": false,
     "input": [
      "# Sugerencia: Enumeraci\u00f3n exhaustiva"
     ],
     "language": "python",
     "metadata": {},
     "outputs": [],
     "prompt_number": 13
    },
    {
     "cell_type": "markdown",
     "metadata": {},
     "source": [
      "La soluci\u00f3n por enumeraci\u00f3n exhaustiva es trivial."
     ]
    },
    {
     "cell_type": "code",
     "collapsed": false,
     "input": [
      "def cuota_minima(balance, tasa_anual):\n",
      "    tasa_mensual = tasa_anual / 12\n",
      "    cuota = 10\n",
      "    while not es_suficiente(cuota, balance, tasa_mensual):\n",
      "        cuota += 10\n",
      "    return cuota"
     ],
     "language": "python",
     "metadata": {},
     "outputs": [],
     "prompt_number": 14
    },
    {
     "cell_type": "markdown",
     "metadata": {},
     "source": [
      "Evidentemente la dificultad mayor est\u00e1 en la funci\u00f3n `es_suficiente`."
     ]
    },
    {
     "cell_type": "code",
     "collapsed": false,
     "input": [
      "def es_suficiente(cuota, balance, tasa):\n",
      "    for i in range(12):\n",
      "        balance -= cuota\n",
      "        if balance > 0:\n",
      "            balance *= 1 + tasa\n",
      "    return balance <= 0"
     ],
     "language": "python",
     "metadata": {},
     "outputs": [],
     "prompt_number": 15
    },
    {
     "cell_type": "markdown",
     "metadata": {},
     "source": [
      "Solo falta probarlo"
     ]
    },
    {
     "cell_type": "code",
     "collapsed": false,
     "input": [
      "print cuota_minima(1000, .09)"
     ],
     "language": "python",
     "metadata": {},
     "outputs": [
      {
       "output_type": "stream",
       "stream": "stdout",
       "text": [
        "90\n"
       ]
      }
     ],
     "prompt_number": 16
    },
    {
     "cell_type": "markdown",
     "metadata": {},
     "source": [
      "# 2. Pago m\u00faltiplo de 0.01\u20ac\n",
      "\n",
      "El resto del problema en las mismas condiciones que el problema anterior."
     ]
    },
    {
     "cell_type": "code",
     "collapsed": false,
     "input": [
      "# Sugerencia: B\u00fasqueda por bisecci\u00f3n"
     ],
     "language": "python",
     "metadata": {},
     "outputs": [],
     "prompt_number": 17
    },
    {
     "cell_type": "markdown",
     "metadata": {},
     "source": [
      "La b\u00fasqueda por bisecci\u00f3n es igual que en la transparencia. Tan solo tenemos que pensar las cotas inferior y superior de la `cuota` y determinar cuando hemos llegado a la soluci\u00f3n.\n",
      "\n",
      "La cuota m\u00ednima podr\u00eda ser la que corresponde a una tasa de inter\u00e9s del 0% anual.  Osea, `balance/12.0`. N\u00f3tese que usamos `12.` y no `12` para que haya divisi\u00f3n real y no entera.\n",
      "\n",
      "La cuota m\u00e1xima podr\u00eda determinarse como la necesaria para pagar todo a final de a\u00f1o.  Es decir, si no vamos pagando cada mes sino las 12 cuotas al final del a\u00f1o.  Cada mes habr\u00edamos acumulado intereses, por lo que el balance a final de a\u00f1o ser\u00eda `balance * (1 + tasa_mensual) ** 12`.  La cota por tanto ser\u00eda el resultado de dividir esto entre 12.\n",
      "\n",
      "El c\u00e1lculo de las cuotas se redondea a 1 c\u00e9ntimo como dice el enunciado."
     ]
    },
    {
     "cell_type": "code",
     "collapsed": false,
     "input": [
      "def cuota_minima(balance, tasa_anual):\n",
      "    tasa_mensual = tasa_anual / 12.\n",
      "    low = balance / 12.\n",
      "    high = (balance * (1 + tasa_mensual)**12) / 12.\n",
      "    cuota = round((high + low)/2.0, 2)\n",
      "    balance_final = calcular_balance_final(cuota, balance, tasa_mensual)\n",
      "    while not es_balance_final_minimo(balance_final):\n",
      "        if balance_final > 0: low = cuota\n",
      "        else: high = cuota\n",
      "        cuota = round((high + low)/2.0, 2)\n",
      "        balance_final = calcular_balance_final(cuota, balance, tasa_mensual)\n",
      "    return cuota"
     ],
     "language": "python",
     "metadata": {},
     "outputs": [],
     "prompt_number": 18
    },
    {
     "cell_type": "markdown",
     "metadata": {},
     "source": [
      "El balance m\u00ednimo ser\u00e1 aquel que permita pagar el cr\u00e9dito (`balance_final <= 0`) y adem\u00e1s no nos pasemos en exceso.\n",
      "\n",
      "Supongamos que llegamos a una cuota que no permite pagar el cr\u00e9dito por 1 c\u00e9ntimo.  Esa cuota no vale, necesitamos una superior, pero si pagamos un c\u00e9ntimo m\u00e1s al mes habremos pagado en total 11 c\u00e9ntimos m\u00e1s de lo necesario.  Esto es lo m\u00e1ximo que podemos excedernos."
     ]
    },
    {
     "cell_type": "code",
     "collapsed": false,
     "input": [
      "def es_balance_final_minimo(balance_final):\n",
      "    return balance_final <= 0 and balance_final > -0.12"
     ],
     "language": "python",
     "metadata": {},
     "outputs": [],
     "prompt_number": 19
    },
    {
     "cell_type": "markdown",
     "metadata": {},
     "source": [
      "El balance final ya lo calculamos en el caso anterior."
     ]
    },
    {
     "cell_type": "code",
     "collapsed": false,
     "input": [
      "def calcular_balance_final(cuota, balance, tasa_mensual):\n",
      "    for i in range(12):\n",
      "        balance -= cuota\n",
      "        if balance >0:\n",
      "            balance *= 1+tasa_mensual\n",
      "    return balance"
     ],
     "language": "python",
     "metadata": {},
     "outputs": [],
     "prompt_number": 20
    },
    {
     "cell_type": "markdown",
     "metadata": {},
     "source": [
      "Solo falta probarlo."
     ]
    },
    {
     "cell_type": "code",
     "collapsed": false,
     "input": [
      "print cuota_minima(1000, .09)"
     ],
     "language": "python",
     "metadata": {},
     "outputs": [
      {
       "output_type": "stream",
       "stream": "stdout",
       "text": [
        "86.81\n"
       ]
      }
     ],
     "prompt_number": 22
    },
    {
     "cell_type": "markdown",
     "metadata": {},
     "source": [
      "Ahora s\u00ed que podemos usarlo con n\u00fameros realmente grandes, porque el m\u00e9todo es mucho m\u00e1s r\u00e1pido."
     ]
    },
    {
     "cell_type": "code",
     "collapsed": false,
     "input": [
      "print cuota_minima(1000000000, .09)"
     ],
     "language": "python",
     "metadata": {},
     "outputs": [
      {
       "output_type": "stream",
       "stream": "stdout",
       "text": [
        "86800473.23\n"
       ]
      }
     ],
     "prompt_number": 23
    }
   ],
   "metadata": {}
  }
 ]
}