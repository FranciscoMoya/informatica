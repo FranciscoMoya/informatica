{
 "cells": [
  {
   "cell_type": "markdown",
   "metadata": {},
   "source": [
    "# Pago de balance de tarjeta de crédito en un año\n",
    "\n",
    "## 1. Pago mínimo de 10€\n",
    "\n",
    "Escribe un programa que calcula la cuota mínima mensual necesaria para pagar un balance de tarjeta de crédito en 12 meses.\n",
    "\n",
    "La cuota mensual es un valor fijo, que no cambia cada mes.  No se considerará una tasa mínima de pago mensual.\n",
    "\n",
    "La función deberá tener dos argumentos: `balance`, que indica la cantidad que se debe en la tarjeta de crédito, y `tasa_anual`, que indica la tasa de interés anual.\n",
    "\n",
    "Debe asumirse que el interés se compone mensualmente de acuerdo al balance al final del mes.  Es decir, después de que el pago de la cuota se ha realizado.  La cuota tiene que ser un múltiplo de 10€ y es el mismo para todos los meses. Nótese que es posible que el balance final sea negativo empleando este esquema de pago.  Eso es normal y no implica error alguno."
   ]
  },
  {
   "cell_type": "code",
   "execution_count": 10,
   "metadata": {
    "collapsed": false
   },
   "outputs": [],
   "source": [
    "# Sugerencia: Enumeración exhaustiva"
   ]
  },
  {
   "cell_type": "markdown",
   "metadata": {},
   "source": [
    "La solución por enumeración exhaustiva es trivial."
   ]
  },
  {
   "cell_type": "code",
   "execution_count": 11,
   "metadata": {
    "collapsed": false
   },
   "outputs": [],
   "source": [
    "def cuota_minima(balance, tasa_anual):\n",
    "    tasa_mensual = tasa_anual / 12\n",
    "    cuota = 10\n",
    "    while not es_suficiente(cuota, balance, tasa_mensual):\n",
    "        cuota += 10\n",
    "    return cuota"
   ]
  },
  {
   "cell_type": "markdown",
   "metadata": {},
   "source": [
    "Evidentemente la dificultad mayor está en la función `es_suficiente`."
   ]
  },
  {
   "cell_type": "code",
   "execution_count": 12,
   "metadata": {
    "collapsed": false
   },
   "outputs": [],
   "source": [
    "def es_suficiente(cuota, balance, tasa):\n",
    "    for i in range(12):\n",
    "        balance -= cuota\n",
    "        if balance > 0:\n",
    "            balance *= 1 + tasa\n",
    "    return balance <= 0"
   ]
  },
  {
   "cell_type": "markdown",
   "metadata": {},
   "source": [
    "Solo falta probarlo"
   ]
  },
  {
   "cell_type": "code",
   "execution_count": 13,
   "metadata": {
    "collapsed": false
   },
   "outputs": [
    {
     "name": "stdout",
     "output_type": "stream",
     "text": [
      "90\n"
     ]
    }
   ],
   "source": [
    "print(cuota_minima(1000, .09))"
   ]
  },
  {
   "cell_type": "markdown",
   "metadata": {},
   "source": [
    "# 2. Pago múltiplo de 0.01€\n",
    "\n",
    "El resto del problema en las mismas condiciones que el problema anterior."
   ]
  },
  {
   "cell_type": "code",
   "execution_count": 14,
   "metadata": {
    "collapsed": false
   },
   "outputs": [],
   "source": [
    "# Sugerencia: Búsqueda por bisección"
   ]
  },
  {
   "cell_type": "markdown",
   "metadata": {},
   "source": [
    "La búsqueda por bisección es igual que en la transparencia. Tan solo tenemos que pensar las cotas inferior y superior de la `cuota` y determinar cuando hemos llegado a la solución.\n",
    "\n",
    "La cuota mínima podría ser la que corresponde a una tasa de interés del 0% anual.  Osea, `balance/12`.\n",
    "\n",
    "La cuota máxima podría determinarse como la necesaria para pagar todo a final de año.  Es decir, si no vamos pagando cada mes sino las 12 cuotas al final del año.  Cada mes habríamos acumulado intereses, por lo que el balance a final de año sería `balance * (1 + tasa_mensual) ** 12`.  La cota por tanto sería el resultado de dividir esto entre 12.\n",
    "\n",
    "El cálculo de las cuotas se redondea a 1 céntimo como dice el enunciado."
   ]
  },
  {
   "cell_type": "code",
   "execution_count": 15,
   "metadata": {
    "collapsed": false
   },
   "outputs": [],
   "source": [
    "def cuota_minima(balance, tasa_anual):\n",
    "    tasa_mensual = tasa_anual / 12.\n",
    "    low = balance / 12.\n",
    "    high = (balance * (1 + tasa_mensual)**12) / 12.\n",
    "    cuota = round((high + low)/2, 2)\n",
    "    balance_final = calcular_balance_final(cuota, balance, tasa_mensual)\n",
    "    while not es_balance_final_minimo(balance_final):\n",
    "        if balance_final > 0: low = cuota\n",
    "        else: high = cuota\n",
    "        cuota = round((high + low)/2, 2)\n",
    "        balance_final = calcular_balance_final(cuota, balance, tasa_mensual)\n",
    "    return cuota"
   ]
  },
  {
   "cell_type": "markdown",
   "metadata": {},
   "source": [
    "El balance mínimo será aquel que permita pagar el crédito (`balance_final <= 0`) y además no nos pasemos en exceso.\n",
    "\n",
    "Supongamos que llegamos a una cuota que no permite pagar el crédito por 1 céntimo.  Esa cuota no vale, necesitamos una superior, pero si pagamos un céntimo más al mes habremos pagado en total 11 céntimos más de lo necesario.  Esto es lo máximo que podemos excedernos."
   ]
  },
  {
   "cell_type": "code",
   "execution_count": 16,
   "metadata": {
    "collapsed": false
   },
   "outputs": [],
   "source": [
    "def es_balance_final_minimo(balance_final):\n",
    "    return balance_final <= 0 and balance_final > -0.12"
   ]
  },
  {
   "cell_type": "markdown",
   "metadata": {},
   "source": [
    "El balance final ya lo calculamos en el caso anterior."
   ]
  },
  {
   "cell_type": "code",
   "execution_count": 17,
   "metadata": {
    "collapsed": false
   },
   "outputs": [],
   "source": [
    "def calcular_balance_final(cuota, balance, tasa_mensual):\n",
    "    for i in range(12):\n",
    "        balance -= cuota\n",
    "        if balance >0:\n",
    "            balance *= 1+tasa_mensual\n",
    "    return balance"
   ]
  },
  {
   "cell_type": "markdown",
   "metadata": {},
   "source": [
    "Solo falta probarlo."
   ]
  },
  {
   "cell_type": "code",
   "execution_count": 18,
   "metadata": {
    "collapsed": false
   },
   "outputs": [
    {
     "name": "stdout",
     "output_type": "stream",
     "text": [
      "86.81\n"
     ]
    }
   ],
   "source": [
    "print(cuota_minima(1000, .09))"
   ]
  },
  {
   "cell_type": "markdown",
   "metadata": {},
   "source": [
    "Ahora sí que podemos usarlo con números realmente grandes, porque el método es mucho más rápido."
   ]
  },
  {
   "cell_type": "code",
   "execution_count": 19,
   "metadata": {
    "collapsed": false
   },
   "outputs": [
    {
     "name": "stdout",
     "output_type": "stream",
     "text": [
      "86800473.23\n"
     ]
    }
   ],
   "source": [
    "print(cuota_minima(1000000000, .09))"
   ]
  }
 ],
 "metadata": {
  "kernelspec": {
   "display_name": "Python 3",
   "language": "python",
   "name": "python3"
  },
  "language_info": {
   "codemirror_mode": {
    "name": "ipython",
    "version": 3
   },
   "file_extension": ".py",
   "mimetype": "text/x-python",
   "name": "python",
   "nbconvert_exporter": "python",
   "pygments_lexer": "ipython3",
   "version": "3.5.2"
  }
 },
 "nbformat": 4,
 "nbformat_minor": 0
}
