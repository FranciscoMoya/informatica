{
 "cells": [
  {
   "cell_type": "markdown",
   "metadata": {},
   "source": [
    "Haz un programa que imprima la suma de los 10 números que se introduzcan por pantalla."
   ]
  },
  {
   "cell_type": "code",
   "execution_count": 1,
   "metadata": {
    "collapsed": false
   },
   "outputs": [
    {
     "name": "stdout",
     "output_type": "stream",
     "text": [
      "Introduce un numero 10\n",
      "Introduce un numero 9\n",
      "Introduce un numero 8\n",
      "Introduce un numero 7\n",
      "Introduce un numero 6\n",
      "Introduce un numero 5\n",
      "Introduce un numero 4\n",
      "Introduce un numero 3\n",
      "Introduce un numero 2\n",
      "Introduce un numero 1\n",
      "55\n"
     ]
    }
   ],
   "source": [
    "suma = 0\n",
    "for a in range(10):\n",
    "    suma = suma + int(input('Introduce un numero ')) \n",
    "print(suma)"
   ]
  },
  {
   "cell_type": "markdown",
   "metadata": {},
   "source": [
    "Haz un programa que imprima la tabla de multiplicar completa (del 1 al 9). "
   ]
  },
  {
   "cell_type": "code",
   "execution_count": 2,
   "metadata": {
    "collapsed": false
   },
   "outputs": [],
   "source": [
    "def imprime_tablas_simple():\n",
    "    for i in range(1,10):\n",
    "        imprime_tabla(i)\n",
    "        print()\n",
    "\n",
    "def imprime_tabla(n):\n",
    "    for i in range(1,11):\n",
    "        imprime_linea(n,i)\n",
    "        print()\n",
    "\n",
    "def imprime_linea(n,i):\n",
    "    print(n,'x',i,'=',n*i,end='')"
   ]
  },
  {
   "cell_type": "markdown",
   "metadata": {},
   "source": [
    "Otra forma:"
   ]
  },
  {
   "cell_type": "code",
   "execution_count": 3,
   "metadata": {
    "collapsed": false
   },
   "outputs": [
    {
     "name": "stdout",
     "output_type": "stream",
     "text": [
      "1 x 1 = 1\t2 x 1 = 2\t3 x 1 = 3\t\n",
      "1 x 2 = 2\t2 x 2 = 4\t3 x 2 = 6\t\n",
      "1 x 3 = 3\t2 x 3 = 6\t3 x 3 = 9\t\n",
      "1 x 4 = 4\t2 x 4 = 8\t3 x 4 = 12\t\n",
      "1 x 5 = 5\t2 x 5 = 10\t3 x 5 = 15\t\n",
      "1 x 6 = 6\t2 x 6 = 12\t3 x 6 = 18\t\n",
      "1 x 7 = 7\t2 x 7 = 14\t3 x 7 = 21\t\n",
      "1 x 8 = 8\t2 x 8 = 16\t3 x 8 = 24\t\n",
      "1 x 9 = 9\t2 x 9 = 18\t3 x 9 = 27\t\n",
      "1 x 10 = 10\t2 x 10 = 20\t3 x 10 = 30\t\n",
      "\n",
      "4 x 1 = 4\t5 x 1 = 5\t6 x 1 = 6\t\n",
      "4 x 2 = 8\t5 x 2 = 10\t6 x 2 = 12\t\n",
      "4 x 3 = 12\t5 x 3 = 15\t6 x 3 = 18\t\n",
      "4 x 4 = 16\t5 x 4 = 20\t6 x 4 = 24\t\n",
      "4 x 5 = 20\t5 x 5 = 25\t6 x 5 = 30\t\n",
      "4 x 6 = 24\t5 x 6 = 30\t6 x 6 = 36\t\n",
      "4 x 7 = 28\t5 x 7 = 35\t6 x 7 = 42\t\n",
      "4 x 8 = 32\t5 x 8 = 40\t6 x 8 = 48\t\n",
      "4 x 9 = 36\t5 x 9 = 45\t6 x 9 = 54\t\n",
      "4 x 10 = 40\t5 x 10 = 50\t6 x 10 = 60\t\n",
      "\n",
      "7 x 1 = 7\t8 x 1 = 8\t9 x 1 = 9\t\n",
      "7 x 2 = 14\t8 x 2 = 16\t9 x 2 = 18\t\n",
      "7 x 3 = 21\t8 x 3 = 24\t9 x 3 = 27\t\n",
      "7 x 4 = 28\t8 x 4 = 32\t9 x 4 = 36\t\n",
      "7 x 5 = 35\t8 x 5 = 40\t9 x 5 = 45\t\n",
      "7 x 6 = 42\t8 x 6 = 48\t9 x 6 = 54\t\n",
      "7 x 7 = 49\t8 x 7 = 56\t9 x 7 = 63\t\n",
      "7 x 8 = 56\t8 x 8 = 64\t9 x 8 = 72\t\n",
      "7 x 9 = 63\t8 x 9 = 72\t9 x 9 = 81\t\n",
      "7 x 10 = 70\t8 x 10 = 80\t9 x 10 = 90\t\n",
      "\n"
     ]
    }
   ],
   "source": [
    "def imprime_mosaico():\n",
    "    for i in range(1,10,3):\n",
    "        imprime_tablas_mosaico(i)\n",
    "        \n",
    "def imprime_tablas_mosaico(primera):\n",
    "    for i in range(1,11):\n",
    "        imprime_linea_mosaico(primera,i)\n",
    "    print()\n",
    "\n",
    "def imprime_linea_mosaico(primera, n):\n",
    "    for i in range(primera, primera+3):\n",
    "        imprime_linea(i,n)\n",
    "        print(end='\\t')\n",
    "    print()\n",
    "\n",
    "def imprime_linea(n,i):\n",
    "    print(n,'x',i,'=',n*i,end='')\n",
    "\n",
    "imprime_mosaico()"
   ]
  },
  {
   "cell_type": "markdown",
   "metadata": {},
   "source": [
    "Haz un programa que imprima el siguiente dibujo\n",
    "\n",
    "```\n",
    "+----------------+\n",
    "|                |\n",
    "|                |\n",
    "|                |\n",
    "|                |\n",
    "|                |\n",
    "|                |\n",
    "|                |\n",
    "|                |\n",
    "+----------------+\n",
    "```"
   ]
  },
  {
   "cell_type": "code",
   "execution_count": 4,
   "metadata": {
    "collapsed": false
   },
   "outputs": [
    {
     "name": "stdout",
     "output_type": "stream",
     "text": [
      "+----------------+\n",
      "|                |\n",
      "|                |\n",
      "|                |\n",
      "|                |\n",
      "|                |\n",
      "|                |\n",
      "|                |\n",
      "|                |\n",
      "+----------------+\n"
     ]
    }
   ],
   "source": [
    "def imprime_cuadrado(ancho):\n",
    "    imprime_borde(ancho)\n",
    "    for i in range(8):\n",
    "        imprime_cara(ancho)\n",
    "    imprime_borde(ancho)\n",
    "    \n",
    "def imprime_borde(ancho):\n",
    "    print('+' + '-'*ancho + '+')\n",
    "\n",
    "def imprime_cara(ancho):\n",
    "    print('|' + ' '*ancho + '|')\n",
    "\n",
    "imprime_cuadrado(16)"
   ]
  },
  {
   "cell_type": "markdown",
   "metadata": {},
   "source": [
    "Crear una función que valide una contraseña según estos criterios:\n",
    "\n",
    "* La contraseña debe contener un mínimo de 8 caracteres.\n",
    "* Una contraseña debe contener letras minúsculas, mayúsculas, números y al menos 1 carácter no alfanumérico.\n",
    "* La contraseña no puede contener espacios en blanco.\n",
    "* Contraseña válida, retorna `True`.\n",
    "* Contraseña no válida, retorna el mensaje `\"La contraseña elegida no es segura\"`.\n"
   ]
  },
  {
   "cell_type": "code",
   "execution_count": 5,
   "metadata": {
    "collapsed": false
   },
   "outputs": [
    {
     "data": {
      "text/plain": [
       "True"
      ]
     },
     "execution_count": 5,
     "metadata": {},
     "output_type": "execute_result"
    }
   ],
   "source": [
    "def valida_palabra_clave(palabra):\n",
    "    return  valida_8_caracteres(palabra) and \\\n",
    "            valida_tipos_caracteres(palabra) and \\\n",
    "            valida_no_espacios(palabra)\n",
    "\n",
    "        \n",
    "def valida_8_caracteres(palabra):\n",
    "    return len(palabra) >= 8\n",
    "\n",
    "\n",
    "def valida_tipos_caracteres(palabra):\n",
    "    return valida_mayusculas(palabra) \\\n",
    "        and valida_minusculas(palabra) \\\n",
    "        and valida_numeros(palabra) \\\n",
    "        and valida_simbolos(palabra)\n",
    "\n",
    "        \n",
    "def valida_no_espacios(palabra):\n",
    "    for c in palabra:\n",
    "        if c == ' ':\n",
    "            return False\n",
    "    return True\n",
    "\n",
    "\n",
    "def valida_mayusculas(palabra):\n",
    "    for c in palabra:\n",
    "        if es_mayuscula(c):\n",
    "            return True\n",
    "    return False\n",
    "\n",
    "\n",
    "def valida_minusculas(palabra):\n",
    "    for c in palabra:\n",
    "        if es_minuscula(c):\n",
    "            return True\n",
    "    return False\n",
    "\n",
    "\n",
    "def valida_numeros(palabra):\n",
    "    for c in palabra:\n",
    "        if es_numero(c):\n",
    "            return True\n",
    "    return False\n",
    "\n",
    "\n",
    "def valida_simbolos(palabra):\n",
    "    for c in palabra:\n",
    "        if es_simbolo(c):\n",
    "            return True\n",
    "    return False\n",
    "\n",
    "\n",
    "def es_mayuscula(c):\n",
    "    return c >= 'A' and c <= 'Z'\n",
    "\n",
    "\n",
    "def es_minuscula(c):\n",
    "    return c >= 'a' and c <= 'z'\n",
    "\n",
    "\n",
    "def es_numero(c):\n",
    "    return c >= '0' and c <= '9'\n",
    "\n",
    "\n",
    "def es_simbolo(c):\n",
    "    return not ( es_mayuscula(c) \\\n",
    "        or es_minuscula(c) \\\n",
    "        or es_numero(c) )\n",
    "\n",
    "\n",
    "valida_palabra_clave('aLt0$€cr3t0')"
   ]
  },
  {
   "cell_type": "markdown",
   "metadata": {},
   "source": [
    "¿No es muy repetitivo? Las validaciones de tipos de caracteres son prácticamente iguales. Solo se diferencian en la función que determina el tipo de cada caracter.  Por tanto para no repetir código se puede pasar como parámetro."
   ]
  },
  {
   "cell_type": "code",
   "execution_count": 6,
   "metadata": {
    "collapsed": false
   },
   "outputs": [
    {
     "data": {
      "text/plain": [
       "True"
      ]
     },
     "execution_count": 6,
     "metadata": {},
     "output_type": "execute_result"
    }
   ],
   "source": [
    "def valida_tipos_caracteres(palabra):\n",
    "    return valida_tipo(es_mayuscula, palabra) \\\n",
    "        and valida_tipo(es_minuscula, palabra) \\\n",
    "        and valida_tipo(es_numero, palabra) \\\n",
    "        and valida_tipo(es_simbolo, palabra)\n",
    "\n",
    "        \n",
    "def valida_no_espacios(palabra):\n",
    "    return not valida_tipo(es_espacio, palabra)\n",
    "\n",
    "\n",
    "def valida_tipo(es_tipo, palabra):\n",
    "    for c in palabra:\n",
    "        if es_tipo(c):\n",
    "            return True\n",
    "    return False\n",
    "\n",
    "\n",
    "def es_espacio(c):\n",
    "    return c == ' '\n",
    "\n",
    "\n",
    "valida_palabra_clave('aLt0s€cr3T0')"
   ]
  },
  {
   "cell_type": "code",
   "execution_count": null,
   "metadata": {
    "collapsed": false
   },
   "outputs": [],
   "source": []
  }
 ],
 "metadata": {
  "kernelspec": {
   "display_name": "Python 3",
   "language": "python",
   "name": "python3"
  },
  "language_info": {
   "codemirror_mode": {
    "name": "ipython",
    "version": 3
   },
   "file_extension": ".py",
   "mimetype": "text/x-python",
   "name": "python",
   "nbconvert_exporter": "python",
   "pygments_lexer": "ipython3",
   "version": "3.5.2"
  }
 },
 "nbformat": 4,
 "nbformat_minor": 0
}
