{
 "metadata": {
  "name": "",
  "signature": "sha256:5b7dafa1c71ddb04b5010176e68b2033598dc676007581efb6574905f2678876"
 },
 "nbformat": 3,
 "nbformat_minor": 0,
 "worksheets": [
  {
   "cells": [
    {
     "cell_type": "markdown",
     "metadata": {},
     "source": [
      "Haz un programa que imprima la suma de los 10 n\u00fameros que se introduzcan por pantalla."
     ]
    },
    {
     "cell_type": "code",
     "collapsed": false,
     "input": [
      "suma = 0\n",
      "for a in range(10):\n",
      "    suma = suma + int(raw_input('Introduce un numero')) \n",
      "print suma"
     ],
     "language": "python",
     "metadata": {},
     "outputs": [
      {
       "name": "stdout",
       "output_type": "stream",
       "stream": "stdout",
       "text": [
        "Introduce un numero1\n"
       ]
      },
      {
       "name": "stdout",
       "output_type": "stream",
       "stream": "stdout",
       "text": [
        "Introduce un numero2\n"
       ]
      },
      {
       "name": "stdout",
       "output_type": "stream",
       "stream": "stdout",
       "text": [
        "Introduce un numero3\n"
       ]
      },
      {
       "name": "stdout",
       "output_type": "stream",
       "stream": "stdout",
       "text": [
        "Introduce un numero4\n"
       ]
      },
      {
       "name": "stdout",
       "output_type": "stream",
       "stream": "stdout",
       "text": [
        "Introduce un numero5\n"
       ]
      },
      {
       "name": "stdout",
       "output_type": "stream",
       "stream": "stdout",
       "text": [
        "Introduce un numero6\n"
       ]
      },
      {
       "name": "stdout",
       "output_type": "stream",
       "stream": "stdout",
       "text": [
        "Introduce un numero7\n"
       ]
      },
      {
       "name": "stdout",
       "output_type": "stream",
       "stream": "stdout",
       "text": [
        "Introduce un numero8\n"
       ]
      },
      {
       "name": "stdout",
       "output_type": "stream",
       "stream": "stdout",
       "text": [
        "Introduce un numero9\n"
       ]
      },
      {
       "name": "stdout",
       "output_type": "stream",
       "stream": "stdout",
       "text": [
        "Introduce un numero10\n"
       ]
      },
      {
       "output_type": "stream",
       "stream": "stdout",
       "text": [
        "55\n"
       ]
      }
     ],
     "prompt_number": 2
    },
    {
     "cell_type": "markdown",
     "metadata": {},
     "source": [
      "Haz un programa que imprima la tabla de multiplicar completa (del 1 al 9). "
     ]
    },
    {
     "cell_type": "code",
     "collapsed": false,
     "input": [
      "def imprime_tablas_simple():\n",
      "    for i in range(1,10):\n",
      "        imprime_tabla(i)\n",
      "        print\n",
      "\n",
      "def imprime_tabla(n):\n",
      "    for i in range(1,11):\n",
      "        imprime_linea(n,i)\n",
      "        print\n",
      "\n",
      "def imprime_linea(n,i):\n",
      "    print n,'x',i,'=',n*i,"
     ],
     "language": "python",
     "metadata": {},
     "outputs": [],
     "prompt_number": 3
    },
    {
     "cell_type": "markdown",
     "metadata": {},
     "source": [
      "Otra forma:"
     ]
    },
    {
     "cell_type": "code",
     "collapsed": false,
     "input": [
      "def imprime_mosaico():\n",
      "    for i in range(1,10,3):\n",
      "        imprime_tablas_mosaico(i)\n",
      "        \n",
      "def imprime_tablas_mosaico(primera):\n",
      "    for i in range(1,11):\n",
      "        imprime_linea_mosaico(primera,i)\n",
      "    print\n",
      "\n",
      "def imprime_linea_mosaico(primera, n):\n",
      "    for i in range(primera, primera+3):\n",
      "        imprime_linea(i,n)\n",
      "        print '\\t',\n",
      "    print\n",
      "\n",
      "def imprime_linea(n,i):\n",
      "    print n,'x',i,'=',n*i,\n",
      "\n",
      "imprime_mosaico()"
     ],
     "language": "python",
     "metadata": {},
     "outputs": [
      {
       "output_type": "stream",
       "stream": "stdout",
       "text": [
        "1 x 1 = 1 \t2 x 1 = 2 \t3 x 1 = 3 \t\n",
        "1 x 2 = 2 \t2 x 2 = 4 \t3 x 2 = 6 \t\n",
        "1 x 3 = 3 \t2 x 3 = 6 \t3 x 3 = 9 \t\n",
        "1 x 4 = 4 \t2 x 4 = 8 \t3 x 4 = 12 \t\n",
        "1 x 5 = 5 \t2 x 5 = 10 \t3 x 5 = 15 \t\n",
        "1 x 6 = 6 \t2 x 6 = 12 \t3 x 6 = 18 \t\n",
        "1 x 7 = 7 \t2 x 7 = 14 \t3 x 7 = 21 \t\n",
        "1 x 8 = 8 \t2 x 8 = 16 \t3 x 8 = 24 \t\n",
        "1 x 9 = 9 \t2 x 9 = 18 \t3 x 9 = 27 \t\n",
        "1 x 10 = 10 \t2 x 10 = 20 \t3 x 10 = 30 \t\n",
        "\n",
        "4 x 1 = 4 \t5 x 1 = 5 \t6 x 1 = 6 \t\n",
        "4 x 2 = 8 \t5 x 2 = 10 \t6 x 2 = 12 \t\n",
        "4 x 3 = 12 \t5 x 3 = 15 \t6 x 3 = 18 \t\n",
        "4 x 4 = 16 \t5 x 4 = 20 \t6 x 4 = 24 \t\n",
        "4 x 5 = 20 \t5 x 5 = 25 \t6 x 5 = 30 \t\n",
        "4 x 6 = 24 \t5 x 6 = 30 \t6 x 6 = 36 \t\n",
        "4 x 7 = 28 \t5 x 7 = 35 \t6 x 7 = 42 \t\n",
        "4 x 8 = 32 \t5 x 8 = 40 \t6 x 8 = 48 \t\n",
        "4 x 9 = 36 \t5 x 9 = 45 \t6 x 9 = 54 \t\n",
        "4 x 10 = 40 \t5 x 10 = 50 \t6 x 10 = 60 \t\n",
        "\n",
        "7 x 1 = 7 \t8 x 1 = 8 \t9 x 1 = 9 \t\n",
        "7 x 2 = 14 \t8 x 2 = 16 \t9 x 2 = 18 \t\n",
        "7 x 3 = 21 \t8 x 3 = 24 \t9 x 3 = 27 \t\n",
        "7 x 4 = 28 \t8 x 4 = 32 \t9 x 4 = 36 \t\n",
        "7 x 5 = 35 \t8 x 5 = 40 \t9 x 5 = 45 \t\n",
        "7 x 6 = 42 \t8 x 6 = 48 \t9 x 6 = 54 \t\n",
        "7 x 7 = 49 \t8 x 7 = 56 \t9 x 7 = 63 \t\n",
        "7 x 8 = 56 \t8 x 8 = 64 \t9 x 8 = 72 \t\n",
        "7 x 9 = 63 \t8 x 9 = 72 \t9 x 9 = 81 \t\n",
        "7 x 10 = 70 \t8 x 10 = 80 \t9 x 10 = 90 \t\n",
        "\n"
       ]
      }
     ],
     "prompt_number": 4
    },
    {
     "cell_type": "markdown",
     "metadata": {},
     "source": [
      "Haz un programa que imprima el siguiente dibujo\n",
      "\n",
      "```\n",
      "+----------------+\n",
      "|                |\n",
      "|                |\n",
      "|                |\n",
      "|                |\n",
      "|                |\n",
      "|                |\n",
      "|                |\n",
      "|                |\n",
      "+----------------+\n",
      "```"
     ]
    },
    {
     "cell_type": "code",
     "collapsed": false,
     "input": [
      "def imprime_cuadrado(ancho):\n",
      "    imprime_borde(ancho)\n",
      "    for i in range(8):\n",
      "        imprime_cara(ancho)\n",
      "    imprime_borde(ancho)\n",
      "    \n",
      "def imprime_borde(ancho):\n",
      "    print '+' + '-'*ancho + '+'\n",
      "\n",
      "def imprime_cara(ancho):\n",
      "    print '|' + ' '*ancho + '|'\n",
      "\n",
      "imprime_cuadrado(16)"
     ],
     "language": "python",
     "metadata": {},
     "outputs": []
    },
    {
     "cell_type": "markdown",
     "metadata": {},
     "source": [
      "Crear una funci\u00f3n que valide una contrase\u00f1a seg\u00fan estos criterios:\n",
      "\n",
      "* La contrase\u00f1a debe contener un m\u00ednimo de 8 caracteres.\n",
      "* Una contrase\u00f1a debe contener letras min\u00fasculas, may\u00fasculas, n\u00fameros y al menos 1 car\u00e1cter no alfanum\u00e9rico.\n",
      "* La contrase\u00f1a no puede contener espacios en blanco.\n",
      "* Contrase\u00f1a v\u00e1lida, retorna `True`.\n",
      "* Contrase\u00f1a no v\u00e1lida, retorna el mensaje `\"La contrase\u00f1a elegida no es segura\"`.\n"
     ]
    },
    {
     "cell_type": "code",
     "collapsed": false,
     "input": [
      "def valida_palabra_clave(palabra):\n",
      "    return  valida_8_caracteres(palabra) and \\\n",
      "            valida_tipos_caracteres(palabra) and \\\n",
      "            valida_no_espacios(palabra)\n",
      "\n",
      "        \n",
      "def valida_8_caracteres(palabra):\n",
      "    return len(palabra) >= 8\n",
      "\n",
      "\n",
      "def valida_tipos_caracteres(palabra):\n",
      "    return valida_mayusculas(palabra) \\\n",
      "        and valida_minusculas(palabra) \\\n",
      "        and valida_numeros(palabra) \\\n",
      "        and valida_simbolos(palabra)\n",
      "\n",
      "        \n",
      "def valida_no_espacios(palabra):\n",
      "    for c in palabra:\n",
      "        if c == ' ':\n",
      "            return False\n",
      "    return True\n",
      "\n",
      "\n",
      "def valida_mayusculas(palabra):\n",
      "    for c in palabra:\n",
      "        if es_mayuscula(c):\n",
      "            return True\n",
      "    return False\n",
      "\n",
      "\n",
      "def valida_minusculas(palabra):\n",
      "    for c in palabra:\n",
      "        if es_minuscula(c):\n",
      "            return True\n",
      "    return False\n",
      "\n",
      "\n",
      "def valida_numeros(palabra):\n",
      "    for c in palabra:\n",
      "        if es_numero(c):\n",
      "            return True\n",
      "    return False\n",
      "\n",
      "\n",
      "def valida_simbolos(palabra):\n",
      "    for c in palabra:\n",
      "        if es_simbolo(c):\n",
      "            return True\n",
      "    return False\n",
      "\n",
      "\n",
      "def es_mayuscula(c):\n",
      "    return c >= 'A' and c <= 'Z'\n",
      "\n",
      "\n",
      "def es_minuscula(c):\n",
      "    return c >= 'a' and c <= 'z'\n",
      "\n",
      "\n",
      "def es_numero(c):\n",
      "    return c >= '0' and c <= '9'\n",
      "\n",
      "\n",
      "def es_simbolo(c):\n",
      "    return not ( es_mayuscula(c) \\\n",
      "        or es_minuscula(c) \\\n",
      "        or es_numero(c) )\n",
      "\n",
      "\n",
      "valida_palabra_clave('aLt0$\u20accr3t0')"
     ],
     "language": "python",
     "metadata": {},
     "outputs": [
      {
       "metadata": {},
       "output_type": "pyout",
       "prompt_number": 5,
       "text": [
        "True"
       ]
      }
     ],
     "prompt_number": 5
    },
    {
     "cell_type": "markdown",
     "metadata": {},
     "source": [
      "\u00bfNo es muy repetitivo? Las validaciones de tipos de caracteres son pr\u00e1cticamente iguales. Solo se diferencian en la funci\u00f3n que determina el tipo de cada caracter.  Por tanto para no repetir c\u00f3digo se puede pasar como par\u00e1metro."
     ]
    },
    {
     "cell_type": "code",
     "collapsed": false,
     "input": [
      "def valida_tipos_caracteres(palabra):\n",
      "    return valida_tipo(es_mayuscula, palabra) \\\n",
      "        and valida_tipo(es_minuscula, palabra) \\\n",
      "        and valida_tipo(es_numero, palabra) \\\n",
      "        and valida_tipo(es_simbolo, palabra)\n",
      "\n",
      "        \n",
      "def valida_no_espacios(palabra):\n",
      "    return not valida_tipo(es_espacio, palabra)\n",
      "\n",
      "\n",
      "def valida_tipo(es_tipo, palabra):\n",
      "    for c in palabra:\n",
      "        if es_tipo(c):\n",
      "            return True\n",
      "    return False\n",
      "\n",
      "\n",
      "def es_espacio(c):\n",
      "    return c == ' '\n",
      "\n",
      "\n",
      "valida_palabra_clave('aLt0s\u20accr3T0')"
     ],
     "language": "python",
     "metadata": {},
     "outputs": [
      {
       "metadata": {},
       "output_type": "pyout",
       "prompt_number": 6,
       "text": [
        "True"
       ]
      }
     ],
     "prompt_number": 6
    }
   ],
   "metadata": {}
  }
 ]
}