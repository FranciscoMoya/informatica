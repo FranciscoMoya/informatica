{
 "metadata": {
  "name": "",
  "signature": "sha256:e12ba34fb301d3fcd73bdf4c690d9e87588cdb401857ec15b85f90901cca9ce4"
 },
 "nbformat": 3,
 "nbformat_minor": 0,
 "worksheets": [
  {
   "cells": [
    {
     "cell_type": "markdown",
     "metadata": {},
     "source": [
      "Haz un programa que imprima la suma de los 10 n\u00fameros que se introduzcan por pantalla."
     ]
    },
    {
     "cell_type": "code",
     "collapsed": false,
     "input": [
      "suma = 0\n",
      "for a in range(10):\n",
      "    suma = suma + int(raw_input('Introduce un numero')) \n",
      "print suma"
     ],
     "language": "python",
     "metadata": {},
     "outputs": []
    },
    {
     "cell_type": "markdown",
     "metadata": {},
     "source": [
      "Haz un programa que imprima la tabla de multiplicar completa (del 1 al 9). "
     ]
    },
    {
     "cell_type": "code",
     "collapsed": false,
     "input": [
      "def imprime_tablas_simple():\n",
      "    for i in range(1,10):\n",
      "        imprime_tabla(i)\n",
      "        print\n",
      "\n",
      "def imprime_tabla(n):\n",
      "    for i in range(1,11):\n",
      "        imprime_linea(n,i)\n",
      "        print\n",
      "\n",
      "def imprime_linea(n,i):\n",
      "    print n,'x',i,'=',n*i,"
     ],
     "language": "python",
     "metadata": {},
     "outputs": []
    },
    {
     "cell_type": "markdown",
     "metadata": {},
     "source": [
      "Otra forma:"
     ]
    },
    {
     "cell_type": "code",
     "collapsed": false,
     "input": [
      "def imprime_mosaico():\n",
      "    for i in range(1,10,3):\n",
      "        imprime_tablas_mosaico(i)\n",
      "        \n",
      "def imprime_tablas_mosaico(primera):\n",
      "    for i in range(1,11):\n",
      "        imprime_linea_mosaico(primera,i)\n",
      "    print\n",
      "\n",
      "def imprime_linea_mosaico(primera, n):\n",
      "    for i in range(primera, primera+3):\n",
      "        imprime_linea(i,n)\n",
      "        print '\\t',\n",
      "    print\n",
      "\n",
      "def imprime_linea(n,i):\n",
      "    print n,'x',i,'=',n*i,\n",
      "\n",
      "imprime_mosaico()"
     ],
     "language": "python",
     "metadata": {},
     "outputs": []
    },
    {
     "cell_type": "markdown",
     "metadata": {},
     "source": [
      "Haz un programa que imprima el siguiente dibujo\n",
      "\n",
      "```\n",
      "+----------------+\n",
      "|                |\n",
      "|                |\n",
      "|                |\n",
      "|                |\n",
      "|                |\n",
      "|                |\n",
      "|                |\n",
      "|                |\n",
      "+----------------+\n",
      "```"
     ]
    },
    {
     "cell_type": "code",
     "collapsed": false,
     "input": [
      "def imprime_cuadrado(ancho):\n",
      "    imprime_borde(ancho)\n",
      "    for i in range(8):\n",
      "        imprime_cara(ancho)\n",
      "    imprime_borde(ancho)\n",
      "    \n",
      "def imprime_borde(ancho):\n",
      "    print '+' + '-'*ancho + '+'\n",
      "\n",
      "def imprime_cara(ancho):\n",
      "    print '|' + ' '*ancho + '|'\n",
      "\n",
      "imprime_cuadrado(16)"
     ],
     "language": "python",
     "metadata": {},
     "outputs": []
    },
    {
     "cell_type": "markdown",
     "metadata": {},
     "source": [
      "Crear una funci\u00f3n que valide una contrase\u00f1a seg\u00fan estos criterios:\n",
      "\n",
      "* La contrase\u00f1a debe contener un m\u00ednimo de 8 caracteres.\n",
      "* Una contrase\u00f1a debe contener letras min\u00fasculas, may\u00fasculas, n\u00fameros y al menos 1 car\u00e1cter no alfanum\u00e9rico.\n",
      "* La contrase\u00f1a no puede contener espacios en blanco.\n",
      "* Contrase\u00f1a v\u00e1lida, retorna `True`.\n",
      "* Contrase\u00f1a no v\u00e1lida, retorna el mensaje `\"La contrase\u00f1a elegida no es segura\"`.\n"
     ]
    },
    {
     "cell_type": "code",
     "collapsed": false,
     "input": [
      "def valida_palabra_clave(palabra):\n",
      "    return  valida_8_caracteres(palabra) and \\\n",
      "            valida_tipos_caracteres(palabra) and \\\n",
      "            valida_no_espacios(palabra)\n",
      "\n",
      "        \n",
      "def valida_8_caracteres(palabra):\n",
      "    return len(palabra) >= 8\n",
      "\n",
      "\n",
      "def valida_tipos_caracteres(palabra):\n",
      "    return valida_mayusculas(palabra) \\\n",
      "        and valida_minusculas(palabra) \\\n",
      "        and valida_numeros(palabra) \\\n",
      "        and valida_simbolos(palabra)\n",
      "\n",
      "        \n",
      "def valida_no_espacios(palabra):\n",
      "    for c in palabra:\n",
      "        if c == ' ':\n",
      "            return False\n",
      "    return True\n",
      "\n",
      "\n",
      "def valida_mayusculas(palabra):\n",
      "    for c in palabra:\n",
      "        if es_mayuscula(c):\n",
      "            return True\n",
      "    return False\n",
      "\n",
      "\n",
      "def valida_minusculas(palabra):\n",
      "    for c in palabra:\n",
      "        if es_minuscula(c):\n",
      "            return True\n",
      "    return False\n",
      "\n",
      "\n",
      "def valida_numeros(palabra):\n",
      "    for c in palabra:\n",
      "        if es_numero(c):\n",
      "            return True\n",
      "    return False\n",
      "\n",
      "\n",
      "def valida_simbolos(palabra):\n",
      "    for c in palabra:\n",
      "        if es_simbolo(c):\n",
      "            return True\n",
      "    return False\n",
      "\n",
      "\n",
      "def es_mayuscula(c):\n",
      "    return c >= 'A' and c <= 'Z'\n",
      "\n",
      "\n",
      "def es_minuscula(c):\n",
      "    return c >= 'a' and c <= 'z'\n",
      "\n",
      "\n",
      "def es_numero(c):\n",
      "    return c >= '0' and c <= '9'\n",
      "\n",
      "\n",
      "def es_simbolo(c):\n",
      "    return not ( es_mayuscula(c) \\\n",
      "        or es_minuscula(c) \\\n",
      "        or es_numero(c) )\n",
      "\n",
      "\n",
      "valida_palabra_clave('aLt0$\u20accr3t0')"
     ],
     "language": "python",
     "metadata": {},
     "outputs": []
    },
    {
     "cell_type": "markdown",
     "metadata": {},
     "source": [
      "\u00bfNo es muy repetitivo? Las validaciones de tipos de caracteres son pr\u00e1cticamente iguales. Solo se diferencian en la funci\u00f3n que determina el tipo de cada caracter.  Por tanto para no repetir c\u00f3digo se puede pasar como par\u00e1metro."
     ]
    },
    {
     "cell_type": "code",
     "collapsed": false,
     "input": [
      "def valida_tipos_caracteres(palabra):\n",
      "    return valida_tipo(es_mayuscula, palabra) \\\n",
      "        and valida_tipo(es_minuscula, palabra) \\\n",
      "        and valida_tipo(es_numero, palabra) \\\n",
      "        and valida_tipo(es_simbolo, palabra)\n",
      "\n",
      "        \n",
      "def valida_no_espacios(palabra):\n",
      "    return not valida_tipo(es_espacio, palabra)\n",
      "\n",
      "\n",
      "def valida_tipo(es_tipo, palabra):\n",
      "    for c in palabra:\n",
      "        if es_tipo(c):\n",
      "            return True\n",
      "    return False\n",
      "\n",
      "\n",
      "def es_espacio(c):\n",
      "    return c == ' '\n",
      "\n",
      "\n",
      "valida_palabra_clave('aLt0s\u20accr3T0')"
     ],
     "language": "python",
     "metadata": {},
     "outputs": []
    },
    {
     "cell_type": "code",
     "collapsed": false,
     "input": [],
     "language": "python",
     "metadata": {},
     "outputs": []
    }
   ],
   "metadata": {}
  }
 ]
}