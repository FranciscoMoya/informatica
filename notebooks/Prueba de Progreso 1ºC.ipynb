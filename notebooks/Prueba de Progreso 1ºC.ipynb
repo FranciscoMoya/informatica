{
 "metadata": {
  "name": "",
  "signature": "sha256:7a095a595a8615673eedc9dcf056959d55038804ddd0056ec7bfda170806d6f3"
 },
 "nbformat": 3,
 "nbformat_minor": 0,
 "worksheets": [
  {
   "cells": [
    {
     "cell_type": "markdown",
     "metadata": {},
     "source": [
      "# Prueba de progreso 1\u00baC\n",
      "\n",
      "Lee atentamente el enunciado de la prueba.  El enunciado consiste en una serie de ejercicios que deben realizarse en un mismo archivo Python.  Las entregas deber\u00e1n ser trabajo original del alumno que realiza la entrega.\n",
      "\n",
      "No se permite la comunicaci\u00f3n con otras personas durante el examen.  Se permiten libros, apuntes y b\u00fasquedas en Internet."
     ]
    },
    {
     "cell_type": "markdown",
     "metadata": {},
     "source": [
      "## Convoluci\u00f3n de se\u00f1ales\n",
      "\n",
      "Dadas dos se\u00f1ales de tiempo discreto, definidas como secuencias de valores reales $u(k)$ y $v(k)$ se define la convoluci\u00f3n de ambas se\u00f1ales como:\n",
      "\n",
      "$$ w[n] = \\sum_k u[k]\\, v[n-k] $$\n",
      "\n",
      "**Nota: Una se\u00f1al $u[k]$ se modela como una lista `u` con los n\u00fameros reales desde $u[0]$ hasta $u[m]$ siendo `m = len(u)`.  Todos los dem\u00e1s elementos se asume que valen 0.  Es decir $u[k] = 0, \\forall k \\notin \\{0..m\\}$.**\n",
      "\n",
      "1. *Definir una funci\u00f3n `elem` con dos par\u00e1metros. El primer par\u00e1metro es una lista `s` conteniendo una se\u00f1al discreta.  El segundo par\u00e1metro es un entero `k` que indica un \u00edndice de elemento.  La funci\u00f3n debe devolver `s[k]` si `k` est\u00e1 en el rango de \u00edndices v\u00e1lidos para la lista `s` o `0.0` en caso contrario.*\n",
      "\n",
      "1. *Definir una funci\u00f3n `conv_elem` con tres par\u00e1metros.  Los dos primeros par\u00e1metros corresponden a las se\u00f1ales `u` y `v`. El tercer par\u00e1metro es un entero `n`.  La funci\u00f3n debe devolver el resultado de la ecuaci\u00f3n definida arriba.  Es decir, debe devolver el elemento `n`-simo de la convoluci\u00f3n de `u` y `v`.  Se sugiere utilizar la funci\u00f3n `elem` para evitar tener que considerar casos especiales.*\n",
      "\n",
      "1. *Definir una funci\u00f3n `convolucion` con dos par\u00e1metros que corresponden a las se\u00f1ales `u` y `v` y devuelve la lista de n\u00fameros reales resultado de la convoluci\u00f3n de ambas se\u00f1ales.  La longitud de la convoluci\u00f3n de `u` y `v` es `len(u) + len(v) - 1`.*"
     ]
    },
    {
     "cell_type": "markdown",
     "metadata": {},
     "source": [
      "###Ejemplo de funcionamiento\n",
      "\n",
      "```\n",
      "u = [ 1., 2., 1., 2., 1., 2., 1., 2. ]\n",
      "v = [ 1., 2., 3., 2., 1. ]\n",
      "print convolucion(u,v)\n",
      "\n",
      "[1.0, 4.0, 8.0, 12.0, 13.0, 14.0, 13.0, 14.0, 12.0, 10.0, 5.0, 2.0]\n",
      "```"
     ]
    },
    {
     "cell_type": "code",
     "collapsed": false,
     "input": [],
     "language": "python",
     "metadata": {},
     "outputs": []
    }
   ],
   "metadata": {}
  }
 ]
}