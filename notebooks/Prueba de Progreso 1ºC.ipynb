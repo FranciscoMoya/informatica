{
 "metadata": {
  "name": "",
  "signature": "sha256:b1b83ad7c6db900fb00124a7db5525e11f7f7dd8295c4c4481994c453ff7b5db"
 },
 "nbformat": 3,
 "nbformat_minor": 0,
 "worksheets": [
  {
   "cells": [
    {
     "cell_type": "markdown",
     "metadata": {},
     "source": [
      "# Prueba de progreso 1\u00baC\n",
      "\n",
      "Lee atentamente el enunciado de la prueba.  El enunciado consiste en una serie de ejercicios que deben realizarse en un mismo archivo Python. Todas las funciones deben definirse en el mismo archivo y no debe incuirse ning\u00fan fragmento de c\u00f3digo de prueba. Las entregas deber\u00e1n ser trabajo original del alumno que realiza la entrega.\n",
      "\n",
      "No se permite la comunicaci\u00f3n con otras personas durante el examen.  Se permiten libros, apuntes y b\u00fasquedas en Internet."
     ]
    },
    {
     "cell_type": "markdown",
     "metadata": {},
     "source": [
      "## 1. Convoluci\u00f3n de se\u00f1ales\n",
      "\n",
      "Dadas dos se\u00f1ales de tiempo discreto, definidas como secuencias de valores reales $u(k)$ y $v(k)$ se define la convoluci\u00f3n de ambas se\u00f1ales como:\n",
      "\n",
      "$$ w[n] = \\sum_k u[k]\\, v[n-k] $$\n",
      "\n",
      "**Nota: Una se\u00f1al $u[k]$ se modela como una lista `u` con los n\u00fameros reales desde $u[0]$ hasta $u[m-1]$ siendo `m = len(u)`.  Todos los dem\u00e1s elementos se asume que valen 0.  Es decir $u[k] = 0, \\forall k \\notin \\{0..m\\}$.**\n",
      "\n",
      "1. *Definir una funci\u00f3n `elem` con dos par\u00e1metros. El primer par\u00e1metro es una lista `s` conteniendo una se\u00f1al discreta.  El segundo par\u00e1metro es un entero `k` que indica un \u00edndice de elemento.  La funci\u00f3n debe devolver `s[k]` si `k` est\u00e1 en el rango de \u00edndices v\u00e1lidos para la lista `s` o `0.0` en caso contrario.*\n",
      "\n",
      "1. *Definir una funci\u00f3n `conv_elem` con tres par\u00e1metros.  Los dos primeros par\u00e1metros corresponden a las se\u00f1ales `u` y `v`. El tercer par\u00e1metro es un entero `n`.  La funci\u00f3n debe devolver el resultado de la ecuaci\u00f3n definida arriba.  Es decir, debe devolver el elemento `n`-simo de la convoluci\u00f3n de `u` y `v`.  Se sugiere utilizar la funci\u00f3n `elem` para evitar tener que considerar casos especiales.*\n",
      "\n",
      "1. *Definir una funci\u00f3n `convolucion` con dos par\u00e1metros que corresponden a las se\u00f1ales `u` y `v` y devuelve la lista de n\u00fameros reales resultado de la convoluci\u00f3n de ambas se\u00f1ales.  La longitud de la convoluci\u00f3n de `u` y `v` es `len(u) + len(v) - 1`.*\n",
      "\n",
      "###Ejemplo de funcionamiento\n",
      "\n",
      "```\n",
      "u = [ 1., 2., 1., 2., 1., 2., 1., 2. ]\n",
      "v = [ 1., 2., 3., 2., 1. ]\n",
      "print convolucion(u,v)\n",
      "\n",
      "[1.0, 4.0, 8.0, 12.0, 13.0, 14.0, 13.0, 14.0, 12.0, 10.0, 5.0, 2.0]\n",
      "```"
     ]
    },
    {
     "cell_type": "code",
     "collapsed": false,
     "input": [
      "def elem(signal,k):\n",
      "    if k >= len(signal) or k < 0:\n",
      "        return 0.\n",
      "    return signal[k]\n",
      "\n",
      "def conv_elem(u, v, n):\n",
      "    sum = 0.\n",
      "    for k in range(len(u)):\n",
      "        sum += elem(u,k)*elem(v,n-k)\n",
      "    return sum\n",
      "\n",
      "def convolucion(u,v):\n",
      "    return [ conv_elem(u,v,i) for i in range(len(u)+len(v)-1) ]"
     ],
     "language": "python",
     "metadata": {},
     "outputs": [],
     "prompt_number": 10
    },
    {
     "cell_type": "markdown",
     "metadata": {},
     "source": [
      "La funci\u00f3n `convolucion` tambi\u00e9n se puede hacer sin *list comprehensions*."
     ]
    },
    {
     "cell_type": "code",
     "collapsed": false,
     "input": [
      "def convolucion(u,v):\n",
      "    c = []\n",
      "    for i in range(len(u)+len(v)-1):\n",
      "        c.append(conv_elem(u,v,i))\n",
      "    return c"
     ],
     "language": "python",
     "metadata": {},
     "outputs": [],
     "prompt_number": 11
    },
    {
     "cell_type": "markdown",
     "metadata": {},
     "source": [
      "## 2. Piedra, papel o tijera\n",
      "\n",
      "Piedra, papel o tijera es un juego en el que dos jugadores eligen una de esas tres opciones a la vez. El que gana depende de lo elegido por ambos:\n",
      "\n",
      "* La piedra gana a las tijeras (las despunta).\n",
      "* Las tijeras ganan al papel (lo cortan).\n",
      "* El papel gana a la piedra (la tapa).\n",
      "* Dos iguales empatan.\n",
      "\n",
      "Hacer una funci\u00f3n `ganador` que tenga dos par\u00e1metros de tipo cadena de texto. Cada par\u00e1metro puede contener una de estas tres palabras `piedra`, `papel`, o `tijera`. La funci\u00f3n debe devolver un n\u00famero indicando cu\u00e1l de los dos gana. Si el primero gana devolver\u00e1 un `1`. Si el segundo gana devolver\u00e1 un `2`. Si empatan devolver\u00e1 un `0`.\n",
      "\n",
      "### Ejemplo de funcionamiento\n",
      "\n",
      "```\n",
      "print ganador('piedra','tijera')\n",
      "1\n",
      "print ganador('piedra','papel')\n",
      "2\n",
      "print ganador('tijera','tijera')\n",
      "0\n",
      "```"
     ]
    },
    {
     "cell_type": "markdown",
     "metadata": {},
     "source": [
      "La forma m\u00e1s sencilla de hacerlo (desde mi punto de vista) es con un diccionario.  Veamos cu\u00e1les son las distintas posibilidades de partidas en las que no hay empate."
     ]
    },
    {
     "cell_type": "code",
     "collapsed": false,
     "input": [
      "opciones = ['piedra', 'papel', 'tijera']\n",
      "juegos_posibles = [ (i,j) for i in opciones for j in opciones if i != j ]\n",
      "print juegos_posibles"
     ],
     "language": "python",
     "metadata": {},
     "outputs": [
      {
       "output_type": "stream",
       "stream": "stdout",
       "text": [
        "[('piedra', 'papel'), ('piedra', 'tijera'), ('papel', 'piedra'), ('papel', 'tijera'), ('tijera', 'piedra'), ('tijera', 'papel')]\n"
       ]
      }
     ],
     "prompt_number": 12
    },
    {
     "cell_type": "markdown",
     "metadata": {},
     "source": [
      "Ya solo tenemos que decir cu\u00e1l es el ganador de estas posibilidades en una lista y componer el diccionario:"
     ]
    },
    {
     "cell_type": "code",
     "collapsed": false,
     "input": [
      "def ganador(a,b):\n",
      "    opciones = ['piedra', 'papel', 'tijera']\n",
      "    posibles = [ (i,j) for i in opciones for j in opciones if i != j ]\n",
      "    gana = [ 2, 1, 1, 2, 2, 1 ]\n",
      "    ganadores = dict(zip(posibles, gana))\n",
      "    if (a,b) in ganadores:\n",
      "        return ganadores[(a,b)]\n",
      "    return 0"
     ],
     "language": "python",
     "metadata": {},
     "outputs": [],
     "prompt_number": 13
    },
    {
     "cell_type": "markdown",
     "metadata": {},
     "source": [
      "Tambi\u00e9n se puede hacer sin diccionario. Contemplamos primero el caso de que sean iguales y luego la mitad de los casos en los que a y b est\u00e1n ordenados seg\u00fan la secuencia `piedra`, `papel`, `tijera`.  Para los dem\u00e1s casos llamamos a `ganador` con los par\u00e1metros invertidos y corregimos el resultado."
     ]
    },
    {
     "cell_type": "code",
     "collapsed": false,
     "input": [
      "def ganador(a,b):\n",
      "    if a == b: return 0\n",
      "    if a == 'piedra' and b == 'papel':\n",
      "        return 2\n",
      "    if a == 'piedra' and b == 'tijera':\n",
      "        return 1\n",
      "    if a == 'papel' and b == 'tijera':\n",
      "        return 2\n",
      "    return 2 if ganador(b,a) == 1 else 1"
     ],
     "language": "python",
     "metadata": {},
     "outputs": [],
     "prompt_number": 14
    },
    {
     "cell_type": "markdown",
     "metadata": {},
     "source": [
      "La \u00faltima l\u00ednea tambi\u00e9n se puede poner como una lista indexada por el resultado."
     ]
    },
    {
     "cell_type": "code",
     "collapsed": false,
     "input": [
      "def ganador(a,b):\n",
      "    if a == b: return 0\n",
      "    if a == 'piedra' and b == 'papel':\n",
      "        return 2\n",
      "    if a == 'piedra' and b == 'tijera':\n",
      "        return 1\n",
      "    if a == 'papel' and b == 'tijera':\n",
      "        return 2\n",
      "    return [0, 2, 1][ganador(b,a)]"
     ],
     "language": "python",
     "metadata": {},
     "outputs": [],
     "prompt_number": 15
    },
    {
     "cell_type": "markdown",
     "metadata": {},
     "source": [
      "##R\u00fabrica de evaluaci\u00f3n\n",
      "\n",
      "Puntos totales: 10 puntos:\n",
      "\n",
      "* 1.1 Funci\u00f3n `elem`: 2.5 puntos\n",
      "* 1.2 Funci\u00f3n `conv_elem`: 2.5 puntos\n",
      "* 1.3 Funci\u00f3n `convolucion`: 2.5 puntos\n",
      "* 2 Funci\u00f3n `ganador`: 2.5 puntos\n",
      "\n",
      "Penalizaciones:\n",
      "\n",
      "* Errores de sintaxis: 100% de los puntos de la funci\u00f3n\n",
      "* Errores de ejecuci\u00f3n (excepciones): 50% de los puntos de la funci\u00f3n\n",
      "* Errores en l\u00edmites de recorridos: 20% de los puntos de la funci\u00f3n\n",
      "* C\u00f3digo repetitivo: 10% de los puntos de la funci\u00f3n"
     ]
    }
   ],
   "metadata": {}
  }
 ]
}