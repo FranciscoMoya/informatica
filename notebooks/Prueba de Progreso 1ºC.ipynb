{
 "cells": [
  {
   "cell_type": "markdown",
   "metadata": {},
   "source": [
    "# Prueba de progreso 1ºC\n",
    "\n",
    "Lee atentamente el enunciado de la prueba.  El enunciado consiste en una serie de ejercicios que deben realizarse en un mismo archivo Python. Todas las funciones deben definirse en el mismo archivo y no debe incuirse ningún fragmento de código de prueba. Las entregas deberán ser trabajo original del alumno que realiza la entrega.\n",
    "\n",
    "No se permite la comunicación con otras personas durante el examen.  Se permiten libros, apuntes y búsquedas en Internet."
   ]
  },
  {
   "cell_type": "markdown",
   "metadata": {},
   "source": [
    "## 1. Convolución de señales\n",
    "\n",
    "Dadas dos señales de tiempo discreto, definidas como secuencias de valores reales $u(k)$ y $v(k)$ se define la convolución de ambas señales como:\n",
    "\n",
    "$$ w[n] = \\sum_k u[k]\\, v[n-k] $$\n",
    "\n",
    "**Nota: Una señal $u[k]$ se modela como una lista `u` con los números reales desde $u[0]$ hasta $u[m-1]$ siendo `m = len(u)`.  Todos los demás elementos se asume que valen 0.  Es decir $u[k] = 0, \\forall k \\notin \\{0..m\\}$.**\n",
    "\n",
    "1. *Definir una función `elem` con dos parámetros. El primer parámetro es una lista `s` conteniendo una señal discreta.  El segundo parámetro es un entero `k` que indica un índice de elemento.  La función debe devolver `s[k]` si `k` está en el rango de índices válidos para la lista `s` o `0.0` en caso contrario.*\n",
    "\n",
    "1. *Definir una función `conv_elem` con tres parámetros.  Los dos primeros parámetros corresponden a las señales `u` y `v`. El tercer parámetro es un entero `n`.  La función debe devolver el resultado de la ecuación definida arriba.  Es decir, debe devolver el elemento `n`-simo de la convolución de `u` y `v`.  Se sugiere utilizar la función `elem` para evitar tener que considerar casos especiales.*\n",
    "\n",
    "1. *Definir una función `convolucion` con dos parámetros que corresponden a las señales `u` y `v` y devuelve la lista de números reales resultado de la convolución de ambas señales.  La longitud de la convolución de `u` y `v` es `len(u) + len(v) - 1`.*\n",
    "\n",
    "###Ejemplo de funcionamiento\n",
    "\n",
    "```\n",
    "u = [ 1., 2., 1., 2., 1., 2., 1., 2. ]\n",
    "v = [ 1., 2., 3., 2., 1. ]\n",
    "print convolucion(u,v)\n",
    "\n",
    "[1.0, 4.0, 8.0, 12.0, 13.0, 14.0, 13.0, 14.0, 12.0, 10.0, 5.0, 2.0]\n",
    "```"
   ]
  },
  {
   "cell_type": "code",
   "execution_count": 10,
   "metadata": {
    "collapsed": false
   },
   "outputs": [],
   "source": [
    "def elem(signal,k):\n",
    "    if k >= len(signal) or k < 0:\n",
    "        return 0.\n",
    "    return signal[k]\n",
    "\n",
    "def conv_elem(u, v, n):\n",
    "    sum = 0.\n",
    "    for k in range(len(u)):\n",
    "        sum += elem(u,k)*elem(v,n-k)\n",
    "    return sum\n",
    "\n",
    "def convolucion(u,v):\n",
    "    return [ conv_elem(u,v,i) for i in range(len(u)+len(v)-1) ]"
   ]
  },
  {
   "cell_type": "markdown",
   "metadata": {},
   "source": [
    "La función `convolucion` también se puede hacer sin *list comprehensions*."
   ]
  },
  {
   "cell_type": "code",
   "execution_count": 11,
   "metadata": {
    "collapsed": false
   },
   "outputs": [],
   "source": [
    "def convolucion(u,v):\n",
    "    c = []\n",
    "    for i in range(len(u)+len(v)-1):\n",
    "        c.append(conv_elem(u,v,i))\n",
    "    return c"
   ]
  },
  {
   "cell_type": "markdown",
   "metadata": {},
   "source": [
    "## 2. Piedra, papel o tijera\n",
    "\n",
    "Piedra, papel o tijera es un juego en el que dos jugadores eligen una de esas tres opciones a la vez. El que gana depende de lo elegido por ambos:\n",
    "\n",
    "* La piedra gana a las tijeras (las despunta).\n",
    "* Las tijeras ganan al papel (lo cortan).\n",
    "* El papel gana a la piedra (la tapa).\n",
    "* Dos iguales empatan.\n",
    "\n",
    "Hacer una función `ganador` que tenga dos parámetros de tipo cadena de texto. Cada parámetro puede contener una de estas tres palabras `piedra`, `papel`, o `tijera`. La función debe devolver un número indicando cuál de los dos gana. Si el primero gana devolverá un `1`. Si el segundo gana devolverá un `2`. Si empatan devolverá un `0`.\n",
    "\n",
    "### Ejemplo de funcionamiento\n",
    "\n",
    "```\n",
    "print ganador('piedra','tijera')\n",
    "1\n",
    "print ganador('piedra','papel')\n",
    "2\n",
    "print ganador('tijera','tijera')\n",
    "0\n",
    "```"
   ]
  },
  {
   "cell_type": "markdown",
   "metadata": {},
   "source": [
    "La forma más sencilla de hacerlo (desde mi punto de vista) es con un diccionario.  Veamos cuáles son las distintas posibilidades de partidas en las que no hay empate."
   ]
  },
  {
   "cell_type": "code",
   "execution_count": 1,
   "metadata": {
    "collapsed": false
   },
   "outputs": [
    {
     "name": "stdout",
     "output_type": "stream",
     "text": [
      "[('piedra', 'papel'), ('piedra', 'tijera'), ('papel', 'piedra'), ('papel', 'tijera'), ('tijera', 'piedra'), ('tijera', 'papel')]\n"
     ]
    }
   ],
   "source": [
    "opciones = ['piedra', 'papel', 'tijera']\n",
    "juegos_posibles = [ (i,j) for i in opciones for j in opciones if i != j ]\n",
    "print(juegos_posibles)"
   ]
  },
  {
   "cell_type": "markdown",
   "metadata": {},
   "source": [
    "Ya solo tenemos que decir cuál es el ganador de estas posibilidades en una lista y componer el diccionario:"
   ]
  },
  {
   "cell_type": "code",
   "execution_count": 2,
   "metadata": {
    "collapsed": false
   },
   "outputs": [],
   "source": [
    "def ganador(a,b):\n",
    "    opciones = ['piedra', 'papel', 'tijera']\n",
    "    posibles = [ (i,j) for i in opciones for j in opciones if i != j ]\n",
    "    gana = [ 2, 1, 1, 2, 2, 1 ]\n",
    "    ganadores = dict(zip(posibles, gana))\n",
    "    if (a,b) in ganadores:\n",
    "        return ganadores[(a,b)]\n",
    "    return 0"
   ]
  },
  {
   "cell_type": "markdown",
   "metadata": {},
   "source": [
    "También se puede hacer sin diccionario. Contemplamos primero el caso de que sean iguales y luego la mitad de los casos en los que a y b están ordenados según la secuencia `piedra`, `papel`, `tijera`.  Para los demás casos llamamos a `ganador` con los parámetros invertidos y corregimos el resultado."
   ]
  },
  {
   "cell_type": "code",
   "execution_count": 3,
   "metadata": {
    "collapsed": false
   },
   "outputs": [],
   "source": [
    "def ganador(a,b):\n",
    "    if a == b: return 0\n",
    "    if a == 'piedra' and b == 'papel':\n",
    "        return 2\n",
    "    if a == 'piedra' and b == 'tijera':\n",
    "        return 1\n",
    "    if a == 'papel' and b == 'tijera':\n",
    "        return 2\n",
    "    return 2 if ganador(b,a) == 1 else 1"
   ]
  },
  {
   "cell_type": "markdown",
   "metadata": {},
   "source": [
    "La última línea también se puede poner como una lista indexada por el resultado."
   ]
  },
  {
   "cell_type": "code",
   "execution_count": 4,
   "metadata": {
    "collapsed": false
   },
   "outputs": [],
   "source": [
    "def ganador(a,b):\n",
    "    if a == b: return 0\n",
    "    if a == 'piedra' and b == 'papel':\n",
    "        return 2\n",
    "    if a == 'piedra' and b == 'tijera':\n",
    "        return 1\n",
    "    if a == 'papel' and b == 'tijera':\n",
    "        return 2\n",
    "    return [0, 2, 1][ganador(b,a)]"
   ]
  },
  {
   "cell_type": "markdown",
   "metadata": {},
   "source": [
    "## Rúbrica de evaluación\n",
    "\n",
    "Puntos totales: 10 puntos:\n",
    "\n",
    "* 1.1 Función `elem`: 2.5 puntos\n",
    "* 1.2 Función `conv_elem`: 2.5 puntos\n",
    "* 1.3 Función `convolucion`: 2.5 puntos\n",
    "* 2 Función `ganador`: 2.5 puntos\n",
    "\n",
    "Penalizaciones:\n",
    "\n",
    "* Errores de sintaxis: 100% de los puntos de la función\n",
    "* Errores de ejecución (excepciones): 50% de los puntos de la función\n",
    "* Errores en límites de recorridos: 20% de los puntos de la función\n",
    "* Código repetitivo: 10% de los puntos de la función"
   ]
  },
  {
   "cell_type": "code",
   "execution_count": null,
   "metadata": {
    "collapsed": true
   },
   "outputs": [],
   "source": []
  }
 ],
 "metadata": {
  "kernelspec": {
   "display_name": "Python 3",
   "language": "python",
   "name": "python3"
  },
  "language_info": {
   "codemirror_mode": {
    "name": "ipython",
    "version": 3
   },
   "file_extension": ".py",
   "mimetype": "text/x-python",
   "name": "python",
   "nbconvert_exporter": "python",
   "pygments_lexer": "ipython3",
   "version": "3.5.2"
  }
 },
 "nbformat": 4,
 "nbformat_minor": 0
}
