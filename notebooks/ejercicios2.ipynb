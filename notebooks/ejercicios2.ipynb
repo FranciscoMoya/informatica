{
 "cells": [
  {
   "cell_type": "markdown",
   "metadata": {},
   "source": [
    "# Ejercicios similares a los del examen\n",
    "\n",
    "Algunos alumnos me han pedido más ejercicios similares a los que aparecen en el examen.  Hay muchos sitios para conseguir ejercicios de ese estilo. A mi me gustan bastante dos sitios [Solveet!](http://solveet.com) y [CodeWars](http://www.codewars.com). Últimamente me estoy aficionando bastante a los Kata de *CodeWars* porque me parecen bastante bien escritos y una fuente inagotable de buenos programas en Python.  Os pongo unos cuantos en este cuaderno.\n",
    "\n",
    "Un examen puede tener unos cuatro ejercicios como estos.  Tal vez menos si el ejercicio es un poco más complicado."
   ]
  },
  {
   "cell_type": "markdown",
   "metadata": {},
   "source": [
    "## Encuentra el siguiente cuadrado perfecto\n",
    "\n",
    "Puede que conozcas algunos cuadrados perfectos bastante grandes. ¿Pero qué hay del *siguiente* cuadrado?\n",
    "\n",
    "Define la función `findNextSquare` que encuentra el siguiente entero que es cuadrado perfecto posterior al que se pasa como parámetro. Recuerda que un entero cuadrado perfecto es un entero *n* tal que `sqrt(n)` es tambiébn entero.\n",
    "\n",
    "Si el parámetro que se le pasa no es cuadrado perfecto debe devolver -1.  Puedes asumir que el parámetro es positivo."
   ]
  },
  {
   "cell_type": "markdown",
   "metadata": {},
   "source": [
    "## Un cuadrado de cuadrados\n",
    "\n",
    "Te gustan los bloques de construcción.  Te gustan especialmente los bloques que son cuadrados.  Y todavía te gusta más disponerlos en una cuadrado de bloques cuadrados.\n",
    "\n",
    "Sin embargo a veces no se puede construir un cuadrado. ¡En su lugar terminas a veces con un vulgar rectángulo! Si tuvieras una forma de saber si estás trabajando en vano... ¡Espera! ¡Eso es! Solo tienes que comprobar si tu número de bloques es un cuadrado perfecto.\n",
    "\n",
    "Tarea: Dado un número entero, determina si es un cuadrado perfecto. Los tests siempre usarán números enteros como argumentos."
   ]
  },
  {
   "cell_type": "markdown",
   "metadata": {},
   "source": [
    "## El problema de romper el chocolate\n",
    "\n",
    "Tu tarea es dividir una tableta de chocolate de dimensiones $n \\times m$ en cuadritos.  Cada cuadrito es de tamaño $1\\times 1$ e indivisible.  Implementa una función que devuelve el mínimo número de cortes necesarios.\n",
    "\n",
    "Por ejemplo, si te dan una tableta de $2\\times 1$ se puede dividir en cuadritos con un solo corte, pero para tamaño $3\\times 1$ deben hacerse dos cortes."
   ]
  },
  {
   "cell_type": "markdown",
   "metadata": {},
   "source": [
    "## Test de cociente intelectual\n",
    "\n",
    "Bob se prepara para someterse a un test de cociente intelectual.  La tarea más frecuente en este test es encontrar cuál de los números dados difiere de los demás. Bob observa que casi siempre un número difiere de los demás en paridad.  Ayuda a Bob, para comprobar sus respuestas necesita un programa que entre los números dados encuentre el que es diferente de los demás respecto a la paridad, y devolver la posición de ese número.\n",
    "\n",
    "Recuerda que tu tarea es ayudar a Bob a resolver un test de inteligencia real, por lo que las posiciones de los elementos empiezan en 1 (no en 0)."
   ]
  },
  {
   "cell_type": "markdown",
   "metadata": {},
   "source": [
    "## Date un paseo de 10 minutos\n",
    "\n",
    "Vives en la ciudad de Cartesia donde todas las calles están formando una cuadrícula perfecta.  Llegas con diez minutos de adelanto a una cita y decides aprovechar la oportunidad para dar un corto paseo.  La ciudad proporciona a sus ciudadanos una App para generar paseos de forma automática en sus teléfonos.  Cada vez que se pulsa un botón recibes una lista de cadenas de una letra que representan las direcciones a tomar (e.g. ['n', 's', 'w', 'e']). Sabes que se tarda un minuto en recorrer el ancho de una manzana, así que crea una función que devuelva *True* si el paseo de la App tomará exactamente diez minutos (¡no quieres llegar tarde ni demasiado pronto!) y si además el paseo termina en el punto de inicio.  Devuelve *False* en caso contrario.\n",
    "\n",
    "Nota: Siempre recibirás una lista válida que contiene una colección aleatoria de letras (solamente 'n', 's', 'e', o 'w'). Nunca se proporcionará una lista vacía (¡eso no sería un paseo, sería permanecer de pie!)."
   ]
  },
  {
   "cell_type": "markdown",
   "metadata": {},
   "source": [
    "## Jugando con dígitos\n",
    "\n",
    "Algunos números tienen propiedades divertidas.  Por ejemplo:\n",
    "\n",
    "$ 89 \\rightarrow 8^1 + 9^2 = 89 \\cdot 1 $\n",
    "\n",
    "$ 695 \\rightarrow 6^2 + 9^3 + 5^4 = 1390 = 695 \\cdot 2 $\n",
    "\n",
    "$ 46288 \\rightarrow 4^3 + 6^4+ 2^5 + 8^6 + 8^7 = 2360688 = 46288 \\cdot 51 $\n",
    "\n",
    "Dado un entero positivo *n* escrito como *abcd...* (a, b, c, d... son los dígitos) y un entero positivo *p* queremos encontrar un entero positivo *k*, si existe, tal que la suma de los dígitos de *n* elevados a potencias sucesivas de *p* es igual a $k\\cdot n$. En otras palabras:\n",
    "\n",
    "Sea un entero *k* tal que: $ a^p + b^{p+1} + c^{p+2} + d^{p+3} + \\ldots) = n \\cdot k $\n",
    "\n",
    "Si existe devolver *k*, si no devolver -1.\n",
    "\n",
    "Nota: n, p serán siempre enteros estrictamente positivos."
   ]
  },
  {
   "cell_type": "markdown",
   "metadata": {},
   "source": [
    "## Raíz digital\n",
    "\n",
    "En esta *kata* debes crear una función para calcular la raiz digital.\n",
    "\n",
    "La raiz digital de un entero positivo es la suma recursiva de todos los dígitos del número. Dado *n*, calcula la suma de sus dígitos. Si el valor tiene dos dígitos o más continúa reduciendo de la misma forma hasta que resulte en un número de un solo dígito. Solo es aplicable a números naturales.\n",
    "\n",
    "Por ejemplo:\n",
    "\n",
    "```\n",
    "digital_root(16)\n",
    "=> 1 + 6\n",
    "=> 7\n",
    "\n",
    "digital_root(942)\n",
    "=> 9 + 4 + 2\n",
    "=> 15 ...\n",
    "=> 1 + 5\n",
    "=> 6\n",
    "\n",
    "digital_root(132189)\n",
    "=> 1 + 3 + 2 + 1 + 8 + 9\n",
    "=> 24 ...\n",
    "=> 2 + 4\n",
    "=> 6\n",
    "\n",
    "digital_root(493193)\n",
    "=> 4 + 9 + 3 + 1 + 9 + 3\n",
    "=> 29 ...\n",
    "=> 2 + 9\n",
    "=> 11 ...\n",
    "=> 1 + 1\n",
    "=> 2\n",
    "```"
   ]
  },
  {
   "cell_type": "markdown",
   "metadata": {},
   "source": [
    "## Persistencia\n",
    "\n",
    "Escribe una función `persistence` que toma un entero positivo como argumento y devuelve su persistencia multiplicativa, que es el número de veces que se deben multiplicar los dígitos entre sí para obtener un solo dígito.\n",
    "\n",
    "Por ejemplo:\n",
    "\n",
    "```\n",
    ">>> persistence(39) \n",
    "3 # Porque 3*9=27, 2*7=14, 1*4=4\n",
    "\n",
    ">>> persistence(999)\n",
    "4 # Porque 9*9*9=729, 7*2*9=126, 1*2*6=12, 1*2=2\n",
    "\n",
    ">>> persistence(4)\n",
    "0 # Porque 4 ya tiene un dígito\n",
    "```"
   ]
  },
  {
   "cell_type": "code",
   "execution_count": null,
   "metadata": {
    "collapsed": true
   },
   "outputs": [],
   "source": []
  }
 ],
 "metadata": {
  "kernelspec": {
   "display_name": "Python 3",
   "language": "python",
   "name": "python3"
  },
  "language_info": {
   "codemirror_mode": {
    "name": "ipython",
    "version": 3
   },
   "file_extension": ".py",
   "mimetype": "text/x-python",
   "name": "python",
   "nbconvert_exporter": "python",
   "pygments_lexer": "ipython3",
   "version": "3.5.2"
  }
 },
 "nbformat": 4,
 "nbformat_minor": 1
}
