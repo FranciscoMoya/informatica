{
 "cells": [
  {
   "cell_type": "markdown",
   "metadata": {},
   "source": [
    "# Ejercicios similares a los del examen\n",
    "\n",
    "Algunos alumnos me han pedido más ejercicios similares a los que aparecen en el examen.  Hay muchos sitios para conseguir ejercicios de ese estilo. A mi me gustan dos sitios [Solveet!](http://solveet.com) y [CodeWars](http://www.codewars.com). Últimamente me estoy aficionando bastante a los Kata de *CodeWars* porque me parecen bastante bien escritos y una fuente inagotable de buenos programas en Python.  Os pongo unos cuantos en este cuaderno."
   ]
  },
  {
   "cell_type": "markdown",
   "metadata": {},
   "source": [
    "## Encuentra el siguiente cuadrado perfecto\n",
    "\n",
    "Puede que conozcas algunos cuadrados perfectos bastante grandes. ¿Pero qué hay del *siguiente* cuadrado?\n",
    "\n",
    "Define la función `findNextSquare` que encuentra el siguiente entero que es cuadrado perfecto posterior al que se pasa como parámetro. Recuerda que un entero cuadrado perfecto es un entero *n* tal que `sqrt(n)` es tambiébn entero.\n",
    "\n",
    "Si el parámetro que se le pasa no es cuadrado perfecto debe devolver -1.  Puedes asumir que el parámetro es positivo."
   ]
  },
  {
   "cell_type": "markdown",
   "metadata": {},
   "source": [
    "## El problema de romper el chocolate\n",
    "\n",
    "Tu tarea es dividir una tableta de chocolate de dimensiones $n \\times m$ en cuadritos.  Cada cuadrito es de tamaño $1\\times 1$ e indivisible.  Implementa una función que devuelve el mínimo número de cortes necesarios.\n",
    "\n",
    "Por ejemplo, si te dan una tableta de $2\\times 1$ se puede dividir en cuadritos con un solo corte, pero para tamaño $3\\times 1$ deben hacerse dos cortes."
   ]
  },
  {
   "cell_type": "markdown",
   "metadata": {},
   "source": [
    "## Test de cociente intelectual\n",
    "\n",
    "Bob se prepara para someterse a un test de cociente intelectual.  La tarea más frecuente en este test es encontrar cuál de los números dados difiere de los demás. Bob observa que casi siempre un número difiere de los demás en paridad.  Ayuda a Bob, para comprobar sus respuestas necesita un programa que entre los números dados encuentre el que es diferente de los demás respecto a la paridad, y devolver la posición de ese número.\n",
    "\n",
    "Recuerda que tu tarea es ayudar a Bob a resolver un test de inteligencia real, por lo que las posiciones de los elementos empiezan en 1 (no en 0)."
   ]
  },
  {
   "cell_type": "markdown",
   "metadata": {},
   "source": [
    "## Date un paseo de 10 minutos\n",
    "\n",
    "You live in the city of Cartesia where all roads are laid out in a perfect grid. You arrived ten minutes too early to an appointment, so you decided to take the opportunity to go for a short walk. The city provides its citizens with a Walk Generating App on their phones -- everytime you press the button it sends you an array of one-letter strings representing directions to walk (eg. ['n', 's', 'w', 'e']). You know it takes you one minute to traverse one city block, so create a function that will return true if the walk the app gives you will take you exactly ten minutes (you don't want to be early or late!) and will, of course, return you to your starting point. Return false otherwise.\n",
    "\n",
    "\n",
    "Note: you will always receive a valid array containing a random assortment of direction letters ('n', 's', 'e', or 'w' only). It will never give you an empty array (that's not a walk, that's standing still!)."
   ]
  },
  {
   "cell_type": "markdown",
   "metadata": {},
   "source": [
    "## Jugando con dígitos\n",
    "\n",
    "Some numbers have funny properties. For example:\n",
    "\n",
    "\n",
    "89 --> 8¹ + 9² = 89 * 1\n",
    "\n",
    "\n",
    "695 --> 6² + 9³ + 5⁴= 1390 = 695 * 2\n",
    "\n",
    "\n",
    "46288 --> 4³ + 6⁴+ 2⁵ + 8⁶ + 8⁷ = 2360688 = 46288 * 51\n",
    "Given a positive integer n written as abcd... (a, b, c, d... being digits) and a positive integer p we want to find a positive integer k, if it exists, such as the sum of the digits of n taken to the successive powers of p is equal to k * n. In other words:\n",
    "\n",
    "\n",
    "Is there an integer k such as : (a ^ p + b ^ (p+1) + c ^(p+2) + d ^ (p+3) + ...) = n * k\n",
    "If it is the case we will return k, if not return -1.\n",
    "\n",
    "\n",
    "Note: n, p will always be given as strictly positive integers."
   ]
  },
  {
   "cell_type": "markdown",
   "metadata": {},
   "source": [
    "## Raíz digital\n",
    "\n",
    "In this kata, you must create a digital root function.\n",
    "\n",
    "\n",
    "A digital root is the recursive sum of all the digits in a number. Given n, take the sum of the digits of n. If that value has two digits, continue reducing in this way until a single-digit number is produced. This is only applicable to the natural numbers.\n",
    "\n",
    "\n",
    "Here's how it works (Ruby example given):\n",
    "\n",
    "\n",
    "digital_root(16)\n",
    "=> 1 + 6\n",
    "=> 7\n",
    "\n",
    "\n",
    "digital_root(942)\n",
    "=> 9 + 4 + 2\n",
    "=> 15 ...\n",
    "=> 1 + 5\n",
    "=> 6\n",
    "\n",
    "\n",
    "digital_root(132189)\n",
    "=> 1 + 3 + 2 + 1 + 8 + 9\n",
    "=> 24 ...\n",
    "=> 2 + 4\n",
    "=> 6\n",
    "\n",
    "\n",
    "digital_root(493193)\n",
    "=> 4 + 9 + 3 + 1 + 9 + 3\n",
    "=> 29 ...\n",
    "=> 2 + 9\n",
    "=> 11 ...\n",
    "=> 1 + 1\n",
    "=> 2"
   ]
  },
  {
   "cell_type": "markdown",
   "metadata": {},
   "source": [
    "## Persistencia\n",
    "\n",
    "Write a function, persistence, that takes in a positive parameter num and returns its multiplicative persistence, which is the number of times you must multiply the digits in num until you reach a single digit.\n",
    "\n",
    "\n",
    "For example:\n",
    "\n",
    "\n",
    " persistence(39) => 3  # Because 3*9 = 27, 2*7 = 14, 1*4=4\n",
    "                       # and 4 has only one digit.\n",
    "\n",
    "\n",
    " persistence(999) => 4 # Because 9*9*9 = 729, 7*2*9 = 126,\n",
    "                       # 1*2*6 = 12, and finally 1*2 = 2.\n",
    "\n",
    "\n",
    " persistence(4) => 0   # Because 4 is already a one-digit number.\n",
    " persistence(39) # returns 3, because 3*9=27, 2*7=14, 1*4=4\n",
    "                 # and 4 has only one digit\n",
    "\n",
    "\n",
    " persistence(999) # returns 4, because 9*9*9=729, 7*2*9=126,\n",
    "                  # 1*2*6=12, and finally 1*2=2\n",
    "\n",
    "\n",
    " persistence(4) # returns 0, because 4 is already a one-digit number"
   ]
  },
  {
   "cell_type": "markdown",
   "metadata": {},
   "source": [
    "## Un cuadrado de cuadrados\n",
    "\n",
    "You like building blocks. You especially like building blocks that are squares. And what you even like more, is to arrange them into a square of square building blocks!\n",
    "\n",
    "\n",
    "However, sometimes, you can't arrange them into a square. Instead, you end up with an ordinary rectangle! Those blasted things! If you just had a way to know, whether you're currently working in vain… Wait! That's it! You just have to check if your number of building blocks is a perfect square.\n",
    "\n",
    "\n",
    "Task\n",
    "\n",
    "\n",
    "Given an integral number, determine if it's a square number:\n",
    "\n",
    "\n",
    "In mathematics, a square number or perfect square is an integer that is the square of an integer; in other words, it is the product of some integer with itself.\n",
    "The tests will always use some integral number, so don't worry about that in dynamic typed languages."
   ]
  },
  {
   "cell_type": "code",
   "execution_count": null,
   "metadata": {
    "collapsed": true
   },
   "outputs": [],
   "source": []
  }
 ],
 "metadata": {
  "kernelspec": {
   "display_name": "Python 3",
   "language": "python",
   "name": "python3"
  },
  "language_info": {
   "codemirror_mode": {
    "name": "ipython",
    "version": 3
   },
   "file_extension": ".py",
   "mimetype": "text/x-python",
   "name": "python",
   "nbconvert_exporter": "python",
   "pygments_lexer": "ipython3",
   "version": "3.5.2"
  }
 },
 "nbformat": 4,
 "nbformat_minor": 1
}
