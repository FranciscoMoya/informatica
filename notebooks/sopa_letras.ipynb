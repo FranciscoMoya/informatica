{
 "cells": [
  {
   "cell_type": "markdown",
   "metadata": {},
   "source": [
    "## Sopa de letras\n",
    "\n",
    "En este ejemplo resolveremos el ejercicio [639](http://www.solveet.com/exercises/sopa-de-letras/639) de *Solveet!* donde se propone generar una sopa de letras con una serie de palabras.  El enunciado habla de cinco, pero no veo diferencia en que sean más o menos.\n",
    "\n",
    "Empecemos por definir el tamaño de la sopa de letras.  En principio empezaremos por lo más sencillo, un tamaño fijo de 8x8."
   ]
  },
  {
   "cell_type": "code",
   "execution_count": 1,
   "metadata": {
    "collapsed": true
   },
   "outputs": [],
   "source": [
    "ANCHO = 8"
   ]
  },
  {
   "cell_type": "markdown",
   "metadata": {},
   "source": [
    "El ejercicio consistirá entonces en fabricar una sopa de letras aleatoria y luego colocar las palabras en posiciones y orientaciones aleatorias.  Modelaremos la sopa como una lista de listas de letras y otra lista de listas indicando cuáles de las letras están fijadas (pertenecen a las palabras que hay que colocar)."
   ]
  },
  {
   "cell_type": "code",
   "execution_count": 2,
   "metadata": {
    "collapsed": true
   },
   "outputs": [],
   "source": [
    "def sopa_letras(palabras):\n",
    "    sopa = sopa_aleatoria()\n",
    "    fijas = [ [False]*ANCHO ]*ANCHO\n",
    "    for p in palabras:\n",
    "        poner_palabra(p, sopa, fijas)\n",
    "    return sopa\n",
    "\n",
    "from string import ascii_uppercase as letras\n",
    "from random import randrange, choice\n",
    "\n",
    "def sopa_aleatoria():\n",
    "    return [ fila_aleatoria() for y in range(ANCHO) ]\n",
    "\n",
    "def fila_aleatoria():\n",
    "    return [ choice(letras) for x in range(ANCHO) ]"
   ]
  },
  {
   "cell_type": "markdown",
   "metadata": {},
   "source": [
    "Al poner una palabra de forma aleatoria es posible que no lo consiga.  En ese caso debe intentarlo una y otra vez hasta que pueda ponerla."
   ]
  },
  {
   "cell_type": "code",
   "execution_count": 3,
   "metadata": {
    "collapsed": true
   },
   "outputs": [],
   "source": [
    "def poner_palabra(palabra, sopa, fijas):\n",
    "    while not intenta_poner(palabra, sopa, fijas):\n",
    "        pass"
   ]
  },
  {
   "cell_type": "markdown",
   "metadata": {},
   "source": [
    "En primer lugar tiene que elegir de forma aleatoria la orientación y la posición.  La orientación marca también el rango de posiciones posibles.  Modelamos la orientación como una tupla *(ix,iy)* con el movimiento en X y en Y necesario para poner la siguiente letra de la palabra.  Así *(-1,0)* significa que cada letra se pone en una posición anterior en X.  Es decir, ese caso corresponde a poner la palabra horizontal en sentido contrario al de escritura.\n",
    "\n",
    "La parte más difícil es determinar el rango de valores permitidos de X y de Y. Razonemos el caso de X y por analogía se aplica lo mismo en Y.  En el caso de un incremento negativo en X (`ix = -1`) el límite inferior sería el ancho de la palabra menos uno, pero en los otros casos el límite será 0.  Por eso usamos *min*.  Algo análogo ocurre en el otro extremo, en el caso de incremento positivo el límite es `ANCHO` menos el ancho de la palabra, pero en los demás casos será `ANCHO`, por eso utilizamos nuevamente la función *min*."
   ]
  },
  {
   "cell_type": "code",
   "execution_count": 4,
   "metadata": {
    "collapsed": true
   },
   "outputs": [],
   "source": [
    "def intenta_poner(palabra, sopa, fijas):\n",
    "    pos = posicion_aleatoria(len(palabra))\n",
    "    if puedo_poner(palabra, pos, sopa, fijas):\n",
    "        escribir_palabra(palabra, pos, sopa, fijas)\n",
    "        return True\n",
    "    return False"
   ]
  },
  {
   "cell_type": "markdown",
   "metadata": {},
   "source": [
    "Elegir una posición para la palabra implica elegir primero una orientación y luego la posición a partir de la cual se empieza a escribir."
   ]
  },
  {
   "cell_type": "code",
   "execution_count": 5,
   "metadata": {
    "collapsed": true
   },
   "outputs": [],
   "source": [
    "def posicion_aleatoria(w):\n",
    "    ix, iy = choice([(0,1), (1,0), (0,-1), (-1,0), \n",
    "                     (1,1), (1,-1), (-1,1), (-1,-1) ])\n",
    "    x, y = randrange(max(0, -w*ix-1), min(ANCHO, ANCHO - w*ix + 1)), \\\n",
    "           randrange(max(0, -w*iy-1), min(ANCHO, ANCHO - w*iy + 1))\n",
    "    return x,y,ix,iy"
   ]
  },
  {
   "cell_type": "markdown",
   "metadata": {},
   "source": [
    "Para saber si se puede poner una palabra hay que comprobar si alguna de las letras cae sobre una letra fija y no coincide con la que queremos poner."
   ]
  },
  {
   "cell_type": "code",
   "execution_count": 6,
   "metadata": {
    "collapsed": false
   },
   "outputs": [],
   "source": [
    "def puedo_poner(palabra, pos, sopa, fijas):\n",
    "    x,y,ix,iy = pos\n",
    "    for letra in palabra:\n",
    "        if sopa[y][x] != letra and fijas[y][x]:\n",
    "            return False\n",
    "        x, y = x + ix, y + iy\n",
    "    return True"
   ]
  },
  {
   "cell_type": "markdown",
   "metadata": {},
   "source": [
    "Escribir la palabra exige actualizar el modelo, tanto la `sopa` como el estado de fijación de las letras (`fijas`)."
   ]
  },
  {
   "cell_type": "code",
   "execution_count": 7,
   "metadata": {
    "collapsed": true
   },
   "outputs": [],
   "source": [
    "def escribir_palabra(palabra, pos, sopa, fijas):\n",
    "    x,y,ix,iy = pos\n",
    "    print (palabra, pos)\n",
    "    for letra in palabra:\n",
    "        sopa[y][x] = letra\n",
    "        fijas[y][x] = True\n",
    "        x, y = x + ix, y + iy"
   ]
  },
  {
   "cell_type": "markdown",
   "metadata": {},
   "source": [
    "Con esto es suficiente para encontrar la sopa de letras."
   ]
  },
  {
   "cell_type": "code",
   "execution_count": 8,
   "metadata": {
    "collapsed": false
   },
   "outputs": [
    {
     "name": "stdout",
     "output_type": "stream",
     "text": [
      "HOLA (2, 3, 0, 1)\n",
      "OSTRA (0, 1, 0, 1)\n",
      "CASO (3, 1, 1, 1)\n",
      "POSO (1, 3, 0, -1)\n",
      "PESO (7, 6, 0, -1)\n"
     ]
    },
    {
     "data": {
      "text/plain": [
       "[['X', 'O', 'A', 'I', 'X', 'Q', 'F', 'U'],\n",
       " ['O', 'S', 'L', 'C', 'G', 'W', 'V', 'M'],\n",
       " ['S', 'O', 'P', 'Q', 'A', 'H', 'V', 'N'],\n",
       " ['T', 'P', 'H', 'P', 'J', 'S', 'F', 'O'],\n",
       " ['R', 'C', 'O', 'M', 'C', 'R', 'O', 'S'],\n",
       " ['A', 'N', 'L', 'H', 'X', 'P', 'G', 'E'],\n",
       " ['Z', 'T', 'A', 'X', 'M', 'Y', 'L', 'P'],\n",
       " ['M', 'H', 'M', 'X', 'D', 'E', 'F', 'I']]"
      ]
     },
     "execution_count": 8,
     "metadata": {},
     "output_type": "execute_result"
    }
   ],
   "source": [
    "sopa_letras(['HOLA', 'OSTRA', 'CASO', 'POSO', 'PESO'])"
   ]
  },
  {
   "cell_type": "markdown",
   "metadata": {},
   "source": [
    "Conviene de todas formas que nos paremos a pensar un poco en el algoritmo utilizado.  Funciona, pero cada palabra será más difícil de colocar que la anterior, porque tendrá más letras fijas.  Es relativamente fácil encontrar casos en los que no acaba de encontrar una solución.  En esos casos es posible parar el intérprete y volver a ejecutar el programa, con la esperanza de que esta vez las palabras caigan en una posición más sencilla.\n",
    "\n",
    "En realidad esto se puede hacer directamente en nuestro programa. Probamos un número de veces limitado y si no lo conseguimos probamos otra vez con otras posiciones aleatorias."
   ]
  },
  {
   "cell_type": "code",
   "execution_count": 9,
   "metadata": {
    "collapsed": false
   },
   "outputs": [],
   "source": [
    "def poner_palabra(palabra, sopa, fijas):\n",
    "    for i in range(100):\n",
    "        if intenta_poner(palabra, sopa, fijas):\n",
    "            return\n",
    "    raise ValueError('Demasiado difícil')"
   ]
  },
  {
   "cell_type": "markdown",
   "metadata": {},
   "source": [
    "Ahora podemos detectar este caso anómalo y reintentar desde el principio en caso de que no encontremos solución."
   ]
  },
  {
   "cell_type": "code",
   "execution_count": 10,
   "metadata": {
    "collapsed": false
   },
   "outputs": [],
   "source": [
    "def sopa_letras(palabras):\n",
    "    while True:\n",
    "        try: return intentar_sopa_letras(palabras)\n",
    "        except: pass\n",
    "\n",
    "def intentar_sopa_letras(palabras):\n",
    "    sopa = sopa_aleatoria()\n",
    "    fijas = [ [False]*ANCHO ]*ANCHO\n",
    "    for p in palabras:\n",
    "        poner_palabra(p, sopa, fijas)\n",
    "    return sopa"
   ]
  },
  {
   "cell_type": "code",
   "execution_count": 11,
   "metadata": {
    "collapsed": false
   },
   "outputs": [
    {
     "name": "stdout",
     "output_type": "stream",
     "text": [
      "CARACOLA (7, 0, -1, 1)\n",
      "CARACOLA (6, 7, 0, -1)\n",
      "HOLA (1, 4, 1, -1)\n",
      "OSTRA (5, 0, 0, 1)\n",
      "CASO (0, 4, 0, 1)\n",
      "POSO (7, 0, 0, 1)\n",
      "CARACOLA (7, 0, -1, 1)\n",
      "CARACOLA (0, 0, 1, 0)\n",
      "CARACOLA (3, 7, 0, -1)\n",
      "HOLA (5, 1, 0, 1)\n",
      "OSTRA (6, 5, 0, -1)\n",
      "CASO (7, 4, 0, 1)\n",
      "POSO (0, 6, 0, -1)\n",
      "PESO (2, 5, 0, -1)\n"
     ]
    },
    {
     "data": {
      "text/plain": [
       "[['D', 'C', 'U', 'A', 'K', 'J', 'F', 'H'],\n",
       " ['Y', 'I', 'H', 'L', 'A', 'H', 'A', 'O'],\n",
       " ['C', 'V', 'O', 'O', 'V', 'O', 'R', 'T'],\n",
       " ['O', 'X', 'S', 'C', 'D', 'L', 'T', 'E'],\n",
       " ['S', 'K', 'E', 'A', 'K', 'A', 'S', 'C'],\n",
       " ['O', 'K', 'P', 'R', 'Y', 'Y', 'O', 'A'],\n",
       " ['P', 'S', 'R', 'A', 'S', 'Y', 'B', 'S'],\n",
       " ['X', 'D', 'O', 'C', 'A', 'X', 'W', 'O']]"
      ]
     },
     "execution_count": 11,
     "metadata": {},
     "output_type": "execute_result"
    }
   ],
   "source": [
    "sopa_letras(['CARACOLA', 'HOLA', 'OSTRA', 'CASO', 'POSO', 'PESO'])"
   ]
  },
  {
   "cell_type": "code",
   "execution_count": null,
   "metadata": {
    "collapsed": true
   },
   "outputs": [],
   "source": []
  }
 ],
 "metadata": {
  "kernelspec": {
   "display_name": "Python 3",
   "language": "python",
   "name": "python3"
  },
  "language_info": {
   "codemirror_mode": {
    "name": "ipython",
    "version": 3
   },
   "file_extension": ".py",
   "mimetype": "text/x-python",
   "name": "python",
   "nbconvert_exporter": "python",
   "pygments_lexer": "ipython3",
   "version": "3.5.2"
  }
 },
 "nbformat": 4,
 "nbformat_minor": 1
}
