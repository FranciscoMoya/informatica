{
 "cells": [
  {
   "cell_type": "markdown",
   "metadata": {},
   "source": [
    "## Sopa de letras\n",
    "\n",
    "En este ejemplo resolveremos el ejercicio [639](http://www.solveet.com/exercises/sopa-de-letras/639) de *Solveet!* donde se propone generar una sopa de letras con una serie de palabras.  El enunciado habla de cinco, pero no veo diferencia en que sean más o menos.\n",
    "\n",
    "Empecemos por definir el tamaño de la sopa de letras.  En principio empezaremos por lo más sencillo, un tamaño fijo de 8x8."
   ]
  },
  {
   "cell_type": "code",
   "execution_count": 69,
   "metadata": {
    "collapsed": true
   },
   "outputs": [],
   "source": [
    "ANCHO = 8"
   ]
  },
  {
   "cell_type": "markdown",
   "metadata": {},
   "source": [
    "El ejercicio consistirá entonces en fabricar una sopa de letras aleatoria y luego colocar las palabras en posiciones y orientaciones aleatorias.  Modelaremos la sopa como una lista de listas de letras y otra lista de listas indicando cuáles de las letras están fijadas (pertenecen a las palabras que hay que colocar)."
   ]
  },
  {
   "cell_type": "code",
   "execution_count": 70,
   "metadata": {
    "collapsed": true
   },
   "outputs": [],
   "source": [
    "def sopa_letras(palabras):\n",
    "    sopa = sopa_aleatoria()\n",
    "    fijas = [ [False]*ANCHO ]*ANCHO\n",
    "    for p in palabras:\n",
    "        poner_palabra(p, sopa, fijas)\n",
    "    return sopa\n",
    "\n",
    "from string import ascii_uppercase as letras\n",
    "from random import randrange, choice\n",
    "\n",
    "def sopa_aleatoria():\n",
    "    return [ fila_aleatoria() for y in range(ANCHO) ]\n",
    "\n",
    "def fila_aleatoria():\n",
    "    return [ choice(letras) for x in range(ANCHO) ]"
   ]
  },
  {
   "cell_type": "markdown",
   "metadata": {},
   "source": [
    "Al poner una palabra de forma aleatoria es posible que no lo consiga.  En ese caso debe intentarlo una y otra vez hasta que pueda ponerla."
   ]
  },
  {
   "cell_type": "code",
   "execution_count": 74,
   "metadata": {
    "collapsed": true
   },
   "outputs": [],
   "source": [
    "def poner_palabra(palabra, sopa, fijas):\n",
    "    while not intenta_poner(palabra, sopa, fijas):\n",
    "        pass"
   ]
  },
  {
   "cell_type": "markdown",
   "metadata": {},
   "source": [
    "En primer lugar tiene que elegir de forma aleatoria la orientación y la posición.  La orientación marca también el rango de posiciones posibles.  Modelamos la orientación como una tupla *(ix,iy)* con el movimiento en X y en Y necesario para poner la siguiente letra de la palabra.  Así *(-1,0)* significa que cada letra se pone en una posición anterior en X.  Es decir, ese caso corresponde a poner la palabra horizontal en sentido contrario al de escritura.\n",
    "\n",
    "La parte más difícil es determinar el rango de valores permitidos de X y de Y. Razonemos el caso de X y por analogía se aplica lo mismo en Y.  En el caso de un incremento negativo en X (`ix = -1`) el límite inferior sería el ancho de la palabra menos uno, pero en los otros casos el límite será 0.  Por eso usamos *min*.  Algo análogo ocurre en el otro extremo, en el caso de incremento positivo el límite es `ANCHO` menos el ancho de la palabra, pero en los demás casos será `ANCHO`, por eso utilizamos nuevamente la función *min*."
   ]
  },
  {
   "cell_type": "code",
   "execution_count": null,
   "metadata": {
    "collapsed": true
   },
   "outputs": [],
   "source": [
    "def intenta_poner(palabra, sopa, fijas):\n",
    "    ix, iy = choice([(0,1), (1,0), (1,1), (0,-1), (-1,0), (-1,-1)])\n",
    "    w = len(palabra)\n",
    "    x, y = randrange(min(0, -w*ix-1), min(ANCHO, ANCHO - w*ix)), \\\n",
    "           randrange(min(0, -w*iy-1), min(ANCHO, ANCHO - w*iy))\n",
    "    pos = (x,y,ix,iy)\n",
    "    if puedo_poner(palabra, pos, sopa, fijas):\n",
    "        escribir_palabra(palabra, pos, sopa, fijas)\n",
    "        return True\n",
    "    return False"
   ]
  },
  {
   "cell_type": "markdown",
   "metadata": {},
   "source": [
    "Para saber si se puede poner una palabra hay que comprobar si alguna de las letras cae sobre una letra fija y no coincide con la que queremos poner."
   ]
  },
  {
   "cell_type": "code",
   "execution_count": 82,
   "metadata": {
    "collapsed": false
   },
   "outputs": [],
   "source": [
    "def puedo_poner(palabra, pos, sopa, fijas):\n",
    "    x,y,ix,iy = pos\n",
    "    for letra in palabra:\n",
    "        if sopa[y][x] != letra and fijas[y][x] == True:\n",
    "            return False\n",
    "        x, y = x + ix, y + iy\n",
    "    return True"
   ]
  },
  {
   "cell_type": "markdown",
   "metadata": {},
   "source": [
    "Escribir la palabra exige actualizar el modelo, tanto la `sopa` como el estado de fijación de las letras (`fijas`)."
   ]
  },
  {
   "cell_type": "code",
   "execution_count": null,
   "metadata": {
    "collapsed": true
   },
   "outputs": [],
   "source": [
    "def escribir_palabra(palabra, pos, sopa, fijas):\n",
    "    x,y,ix,iy = pos\n",
    "    print (palabra, pos)\n",
    "    for letra in palabra:\n",
    "        sopa[y][x] = letra\n",
    "        fijas[y][x] = True\n",
    "        x, y = x + ix, y + iy"
   ]
  },
  {
   "cell_type": "markdown",
   "metadata": {},
   "source": [
    "Con esto es suficiente para encontrar la sopa de letras."
   ]
  },
  {
   "cell_type": "code",
   "execution_count": 88,
   "metadata": {
    "collapsed": false
   },
   "outputs": [
    {
     "name": "stdout",
     "output_type": "stream",
     "text": [
      "HOLA (1, 4, -1, 0)\n",
      "OSTRA (3, 3, 0, -1)\n",
      "CASO (4, 2, 0, -1)\n",
      "POSO (5, 5, 0, -1)\n",
      "PESO (2, 0, 0, -1)\n"
     ]
    },
    {
     "data": {
      "text/plain": [
       "[['L', 'W', 'P', 'R', 'S', 'Y', 'H', 'X'],\n",
       " ['G', 'Q', 'I', 'T', 'A', 'Y', 'W', 'R'],\n",
       " ['G', 'E', 'L', 'S', 'C', 'O', 'J', 'X'],\n",
       " ['V', 'E', 'Y', 'O', 'X', 'S', 'M', 'P'],\n",
       " ['O', 'H', 'H', 'A', 'A', 'O', 'A', 'L'],\n",
       " ['L', 'Q', 'O', 'G', 'P', 'P', 'E', 'A'],\n",
       " ['M', 'X', 'S', 'R', 'P', 'T', 'N', 'E'],\n",
       " ['S', 'F', 'E', 'A', 'O', 'J', 'A', 'D']]"
      ]
     },
     "execution_count": 88,
     "metadata": {},
     "output_type": "execute_result"
    }
   ],
   "source": [
    "sopa_letras(['HOLA', 'OSTRA', 'CASO', 'POSO', 'PESO'])"
   ]
  },
  {
   "cell_type": "markdown",
   "metadata": {},
   "source": [
    "Conviene de todas formas que nos paremos a pensar un poco en el algoritmo utilizado.  Funciona, pero cada palabra será más difícil de colocar que la anterior, porque tendrá más letras fijas.  Es relativamente fácil encontrar casos en los que no acaba de encontrar una solución.  En esos casos es posible parar el intérprete y volver a ejecutar el programa, con la esperanza de que esta vez las palabras caigan en una posición más sencilla.\n",
    "\n",
    "En realidad esto se puede hacer directamente en nuestro programa. Probamos un número de veces limitado y si no lo conseguimos probamos otra vez con otras posiciones aleatorias."
   ]
  },
  {
   "cell_type": "code",
   "execution_count": 89,
   "metadata": {
    "collapsed": false
   },
   "outputs": [],
   "source": [
    "def poner_palabra(palabra, sopa, fijas):\n",
    "    for i in range(100):\n",
    "        if intenta_poner(palabra, sopa, fijas):\n",
    "            return\n",
    "    raise ValueError('Demasiado difícil')"
   ]
  },
  {
   "cell_type": "markdown",
   "metadata": {},
   "source": [
    "Ahora podemos detectar este caso anómalo y reintentar desde el principio en caso de que no encontremos solución."
   ]
  },
  {
   "cell_type": "code",
   "execution_count": 90,
   "metadata": {
    "collapsed": false
   },
   "outputs": [],
   "source": [
    "def sopa_letras(palabras):\n",
    "    while True:\n",
    "        try: return intentar_sopa_letras(palabras)\n",
    "        except: pass\n",
    "\n",
    "def intentar_sopa_letras(palabras):\n",
    "    sopa = sopa_aleatoria()\n",
    "    fijas = [ [False]*ANCHO ]*ANCHO\n",
    "    for p in palabras:\n",
    "        poner_palabra(p, sopa, fijas)\n",
    "    return sopa"
   ]
  },
  {
   "cell_type": "code",
   "execution_count": 96,
   "metadata": {
    "collapsed": false
   },
   "outputs": [
    {
     "name": "stdout",
     "output_type": "stream",
     "text": [
      "HOLA (-1, 3, 0, 1)\n",
      "OSTRA (2, -3, 0, 1)\n",
      "CASO (6, 0, -1, -1)\n",
      "POSO (0, 0, 0, -1)\n",
      "PESO (1, 4, 0, -1)\n"
     ]
    },
    {
     "data": {
      "text/plain": [
       "[['P', 'M', 'R', 'O', 'O', 'L', 'C', 'K'],\n",
       " ['E', 'O', 'A', 'N', 'J', 'H', 'A', 'G'],\n",
       " ['S', 'S', 'R', 'M', 'X', 'K', 'O', 'L'],\n",
       " ['L', 'E', 'L', 'Z', 'W', 'E', 'K', 'H'],\n",
       " ['H', 'P', 'C', 'P', 'A', 'Y', 'W', 'O'],\n",
       " ['O', 'F', 'O', 'O', 'A', 'N', 'H', 'L'],\n",
       " ['S', 'P', 'S', 'E', 'S', 'X', 'J', 'A'],\n",
       " ['O', 'Z', 'T', 'F', 'K', 'A', 'Q', 'Y']]"
      ]
     },
     "execution_count": 96,
     "metadata": {},
     "output_type": "execute_result"
    }
   ],
   "source": [
    "sopa_letras(['HOLA', 'OSTRA', 'CASO', 'POSO', 'PESO'])"
   ]
  },
  {
   "cell_type": "code",
   "execution_count": null,
   "metadata": {
    "collapsed": true
   },
   "outputs": [],
   "source": []
  }
 ],
 "metadata": {
  "kernelspec": {
   "display_name": "Python 3",
   "language": "python",
   "name": "python3"
  },
  "language_info": {
   "codemirror_mode": {
    "name": "ipython",
    "version": 3
   },
   "file_extension": ".py",
   "mimetype": "text/x-python",
   "name": "python",
   "nbconvert_exporter": "python",
   "pygments_lexer": "ipython3",
   "version": "3.5.2"
  }
 },
 "nbformat": 4,
 "nbformat_minor": 1
}
