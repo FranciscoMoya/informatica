{
 "metadata": {
  "name": "",
  "signature": "sha256:750a9e7f974145eb4fac6bdc3ecef76b09ab84e1c40e0f92b242bc0bb851824c"
 },
 "nbformat": 3,
 "nbformat_minor": 0,
 "worksheets": [
  {
   "cells": [
    {
     "cell_type": "markdown",
     "metadata": {},
     "source": [
      "Probablemente lo m\u00e1s complejo del trabajo es pensar un modelo para almacenar la predicci\u00f3n. Esta propuesta de soluci\u00f3n asume que las predicciones se almacenan como una lista de `PrediccionMunicipio`.  La clase `PrediccionMunicipio` contiene todos los datos disponibles en el XML.\n",
      "\n",
      "Como siempre utilizaremos dise\u00f1o *top-down*. Antes de dise\u00f1ar `PrediccionMunicipio` vamos a resolver el problema y lo que necesitemos lo iremos usando como si ya estuviera disponible.  No se llega a esta soluci\u00f3n de una vez.  Es un proceso iterativo en el que se va a\u00f1adiendo la funcionalidad poco a poco.  Pero cuidado, eso no significa que dise\u00f1amos *bottom-up*. Implementamos la soluci\u00f3n al problema solo que de manera reducida o incluso incompleta."
     ]
    },
    {
     "cell_type": "code",
     "collapsed": false,
     "input": [
      "%matplotlib inline\n",
      "\n",
      "import urllib\n",
      "import lxml.etree as ET\n",
      "import matplotlib.pyplot as plt\n",
      "\n",
      "class PrediccionAEMET(object):\n",
      "    def __init__(self):\n",
      "        self._provinciaToId = _leerCodigosProvincias()\n",
      "        self._prediccion = None\n",
      "        self._provincia = None\n",
      "    \n",
      "    def maxTemperatura(self, provincia):\n",
      "        u'''Asume provincia cadena con nombre de provincia seg\u00fan AEMET.\n",
      "            Devuelve tupla (T, L) siendo T temperatura m\u00e1xima de la predicci\u00f3n\n",
      "            y L lista de tuplas (municipio, fecha) en la que se espera T.'''\n",
      "        por_temperatura = []\n",
      "        for p in self.prediccion(provincia):\n",
      "            por_temperatura += zip(p.temperaturaMax(), \n",
      "                                   [p.nombre]*len(p.fechas), \n",
      "                                   p.fechas)\n",
      "        por_temperatura = sorted(por_temperatura, reverse=True)\n",
      "        T = por_temperatura[0][0]\n",
      "        L = sorted([(p[1], p[2]) for p in por_temperatura if T == p[0]])\n",
      "        return T, L\n",
      "\n",
      "    def graficaSensacionTermica(self, municipio, formato):\n",
      "        u'''Asume municipio, formato cadenas.\n",
      "            Genera una gr\u00e1fica de sensaci\u00f3n t\u00e9rmica para el municipio indicado. '''\n",
      "        if not self._prediccion:\n",
      "            raise ValueError('No hay provincia')\n",
      "        prediccion = [ p for p in self._prediccion if p.nombre == municipio ]\n",
      "        if len(prediccion) < 1:\n",
      "            raise ValueError('Municipio no encontrado')\n",
      "        \n",
      "        prediccion = prediccion[0]        \n",
      "        plt.title(u'Sensaci\u00f3n t\u00e9rmica en {0}'.format(prediccion.nombre), \n",
      "                  fontsize='x-large')\n",
      "        plt.xlabel('Fecha')\n",
      "        plt.ylabel(u'Sensaci\u00f3n t\u00e9rmica (\u00baC)')\n",
      "        plt.xticks(range(12),\n",
      "                   prediccion.fechas, \n",
      "                   rotation=45)\n",
      "        \n",
      "        smax = plt.plot(prediccion.sensTermicaMax(), 'ro--', label=u'm\u00e1xima')\n",
      "        smin = plt.plot(prediccion.sensTermicaMin(), 'bo--', label=u'm\u00ednima')\n",
      "        \n",
      "        plt2 = plt.twiny()\n",
      "        plt2.axis('off')\n",
      "        plt2.set_autoscale_on(False)\n",
      "        plt2.set_xlim(xmax=len(prediccion.sensTermica)-1)\n",
      "        horas, por_horas = self.sensacionTermicaPorHoras(prediccion)\n",
      "\n",
      "        shoras = plt2.plot(horas, por_horas, 'g^--', label=u'estimaci\u00f3n')\n",
      "        \n",
      "        plt.legend(handles=smax+smin+shoras,\n",
      "                   loc='upper right', \n",
      "                   shadow=True, \n",
      "                   fontsize='large')\n",
      "        outfile = u'{0}_{1}.{2}'.format(prediccion.nombre, \n",
      "                                        prediccion.fechas[0], \n",
      "                                        formato)\n",
      "        plt.savefig(outfile)\n",
      "        print 'Almacenado archivo', outfile\n",
      "        plt.show()\n",
      "\n",
      "    def prediccion(self, provincia):\n",
      "        u'''Asume provincia cadena con nombre de provincia seg\u00fan AEMET.\n",
      "            Devuelve lista de predicciones diarias'''\n",
      "        id_provincia = self._provinciaToId[provincia]\n",
      "        if not self._prediccion or self._provincia != id_provincia:\n",
      "            self._prediccion = _leerPrediccionProvincia(id_provincia)\n",
      "            self._provincia = id_provincia\n",
      "        return self._prediccion\n",
      "    \n",
      "    def sensacionTermicaPorHoras(self, prediccion):\n",
      "        u'''Asume self._prediccion previamente actualizado.\n",
      "            Devuelve tupla de dos listas, eje X e Y de la predicci\u00f3n \n",
      "            de sensaci\u00f3n t\u00e9rmica por horas'''\n",
      "        frac_dia = { '00': 0., '06': 0.25, '12': 0.5, '18': 0.75, '24': 1. }\n",
      "        sens_horas = [ x[2] for x in prediccion.sensTermica  ]\n",
      "        horas, por_horas = [], []\n",
      "        for dia in range(len(sens_horas)):\n",
      "            for p in sens_horas[dia]:\n",
      "                horas.append(dia + frac_dia[p[0]])\n",
      "                por_horas.append(p[1])\n",
      "        return horas, por_horas"
     ],
     "language": "python",
     "metadata": {},
     "outputs": [],
     "prompt_number": 1
    },
    {
     "cell_type": "markdown",
     "metadata": {},
     "source": [
      "Ahora que ya sabemos qu\u00e9 necesitamos en `PrediccionMunicipio` es el momento de implementarla."
     ]
    },
    {
     "cell_type": "code",
     "collapsed": false,
     "input": [
      "class PrediccionMunicipio(object):\n",
      "    def __init__(self, root):\n",
      "        self.nombre = root.find('nombre').text\n",
      "        self.fechas = [ dia.get('fecha') for dia in root.iter('dia') ]\n",
      "        self.sensTermica = [ self._leerMagnitud('sens_termica', dia) for dia in root.iter('dia') ]\n",
      "        self.temperatura = [ self._leerMagnitud('temperatura', dia) for dia in root.iter('dia') ]\n",
      "\n",
      "    def sensTermicaMax(self):\n",
      "        return [ p[0] for p in self.sensTermica ]\n",
      "    \n",
      "    def sensTermicaMin(self):\n",
      "        return [ p[1] for p in self.sensTermica ]\n",
      "\n",
      "    def temperaturaMax(self):\n",
      "        return [ p[0] for p in self.temperatura ]\n",
      "\n",
      "    def temperaturaMin(self):\n",
      "        return [ p[1] for p in self.temperatura ]\n",
      "\n",
      "    def _leerMagnitud(self, nombre, dia):\n",
      "        magnitud = dia.find(nombre)\n",
      "        mmax = float(magnitud.find('maxima').text)\n",
      "        mmin = float(magnitud.find('minima').text)\n",
      "        horas = [ (d.get('hora'), float(d.text)) for d in magnitud.iter('dato') if d.text ]\n",
      "        return (mmax, mmin, horas)\n",
      "    \n",
      "    def __str__(self):\n",
      "        return '''Prediccion ({0},\n",
      "            {1}, \n",
      "            {2}, \n",
      "            {3})'''.format(self.nombre,\n",
      "                           self.fechas,\n",
      "                           self.sensTermica,\n",
      "                           self.temperatura)"
     ],
     "language": "python",
     "metadata": {},
     "outputs": [],
     "prompt_number": 2
    },
    {
     "cell_type": "markdown",
     "metadata": {},
     "source": [
      "Las funciones de comunicaci\u00f3n con la AEMET las dejo aparte de manera que pueda probar todo lo anterior sin conexiones."
     ]
    },
    {
     "cell_type": "code",
     "collapsed": false,
     "input": [
      "def _leerCodigosProvincias():\n",
      "    u'''Devuelve un diccionario que hace corresponder el nombre de la provincia al\n",
      "        c\u00f3digo num\u00e9rico correspondiente seg\u00fan AEMET'''\n",
      "    f = urllib.urlopen('http://www.aemet.es/es/eltiempo/prediccion/municipios')\n",
      "    encoding = f.headers['content-type'].split('charset=')[-1]\n",
      "    root = ET.HTML(unicode(f.read(), encoding))\n",
      "    provincias = root.findall(\".//select[@id='provincia_selector']/option\")[1:]\n",
      "    return  { nombre:int(x.get('value')) for x in provincias \\\n",
      "                for nombre in x.text.split('/') }\n",
      "\n",
      "def _leerPrediccionProvincia(id_provincia):\n",
      "    u'''Asume provincia cadena con nombre de provincia seg\u00fan AEMET.\n",
      "        Lee de AEMET la predicci\u00f3n para todos sus municipios y \n",
      "        devuelve una lista con todas las predicciones diarias.'''\n",
      "    prediccion = []\n",
      "    fallos = 0\n",
      "    for municipio in range(1,10000):\n",
      "        try: \n",
      "            prediccion.append(_leerPrediccionMunicipio(id_provincia, municipio))\n",
      "            fallos = 0\n",
      "        except:\n",
      "            fallos += 1\n",
      "        if fallos > 5: break\n",
      "    return prediccion\n",
      "    \n",
      "def _leerPrediccionMunicipio(id_provincia, id_municipio):\n",
      "    u'''Asume id_provincia, id_municipio enteros.\n",
      "        Devuelve lista de predicciones diarias para ese municipio.'''\n",
      "    url = 'http://www.aemet.es/xml/municipios/localidad_{0:02d}{1:03d}.xml'\n",
      "    url = url.format(id_provincia, id_municipio)\n",
      "    f = urllib.urlopen(url)\n",
      "    if f.getcode() != 200:\n",
      "        raise ValueError('Failed ({0}) {1}'.format(f.getcode(), url))\n",
      "    root = ET.fromstring(f.read())\n",
      "    return PrediccionMunicipio(root)"
     ],
     "language": "python",
     "metadata": {},
     "outputs": [],
     "prompt_number": 3
    },
    {
     "cell_type": "markdown",
     "metadata": {},
     "source": [
      "La interfaz puede ser tan simple como se desee. En nuestro caso vamos a usar las capacidades interactivas de IPython Notebook."
     ]
    },
    {
     "cell_type": "code",
     "collapsed": false,
     "input": [
      "from IPython.html.widgets import interact\n",
      "\n",
      "provincias = [''] + sorted(_leerCodigosProvincias().keys())\n",
      "formatos = ['', 'png', 'pdf']\n",
      "aemet = PrediccionAEMET()\n",
      "\n",
      "@interact(provincia=provincias, formato=formatos)\n",
      "def datos_AEMET(provincia, formato):\n",
      "    if not provincia: return\n",
      "\n",
      "    tmax, municipios = aemet.maxTemperatura(provincia)\n",
      "    print u'La m\u00e1xima temperatura para los pr\u00f3ximos d\u00edas es de {0}\u00baC y se espera en:'.format(tmax)\n",
      "    for nombre,fecha in municipios:\n",
      "        print u' - {0} el d\u00eda {1}'.format(nombre, fecha)\n",
      "    \n",
      "    if not formato: return\n",
      "    print\n",
      "    for nombre in set([m[0] for m in municipios]):\n",
      "        aemet.graficaSensacionTermica(nombre, formato)\n"
     ],
     "language": "python",
     "metadata": {},
     "outputs": [
      {
       "output_type": "stream",
       "stream": "stdout",
       "text": [
        "La m\u00e1xima temperatura para los pr\u00f3ximos d\u00edas es de 16.0\u00baC y se espera en:\n",
        " - Valle de Mena el d\u00eda 2016-02-21\n",
        "\n",
        "Almacenado archivo"
       ]
      },
      {
       "output_type": "stream",
       "stream": "stdout",
       "text": [
        " Valle de Mena_2016-02-19.png\n"
       ]
      },
      {
       "metadata": {},
       "output_type": "display_data",
       "png": "[encoded data removed]",
       "text": [
        "<matplotlib.figure.Figure at 0x7fab3468cdd0>"
       ]
      }
     ],
     "prompt_number": 4
    },
    {
     "cell_type": "code",
     "collapsed": false,
     "input": [],
     "language": "python",
     "metadata": {},
     "outputs": [],
     "prompt_number": 4
    }
   ],
   "metadata": {}
  }
 ]
}