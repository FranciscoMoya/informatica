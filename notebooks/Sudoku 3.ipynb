{
 "metadata": {
  "name": "",
  "signature": "sha256:8b17d9dd1ca14c3a62dd4559216de7e86ab4eb6f3a618d2cefa2e8a90ecdffcb"
 },
 "nbformat": 3,
 "nbformat_minor": 0,
 "worksheets": [
  {
   "cells": [
    {
     "cell_type": "markdown",
     "metadata": {},
     "source": [
      "Esta soluci\u00f3n al Sudoku es una m\u00ednima re-escritura de la [soluci\u00f3n dada por Peter Norvig en su p\u00e1gina](http://norvig.com/sudoku.html).\n",
      "\n",
      "Los cambios tan solo pretenden eliminar las decisiones sutiles, que no son propias de un aprendiz.  Tal es el caso de la codificaci\u00f3n de filas, columnas y valores como cadenas para evitar el uso de `deepcopy`.\n",
      "\n",
      "Nosotros codificaremos las casillas con sus coordenadas cartesianas, como una simple tupla y los valores como conjuntos de n\u00fameros.\n",
      "\n",
      "En primer lugar vamos a definir las estructuras que emplea Peter Norvig. Pi\u00e9nsalas t\u00fa mismo en casa, no las leas sin m\u00e1s. Escribe t\u00fa mismo una funci\u00f3n que las calcule y emplea tantas funciones como necesites.\n",
      "\n",
      "* Cada casilla es una tupla `(x,y)` con las coordenadas cartesianas.\n",
      "* `squares` es una lista de todas las casillas del Sudoku.\n",
      "* `unitlist` es una lista de todas las unidades. Una unidad es a su vez una lista de 9 casillas que no pueden contener nada m\u00e1s que una cifra de cada.  Es decir, `unitlist` contiene listas de 9 casillas que corresponden a las filas, columnas y bloques.\n",
      "* `units` es un diccionario que asocia con cada casilla del Sudoku todas las unidades a las que pertenece dicha casilla.\n",
      "* `peers` (colegas) es un diccionario que asocia a cada casilla del Sudoku la lista de casillas que est\u00e1n en su misma fila, columna o bloque, sin incluirla."
     ]
    },
    {
     "cell_type": "code",
     "collapsed": false,
     "input": [
      "squares = [ (x,y) for y in range(9) for x in range(9) ]\n",
      "blocks = [ (0,1,2), (3,4,5), (6,7,8) ]\n",
      "unitlist = [ [ (x,y) for x in range(9) ] for y in range(9) ] + \\\n",
      "            [ [ (x,y) for y in range(9) ] for x in range(9) ] + \\\n",
      "            [ [ (x,y) for x in bx for y in by ] for bx in blocks for by in blocks ]\n",
      "units = { s: [u for u in unitlist if s in u] for s in squares }\n",
      "peers = { s: set(sum(units[s],[])) - { s } for s in squares }"
     ],
     "language": "python",
     "metadata": {},
     "outputs": [],
     "prompt_number": 1
    },
    {
     "cell_type": "markdown",
     "metadata": {},
     "source": [
      "Vamos ahora a definir funciones para convertir una cadena de texto a un Sudoku.  El Sudoku lo modelaremos como un diccionario que hace corresponder a cada casilla con el conjunto de n\u00fameros que puede contener dicha casilla. Es pr\u00e1cticamente una trasliteraci\u00f3n del c\u00f3digo de Peter Norvig, por lo que no merece la pena comentarlo con mucho m\u00e1s detalle.\n",
      "\n",
      "La funci\u00f3n ignora cualquier car\u00e1cter que no sea una cifra o un punto. El punto o el 0 representan casillas sin rellenar.\n",
      "\n",
      "Inicialmente el Sudoku est\u00e1 vac\u00edo. Es decir, cada casilla puede contener cualquier cifra. Lo modelamos con la variable `values` que no es m\u00e1s que un diccionario que hace corresponder cada casilla al conjunto de valores permitidos en esa casilla. Usamos conjuntos (`set`) porque se esta forma garantizamos que no hay repetidos y adem\u00e1s podemos eliminar elementos empleando el operador de resta.\n",
      "\n",
      "Cada vez que conocemos una casilla con un d\u00edgito fijo (de 1 a 9) podemos asignar ese valor a la casilla eliminado el resto.  Esta asignaci\u00f3n hace que podamos simplificar otras casillas (propagaci\u00f3n de restricciones)."
     ]
    },
    {
     "cell_type": "code",
     "collapsed": false,
     "input": [
      "digits = range(1,10)\n",
      "\n",
      "def parse_grid(grid):\n",
      "    values = { s:set(digits) for s in squares }\n",
      "    for s,d in grid_values(grid).items():\n",
      "        if d in digits: \n",
      "            asignar(values, s, { d })\n",
      "    return values\n",
      "\n",
      "def grid_values(grid):\n",
      "    values = [ gvalue(c) for c in grid if c in '.1234567890' ]\n",
      "    assert len(values) == 81\n",
      "    return dict(zip(squares, values))\n",
      "\n",
      "def gvalue(c): return int(c) if c in '123456789' else 0"
     ],
     "language": "python",
     "metadata": {},
     "outputs": [],
     "prompt_number": 3
    },
    {
     "cell_type": "markdown",
     "metadata": {},
     "source": [
      "El punto clave de la soluci\u00f3n del Sudoku es la propagaci\u00f3n de restricciones. B\u00e1sicamente consiste en la combinaci\u00f3n de dos funciones que cooperan entre s\u00ed, una para asignar valores a una casilla y otra para eliminar valores de una casilla.  Cuando se asigna un valor en una casilla, debe eliminarse de todos sus `peers`.  Al eliminar valores de una casilla puede que queden nuevas casillas con un \u00fanico valor, que dar\u00eda lugar a nuevas eliminaciones. Tambi\u00e9n puede que solo quede una casilla posible donde poner alguna de las cifras, por lo que dar\u00eda lugar a la asignaci\u00f3n de esta cifra."
     ]
    },
    {
     "cell_type": "code",
     "collapsed": false,
     "input": [
      "def asignar(values, s, d):\n",
      "    other_values = values[s] - d\n",
      "    eliminar(values, s, other_values)\n",
      "\n",
      "def eliminar(values, s, d):\n",
      "    if not d.intersection(values[s]):\n",
      "        return\n",
      "    \n",
      "    values[s] -= d\n",
      "    if len(values[s]) == 0:\n",
      "        raise ValueError('Casilla {0} sin valores posibles'.format(s))\n",
      "\n",
      "    ## (1) Si una casilla se queda con un solo valor, eliminarlo de sus colegas.\n",
      "    if len(values[s]) == 1:\n",
      "        for s2 in peers[s]:\n",
      "            eliminar(values, s2, values[s])\n",
      "\n",
      "    ## (2) Si solo hay una casilla de una unidad para el digito d asignarlo a esa casilla.\n",
      "    for u in units[s]:\n",
      "        dplaces = [s for s in u if d.intersection(values[s])]\n",
      "        if len(dplaces) == 0:\n",
      "            raise ValueError('No hay casilla para valor {0} en unidad {1}'.format(d,u))\n",
      "        elif len(dplaces) == 1:\n",
      "            asignar(values, dplaces[0], d)\n"
     ],
     "language": "python",
     "metadata": {},
     "outputs": [],
     "prompt_number": 4
    },
    {
     "cell_type": "markdown",
     "metadata": {},
     "source": [
      "Va siendo hora de escribir una funci\u00f3n para mostrar el Sudoku.  Dibujaremos l\u00edneas para separar los bloques. Lo m\u00e1s destacable es el c\u00e1lculo del ancho de cada casilla, que depende de cu\u00e1ntas cifras posibles tienen todas las casillas del Sudoku."
     ]
    },
    {
     "cell_type": "code",
     "collapsed": false,
     "input": [
      "def display(values):\n",
      "    width = 1+max(len(values[s]) for s in squares)\n",
      "    line = '+'.join(['-'*(width*3)]*3)\n",
      "    for r in range(9):\n",
      "        print(''.join(''.join([str(i) for i in values[(c,r)]]).center(width)+('|' if c in (2,5) else '')\n",
      "                      for c in range(9)))\n",
      "        if r in (2,5): print(line)\n",
      "    print()\n"
     ],
     "language": "python",
     "metadata": {},
     "outputs": [],
     "prompt_number": 5
    },
    {
     "cell_type": "markdown",
     "metadata": {},
     "source": [
      "Solo con esto ya se resuelven pr\u00e1cticamente todos los Sudokus f\u00e1ciles."
     ]
    },
    {
     "cell_type": "code",
     "collapsed": false,
     "input": [
      "grid1 = '003020600900305001001806400008102900700000008006708200002609500800203009005010300'\n",
      "display(parse_grid(grid1))"
     ],
     "language": "python",
     "metadata": {},
     "outputs": [
      {
       "output_type": "stream",
       "stream": "stdout",
       "text": [
        "4 8 3 |9 2 1 |6 5 7 \n",
        "9 6 7 |3 4 5 |8 2 1 \n",
        "2 5 1 |8 7 6 |4 9 3 \n",
        "------+------+------\n",
        "5 4 8 |1 3 2 |9 7 6 \n",
        "7 2 9 |5 6 4 |1 3 8 \n",
        "1 3 6 |7 9 8 |2 4 5 \n",
        "------+------+------\n",
        "3 7 2 |6 8 9 |5 1 4 \n",
        "8 1 4 |2 5 3 |7 6 9 \n",
        "6 9 5 |4 1 7 |3 8 2 \n",
        "\n"
       ]
      }
     ],
     "prompt_number": 6
    },
    {
     "cell_type": "markdown",
     "metadata": {},
     "source": [
      "En algunos casos la propagaci\u00f3n de restricciones sigue dejando un Sudoku muy poco espacificado. "
     ]
    },
    {
     "cell_type": "code",
     "collapsed": false,
     "input": [
      "grid2 = '4.....8.5.3..........7......2.....6.....8.4......1.......6.3.7.5..2.....1.4......'\n",
      "display(parse_grid(grid2))"
     ],
     "language": "python",
     "metadata": {},
     "outputs": [
      {
       "output_type": "stream",
       "stream": "stdout",
       "text": [
        "   4      1679   12679  |  139     2369    1269  |   8      1239     5    \n",
        " 26789     3    1256789 | 14589   24569  1245689 | 12679    1249   124679 \n",
        "  2689   15689   125689 |   7     234569 1245689 | 12369   12349   123469 \n",
        "------------------------+------------------------+------------------------\n",
        "  3789     2     135789 |  3459   34579    4579  | 13579     6     13789  \n",
        "  3679   15679   135679 |  359      8     25679  |   4     12359   12379  \n",
        " 36789     4     356789 |  359      1     25679  | 23579   23589   23789  \n",
        "------------------------+------------------------+------------------------\n",
        "  289      89     289   |   6      459      3    |  1259     7     12489  \n",
        "   5      6789   36789  |   2      479    14789  |  1369   13489   134689 \n",
        "   1      6789     4    |  589     579     5789  | 23569   23589   23689  \n",
        "\n"
       ]
      }
     ],
     "prompt_number": 7
    },
    {
     "cell_type": "markdown",
     "metadata": {},
     "source": [
      "Aparentemente el n\u00famero de posibilidades es a\u00fan muy elevado:"
     ]
    },
    {
     "cell_type": "code",
     "collapsed": false,
     "input": [
      "def nposibles(values):\n",
      "    n = 1\n",
      "    for s,v in values.items():\n",
      "        n *= len(v)\n",
      "    return n\n",
      "\n",
      "print(nposibles(parse_grid(grid2)))"
     ],
     "language": "python",
     "metadata": {},
     "outputs": [
      {
       "output_type": "stream",
       "stream": "stdout",
       "text": [
        "181432630923264000000000000000000000000000\n"
       ]
      }
     ],
     "prompt_number": 8
    },
    {
     "cell_type": "markdown",
     "metadata": {},
     "source": [
      "Sin embargo si dirigimos adecuadamente la b\u00fasqueda el resultado puede ser muy r\u00e1pido. Tomar una decisi\u00f3n sobre el valor de una casilla que tiene nueve posibilidades nos da un 11% de probabilidad de acierto. Sin embargo elegir una de las opciones de una casilla que solo tenga dos posibilidades nos da un 50% de probabilidad de acierto, y al propagar las restricciones se reduce la cardinalidad de las dem\u00e1s casillas, aumentando correspondientemente la probabilidad de acierto."
     ]
    },
    {
     "cell_type": "code",
     "collapsed": false,
     "input": [
      "def solve(grid): return search(parse_grid(grid))\n",
      "\n",
      "from copy import deepcopy\n",
      "\n",
      "def search(values):\n",
      "    if all(len(values[s]) == 1 for s in squares): \n",
      "        return values\n",
      "\n",
      "    ## Elige la casilla sin fijar con menos posibilidades\n",
      "    n,s = min((len(values[s]), s) for s in squares if len(values[s]) > 1)\n",
      "    return intentar_todos(values, s)\n",
      "    \n",
      "def intentar_todos(values, s):\n",
      "    for d in values[s]:\n",
      "        try: \n",
      "            tentativa = deepcopy(values)\n",
      "            asignar(tentativa, s, { d })\n",
      "            return search(tentativa)\n",
      "        except ValueError: \n",
      "            pass\n",
      "\n",
      "    raise ValueError('No hay solucion')"
     ],
     "language": "python",
     "metadata": {},
     "outputs": [],
     "prompt_number": 9
    },
    {
     "cell_type": "code",
     "collapsed": false,
     "input": [
      "display(solve(grid2))"
     ],
     "language": "python",
     "metadata": {},
     "outputs": [
      {
       "output_type": "stream",
       "stream": "stdout",
       "text": [
        "4 1 7 |3 6 9 |8 2 5 \n",
        "6 3 2 |1 5 8 |9 4 7 \n",
        "9 5 8 |7 2 4 |3 1 6 \n",
        "------+------+------\n",
        "8 2 5 |4 3 7 |1 6 9 \n",
        "7 9 1 |5 8 6 |4 3 2 \n",
        "3 4 6 |9 1 2 |7 5 8 \n",
        "------+------+------\n",
        "2 8 9 |6 4 3 |5 7 1 \n",
        "5 7 3 |2 9 1 |6 8 4 \n",
        "1 6 4 |8 7 5 |2 9 3 \n",
        "\n"
       ]
      }
     ],
     "prompt_number": 10
    },
    {
     "cell_type": "code",
     "collapsed": false,
     "input": [
      "hard1  = '.....6....59.....82....8....45........3........6..3.54...325..6..................'\n",
      "display(solve(hard1))"
     ],
     "language": "python",
     "metadata": {},
     "outputs": [
      {
       "output_type": "stream",
       "stream": "stdout",
       "text": [
        "3 8 4 |5 1 6 |9 2 7 \n",
        "6 5 9 |4 7 2 |1 3 8 \n",
        "2 7 1 |9 3 8 |6 4 5 \n",
        "------+------+------\n",
        "8 4 5 |2 6 9 |7 1 3 \n",
        "1 2 3 |7 5 4 |8 6 9 \n",
        "7 9 6 |1 8 3 |2 5 4 \n",
        "------+------+------\n",
        "9 1 8 |3 2 5 |4 7 6 \n",
        "4 3 2 |6 9 7 |5 8 1 \n",
        "5 6 7 |8 4 1 |3 9 2 \n",
        "\n"
       ]
      }
     ],
     "prompt_number": 11
    },
    {
     "cell_type": "code",
     "collapsed": false,
     "input": [],
     "language": "python",
     "metadata": {},
     "outputs": [],
     "prompt_number": 27
    }
   ],
   "metadata": {}
  }
 ]
}