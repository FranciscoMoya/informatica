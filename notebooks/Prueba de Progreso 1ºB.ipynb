{
 "metadata": {
  "name": "",
  "signature": "sha256:4843c19e00a7e0804fe022942955639c9207b6d91ccc10d812df4068f9c1d514"
 },
 "nbformat": 3,
 "nbformat_minor": 0,
 "worksheets": [
  {
   "cells": [
    {
     "cell_type": "markdown",
     "metadata": {},
     "source": [
      "# Prueba de progreso 1\u00baB\n",
      "\n",
      "Lee atentamente el enunciado de la prueba.  El enunciado consiste en una serie de ejercicios que deben realizarse en un mismo archivo Python. Todas las funciones deben definirse en el mismo archivo y no debe incuirse ning\u00fan fragmento de c\u00f3digo de prueba. Las entregas deber\u00e1n ser trabajo original del alumno que realiza la entrega.\n",
      "\n",
      "No se permite la comunicaci\u00f3n con otras personas durante el examen.  Se permiten libros, apuntes y b\u00fasquedas en Internet."
     ]
    },
    {
     "cell_type": "markdown",
     "metadata": {},
     "source": [
      "## 1. Filtrado de se\u00f1ales (IIR)\n",
      "\n",
      "Dada una se\u00f1al de tiempo discreto, definida como una secuencia de valores reales $x = \\{x_0, x_1, ... x_n\\}$ se define la se\u00f1al de salida de un filtro IIR como la secuencia de los valores:\n",
      "\n",
      "$$ \\sum_{k=0}^{M} a_k\\cdot y_{n-k} = \\sum_{k=0}^{N} b_k\\cdot x_{n-k} $$\n",
      "\n",
      "Despejando el t\u00e9rmino $y_n$ tenemos la ecuaci\u00f3n de recurrencia:\n",
      "\n",
      "$$ y_n = \\frac{1}{a_0} (\\sum_{k=0}^{N} b_k\\cdot x_{n-k} - \\sum_{k=1}^{M} a_k\\cdot y_{n-k} ) $$\n",
      "\n",
      "donde $b_k, k\\in\\{0..N\\}$ y $a_k, k\\in\\{1..M\\}$ son los coeficientes del filtro, y `n` es el \u00edndice (posici\u00f3n) del elemento correspondiente.  N\u00f3tese que el valor de cada elemento de salida depende de valores de elementos anteriores, que se calculan con la misma f\u00f3rmula.  Es decir, se trata de una recurrencia. Como toda recurrencia debe tener al menos un caso base.  En este caso sabemos que $y_k = 0\\ \\ \\forall k<0$.\n",
      "\n",
      "**Nota: Una se\u00f1al $u = \\{u_0, u_1, ... u_{M}\\}$ se modela como una lista de Python `u` con la secuencia de los n\u00fameros reales de la se\u00f1al.  Todos los dem\u00e1s elementos se asume que valen 0.  Es decir $u_k = 0, \\forall k \\notin \\{0..M\\}$.**\n",
      "\n",
      "1. *Definir una funci\u00f3n `iir_elem` con cuatro par\u00e1metros. Los primeros dos par\u00e1metros son las listas `a`y `b` que contienen los coeficientes del filtro. El tercer par\u00e1metro es una lista `x` conteniendo una se\u00f1al discreta. El cuarto par\u00e1metro es un entero `n` que corresponde al \u00edndice del elemento de la se\u00f1al de salida. La funci\u00f3n debe devolver el resultado de calcular $y_n$ seg\u00fan la f\u00f3rmula de arriba. Se recomienda emplear una funci\u00f3n `elem(u,k)` que devuelve $u_k$, es decir, el elemento k-\u00e9simo de la se\u00f1al que recibe como argumento. Se recuerda que $k$ puede estar fuera del rango de \u00edndices v\u00e1lidos para la lista `u` y que en ese caso el valor debe ser cero.*\n",
      "\n",
      "1. *A diferencia de otro tipo de filtros, la salida de un filtro IIR no tiene por qu\u00e9 ser finita, aunque la entrada lo sea.  Por tanto no podemos obtener toda la se\u00f1al de salida del filtro, tenemos que indicar un l\u00edmite.  En este ejercicio se debe definir una funci\u00f3n `iir` con cuatro par\u00e1metros. Los primeros dos par\u00e1metros son las listas `a`y `b` que contienen los coeficientes del filtro. El tercer par\u00e1metro es una lista `x` conteniendo una se\u00f1al discreta de entrada. El cuarto par\u00e1metro es un entero `n` que indica cu\u00e1ntos t\u00e9rminos de `y` deben calcularse. La funci\u00f3n debe devolver una lista `y` con los elementos desde $y_0$ hasta $y_{n-1}$.*\n",
      "\n",
      "### Ejemplo de funcionamiento\n",
      "\n",
      "```\n",
      "a = [ 1.0000, -0.6090, 0.5589, -0.2267, 0.0552, -0.0059 ]\n",
      "b = [ 0.0000,  0.1362, 0.4609,  0.1703, 0.0064,  0.0000 ]\n",
      "x = [ 1. ]\n",
      "print iir(a,b,x,20)\n",
      "\n",
      "[0.0, 0.1362, 0.5438457999999999, 0.4253799122, -0.0076225110901999675, -0.12661533932251176, -0.005631602263356893, 0.04533536317137913, 0.004983545346105678, -0.016635445678637978, -0.0030749291383428603, 0.006018949974088185, 0.0016052498338984026, -0.0021358009083332456, -0.0007617939672824104, 0.0007432886184513401, 0.0003411453650477868, -0.00025299798976127845, -0.0001467885888520849, 8.381986397751188e-05]\n",
      "```"
     ]
    },
    {
     "cell_type": "markdown",
     "metadata": {},
     "source": [
      "El primer ejercicio es traducci\u00f3n directa de la f\u00f3rmula.  Podr\u00eda hacerse con una funci\u00f3n recursiva, pero se realizar\u00edan muchos m\u00e1s c\u00e1lculos de los necesarios.  En esta implementaci\u00f3n utilizo una funci\u00f3n `iir_elem_append` que a\u00f1ade un elemento nuevo a la lista `y`.  De esta forma `iir_elem` llama repetidamente a esta funci\u00f3n y finalmente devuelve solo el \u00faltimo elemento calculado."
     ]
    },
    {
     "cell_type": "code",
     "collapsed": false,
     "input": [
      "def elem(u,k):\n",
      "    return u[k] if k in range(len(u)) else 0.\n",
      "\n",
      "def iir_elem_append(a,b,x,y):\n",
      "    sum = 0.\n",
      "    n = len(y)\n",
      "    for k in range(len(b)):\n",
      "        sum += b[k]*elem(x,n-k)\n",
      "    for k in range(1,len(a)):\n",
      "        sum -= a[k]*elem(y,n-k)\n",
      "    y.append(sum/a[0])\n",
      "    \n",
      "def iir_elem(a,b,x,n):\n",
      "    y = []\n",
      "    for i in range(n + 1):\n",
      "        iir_elem_append(a,b,x,y)\n",
      "    return y.pop()"
     ],
     "language": "python",
     "metadata": {},
     "outputs": [],
     "prompt_number": 20
    },
    {
     "cell_type": "markdown",
     "metadata": {},
     "source": [
      "O con *list comprehensions*."
     ]
    },
    {
     "cell_type": "code",
     "collapsed": false,
     "input": [
      "def iir_elem(a,b,x,n):\n",
      "    return [iir_elem_append(a,b,x,y) for i in range(n + 1)].pop()"
     ],
     "language": "python",
     "metadata": {},
     "outputs": [],
     "prompt_number": 21
    },
    {
     "cell_type": "markdown",
     "metadata": {},
     "source": [
      "La versi\u00f3n recursiva ser\u00eda mucho menos eficiente puesto que repetir\u00eda numerosos c\u00e1lculos. Pero la pongo a continuaci\u00f3n porque tambi\u00e9n ser\u00eda aceptada como correcta. El caso base ser\u00edan los valores de `n` negativos."
     ]
    },
    {
     "cell_type": "code",
     "collapsed": false,
     "input": [
      "def iir_elem(a,b,x,n):\n",
      "    if n < 0: return 0.\n",
      "    sum = 0.\n",
      "    for k in range(len(b)):\n",
      "        sum += b[k]*elem(x,n-k)\n",
      "    for k in range(1,len(a)):\n",
      "        sum -= a[k]*iir_elem(a,b,x,n-k)\n",
      "    return sum/a[0]"
     ],
     "language": "python",
     "metadata": {},
     "outputs": [],
     "prompt_number": 22
    },
    {
     "cell_type": "markdown",
     "metadata": {},
     "source": [
      "La funci\u00f3n `iir` puede implementarse tambi\u00e9n con ayuda de `iir_elem_append`."
     ]
    },
    {
     "cell_type": "code",
     "collapsed": false,
     "input": [
      "def iir(a,b,x,n):\n",
      "    y = []\n",
      "    for i in range(n):\n",
      "        iir_elem_append(a,b,x,y)\n",
      "    return y"
     ],
     "language": "python",
     "metadata": {},
     "outputs": [],
     "prompt_number": 23
    },
    {
     "cell_type": "markdown",
     "metadata": {},
     "source": [
      "O con *list comprehensions*."
     ]
    },
    {
     "cell_type": "code",
     "collapsed": false,
     "input": [
      "def iir_elem(a,b,x,n):\n",
      "    return [iir_elem_append(a,b,x,y) for i in range(n + 1)]"
     ],
     "language": "python",
     "metadata": {},
     "outputs": [],
     "prompt_number": 24
    },
    {
     "cell_type": "markdown",
     "metadata": {},
     "source": [
      "Pero una vez implementada esta versi\u00f3n de `iir` podemos comprobar que se parece mucho a nuestra implementaci\u00f3n original de `iir_elem`. Merece la pena reescribir `iir_elem` para reutilizar esta \u00faltima implementaci\u00f3n y reducir la duplicaci\u00f3n de c\u00f3digo."
     ]
    },
    {
     "cell_type": "code",
     "collapsed": false,
     "input": [
      "def iir_elem(a, b, x, n):\n",
      "    return iir(a, b, x, n+1).pop()"
     ],
     "language": "python",
     "metadata": {},
     "outputs": [],
     "prompt_number": 25
    },
    {
     "cell_type": "markdown",
     "metadata": {},
     "source": [
      "Solo falta probarlo."
     ]
    },
    {
     "cell_type": "code",
     "collapsed": false,
     "input": [
      "a = [ 1.0000, -0.6090, 0.5589, -0.2267, 0.0552, -0.0059 ]\n",
      "b = [ 0.0000,  0.1362, 0.4609,  0.1703, 0.0064,  0.0000 ]\n",
      "x = [ 1. ]\n",
      "print iir(a, b, x, 20)"
     ],
     "language": "python",
     "metadata": {},
     "outputs": [
      {
       "output_type": "stream",
       "stream": "stdout",
       "text": [
        "[0.0, 0.1362, 0.5438457999999999, 0.4253799122, -0.0076225110901999675, -0.12661533932251176, -0.005631602263356893, 0.04533536317137913, 0.004983545346105678, -0.016635445678637978, -0.0030749291383428603, 0.006018949974088185, 0.0016052498338984026, -0.0021358009083332456, -0.0007617939672824104, 0.0007432886184513401, 0.0003411453650477868, -0.00025299798976127845, -0.0001467885888520849, 8.381986397751188e-05]\n"
       ]
      }
     ],
     "prompt_number": 26
    },
    {
     "cell_type": "markdown",
     "metadata": {},
     "source": [
      "## 2. Diezmado e interpolaci\u00f3n\n",
      "\n",
      "Una operaci\u00f3n de filtrado b\u00e1sica es la reducci\u00f3n del n\u00famero de muestras, que equivale a reducir la frecuencia de muestreo.  Esta operaci\u00f3n se puede describir matem\u00e1ticamente as\u00ed:\n",
      "\n",
      "$$ y_n = x_{M\\cdot n} $$\n",
      "\n",
      "Es decir, la se\u00f1al de salida conserva los valores de la de entrada, pero solo se preservan una de cada M muestras.\n",
      "\n",
      "**Nota: El diezmado habituamente requiere un paso previo de filtrado que vamos a ignorar en esta prueba**\n",
      "\n",
      "La operaci\u00f3n complementaria del diezmado es la interpolaci\u00f3n. Generar nuevas muestras como resultado de un promediado de las muestras de alrededor.  En nuestro caso usaremos el m\u00e9todo m\u00e1s simple (interpolaci\u00f3n lineal) que consiste en generar muestras como la media aritm\u00e9tica de la muestra que la precede y la que sigue.  Es decir:\n",
      "\n",
      "$$ y_{2n} = x_n $$\n",
      "\n",
      "$$ y_{2n+1} = \\frac{x_{2n} + x_{2n+2}}{2} $$\n",
      "\n",
      "Es decir, las muestras pares corresponden a la se\u00f1al original y las impares se toman como la media aritm\u00e9tica de la anterior y la posterior.\n",
      "\n",
      "1. *Definir una funci\u00f3n `diezmar` que tenga dos par\u00e1metros. El primer par\u00e1metro es una lista `x` que representa la se\u00f1al de entrada. El segundo representa a $M$, la tasa de diezmado. La funci\u00f3n debe devolver otra lista con solo uno de cada $M$ elementos de `x`.*\n",
      "\n",
      "1. *Definir una funci\u00f3n `interpolar` que tenga un par\u00e1metro, la lista `x` que representa la se\u00f1al de entrada.  La funci\u00f3n debe devolver una lista con el doble de elementos, donde los elementos impares se calculan interpolando como se explica arriba.*\n",
      "\n",
      "### Ejemplo de uso\n",
      "```\n",
      "x = range(100)\n",
      "print diezmar(x,5)\n",
      "x = range(0,10,2)\n",
      "print interpolar(x)\n",
      "\n",
      "[0, 5, 10, 15, 20, 25, 30, 35, 40, 45, 50, 55, 60, 65, 70, 75, 80, 85, 90, 95]\n",
      "[0, 1.0, 2, 3.0, 4, 5.0, 6, 7.0, 8, 4.0]\n",
      "```"
     ]
    },
    {
     "cell_type": "markdown",
     "metadata": {},
     "source": [
      "Ambas funciones son pr\u00e1cticamente directas."
     ]
    },
    {
     "cell_type": "code",
     "collapsed": false,
     "input": [
      "def diezmar(x,M):\n",
      "    y=[]\n",
      "    for i in range(0,len(x),M):\n",
      "        y.append(x[i])\n",
      "    return y\n",
      "\n",
      "def interpolar(x):\n",
      "    y=[]\n",
      "    for i in range(len(x)):\n",
      "        y.append(x[i])\n",
      "        y.append(.5*(x[i]+elem(x,i+1)))\n",
      "    return y"
     ],
     "language": "python",
     "metadata": {},
     "outputs": [],
     "prompt_number": 27
    },
    {
     "cell_type": "markdown",
     "metadata": {},
     "source": [
      "O con *list comprehensions* que en el caso de la funci\u00f3n `interpolar` puede ser demasiado rebuscado."
     ]
    },
    {
     "cell_type": "code",
     "collapsed": false,
     "input": [
      "def diezmar(x,M):\n",
      "    return [ x[i] for i in range(0,len(x),M) ]\n",
      "\n",
      "def interpolar(x):\n",
      "    l = zip(x,[ .5*(x[i]+elem(x,i+1)) for i in range(len(x))])\n",
      "    return [ i for tupla in l for i in tupla ]"
     ],
     "language": "python",
     "metadata": {},
     "outputs": [],
     "prompt_number": 28
    },
    {
     "cell_type": "markdown",
     "metadata": {},
     "source": [
      "O haciendo funciones `f(x,i)` intermedias para poder iterar sobre las propias funciones. Una de las funciones es directamente devolver el t\u00e9rmino i-\u00e9simo, que puede ser aprovechada directamente de `elem`."
     ]
    },
    {
     "cell_type": "code",
     "collapsed": false,
     "input": [
      "def media(x, i): return .5*(x[i] + elem(x,i+1))\n",
      "\n",
      "def interpolar(x):\n",
      "    return [ f(x, i) for i in range(len(x)) for f in (elem, media) ]"
     ],
     "language": "python",
     "metadata": {},
     "outputs": [],
     "prompt_number": 32
    },
    {
     "cell_type": "markdown",
     "metadata": {},
     "source": [
      "Solo falta probarlo."
     ]
    },
    {
     "cell_type": "code",
     "collapsed": false,
     "input": [
      "x = range(100)\n",
      "print diezmar(x,5)\n",
      "x = range(0,10,2)\n",
      "print interpolar(x)"
     ],
     "language": "python",
     "metadata": {},
     "outputs": [
      {
       "output_type": "stream",
       "stream": "stdout",
       "text": [
        "[0, 5, 10, 15, 20, 25, 30, 35, 40, 45, 50, 55, 60, 65, 70, 75, 80, 85, 90, 95]\n",
        "[0, 1.0, 2, 3.0, 4, 5.0, 6, 7.0, 8, 4.0]\n"
       ]
      }
     ],
     "prompt_number": 31
    },
    {
     "cell_type": "markdown",
     "metadata": {},
     "source": [
      "##R\u00fabrica de evaluaci\u00f3n\n",
      "\n",
      "Puntos totales: 10 puntos:\n",
      "\n",
      "* 1.1 Funci\u00f3n `iir_elem`: 2.5 puntos\n",
      "* 1.2 Funci\u00f3n `iir`: 2.5 puntos\n",
      "* 2.1 Funci\u00f3n `diezmar`: 2.5 puntos\n",
      "* 2.2 Funci\u00f3n `interpolar`: 2.5 puntos\n",
      "\n",
      "Penalizaciones:\n",
      "\n",
      "* Errores de sintaxis: 100% de los puntos de la funci\u00f3n\n",
      "* Errores de ejecuci\u00f3n (excepciones): 50% de los puntos de la funci\u00f3n\n",
      "* Errores en l\u00edmites de recorridos: 20% de los puntos de la funci\u00f3n\n",
      "* C\u00f3digo repetitivo: 10% de los puntos de la funci\u00f3n"
     ]
    }
   ],
   "metadata": {}
  }
 ]
}