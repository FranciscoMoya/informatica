{
 "cells": [
  {
   "cell_type": "markdown",
   "metadata": {},
   "source": [
    "# Ramificación e iteración\n",
    "\n",
    "Ramificación e iteración son los dos mecanismos básicos que aporta Python para controlar el flujo del programa más allá de la secuencia normal de ejecución.\n",
    "\n",
    "## Ramificación\n",
    "\n",
    "La sentencia básica de ramificación es el *if*. Veamos unos ejemplos:"
   ]
  },
  {
   "cell_type": "markdown",
   "metadata": {},
   "source": [
    "* Imprimir por pantalla si un número *x* es par o impar."
   ]
  },
  {
   "cell_type": "code",
   "execution_count": 18,
   "metadata": {
    "collapsed": false
   },
   "outputs": [
    {
     "name": "stdout",
     "output_type": "stream",
     "text": [
      "122 es par\n"
     ]
    }
   ],
   "source": [
    "def es_par(n):\n",
    "    return n % 2 == 0\n",
    "\n",
    "x = 122\n",
    "if es_par(x):\n",
    "    print(x, 'es par')\n",
    "else:\n",
    "    print(x, 'es impar')"
   ]
  },
  {
   "cell_type": "markdown",
   "metadata": {},
   "source": [
    "* Encontrar el mínimo de los números x, y, z."
   ]
  },
  {
   "cell_type": "code",
   "execution_count": 19,
   "metadata": {
    "collapsed": false
   },
   "outputs": [
    {
     "name": "stdout",
     "output_type": "stream",
     "text": [
      "z es el menor\n"
     ]
    }
   ],
   "source": [
    "x, y, z = 500, 250, 100\n",
    "\n",
    "if x < y and x < z:\n",
    "    print('x es el menor')\n",
    "elif y < z:\n",
    "    print('y es el menor')\n",
    "else:\n",
    "    print('z es el menor')"
   ]
  },
  {
   "cell_type": "markdown",
   "metadata": {},
   "source": [
    "* Imprimir por pantalla los números x, y, z en orden creciente."
   ]
  },
  {
   "cell_type": "code",
   "execution_count": 20,
   "metadata": {
    "collapsed": false
   },
   "outputs": [
    {
     "name": "stdout",
     "output_type": "stream",
     "text": [
      "5 10 13\n"
     ]
    }
   ],
   "source": [
    "x, y, z = 13, 5, 10\n",
    "\n",
    "if x <= y and x <= z:\n",
    "    print(x, end=' ')\n",
    "    if y < z:\n",
    "        print(y, z)\n",
    "    else:\n",
    "        print(z, y)\n",
    "elif y <= z:\n",
    "    print(y, end=' ')\n",
    "    if x < z:\n",
    "        print(x, z)\n",
    "    else:\n",
    "        print(z, x)\n",
    "else:\n",
    "    print(z, end=' ')\n",
    "    if x < y:\n",
    "        print(x, y)\n",
    "    else:\n",
    "        print(y, x)\n"
   ]
  },
  {
   "cell_type": "markdown",
   "metadata": {},
   "source": [
    "¿No te parece excesivamente largo para un problema tan pequeño?\n",
    "\n",
    "Puedes apostar a que no es la mejor solución, pero es un buen ejemplo de *if*.\n",
    "\n",
    "No te voy a dejar con ese mal sabor de boca, vamos a escribirlo bien."
   ]
  },
  {
   "cell_type": "code",
   "execution_count": 21,
   "metadata": {
    "collapsed": false
   },
   "outputs": [
    {
     "name": "stdout",
     "output_type": "stream",
     "text": [
      "[5, 10, 13]\n"
     ]
    }
   ],
   "source": [
    "print(sorted([x, y, z]))"
   ]
  },
  {
   "cell_type": "markdown",
   "metadata": {},
   "source": [
    "No solo es mucho más corto, es además más general porque permite aplicarlo a cualquier número de argumentos.\n",
    "\n",
    "Esos corchetes seguro que ahora mismo no te resultan familiares, pero pronto serán de la familia. De todas formas los podemos quitar de la salida y dejarla igual que antes."
   ]
  },
  {
   "cell_type": "code",
   "execution_count": 22,
   "metadata": {
    "collapsed": false
   },
   "outputs": [
    {
     "name": "stdout",
     "output_type": "stream",
     "text": [
      "5 10 13\n"
     ]
    }
   ],
   "source": [
    "print(' '.join(map(str,sorted([x,y,z]))))"
   ]
  },
  {
   "cell_type": "markdown",
   "metadata": {},
   "source": [
    "¿Parece chino? Es lo que suele pasar con las bibliotecas de funciones. Si sabes usarlas puedes ahorrar gran cantidad de tiempo, pero saber usarlas requiere también tiempo y dedicación.  En este curso solo pretendemos que desarrolles tu pensamiento computacional.  Pero recuerda que para la vida real necesitas invertir tiempo y esfuerzo en conocer lo que ya tienes disponible y aprender en qué situaciones puede resultarte útil.\n",
    "\n",
    "Por esta vez voy a explicártelo en detalle, pero intenta usar la documentación oficial de http://docs.python.org para entender lo que hacen los programas que veremos más adelante.\n",
    "\n",
    "Seguramente habrás adivinado que `sorted` es una función que devuelve una versión ordenada de lo que se le pasa como argumento. Lo que pasamos como argumento a sorted es una *lista*, un tipo de objeto de Python que agrupa una secuencia de objetos.\n",
    "\n",
    "Por tanto `[x, y, z]` no es más que una lista que contiene la secuancia de elementos `x`, `y`, `z` y `sorted([x,y,z])` es una versión ordenada de esa lista."
   ]
  },
  {
   "cell_type": "code",
   "execution_count": 23,
   "metadata": {
    "collapsed": false
   },
   "outputs": [
    {
     "data": {
      "text/plain": [
       "[5, 10, 13]"
      ]
     },
     "execution_count": 23,
     "metadata": {},
     "output_type": "execute_result"
    }
   ],
   "source": [
    "sorted([x,y,z])"
   ]
  },
  {
   "cell_type": "markdown",
   "metadata": {},
   "source": [
    "Si queremos que la lista se muestre con otro formato no tenemos más remedio que imprimir nosotros cada elemento en lugar de usar `print`.  Usar `join` es una de las posibilidades, pero para entenderlo vamos a tener que explicar alguna otra cosilla.\n",
    "\n",
    "Todos los objetos de Python tienen funciones asociadas que operan con esos objetos.  Son funciones que no tienen sentido sin un objeto de un tipo concreto.  Por ejemplo, los objetos de tipo *cadena de texto* tienen una función asociada `lower` que convierte la cadena a minúsculas (*lowercase* en inglés)."
   ]
  },
  {
   "cell_type": "code",
   "execution_count": 24,
   "metadata": {
    "collapsed": false
   },
   "outputs": [
    {
     "data": {
      "text/plain": [
       "'hola, mundo'"
      ]
     },
     "execution_count": 24,
     "metadata": {},
     "output_type": "execute_result"
    }
   ],
   "source": [
    "s = 'Hola, Mundo'\n",
    "s.lower()"
   ]
  },
  {
   "cell_type": "markdown",
   "metadata": {},
   "source": [
    "Como puedes ver para llamar a esas funciones especiales (se llaman **métodos**) se usa el objeto sobre el que se aplicará, seguido de un punto, y seguido de la llamada a la función.\n",
    "\n",
    "Uno de los métodos disponibles en las cadenas de texto es el método `join`. Este método acepta una lista de cadenas de texto que concatenará en una única cadena de texto usando la cadena sobre la que se invoca `join` como separador."
   ]
  },
  {
   "cell_type": "code",
   "execution_count": 25,
   "metadata": {
    "collapsed": false
   },
   "outputs": [
    {
     "data": {
      "text/plain": [
       "'Pepe, Paco, Juan'"
      ]
     },
     "execution_count": 25,
     "metadata": {},
     "output_type": "execute_result"
    }
   ],
   "source": [
    "', '.join(['Pepe', 'Paco', 'Juan'])"
   ]
  },
  {
   "cell_type": "markdown",
   "metadata": {},
   "source": [
    "El método `join` hace algo claramente parecido a lo que queremos hacer pero no del todo.  Si intentamos pasar a `join` una lista de números la cosa no funciona."
   ]
  },
  {
   "cell_type": "code",
   "execution_count": 26,
   "metadata": {
    "collapsed": false
   },
   "outputs": [
    {
     "ename": "TypeError",
     "evalue": "sequence item 0: expected str instance, int found",
     "output_type": "error",
     "traceback": [
      "\u001b[0;31m---------------------------------------------------------------------------\u001b[0m",
      "\u001b[0;31mTypeError\u001b[0m                                 Traceback (most recent call last)",
      "\u001b[0;32m<ipython-input-26-a6f03119863b>\u001b[0m in \u001b[0;36m<module>\u001b[0;34m()\u001b[0m\n\u001b[0;32m----> 1\u001b[0;31m \u001b[1;34m' '\u001b[0m\u001b[1;33m.\u001b[0m\u001b[0mjoin\u001b[0m\u001b[1;33m(\u001b[0m\u001b[1;33m[\u001b[0m\u001b[1;36m1\u001b[0m\u001b[1;33m,\u001b[0m \u001b[1;36m2\u001b[0m\u001b[1;33m,\u001b[0m \u001b[1;36m3\u001b[0m\u001b[1;33m]\u001b[0m\u001b[1;33m)\u001b[0m\u001b[1;33m\u001b[0m\u001b[0m\n\u001b[0m",
      "\u001b[0;31mTypeError\u001b[0m: sequence item 0: expected str instance, int found"
     ]
    }
   ],
   "source": [
    "' '.join([1, 2, 3])"
   ]
  },
  {
   "cell_type": "markdown",
   "metadata": {},
   "source": [
    "Por tanto tenemos que transformar esa lista de enteros en una lista de cadenas de texto que representan esos numeros.  Eso se puede hacer llamando a la función `str` con cada número."
   ]
  },
  {
   "cell_type": "code",
   "execution_count": 36,
   "metadata": {
    "collapsed": false
   },
   "outputs": [
    {
     "data": {
      "text/plain": [
       "'2510'"
      ]
     },
     "execution_count": 36,
     "metadata": {},
     "output_type": "execute_result"
    }
   ],
   "source": [
    "str(25) + str(10)"
   ]
  },
  {
   "cell_type": "code",
   "execution_count": 37,
   "metadata": {
    "collapsed": false
   },
   "outputs": [
    {
     "data": {
      "text/plain": [
       "'13 5 10'"
      ]
     },
     "execution_count": 37,
     "metadata": {},
     "output_type": "execute_result"
    }
   ],
   "source": [
    "' '.join([str(x), str(y), str(z)])"
   ]
  },
  {
   "cell_type": "markdown",
   "metadata": {},
   "source": [
    "Pero no son en ese orden, sino en el que resulte de la lista ordenada. Hay muchas formas de hacerlo pero nosotros todavía no hemos visto bucles, así que os proponía usar la función `map`, que aplica una función a todos los elementos de una lista.  Por ejemplo:"
   ]
  },
  {
   "cell_type": "code",
   "execution_count": 38,
   "metadata": {
    "collapsed": false
   },
   "outputs": [
    {
     "name": "stdout",
     "output_type": "stream",
     "text": [
      "<map object at 0x000000830E5F2208>\n"
     ]
    }
   ],
   "source": [
    "def cuadrado(x):\n",
    "    return x*x\n",
    "\n",
    "print(map(cuadrado, [1, 2, 3, 4, 5]))"
   ]
  },
  {
   "cell_type": "markdown",
   "metadata": {},
   "source": [
    "¿No se parece a lo que te decía? En Python 3 `map` se optimiza usando *generadores*.  Se trata de un objeto especial que va aplicando la función `cuadrado` solamente para los elementos que se van accediendo.  Si no se accede a algún elemento se ahorra la llamada. Por ejemplo:"
   ]
  },
  {
   "cell_type": "code",
   "execution_count": 39,
   "metadata": {
    "collapsed": false
   },
   "outputs": [
    {
     "name": "stdout",
     "output_type": "stream",
     "text": [
      "1 4 9 16 25 "
     ]
    }
   ],
   "source": [
    "for x in map(cuadrado, [1, 2, 3, 4, 5]):\n",
    "    print(x,end=' ')"
   ]
  },
  {
   "cell_type": "markdown",
   "metadata": {},
   "source": [
    "En nuestro caso la función a aplicar es la función `str` para convertir cada elemento de la lista a una cadena de texto."
   ]
  },
  {
   "cell_type": "code",
   "execution_count": 40,
   "metadata": {
    "collapsed": false
   },
   "outputs": [
    {
     "data": {
      "text/plain": [
       "'5 10 25'"
      ]
     },
     "execution_count": 40,
     "metadata": {},
     "output_type": "execute_result"
    }
   ],
   "source": [
    "' '.join(map(str, sorted([x, y, z])))"
   ]
  },
  {
   "cell_type": "markdown",
   "metadata": {},
   "source": [
    "De todas formas existe una forma más sencilla de hacer lo mismo usando otra característica de Python.  El operador `*` aplicado a una lista o similar sirve para desempaquetar los elementos.  Por ejemplo, de esta forma pasamos cada elemento de la lista ordenada como argumentos independientes de `print`."
   ]
  },
  {
   "cell_type": "code",
   "execution_count": 41,
   "metadata": {
    "collapsed": false
   },
   "outputs": [
    {
     "name": "stdout",
     "output_type": "stream",
     "text": [
      "5 10 25\n"
     ]
    }
   ],
   "source": [
    "print(*sorted([x,y,z]))"
   ]
  },
  {
   "cell_type": "markdown",
   "metadata": {},
   "source": [
    "Hemos visto suficiente de ejecución condicional como para hacer con facilidad todos los ejercicios del curso, pero no quiero cerrar la sección sin mostrar otras posibilidades que ofrece Python de ejecución condicional.  El operador ternario `if`/`else` permite evaluar expresiones de forma condicional.  En el siguiente ejemplo el valor de `y` depende del valor de `x`. Si `x` es par `y` toma el valor `x/2`, en caso contrario `y` toma el valor `x`."
   ]
  },
  {
   "cell_type": "code",
   "execution_count": 42,
   "metadata": {
    "collapsed": false
   },
   "outputs": [
    {
     "name": "stdout",
     "output_type": "stream",
     "text": [
      "62.0\n"
     ]
    }
   ],
   "source": [
    "x = 124\n",
    "y = x/2 if es_par(x) else x\n",
    "print(y)"
   ]
  },
  {
   "cell_type": "markdown",
   "metadata": {},
   "source": [
    "El operador `if`/`else` es distinto a la sentencia `if`/`else` aunque usan las mismas palabras reservadas. En este caso no usamos los dos puntos para marcar inicios de bloque de sentencias.\n",
    "\n",
    "## Iteración\n",
    "\n",
    "Los bucles son construcciones que permiten volver atrás en la secuencia de sentencias. Cada ejecución del grupo de sentencias que compone el cuerpo del bucle se le llama **iteración**. \n",
    "\n",
    "El más general es el bucle `while` que repite un bloque de sentencias mientras se verifique una condición booleana y que ya conocemos de ejemplos anteriores. Volvamos a un ejemplo conocido.\n",
    "\n",
    "* Encontrar la raiz cúbica de un número natural `n`"
   ]
  },
  {
   "cell_type": "code",
   "execution_count": 43,
   "metadata": {
    "collapsed": false
   },
   "outputs": [],
   "source": [
    "def raiz_cubica(n):\n",
    "    i = 1\n",
    "    while i**3 < n:\n",
    "        i = i + 1\n",
    "\n",
    "    if i**3 == n:\n",
    "        return i"
   ]
  },
  {
   "cell_type": "markdown",
   "metadata": {},
   "source": [
    "Es un ejemplo de enumeración exhaustiva. Pasamos por todas las posibilidades comprobando si alguna de ellas es la respuesta correcta. ¿Y qué pasa si el número `n` no tiene una raiz cúbica perfecta? Nuestro algoritmo no sabe de números reales.\n",
    "\n",
    "No hay una respuesta universal para esta pregunta, pero aquí te proponemos una posibilidad, no devolver nada. Otra posibilidad es devolver `False` y otra es utilizar un mecanismo de control de errores denominado *excepción*.\n",
    "\n",
    "Con nuestra propuesta la función puede utilizarse con seguridad así:"
   ]
  },
  {
   "cell_type": "code",
   "execution_count": 45,
   "metadata": {
    "collapsed": false
   },
   "outputs": [
    {
     "name": "stdout",
     "output_type": "stream",
     "text": [
      "9 no tiene raiz cúbica perfecta\n"
     ]
    }
   ],
   "source": [
    "x = 9\n",
    "if None == raiz_cubica(x):\n",
    "    print(x, 'no tiene raiz cúbica perfecta')\n",
    "else:\n",
    "    print(raiz_cubica(x))"
   ]
  },
  {
   "cell_type": "markdown",
   "metadata": {},
   "source": [
    "A lo mejor este ejemplo es muy sencillo y tú mismo ves que el algoritmo es fácil de entender, pero las cosas en la vida real no suelen ser tan fáciles.  En general nos vamos a enfrentar al problema de saber si lo que hemos escrito está bien o no hemos entendido todos los casos posibles. ¿Cómo sabemos que el bucle que hemos escrito termina alguna vez? ¿Cómo sabemos que no se queda indefinidamente en él?\n",
    "\n",
    "La respuesta es que debemos buscar una **función de decremento**. No hay que escribirla en el programa y en muchos casos ni siquiera hay que escribirla en papel, pero tiene que existir.  Una *función de decremento* tiene que cumplir cuatro características básicas:\n",
    "\n",
    "* Se trata de una función que hace corresponder números enteros a valores de las variables del programa $f:V \\rightarrow \\mathbb{Z}$.\n",
    "* Cuando el programa entra en el bucle tiene que tomar un valor no negativo.\n",
    "* Cuando la función de decremento toma un valor <= 0 el programa debe salir del bucle.\n",
    "* En cada iteración del bucle la función toma un valor menor que en la anterior iteración (de ahí el nombre de *función de decremento*).\n",
    "\n",
    "Por ejemplo, en el caso anterior la función de decremento es $f(i,n) = n - i^3$.  Al entrar en el bucle con `n = 27` toma el valor 26. En cada iteración se incrementa `i`, por lo que se decrementa la función (toma los valores 26, 19, 0).  La condición de permanencis en el bucle es precisamente la que impone la *función de decremento*, $f(i,n) > 0$, es decir, $n < i^3$.\n",
    "\n",
    "Otra forma de iteración soportada por Python es el bucle `for`. En este caso una variable toma una secuencia de valores que se indica."
   ]
  },
  {
   "cell_type": "code",
   "execution_count": 46,
   "metadata": {
    "collapsed": false
   },
   "outputs": [
    {
     "name": "stdout",
     "output_type": "stream",
     "text": [
      "1\n",
      "2\n",
      "3\n",
      "4\n"
     ]
    }
   ],
   "source": [
    "for i in [1, 2, 3, 4]:\n",
    "    print(i)"
   ]
  },
  {
   "cell_type": "markdown",
   "metadata": {},
   "source": [
    "Para crear secuencias de valores es muy conveniente el uso de la función `range`."
   ]
  },
  {
   "cell_type": "code",
   "execution_count": 33,
   "metadata": {
    "collapsed": false
   },
   "outputs": [
    {
     "data": {
      "text/plain": [
       "range(0, 10)"
      ]
     },
     "execution_count": 33,
     "metadata": {},
     "output_type": "execute_result"
    }
   ],
   "source": [
    "range(10)"
   ]
  },
  {
   "cell_type": "markdown",
   "metadata": {},
   "source": [
    "Este rango contiene todos los valores desde 0 hasta el límite marcado sin contarlo.  Podemos verlo usando nuevamente el operador `*` para expandir el rango:"
   ]
  },
  {
   "cell_type": "code",
   "execution_count": 32,
   "metadata": {
    "collapsed": false
   },
   "outputs": [
    {
     "name": "stdout",
     "output_type": "stream",
     "text": [
      "0 1 2 3 4 5 6 7 8 9\n"
     ]
    }
   ],
   "source": [
    "print(*range(10))"
   ]
  },
  {
   "cell_type": "markdown",
   "metadata": {},
   "source": [
    "También podemos especificar los límites inferior y superior.  El límite inferior está incluído en el rango."
   ]
  },
  {
   "cell_type": "code",
   "execution_count": 31,
   "metadata": {
    "collapsed": false
   },
   "outputs": [
    {
     "name": "stdout",
     "output_type": "stream",
     "text": [
      "range(5, 10)\n"
     ]
    }
   ],
   "source": [
    "print(range(5,10))"
   ]
  },
  {
   "cell_type": "markdown",
   "metadata": {},
   "source": [
    "Por último se puede especificar el incremento, de manera que solo se incluya uno de cada *n* números del rango.  Por ejemplo:"
   ]
  },
  {
   "cell_type": "code",
   "execution_count": 30,
   "metadata": {
    "collapsed": false
   },
   "outputs": [
    {
     "name": "stdout",
     "output_type": "stream",
     "text": [
      "1 3 5 7 9 11 13 15 17 19\n"
     ]
    }
   ],
   "source": [
    "print(*range(1, 20, 2))"
   ]
  },
  {
   "cell_type": "markdown",
   "metadata": {},
   "source": [
    "Ambos tipos de bucle pueden utilizarse en la mayoría de las situaciones. Es quizás más sencillo buscar la *función de decremento* en el caso del `while` pero también suele ser algo más largo.  Cuál usar es cuestión de gustos o conveniencia. Para recorrer elementos en una secuencia el `for` seguramente será más apropiado, mientras que para hacer un número de iteraciones que depende de los valores calculados el `while` es más natural.\n",
    "\n",
    "Veamos el ejemplo de la raiz cúbica con `for`."
   ]
  },
  {
   "cell_type": "code",
   "execution_count": 29,
   "metadata": {
    "collapsed": false
   },
   "outputs": [],
   "source": [
    "def raiz_cubica(n):\n",
    "    for i in range(n + 1):\n",
    "        if i**3 >= n: break\n",
    "\n",
    "    if i**3 == n:\n",
    "        return i"
   ]
  },
  {
   "cell_type": "markdown",
   "metadata": {},
   "source": [
    "Las cadenas de texto también pueden ser recorridas carácter a carácter con un bucle for."
   ]
  },
  {
   "cell_type": "code",
   "execution_count": 28,
   "metadata": {
    "collapsed": false
   },
   "outputs": [
    {
     "name": "stdout",
     "output_type": "stream",
     "text": [
      "H\n",
      "o\n",
      "l\n",
      "a\n"
     ]
    }
   ],
   "source": [
    "for i in 'Hola':\n",
    "    print(i)"
   ]
  },
  {
   "cell_type": "markdown",
   "metadata": {},
   "source": [
    "El bucle `for` tiene otra forma interesante, con ayuda de la función `enumerate`, en la que además de recorrer los elementos de la secuencia también recorre las posiciones de esos elementos."
   ]
  },
  {
   "cell_type": "code",
   "execution_count": 27,
   "metadata": {
    "collapsed": false
   },
   "outputs": [
    {
     "name": "stdout",
     "output_type": "stream",
     "text": [
      "0 : Pedro\n",
      "1 : Paco\n",
      "2 : Luis\n",
      "3 : Pocoyo\n",
      "4 : Marshall\n"
     ]
    }
   ],
   "source": [
    "for posicion, nombre in enumerate(['Pedro', 'Paco', 'Luis', 'Pocoyo', 'Marshall']):\n",
    "    print(posicion, ':', nombre)"
   ]
  },
  {
   "cell_type": "code",
   "execution_count": null,
   "metadata": {
    "collapsed": false
   },
   "outputs": [],
   "source": []
  }
 ],
 "metadata": {
  "kernelspec": {
   "display_name": "Python 3",
   "language": "python",
   "name": "python3"
  },
  "language_info": {
   "codemirror_mode": {
    "name": "ipython",
    "version": 3
   },
   "file_extension": ".py",
   "mimetype": "text/x-python",
   "name": "python",
   "nbconvert_exporter": "python",
   "pygments_lexer": "ipython3",
   "version": "3.5.2"
  }
 },
 "nbformat": 4,
 "nbformat_minor": 0
}
