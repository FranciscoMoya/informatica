{
 "metadata": {
  "name": "",
  "signature": "sha256:8f9c6569938331002379c28a7bb1a1b0cb0ecf1bce05a0511e08db36c14d8d89"
 },
 "nbformat": 3,
 "nbformat_minor": 0,
 "worksheets": [
  {
   "cells": [
    {
     "cell_type": "markdown",
     "metadata": {},
     "source": [
      "# Ramificaci\u00f3n e iteraci\u00f3n\n",
      "\n",
      "Ramificaci\u00f3n e iteraci\u00f3n son los dos mecanismos b\u00e1sicos que aporta Python para controlar el flujo del programa m\u00e1s all\u00e1 de la secuencia normal de ejecuci\u00f3n.\n",
      "\n",
      "## Ramificaci\u00f3n\n",
      "\n",
      "La sentencia b\u00e1sica de ramificaci\u00f3n es el *if*. Veamos unos ejemplos:"
     ]
    },
    {
     "cell_type": "markdown",
     "metadata": {},
     "source": [
      "* Imprimir por pantalla si un n\u00famero *x* es par o impar."
     ]
    },
    {
     "cell_type": "code",
     "collapsed": false,
     "input": [
      "def es_par(n):\n",
      "    return n % 2 == 0\n",
      "\n",
      "x = 121\n",
      "if es_par(x):\n",
      "    print x, 'es par'\n",
      "else:\n",
      "    print x, 'es impar'"
     ],
     "language": "python",
     "metadata": {},
     "outputs": [
      {
       "output_type": "stream",
       "stream": "stdout",
       "text": [
        "121 es impar\n"
       ]
      }
     ],
     "prompt_number": 1
    },
    {
     "cell_type": "markdown",
     "metadata": {},
     "source": [
      "* Encontrar el m\u00ednimo de los n\u00fameros x, y, z."
     ]
    },
    {
     "cell_type": "code",
     "collapsed": false,
     "input": [
      "x, y, z = 50, 25, 100\n",
      "\n",
      "if x < y and x < z:\n",
      "    print 'x es el menor'\n",
      "elif y < z:\n",
      "    print 'y es el menor'\n",
      "else:\n",
      "    print 'z es el menor'"
     ],
     "language": "python",
     "metadata": {},
     "outputs": [
      {
       "output_type": "stream",
       "stream": "stdout",
       "text": [
        "y es el menor\n"
       ]
      }
     ],
     "prompt_number": 2
    },
    {
     "cell_type": "markdown",
     "metadata": {},
     "source": [
      "* Imprimir por pantalla los n\u00fameros x, y, z en orden creciente."
     ]
    },
    {
     "cell_type": "code",
     "collapsed": false,
     "input": [
      "x, y, z = 13, 5, 10\n",
      "\n",
      "if x <= y and x <= z:\n",
      "    print x,\n",
      "    if y < z:\n",
      "        print y, z\n",
      "    else:\n",
      "        print z, y\n",
      "elif y <= x and y <= z:\n",
      "    print y,\n",
      "    if x < z:\n",
      "        print x, z\n",
      "    else:\n",
      "        print z, x\n",
      "elif z <= x and z <= y:\n",
      "    print z,\n",
      "    if x < y:\n",
      "        print x, y\n",
      "    else:\n",
      "        print y, x\n"
     ],
     "language": "python",
     "metadata": {},
     "outputs": [
      {
       "output_type": "stream",
       "stream": "stdout",
       "text": [
        "5 10 13\n"
       ]
      }
     ],
     "prompt_number": 3
    },
    {
     "cell_type": "markdown",
     "metadata": {},
     "source": [
      "\u00bfNo te parece excesivamente largo para un problema tan peque\u00f1o?\n",
      "\n",
      "Puedes apostar a que no es la mejor soluci\u00f3n, pero es un buen ejemplo de *if*.\n",
      "\n",
      "No te voy a dejar con ese mal sabor de boca, vamos a escribirlo bien."
     ]
    },
    {
     "cell_type": "code",
     "collapsed": false,
     "input": [
      "print sorted([x, y, z])"
     ],
     "language": "python",
     "metadata": {},
     "outputs": [
      {
       "output_type": "stream",
       "stream": "stdout",
       "text": [
        "[5, 10, 13]\n"
       ]
      }
     ],
     "prompt_number": 4
    },
    {
     "cell_type": "markdown",
     "metadata": {},
     "source": [
      "No solo es mucho m\u00e1s corto, es adem\u00e1s m\u00e1s general porque permite aplicarlo a cualquier n\u00famero de argumentos.\n",
      "\n",
      "Esos corchetes seguro que ahora mismo no te resultan familiares, pero pronto ser\u00e1n de la familia. De todas formas los podemos quitar de la salida y dejarla igual que antes."
     ]
    },
    {
     "cell_type": "code",
     "collapsed": false,
     "input": [
      "print ' '.join(map(str,sorted([x,y,z])))"
     ],
     "language": "python",
     "metadata": {},
     "outputs": [
      {
       "output_type": "stream",
       "stream": "stdout",
       "text": [
        "5 10 13\n"
       ]
      }
     ],
     "prompt_number": 5
    },
    {
     "cell_type": "markdown",
     "metadata": {},
     "source": [
      "\u00bfParece chino? Es lo que suele pasar con las bibliotecas de funciones. Si sabes usarlas puedes ahorrar gran cantidad de tiempo, pero saber usarlas requiere tambi\u00e9n tiempo y dedicaci\u00f3n.  En este curso solo pretendemos que desarrolles tu pensamiento computacional.  Pero recuerda que para la vida real necesitas invertir tiempo y esfuerzo en conocer lo que ya tienes disponible y aprender en qu\u00e9 situaciones puede resultarte \u00fatil.\n",
      "\n",
      "Por esta vez voy a explic\u00e1rtelo en detalle, pero intenta usar la documentaci\u00f3n oficial de http://docs.python.org para entender lo que hacen los programas que veremos m\u00e1s adelante.\n",
      "\n",
      "Seguramente habr\u00e1s adivinado que `sorted` es una funci\u00f3n que devuelve una versi\u00f3n ordenada de lo que se le pasa como argumento. Lo que pasamos como argumento a sorted es una *lista*, un tipo de objeto de Python que agrupa un conjunto ordenado de otros objetos.\n",
      "\n",
      "Por tanto `[x, y, z]` no es m\u00e1s que una lista que contiene los elementos `x`, `y`, `z` y `sorted([x,y,z])` es una versi\u00f3n ordenada de esa lista."
     ]
    },
    {
     "cell_type": "code",
     "collapsed": false,
     "input": [
      "sorted([x,y,z])"
     ],
     "language": "python",
     "metadata": {},
     "outputs": [
      {
       "metadata": {},
       "output_type": "pyout",
       "prompt_number": 6,
       "text": [
        "[5, 10, 13]"
       ]
      }
     ],
     "prompt_number": 6
    },
    {
     "cell_type": "markdown",
     "metadata": {},
     "source": [
      "Si queremos que la lista se muestre con otro formato no tenemos m\u00e1s remedio que imprimir nosotros cada elemento en lugar de usar `print`.  Usar `join` es una de las posibilidades, pero para entenderlo vamos a tener que explicar alguna otra cosilla.\n",
      "\n",
      "Todos los objetos de Python tienen funciones asociadas que operan con esos objetos.  Son funciones que no tienen sentido sin un objeto de un tipo concreto.  Por ejemplo, los objetos de tipo *cadena de texto* tienen una funci\u00f3n asociada `lower` que convierte la cadena a min\u00fasculas (*lowercase* en ingl\u00e9s)."
     ]
    },
    {
     "cell_type": "code",
     "collapsed": false,
     "input": [
      "s = 'Hola, Mundo'\n",
      "s.lower()"
     ],
     "language": "python",
     "metadata": {},
     "outputs": [
      {
       "metadata": {},
       "output_type": "pyout",
       "prompt_number": 7,
       "text": [
        "'hola, mundo'"
       ]
      }
     ],
     "prompt_number": 7
    },
    {
     "cell_type": "markdown",
     "metadata": {},
     "source": [
      "Como puedes ver para llamar a esas funciones especiales (se llaman **m\u00e9todos**) se usa el objeto sobre el que se aplicar\u00e1, seguido de un punto, y seguido de la llamada a la funci\u00f3n.\n",
      "\n",
      "Uno de los m\u00e9todos disponibles en las cadenas de texto es el m\u00e9todo `join`. Este m\u00e9todo acepta una lista de cadenas de texto que concatenar\u00e1 en una \u00fanica cadena de texto usando la cadena sobre la que se invoca `join` como separador."
     ]
    },
    {
     "cell_type": "code",
     "collapsed": false,
     "input": [
      "', '.join(['Pepe', 'Paco', 'Juan'])"
     ],
     "language": "python",
     "metadata": {},
     "outputs": [
      {
       "metadata": {},
       "output_type": "pyout",
       "prompt_number": 8,
       "text": [
        "'Pepe, Paco, Juan'"
       ]
      }
     ],
     "prompt_number": 8
    },
    {
     "cell_type": "markdown",
     "metadata": {},
     "source": [
      "El m\u00e9todo `join` hace algo claramente parecido a lo que queremos hacer pero no del todo.  Si intentamos pasar a `join` una lista de n\u00fameros la cosa no funciona."
     ]
    },
    {
     "cell_type": "code",
     "collapsed": false,
     "input": [
      "' '.join([1, 2, 3])"
     ],
     "language": "python",
     "metadata": {},
     "outputs": [
      {
       "ename": "TypeError",
       "evalue": "sequence item 0: expected string, int found",
       "output_type": "pyerr",
       "traceback": [
        "\u001b[0;31m---------------------------------------------------------------------------\u001b[0m\n\u001b[0;31mTypeError\u001b[0m                                 Traceback (most recent call last)",
        "\u001b[0;32m<ipython-input-9-a6f03119863b>\u001b[0m in \u001b[0;36m<module>\u001b[0;34m()\u001b[0m\n\u001b[0;32m----> 1\u001b[0;31m \u001b[0;34m' '\u001b[0m\u001b[0;34m.\u001b[0m\u001b[0mjoin\u001b[0m\u001b[0;34m(\u001b[0m\u001b[0;34m[\u001b[0m\u001b[0;36m1\u001b[0m\u001b[0;34m,\u001b[0m \u001b[0;36m2\u001b[0m\u001b[0;34m,\u001b[0m \u001b[0;36m3\u001b[0m\u001b[0;34m]\u001b[0m\u001b[0;34m)\u001b[0m\u001b[0;34m\u001b[0m\u001b[0m\n\u001b[0m",
        "\u001b[0;31mTypeError\u001b[0m: sequence item 0: expected string, int found"
       ]
      }
     ],
     "prompt_number": 9
    },
    {
     "cell_type": "markdown",
     "metadata": {},
     "source": [
      "Por tanto tenemos que transformar esa lista de enteros en una lista de cadenas de texto que representan esos numeros.  Eso se puede hacer llamando a la funci\u00f3n `str` con cada n\u00famero."
     ]
    },
    {
     "cell_type": "code",
     "collapsed": false,
     "input": [
      "' '.join([str(x), str(y), str(z)])"
     ],
     "language": "python",
     "metadata": {},
     "outputs": [
      {
       "metadata": {},
       "output_type": "pyout",
       "prompt_number": 10,
       "text": [
        "'13 5 10'"
       ]
      }
     ],
     "prompt_number": 10
    },
    {
     "cell_type": "markdown",
     "metadata": {},
     "source": [
      "Pero no son en ese orden, sino en el que resulte de la lista ordenada. Hay muchas formas de hacerlo pero nosotros todav\u00eda no hemos visto bucles, as\u00ed que os propon\u00eda usar la funci\u00f3n `map`, que aplica una funci\u00f3n a todos los elementos de una lista.  Por ejemplo:"
     ]
    },
    {
     "cell_type": "code",
     "collapsed": false,
     "input": [
      "def cuadrado(x):\n",
      "    return x*x\n",
      "\n",
      "map(cuadrado, [1, 2, 3, 4, 5])"
     ],
     "language": "python",
     "metadata": {},
     "outputs": [
      {
       "metadata": {},
       "output_type": "pyout",
       "prompt_number": 11,
       "text": [
        "[1, 4, 9, 16, 25]"
       ]
      }
     ],
     "prompt_number": 11
    },
    {
     "cell_type": "markdown",
     "metadata": {},
     "source": [
      "En nuestro caso la funci\u00f3n a aplicar es la funci\u00f3n `str` para convertir cada elemento de la lista a una cadena de texto."
     ]
    },
    {
     "cell_type": "code",
     "collapsed": false,
     "input": [
      "' '.join(map(str, sorted([x, y, z])))"
     ],
     "language": "python",
     "metadata": {},
     "outputs": [
      {
       "metadata": {},
       "output_type": "pyout",
       "prompt_number": 12,
       "text": [
        "'5 10 13'"
       ]
      }
     ],
     "prompt_number": 12
    },
    {
     "cell_type": "markdown",
     "metadata": {},
     "source": [
      "Hemos visto suficiente de ejecuci\u00f3n condicional como para hacer con facilidad todos los ejercicios del curso, pero no quiero cerrar la secci\u00f3n sin mostrar otras posibilidades que ofrece Python de ejecuci\u00f3n condicional.  El operador ternario `if`/`else` permite evaluar expresiones de forma condicional.  En el siguiente ejemplo el valor de `y` depende del valor de `x`. Si `x` es par `y` toma el valor `x/2`, en caso contrario `y` toma el valor `x`."
     ]
    },
    {
     "cell_type": "code",
     "collapsed": false,
     "input": [
      "x = 124\n",
      "y = x/2 if es_par(x) else x\n",
      "print y"
     ],
     "language": "python",
     "metadata": {},
     "outputs": [
      {
       "output_type": "stream",
       "stream": "stdout",
       "text": [
        "62\n"
       ]
      }
     ],
     "prompt_number": 16
    },
    {
     "cell_type": "markdown",
     "metadata": {},
     "source": [
      "## Iteraci\u00f3n\n",
      "\n",
      "Los bucles son construcciones que permiten volver atr\u00e1s en la secuencia de sentencias. \n",
      "\n",
      "El m\u00e1s general es el bucle `while`. "
     ]
    },
    {
     "cell_type": "code",
     "collapsed": false,
     "input": [],
     "language": "python",
     "metadata": {},
     "outputs": []
    }
   ],
   "metadata": {}
  }
 ]
}