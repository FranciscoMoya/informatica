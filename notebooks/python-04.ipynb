{
 "metadata": {
  "name": "",
  "signature": "sha256:aff584260829f99e4b2d196f50497f63bd307e88aa4a67dbdd5b8582e94d9661"
 },
 "nbformat": 3,
 "nbformat_minor": 0,
 "worksheets": [
  {
   "cells": [
    {
     "cell_type": "markdown",
     "metadata": {},
     "source": [
      "# Ramificaci\u00f3n e iteraci\u00f3n\n",
      "\n",
      "Ramificaci\u00f3n e iteraci\u00f3n son los dos mecanismos b\u00e1sicos que aporta Python para controlar el flujo del programa m\u00e1s all\u00e1 de la secuencia normal de ejecuci\u00f3n.\n",
      "\n",
      "## Ramificaci\u00f3n\n",
      "\n",
      "La sentencia b\u00e1sica de ramificaci\u00f3n es el *if*. Veamos unos ejemplos:"
     ]
    },
    {
     "cell_type": "markdown",
     "metadata": {},
     "source": [
      "* Imprimir por pantalla si un n\u00famero *x* es par o impar."
     ]
    },
    {
     "cell_type": "code",
     "collapsed": false,
     "input": [
      "def es_par(n):\n",
      "    return n % 2 == 0\n",
      "\n",
      "x = 122\n",
      "if es_par(x):\n",
      "    print x, 'es par'\n",
      "else:\n",
      "    print x, 'es impar'"
     ],
     "language": "python",
     "metadata": {},
     "outputs": [
      {
       "output_type": "stream",
       "stream": "stdout",
       "text": [
        "122 es par\n"
       ]
      }
     ],
     "prompt_number": 1
    },
    {
     "cell_type": "markdown",
     "metadata": {},
     "source": [
      "* Encontrar el m\u00ednimo de los n\u00fameros x, y, z."
     ]
    },
    {
     "cell_type": "code",
     "collapsed": false,
     "input": [
      "x, y, z = 500, 250, 100\n",
      "\n",
      "if x < y and x < z:\n",
      "    print 'x es el menor'\n",
      "elif y < z:\n",
      "    print 'y es el menor'\n",
      "else:\n",
      "    print 'z es el menor'"
     ],
     "language": "python",
     "metadata": {},
     "outputs": [
      {
       "output_type": "stream",
       "stream": "stdout",
       "text": [
        "z es el menor\n"
       ]
      }
     ],
     "prompt_number": 3
    },
    {
     "cell_type": "markdown",
     "metadata": {},
     "source": [
      "* Imprimir por pantalla los n\u00fameros x, y, z en orden creciente."
     ]
    },
    {
     "cell_type": "code",
     "collapsed": false,
     "input": [
      "x, y, z = 13, 5, 10\n",
      "\n",
      "if x <= y and x <= z:\n",
      "    print x,\n",
      "    if y < z:\n",
      "        print y, z\n",
      "    else:\n",
      "        print z, y\n",
      "elif y <= z:\n",
      "    print y,\n",
      "    if x < z:\n",
      "        print x, z\n",
      "    else:\n",
      "        print z, x\n",
      "else:\n",
      "    print z,\n",
      "    if x < y:\n",
      "        print x, y\n",
      "    else:\n",
      "        print y, x\n"
     ],
     "language": "python",
     "metadata": {},
     "outputs": [
      {
       "output_type": "stream",
       "stream": "stdout",
       "text": [
        "5 10 13\n"
       ]
      }
     ],
     "prompt_number": 2
    },
    {
     "cell_type": "markdown",
     "metadata": {},
     "source": [
      "\u00bfNo te parece excesivamente largo para un problema tan peque\u00f1o?\n",
      "\n",
      "Puedes apostar a que no es la mejor soluci\u00f3n, pero es un buen ejemplo de *if*.\n",
      "\n",
      "No te voy a dejar con ese mal sabor de boca, vamos a escribirlo bien."
     ]
    },
    {
     "cell_type": "code",
     "collapsed": false,
     "input": [
      "print sorted([x, y, z])"
     ],
     "language": "python",
     "metadata": {},
     "outputs": [
      {
       "output_type": "stream",
       "stream": "stdout",
       "text": [
        "[5, 10, 13]\n"
       ]
      }
     ],
     "prompt_number": 20
    },
    {
     "cell_type": "markdown",
     "metadata": {},
     "source": [
      "No solo es mucho m\u00e1s corto, es adem\u00e1s m\u00e1s general porque permite aplicarlo a cualquier n\u00famero de argumentos.\n",
      "\n",
      "Esos corchetes seguro que ahora mismo no te resultan familiares, pero pronto ser\u00e1n de la familia. De todas formas los podemos quitar de la salida y dejarla igual que antes."
     ]
    },
    {
     "cell_type": "code",
     "collapsed": false,
     "input": [
      "print ' '.join(map(str,sorted([x,y,z])))"
     ],
     "language": "python",
     "metadata": {},
     "outputs": [
      {
       "output_type": "stream",
       "stream": "stdout",
       "text": [
        "5 10 13\n"
       ]
      }
     ],
     "prompt_number": 21
    },
    {
     "cell_type": "markdown",
     "metadata": {},
     "source": [
      "\u00bfParece chino? Es lo que suele pasar con las bibliotecas de funciones. Si sabes usarlas puedes ahorrar gran cantidad de tiempo, pero saber usarlas requiere tambi\u00e9n tiempo y dedicaci\u00f3n.  En este curso solo pretendemos que desarrolles tu pensamiento computacional.  Pero recuerda que para la vida real necesitas invertir tiempo y esfuerzo en conocer lo que ya tienes disponible y aprender en qu\u00e9 situaciones puede resultarte \u00fatil.\n",
      "\n",
      "Por esta vez voy a explic\u00e1rtelo en detalle, pero intenta usar la documentaci\u00f3n oficial de http://docs.python.org para entender lo que hacen los programas que veremos m\u00e1s adelante.\n",
      "\n",
      "Seguramente habr\u00e1s adivinado que `sorted` es una funci\u00f3n que devuelve una versi\u00f3n ordenada de lo que se le pasa como argumento. Lo que pasamos como argumento a sorted es una *lista*, un tipo de objeto de Python que agrupa una secuencia de objetos.\n",
      "\n",
      "Por tanto `[x, y, z]` no es m\u00e1s que una lista que contiene la secuancia de elementos `x`, `y`, `z` y `sorted([x,y,z])` es una versi\u00f3n ordenada de esa lista."
     ]
    },
    {
     "cell_type": "code",
     "collapsed": false,
     "input": [
      "sorted([x,y,z])"
     ],
     "language": "python",
     "metadata": {},
     "outputs": [
      {
       "metadata": {},
       "output_type": "pyout",
       "prompt_number": 7,
       "text": [
        "[100, 250, 500]"
       ]
      }
     ],
     "prompt_number": 7
    },
    {
     "cell_type": "markdown",
     "metadata": {},
     "source": [
      "Si queremos que la lista se muestre con otro formato no tenemos m\u00e1s remedio que imprimir nosotros cada elemento en lugar de usar `print`.  Usar `join` es una de las posibilidades, pero para entenderlo vamos a tener que explicar alguna otra cosilla.\n",
      "\n",
      "Todos los objetos de Python tienen funciones asociadas que operan con esos objetos.  Son funciones que no tienen sentido sin un objeto de un tipo concreto.  Por ejemplo, los objetos de tipo *cadena de texto* tienen una funci\u00f3n asociada `lower` que convierte la cadena a min\u00fasculas (*lowercase* en ingl\u00e9s)."
     ]
    },
    {
     "cell_type": "code",
     "collapsed": false,
     "input": [
      "s = 'Hola, Mundo'\n",
      "s.lower()"
     ],
     "language": "python",
     "metadata": {},
     "outputs": [
      {
       "metadata": {},
       "output_type": "pyout",
       "prompt_number": 23,
       "text": [
        "'hola, mundo'"
       ]
      }
     ],
     "prompt_number": 23
    },
    {
     "cell_type": "markdown",
     "metadata": {},
     "source": [
      "Como puedes ver para llamar a esas funciones especiales (se llaman **m\u00e9todos**) se usa el objeto sobre el que se aplicar\u00e1, seguido de un punto, y seguido de la llamada a la funci\u00f3n.\n",
      "\n",
      "Uno de los m\u00e9todos disponibles en las cadenas de texto es el m\u00e9todo `join`. Este m\u00e9todo acepta una lista de cadenas de texto que concatenar\u00e1 en una \u00fanica cadena de texto usando la cadena sobre la que se invoca `join` como separador."
     ]
    },
    {
     "cell_type": "code",
     "collapsed": false,
     "input": [
      "', '.join(['Pepe', 'Paco', 'Juan'])"
     ],
     "language": "python",
     "metadata": {},
     "outputs": [
      {
       "metadata": {},
       "output_type": "pyout",
       "prompt_number": 24,
       "text": [
        "'Pepe, Paco, Juan'"
       ]
      }
     ],
     "prompt_number": 24
    },
    {
     "cell_type": "markdown",
     "metadata": {},
     "source": [
      "El m\u00e9todo `join` hace algo claramente parecido a lo que queremos hacer pero no del todo.  Si intentamos pasar a `join` una lista de n\u00fameros la cosa no funciona."
     ]
    },
    {
     "cell_type": "code",
     "collapsed": false,
     "input": [
      "' '.join([1, 2, 3])"
     ],
     "language": "python",
     "metadata": {},
     "outputs": [
      {
       "ename": "TypeError",
       "evalue": "sequence item 0: expected string, int found",
       "output_type": "pyerr",
       "traceback": [
        "\u001b[0;31m---------------------------------------------------------------------------\u001b[0m\n\u001b[0;31mTypeError\u001b[0m                                 Traceback (most recent call last)",
        "\u001b[0;32m<ipython-input-25-a6f03119863b>\u001b[0m in \u001b[0;36m<module>\u001b[0;34m()\u001b[0m\n\u001b[0;32m----> 1\u001b[0;31m \u001b[0;34m' '\u001b[0m\u001b[0;34m.\u001b[0m\u001b[0mjoin\u001b[0m\u001b[0;34m(\u001b[0m\u001b[0;34m[\u001b[0m\u001b[0;36m1\u001b[0m\u001b[0;34m,\u001b[0m \u001b[0;36m2\u001b[0m\u001b[0;34m,\u001b[0m \u001b[0;36m3\u001b[0m\u001b[0;34m]\u001b[0m\u001b[0;34m)\u001b[0m\u001b[0;34m\u001b[0m\u001b[0m\n\u001b[0m",
        "\u001b[0;31mTypeError\u001b[0m: sequence item 0: expected string, int found"
       ]
      }
     ],
     "prompt_number": 25
    },
    {
     "cell_type": "markdown",
     "metadata": {},
     "source": [
      "Por tanto tenemos que transformar esa lista de enteros en una lista de cadenas de texto que representan esos numeros.  Eso se puede hacer llamando a la funci\u00f3n `str` con cada n\u00famero."
     ]
    },
    {
     "cell_type": "code",
     "collapsed": false,
     "input": [
      "str(25) + str(10)"
     ],
     "language": "python",
     "metadata": {},
     "outputs": [
      {
       "metadata": {},
       "output_type": "pyout",
       "prompt_number": 9,
       "text": [
        "'2510'"
       ]
      }
     ],
     "prompt_number": 9
    },
    {
     "cell_type": "code",
     "collapsed": false,
     "input": [
      "' '.join([str(x), str(y), str(z)])"
     ],
     "language": "python",
     "metadata": {},
     "outputs": []
    },
    {
     "cell_type": "markdown",
     "metadata": {},
     "source": [
      "Pero no son en ese orden, sino en el que resulte de la lista ordenada. Hay muchas formas de hacerlo pero nosotros todav\u00eda no hemos visto bucles, as\u00ed que os propon\u00eda usar la funci\u00f3n `map`, que aplica una funci\u00f3n a todos los elementos de una lista.  Por ejemplo:"
     ]
    },
    {
     "cell_type": "code",
     "collapsed": false,
     "input": [
      "def cuadrado(x):\n",
      "    return x*x\n",
      "\n",
      "print map(cuadrado, [1, 2, 3, 4, 5])"
     ],
     "language": "python",
     "metadata": {},
     "outputs": [
      {
       "output_type": "stream",
       "stream": "stdout",
       "text": [
        "[1, 4, 9, 16, 25]\n"
       ]
      }
     ],
     "prompt_number": 1
    },
    {
     "cell_type": "markdown",
     "metadata": {},
     "source": [
      "En nuestro caso la funci\u00f3n a aplicar es la funci\u00f3n `str` para convertir cada elemento de la lista a una cadena de texto."
     ]
    },
    {
     "cell_type": "code",
     "collapsed": false,
     "input": [
      "' '.join(map(str, sorted([x, y, z])))"
     ],
     "language": "python",
     "metadata": {},
     "outputs": []
    },
    {
     "cell_type": "markdown",
     "metadata": {},
     "source": [
      "Hemos visto suficiente de ejecuci\u00f3n condicional como para hacer con facilidad todos los ejercicios del curso, pero no quiero cerrar la secci\u00f3n sin mostrar otras posibilidades que ofrece Python de ejecuci\u00f3n condicional.  El operador ternario `if`/`else` permite evaluar expresiones de forma condicional.  En el siguiente ejemplo el valor de `y` depende del valor de `x`. Si `x` es par `y` toma el valor `x/2`, en caso contrario `y` toma el valor `x`."
     ]
    },
    {
     "cell_type": "code",
     "collapsed": false,
     "input": [
      "x = 124\n",
      "y = x/2 if es_par(x) else x\n",
      "print y"
     ],
     "language": "python",
     "metadata": {},
     "outputs": []
    },
    {
     "cell_type": "markdown",
     "metadata": {},
     "source": [
      "El operador `if`/`else` es distinto a la sentencia `if`/`else` aunque usan las mismas palabras reservadas. En este caso no usamos los dos puntos para marcar inicios de bloque de sentencias.\n",
      "\n",
      "## Iteraci\u00f3n\n",
      "\n",
      "Los bucles son construcciones que permiten volver atr\u00e1s en la secuencia de sentencias. Cada ejecuci\u00f3n del grupo de sentencias que compone el cuerpo del bucle se le llama **iteraci\u00f3n**. \n",
      "\n",
      "El m\u00e1s general es el bucle `while` que repite un bloque de sentencias mientras se verifique una condici\u00f3n booleana y que ya conocemos de ejemplos anteriores. Volvamos a un ejemplo conocido.\n",
      "\n",
      "* Encontrar la raiz c\u00fabica de un n\u00famero natural `n`"
     ]
    },
    {
     "cell_type": "code",
     "collapsed": false,
     "input": [
      "def raiz_cubica(n):\n",
      "    i = 1\n",
      "    while i**3 < n:\n",
      "        i = i + 1\n",
      "\n",
      "    if i**3 == n:\n",
      "        return i"
     ],
     "language": "python",
     "metadata": {},
     "outputs": [],
     "prompt_number": 13
    },
    {
     "cell_type": "markdown",
     "metadata": {},
     "source": [
      "Es un ejemplo de enumeraci\u00f3n exhaustiva. Pasamos por todas las posibilidades comprobando si alguna de ellas es la respuesta correcta. \u00bfY qu\u00e9 pasa si el n\u00famero `n` no tiene una raiz c\u00fabica perfecta? Nuestro algoritmo no sabe de n\u00fameros reales.\n",
      "\n",
      "No hay una respuesta universal para esta pregunta, pero aqu\u00ed te proponemos una posibilidad, no devolver nada. Otra posibilidad es devolver `False` y otra es utilizar un mecanismo de control de errores denominado *excepci\u00f3n*.\n",
      "\n",
      "Con nuestra propuesta la funci\u00f3n puede utilizarse con seguridad as\u00ed:"
     ]
    },
    {
     "cell_type": "code",
     "collapsed": false,
     "input": [
      "x = 9\n",
      "if None == raiz_cubica(x):\n",
      "    print x, 'no tiene raiz c\u00fabica perfecta'\n",
      "else:\n",
      "    print raiz_cubica(x)"
     ],
     "language": "python",
     "metadata": {},
     "outputs": [
      {
       "output_type": "stream",
       "stream": "stdout",
       "text": [
        "9 no tiene raiz c\u00fabica perfecta\n"
       ]
      }
     ],
     "prompt_number": 12
    },
    {
     "cell_type": "markdown",
     "metadata": {},
     "source": [
      "A lo mejor este ejemplo es muy sencillo y t\u00fa mismo ves que el algoritmo es f\u00e1cil de entender, pero las cosas en la vida real no suelen ser tan f\u00e1ciles.  En general nos vamos a enfrentar al problema de saber si lo que hemos escrito est\u00e1 bien o no hemos entendido todos los casos posibles. \u00bfC\u00f3mo sabemos que el bucle que hemos escrito termina alguna vez? \u00bfC\u00f3mo sabemos que no se queda indefinidamente en \u00e9l?\n",
      "\n",
      "La respuesta es que debemos buscar una **funci\u00f3n de decremento**. No hay que escribirla en el programa y en muchos casos ni siquiera hay que escribirla en papel, pero tiene que existir.  Una *funci\u00f3n de decremento* tiene que cumplir cuatro caracter\u00edsticas b\u00e1sicas:\n",
      "\n",
      "* Se trata de una funci\u00f3n que hace corresponder n\u00fameros enteros a valores de las variables del programa $f:V \\rightarrow \\mathbb{Z}$.\n",
      "* Cuando el programa entra en el bucle tiene que tomar un valor no negativo.\n",
      "* Cuando la funci\u00f3n de decremento toma un valor <= 0 el programa debe salir del bucle.\n",
      "* En cada iteraci\u00f3n del bucle la funci\u00f3n toma un valor menor que en la anterior iteraci\u00f3n (de ah\u00ed el nombre de *funci\u00f3n de decremento*).\n",
      "\n",
      "Por ejemplo, en el caso anterior la funci\u00f3n de decremento es $f(i,n) = n - i^3$.  Al entrar en el bucle con `n = 27` toma el valor 26. En cada iteraci\u00f3n se incrementa `i`, por lo que se decrementa la funci\u00f3n (toma los valores 26, 19, 0).  La condici\u00f3n de permanencis en el bucle es precisamente la que impone la *funci\u00f3n de decremento*, $f(i,n) > 0$, es decir, $n < i^3$.\n",
      "\n",
      "Otra forma de iteraci\u00f3n soportada por Python es el bucle `for`. En este caso una variable toma una secuencia de valores que se indica."
     ]
    },
    {
     "cell_type": "code",
     "collapsed": false,
     "input": [
      "for i in [1, 2, 3, 4]:\n",
      "    print i"
     ],
     "language": "python",
     "metadata": {},
     "outputs": [
      {
       "output_type": "stream",
       "stream": "stdout",
       "text": [
        "1\n",
        "2\n",
        "3\n",
        "4\n"
       ]
      }
     ],
     "prompt_number": 32
    },
    {
     "cell_type": "markdown",
     "metadata": {},
     "source": [
      "Para crear secuencias de valores es muy conveniente el uso de la funci\u00f3n `range`."
     ]
    },
    {
     "cell_type": "code",
     "collapsed": false,
     "input": [
      "range(10)"
     ],
     "language": "python",
     "metadata": {},
     "outputs": [
      {
       "metadata": {},
       "output_type": "pyout",
       "prompt_number": 33,
       "text": [
        "[0, 1, 2, 3, 4, 5, 6, 7, 8, 9]"
       ]
      }
     ],
     "prompt_number": 33
    },
    {
     "cell_type": "code",
     "collapsed": false,
     "input": [
      "range(5,10)"
     ],
     "language": "python",
     "metadata": {},
     "outputs": [
      {
       "metadata": {},
       "output_type": "pyout",
       "prompt_number": 34,
       "text": [
        "[5, 6, 7, 8, 9]"
       ]
      }
     ],
     "prompt_number": 34
    },
    {
     "cell_type": "code",
     "collapsed": false,
     "input": [
      "range(1, 20, 2)"
     ],
     "language": "python",
     "metadata": {},
     "outputs": [
      {
       "metadata": {},
       "output_type": "pyout",
       "prompt_number": 35,
       "text": [
        "[1, 3, 5, 7, 9, 11, 13, 15, 17, 19]"
       ]
      }
     ],
     "prompt_number": 35
    },
    {
     "cell_type": "markdown",
     "metadata": {},
     "source": [
      "Ambos tipos de bucle pueden utilizarse en la mayor\u00eda de las situaciones. Es quiz\u00e1s m\u00e1s sencillo buscar la *funci\u00f3n de decremento* en el caso del `while` pero tambi\u00e9n suele ser algo m\u00e1s largo.  Cu\u00e1l usar es cuesti\u00f3n de gustos o conveniencia. Para recorrer elementos en una secuencia el `for` seguramente ser\u00e1 m\u00e1s apropiado, mientras que para hacer un n\u00famero de iteraciones que depende de los valores calculados el `while` es m\u00e1s natural.\n",
      "\n",
      "Veamos el ejemplo de la raiz c\u00fabica con `for`."
     ]
    },
    {
     "cell_type": "code",
     "collapsed": false,
     "input": [
      "def raiz_cubica(n):\n",
      "    for i in range(n + 1):\n",
      "        if i**3 >= n: break\n",
      "\n",
      "    if i**3 == n:\n",
      "        return i"
     ],
     "language": "python",
     "metadata": {},
     "outputs": [],
     "prompt_number": 36
    },
    {
     "cell_type": "markdown",
     "metadata": {},
     "source": [
      "Las cadenas de texto tambi\u00e9n pueden ser recorridas car\u00e1cter a car\u00e1cter con un bucle for."
     ]
    },
    {
     "cell_type": "code",
     "collapsed": false,
     "input": [
      "for i in 'Hola':\n",
      "    print i"
     ],
     "language": "python",
     "metadata": {},
     "outputs": [
      {
       "output_type": "stream",
       "stream": "stdout",
       "text": [
        "H\n",
        "o\n",
        "l\n",
        "a\n"
       ]
      }
     ],
     "prompt_number": 37
    },
    {
     "cell_type": "markdown",
     "metadata": {},
     "source": [
      "El bucle `for` tiene otra forma interesante, con ayuda de la funci\u00f3n `enumerate`, en la que adem\u00e1s de recorrer los elementos de la secuencia tambi\u00e9n recorre las posiciones de esos elementos."
     ]
    },
    {
     "cell_type": "code",
     "collapsed": false,
     "input": [
      "for posicion, nombre in enumerate(['Pedro', 'Paco', 'Luis', 'Pocoyo', 'Marshall']):\n",
      "    print posicion, ':', nombre"
     ],
     "language": "python",
     "metadata": {},
     "outputs": [
      {
       "output_type": "stream",
       "stream": "stdout",
       "text": [
        "0 : Pedro\n",
        "1 : Paco\n",
        "2 : Luis\n",
        "3 : Pocoyo\n",
        "4 : Marshall\n"
       ]
      }
     ],
     "prompt_number": 2
    },
    {
     "cell_type": "code",
     "collapsed": false,
     "input": [],
     "language": "python",
     "metadata": {},
     "outputs": []
    }
   ],
   "metadata": {}
  }
 ]
}