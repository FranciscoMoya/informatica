{
 "metadata": {
  "name": "",
  "signature": "sha256:1e1539dcad5f047a0cc691344ba21fea6331b0f04859bed1752d9bcc5d3ed985"
 },
 "nbformat": 3,
 "nbformat_minor": 0,
 "worksheets": [
  {
   "cells": [
    {
     "cell_type": "markdown",
     "metadata": {},
     "source": [
      "# Navegaci\u00f3n web con Python\n",
      "\n",
      "El trabajo en grupo propuesto es solo una de las muchas situaciones en tu vida en las que los datos a procesar deben extraerse de p\u00e1ginas web o documentos colgados en un sitio web.\n",
      "\n",
      "## Conceptos previos\n",
      "\n",
      "La *World Wide Web* es el servicio de navegaci\u00f3n hipertexto m\u00e1s utilizado del Mundo.  Lo que conocemos como p\u00e1ginas y servidores web, que nuestros mayores suelen identificar con Internet no es m\u00e1s que un servicio operado por millones de ordenadores en el Mundo.\n",
      "\n",
      "* Se trata de un servicio con arquitectura cliente-servidor.  Los servidores alojan informaci\u00f3n en forma de p\u00e1ginas hipertexto (con enlaces) o documentos (im\u00e1genes, v\u00eddeos, archivos PDF, etc.) y los navegadores act\u00faan como clientes de esos servidores para consultar la informaci\u00f3n.\n",
      "\n",
      "* Se trata de un servicio distribuido. No existe un \u00fanico servidor de p\u00e1ginas. Una p\u00e1gina de un servidor puede contener enlaces a multitud de otras p\u00e1ginas alojadas en otros servidores.\n",
      "\n",
      "* Cada p\u00e1gina o documento disponible en este servicio se puede acceder a trav\u00e9s de una direcci\u00f3n global conocida como URL (*Universal Resource Locator*) que no es m\u00e1s que la direcci\u00f3n que aparece en la parte superior del navegador.\n",
      "\n",
      "* Este servicio utiliza normalmente un protocolo sencillo denominado HTTP (*Hiper Text Transport Protocol*) que se utiliza de forma transparente por los navegadores. Por eso las URL suelen comenzar por `http://` o `https://`.  Este protocolo tiene apenas un pu\u00f1ado de mensajes diferentes que generan los navegadores sin que sea necesaria la intervenci\u00f3n expl\u00edcita del usuario.\n",
      "\n",
      "* Cuando un navegador obtiene una p\u00e1gina web de un servidor emplea un mensaje HTTP denominado *m\u00e9todo GET*.  Dada una URL, que funciona como una especie de direcci\u00f3n global, permite obtener el documento al que referencia. Cuando un navegador env\u00eda datos de un formulario a un servidor suele emplear otro mensaje de HTTP denominado *m\u00e9todo POST*.  Este m\u00e9todo permite enviar informaci\u00f3n arbitraria al servidor.  El protocolo HTTP tiene otros m\u00e9todos menos utilizados en la navegaci\u00f3n normal pero muy utilizado en los *servicios web* como son PUT, DELETE o PATCH. A\u00fan hay alg\u00fan otro m\u00e9todo m\u00e1s, pero su uso directo es mucho m\u00e1s raro.\n",
      "\n",
      "Para el trabajo en grupo se requiere descargar documentos XML que tienen una URL conocida.  Por tanto se utilizar\u00eda el m\u00e9todo GET sin m\u00e1s.  Sin embargo en vuestra vida profesional es muy posible que os enfrent\u00e9is a servicios web m\u00e1s elaborados que requieren del uso de los dem\u00e1s m\u00e9todos.  Vamos a empezar por lo m\u00e1s sencillo.\n",
      "\n",
      "\n",
      "## Navegaci\u00f3n con `urllib`\n",
      "\n",
      "La biblioteca Python est\u00e1ndar incluye funciones suficientes para obtener la informaci\u00f3n de cualquier URL.  La biblioteca `urllib` contiene la funci\u00f3n `urlopen` que abre una URL como si se tratara de un archivo local.  Lo que devuelve es un objeto que se comporta igual que un archivo abierto en modo de lectura."
     ]
    },
    {
     "cell_type": "code",
     "collapsed": false,
     "input": [
      "import urllib\n",
      "f = urllib.urlopen('http://www.aemet.es/xml/municipios/localidad_28013.xml')\n",
      "\n",
      "# Imprime las 10 primeras l\u00edneas\n",
      "for i in range(10):\n",
      "    print f.readline(),"
     ],
     "language": "python",
     "metadata": {},
     "outputs": [
      {
       "output_type": "stream",
       "stream": "stdout",
       "text": [
        "<?xml version=\"1.0\" encoding=\"ISO-8859-15\" ?>\n",
        "<root id=\"28013\" version=\"1.0\" xmlns:xsd=\"http://www.w3.org/2001/XMLSchema\" xmlns:xsi=\"http://www.w3.org/2001/XMLSchema-instance\" xsi:noNamespaceSchemaLocation=\"http://www.aemet.es/xsd/localidades.xsd\">\n",
        "\t<origen>\n",
        "\t\t<productor>Agencia Estatal de Meteorolog\ufffda - AEMET. Gobierno de Espa\ufffda</productor>\n",
        "\t\t<web>http://www.aemet.es</web>\n",
        "\t\t<enlace>http://www.aemet.es/es/eltiempo/prediccion/municipios/aranjuez-id28013</enlace>\n",
        "\t\t<language>es</language>\n",
        "\t\t<copyright>&#169; AEMET. Autorizado el uso de la informaci\ufffdn y su reproducci\ufffdn citando a AEMET como autora de la misma.</copyright>\n",
        "\t\t<nota_legal>http://www.aemet.es/es/nota_legal</nota_legal>\n",
        "\t</origen>\n"
       ]
      }
     ],
     "prompt_number": 16
    },
    {
     "cell_type": "markdown",
     "metadata": {},
     "source": [
      "El problema es que `urllib` no se queja en absoluto si el documento no corresponde a un recurso v\u00e1lido.  Para poder saber si se trata de una URL v\u00e1lida o inv\u00e1lida tenemos que usar el m\u00e9todo `getcode` del objeto devuelto.  Ese m\u00e9todo devuelve un entero especificado en el propio protocolo HTTP.  Un valor 200 significa que el acceso ha tenido \u00e9xito y cualquier otro valor implica alg\u00fan tipo de anomal\u00eda. Si te interesa profundizar puedes consultar [todos los c\u00f3digos aqu\u00ed](http://www.w3.org/Protocols/HTTP/HTRESP.html)."
     ]
    },
    {
     "cell_type": "code",
     "collapsed": false,
     "input": [
      "import urllib\n",
      "\n",
      "f = urllib.urlopen('http://www.aemet.es/xml/municipios/localidad_28013.xml')\n",
      "print f.getcode()\n",
      "\n",
      "f = urllib.urlopen('http://www.aemet.es/xml/municipios/localidad_99999.xml')\n",
      "print f.getcode()"
     ],
     "language": "python",
     "metadata": {},
     "outputs": [
      {
       "output_type": "stream",
       "stream": "stdout",
       "text": [
        "200\n",
        "404"
       ]
      },
      {
       "output_type": "stream",
       "stream": "stdout",
       "text": [
        "\n"
       ]
      }
     ],
     "prompt_number": 17
    },
    {
     "cell_type": "markdown",
     "metadata": {},
     "source": [
      "Con esto deber\u00eda ser suficiente para poder realizar el trabajo en grupo.  De todas formas vamos a comentar brevemente alguna otra biblioteca m\u00e1s flexible.\n",
      "\n",
      "## Navegaci\u00f3n con `requests`\n",
      "\n",
      "Python 2 solo incluye `urllib` y `httplib` en la biblioteca est\u00e1ndar para tratar con contenidos web.  Ambas bibliotecas son francamente inc\u00f3modas para realizar aplicaciones modernas basadas en la *World Wide Web*.  Por eso han surgido multitud de alternativas que facilitan el trabajo.  Una de las m\u00e1s populares es [`requests`](http://requests.readthedocs.org/en/latest/), una biblioteca que se incluye en la mayor\u00eda de las distribuciones de Python.\n",
      "\n",
      "El funcionamiento para la descarga de documentos es bastante similar, salvo que usamos explicitamente el m\u00e9todo `get` y el resultado no es un archivo, sino un objeto con m\u00e9todos y atributos espec\u00edficos."
     ]
    },
    {
     "cell_type": "code",
     "collapsed": false,
     "input": [
      "import requests\n",
      "\n",
      "r = requests.get('http://www.aemet.es/xml/municipios/localidad_28013.xml')\n",
      "# Si r.status_code in range(200,300) entonces r.text es el documento\n",
      "doc = r.text\n",
      "print r.status_code\n",
      "# Imprimir las 5 primeras l\u00edneas\n",
      "print '\\n'.join(doc.split('\\n')[:5])"
     ],
     "language": "python",
     "metadata": {},
     "outputs": [
      {
       "output_type": "stream",
       "stream": "stdout",
       "text": [
        "200\n",
        "<?xml version=\"1.0\" encoding=\"ISO-8859-15\" ?>\n",
        "<root id=\"28013\" version=\"1.0\" xmlns:xsd=\"http://www.w3.org/2001/XMLSchema\" xmlns:xsi=\"http://www.w3.org/2001/XMLSchema-instance\" xsi:noNamespaceSchemaLocation=\"http://www.aemet.es/xsd/localidades.xsd\">\n",
        "\t<origen>\n",
        "\t\t<productor>Agencia Estatal de Meteorolog\u00eda - AEMET. Gobierno de Espa\u0144a</productor>\n",
        "\t\t<web>http://www.aemet.es</web>\n"
       ]
      }
     ],
     "prompt_number": 3
    },
    {
     "cell_type": "markdown",
     "metadata": {},
     "source": [
      "Una caracter\u00edstica interesante es que podemos elevar una excepci\u00f3n `HTTPError` autom\u00e1ticamente si el c\u00f3digo de estado no es 2xx.  Esto simplifica notablemente el tratamiento de errores."
     ]
    },
    {
     "cell_type": "code",
     "collapsed": false,
     "input": [
      "r = requests.get('http://www.aemet.es/xml/municipios/localidad_99999.xml')\n",
      "r.raise_for_status()"
     ],
     "language": "python",
     "metadata": {},
     "outputs": [
      {
       "ename": "HTTPError",
       "evalue": "404 Client Error: Not Found for url: http://www.aemet.es/xml/municipios/localidad_99999.xml",
       "output_type": "pyerr",
       "traceback": [
        "\u001b[0;31m---------------------------------------------------------------------------\u001b[0m\n\u001b[0;31mHTTPError\u001b[0m                                 Traceback (most recent call last)",
        "\u001b[0;32m<ipython-input-2-676cd40ee8e5>\u001b[0m in \u001b[0;36m<module>\u001b[0;34m()\u001b[0m\n\u001b[1;32m      1\u001b[0m \u001b[0mr\u001b[0m \u001b[0;34m=\u001b[0m \u001b[0mrequests\u001b[0m\u001b[0;34m.\u001b[0m\u001b[0mget\u001b[0m\u001b[0;34m(\u001b[0m\u001b[0;34m'http://www.aemet.es/xml/municipios/localidad_99999.xml'\u001b[0m\u001b[0;34m)\u001b[0m\u001b[0;34m\u001b[0m\u001b[0m\n\u001b[0;32m----> 2\u001b[0;31m \u001b[0mr\u001b[0m\u001b[0;34m.\u001b[0m\u001b[0mraise_for_status\u001b[0m\u001b[0;34m(\u001b[0m\u001b[0;34m)\u001b[0m\u001b[0;34m\u001b[0m\u001b[0m\n\u001b[0m",
        "\u001b[0;32m/usr/lib/python2.7/dist-packages/requests/models.pyc\u001b[0m in \u001b[0;36mraise_for_status\u001b[0;34m(self)\u001b[0m\n\u001b[1;32m    835\u001b[0m \u001b[0;34m\u001b[0m\u001b[0m\n\u001b[1;32m    836\u001b[0m         \u001b[0;32mif\u001b[0m \u001b[0mhttp_error_msg\u001b[0m\u001b[0;34m:\u001b[0m\u001b[0;34m\u001b[0m\u001b[0m\n\u001b[0;32m--> 837\u001b[0;31m             \u001b[0;32mraise\u001b[0m \u001b[0mHTTPError\u001b[0m\u001b[0;34m(\u001b[0m\u001b[0mhttp_error_msg\u001b[0m\u001b[0;34m,\u001b[0m \u001b[0mresponse\u001b[0m\u001b[0;34m=\u001b[0m\u001b[0mself\u001b[0m\u001b[0;34m)\u001b[0m\u001b[0;34m\u001b[0m\u001b[0m\n\u001b[0m\u001b[1;32m    838\u001b[0m \u001b[0;34m\u001b[0m\u001b[0m\n\u001b[1;32m    839\u001b[0m     \u001b[0;32mdef\u001b[0m \u001b[0mclose\u001b[0m\u001b[0;34m(\u001b[0m\u001b[0mself\u001b[0m\u001b[0;34m)\u001b[0m\u001b[0;34m:\u001b[0m\u001b[0;34m\u001b[0m\u001b[0m\n",
        "\u001b[0;31mHTTPError\u001b[0m: 404 Client Error: Not Found for url: http://www.aemet.es/xml/municipios/localidad_99999.xml"
       ]
      }
     ],
     "prompt_number": 2
    },
    {
     "cell_type": "markdown",
     "metadata": {},
     "source": []
    }
   ],
   "metadata": {}
  }
 ]
}