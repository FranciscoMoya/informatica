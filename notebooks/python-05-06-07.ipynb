{
 "cells": [
  {
   "cell_type": "markdown",
   "metadata": {},
   "source": [
    "# Abstracción con funciones\n",
    "\n",
    "## Recursión\n",
    "\n",
    "*Ejercicio: Implementar el factorial de forma iterativa y recursiva*"
   ]
  },
  {
   "cell_type": "code",
   "execution_count": 16,
   "metadata": {
    "collapsed": false
   },
   "outputs": [],
   "source": [
    "def fact(n):\n",
    "    if (n < 2):\n",
    "        return 1\n",
    "    return n*fact(n-1)"
   ]
  },
  {
   "cell_type": "code",
   "execution_count": 17,
   "metadata": {
    "collapsed": false
   },
   "outputs": [],
   "source": [
    "def fact_iter(n):\n",
    "    res = 1\n",
    "    for i in range(n,1,-1):\n",
    "        res *= i\n",
    "    return res"
   ]
  },
  {
   "cell_type": "code",
   "execution_count": 18,
   "metadata": {
    "collapsed": false
   },
   "outputs": [],
   "source": [
    "assert(fact(10) == fact_iter(10))"
   ]
  },
  {
   "cell_type": "markdown",
   "metadata": {},
   "source": [
    "*Ejercicio: implementar una función para saber si un texto es palíndromo.*"
   ]
  },
  {
   "cell_type": "code",
   "execution_count": 1,
   "metadata": {
    "collapsed": false
   },
   "outputs": [],
   "source": [
    "def es_palindromo(texto):\n",
    "    return es_simetrico(extraer_letras(texto))\n",
    "\n",
    "def extraer_letras(texto):\n",
    "    letras = ''\n",
    "    for c in texto.lower():\n",
    "        if c.isalpha():\n",
    "            letras += c\n",
    "    return letras\n",
    "\n",
    "def es_simetrico(s):\n",
    "    if len(s) < 2:\n",
    "        return True\n",
    "    return s[0] == s[-1] and es_simetrico(s[1:-1])"
   ]
  },
  {
   "cell_type": "code",
   "execution_count": 2,
   "metadata": {
    "collapsed": false
   },
   "outputs": [
    {
     "name": "stdout",
     "output_type": "stream",
     "text": [
      "True\n"
     ]
    }
   ],
   "source": [
    "print(es_palindromo('Dabale arroz a la zorra el abad.'))"
   ]
  },
  {
   "cell_type": "markdown",
   "metadata": {},
   "source": [
    "## Recursión\n",
    "\n",
    "*Ejercicio: Implementar de forma recursiva un programa que dibuje la curva de Koch*\n",
    "\n",
    "Este tipo de dibujos se puede hacer facilmente con el módulo `turtle` de la biblioteca estándar.  Nosotros vamos a usar una versión de `turtle` que funciona en los cuadernos.  Se llama `mobilechelonian` pero funciona igual que `turtle`."
   ]
  },
  {
   "cell_type": "code",
   "execution_count": 1,
   "metadata": {
    "collapsed": true
   },
   "outputs": [],
   "source": [
    "def koch(t, N, n=None):\n",
    "    if n == None:\n",
    "        n = N\n",
    "    if n == 0:\n",
    "        t.forward(400/3**N)\n",
    "        return\n",
    "    for angulo in (-60, 120, -60, 0):\n",
    "        koch(t, N, n-1)\n",
    "        if angulo < 0:\n",
    "            t.left(-angulo)\n",
    "        else:\n",
    "            t.right(angulo)"
   ]
  },
  {
   "cell_type": "code",
   "execution_count": 3,
   "metadata": {
    "collapsed": false
   },
   "outputs": [],
   "source": [
    "from mobilechelonian import Turtle\n",
    "\n",
    "t = Turtle()\n",
    "t.speed(10)\n",
    "t.penup()\n",
    "t.goto(-200,0)\n",
    "t.pendown()\n",
    "t.pensize(3)\n",
    "koch(t, 4)\n",
    "t.penup()\n",
    "t.home()"
   ]
  },
  {
   "cell_type": "code",
   "execution_count": null,
   "metadata": {
    "collapsed": true
   },
   "outputs": [],
   "source": []
  }
 ],
 "metadata": {
  "kernelspec": {
   "display_name": "Python 3",
   "language": "python",
   "name": "python3"
  },
  "language_info": {
   "codemirror_mode": {
    "name": "ipython",
    "version": 3
   },
   "file_extension": ".py",
   "mimetype": "text/x-python",
   "name": "python",
   "nbconvert_exporter": "python",
   "pygments_lexer": "ipython3",
   "version": "3.5.2"
  },
  "widgets": {
   "state": {
    "5765b57d5fc543349d015c33c972c5ab": {
     "views": [
      {
       "cell_index": 9
      }
     ]
    }
   },
   "version": "1.2.0"
  }
 },
 "nbformat": 4,
 "nbformat_minor": 0
}
