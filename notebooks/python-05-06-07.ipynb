{
 "metadata": {
  "name": "",
  "signature": "sha256:b39b0fb93c4c6f7170bd9191271dd4737dde7b0a1b577eafc5b81015902241ad"
 },
 "nbformat": 3,
 "nbformat_minor": 0,
 "worksheets": [
  {
   "cells": [
    {
     "cell_type": "markdown",
     "metadata": {},
     "source": [
      "# Abstracci\u00f3n con funciones\n",
      "\n",
      "## Recursi\u00f3n\n",
      "\n",
      "*Ejercicio: Implementar el factorial de forma iterativa y recursiva*"
     ]
    },
    {
     "cell_type": "code",
     "collapsed": false,
     "input": [
      "def fact(n):\n",
      "    if (n < 2):\n",
      "        return 1\n",
      "    return n*fact(n-1)"
     ],
     "language": "python",
     "metadata": {},
     "outputs": [],
     "prompt_number": 1
    },
    {
     "cell_type": "code",
     "collapsed": false,
     "input": [
      "def fact_iter(n):\n",
      "    res = 1\n",
      "    for i in range(n,1,-1):\n",
      "        res *= i\n",
      "    return res"
     ],
     "language": "python",
     "metadata": {},
     "outputs": [],
     "prompt_number": 15
    },
    {
     "cell_type": "code",
     "collapsed": false,
     "input": [
      "assert(fact(10) == fact_iter(10))"
     ],
     "language": "python",
     "metadata": {},
     "outputs": [],
     "prompt_number": 16
    },
    {
     "cell_type": "markdown",
     "metadata": {},
     "source": [
      "*Ejercicio: implementar una funci\u00f3n para saber si un texto es pal\u00edntromo.*"
     ]
    },
    {
     "cell_type": "code",
     "collapsed": false,
     "input": [
      "def es_palindromo(texto):\n",
      "    return es_simetrico(extraer_letras(texto))\n",
      "\n",
      "def extraer_letras(texto):\n",
      "    letras = ''\n",
      "    for c in s.lower():\n",
      "        if es_letra(c):\n",
      "            letras += c\n",
      "    return letras\n",
      "\n",
      "def es_simetrico(s):\n",
      "    if len(s) < 2:\n",
      "        return True\n",
      "    return s[0] == s[-1] and es_simetrico(s[1:-1])\n",
      "\n",
      "def es_letra(c):\n",
      "    return c in u'abcdefghijklmn\u00f1opqrstuvwxyz'"
     ],
     "language": "python",
     "metadata": {},
     "outputs": [],
     "prompt_number": 14
    },
    {
     "cell_type": "code",
     "collapsed": false,
     "input": [
      "print es_palindromo('Dabale arroz a la zorra el abad')"
     ],
     "language": "python",
     "metadata": {},
     "outputs": [
      {
       "output_type": "stream",
       "stream": "stdout",
       "text": [
        "True\n"
       ]
      }
     ],
     "prompt_number": 13
    },
    {
     "cell_type": "markdown",
     "metadata": {},
     "source": [
      "Solo falta un detalle. Hasta ahora no hemos tenido en cuenta las letras acentuadas. Ni siquiera se consideran letras. Una posible forma de abordarlo es en el momento de extraer las letras. Como puede verse ya hacemos una operaci\u00f3n de normalizaci\u00f3n. Llamamos a la funci\u00f3n `lower` para obtener solo letras min\u00fasculas.  Lo correcto hubiera sido extraer la operaci\u00f3n de normalizaci\u00f3n como una funci\u00f3n independiente.  Vamos a hacerlo ahora."
     ]
    },
    {
     "cell_type": "code",
     "collapsed": false,
     "input": [
      "def extraer_letras(texto):\n",
      "    letras = ''\n",
      "    for c in normalizar_cadena(texto):\n",
      "        if es_letra(c):\n",
      "            letras += c\n",
      "    return letras\n",
      "\n",
      "from string import maketrans\n",
      "\n",
      "def normalizar_cadena(s):\n",
      "    table = dict((ch))\n",
      "    return s.lower().translate(maketrans(u'\u00e1\u00e9i\u00f3\u00fa', u'aeiou'))"
     ],
     "language": "python",
     "metadata": {},
     "outputs": [],
     "prompt_number": 27
    },
    {
     "cell_type": "code",
     "collapsed": false,
     "input": [
      "print es_palindromo(u'D\u00e1bale arroz a la zorra el abad')"
     ],
     "language": "python",
     "metadata": {},
     "outputs": [
      {
       "ename": "UnicodeEncodeError",
       "evalue": "'ascii' codec can't encode characters in position 0-1: ordinal not in range(128)",
       "output_type": "pyerr",
       "traceback": [
        "\u001b[0;31m---------------------------------------------------------------------------\u001b[0m\n\u001b[0;31mUnicodeEncodeError\u001b[0m                        Traceback (most recent call last)",
        "\u001b[0;32m<ipython-input-28-5e17e1d72e68>\u001b[0m in \u001b[0;36m<module>\u001b[0;34m()\u001b[0m\n\u001b[0;32m----> 1\u001b[0;31m \u001b[0;32mprint\u001b[0m \u001b[0mes_palindromo\u001b[0m\u001b[0;34m(\u001b[0m\u001b[0;34mu'D\u00e1bale arroz a la zorra el abad'\u001b[0m\u001b[0;34m)\u001b[0m\u001b[0;34m\u001b[0m\u001b[0m\n\u001b[0m",
        "\u001b[0;32m<ipython-input-14-f734698b493e>\u001b[0m in \u001b[0;36mes_palindromo\u001b[0;34m(texto)\u001b[0m\n\u001b[1;32m      1\u001b[0m \u001b[0;32mdef\u001b[0m \u001b[0mes_palindromo\u001b[0m\u001b[0;34m(\u001b[0m\u001b[0mtexto\u001b[0m\u001b[0;34m)\u001b[0m\u001b[0;34m:\u001b[0m\u001b[0;34m\u001b[0m\u001b[0m\n\u001b[0;32m----> 2\u001b[0;31m     \u001b[0;32mreturn\u001b[0m \u001b[0mes_simetrico\u001b[0m\u001b[0;34m(\u001b[0m\u001b[0mextraer_letras\u001b[0m\u001b[0;34m(\u001b[0m\u001b[0mtexto\u001b[0m\u001b[0;34m)\u001b[0m\u001b[0;34m)\u001b[0m\u001b[0;34m\u001b[0m\u001b[0m\n\u001b[0m\u001b[1;32m      3\u001b[0m \u001b[0;34m\u001b[0m\u001b[0m\n\u001b[1;32m      4\u001b[0m \u001b[0;32mdef\u001b[0m \u001b[0mextraer_letras\u001b[0m\u001b[0;34m(\u001b[0m\u001b[0mtexto\u001b[0m\u001b[0;34m)\u001b[0m\u001b[0;34m:\u001b[0m\u001b[0;34m\u001b[0m\u001b[0m\n\u001b[1;32m      5\u001b[0m     \u001b[0mletras\u001b[0m \u001b[0;34m=\u001b[0m \u001b[0;34m''\u001b[0m\u001b[0;34m\u001b[0m\u001b[0m\n",
        "\u001b[0;32m<ipython-input-27-739f25c8daf2>\u001b[0m in \u001b[0;36mextraer_letras\u001b[0;34m(texto)\u001b[0m\n\u001b[1;32m      1\u001b[0m \u001b[0;32mdef\u001b[0m \u001b[0mextraer_letras\u001b[0m\u001b[0;34m(\u001b[0m\u001b[0mtexto\u001b[0m\u001b[0;34m)\u001b[0m\u001b[0;34m:\u001b[0m\u001b[0;34m\u001b[0m\u001b[0m\n\u001b[1;32m      2\u001b[0m     \u001b[0mletras\u001b[0m \u001b[0;34m=\u001b[0m \u001b[0;34m''\u001b[0m\u001b[0;34m\u001b[0m\u001b[0m\n\u001b[0;32m----> 3\u001b[0;31m     \u001b[0;32mfor\u001b[0m \u001b[0mc\u001b[0m \u001b[0;32min\u001b[0m \u001b[0mnormalizar_cadena\u001b[0m\u001b[0;34m(\u001b[0m\u001b[0mtexto\u001b[0m\u001b[0;34m)\u001b[0m\u001b[0;34m:\u001b[0m\u001b[0;34m\u001b[0m\u001b[0m\n\u001b[0m\u001b[1;32m      4\u001b[0m         \u001b[0;32mif\u001b[0m \u001b[0mes_letra\u001b[0m\u001b[0;34m(\u001b[0m\u001b[0mc\u001b[0m\u001b[0;34m)\u001b[0m\u001b[0;34m:\u001b[0m\u001b[0;34m\u001b[0m\u001b[0m\n\u001b[1;32m      5\u001b[0m             \u001b[0mletras\u001b[0m \u001b[0;34m+=\u001b[0m \u001b[0mc\u001b[0m\u001b[0;34m\u001b[0m\u001b[0m\n",
        "\u001b[0;32m<ipython-input-27-739f25c8daf2>\u001b[0m in \u001b[0;36mnormalizar_cadena\u001b[0;34m(s)\u001b[0m\n\u001b[1;32m      9\u001b[0m \u001b[0;34m\u001b[0m\u001b[0m\n\u001b[1;32m     10\u001b[0m \u001b[0;32mdef\u001b[0m \u001b[0mnormalizar_cadena\u001b[0m\u001b[0;34m(\u001b[0m\u001b[0ms\u001b[0m\u001b[0;34m)\u001b[0m\u001b[0;34m:\u001b[0m\u001b[0;34m\u001b[0m\u001b[0m\n\u001b[0;32m---> 11\u001b[0;31m     \u001b[0;32mreturn\u001b[0m \u001b[0ms\u001b[0m\u001b[0;34m.\u001b[0m\u001b[0mlower\u001b[0m\u001b[0;34m(\u001b[0m\u001b[0;34m)\u001b[0m\u001b[0;34m.\u001b[0m\u001b[0mtranslate\u001b[0m\u001b[0;34m(\u001b[0m\u001b[0mmaketrans\u001b[0m\u001b[0;34m(\u001b[0m\u001b[0;34mu'\u00e1\u00e9i\u00f3\u00fa'\u001b[0m\u001b[0;34m,\u001b[0m \u001b[0;34mu'aeiou'\u001b[0m\u001b[0;34m)\u001b[0m\u001b[0;34m)\u001b[0m\u001b[0;34m\u001b[0m\u001b[0m\n\u001b[0m",
        "\u001b[0;31mUnicodeEncodeError\u001b[0m: 'ascii' codec can't encode characters in position 0-1: ordinal not in range(128)"
       ]
      }
     ],
     "prompt_number": 28
    },
    {
     "cell_type": "code",
     "collapsed": false,
     "input": [],
     "language": "python",
     "metadata": {},
     "outputs": []
    }
   ],
   "metadata": {}
  }
 ]
}