{
 "metadata": {
  "name": "",
  "signature": "sha256:531bc5585d99fcc862be400177bf97465c6026b248e6fe21d0e3c7dcd12a842e"
 },
 "nbformat": 3,
 "nbformat_minor": 0,
 "worksheets": [
  {
   "cells": [
    {
     "cell_type": "markdown",
     "metadata": {},
     "source": [
      "# Abstracci\u00f3n con funciones\n",
      "\n",
      "## Recursi\u00f3n\n",
      "\n",
      "*Ejercicio: Implementar el factorial de forma iterativa y recursiva*"
     ]
    },
    {
     "cell_type": "code",
     "collapsed": false,
     "input": [
      "def fact(n):\n",
      "    if (n < 2):\n",
      "        return 1\n",
      "    return n*fact(n-1)"
     ],
     "language": "python",
     "metadata": {},
     "outputs": [],
     "prompt_number": 1
    },
    {
     "cell_type": "code",
     "collapsed": false,
     "input": [
      "def fact_iter(n):\n",
      "    res = 1\n",
      "    for i in range(n,1,-1):\n",
      "        res *= i\n",
      "    return res"
     ],
     "language": "python",
     "metadata": {},
     "outputs": [],
     "prompt_number": 2
    },
    {
     "cell_type": "code",
     "collapsed": false,
     "input": [
      "assert(fact(10) == fact_iter(10))"
     ],
     "language": "python",
     "metadata": {},
     "outputs": [],
     "prompt_number": 3
    },
    {
     "cell_type": "markdown",
     "metadata": {},
     "source": [
      "*Ejercicio: implementar una funci\u00f3n para saber si un texto es pal\u00edntromo.*"
     ]
    },
    {
     "cell_type": "code",
     "collapsed": false,
     "input": [
      "def es_palindromo(texto):\n",
      "    return es_simetrico(extraer_letras(texto))\n",
      "\n",
      "def extraer_letras(texto):\n",
      "    letras = ''\n",
      "    for c in texto.lower():\n",
      "        if es_letra(c):\n",
      "            letras += c\n",
      "    return letras\n",
      "\n",
      "def es_simetrico(s):\n",
      "    if len(s) < 2:\n",
      "        return True\n",
      "    return s[0] == s[-1] and es_simetrico(s[1:-1])\n",
      "\n",
      "def es_letra(c):\n",
      "    return c in u'abcdefghijklmn\u00f1opqrstuvwxyz'"
     ],
     "language": "python",
     "metadata": {},
     "outputs": [],
     "prompt_number": 4
    },
    {
     "cell_type": "code",
     "collapsed": false,
     "input": [
      "print(es_palindromo('Dabale arroz a la zorra el abad.'))"
     ],
     "language": "python",
     "metadata": {},
     "outputs": [
      {
       "output_type": "stream",
       "stream": "stdout",
       "text": [
        "True\n"
       ]
      }
     ],
     "prompt_number": 18
    },
    {
     "cell_type": "markdown",
     "metadata": {},
     "source": [
      "Solo falta un detalle. Hasta ahora no hemos tenido en cuenta las letras acentuadas. Ni siquiera se consideran letras. Una posible forma de abordarlo es en el momento de extraer las letras."
     ]
    },
    {
     "cell_type": "code",
     "collapsed": false,
     "input": [
      "def extraer_letras(texto):\n",
      "    letras = u''\n",
      "    for c in texto.lower():\n",
      "        if c == u'\u00e1':\n",
      "            c = 'a'\n",
      "        elif c == u'\u00e9':\n",
      "            c = 'e'\n",
      "        elif c == u'\u00ed':\n",
      "            c = 'i'\n",
      "        elif c == u'\u00f3':\n",
      "            c = 'o'\n",
      "        elif c == u'\u00fa':\n",
      "            c = 'u'\n",
      "        if es_letra(c):\n",
      "            letras += c\n",
      "    return letras"
     ],
     "language": "python",
     "metadata": {},
     "outputs": [],
     "prompt_number": 6
    },
    {
     "cell_type": "code",
     "collapsed": false,
     "input": [
      "print(es_palindromo(u'D\u00e1bale arroz a la zorra el abad.'))"
     ],
     "language": "python",
     "metadata": {},
     "outputs": [
      {
       "output_type": "stream",
       "stream": "stdout",
       "text": [
        "True\n"
       ]
      }
     ],
     "prompt_number": 19
    },
    {
     "cell_type": "markdown",
     "metadata": {},
     "source": [
      "Muy repetitivo, \u00bfverdad? Puedes asegurar que un programador Python experimentado no hubiera hecho \u00e9sto. Pero todav\u00eda nos falta un poquito para saber hacerlo de forma flu\u00edda.  Voy a proponerte una posible soluci\u00f3n y a explicarla en detalle, pero no te preocupes si no la entiendes, ya llegaremos."
     ]
    },
    {
     "cell_type": "code",
     "collapsed": false,
     "input": [
      "def extraer_letras(texto):\n",
      "    trans_tab = dict(zip(map(ord, u'\u00e1\u00e9\u00ed\u00f3\u00fa\u00e0\u00e8\u00ec\u00f2\u00f9\u00fc'), map(ord, 'aeiouaeiouu')))\n",
      "    trans_tab.update({ord(c):None for c in '[]\"\\'\u00bf?\u00a1!(),;:.-_= \\t\\n\\r'})\n",
      "    return texto.lower().translate(trans_tab)"
     ],
     "language": "python",
     "metadata": {},
     "outputs": [],
     "prompt_number": 8
    },
    {
     "cell_type": "code",
     "collapsed": false,
     "input": [
      "print(es_palindromo(u'D\u00e1bale arroz a la zorra el abad.'))"
     ],
     "language": "python",
     "metadata": {},
     "outputs": [
      {
       "output_type": "stream",
       "stream": "stdout",
       "text": [
        "True\n"
       ]
      }
     ],
     "prompt_number": 20
    },
    {
     "cell_type": "markdown",
     "metadata": {},
     "source": [
      "La clave de esta soluci\u00f3n est\u00e1 en el m\u00e9todo `translate` de las cadenas de texto.  Este m\u00e9todo sustituye los caracteres que queramos por los que indiquemos, e incluso puede borrarlos si le decimos que los sustituya por `None`.  La \u00fanica dificultad es que la forma de especificarlo es mediante un diccionario, y nosotros todav\u00eda no hemos visto diccionarios.\n",
      "\n",
      "Veamos un ejemplo de diccionario:"
     ]
    },
    {
     "cell_type": "code",
     "collapsed": false,
     "input": [
      "nacido_en = { 'Paco': 1972, 'Elena': 1982, 'Luis': 2003 }\n",
      "print('Elena naci\u00f3 en', nacido_en['Elena'])"
     ],
     "language": "python",
     "metadata": {},
     "outputs": [
      {
       "output_type": "stream",
       "stream": "stdout",
       "text": [
        "Elena naci\u00f3 en 1982\n"
       ]
      }
     ],
     "prompt_number": 21
    },
    {
     "cell_type": "markdown",
     "metadata": {},
     "source": [
      "La variable `nacido_en` es un diccionario. Un diccionario es un contenedor que guarda parejas *(clave, valor)*.  Es decir, permite asociar a cualquier clave, cualquier valor.  En nuestro ejemplo, al nombre (que se usa como clave) asociamos el a\u00f1o de nacimiento.\n",
      "\n",
      "La funci\u00f3n translate acepta un diccionario, que podr\u00eda ser as\u00ed:"
     ]
    },
    {
     "cell_type": "code",
     "collapsed": false,
     "input": [
      "u'd\u00e1bale arroz a la zorra el abad'.translate({ord(u'\u00e1'):ord('a'), ord(' '): None, '.': None})"
     ],
     "language": "python",
     "metadata": {},
     "outputs": [
      {
       "metadata": {},
       "output_type": "pyout",
       "prompt_number": 11,
       "text": [
        "'dabalearrozalazorraelabad'"
       ]
      }
     ],
     "prompt_number": 11
    },
    {
     "cell_type": "markdown",
     "metadata": {},
     "source": [
      "Evidentemente faltan vocales acentuadas, y caracteres a eliminar, tan solo se pretende que se aprecie la sintaxis.  Como puede verse el diccionario que acepta `translate` cuando se trabaja con caracteres internacionales (Unicode) traduce c\u00f3digos en c\u00f3digos, se necesita llamar a la funci\u00f3n `ord` para obtener el c\u00f3digo de cada caracter.\n",
      "\n",
      "Pero en lugar de llamar continuamente a la funci\u00f3n `ord` se puede usar la funci\u00f3n `map` que aplica la funci\u00f3n que se indique como primer argumento a todos los elementos del segundo. "
     ]
    },
    {
     "cell_type": "code",
     "collapsed": false,
     "input": [
      "map(ord, u'\u00e1\u00e9\u00ed\u00f3\u00fa'), map(ord, 'aeiou')"
     ],
     "language": "python",
     "metadata": {},
     "outputs": [
      {
       "metadata": {},
       "output_type": "pyout",
       "prompt_number": 12,
       "text": [
        "(<map at 0x7f4528886d68>, <map at 0x7f4528886198>)"
       ]
      }
     ],
     "prompt_number": 12
    },
    {
     "cell_type": "markdown",
     "metadata": {},
     "source": [
      "Pero para poder construir un diccionario necesitamos generar las parejas clave-valor.  Eso se puede hacer con `zip` que genera una lista de pares en las que el primer elemento se toma de la primera lista y el segundo de la segunda lista."
     ]
    },
    {
     "cell_type": "code",
     "collapsed": false,
     "input": [
      "zip(map(ord, u'\u00e1\u00e9\u00ed\u00f3\u00fa'), map(ord, 'aeiou'))"
     ],
     "language": "python",
     "metadata": {},
     "outputs": [
      {
       "metadata": {},
       "output_type": "pyout",
       "prompt_number": 13,
       "text": [
        "<zip at 0x7f4528887d88>"
       ]
      }
     ],
     "prompt_number": 13
    },
    {
     "cell_type": "markdown",
     "metadata": {},
     "source": [
      "Una lista de pares no es un diccionario pero se puede construir uno a partir de esta lista simplemente llamando a la funci\u00f3n `dict`."
     ]
    },
    {
     "cell_type": "code",
     "collapsed": false,
     "input": [
      "dict(zip(map(ord, u'\u00e1\u00e9\u00ed\u00f3\u00fa'), map(ord, 'aeiou')))"
     ],
     "language": "python",
     "metadata": {},
     "outputs": [
      {
       "metadata": {},
       "output_type": "pyout",
       "prompt_number": 14,
       "text": [
        "{225: 97, 250: 117, 243: 111, 237: 105, 233: 101}"
       ]
      }
     ],
     "prompt_number": 14
    },
    {
     "cell_type": "markdown",
     "metadata": {},
     "source": [
      "De esta forma hemos generado un diccionario con todas las vocales acentuadas, o con di\u00e9resis, o incluso con tilde inversa (francesa).  Pero todav\u00eda nos falta quitar los elementos que no son letras. \n",
      "\n",
      "Se pueden a\u00f1adir elementos a un diccionario con su m\u00e9todo `update`.  A este m\u00e9todo se le pasa otro diccionario o cualquier cosa que pueda usarse para construir un diccionario.  Por ejemplo podemos usar un diccionario con los c\u00f3digos de los caracteres que queremos eliminar asociados al valor `None`:"
     ]
    },
    {
     "cell_type": "code",
     "collapsed": false,
     "input": [
      "{ord(c):None for c in u'[]\"\\'\u00bf?\u00a1!(),;:.-_= \\t\\n\\r'}"
     ],
     "language": "python",
     "metadata": {},
     "outputs": [
      {
       "metadata": {},
       "output_type": "pyout",
       "prompt_number": 15,
       "text": [
        "{32: None,\n",
        " 161: None,\n",
        " 34: None,\n",
        " 59: None,\n",
        " 13: None,\n",
        " 33: None,\n",
        " 40: None,\n",
        " 41: None,\n",
        " 95: None,\n",
        " 39: None,\n",
        " 44: None,\n",
        " 191: None,\n",
        " 46: None,\n",
        " 45: None,\n",
        " 10: None,\n",
        " 9: None,\n",
        " 61: None,\n",
        " 58: None,\n",
        " 91: None,\n",
        " 93: None,\n",
        " 63: None}"
       ]
      }
     ],
     "prompt_number": 15
    },
    {
     "cell_type": "markdown",
     "metadata": {},
     "source": [
      "Esta notaci\u00f3n se denomina diccionario por comprensi\u00f3n (*dictionary comprehension*) y se utiliza tambi\u00e9n para generar listas (*list comprehensions*) o conjuntos (*set comprehensions*).\n",
      "\n",
      "Ese `for` no es una sentencia, es parte de la expresi\u00f3n.  La sintaxis es clara, repite el patr\u00f3n de la izquierda para cada valor posible del par\u00e1metro formal (lo indicado entre el `for` y el `in`) dentro del rango (cualquier iterable, como una lista, una cadena, o una tupla) definido a la derecha.\n",
      "\n",
      "Te dejo otra vez la soluci\u00f3n propuesta a ver si esta vez se entiende mejor."
     ]
    },
    {
     "cell_type": "code",
     "collapsed": false,
     "input": [
      "def extraer_letras(texto):\n",
      "    trans_tab = dict(zip(map(ord, u'\u00e1\u00e9\u00ed\u00f3\u00fa\u00e0\u00e8\u00ec\u00f2\u00f9\u00fc'), map(ord, 'aeiouaeiouu')))\n",
      "    trans_tab.update({ord(c):None for c in '[]\"\\'\u00bf?\u00a1!(),;:.-_= \\t\\n\\r'})\n",
      "    return texto.lower().translate(trans_tab)"
     ],
     "language": "python",
     "metadata": {},
     "outputs": [],
     "prompt_number": 16
    },
    {
     "cell_type": "code",
     "collapsed": false,
     "input": [
      "print(extraer_letras(u'D\u00e1bale arroz a la zorra el abad.'))"
     ],
     "language": "python",
     "metadata": {},
     "outputs": [
      {
       "output_type": "stream",
       "stream": "stdout",
       "text": [
        "dabalearrozalazorraelabad\n"
       ]
      }
     ],
     "prompt_number": 22
    },
    {
     "cell_type": "code",
     "collapsed": false,
     "input": [],
     "language": "python",
     "metadata": {},
     "outputs": [],
     "prompt_number": 17
    }
   ],
   "metadata": {}
  }
 ]
}