{
 "metadata": {
  "name": "",
  "signature": "sha256:b2eb72af858f625533a4283d7a97af60abaa932a9f38c7425f3083bc173e25db"
 },
 "nbformat": 3,
 "nbformat_minor": 0,
 "worksheets": [
  {
   "cells": [
    {
     "cell_type": "markdown",
     "metadata": {},
     "source": [
      "# Operaciones con listas\n",
      "\n",
      "En este cuaderno veremos una serie de operaciones con listas que resultan muy \u00fatiles en muchos contextos.\n",
      "\n",
      "## Subconjunto de una lista\n",
      "\n",
      "Dadas dos listas `L1` y `L2` se trata de comprobar si `L1` es un subconjunto de la lista `L2`."
     ]
    },
    {
     "cell_type": "code",
     "collapsed": false,
     "input": [
      "def esSubconjunto(L1, L2):\n",
      "    '''Asume L1, L2 listas\n",
      "       Devuelve True si todos los elementos de L1 est\u00e1n en L2\n",
      "       y False en caso contrario'''\n",
      "    for e in L1:\n",
      "        if not e in L2:\n",
      "            return False\n",
      "    return True\n",
      "\n",
      "print esSubconjunto([3,5,7], range(10))\n",
      "print esSubconjunto([3,5,17], range(10))"
     ],
     "language": "python",
     "metadata": {},
     "outputs": [
      {
       "output_type": "stream",
       "stream": "stdout",
       "text": [
        "True\n",
        "False\n"
       ]
      }
     ],
     "prompt_number": 41
    },
    {
     "cell_type": "markdown",
     "metadata": {},
     "source": [
      "## Intersecci\u00f3n de listas\n",
      "\n",
      "Dadas dos listas `L1` y `L2` se trata de determinar la lista de los elementos que est\u00e1n en las dos listas."
     ]
    },
    {
     "cell_type": "code",
     "collapsed": false,
     "input": [
      "def interseccion(L1,L2):\n",
      "    '''Asume L1, L2 listas\n",
      "       Devuelve lista con elementos comunes'''\n",
      "    l = []\n",
      "    for e in L1:\n",
      "        if e in L2:\n",
      "            l.append(e)\n",
      "    return l\n",
      "\n",
      "print interseccion(range(10), range(8,20))"
     ],
     "language": "python",
     "metadata": {},
     "outputs": [
      {
       "output_type": "stream",
       "stream": "stdout",
       "text": [
        "[8, 9]\n"
       ]
      }
     ],
     "prompt_number": 42
    },
    {
     "cell_type": "markdown",
     "metadata": {},
     "source": [
      "O con *list comprehensions*."
     ]
    },
    {
     "cell_type": "code",
     "collapsed": false,
     "input": [
      "def interseccion(L1,L2):\n",
      "    '''Asume L1, L2 listas\n",
      "       Devuelve lista con elementos comunes'''\n",
      "    return [ e for e in L1 if e in L2 ]\n",
      "\n",
      "print interseccion(range(10), range(8,20))"
     ],
     "language": "python",
     "metadata": {},
     "outputs": [
      {
       "output_type": "stream",
       "stream": "stdout",
       "text": [
        "[8, 9]\n"
       ]
      }
     ],
     "prompt_number": 43
    },
    {
     "cell_type": "markdown",
     "metadata": {},
     "source": [
      "## *Powerset*\n",
      "\n",
      "Dada una lista `L`, se define su *powerset* como el conjunto de todas las posibles combinaciones de elementos que podemos hacer con los elementos de `L`.  Por ejemplo, para la lista `[1, 2]` su *powerset* ser\u00eda `[], [1], [2], [1,2]`.\n",
      "\n",
      "Una posible forma de modelar el problema es asociando un bit a cada elemento de `L`. Si el bit est\u00e1 a 0 significa que ese elemento no se toma, si est\u00e1 a 1, significa que s\u00ed se toma. As\u00ed el ejemplo anterior podr\u00eda representarse por los n\u00fameros binarios 00, 01, 10, 11 (en decimal 0, 1, 2, 3).  Es decir, todos los posibles valores de un n\u00famero de 2 bits.  Y todos los valores posibles de n\u00fameros de *n* bits son `range(2**n)`."
     ]
    },
    {
     "cell_type": "code",
     "collapsed": false,
     "input": [
      "def genPowerset(L):\n",
      "    '''Asume L una lista\n",
      "       Devuelve una lista de listas con todas las posibles \n",
      "       combinaciones de los elementos de L'''\n",
      "    powerset = []\n",
      "    for i in range(0, 2**len(L)):\n",
      "        subset = []\n",
      "        for j in range(len(L)):\n",
      "            if isBitSet(i,j):\n",
      "                subset.append(L[j])\n",
      "        powerset.append(subset)\n",
      "    return powerset"
     ],
     "language": "python",
     "metadata": {},
     "outputs": [],
     "prompt_number": 44
    },
    {
     "cell_type": "markdown",
     "metadata": {},
     "source": [
      "Ya solo queda la funci\u00f3n `isBitSet(n, bit)`, que determina si determinado bit est\u00e1 a 0 o a 1 en un n\u00famero `n`.  Para ello podemos crear un n\u00famero que solo tiene el bit deseado a 1 (`1<<bit`) y hacer una operaci\u00f3n *and* bit a bit con `n`.  El resultado ser\u00e1 0 si el bit es 0 o bien `1<<bit` si el bit es 1."
     ]
    },
    {
     "cell_type": "code",
     "collapsed": false,
     "input": [
      "def isBitSet(n, bit):\n",
      "    return 0 != n & (1<<bit)"
     ],
     "language": "python",
     "metadata": {},
     "outputs": [],
     "prompt_number": 45
    },
    {
     "cell_type": "markdown",
     "metadata": {},
     "source": [
      "Si te resulta complicado el uso de las operaciones de bits lee en detalle la segunda parte de este documento."
     ]
    },
    {
     "cell_type": "markdown",
     "metadata": {},
     "source": [
      "# Operaciones con bits\n",
      "\n",
      "Python ofrece una amplia variedad de caracter\u00edsticas para trabajar con los bits de un n\u00famero.  Vamos a ver algunas de ellas.\n",
      "\n",
      "## Sistemas de numeraci\u00f3n posicionales\n",
      "\n",
      "El ordenador trabaja con n\u00fameros almacenados en bits. Cada bit solo puede almacenar un 0 o un 1.  Por tanto si queremos almacenar un n\u00famero m\u00e1s grande tenemos que guardar m\u00e1s de un bit.  Al guardarlos de esta forma se dice que son *codificados en binario*.  As\u00ed, por ejemplo, un 2 se almacenar\u00eda como un 1 en un bit y un 0 en otro. \u00c9stos son todos los n\u00fameros que podemos representar con 2 bits:\n",
      "\n",
      "| N\u00famero |   En binario (2 bits) |\n",
      "|---|---|\n",
      "| 0 | 00 |\n",
      "| 1 | 01 |\n",
      "| 2 | 10 |\n",
      "| 3 | 11 |\n",
      "\n",
      "Es f\u00e1cil calcular lo que vale cada valor representado en un conjunto de `n` bits, siendo $b_0$ el valor del bit m\u00e1s a la derecha y $b_{n-1}$ el valor del bit m\u00e1s a la izquierda.\n",
      "\n",
      "$ v = \\sum\\limits_{i=0}^{n-1} b_i \\cdot 2^i $\n",
      "\n",
      "Puede apreciarse que \u00e9sto es completamente an\u00e1logo al valor de un n\u00famero cualquiera a partir de sus d\u00edgitos decimales $d_i$:\n",
      "\n",
      "$ v = \\sum\\limits_{i=0}^{n-1} d_i \\cdot 10^i $\n",
      "\n",
      "Es decir, que la codificaci\u00f3n binaria no es m\u00e1s que otra posible representaci\u00f3n del mismo n\u00famero, pero que utiliza la base 2 en lugar de la base 10.  Cada cifra puede vales 0 o 1, en lugar de 0 a 9.\n",
      "\n",
      "En ambos casos se trata de un sistema de representaci\u00f3n posicional, y cuando hay duda suele representarse poniendo la base como sufijo:\n",
      "\n",
      "$ 1011_2 = 11_{10} $\n",
      "\n",
      "Por ejemplo:\n",
      "\n",
      "| N\u00famero |   En binario (8 bits) |\n",
      "|--:|--:|\n",
      "| 0 | 00000000$_2$ |\n",
      "| 1 | 00000001$_2$ |\n",
      "| 120 | 01111000$_2$ |\n",
      "| 215 | 11010111$_2$ |\n",
      "\n",
      "Las propiedades de un n\u00famero binario son an\u00e1logas a la de un n\u00famero decimal, pero usando la base 2 en lugar de la 10.  Por ejemplo, dividir por 2 equivale a quitar el d\u00edgito binario menos significativo, multiplicar por 2 equivale a a\u00f1adir un cero a la derecha.\n",
      "\n",
      "## Conversiones de base\n",
      "\n",
      "Pasar de un n\u00famero binario a su valor decimal se puede hacer directamente con la f\u00f3rmula mencionada anteriormente:\n",
      "\n",
      "$ v = \\sum\\limits_{i=0}^{n-1} b_i \\cdot 2^i $\n",
      "\n",
      "Cada d\u00edgito tiene un *peso* de $2^i$ y simplemente hay que sumar los pesos de los d\u00edgitos que son 1.  El peso del bit m\u00e1s a la derecha (bit menos significativo) es 1, el que est\u00e1 inmediatemente a la izquierda de \u00e9ste es 2, el siguiente 4, el siguiente 8, etc.  Por ejemplo $0101_2$ ser\u00eda $1 + 4 = 5$.  Sumamos los pesos del bit 0 o bit menos significativo y el bit 2.\n",
      "\n",
      "Pasar de un n\u00famero decimal a su correspondiente representaci\u00f3n binaria se puede hacer dividiendo sucesivamente por 2 y tomando los restos en orden inverso.  Por ejemplo:\n",
      "\n",
      "| 120 | 2 |\n",
      "|--:|---|\n",
      "| 0 | 60 |\n",
      "\n",
      "| 60 | 2 |\n",
      "|--:|---|\n",
      "| 0 | 30 |\n",
      "\n",
      "| 30 | 2 |\n",
      "|--:|---|\n",
      "| 0 | 15 |\n",
      "\n",
      "| 15 | 2 |\n",
      "|--:|---|\n",
      "| 1 | 7 |\n",
      "\n",
      "| 7 | 2 |\n",
      "|--:|---|\n",
      "| 1 | 3 |\n",
      "\n",
      "| 3 | 2 |\n",
      "|--:|---|\n",
      "| 1 | 1 |\n",
      "\n",
      "| 1 | 2 |\n",
      "|--:|---|\n",
      "| 1 | 0 |\n",
      "\n",
      "Y tomando los restos en orden inverso obtenemos $1111000_2$.\n",
      "\n",
      "## N\u00fameros con signo\n",
      "\n",
      "Recuerda que la memoria de un ordenador solo puede guardar 0 o 1 en cada una de sus celdas elementales (bits). Entonces \u00bfc\u00f3mo almacenamos el signo de los n\u00fameros negativos?  Est\u00e1 claro que tenemos que guardarlo como un 0 o como un 1.  Hay varias formas de hacerlo, veamos las m\u00e1s frecuentes.\n",
      "\n",
      "### Signo-magnitud\n",
      "\n",
      "La forma m\u00e1s simple es reservar un bit (el m\u00e1s significativo normalmente) para representar el signo.  Si ese bit vale 0 el n\u00famero es positivo, si vale 1 el n\u00famero es negativo. Y la magnitud corresponde al resto de los bits, de la misma forma que vimos antes.  \u00c9sta es la forma en la que se representan los n\u00fameros reales en la mayor\u00eda de los ordenadores modernos.\n",
      "\n",
      "| N\u00famero |   Signo-magnitud (8 bits) |\n",
      "|--:|--:|\n",
      "| 0 | 00000000$_2$ |\n",
      "| -1 | 10000001$_2$ |\n",
      "| -15 | 10001111$_2$ |\n",
      "| 120 | 01111000$_2$ |\n",
      "\n",
      "### Complemento a 1\n",
      "\n",
      "La representaci\u00f3n en complemento a 1 tambi\u00e9n tiene un bit m\u00e1s que almacena el signo y tambi\u00e9n en este caso es 0 para los positivos y 1 para los negativos.  Sin embargo en este caso la magnitud de los n\u00fameros negativos se representan como el resultado de invertir todos los bits del valor positivo.  Esta representaci\u00f3n no suele emplearse en los ordenadores modernos, pero es esencial para entender la siguiente\n",
      "\n",
      "| N\u00famero |   Complemento a 1 (8 bits) |\n",
      "|--:|--:|\n",
      "| 0 | 00000000$_2$ |\n",
      "| -1 | 11111110$_2$ |\n",
      "| -15 | 11110000$_2$ |\n",
      "| 120 | 01111000$_2$ |\n",
      "\n",
      "### Complemento a 2\n",
      "\n",
      "El problema de las representaciones anteriores es que el 0 tiene dos representaciones v\u00e1lidas (una con signo positivo y otra con signo negativo).  \u00c9sto es una anomal\u00eda que dificulta las operaciones.  En la representaci\u00f3n en complemento a 2 se utiliza una codificaci\u00f3n que solo tiene una representaci\u00f3n v\u00e1lida del 0 (con signo positivo), y por tanto puede representar un n\u00famero negativo m\u00e1s.\n",
      "\n",
      "Los n\u00fameros positivos se representan como en los dos casos anteriores, con un bit adicional (el m\u00e1s significativo) que sirve para almacenar el signo (0 para los positivos, 1 para los negativos).  Sin embargo los negativos se representan como el resultado de hacer su complemento a 1 y posteriormente sumar 1 al resultado.\n",
      "\n",
      "| N\u00famero |   Complemento a 1 (8 bits) |\n",
      "|--:|--:|\n",
      "| 0 | 00000000$_2$ |\n",
      "| -1 | 11111111$_2$ |\n",
      "| -15 | 11110001$_2$ |\n",
      "| 120 | 01111000$_2$ |\n",
      "\n",
      "Lo interesante de esta representaci\u00f3n es que la suma de n\u00fameros con signo no tiene que tener en cuenta nada especial. El resultado es directamente el que resulta del algoritmo normal que hacemos con l\u00e1piz y papel, solo que usando base 2 en lugar de base 10.  F\u00edjate bien en la representaci\u00f3n del -1, es la que corresponde al -0 en complemento a 1, todos los bits a 1.\n",
      "\n",
      "Tambi\u00e9n se puede expresar con una f\u00f3rmula matem\u00e1tica sencilla. Para un n\u00famero de *n* bits:\n",
      "\n",
      "$ v = -b_{n-1}\\cdot 2^{n-1} + \\sum\\limits_{i=0}^{n-2}b_i\\cdot 2^i$\n",
      "\n",
      "Es decir, el valor es el mismo que en el caso de los n\u00fameros binarios sin signo pero teniendo en cuenta que el peso del bit de signo es negativo.\n",
      "\n",
      "Esta representaci\u00f3n es la que utilizan todos los ordenadores modernos para representar los enteros con signo.  Los enteros de Python se representan en complemento a 2.\n",
      "\n",
      "## Operadores de bits\n",
      "\n",
      "Para manipular bits de forma independiente en Python se utilizan una serie de operadores que realizan operaciones l\u00f3gicas bit a bit. Se realiza la operaci\u00f3n l\u00f3gica con el bit 0 de ambos argumentos y su resultado se representa en el bit 0 del resultado, en paralelo se realiza la misma operaci\u00f3n con el bit 1 de ambos argumentos y su resultado se representa en el bit 1 del resultado, etc.\n",
      "\n",
      "Adem\u00e1s existe un par de operadores que permiten multiplicar o dividir por 2 desplazando un bit a la derecha o a la izquierda, igual que har\u00edamos para multiplicar o dividir por 10 en un n\u00famero expresado en decimal.\n",
      "\n",
      "| Operador |   Funci\u00f3n | Ejemplo |\n",
      "|---|---|---|\n",
      "| `&` | AND de bits |  `37 & 7 == 5` |\n",
      "| &#124; | OR de bits  |  `37` &#124; `7 == 7` |\n",
      "| `^` | XOR de bits |  `37 ^ 7 == 34` |\n",
      "| `~` | NOT de bits |  `~0 == -1` |\n",
      "| `<<` | desplazamiento izda. |  `13 << 4 == 13 * 2**4` |\n",
      "| `>>` | desplazamiento dcha. |  `121 >> 3 == 121 / 2**3` |\n",
      "\n",
      "Es muy habitual que el programador primerizo no sepa cu\u00e1ndo debe emplear cada uno de estos operadores.  Para intentar paliar el problema vamos a dar algunos consejos generales.\n",
      "\n",
      "Los operadores l\u00f3gicos de bits (`&`, `|` y `^`) pueden entenderse como funciones que alteran un valor (el primer par\u00e1metro) de acuerdo a un par\u00e1metro de ajuste (el segundo par\u00e1metro).  \n",
      "\n",
      "As\u00ed el operador `&` (se lee *AND*) sirve para poner ceros, el operador `|` (se lee *OR*) sirve para poner unos, y el operador `^` (se lee XOR) sirve para invertir bits.  El operador `~` (se lee *NOT*) es un caso especial del operador `^` en el que se invierten todos los bits (`~0` es un valor con todo unos, y `~x` equivale a `x ^ ~0`). Veamos algunos ejemplos.\n",
      "\n",
      "Supongamos que tenemos una variable `v` con un valor arbitrario."
     ]
    },
    {
     "cell_type": "code",
     "collapsed": false,
     "input": [
      "v = 85"
     ],
     "language": "python",
     "metadata": {},
     "outputs": [],
     "prompt_number": 46
    },
    {
     "cell_type": "markdown",
     "metadata": {},
     "source": [
      "En ocasiones tendremos necesidad de quedarnos solo con algunos bits y poner el resto a cero.  Por ejemplo, supongamos que queremos quedarnos con los 4 bits menos significativos.  En ese caso tendremos que *poner ceros* en el resto de los bits de `v`, es decir, tenemos que usar un `&` con un valor que tenga a cero todos los bits que queramos poner a cero y a uno todos los bits que queramos mantener como estaban.  En nuestro caso:"
     ]
    },
    {
     "cell_type": "code",
     "collapsed": false,
     "input": [
      "print v & 0b1111"
     ],
     "language": "python",
     "metadata": {},
     "outputs": [
      {
       "output_type": "stream",
       "stream": "stdout",
       "text": [
        "5\n"
       ]
      }
     ],
     "prompt_number": 47
    },
    {
     "cell_type": "markdown",
     "metadata": {},
     "source": [
      "N\u00f3tese que para escribir un n\u00famero en binario en Python se utiliza el prefijo `0b`.  Tambi\u00e9n podemos imprimir su representaci\u00f3n binaria usando la funci\u00f3n `bin`."
     ]
    },
    {
     "cell_type": "code",
     "collapsed": false,
     "input": [
      "print bin(v), bin(v & 0b1111)"
     ],
     "language": "python",
     "metadata": {},
     "outputs": [
      {
       "output_type": "stream",
       "stream": "stdout",
       "text": [
        "0b1010101 0b101\n"
       ]
      }
     ],
     "prompt_number": 48
    },
    {
     "cell_type": "markdown",
     "metadata": {},
     "source": [
      "Supongamos ahora que queremos poner a uno los tres bits menos significativos, independientemente del valor que tenga `v` en un caso concreto.  Para *poner unos* se utiliza el operador `|` con un valor que tenga a uno todos los bits que queremos dejar a uno, y a cero todos los bits que no queremos que cambien."
     ]
    },
    {
     "cell_type": "code",
     "collapsed": false,
     "input": [
      "print bin(v), bin(v | 0b111)"
     ],
     "language": "python",
     "metadata": {},
     "outputs": [
      {
       "output_type": "stream",
       "stream": "stdout",
       "text": [
        "0b1010101 0b1010111\n"
       ]
      }
     ],
     "prompt_number": 49
    },
    {
     "cell_type": "markdown",
     "metadata": {},
     "source": [
      "Supongamos ahora que queremos invertir los bits 3 a 6, ambos incluidos.  Para invertir bits se utiliza el operador `^` con un valor que tenga a uno todos los bits que se desean invertir, y a cero los que no se quieren tocar."
     ]
    },
    {
     "cell_type": "code",
     "collapsed": false,
     "input": [
      "print bin(v), bin(v ^ 0b1111000)"
     ],
     "language": "python",
     "metadata": {},
     "outputs": [
      {
       "output_type": "stream",
       "stream": "stdout",
       "text": [
        "0b1010101 0b101101\n"
       ]
      }
     ],
     "prompt_number": 50
    },
    {
     "cell_type": "markdown",
     "metadata": {},
     "source": [
      "Las operaciones de desplazamiento tambi\u00e9n merecen la pena detenerse un poco.  El desplazamiento a la izquierda es a\u00f1adir ceros a la derecha en la representaci\u00f3n binaria. Es decir, equivale a multiplicar por 2 tantas veces como diga el segundo argumento."
     ]
    },
    {
     "cell_type": "code",
     "collapsed": false,
     "input": [
      "print bin(v), bin(v << 3)"
     ],
     "language": "python",
     "metadata": {},
     "outputs": [
      {
       "output_type": "stream",
       "stream": "stdout",
       "text": [
        "0b1010101 0b1010101000\n"
       ]
      }
     ],
     "prompt_number": 51
    },
    {
     "cell_type": "markdown",
     "metadata": {},
     "source": [
      "El desplazamiento a la derecha es m\u00e1s interesante. Como cabe esperar hace la operaci\u00f3n complementaria al desplazamiento a la izquierda.  Es decir, divide por 2 tantas veces como diga el segundo argumento. En n\u00fameros positivos es equivalente a eliminar los bits menos significativos y rellenar con ceros a la izquierda."
     ]
    },
    {
     "cell_type": "code",
     "collapsed": false,
     "input": [
      "print bin(v), bin(v >> 3)"
     ],
     "language": "python",
     "metadata": {},
     "outputs": [
      {
       "output_type": "stream",
       "stream": "stdout",
       "text": [
        "0b1010101 0b1010\n"
       ]
      }
     ],
     "prompt_number": 52
    },
    {
     "cell_type": "markdown",
     "metadata": {},
     "source": [
      "Con n\u00fameros negativos en complemento a 2 la divisi\u00f3n por 2 funciona de forma similar, con la \u00fanica salvedad de que en lugar de introducir un cero a la izquierda habr\u00eda que introducir un 1 para mantener el signo del n\u00famero.  Prueba con alg\u00fan ejemplo para comprobarlo.\n",
      "\n",
      "Lo interesante de \u00e9sto es que puede generalizarse, la operaci\u00f3n de desplazamiento a la derecha consiste en eliminar los bits menos significativos y reemplazarlos por el valor del bit de signo en la izquierda.  Sin embargo si lo intentamos imprimir directamente no encontraremos la soluci\u00f3n esperada. "
     ]
    },
    {
     "cell_type": "code",
     "collapsed": false,
     "input": [
      "v = -52\n",
      "print bin(v), bin(v >> 3)"
     ],
     "language": "python",
     "metadata": {},
     "outputs": [
      {
       "output_type": "stream",
       "stream": "stdout",
       "text": [
        "-0b110100 -0b111\n"
       ]
      }
     ],
     "prompt_number": 60
    },
    {
     "cell_type": "markdown",
     "metadata": {},
     "source": [
      "El tama\u00f1o de los enteros en Python no es fijo, por lo que el bit de signo se trata de forma especial.  Sin embargo en complemento a 2 el bit de signo se repite en todos los bits m\u00e1s significativos mientras el resto del n\u00famero quepa en los restantes bits.  Por tanto podemos obtener la representaci\u00f3n seleccionando exclusivamente una cantidad razonable de bits menos significativos. Por ejemplo, los 32 bits menos significativos.  Para seleccionar estos bits tenemos que poner ceros en los restantes bits.  Para poner ceros se usa un *AND* con un valor que corresponda a 32 unos.  Los 32 unos pueden obtenerse como `2**32 - 1` o como `(1<<32) - 1`."
     ]
    },
    {
     "cell_type": "code",
     "collapsed": false,
     "input": [
      "v = -52\n",
      "unos = 2**32 - 1\n",
      "print bin(unos)\n",
      "print bin(v & unos), bin((v >> 3) & unos)"
     ],
     "language": "python",
     "metadata": {},
     "outputs": [
      {
       "output_type": "stream",
       "stream": "stdout",
       "text": [
        "0b11111111111111111111111111111111\n",
        "0b11111111111111111111111111001100 0b11111111111111111111111111111001\n"
       ]
      }
     ],
     "prompt_number": 65
    },
    {
     "cell_type": "markdown",
     "metadata": {},
     "source": [
      "## Seleccionar bits de un n\u00famero\n",
      "\n",
      "Un ejercicio interesante es el siguiente.  Hacer una funci\u00f3n `getbits` que extrae un rango de bits de un valor que se pasa como argumento."
     ]
    },
    {
     "cell_type": "code",
     "collapsed": false,
     "input": [
      "def getbits(x, primero, n):\n",
      "    '''Asume x, primero, n enteros, primero >= n - 1\n",
      "       Devuelve n bits de x a partir de la posici\u00f3n primero'''\n",
      "    return (x >> (primero + 1 - n)) & ~(~0 << n)\n",
      "\n",
      "print bin(getbits(v, 6, 3))"
     ],
     "language": "python",
     "metadata": {},
     "outputs": [
      {
       "output_type": "stream",
       "stream": "stdout",
       "text": [
        "0b101\n"
       ]
      }
     ],
     "prompt_number": 54
    },
    {
     "cell_type": "markdown",
     "metadata": {},
     "source": [
      "Para ver c\u00f3mo funciona nada mejor que un ejemplo.  Veamos qu\u00e9 pasar\u00eda si queremos 9 bits a partir del bit 18 del n\u00famero `x`.\n",
      "\n",
      "| 31 | 30 | 29 | 28 | 27 | 26 | 25 | 24 | 23 | 22 | 21 | 20 | 19 | 18 | 17 | 16 | 15 | 14 | 13 | 12 | 11 | 10 | 9 | 8 | 7 | 6 | 5 | 4 | 3 | 2 | 1 | 0 |\n",
      "|:-:|:-:|:-:|:-:|:-:|:-:|:-:|:-:|:-:|:-:|:-:|:-:|:-:|:-:|:-:|:-:|:-:|:-:|:-:|:-:|:-:|:-:|:-:|:-:|:-:|:-:|:-:|:-:|:-:|:-:|:-:|:-:|\n",
      "| **s** | | | | | | | | | | | | | b | b | b | b | b | b | b | b | b | | | | | | | | | | | |\n",
      "\n",
      "El valor de `primero` ser\u00eda 18, y el valor de `n` ser\u00eda 9. El valor de `x` es irrelevante para entender la funci\u00f3n.\n",
      "\n",
      "Lo primero que tenemos que hacer es desplazar `x` a la derecha de manera que los bits que queremos se queden en los bits m\u00e1s bajos.  Es f\u00e1cil comprobar que el n\u00famero de bits a desplazar es `primero - n + 1`.\n",
      "\n",
      "| 31 | 30 | 29 | 28 | 27 | 26 | 25 | 24 | 23 | 22 | 21 | 20 | 19 | 18 | 17 | 16 | 15 | 14 | 13 | 12 | 11 | 10 | 9 | 8 | 7 | 6 | 5 | 4 | 3 | 2 | 1 | 0 |\n",
      "|:-:|:-:|:-:|:-:|:-:|:-:|:-:|:-:|:-:|:-:|:-:|:-:|:-:|:-:|:-:|:-:|:-:|:-:|:-:|:-:|:-:|:-:|:-:|:-:|:-:|:-:|:-:|:-:|:-:|:-:|:-:|:-:|\n",
      "| s | s | s | s | s | s | s | s | s | **s** | | | | | | | | | | | | | | b | b | b | b | b | b | b | b | b |\n",
      "\n",
      "A continuaci\u00f3n hay que seleccionar los `n` bits m\u00e1s bajos.  Es decir, hay que poner a cero todos los bits del resultado que no sean los `n` m\u00e1s bajos.  Para poner ceros hay que usar el operador `&` con un valor que tiene `n` unos en los `n` bits m\u00e1s bajos (que son los que queremos conservar) y a cero todos los dem\u00e1s.\n",
      "\n",
      "Hacer un n\u00famero con `n` en una expresi\u00f3n simple no es inmediato.  Lo m\u00e1s f\u00e1cil es hacer un n\u00famero con `n` ceros en los bits menos significativos y unos en el resto.  Eso es tan simple como `~0 << n`. Ese n\u00famero es justo el contrario al que queremos, as\u00ed que solo tenemos que negarlo otra vez: `~(~0 << n)`. Ese es el n\u00famero con el que tenemos que hacer el *and* bit a bit.\n",
      "\n",
      "| 31 | 30 | 29 | 28 | 27 | 26 | 25 | 24 | 23 | 22 | 21 | 20 | 19 | 18 | 17 | 16 | 15 | 14 | 13 | 12 | 11 | 10 | 9 | 8 | 7 | 6 | 5 | 4 | 3 | 2 | 1 | 0 |\n",
      "|:-:|:-:|:-:|:-:|:-:|:-:|:-:|:-:|:-:|:-:|:-:|:-:|:-:|:-:|:-:|:-:|:-:|:-:|:-:|:-:|:-:|:-:|:-:|:-:|:-:|:-:|:-:|:-:|:-:|:-:|:-:|:-:|\n",
      "| 0 | 0 | 0 | 0 | 0 | 0 | 0 | 0 | 0 | 0 | 0 | 0 | 0 | 0 | 0 | 0 | 0 | 0 | 0 | 0 | 0 | 0 | 0 | b | b | b | b | b | b | b | b | b |\n"
     ]
    }
   ],
   "metadata": {}
  }
 ]
}