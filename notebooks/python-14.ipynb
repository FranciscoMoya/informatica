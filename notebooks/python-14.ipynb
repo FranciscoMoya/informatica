{
 "cells": [
  {
   "cell_type": "markdown",
   "metadata": {},
   "source": [
    "# Operaciones con listas\n",
    "\n",
    "En este cuaderno veremos una serie de operaciones con listas que resultan muy útiles en muchos contextos.\n",
    "\n",
    "## Subconjunto de una lista\n",
    "\n",
    "Dadas dos listas `L1` y `L2` se trata de comprobar si `L1` es un subconjunto de la lista `L2`."
   ]
  },
  {
   "cell_type": "code",
   "execution_count": 1,
   "metadata": {
    "collapsed": false
   },
   "outputs": [
    {
     "name": "stdout",
     "output_type": "stream",
     "text": [
      "True\n",
      "False\n"
     ]
    }
   ],
   "source": [
    "def esSubconjunto(L1, L2):\n",
    "    '''Asume L1, L2 listas\n",
    "       Devuelve True si todos los elementos de L1 están en L2\n",
    "       y False en caso contrario'''\n",
    "    for e in L1:\n",
    "        if not e in L2:\n",
    "            return False\n",
    "    return True\n",
    "\n",
    "print(esSubconjunto([3,5,7], range(10)))\n",
    "print(esSubconjunto([3,5,17], range(10)))"
   ]
  },
  {
   "cell_type": "markdown",
   "metadata": {},
   "source": [
    "## Intersección de listas\n",
    "\n",
    "Dadas dos listas `L1` y `L2` se trata de determinar la lista de los elementos que están en las dos listas."
   ]
  },
  {
   "cell_type": "code",
   "execution_count": 2,
   "metadata": {
    "collapsed": false
   },
   "outputs": [
    {
     "name": "stdout",
     "output_type": "stream",
     "text": [
      "[8, 9]\n"
     ]
    }
   ],
   "source": [
    "def interseccion(L1,L2):\n",
    "    '''Asume L1, L2 listas\n",
    "       Devuelve lista con elementos comunes'''\n",
    "    l = []\n",
    "    for e in L1:\n",
    "        if e in L2:\n",
    "            l.append(e)\n",
    "    return l\n",
    "\n",
    "print(interseccion(range(10), range(8,20)))"
   ]
  },
  {
   "cell_type": "markdown",
   "metadata": {},
   "source": [
    "O con *list comprehensions*."
   ]
  },
  {
   "cell_type": "code",
   "execution_count": 3,
   "metadata": {
    "collapsed": false
   },
   "outputs": [
    {
     "name": "stdout",
     "output_type": "stream",
     "text": [
      "[8, 9]\n"
     ]
    }
   ],
   "source": [
    "def interseccion(L1,L2):\n",
    "    '''Asume L1, L2 listas\n",
    "       Devuelve lista con elementos comunes'''\n",
    "    return [ e for e in L1 if e in L2 ]\n",
    "\n",
    "print(interseccion(range(10), range(8,20)))"
   ]
  },
  {
   "cell_type": "markdown",
   "metadata": {},
   "source": [
    "## *Powerset*\n",
    "\n",
    "Dada una lista `L`, se define su *powerset* como el conjunto de todas las posibles combinaciones de elementos que podemos hacer con los elementos de `L`.  Por ejemplo, para la lista `[1, 2]` su *powerset* sería `[], [1], [2], [1,2]`.\n",
    "\n",
    "Una posible forma de modelar el problema es asociando un bit a cada elemento de `L`. Si el bit está a 0 significa que ese elemento no se toma, si está a 1, significa que sí se toma. Así el ejemplo anterior podría representarse por los números binarios 00, 01, 10, 11 (en decimal 0, 1, 2, 3).  Es decir, todos los posibles valores de un número de 2 bits.  Y todos los valores posibles de números de *n* bits son `range(2**n)`."
   ]
  },
  {
   "cell_type": "code",
   "execution_count": 4,
   "metadata": {
    "collapsed": false
   },
   "outputs": [],
   "source": [
    "def genPowerset(L):\n",
    "    '''Asume L una lista\n",
    "       Devuelve una lista de listas con todas las posibles \n",
    "       combinaciones de los elementos de L'''\n",
    "    powerset = []\n",
    "    for i in range(0, 2**len(L)):\n",
    "        subset = []\n",
    "        for j in range(len(L)):\n",
    "            if isBitSet(i,j):\n",
    "                subset.append(L[j])\n",
    "        powerset.append(subset)\n",
    "    return powerset"
   ]
  },
  {
   "cell_type": "markdown",
   "metadata": {},
   "source": [
    "Ya solo queda la función `isBitSet(n, bit)`, que determina si determinado bit está a 0 o a 1 en un número `n`.  Para ello podemos crear un número que solo tiene el bit deseado a 1 (`1<<bit`) y hacer una operación *and* bit a bit con `n`.  El resultado será 0 si el bit es 0 o bien `1<<bit` si el bit es 1."
   ]
  },
  {
   "cell_type": "code",
   "execution_count": 5,
   "metadata": {
    "collapsed": false
   },
   "outputs": [],
   "source": [
    "def isBitSet(n, bit):\n",
    "    return 0 != n & (1<<bit)"
   ]
  },
  {
   "cell_type": "markdown",
   "metadata": {},
   "source": [
    "Si te resulta complicado el uso de las operaciones de bits lee en detalle la segunda parte de este documento."
   ]
  },
  {
   "cell_type": "markdown",
   "metadata": {},
   "source": [
    "# Operaciones con bits\n",
    "\n",
    "Python ofrece una amplia variedad de características para trabajar con los bits de un número.  Vamos a ver algunas de ellas.\n",
    "\n",
    "## Sistemas de numeración posicionales\n",
    "\n",
    "El ordenador trabaja con números almacenados en bits. Cada bit solo puede almacenar un 0 o un 1.  Por tanto si queremos almacenar un número más grande tenemos que guardar más de un bit.  Al guardarlos de esta forma se dice que son *codificados en binario*.  Así, por ejemplo, un 2 se almacenaría como un 1 en un bit y un 0 en otro. Éstos son todos los números que podemos representar con 2 bits:\n",
    "\n",
    "| Número |   En binario (2 bits) |\n",
    "|---|---|\n",
    "| 0 | 00 |\n",
    "| 1 | 01 |\n",
    "| 2 | 10 |\n",
    "| 3 | 11 |\n",
    "\n",
    "Es fácil calcular lo que vale cada valor representado en un conjunto de `n` bits, siendo $b_0$ el valor del bit más a la derecha y $b_{n-1}$ el valor del bit más a la izquierda.\n",
    "\n",
    "$ v = \\sum\\limits_{i=0}^{n-1} b_i \\cdot 2^i $\n",
    "\n",
    "Puede apreciarse que ésto es completamente análogo al valor de un número cualquiera a partir de sus dígitos decimales $d_i$:\n",
    "\n",
    "$ v = \\sum\\limits_{i=0}^{n-1} d_i \\cdot 10^i $\n",
    "\n",
    "Es decir, que la codificación binaria no es más que otra posible representación del mismo número, pero que utiliza la base 2 en lugar de la base 10.  Cada cifra puede vales 0 o 1, en lugar de 0 a 9.\n",
    "\n",
    "En ambos casos se trata de un sistema de representación posicional, y cuando hay duda suele representarse poniendo la base como sufijo:\n",
    "\n",
    "$ 1011_2 = 11_{10} $\n",
    "\n",
    "Por ejemplo:\n",
    "\n",
    "| Número |   En binario (8 bits) |\n",
    "|--:|--:|\n",
    "| 0 | 00000000$_2$ |\n",
    "| 1 | 00000001$_2$ |\n",
    "| 120 | 01111000$_2$ |\n",
    "| 215 | 11010111$_2$ |\n",
    "\n",
    "Las propiedades de un número binario son análogas a la de un número decimal, pero usando la base 2 en lugar de la 10.  Por ejemplo, dividir por 2 equivale a quitar el dígito binario menos significativo, multiplicar por 2 equivale a añadir un cero a la derecha.\n",
    "\n",
    "## Conversiones de base\n",
    "\n",
    "Pasar de un número binario a su valor decimal se puede hacer directamente con la fórmula mencionada anteriormente:\n",
    "\n",
    "$ v = \\sum\\limits_{i=0}^{n-1} b_i \\cdot 2^i $\n",
    "\n",
    "Cada dígito tiene un *peso* de $2^i$ y simplemente hay que sumar los pesos de los dígitos que son 1.  El peso del bit más a la derecha (bit menos significativo) es 1, el que está inmediatemente a la izquierda de éste es 2, el siguiente 4, el siguiente 8, etc.  Por ejemplo $0101_2$ sería $1 + 4 = 5$.  Sumamos los pesos del bit 0 o bit menos significativo y el bit 2.\n",
    "\n",
    "Pasar de un número decimal a su correspondiente representación binaria se puede hacer dividiendo sucesivamente por 2 y tomando los restos en orden inverso.  Por ejemplo:\n",
    "\n",
    "| 120 | 2 |\n",
    "|--:|---|\n",
    "| 0 | 60 |\n",
    "\n",
    "| 60 | 2 |\n",
    "|--:|---|\n",
    "| 0 | 30 |\n",
    "\n",
    "| 30 | 2 |\n",
    "|--:|---|\n",
    "| 0 | 15 |\n",
    "\n",
    "| 15 | 2 |\n",
    "|--:|---|\n",
    "| 1 | 7 |\n",
    "\n",
    "| 7 | 2 |\n",
    "|--:|---|\n",
    "| 1 | 3 |\n",
    "\n",
    "| 3 | 2 |\n",
    "|--:|---|\n",
    "| 1 | 1 |\n",
    "\n",
    "| 1 | 2 |\n",
    "|--:|---|\n",
    "| 1 | 0 |\n",
    "\n",
    "Y tomando los restos en orden inverso obtenemos $1111000_2$.\n",
    "\n",
    "## Números con signo\n",
    "\n",
    "Recuerda que la memoria de un ordenador solo puede guardar 0 o 1 en cada una de sus celdas elementales (bits). Entonces ¿cómo almacenamos el signo de los números negativos?  Está claro que tenemos que guardarlo como un 0 o como un 1.  Hay varias formas de hacerlo, veamos las más frecuentes.\n",
    "\n",
    "### Signo-magnitud\n",
    "\n",
    "La forma más simple es reservar un bit (el más significativo normalmente) para representar el signo.  Si ese bit vale 0 el número es positivo, si vale 1 el número es negativo. Y la magnitud corresponde al resto de los bits, de la misma forma que vimos antes.  Ésta es la forma en la que se representan los números reales en la mayoría de los ordenadores modernos.\n",
    "\n",
    "| Número |   Signo-magnitud (8 bits) |\n",
    "|--:|--:|\n",
    "| 0 | 00000000$_2$ |\n",
    "| -1 | 10000001$_2$ |\n",
    "| -15 | 10001111$_2$ |\n",
    "| 120 | 01111000$_2$ |\n",
    "\n",
    "### Complemento a 1\n",
    "\n",
    "La representación en complemento a 1 también tiene un bit más que almacena el signo y también en este caso es 0 para los positivos y 1 para los negativos.  Sin embargo en este caso la magnitud de los números negativos se representan como el resultado de invertir todos los bits del valor positivo.  Esta representación no suele emplearse en los ordenadores modernos, pero es esencial para entender la siguiente\n",
    "\n",
    "| Número |   Complemento a 1 (8 bits) |\n",
    "|--:|--:|\n",
    "| 0 | 00000000$_2$ |\n",
    "| -1 | 11111110$_2$ |\n",
    "| -15 | 11110000$_2$ |\n",
    "| 120 | 01111000$_2$ |\n",
    "\n",
    "### Complemento a 2\n",
    "\n",
    "El problema de las representaciones anteriores es que el 0 tiene dos representaciones válidas (una con signo positivo y otra con signo negativo).  Ésto es una anomalía que dificulta las operaciones.  En la representación en complemento a 2 se utiliza una codificación que solo tiene una representación válida del 0 (con signo positivo), y por tanto puede representar un número negativo más.\n",
    "\n",
    "Los números positivos se representan como en los dos casos anteriores, con un bit adicional (el más significativo) que sirve para almacenar el signo (0 para los positivos, 1 para los negativos).  Sin embargo los negativos se representan como el resultado de hacer su complemento a 1 y posteriormente sumar 1 al resultado.\n",
    "\n",
    "| Número |   Complemento a 1 (8 bits) |\n",
    "|--:|--:|\n",
    "| 0 | 00000000$_2$ |\n",
    "| -1 | 11111111$_2$ |\n",
    "| -15 | 11110001$_2$ |\n",
    "| 120 | 01111000$_2$ |\n",
    "\n",
    "Lo interesante de esta representación es que la suma de números con signo no tiene que tener en cuenta nada especial. El resultado es directamente el que resulta del algoritmo normal que hacemos con lápiz y papel, solo que usando base 2 en lugar de base 10.  Fíjate bien en la representación del -1, es la que corresponde al -0 en complemento a 1, todos los bits a 1.\n",
    "\n",
    "También se puede expresar con una fórmula matemática sencilla. Para un número de *n* bits:\n",
    "\n",
    "$ v = -b_{n-1}\\cdot 2^{n-1} + \\sum\\limits_{i=0}^{n-2}b_i\\cdot 2^i$\n",
    "\n",
    "Es decir, el valor es el mismo que en el caso de los números binarios sin signo pero teniendo en cuenta que el peso del bit de signo es negativo.\n",
    "\n",
    "Esta representación es la que utilizan todos los ordenadores modernos para representar los enteros con signo.  Los enteros de Python se representan en complemento a 2.\n",
    "\n",
    "## Operadores de bits\n",
    "\n",
    "Para manipular bits de forma independiente en Python se utilizan una serie de operadores que realizan operaciones lógicas bit a bit. Se realiza la operación lógica con el bit 0 de ambos argumentos y su resultado se representa en el bit 0 del resultado, en paralelo se realiza la misma operación con el bit 1 de ambos argumentos y su resultado se representa en el bit 1 del resultado, etc.\n",
    "\n",
    "Además existe un par de operadores que permiten multiplicar o dividir por 2 desplazando un bit a la derecha o a la izquierda, igual que haríamos para multiplicar o dividir por 10 en un número expresado en decimal.\n",
    "\n",
    "| Operador |   Función | Ejemplo |\n",
    "|---|---|---|\n",
    "| `&` | AND de bits |  `37 & 7 == 5` |\n",
    "| &#124; | OR de bits  |  `37` &#124; `7 == 7` |\n",
    "| `^` | XOR de bits |  `37 ^ 7 == 34` |\n",
    "| `~` | NOT de bits |  `~0 == -1` |\n",
    "| `<<` | desplazamiento izda. |  `13 << 4 == 13 * 2**4` |\n",
    "| `>>` | desplazamiento dcha. |  `121 >> 3 == 121 / 2**3` |\n",
    "\n",
    "Es muy habitual que el programador primerizo no sepa cuándo debe emplear cada uno de estos operadores.  Para intentar paliar el problema vamos a dar algunos consejos generales.\n",
    "\n",
    "Los operadores lógicos de bits (`&`, `|` y `^`) pueden entenderse como funciones que alteran un valor (el primer parámetro) de acuerdo a un parámetro de ajuste (el segundo parámetro).  \n",
    "\n",
    "Así el operador `&` (se lee *AND*) sirve para poner ceros, el operador `|` (se lee *OR*) sirve para poner unos, y el operador `^` (se lee XOR) sirve para invertir bits.  El operador `~` (se lee *NOT*) es un caso especial del operador `^` en el que se invierten todos los bits (`~0` es un valor con todo unos, y `~x` equivale a `x ^ ~0`). Veamos algunos ejemplos.\n",
    "\n",
    "Supongamos que tenemos una variable `v` con un valor arbitrario."
   ]
  },
  {
   "cell_type": "code",
   "execution_count": 6,
   "metadata": {
    "collapsed": false
   },
   "outputs": [],
   "source": [
    "v = 85"
   ]
  },
  {
   "cell_type": "markdown",
   "metadata": {},
   "source": [
    "En ocasiones tendremos necesidad de quedarnos solo con algunos bits y poner el resto a cero.  Por ejemplo, supongamos que queremos quedarnos con los 4 bits menos significativos.  En ese caso tendremos que *poner ceros* en el resto de los bits de `v`, es decir, tenemos que usar un `&` con un valor que tenga a cero todos los bits que queramos poner a cero y a uno todos los bits que queramos mantener como estaban.  En nuestro caso:"
   ]
  },
  {
   "cell_type": "code",
   "execution_count": 8,
   "metadata": {
    "collapsed": false
   },
   "outputs": [
    {
     "name": "stdout",
     "output_type": "stream",
     "text": [
      "5\n"
     ]
    }
   ],
   "source": [
    "print(v & 0b1111)"
   ]
  },
  {
   "cell_type": "markdown",
   "metadata": {},
   "source": [
    "Nótese que para escribir un número en binario en Python se utiliza el prefijo `0b`.  También podemos imprimir su representación binaria usando la función `bin`."
   ]
  },
  {
   "cell_type": "code",
   "execution_count": 9,
   "metadata": {
    "collapsed": false
   },
   "outputs": [
    {
     "name": "stdout",
     "output_type": "stream",
     "text": [
      "0b1010101 0b101\n"
     ]
    }
   ],
   "source": [
    "print(bin(v), bin(v & 0b1111))"
   ]
  },
  {
   "cell_type": "markdown",
   "metadata": {},
   "source": [
    "Supongamos ahora que queremos poner a uno los tres bits menos significativos, independientemente del valor que tenga `v` en un caso concreto.  Para *poner unos* se utiliza el operador `|` con un valor que tenga a uno todos los bits que queremos dejar a uno, y a cero todos los bits que no queremos que cambien."
   ]
  },
  {
   "cell_type": "code",
   "execution_count": 10,
   "metadata": {
    "collapsed": false
   },
   "outputs": [
    {
     "name": "stdout",
     "output_type": "stream",
     "text": [
      "0b1010101 0b1010111\n"
     ]
    }
   ],
   "source": [
    "print(bin(v), bin(v | 0b111))"
   ]
  },
  {
   "cell_type": "markdown",
   "metadata": {},
   "source": [
    "Supongamos ahora que queremos invertir los bits 3 a 6, ambos incluidos.  Para invertir bits se utiliza el operador `^` con un valor que tenga a uno todos los bits que se desean invertir, y a cero los que no se quieren tocar."
   ]
  },
  {
   "cell_type": "code",
   "execution_count": 11,
   "metadata": {
    "collapsed": false
   },
   "outputs": [
    {
     "name": "stdout",
     "output_type": "stream",
     "text": [
      "0b1010101 0b101101\n"
     ]
    }
   ],
   "source": [
    "print(bin(v), bin(v ^ 0b1111000))"
   ]
  },
  {
   "cell_type": "markdown",
   "metadata": {},
   "source": [
    "Las operaciones de desplazamiento también merecen la pena detenerse un poco.  El desplazamiento a la izquierda es añadir ceros a la derecha en la representación binaria. Es decir, equivale a multiplicar por 2 tantas veces como diga el segundo argumento."
   ]
  },
  {
   "cell_type": "code",
   "execution_count": 12,
   "metadata": {
    "collapsed": false
   },
   "outputs": [
    {
     "name": "stdout",
     "output_type": "stream",
     "text": [
      "0b1010101 0b1010101000\n"
     ]
    }
   ],
   "source": [
    "print(bin(v), bin(v << 3))"
   ]
  },
  {
   "cell_type": "markdown",
   "metadata": {},
   "source": [
    "El desplazamiento a la derecha es más interesante. Como cabe esperar hace la operación complementaria al desplazamiento a la izquierda.  Es decir, divide por 2 tantas veces como diga el segundo argumento. En números positivos es equivalente a eliminar los bits menos significativos y rellenar con ceros a la izquierda."
   ]
  },
  {
   "cell_type": "code",
   "execution_count": 13,
   "metadata": {
    "collapsed": false
   },
   "outputs": [
    {
     "name": "stdout",
     "output_type": "stream",
     "text": [
      "0b1010101 0b1010\n"
     ]
    }
   ],
   "source": [
    "print(bin(v), bin(v >> 3))"
   ]
  },
  {
   "cell_type": "markdown",
   "metadata": {},
   "source": [
    "Con números negativos en complemento a 2 la división por 2 funciona de forma similar, con la única salvedad de que en lugar de introducir un cero a la izquierda habría que introducir un 1 para mantener el signo del número.  Prueba con algún ejemplo para comprobarlo.\n",
    "\n",
    "Lo interesante de ésto es que puede generalizarse, la operación de desplazamiento a la derecha consiste en eliminar los bits menos significativos y reemplazarlos por el valor del bit de signo en la izquierda.  Sin embargo si lo intentamos imprimir directamente no encontraremos la solución esperada. "
   ]
  },
  {
   "cell_type": "code",
   "execution_count": 14,
   "metadata": {
    "collapsed": false
   },
   "outputs": [
    {
     "name": "stdout",
     "output_type": "stream",
     "text": [
      "-0b110100 -0b111\n"
     ]
    }
   ],
   "source": [
    "v = -52\n",
    "print(bin(v), bin(v >> 3))"
   ]
  },
  {
   "cell_type": "markdown",
   "metadata": {},
   "source": [
    "El tamaño de los enteros en Python no es fijo, por lo que el bit de signo se trata de forma especial.  Sin embargo en complemento a 2 el bit de signo se repite en todos los bits más significativos mientras el resto del número quepa en los restantes bits.  Por tanto podemos obtener la representación seleccionando exclusivamente una cantidad razonable de bits menos significativos. Por ejemplo, los 32 bits menos significativos.  Para seleccionar estos bits tenemos que poner ceros en los restantes bits.  Para poner ceros se usa un *AND* con un valor que corresponda a 32 unos.  Los 32 unos pueden obtenerse como `2**32 - 1` o como `(1<<32) - 1`."
   ]
  },
  {
   "cell_type": "code",
   "execution_count": 15,
   "metadata": {
    "collapsed": false
   },
   "outputs": [
    {
     "name": "stdout",
     "output_type": "stream",
     "text": [
      "0b11111111111111111111111111111111\n",
      "0b11111111111111111111111111001100 0b11111111111111111111111111111001\n"
     ]
    }
   ],
   "source": [
    "v = -52\n",
    "unos = 2**32 - 1\n",
    "print(bin(unos))\n",
    "print(bin(v & unos), bin((v >> 3) & unos))"
   ]
  },
  {
   "cell_type": "markdown",
   "metadata": {},
   "source": [
    "## Seleccionar bits de un número\n",
    "\n",
    "Un ejercicio interesante es el siguiente.  Hacer una función `getbits` que extrae un rango de bits de un valor que se pasa como argumento."
   ]
  },
  {
   "cell_type": "code",
   "execution_count": 17,
   "metadata": {
    "collapsed": false
   },
   "outputs": [
    {
     "name": "stdout",
     "output_type": "stream",
     "text": [
      "0b100\n"
     ]
    }
   ],
   "source": [
    "def getbits(x, primero, n):\n",
    "    '''Asume x, primero, n enteros, primero >= n - 1\n",
    "       Devuelve n bits de x a partir de la posición primero'''\n",
    "    return (x >> (primero + 1 - n)) & ~(~0 << n)\n",
    "\n",
    "print(bin(getbits(v, 6, 3)))"
   ]
  },
  {
   "cell_type": "markdown",
   "metadata": {},
   "source": [
    "Para ver cómo funciona nada mejor que un ejemplo.  Veamos qué pasaría si queremos 9 bits a partir del bit 18 del número `x`.\n",
    "\n",
    "| 31 | 30 | 29 | 28 | 27 | 26 | 25 | 24 | 23 | 22 | 21 | 20 | 19 | 18 | 17 | 16 | 15 | 14 | 13 | 12 | 11 | 10 | 9 | 8 | 7 | 6 | 5 | 4 | 3 | 2 | 1 | 0 |\n",
    "|:-:|:-:|:-:|:-:|:-:|:-:|:-:|:-:|:-:|:-:|:-:|:-:|:-:|:-:|:-:|:-:|:-:|:-:|:-:|:-:|:-:|:-:|:-:|:-:|:-:|:-:|:-:|:-:|:-:|:-:|:-:|:-:|\n",
    "| **s** | | | | | | | | | | | | | b | b | b | b | b | b | b | b | b | | | | | | | | | | | |\n",
    "\n",
    "El valor de `primero` sería 18, y el valor de `n` sería 9. El valor de `x` es irrelevante para entender la función.\n",
    "\n",
    "Lo primero que tenemos que hacer es desplazar `x` a la derecha de manera que los bits que queremos se queden en los bits más bajos.  Es fácil comprobar que el número de bits a desplazar es `primero - n + 1`.\n",
    "\n",
    "| 31 | 30 | 29 | 28 | 27 | 26 | 25 | 24 | 23 | 22 | 21 | 20 | 19 | 18 | 17 | 16 | 15 | 14 | 13 | 12 | 11 | 10 | 9 | 8 | 7 | 6 | 5 | 4 | 3 | 2 | 1 | 0 |\n",
    "|:-:|:-:|:-:|:-:|:-:|:-:|:-:|:-:|:-:|:-:|:-:|:-:|:-:|:-:|:-:|:-:|:-:|:-:|:-:|:-:|:-:|:-:|:-:|:-:|:-:|:-:|:-:|:-:|:-:|:-:|:-:|:-:|\n",
    "| s | s | s | s | s | s | s | s | s | **s** | | | | | | | | | | | | | | b | b | b | b | b | b | b | b | b |\n",
    "\n",
    "A continuación hay que seleccionar los `n` bits más bajos.  Es decir, hay que poner a cero todos los bits del resultado que no sean los `n` más bajos.  Para poner ceros hay que usar el operador `&` con un valor que tiene `n` unos en los `n` bits más bajos (que son los que queremos conservar) y a cero todos los demás.\n",
    "\n",
    "Hacer un número con `n` en una expresión simple no es inmediato.  Lo más fácil es hacer un número con `n` ceros en los bits menos significativos y unos en el resto.  Eso es tan simple como `~0 << n`. Ese número es justo el contrario al que queremos, así que solo tenemos que negarlo otra vez: `~(~0 << n)`. Ese es el número con el que tenemos que hacer el *and* bit a bit.\n",
    "\n",
    "| 31 | 30 | 29 | 28 | 27 | 26 | 25 | 24 | 23 | 22 | 21 | 20 | 19 | 18 | 17 | 16 | 15 | 14 | 13 | 12 | 11 | 10 | 9 | 8 | 7 | 6 | 5 | 4 | 3 | 2 | 1 | 0 |\n",
    "|:-:|:-:|:-:|:-:|:-:|:-:|:-:|:-:|:-:|:-:|:-:|:-:|:-:|:-:|:-:|:-:|:-:|:-:|:-:|:-:|:-:|:-:|:-:|:-:|:-:|:-:|:-:|:-:|:-:|:-:|:-:|:-:|\n",
    "| 0 | 0 | 0 | 0 | 0 | 0 | 0 | 0 | 0 | 0 | 0 | 0 | 0 | 0 | 0 | 0 | 0 | 0 | 0 | 0 | 0 | 0 | 0 | b | b | b | b | b | b | b | b | b |\n"
   ]
  }
 ],
 "metadata": {
  "kernelspec": {
   "display_name": "Python 3",
   "language": "python",
   "name": "python3"
  },
  "language_info": {
   "codemirror_mode": {
    "name": "ipython",
    "version": 3
   },
   "file_extension": ".py",
   "mimetype": "text/x-python",
   "name": "python",
   "nbconvert_exporter": "python",
   "pygments_lexer": "ipython3",
   "version": "3.5.2"
  }
 },
 "nbformat": 4,
 "nbformat_minor": 0
}
