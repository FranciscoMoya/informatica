{
 "cells": [
  {
   "cell_type": "markdown",
   "metadata": {},
   "source": [
    "# Examen ordinario 2016\n",
    "\n",
    "## Bloque 1. Ejercicios sencillos\n",
    "\n",
    "### Rombo con caracteres ascii\n",
    "\n",
    "Dada la regularidad del dibujo lo más fácil es definir una función para imprimir una línea cualquiera y usarla tantas veces como se necesite."
   ]
  },
  {
   "cell_type": "code",
   "execution_count": 1,
   "metadata": {
    "collapsed": false
   },
   "outputs": [],
   "source": [
    "def imprimir_rombo(n):\n",
    "    assert n % 2 == 0, 'El argumento debe ser par'\n",
    "    assert n >= 2, 'El argumento debe ser mayor o igual a 2'\n",
    "    for i in range(n/2):\n",
    "        imprimir_linea_rombo('/', '\\\\', i, n)\n",
    "    for i in reversed(range(n/2)):\n",
    "        imprimir_linea_rombo('\\\\', '/', i, n)\n",
    "\n",
    "def imprimir_linea_rombo(a,b,i,n):\n",
    "    print ' '*(n/2-i-1)+a+' '*(2*i)+b"
   ]
  },
  {
   "cell_type": "markdown",
   "metadata": {},
   "source": [
    "Vamos a hacer alguna prueba."
   ]
  },
  {
   "cell_type": "code",
   "execution_count": 2,
   "metadata": {
    "collapsed": false
   },
   "outputs": [
    {
     "name": "stdout",
     "output_type": "stream",
     "text": [
      "   /\\\n",
      "  /  \\\n",
      " /    \\\n",
      "/      \\\n",
      "\\      /\n",
      " \\    /\n",
      "  \\  /\n",
      "   \\/\n"
     ]
    }
   ],
   "source": [
    "imprimir_rombo(8)"
   ]
  },
  {
   "cell_type": "markdown",
   "metadata": {},
   "source": [
    "### Suma de fecha y días\n",
    "\n",
    "El cálculo de la nueva fecha es relativamente complicado. Nuestra estrategia es empezar en el día uno del mes sumando el número del día menos uno a los días que hay que sumar.  Una vez en este punto vamos sumando los días de cada mes hasta que ya no nos queden suficientes días que sumar y ese resto se suma al número de día inicial.  De esta forma nos evitamos el problema de tener que corregir una fecha a posteriori."
   ]
  },
  {
   "cell_type": "code",
   "execution_count": 3,
   "metadata": {
    "collapsed": false
   },
   "outputs": [],
   "source": [
    "def sumar_dias(fecha, dias):\n",
    "    dias += fecha[0] - 1\n",
    "    fecha = (1, fecha[1], fecha[2])\n",
    "    while dias > 0:\n",
    "        fecha, dias = sumar_mes(fecha, dias)\n",
    "    return fecha\n",
    "\n",
    "def sumar_mes(fecha, dias):\n",
    "    dm = dias_mes(fecha)\n",
    "    if dm > dias:\n",
    "        return (1+dias,fecha[1],fecha[2]), 0\n",
    "    return siguiente_mes(fecha), dias - dm\n",
    "\n",
    "def dias_mes(fecha):\n",
    "    ndias = [[0,31,28,31,30,31,30,31,31,30,31,30,31],\n",
    "             [0,31,29,31,30,31,30,31,31,30,31,30,31]]\n",
    "    return ndias[es_bisiesto(fecha[2])][fecha[1]]\n",
    "\n",
    "def siguiente_mes(fecha):\n",
    "    if fecha[1] == 12:\n",
    "        return (fecha[0], 1, fecha[2]+1)\n",
    "    return (fecha[0], fecha[1]+1, fecha[2])\n",
    "\n",
    "def es_bisiesto(y):\n",
    "    return y % 400 == 0 or (y % 4 == 0 and y % 100 != 0)"
   ]
  },
  {
   "cell_type": "markdown",
   "metadata": {},
   "source": [
    "Algunas pruebas para verificar que todo funciona como debe."
   ]
  },
  {
   "cell_type": "code",
   "execution_count": 4,
   "metadata": {
    "collapsed": false
   },
   "outputs": [
    {
     "name": "stdout",
     "output_type": "stream",
     "text": [
      "(5, 2, 2016)\n",
      "(22, 1, 2016)\n",
      "(1, 2, 2016)\n",
      "(31, 1, 2016)\n",
      "(21, 1, 2017)\n"
     ]
    }
   ],
   "source": [
    "print sumar_dias((21,1,2016), 15)\n",
    "print sumar_dias((21,1,2016), 1)\n",
    "print sumar_dias((31,1,2016), 1)\n",
    "print sumar_dias((31,1,2016), 0)\n",
    "print sumar_dias((21,1,2016), 366)"
   ]
  },
  {
   "cell_type": "markdown",
   "metadata": {},
   "source": [
    "### Regresión lineal\n",
    "\n",
    "Este ejercicio es aplicación directa de la fórmula, no tiene nada especial."
   ]
  },
  {
   "cell_type": "code",
   "execution_count": 5,
   "metadata": {
    "collapsed": false
   },
   "outputs": [],
   "source": [
    "def regresion_lineal(puntos):\n",
    "    xm = media([p[0] for p in puntos])\n",
    "    ym = media([p[1] for p in puntos])\n",
    "    xy = 0.\n",
    "    xx = 0.\n",
    "    for p in puntos:\n",
    "        xy += (p[0]-xm)*(p[1]-ym)\n",
    "        xx += (p[0]-xm)**2\n",
    "    a = xy/xx\n",
    "    b = ym - a*xm\n",
    "    return a,b\n",
    "\n",
    "def media(l):\n",
    "    return sum(l)/len(l)"
   ]
  },
  {
   "cell_type": "markdown",
   "metadata": {},
   "source": [
    "Verificaremos el ejemplo del enunciado y algún otro."
   ]
  },
  {
   "cell_type": "code",
   "execution_count": 6,
   "metadata": {
    "collapsed": false
   },
   "outputs": [
    {
     "name": "stdout",
     "output_type": "stream",
     "text": [
      "(3.0, 1.0)\n",
      "(1.0, 0.0)\n",
      "(1.0151162790697674, -0.02209302325581408)\n"
     ]
    }
   ],
   "source": [
    "print regresion_lineal([(0.,1.),\n",
    "                        (1.,4.),\n",
    "                        (-1.,-2.)])\n",
    "print regresion_lineal([(1.,1.),\n",
    "                        (2.,2.),\n",
    "                        (8.,8.)])\n",
    "print regresion_lineal([(1.,1.),\n",
    "                        (2.,2.),\n",
    "                        (8.,8.1)])"
   ]
  },
  {
   "cell_type": "markdown",
   "metadata": {},
   "source": [
    "## Bloque 2. Ley D'Hont\n",
    "\n",
    "El algoritmo que se propone en el bloque 2 es muy simple.  Basta calcular la tabla de votos divididos por el número de escaños para cada partido. Las celdas de esa tabla se ordenan de manera que el que pueda pagar más por cada escaño vaya primero. Por último basta coger solo tantas celdas como escaños haya disponibles y contar a quién corresponde cada escaño."
   ]
  },
  {
   "cell_type": "code",
   "execution_count": 7,
   "metadata": {
    "collapsed": false
   },
   "outputs": [],
   "source": [
    "def reparto_d_hont(n, votos):\n",
    "    precios_ordenados = sorted(precios_por_escanno_partido(votos, n),\n",
    "                               key = celda_precio,\n",
    "                               reverse=True)\n",
    "    return cuenta_escannos(precios_ordenados[:n])"
   ]
  },
  {
   "cell_type": "markdown",
   "metadata": {},
   "source": [
    "En esta implementación hemos usado algunas características avanzadas de la función `sorted` pero es simplemente por brevedad. Lo mismo puede conseguirse con una simple función auxiliar y escribiendo las tuplas en el orden adecuado para que las comparaciones se produzcan como queremos.\n",
    "\n",
    "La tabla de precios por escaño y partido, es decir, los votos divididos por número de escaños, la implementamos como una simple lista de tuplas con el nombre del partido y el coste del escaño. Esto facilita enormemente la ordenación."
   ]
  },
  {
   "cell_type": "code",
   "execution_count": 8,
   "metadata": {
    "collapsed": false
   },
   "outputs": [],
   "source": [
    "def precios_por_escanno_partido(votos, n):\n",
    "    precios = []\n",
    "    for partido in votos:\n",
    "        precios += precios_por_escanno(partido, n)\n",
    "    return precios"
   ]
  },
  {
   "cell_type": "markdown",
   "metadata": {},
   "source": [
    "Donde el precio por escaño que podría pagar cada partido, siguiendo la ley de oferta y demanda es simplemente el número de votos dividido por el número de escaños disponibles (que pueden ser entre 1 y `n`).  Es decir: "
   ]
  },
  {
   "cell_type": "code",
   "execution_count": 9,
   "metadata": {
    "collapsed": false
   },
   "outputs": [],
   "source": [
    "def precios_por_escanno(partido, n):\n",
    "    return [ (partido[0], partido[1]/i) for i in range(1,n+1) ]"
   ]
  },
  {
   "cell_type": "markdown",
   "metadata": {},
   "source": [
    "Contar los escaños es simplemente contar cuántas celdas de cada partido han quedado. Por comodidad lo hacemos con un diccionario y lo ordenamos por número decreciente de escaños, como en los resultados electorales oficiales."
   ]
  },
  {
   "cell_type": "code",
   "execution_count": 10,
   "metadata": {
    "collapsed": false
   },
   "outputs": [],
   "source": [
    "def cuenta_escannos(precios):\n",
    "    escannos = {}\n",
    "    for p in precios:\n",
    "        incrementa_cuenta_escannos(escannos, celda_partido(p))\n",
    "    return sorted([(k, escannos[k]) for k in escannos ],\n",
    "                  key = celda_precio,\n",
    "                  reverse = True)"
   ]
  },
  {
   "cell_type": "markdown",
   "metadata": {},
   "source": [
    "Al utilizar un diccionario inicialmente vacío tenemos que tratar de forma especial el caso del escaño inicial. También podríamos haber inicializado el diccionario con todos los partidos y una cuenta inicial a cero."
   ]
  },
  {
   "cell_type": "code",
   "execution_count": 11,
   "metadata": {
    "collapsed": false
   },
   "outputs": [],
   "source": [
    "def incrementa_cuenta_escannos(escannos, partido):\n",
    "    if partido in escannos:\n",
    "        escannos[partido] += 1\n",
    "    else:\n",
    "        escannos[partido] = 1"
   ]
  },
  {
   "cell_type": "markdown",
   "metadata": {},
   "source": [
    "Cada celda contiene el nombre del partido y el precio que puede pagar. Para no llenar el código con índices que son muy propensos a error utilizamos funciones auxiliares que dada una celda devuelve cada uno de sus elementos."
   ]
  },
  {
   "cell_type": "code",
   "execution_count": 12,
   "metadata": {
    "collapsed": false
   },
   "outputs": [],
   "source": [
    "def celda_precio(celda):\n",
    "    return celda[1]\n",
    "\n",
    "def celda_partido(celda):\n",
    "    return celda[0]"
   ]
  },
  {
   "cell_type": "markdown",
   "metadata": {},
   "source": [
    "Solo falta probar. Haremos dos casos de prueba, el del enunciado y los resultados de Madrid de las últimas elecciones generales."
   ]
  },
  {
   "cell_type": "code",
   "execution_count": 13,
   "metadata": {
    "collapsed": false
   },
   "outputs": [
    {
     "name": "stdout",
     "output_type": "stream",
     "text": [
      "[('A', 5), ('B', 4), ('C', 2), ('D', 1)]\n",
      "[('PP', 13), ('Podemos', 8), ('Cs', 7), ('PSOE', 6), ('Unidad Popular en Comun', 2)]\n"
     ]
    }
   ],
   "source": [
    "print reparto_d_hont(12,\n",
    "                     [('A', 4000000),\n",
    "                      ('B', 3500000),\n",
    "                      ('C', 2000000),\n",
    "                      ('D', 1500000)])\n",
    "\n",
    "print reparto_d_hont(36,\n",
    "                     [('PP', 1203837),\n",
    "                      ('Podemos', 750477),\n",
    "                      ('Cs', 676389),\n",
    "                      ('PSOE', 643158),\n",
    "                      ('Unidad Popular en Comun', 189237),\n",
    "                      ('UPyD', 43103),\n",
    "                      ('PACMA', 28302),\n",
    "                      ('VOX', 22441),\n",
    "                      ('X La Izquierda-Los Verdes', 5007),\n",
    "                      ('FE de las JONS', 4688),\n",
    "                      ('Recortes Cero-Grupo Verde', 4009),\n",
    "                      ('PUM+J', 2832),\n",
    "                      ('PH', 1848),\n",
    "                      ('PCPE', 1730),\n",
    "                      ('SAIn', 1229),\n",
    "                      ('P-LIB', 1053)])"
   ]
  },
  {
   "cell_type": "markdown",
   "metadata": {},
   "source": [
    "# Recuperación de prueba de progreso 2016\n",
    "\n",
    "## Vocales a números\n",
    "\n",
    "Es muy parecido a `codigo_cesar` de la práctica 2."
   ]
  },
  {
   "cell_type": "code",
   "execution_count": 14,
   "metadata": {
    "collapsed": false
   },
   "outputs": [],
   "source": [
    "def vocales_a_numeros(s):\n",
    "    return ''.join([letra_transformada(c) for c in s])\n",
    "\n",
    "def letra_transformada(c):\n",
    "    vocales = 'aeioAEIO'\n",
    "    numeros = '43104310'\n",
    "    if c in vocales:\n",
    "        return numeros[vocales.index(c)]\n",
    "    return c"
   ]
  },
  {
   "cell_type": "markdown",
   "metadata": {},
   "source": [
    "Vamos a probar lo del enunciado."
   ]
  },
  {
   "cell_type": "code",
   "execution_count": 15,
   "metadata": {
    "collapsed": false
   },
   "outputs": [
    {
     "name": "stdout",
     "output_type": "stream",
     "text": [
      "3x4m3n\n"
     ]
    }
   ],
   "source": [
    "print vocales_a_numeros('Examen')"
   ]
  },
  {
   "cell_type": "markdown",
   "metadata": {},
   "source": [
    "## Iniciales\n",
    "\n",
    "Simple manipulación de cadenas. Eliminamos todo lo que no sean letras porque no serían iniciales. Eso no se indica en el enunciado, por lo que se consideraría válido aunque no se haga."
   ]
  },
  {
   "cell_type": "code",
   "execution_count": 16,
   "metadata": {
    "collapsed": false
   },
   "outputs": [],
   "source": [
    "def iniciales(s):\n",
    "    palabras = normalizar_cadena(s).split(' ')\n",
    "    return ''.join([p[0] for p in palabras if len(p) > 0])\n",
    "\n",
    "def normalizar_cadena(s):\n",
    "    return ''.join([noletra_a_espacio(c) for c in s])\n",
    "\n",
    "import string\n",
    "\n",
    "def noletra_a_espacio(c):\n",
    "    transtab = dict(zip(u'ÁÉÍÓÚÜáéíóúü','AEIOUUaeiouu'))\n",
    "    if c in transtab:\n",
    "        return transtab[c]                        \n",
    "    validas=string.letters + u'Ññ'\n",
    "    if c in validas:\n",
    "        return c\n",
    "    return ' '"
   ]
  },
  {
   "cell_type": "code",
   "execution_count": 17,
   "metadata": {
    "collapsed": false
   },
   "outputs": [
    {
     "name": "stdout",
     "output_type": "stream",
     "text": [
      "Npmmamt\n"
     ]
    }
   ],
   "source": [
    "print iniciales('No por mucho madrugar,amanece mas temprano')"
   ]
  },
  {
   "cell_type": "markdown",
   "metadata": {},
   "source": [
    "## Traza de una matriz cuadrada\n",
    "\n",
    "Es trivial con una *list comprehension*."
   ]
  },
  {
   "cell_type": "code",
   "execution_count": 18,
   "metadata": {
    "collapsed": false
   },
   "outputs": [],
   "source": [
    "def traza(m):\n",
    "    return sum([m[i][i] for i in range(len(m))])"
   ]
  },
  {
   "cell_type": "code",
   "execution_count": 19,
   "metadata": {
    "collapsed": false
   },
   "outputs": [
    {
     "name": "stdout",
     "output_type": "stream",
     "text": [
      "15\n",
      "3\n"
     ]
    }
   ],
   "source": [
    "print traza([[1,2,3],[4,5,6],[7,8,9]])\n",
    "print traza([[1,0,0],[0,1,0],[0,0,1]])"
   ]
  },
  {
   "cell_type": "markdown",
   "metadata": {},
   "source": [
    "## Opciones de compra\n",
    "\n",
    "Básicamente consiste en filtrar las combinaciones de `precios` tomados de dos en dos.  Es decir, el grueso del trabajo es conseguir estas combinaciones.\n",
    "\n",
    "Las combinaciones las generamos con una simple función recursiva.  Las diferentes combinaciones de `precios` tomados de `n` en `n` es, para el caso general, la lista de las combinaciones que empiezan por el primer elemento de `precios` mas la lista de las combinaciones que no empiezan por el primer elemento de `precios`. El primer término consiste en la lista de los elementos que contienen al primero y además a `n-1` elementos del resto, es decir, `combinaciones_n(precios[1:], n-1)`.  El segundo término es directamente `combinaciones_n(precios[1:], n)`.\n",
    "\n",
    "El caso base lo constituyen los dos casos extremos. Cuando `n` coincide con la longitud de `precios`, en cuyo caso no hay nada que elegir, es toda la lista. Y cuando `n` es uno en cuyo caso solo hay que convertir cada elemento en una lista para generar la respuesta."
   ]
  },
  {
   "cell_type": "code",
   "execution_count": 20,
   "metadata": {
    "collapsed": false
   },
   "outputs": [],
   "source": [
    "def opciones_de_compra(precios, n, total):\n",
    "    return [ c for c in combinaciones_n(precios, n) if sum(c) <= total ]\n",
    "\n",
    "def combinaciones_n(precios, n):\n",
    "    if len(precios) == n:\n",
    "        return [ precios ]\n",
    "    if n == 1:\n",
    "        return [ [x] for x in precios ]\n",
    "    return [ [precios[0]] + i for i in combinaciones_n(precios[1:], n-1)] \\\n",
    "        + combinaciones_n(precios[1:], n)"
   ]
  },
  {
   "cell_type": "code",
   "execution_count": 21,
   "metadata": {
    "collapsed": false
   },
   "outputs": [
    {
     "name": "stdout",
     "output_type": "stream",
     "text": [
      "[[2, 1], [2, 3], [5, 1], [1, 3]]\n",
      "[]\n"
     ]
    }
   ],
   "source": [
    "print opciones_de_compra([2,5,1,3],2,6)\n",
    "print opciones_de_compra([3,5,2],2,4)"
   ]
  }
 ],
 "metadata": {
  "kernelspec": {
   "display_name": "Python 3",
   "language": "python",
   "name": "python3"
  },
  "language_info": {
   "codemirror_mode": {
    "name": "ipython",
    "version": 3
   },
   "file_extension": ".py",
   "mimetype": "text/x-python",
   "name": "python",
   "nbconvert_exporter": "python",
   "pygments_lexer": "ipython3",
   "version": "3.5.2"
  }
 },
 "nbformat": 4,
 "nbformat_minor": 0
}
