{
 "metadata": {
  "name": "",
  "signature": "sha256:630cca1349ac125a5c373dc3a88ec61da00356a2ab546e66b990f454d2db034e"
 },
 "nbformat": 3,
 "nbformat_minor": 0,
 "worksheets": [
  {
   "cells": [
    {
     "cell_type": "code",
     "collapsed": false,
     "input": [
      "def imprimir_hex(n):\n",
      "    top(n)\n",
      "    for i in range(n-1):\n",
      "        upper(n,i)\n",
      "    for i in range(n-1):\n",
      "        lower(n,i)\n",
      "    bottom(n)\n",
      "    \n",
      "def top(n):\n",
      "    print ' '*n + '_'*n\n",
      "    print ' '*(n-1) + '/' + ' '*n + '\\\\'\n",
      "\n",
      "def bottom(n):\n",
      "    print ' '*(n-1) + '\\\\' + '_'*n + '/'\n",
      "\n",
      "def upper(n, i):\n",
      "    print ' '*(n-2-i) + '/' + ' '*(n+2+2*i) + '\\\\'\n",
      "\n",
      "def lower(n, i):\n",
      "    print ' '*i + '\\\\' + ' '*(n + 2*(n-i-1)) + '/'\n"
     ],
     "language": "python",
     "metadata": {},
     "outputs": [],
     "prompt_number": 28
    },
    {
     "cell_type": "code",
     "collapsed": false,
     "input": [
      "imprimir_hex(4)\n",
      "imprimir_hex(3)\n",
      "imprimir_hex(2)"
     ],
     "language": "python",
     "metadata": {},
     "outputs": [
      {
       "output_type": "stream",
       "stream": "stdout",
       "text": [
        "    ____\n",
        "   /    \\\n",
        "  /      \\\n",
        " /        \\\n",
        "/          \\\n",
        "\\          /\n",
        " \\        /\n",
        "  \\      /\n",
        "   \\____/\n",
        "   ___\n",
        "  /   \\\n",
        " /     \\\n",
        "/       \\\n",
        "\\       /\n",
        " \\     /\n",
        "  \\___/\n",
        "  __\n",
        " /  \\\n",
        "/    \\\n",
        "\\    /\n",
        " \\__/\n"
       ]
      }
     ],
     "prompt_number": 30
    },
    {
     "cell_type": "code",
     "collapsed": false,
     "input": [
      "def frequent_browsers(path):\n",
      "    with open(path,'r') as f:\n",
      "        return [ x for x in browsers(f) if x[1] > 5. ]\n",
      "\n",
      "def browsers(f):\n",
      "    count = {}\n",
      "    for linea in f:\n",
      "        sid = extract_browser(linea)\n",
      "        if sid in count:\n",
      "            count[sid] += 1\n",
      "        else:\n",
      "            count[sid] = 1\n",
      "    total = sum([count[x] for x in count])\n",
      "    return sorted([ (x, 100.*count[x]/total) for x in count ], \n",
      "                  key = lambda x: x[1], reverse=True)\n",
      "\n",
      "def extract_browser(l):\n",
      "    return l.split('\"')[5]"
     ],
     "language": "python",
     "metadata": {},
     "outputs": [],
     "prompt_number": 56
    },
    {
     "cell_type": "code",
     "collapsed": false,
     "input": [
      "frequent_browsers('access.log')"
     ],
     "language": "python",
     "metadata": {},
     "outputs": [
      {
       "metadata": {},
       "output_type": "pyout",
       "prompt_number": 57,
       "text": [
        "[('Mozilla/5.0 (Windows NT 6.1; WOW64) AppleWebKit/537.36 (KHTML, like Gecko) Chrome/36.0.1985.143 Safari/537.36',\n",
        "  16.0),\n",
        " ('Mozilla/5.0 (iPhone; CPU iPhone OS 5_0 like Mac OS X) AppleWebKit/534.46 (KHTML, like Gecko) Version/5.1 Mobile/9A334 Safari/7534.48.3',\n",
        "  16.0),\n",
        " ('Mozilla/5.0 (Windows NT 10.0; WOW64; rv:47.0) Gecko/20100101 Firefox/47.0',\n",
        "  8.0)]"
       ]
      }
     ],
     "prompt_number": 57
    },
    {
     "cell_type": "code",
     "collapsed": false,
     "input": [
      "from math import sqrt, log, ceil\n",
      "\n",
      "def butterworth(Hp,Ha,Wp,Wa):\n",
      "    n = orden(Hp,Ha,Wp,Wa)\n",
      "    Wc = fcorte(n, Hp, Wp)\n",
      "    return (n, Wc)\n",
      "\n",
      "def orden(Hp,Ha,Wp,Wa):\n",
      "    Kd = sqrt((1./Hp**2 - 1)/(1./Ha**2 - 1))\n",
      "    Ks = float(Wp) / Wa\n",
      "    n = log(Kd)/log(Ks)\n",
      "    return int(ceil(n))\n",
      "\n",
      "def fcorte(n, Hp, Wp):\n",
      "    return Wp/((1./Hp**2 - 1)**(1./(2*n)))\n"
     ],
     "language": "python",
     "metadata": {},
     "outputs": [],
     "prompt_number": 1
    },
    {
     "cell_type": "code",
     "collapsed": false,
     "input": [
      "print butterworth(0.9, 0.1, 1e4, 1.1e4)"
     ],
     "language": "python",
     "metadata": {},
     "outputs": [
      {
       "output_type": "stream",
       "stream": "stdout",
       "text": [
        "(32, 10229.150147595657)\n"
       ]
      }
     ],
     "prompt_number": 2
    },
    {
     "cell_type": "code",
     "collapsed": false,
     "input": [
      "def pi_leibniz(n):\n",
      "    suma = 0.\n",
      "    for i in range(n):\n",
      "        termino = 1./(2*i + 1)\n",
      "        suma += termino if i%2 == 0 else -termino\n",
      "    return 4.*suma"
     ],
     "language": "python",
     "metadata": {},
     "outputs": [],
     "prompt_number": 66
    },
    {
     "cell_type": "code",
     "collapsed": false,
     "input": [
      "print pi_leibniz(100000)"
     ],
     "language": "python",
     "metadata": {},
     "outputs": [
      {
       "output_type": "stream",
       "stream": "stdout",
       "text": [
        "3.14158265359\n"
       ]
      }
     ],
     "prompt_number": 70
    },
    {
     "cell_type": "code",
     "collapsed": false,
     "input": [
      "def mediana(values):\n",
      "    v = sorted(values)\n",
      "    l = len(values)\n",
      "    if l % 2 == 0:\n",
      "        return .5*(v[l/2 - 1] + v[l/2])\n",
      "    return v[l/2]"
     ],
     "language": "python",
     "metadata": {},
     "outputs": [],
     "prompt_number": 71
    },
    {
     "cell_type": "code",
     "collapsed": false,
     "input": [
      "print mediana(range(9))\n",
      "print mediana(range(10))"
     ],
     "language": "python",
     "metadata": {},
     "outputs": [
      {
       "output_type": "stream",
       "stream": "stdout",
       "text": [
        "4\n",
        "4.5\n"
       ]
      }
     ],
     "prompt_number": 72
    },
    {
     "cell_type": "code",
     "collapsed": false,
     "input": [
      "def validar_tarjeta(n):\n",
      "    d = [int(x) for x in n]\n",
      "    for i in range(0,16,2):\n",
      "        d[i] *= 2\n",
      "        if d[i] > 9:\n",
      "            d[i] -= 9\n",
      "    return sum(d) % d[15] == 0"
     ],
     "language": "python",
     "metadata": {},
     "outputs": [],
     "prompt_number": 77
    },
    {
     "cell_type": "code",
     "collapsed": false,
     "input": [
      "print validar_tarjeta('4506252639731006')\n",
      "print validar_tarjeta('4578463073273942')"
     ],
     "language": "python",
     "metadata": {},
     "outputs": [
      {
       "output_type": "stream",
       "stream": "stdout",
       "text": [
        "False\n",
        "True\n"
       ]
      }
     ],
     "prompt_number": 81
    },
    {
     "cell_type": "code",
     "collapsed": false,
     "input": [],
     "language": "python",
     "metadata": {},
     "outputs": []
    }
   ],
   "metadata": {}
  }
 ]
}