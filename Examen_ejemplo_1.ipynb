{
  "nbformat": 4,
  "nbformat_minor": 0,
  "metadata": {
    "colab": {
      "name": "Examen_ejemplo_1.ipynb",
      "provenance": [],
      "authorship_tag": "ABX9TyM4ZSO6dyYvJO446LDwl/gg",
      "include_colab_link": true
    },
    "kernelspec": {
      "name": "python3",
      "display_name": "Python 3"
    }
  },
  "cells": [
    {
      "cell_type": "markdown",
      "metadata": {
        "id": "view-in-github",
        "colab_type": "text"
      },
      "source": [
        "<a href=\"https://colab.research.google.com/github/FranciscoMoya/informatica/blob/master/Examen_ejemplo_1.ipynb\" target=\"_parent\"><img src=\"https://colab.research.google.com/assets/colab-badge.svg\" alt=\"Open In Colab\"/></a>"
      ]
    },
    {
      "cell_type": "markdown",
      "metadata": {
        "id": "T-uT3cC1O8oz"
      },
      "source": [
        "# Examen de ejemplo 1\r\n",
        "\r\n"
      ]
    }
  ]
}